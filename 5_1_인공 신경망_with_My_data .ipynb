{
  "nbformat": 4,
  "nbformat_minor": 0,
  "metadata": {
    "colab": {
      "name": "Untitled7.ipynb",
      "provenance": [],
      "toc_visible": true,
      "authorship_tag": "ABX9TyM5nzYum6BLuv7Ab8ZoFeTa",
      "include_colab_link": true
    },
    "kernelspec": {
      "name": "python3",
      "display_name": "Python 3"
    },
    "accelerator": "GPU",
    "widgets": {
      "application/vnd.jupyter.widget-state+json": {
        "2e782669fbe447c79e1b2d7c85c7827a": {
          "model_module": "@jupyter-widgets/controls",
          "model_name": "HBoxModel",
          "state": {
            "_view_name": "HBoxView",
            "_dom_classes": [],
            "_model_name": "HBoxModel",
            "_view_module": "@jupyter-widgets/controls",
            "_model_module_version": "1.5.0",
            "_view_count": null,
            "_view_module_version": "1.5.0",
            "box_style": "",
            "layout": "IPY_MODEL_d7e6e8fee593484cab11e15ff55f4ad3",
            "_model_module": "@jupyter-widgets/controls",
            "children": [
              "IPY_MODEL_fbb05a8a7d3a4edeb9e7c29f47e23b9d",
              "IPY_MODEL_2ffee25e2e4b47f38169d6dcb9d56924"
            ]
          }
        },
        "d7e6e8fee593484cab11e15ff55f4ad3": {
          "model_module": "@jupyter-widgets/base",
          "model_name": "LayoutModel",
          "state": {
            "_view_name": "LayoutView",
            "grid_template_rows": null,
            "right": null,
            "justify_content": null,
            "_view_module": "@jupyter-widgets/base",
            "overflow": null,
            "_model_module_version": "1.2.0",
            "_view_count": null,
            "flex_flow": null,
            "width": null,
            "min_width": null,
            "border": null,
            "align_items": null,
            "bottom": null,
            "_model_module": "@jupyter-widgets/base",
            "top": null,
            "grid_column": null,
            "overflow_y": null,
            "overflow_x": null,
            "grid_auto_flow": null,
            "grid_area": null,
            "grid_template_columns": null,
            "flex": null,
            "_model_name": "LayoutModel",
            "justify_items": null,
            "grid_row": null,
            "max_height": null,
            "align_content": null,
            "visibility": null,
            "align_self": null,
            "height": null,
            "min_height": null,
            "padding": null,
            "grid_auto_rows": null,
            "grid_gap": null,
            "max_width": null,
            "order": null,
            "_view_module_version": "1.2.0",
            "grid_template_areas": null,
            "object_position": null,
            "object_fit": null,
            "grid_auto_columns": null,
            "margin": null,
            "display": null,
            "left": null
          }
        },
        "fbb05a8a7d3a4edeb9e7c29f47e23b9d": {
          "model_module": "@jupyter-widgets/controls",
          "model_name": "IntProgressModel",
          "state": {
            "_view_name": "ProgressView",
            "style": "IPY_MODEL_13889db1602f45c98a53842eff3ff929",
            "_dom_classes": [],
            "description": "",
            "_model_name": "IntProgressModel",
            "bar_style": "success",
            "max": 1,
            "_view_module": "@jupyter-widgets/controls",
            "_model_module_version": "1.5.0",
            "value": 1,
            "_view_count": null,
            "_view_module_version": "1.5.0",
            "orientation": "horizontal",
            "min": 0,
            "description_tooltip": null,
            "_model_module": "@jupyter-widgets/controls",
            "layout": "IPY_MODEL_df51fbd7b73f47ea9d8b326d6bdfc839"
          }
        },
        "2ffee25e2e4b47f38169d6dcb9d56924": {
          "model_module": "@jupyter-widgets/controls",
          "model_name": "HTMLModel",
          "state": {
            "_view_name": "HTMLView",
            "style": "IPY_MODEL_1808155ed8df4b3c9b32c13e324b5fec",
            "_dom_classes": [],
            "description": "",
            "_model_name": "HTMLModel",
            "placeholder": "​",
            "_view_module": "@jupyter-widgets/controls",
            "_model_module_version": "1.5.0",
            "value": " 9920512/? [00:03&lt;00:00, 2847458.29it/s]",
            "_view_count": null,
            "_view_module_version": "1.5.0",
            "description_tooltip": null,
            "_model_module": "@jupyter-widgets/controls",
            "layout": "IPY_MODEL_a557272e4d5a415cab01d5681cd832ab"
          }
        },
        "13889db1602f45c98a53842eff3ff929": {
          "model_module": "@jupyter-widgets/controls",
          "model_name": "ProgressStyleModel",
          "state": {
            "_view_name": "StyleView",
            "_model_name": "ProgressStyleModel",
            "description_width": "initial",
            "_view_module": "@jupyter-widgets/base",
            "_model_module_version": "1.5.0",
            "_view_count": null,
            "_view_module_version": "1.2.0",
            "bar_color": null,
            "_model_module": "@jupyter-widgets/controls"
          }
        },
        "df51fbd7b73f47ea9d8b326d6bdfc839": {
          "model_module": "@jupyter-widgets/base",
          "model_name": "LayoutModel",
          "state": {
            "_view_name": "LayoutView",
            "grid_template_rows": null,
            "right": null,
            "justify_content": null,
            "_view_module": "@jupyter-widgets/base",
            "overflow": null,
            "_model_module_version": "1.2.0",
            "_view_count": null,
            "flex_flow": null,
            "width": null,
            "min_width": null,
            "border": null,
            "align_items": null,
            "bottom": null,
            "_model_module": "@jupyter-widgets/base",
            "top": null,
            "grid_column": null,
            "overflow_y": null,
            "overflow_x": null,
            "grid_auto_flow": null,
            "grid_area": null,
            "grid_template_columns": null,
            "flex": null,
            "_model_name": "LayoutModel",
            "justify_items": null,
            "grid_row": null,
            "max_height": null,
            "align_content": null,
            "visibility": null,
            "align_self": null,
            "height": null,
            "min_height": null,
            "padding": null,
            "grid_auto_rows": null,
            "grid_gap": null,
            "max_width": null,
            "order": null,
            "_view_module_version": "1.2.0",
            "grid_template_areas": null,
            "object_position": null,
            "object_fit": null,
            "grid_auto_columns": null,
            "margin": null,
            "display": null,
            "left": null
          }
        },
        "1808155ed8df4b3c9b32c13e324b5fec": {
          "model_module": "@jupyter-widgets/controls",
          "model_name": "DescriptionStyleModel",
          "state": {
            "_view_name": "StyleView",
            "_model_name": "DescriptionStyleModel",
            "description_width": "",
            "_view_module": "@jupyter-widgets/base",
            "_model_module_version": "1.5.0",
            "_view_count": null,
            "_view_module_version": "1.2.0",
            "_model_module": "@jupyter-widgets/controls"
          }
        },
        "a557272e4d5a415cab01d5681cd832ab": {
          "model_module": "@jupyter-widgets/base",
          "model_name": "LayoutModel",
          "state": {
            "_view_name": "LayoutView",
            "grid_template_rows": null,
            "right": null,
            "justify_content": null,
            "_view_module": "@jupyter-widgets/base",
            "overflow": null,
            "_model_module_version": "1.2.0",
            "_view_count": null,
            "flex_flow": null,
            "width": null,
            "min_width": null,
            "border": null,
            "align_items": null,
            "bottom": null,
            "_model_module": "@jupyter-widgets/base",
            "top": null,
            "grid_column": null,
            "overflow_y": null,
            "overflow_x": null,
            "grid_auto_flow": null,
            "grid_area": null,
            "grid_template_columns": null,
            "flex": null,
            "_model_name": "LayoutModel",
            "justify_items": null,
            "grid_row": null,
            "max_height": null,
            "align_content": null,
            "visibility": null,
            "align_self": null,
            "height": null,
            "min_height": null,
            "padding": null,
            "grid_auto_rows": null,
            "grid_gap": null,
            "max_width": null,
            "order": null,
            "_view_module_version": "1.2.0",
            "grid_template_areas": null,
            "object_position": null,
            "object_fit": null,
            "grid_auto_columns": null,
            "margin": null,
            "display": null,
            "left": null
          }
        },
        "7462565f43164b5aa5681d3c44200764": {
          "model_module": "@jupyter-widgets/controls",
          "model_name": "HBoxModel",
          "state": {
            "_view_name": "HBoxView",
            "_dom_classes": [],
            "_model_name": "HBoxModel",
            "_view_module": "@jupyter-widgets/controls",
            "_model_module_version": "1.5.0",
            "_view_count": null,
            "_view_module_version": "1.5.0",
            "box_style": "",
            "layout": "IPY_MODEL_9872940b24bc40c4a62dcfd0719d4053",
            "_model_module": "@jupyter-widgets/controls",
            "children": [
              "IPY_MODEL_c4388c4093e340fab3ba891b3b1e866f",
              "IPY_MODEL_e797823108e94a1e950ede7056bef375"
            ]
          }
        },
        "9872940b24bc40c4a62dcfd0719d4053": {
          "model_module": "@jupyter-widgets/base",
          "model_name": "LayoutModel",
          "state": {
            "_view_name": "LayoutView",
            "grid_template_rows": null,
            "right": null,
            "justify_content": null,
            "_view_module": "@jupyter-widgets/base",
            "overflow": null,
            "_model_module_version": "1.2.0",
            "_view_count": null,
            "flex_flow": null,
            "width": null,
            "min_width": null,
            "border": null,
            "align_items": null,
            "bottom": null,
            "_model_module": "@jupyter-widgets/base",
            "top": null,
            "grid_column": null,
            "overflow_y": null,
            "overflow_x": null,
            "grid_auto_flow": null,
            "grid_area": null,
            "grid_template_columns": null,
            "flex": null,
            "_model_name": "LayoutModel",
            "justify_items": null,
            "grid_row": null,
            "max_height": null,
            "align_content": null,
            "visibility": null,
            "align_self": null,
            "height": null,
            "min_height": null,
            "padding": null,
            "grid_auto_rows": null,
            "grid_gap": null,
            "max_width": null,
            "order": null,
            "_view_module_version": "1.2.0",
            "grid_template_areas": null,
            "object_position": null,
            "object_fit": null,
            "grid_auto_columns": null,
            "margin": null,
            "display": null,
            "left": null
          }
        },
        "c4388c4093e340fab3ba891b3b1e866f": {
          "model_module": "@jupyter-widgets/controls",
          "model_name": "IntProgressModel",
          "state": {
            "_view_name": "ProgressView",
            "style": "IPY_MODEL_01f6e17d0f14462ca1ed6e52596c6f58",
            "_dom_classes": [],
            "description": "",
            "_model_name": "IntProgressModel",
            "bar_style": "success",
            "max": 1,
            "_view_module": "@jupyter-widgets/controls",
            "_model_module_version": "1.5.0",
            "value": 1,
            "_view_count": null,
            "_view_module_version": "1.5.0",
            "orientation": "horizontal",
            "min": 0,
            "description_tooltip": null,
            "_model_module": "@jupyter-widgets/controls",
            "layout": "IPY_MODEL_6eb2034c419d4a8a99c9e51d5730f423"
          }
        },
        "e797823108e94a1e950ede7056bef375": {
          "model_module": "@jupyter-widgets/controls",
          "model_name": "HTMLModel",
          "state": {
            "_view_name": "HTMLView",
            "style": "IPY_MODEL_9a5ff01cdde44322877dc2c78633d501",
            "_dom_classes": [],
            "description": "",
            "_model_name": "HTMLModel",
            "placeholder": "​",
            "_view_module": "@jupyter-widgets/controls",
            "_model_module_version": "1.5.0",
            "value": " 32768/? [00:01&lt;00:00, 16646.54it/s]",
            "_view_count": null,
            "_view_module_version": "1.5.0",
            "description_tooltip": null,
            "_model_module": "@jupyter-widgets/controls",
            "layout": "IPY_MODEL_d0262bf0b6174adb882f4a4610711241"
          }
        },
        "01f6e17d0f14462ca1ed6e52596c6f58": {
          "model_module": "@jupyter-widgets/controls",
          "model_name": "ProgressStyleModel",
          "state": {
            "_view_name": "StyleView",
            "_model_name": "ProgressStyleModel",
            "description_width": "initial",
            "_view_module": "@jupyter-widgets/base",
            "_model_module_version": "1.5.0",
            "_view_count": null,
            "_view_module_version": "1.2.0",
            "bar_color": null,
            "_model_module": "@jupyter-widgets/controls"
          }
        },
        "6eb2034c419d4a8a99c9e51d5730f423": {
          "model_module": "@jupyter-widgets/base",
          "model_name": "LayoutModel",
          "state": {
            "_view_name": "LayoutView",
            "grid_template_rows": null,
            "right": null,
            "justify_content": null,
            "_view_module": "@jupyter-widgets/base",
            "overflow": null,
            "_model_module_version": "1.2.0",
            "_view_count": null,
            "flex_flow": null,
            "width": null,
            "min_width": null,
            "border": null,
            "align_items": null,
            "bottom": null,
            "_model_module": "@jupyter-widgets/base",
            "top": null,
            "grid_column": null,
            "overflow_y": null,
            "overflow_x": null,
            "grid_auto_flow": null,
            "grid_area": null,
            "grid_template_columns": null,
            "flex": null,
            "_model_name": "LayoutModel",
            "justify_items": null,
            "grid_row": null,
            "max_height": null,
            "align_content": null,
            "visibility": null,
            "align_self": null,
            "height": null,
            "min_height": null,
            "padding": null,
            "grid_auto_rows": null,
            "grid_gap": null,
            "max_width": null,
            "order": null,
            "_view_module_version": "1.2.0",
            "grid_template_areas": null,
            "object_position": null,
            "object_fit": null,
            "grid_auto_columns": null,
            "margin": null,
            "display": null,
            "left": null
          }
        },
        "9a5ff01cdde44322877dc2c78633d501": {
          "model_module": "@jupyter-widgets/controls",
          "model_name": "DescriptionStyleModel",
          "state": {
            "_view_name": "StyleView",
            "_model_name": "DescriptionStyleModel",
            "description_width": "",
            "_view_module": "@jupyter-widgets/base",
            "_model_module_version": "1.5.0",
            "_view_count": null,
            "_view_module_version": "1.2.0",
            "_model_module": "@jupyter-widgets/controls"
          }
        },
        "d0262bf0b6174adb882f4a4610711241": {
          "model_module": "@jupyter-widgets/base",
          "model_name": "LayoutModel",
          "state": {
            "_view_name": "LayoutView",
            "grid_template_rows": null,
            "right": null,
            "justify_content": null,
            "_view_module": "@jupyter-widgets/base",
            "overflow": null,
            "_model_module_version": "1.2.0",
            "_view_count": null,
            "flex_flow": null,
            "width": null,
            "min_width": null,
            "border": null,
            "align_items": null,
            "bottom": null,
            "_model_module": "@jupyter-widgets/base",
            "top": null,
            "grid_column": null,
            "overflow_y": null,
            "overflow_x": null,
            "grid_auto_flow": null,
            "grid_area": null,
            "grid_template_columns": null,
            "flex": null,
            "_model_name": "LayoutModel",
            "justify_items": null,
            "grid_row": null,
            "max_height": null,
            "align_content": null,
            "visibility": null,
            "align_self": null,
            "height": null,
            "min_height": null,
            "padding": null,
            "grid_auto_rows": null,
            "grid_gap": null,
            "max_width": null,
            "order": null,
            "_view_module_version": "1.2.0",
            "grid_template_areas": null,
            "object_position": null,
            "object_fit": null,
            "grid_auto_columns": null,
            "margin": null,
            "display": null,
            "left": null
          }
        },
        "1fefba94b7e74ef0a308230e16b08ee2": {
          "model_module": "@jupyter-widgets/controls",
          "model_name": "HBoxModel",
          "state": {
            "_view_name": "HBoxView",
            "_dom_classes": [],
            "_model_name": "HBoxModel",
            "_view_module": "@jupyter-widgets/controls",
            "_model_module_version": "1.5.0",
            "_view_count": null,
            "_view_module_version": "1.5.0",
            "box_style": "",
            "layout": "IPY_MODEL_9f3c2c53672742c5a88cb636f2e0f720",
            "_model_module": "@jupyter-widgets/controls",
            "children": [
              "IPY_MODEL_aaf0a84621154d8fa946c72ada3d5487",
              "IPY_MODEL_ce38ecf83ebd40b28e1688a6d3bfc7cc"
            ]
          }
        },
        "9f3c2c53672742c5a88cb636f2e0f720": {
          "model_module": "@jupyter-widgets/base",
          "model_name": "LayoutModel",
          "state": {
            "_view_name": "LayoutView",
            "grid_template_rows": null,
            "right": null,
            "justify_content": null,
            "_view_module": "@jupyter-widgets/base",
            "overflow": null,
            "_model_module_version": "1.2.0",
            "_view_count": null,
            "flex_flow": null,
            "width": null,
            "min_width": null,
            "border": null,
            "align_items": null,
            "bottom": null,
            "_model_module": "@jupyter-widgets/base",
            "top": null,
            "grid_column": null,
            "overflow_y": null,
            "overflow_x": null,
            "grid_auto_flow": null,
            "grid_area": null,
            "grid_template_columns": null,
            "flex": null,
            "_model_name": "LayoutModel",
            "justify_items": null,
            "grid_row": null,
            "max_height": null,
            "align_content": null,
            "visibility": null,
            "align_self": null,
            "height": null,
            "min_height": null,
            "padding": null,
            "grid_auto_rows": null,
            "grid_gap": null,
            "max_width": null,
            "order": null,
            "_view_module_version": "1.2.0",
            "grid_template_areas": null,
            "object_position": null,
            "object_fit": null,
            "grid_auto_columns": null,
            "margin": null,
            "display": null,
            "left": null
          }
        },
        "aaf0a84621154d8fa946c72ada3d5487": {
          "model_module": "@jupyter-widgets/controls",
          "model_name": "IntProgressModel",
          "state": {
            "_view_name": "ProgressView",
            "style": "IPY_MODEL_df3b7d8b7cbf42c7aa8c2eee2860808e",
            "_dom_classes": [],
            "description": "",
            "_model_name": "IntProgressModel",
            "bar_style": "success",
            "max": 1,
            "_view_module": "@jupyter-widgets/controls",
            "_model_module_version": "1.5.0",
            "value": 1,
            "_view_count": null,
            "_view_module_version": "1.5.0",
            "orientation": "horizontal",
            "min": 0,
            "description_tooltip": null,
            "_model_module": "@jupyter-widgets/controls",
            "layout": "IPY_MODEL_619c3045bfc84a55abfd7acb95a7532a"
          }
        },
        "ce38ecf83ebd40b28e1688a6d3bfc7cc": {
          "model_module": "@jupyter-widgets/controls",
          "model_name": "HTMLModel",
          "state": {
            "_view_name": "HTMLView",
            "style": "IPY_MODEL_1fd6aa401b9947a6bc68fb5d799f5f24",
            "_dom_classes": [],
            "description": "",
            "_model_name": "HTMLModel",
            "placeholder": "​",
            "_view_module": "@jupyter-widgets/controls",
            "_model_module_version": "1.5.0",
            "value": " 1654784/? [00:01&lt;00:00, 991761.48it/s]",
            "_view_count": null,
            "_view_module_version": "1.5.0",
            "description_tooltip": null,
            "_model_module": "@jupyter-widgets/controls",
            "layout": "IPY_MODEL_6a86b9b800924b4b921098d286ff5911"
          }
        },
        "df3b7d8b7cbf42c7aa8c2eee2860808e": {
          "model_module": "@jupyter-widgets/controls",
          "model_name": "ProgressStyleModel",
          "state": {
            "_view_name": "StyleView",
            "_model_name": "ProgressStyleModel",
            "description_width": "initial",
            "_view_module": "@jupyter-widgets/base",
            "_model_module_version": "1.5.0",
            "_view_count": null,
            "_view_module_version": "1.2.0",
            "bar_color": null,
            "_model_module": "@jupyter-widgets/controls"
          }
        },
        "619c3045bfc84a55abfd7acb95a7532a": {
          "model_module": "@jupyter-widgets/base",
          "model_name": "LayoutModel",
          "state": {
            "_view_name": "LayoutView",
            "grid_template_rows": null,
            "right": null,
            "justify_content": null,
            "_view_module": "@jupyter-widgets/base",
            "overflow": null,
            "_model_module_version": "1.2.0",
            "_view_count": null,
            "flex_flow": null,
            "width": null,
            "min_width": null,
            "border": null,
            "align_items": null,
            "bottom": null,
            "_model_module": "@jupyter-widgets/base",
            "top": null,
            "grid_column": null,
            "overflow_y": null,
            "overflow_x": null,
            "grid_auto_flow": null,
            "grid_area": null,
            "grid_template_columns": null,
            "flex": null,
            "_model_name": "LayoutModel",
            "justify_items": null,
            "grid_row": null,
            "max_height": null,
            "align_content": null,
            "visibility": null,
            "align_self": null,
            "height": null,
            "min_height": null,
            "padding": null,
            "grid_auto_rows": null,
            "grid_gap": null,
            "max_width": null,
            "order": null,
            "_view_module_version": "1.2.0",
            "grid_template_areas": null,
            "object_position": null,
            "object_fit": null,
            "grid_auto_columns": null,
            "margin": null,
            "display": null,
            "left": null
          }
        },
        "1fd6aa401b9947a6bc68fb5d799f5f24": {
          "model_module": "@jupyter-widgets/controls",
          "model_name": "DescriptionStyleModel",
          "state": {
            "_view_name": "StyleView",
            "_model_name": "DescriptionStyleModel",
            "description_width": "",
            "_view_module": "@jupyter-widgets/base",
            "_model_module_version": "1.5.0",
            "_view_count": null,
            "_view_module_version": "1.2.0",
            "_model_module": "@jupyter-widgets/controls"
          }
        },
        "6a86b9b800924b4b921098d286ff5911": {
          "model_module": "@jupyter-widgets/base",
          "model_name": "LayoutModel",
          "state": {
            "_view_name": "LayoutView",
            "grid_template_rows": null,
            "right": null,
            "justify_content": null,
            "_view_module": "@jupyter-widgets/base",
            "overflow": null,
            "_model_module_version": "1.2.0",
            "_view_count": null,
            "flex_flow": null,
            "width": null,
            "min_width": null,
            "border": null,
            "align_items": null,
            "bottom": null,
            "_model_module": "@jupyter-widgets/base",
            "top": null,
            "grid_column": null,
            "overflow_y": null,
            "overflow_x": null,
            "grid_auto_flow": null,
            "grid_area": null,
            "grid_template_columns": null,
            "flex": null,
            "_model_name": "LayoutModel",
            "justify_items": null,
            "grid_row": null,
            "max_height": null,
            "align_content": null,
            "visibility": null,
            "align_self": null,
            "height": null,
            "min_height": null,
            "padding": null,
            "grid_auto_rows": null,
            "grid_gap": null,
            "max_width": null,
            "order": null,
            "_view_module_version": "1.2.0",
            "grid_template_areas": null,
            "object_position": null,
            "object_fit": null,
            "grid_auto_columns": null,
            "margin": null,
            "display": null,
            "left": null
          }
        },
        "d9ac7f04cf934c6eac0d47643ae6fb53": {
          "model_module": "@jupyter-widgets/controls",
          "model_name": "HBoxModel",
          "state": {
            "_view_name": "HBoxView",
            "_dom_classes": [],
            "_model_name": "HBoxModel",
            "_view_module": "@jupyter-widgets/controls",
            "_model_module_version": "1.5.0",
            "_view_count": null,
            "_view_module_version": "1.5.0",
            "box_style": "",
            "layout": "IPY_MODEL_48a13ffb73f343da86eea3564b843cb0",
            "_model_module": "@jupyter-widgets/controls",
            "children": [
              "IPY_MODEL_e60a2bad119b401e9be93d551ab40ad5",
              "IPY_MODEL_a755c45d07f44c798c5384d8c5c21b28"
            ]
          }
        },
        "48a13ffb73f343da86eea3564b843cb0": {
          "model_module": "@jupyter-widgets/base",
          "model_name": "LayoutModel",
          "state": {
            "_view_name": "LayoutView",
            "grid_template_rows": null,
            "right": null,
            "justify_content": null,
            "_view_module": "@jupyter-widgets/base",
            "overflow": null,
            "_model_module_version": "1.2.0",
            "_view_count": null,
            "flex_flow": null,
            "width": null,
            "min_width": null,
            "border": null,
            "align_items": null,
            "bottom": null,
            "_model_module": "@jupyter-widgets/base",
            "top": null,
            "grid_column": null,
            "overflow_y": null,
            "overflow_x": null,
            "grid_auto_flow": null,
            "grid_area": null,
            "grid_template_columns": null,
            "flex": null,
            "_model_name": "LayoutModel",
            "justify_items": null,
            "grid_row": null,
            "max_height": null,
            "align_content": null,
            "visibility": null,
            "align_self": null,
            "height": null,
            "min_height": null,
            "padding": null,
            "grid_auto_rows": null,
            "grid_gap": null,
            "max_width": null,
            "order": null,
            "_view_module_version": "1.2.0",
            "grid_template_areas": null,
            "object_position": null,
            "object_fit": null,
            "grid_auto_columns": null,
            "margin": null,
            "display": null,
            "left": null
          }
        },
        "e60a2bad119b401e9be93d551ab40ad5": {
          "model_module": "@jupyter-widgets/controls",
          "model_name": "IntProgressModel",
          "state": {
            "_view_name": "ProgressView",
            "style": "IPY_MODEL_1f76c916595a40e09e526a42679a0db5",
            "_dom_classes": [],
            "description": "",
            "_model_name": "IntProgressModel",
            "bar_style": "success",
            "max": 1,
            "_view_module": "@jupyter-widgets/controls",
            "_model_module_version": "1.5.0",
            "value": 1,
            "_view_count": null,
            "_view_module_version": "1.5.0",
            "orientation": "horizontal",
            "min": 0,
            "description_tooltip": null,
            "_model_module": "@jupyter-widgets/controls",
            "layout": "IPY_MODEL_c87fc8041666451fb3d90b05a809816e"
          }
        },
        "a755c45d07f44c798c5384d8c5c21b28": {
          "model_module": "@jupyter-widgets/controls",
          "model_name": "HTMLModel",
          "state": {
            "_view_name": "HTMLView",
            "style": "IPY_MODEL_302c8d36acc74fc0988871a1b98b770c",
            "_dom_classes": [],
            "description": "",
            "_model_name": "HTMLModel",
            "placeholder": "​",
            "_view_module": "@jupyter-widgets/controls",
            "_model_module_version": "1.5.0",
            "value": " 8192/? [00:00&lt;00:00, 18500.74it/s]",
            "_view_count": null,
            "_view_module_version": "1.5.0",
            "description_tooltip": null,
            "_model_module": "@jupyter-widgets/controls",
            "layout": "IPY_MODEL_8e7e21b15eb94993b7249eca1b5c4250"
          }
        },
        "1f76c916595a40e09e526a42679a0db5": {
          "model_module": "@jupyter-widgets/controls",
          "model_name": "ProgressStyleModel",
          "state": {
            "_view_name": "StyleView",
            "_model_name": "ProgressStyleModel",
            "description_width": "initial",
            "_view_module": "@jupyter-widgets/base",
            "_model_module_version": "1.5.0",
            "_view_count": null,
            "_view_module_version": "1.2.0",
            "bar_color": null,
            "_model_module": "@jupyter-widgets/controls"
          }
        },
        "c87fc8041666451fb3d90b05a809816e": {
          "model_module": "@jupyter-widgets/base",
          "model_name": "LayoutModel",
          "state": {
            "_view_name": "LayoutView",
            "grid_template_rows": null,
            "right": null,
            "justify_content": null,
            "_view_module": "@jupyter-widgets/base",
            "overflow": null,
            "_model_module_version": "1.2.0",
            "_view_count": null,
            "flex_flow": null,
            "width": null,
            "min_width": null,
            "border": null,
            "align_items": null,
            "bottom": null,
            "_model_module": "@jupyter-widgets/base",
            "top": null,
            "grid_column": null,
            "overflow_y": null,
            "overflow_x": null,
            "grid_auto_flow": null,
            "grid_area": null,
            "grid_template_columns": null,
            "flex": null,
            "_model_name": "LayoutModel",
            "justify_items": null,
            "grid_row": null,
            "max_height": null,
            "align_content": null,
            "visibility": null,
            "align_self": null,
            "height": null,
            "min_height": null,
            "padding": null,
            "grid_auto_rows": null,
            "grid_gap": null,
            "max_width": null,
            "order": null,
            "_view_module_version": "1.2.0",
            "grid_template_areas": null,
            "object_position": null,
            "object_fit": null,
            "grid_auto_columns": null,
            "margin": null,
            "display": null,
            "left": null
          }
        },
        "302c8d36acc74fc0988871a1b98b770c": {
          "model_module": "@jupyter-widgets/controls",
          "model_name": "DescriptionStyleModel",
          "state": {
            "_view_name": "StyleView",
            "_model_name": "DescriptionStyleModel",
            "description_width": "",
            "_view_module": "@jupyter-widgets/base",
            "_model_module_version": "1.5.0",
            "_view_count": null,
            "_view_module_version": "1.2.0",
            "_model_module": "@jupyter-widgets/controls"
          }
        },
        "8e7e21b15eb94993b7249eca1b5c4250": {
          "model_module": "@jupyter-widgets/base",
          "model_name": "LayoutModel",
          "state": {
            "_view_name": "LayoutView",
            "grid_template_rows": null,
            "right": null,
            "justify_content": null,
            "_view_module": "@jupyter-widgets/base",
            "overflow": null,
            "_model_module_version": "1.2.0",
            "_view_count": null,
            "flex_flow": null,
            "width": null,
            "min_width": null,
            "border": null,
            "align_items": null,
            "bottom": null,
            "_model_module": "@jupyter-widgets/base",
            "top": null,
            "grid_column": null,
            "overflow_y": null,
            "overflow_x": null,
            "grid_auto_flow": null,
            "grid_area": null,
            "grid_template_columns": null,
            "flex": null,
            "_model_name": "LayoutModel",
            "justify_items": null,
            "grid_row": null,
            "max_height": null,
            "align_content": null,
            "visibility": null,
            "align_self": null,
            "height": null,
            "min_height": null,
            "padding": null,
            "grid_auto_rows": null,
            "grid_gap": null,
            "max_width": null,
            "order": null,
            "_view_module_version": "1.2.0",
            "grid_template_areas": null,
            "object_position": null,
            "object_fit": null,
            "grid_auto_columns": null,
            "margin": null,
            "display": null,
            "left": null
          }
        }
      }
    }
  },
  "cells": [
    {
      "cell_type": "markdown",
      "metadata": {
        "id": "view-in-github",
        "colab_type": "text"
      },
      "source": [
        "<a href=\"https://colab.research.google.com/github/Namsik-Yoon/pytorch_basic/blob/master/5_1_%EC%9D%B8%EA%B3%B5%20%EC%8B%A0%EA%B2%BD%EB%A7%9D_with_My_data%20.ipynb\" target=\"_parent\"><img src=\"https://colab.research.google.com/assets/colab-badge.svg\" alt=\"Open In Colab\"/></a>"
      ]
    },
    {
      "cell_type": "markdown",
      "metadata": {
        "id": "IGSkAoGffr7H",
        "colab_type": "text"
      },
      "source": [
        "MNIST데이터를 바탕으로 MLP 소프트맥스 회귀모델 학습"
      ]
    },
    {
      "cell_type": "markdown",
      "metadata": {
        "id": "639tQD_Rf6fJ",
        "colab_type": "text"
      },
      "source": [
        "# Data Load"
      ]
    },
    {
      "cell_type": "code",
      "metadata": {
        "id": "ElJdtnXSftdJ",
        "colab_type": "code",
        "colab": {}
      },
      "source": [
        "import torch\n",
        "import torchvision.datasets as dsets\n",
        "import torchvision.transforms as transforms\n",
        "from torch.utils.data import DataLoader\n",
        "from torch import optim\n",
        "import torch.nn as nn\n",
        "import matplotlib.pyplot as plt\n",
        "import random"
      ],
      "execution_count": 0,
      "outputs": []
    },
    {
      "cell_type": "code",
      "metadata": {
        "id": "qboCeg7sf_J3",
        "colab_type": "code",
        "colab": {
          "base_uri": "https://localhost:8080/",
          "height": 325,
          "referenced_widgets": [
            "2e782669fbe447c79e1b2d7c85c7827a",
            "d7e6e8fee593484cab11e15ff55f4ad3",
            "fbb05a8a7d3a4edeb9e7c29f47e23b9d",
            "2ffee25e2e4b47f38169d6dcb9d56924",
            "13889db1602f45c98a53842eff3ff929",
            "df51fbd7b73f47ea9d8b326d6bdfc839",
            "1808155ed8df4b3c9b32c13e324b5fec",
            "a557272e4d5a415cab01d5681cd832ab",
            "7462565f43164b5aa5681d3c44200764",
            "9872940b24bc40c4a62dcfd0719d4053",
            "c4388c4093e340fab3ba891b3b1e866f",
            "e797823108e94a1e950ede7056bef375",
            "01f6e17d0f14462ca1ed6e52596c6f58",
            "6eb2034c419d4a8a99c9e51d5730f423",
            "9a5ff01cdde44322877dc2c78633d501",
            "d0262bf0b6174adb882f4a4610711241",
            "1fefba94b7e74ef0a308230e16b08ee2",
            "9f3c2c53672742c5a88cb636f2e0f720",
            "aaf0a84621154d8fa946c72ada3d5487",
            "ce38ecf83ebd40b28e1688a6d3bfc7cc",
            "df3b7d8b7cbf42c7aa8c2eee2860808e",
            "619c3045bfc84a55abfd7acb95a7532a",
            "1fd6aa401b9947a6bc68fb5d799f5f24",
            "6a86b9b800924b4b921098d286ff5911",
            "d9ac7f04cf934c6eac0d47643ae6fb53",
            "48a13ffb73f343da86eea3564b843cb0",
            "e60a2bad119b401e9be93d551ab40ad5",
            "a755c45d07f44c798c5384d8c5c21b28",
            "1f76c916595a40e09e526a42679a0db5",
            "c87fc8041666451fb3d90b05a809816e",
            "302c8d36acc74fc0988871a1b98b770c",
            "8e7e21b15eb94993b7249eca1b5c4250"
          ]
        },
        "outputId": "e9129356-97b6-4001-ee95-b4674c6902de"
      },
      "source": [
        "# MNIST dataset\n",
        "mnist_train = dsets.MNIST(root='MNIST_data/',\n",
        "                          train=True,\n",
        "                          transform=transforms.ToTensor(),\n",
        "                          download=True)\n",
        "\n",
        "mnist_test = dsets.MNIST(root='MNIST_data/',\n",
        "                         train=False,\n",
        "                         transform=transforms.ToTensor(),\n",
        "                         download=True)"
      ],
      "execution_count": 2,
      "outputs": [
        {
          "output_type": "stream",
          "text": [
            "Downloading http://yann.lecun.com/exdb/mnist/train-images-idx3-ubyte.gz to MNIST_data/MNIST/raw/train-images-idx3-ubyte.gz\n"
          ],
          "name": "stdout"
        },
        {
          "output_type": "display_data",
          "data": {
            "application/vnd.jupyter.widget-view+json": {
              "model_id": "2e782669fbe447c79e1b2d7c85c7827a",
              "version_minor": 0,
              "version_major": 2
            },
            "text/plain": [
              "HBox(children=(IntProgress(value=1, bar_style='info', max=1), HTML(value='')))"
            ]
          },
          "metadata": {
            "tags": []
          }
        },
        {
          "output_type": "stream",
          "text": [
            "Extracting MNIST_data/MNIST/raw/train-images-idx3-ubyte.gz to MNIST_data/MNIST/raw\n",
            "Downloading http://yann.lecun.com/exdb/mnist/train-labels-idx1-ubyte.gz to MNIST_data/MNIST/raw/train-labels-idx1-ubyte.gz\n"
          ],
          "name": "stdout"
        },
        {
          "output_type": "display_data",
          "data": {
            "application/vnd.jupyter.widget-view+json": {
              "model_id": "7462565f43164b5aa5681d3c44200764",
              "version_minor": 0,
              "version_major": 2
            },
            "text/plain": [
              "HBox(children=(IntProgress(value=1, bar_style='info', max=1), HTML(value='')))"
            ]
          },
          "metadata": {
            "tags": []
          }
        },
        {
          "output_type": "stream",
          "text": [
            "Extracting MNIST_data/MNIST/raw/train-labels-idx1-ubyte.gz to MNIST_data/MNIST/raw\n",
            "Downloading http://yann.lecun.com/exdb/mnist/t10k-images-idx3-ubyte.gz to MNIST_data/MNIST/raw/t10k-images-idx3-ubyte.gz\n"
          ],
          "name": "stdout"
        },
        {
          "output_type": "display_data",
          "data": {
            "application/vnd.jupyter.widget-view+json": {
              "model_id": "1fefba94b7e74ef0a308230e16b08ee2",
              "version_minor": 0,
              "version_major": 2
            },
            "text/plain": [
              "HBox(children=(IntProgress(value=1, bar_style='info', max=1), HTML(value='')))"
            ]
          },
          "metadata": {
            "tags": []
          }
        },
        {
          "output_type": "stream",
          "text": [
            "Extracting MNIST_data/MNIST/raw/t10k-images-idx3-ubyte.gz to MNIST_data/MNIST/raw\n",
            "Downloading http://yann.lecun.com/exdb/mnist/t10k-labels-idx1-ubyte.gz to MNIST_data/MNIST/raw/t10k-labels-idx1-ubyte.gz\n"
          ],
          "name": "stdout"
        },
        {
          "output_type": "display_data",
          "data": {
            "application/vnd.jupyter.widget-view+json": {
              "model_id": "d9ac7f04cf934c6eac0d47643ae6fb53",
              "version_minor": 0,
              "version_major": 2
            },
            "text/plain": [
              "HBox(children=(IntProgress(value=1, bar_style='info', max=1), HTML(value='')))"
            ]
          },
          "metadata": {
            "tags": []
          }
        },
        {
          "output_type": "stream",
          "text": [
            "Extracting MNIST_data/MNIST/raw/t10k-labels-idx1-ubyte.gz to MNIST_data/MNIST/raw\n",
            "Processing...\n",
            "Done!\n"
          ],
          "name": "stdout"
        }
      ]
    },
    {
      "cell_type": "code",
      "metadata": {
        "id": "heyj6-NFgDux",
        "colab_type": "code",
        "colab": {
          "base_uri": "https://localhost:8080/",
          "height": 107
        },
        "outputId": "7b363bdf-9dab-4a25-b98d-ce1a3cb02366"
      },
      "source": [
        "X,y = mnist_train[0]\n",
        "print('X size = ',X.size())\n",
        "print('입력 이미지를 [batch_size × 784]의 크기로 reshape = ',X.view(-1, 28*28).size())"
      ],
      "execution_count": 3,
      "outputs": [
        {
          "output_type": "stream",
          "text": [
            "X size =  \n",
            "\n",
            "\n",
            "torch.Size([1, 28, 28])\n",
            "입력 이미지를 [batch_size × 784]의 크기로 reshape =  torch.Size([1, 784])\n"
          ],
          "name": "stdout"
        }
      ]
    },
    {
      "cell_type": "markdown",
      "metadata": {
        "id": "qsS6r0jMgqqp",
        "colab_type": "text"
      },
      "source": [
        "# Data visualizing"
      ]
    },
    {
      "cell_type": "code",
      "metadata": {
        "id": "VA43Tl0Ngpb8",
        "colab_type": "code",
        "colab": {
          "base_uri": "https://localhost:8080/",
          "height": 241
        },
        "outputId": "c6668a8f-3c3f-422c-d774-07fbe7821135"
      },
      "source": [
        "images_and_labels = list(zip(mnist_train.data, mnist_train.targets))\n",
        "for index, (image, label) in enumerate(images_and_labels[:10]): # 10개의 샘플만 출력\n",
        "    plt.subplot(2, 5, index + 1)\n",
        "    plt.axis('off')\n",
        "    plt.imshow(image, cmap=plt.cm.gray_r, interpolation='nearest')\n",
        "    plt.title('sample: %i' % label)"
      ],
      "execution_count": 4,
      "outputs": [
        {
          "output_type": "stream",
          "text": [
            "\n"
          ],
          "name": "stdout"
        },
        {
          "output_type": "display_data",
          "data": {
            "image/png": "[encoded data removed]",
            "text/plain": [
              "<Figure size 432x288 with 10 Axes>"
            ]
          },
          "metadata": {
            "tags": []
          }
        }
      ]
    },
    {
      "cell_type": "code",
      "metadata": {
        "id": "bHM0-ZhJg8NL",
        "colab_type": "code",
        "colab": {
          "base_uri": "https://localhost:8080/",
          "height": 197
        },
        "outputId": "02f9bc94-fd7c-4e60-e8e5-f0ee4002443f"
      },
      "source": [
        "for i in range(10):\n",
        "  print(i,'번 인덱스 샘플의 레이블 : ',mnist_train.targets[i])"
      ],
      "execution_count": 5,
      "outputs": [
        {
          "output_type": "stream",
          "text": [
            "0 번 인덱스 샘플의 레이블 :  tensor(5)\n",
            "1 번 인덱스 샘플의 레이블 :  tensor(0)\n",
            "2 번 인덱스 샘플의 레이블 :  tensor(4)\n",
            "3 번 인덱스 샘플의 레이블 :  tensor(1)\n",
            "4 번 인덱스 샘플의 레이블 :  tensor(9)\n",
            "5 번 인덱스 샘플의 레이블 :  tensor(2)\n",
            "6 번 인덱스 샘플의 레이블 :  tensor(1)\n",
            "7 번 인덱스 샘플의 레이블 :  tensor(3)\n",
            "8 번 인덱스 샘플의 레이블 :  tensor(1)\n",
            "9 번 인덱스 샘플의 레이블 :  tensor(4)\n"
          ],
          "name": "stdout"
        }
      ]
    },
    {
      "cell_type": "markdown",
      "metadata": {
        "id": "s0rP5HYDhT-v",
        "colab_type": "text"
      },
      "source": [
        "# Model1 Building"
      ]
    },
    {
      "cell_type": "code",
      "metadata": {
        "id": "M_Kst_9ZkNhE",
        "colab_type": "code",
        "colab": {}
      },
      "source": [
        "# dataset loader\n",
        "batch_size = 100\n",
        "\n",
        "train_loader = DataLoader(dataset=mnist_train,\n",
        "                         batch_size=batch_size, # 배치 크기는 100\n",
        "                         shuffle=True,\n",
        "                         drop_last=True)\n",
        "\n",
        "val_loader = DataLoader(dataset=mnist_test,\n",
        "                         batch_size=len(mnist_test))"
      ],
      "execution_count": 0,
      "outputs": []
    },
    {
      "cell_type": "code",
      "metadata": {
        "id": "ceHMd099hK5J",
        "colab_type": "code",
        "colab": {}
      },
      "source": [
        "class Model1(nn.Module):    \n",
        "    def __init__(self):\n",
        "        super(Model1,self).__init__()\n",
        "        self.model = nn.Sequential(\n",
        "            nn.Linear(784, 512), # input_layer = 784, hidden_layer1 = 512\n",
        "            nn.ReLU(),\n",
        "            nn.Linear(512, 256), # hidden_layer2 = 512, hidden_layer3 = 256\n",
        "            nn.ReLU(),\n",
        "            nn.Linear(256, 128), # hidden_layer3 = 256, output_layer = 128\n",
        "            nn.ReLU(),\n",
        "            nn.Linear(128, 64), # hidden_layer4 = 128, output_layer = 64\n",
        "            nn.ReLU(),\n",
        "            nn.Linear(64, 32), # hidden_layer5 = 64, output_layer = 32\n",
        "            nn.ReLU(),\n",
        "            nn.Linear(32, 10) # output_layer6 = 32, output_layer = 10\n",
        "            )\n",
        "\n",
        "    def forward(self, x):\n",
        "        x = x.view(-1, 28*28)\n",
        "        return self.model(x)"
      ],
      "execution_count": 0,
      "outputs": []
    },
    {
      "cell_type": "code",
      "metadata": {
        "id": "U85Ve7Nri_2T",
        "colab_type": "code",
        "colab": {}
      },
      "source": [
        "device = torch.device('cuda:0' if torch.cuda.is_available() else 'cpu')\n",
        "model_1 = Model1().to(device)\n",
        "criterion = nn.CrossEntropyLoss()\n",
        "optimizer = optim.SGD(model_1.parameters(),lr=0.05)\n",
        "\n",
        "epochs = 10"
      ],
      "execution_count": 0,
      "outputs": []
    },
    {
      "cell_type": "code",
      "metadata": {
        "id": "rt--lukEjjnq",
        "colab_type": "code",
        "colab": {
          "base_uri": "https://localhost:8080/",
          "height": 737
        },
        "outputId": "f34646f5-abaf-4a9b-8a3e-72a176a64c20"
      },
      "source": [
        "plot_list = {'train':[],'val':[],'accuracy':[]}\n",
        "\n",
        "for epoch in range(epochs):\n",
        "    model_1.train()\n",
        "    train_losses = []\n",
        "    for i,data in enumerate(train_loader):\n",
        "        optimizer.zero_grad()\n",
        "        inputs,targets = data[0].to(device), data[1].to(device)\n",
        "\n",
        "        outputs = model_1(inputs)\n",
        "        train_loss = criterion(outputs,targets)\n",
        "        train_loss.backward()\n",
        "        optimizer.step()\n",
        "\n",
        "        train_losses.append(train_loss.item())\n",
        "\n",
        "    model_1.eval()\n",
        "    val_losses = []\n",
        "    for i,data in enumerate(val_loader):\n",
        "        inputs,targets = data[0].to(device), data[1].to(device)\n",
        "\n",
        "        outputs = model_1(inputs)\n",
        "        val_loss = criterion(outputs,targets)\n",
        "        val_losses.append(val_loss.detach())\n",
        "\n",
        "        prob,label = torch.exp(outputs).topk(1,dim=1)\n",
        "    correct = label.view(-1)==targets\n",
        "    val_accuracy = correct.float().mean()\n",
        "\n",
        "    print(f\"{epoch+1} epoch train loss = {sum(train_losses)/len(train_losses)}\")\n",
        "    print(f\"{epoch+1} epoch val loss = {sum(val_losses)/len(val_losses)}\")\n",
        "    print(f\"{epoch+1} epoch accuracy = {val_accuracy}\")\n",
        "    print('--------------------------------------------------')\n",
        "    plot_list['train'].append(sum(train_losses)/len(train_losses))\n",
        "    plot_list['val'].append(sum(val_losses)/len(val_losses))\n",
        "    plot_list['accuracy'].append(val_accuracy)"
      ],
      "execution_count": 17,
      "outputs": [
        {
          "output_type": "stream",
          "text": [
            "1 epoch train loss = 2.287061572869619\n",
            "1 epoch val loss = 2.1845006942749023\n",
            "1 epoch accuracy = 0.33709999918937683\n",
            "--------------------------------------------------\n",
            "2 epoch train loss = 1.1017076926926772\n",
            "2 epoch val loss = 0.4984362721443176\n",
            "2 epoch accuracy = 0.8585000038146973\n",
            "--------------------------------------------------\n",
            "3 epoch train loss = 0.3553735506658753\n",
            "3 epoch val loss = 0.23541313409805298\n",
            "3 epoch accuracy = 0.9327999949455261\n",
            "--------------------------------------------------\n",
            "4 epoch train loss = 0.20387143285324177\n",
            "4 epoch val loss = 0.1714925616979599\n",
            "4 epoch accuracy = 0.9502999782562256\n",
            "--------------------------------------------------\n",
            "5 epoch train loss = 0.14711323340733845\n",
            "5 epoch val loss = 0.14109326899051666\n",
            "5 epoch accuracy = 0.9572999477386475\n",
            "--------------------------------------------------\n",
            "6 epoch train loss = 0.10911311169775824\n",
            "6 epoch val loss = 0.1179732158780098\n",
            "6 epoch accuracy = 0.9645999670028687\n",
            "--------------------------------------------------\n",
            "7 epoch train loss = 0.08724864406821628\n",
            "7 epoch val loss = 0.10309455543756485\n",
            "7 epoch accuracy = 0.9699999690055847\n",
            "--------------------------------------------------\n",
            "8 epoch train loss = 0.0697621833672747\n",
            "8 epoch val loss = 0.09180177003145218\n",
            "8 epoch accuracy = 0.9731999635696411\n",
            "--------------------------------------------------\n",
            "9 epoch train loss = 0.055719578297187884\n",
            "9 epoch val loss = 0.10106174647808075\n",
            "9 epoch accuracy = 0.9688999652862549\n",
            "--------------------------------------------------\n",
            "10 epoch train loss = 0.07555271224273989\n",
            "10 epoch val loss = 0.130365788936615\n",
            "10 epoch accuracy = 0.9641000032424927\n",
            "--------------------------------------------------\n"
          ],
          "name": "stdout"
        }
      ]
    },
    {
      "cell_type": "code",
      "metadata": {
        "id": "zYuWCkYh4882",
        "colab_type": "code",
        "colab": {
          "base_uri": "https://localhost:8080/",
          "height": 265
        },
        "outputId": "f96fa290-7ac8-404d-cb4c-ebd2326f1633"
      },
      "source": [
        "plt.plot(plot_list['train'],label = 'train_loss')\n",
        "plt.plot(plot_list['val'],label = 'val_loss')\n",
        "plt.plot(plot_list['accuracy'],label = 'accuracy')\n",
        "plt.legend()\n",
        "plt.show()"
      ],
      "execution_count": 18,
      "outputs": [
        {
          "output_type": "display_data",
          "data": {
            "image/png": "[encoded data removed]",
            "text/plain": [
              "<Figure size 432x288 with 1 Axes>"
            ]
          },
          "metadata": {
            "tags": []
          }
        }
      ]
    },
    {
      "cell_type": "code",
      "metadata": {
        "id": "DG773BJ97hXc",
        "colab_type": "code",
        "colab": {}
      },
      "source": [
        "def plot_confusion_matrix(cm, target_names=None, cmap=None, normalize=True, labels=True, title='Confusion matrix'):\n",
        "    import numpy as np\n",
        "    import itertools\n",
        "    \n",
        "    accuracy = np.trace(cm) / float(np.sum(cm))\n",
        "    misclass = 1 - accuracy\n",
        "\n",
        "    if cmap is None:\n",
        "        cmap = plt.get_cmap('Blues')\n",
        "\n",
        "    if normalize:\n",
        "        cm = cm.astype('float') / cm.sum(axis=1)[:, np.newaxis]\n",
        "        \n",
        "    plt.figure(figsize=(8, 6))\n",
        "    plt.imshow(cm, interpolation='nearest', cmap=cmap)\n",
        "    plt.title(title)\n",
        "    plt.colorbar()\n",
        "\n",
        "    thresh = cm.max() / 1.5 if normalize else cm.max() / 2\n",
        "    \n",
        "    if target_names is not None:\n",
        "        tick_marks = np.arange(len(target_names))\n",
        "        plt.xticks(tick_marks, target_names)\n",
        "        plt.yticks(tick_marks, target_names)\n",
        "    \n",
        "    if labels:\n",
        "        for i, j in itertools.product(range(cm.shape[0]), range(cm.shape[1])):\n",
        "            if normalize:\n",
        "                plt.text(j, i, \"{:0.4f}\".format(cm[i, j]),\n",
        "                         horizontalalignment=\"center\",\n",
        "                         color=\"white\" if cm[i, j] > thresh else \"black\")\n",
        "            else:\n",
        "                plt.text(j, i, \"{:,}\".format(cm[i, j]),\n",
        "                         horizontalalignment=\"center\",\n",
        "                         color=\"white\" if cm[i, j] > thresh else \"black\")\n",
        "\n",
        "    plt.tight_layout()\n",
        "    plt.ylabel('True label')\n",
        "    plt.xlabel('Predicted label\\naccuracy={:0.4f}; misclass={:0.4f}'.format(accuracy, misclass))\n",
        "    plt.show()"
      ],
      "execution_count": 0,
      "outputs": []
    },
    {
      "cell_type": "code",
      "metadata": {
        "id": "yjVPQOAd27XE",
        "colab_type": "code",
        "colab": {
          "base_uri": "https://localhost:8080/",
          "height": 467
        },
        "outputId": "14be56ed-2a58-49a1-8ce1-2e672605ca29"
      },
      "source": [
        "from sklearn.metrics import confusion_matrix\n",
        "metrics = confusion_matrix(targets.cpu(),label.cpu())\n",
        "plot_confusion_matrix(metrics,target_names=[0,1,2,3,4,5,6,7,8,9])"
      ],
      "execution_count": 26,
      "outputs": [
        {
          "output_type": "display_data",
          "data": {
            "image/png": "[encoded data removed]",
            "text/plain": [
              "<Figure size 576x432 with 2 Axes>"
            ]
          },
          "metadata": {
            "tags": []
          }
        }
      ]
    },
    {
      "cell_type": "markdown",
      "metadata": {
        "id": "jvZHVY8t8FlZ",
        "colab_type": "text"
      },
      "source": [
        "# Model2 Building"
      ]
    },
    {
      "cell_type": "code",
      "metadata": {
        "id": "cKqEcSvj42tD",
        "colab_type": "code",
        "colab": {}
      },
      "source": [
        "class Model2(nn.Module):    \n",
        "    def __init__(self):\n",
        "        super(Model2,self).__init__()\n",
        "        self.model = nn.Sequential(\n",
        "            nn.Linear(784, 512), # input_layer = 784, hidden_layer1 = 512\n",
        "            nn.ELU(),\n",
        "            nn.Linear(512, 256), # hidden_layer2 = 512, hidden_layer3 = 256\n",
        "            nn.ELU(),\n",
        "            nn.Linear(256, 128), # hidden_layer3 = 256, output_layer = 128\n",
        "            nn.ELU(),\n",
        "            nn.Linear(128, 64), # hidden_layer4 = 128, output_layer = 64\n",
        "            nn.ELU(),\n",
        "            nn.Linear(64, 32), # hidden_layer5 = 64, output_layer = 32\n",
        "            nn.ELU(),\n",
        "            nn.Linear(32, 10) # output_layer6 = 32, output_layer = 10\n",
        "            )\n",
        "\n",
        "    def forward(self, x):\n",
        "        x = x.view(-1, 28*28)\n",
        "        return self.model(x)"
      ],
      "execution_count": 0,
      "outputs": []
    },
    {
      "cell_type": "code",
      "metadata": {
        "id": "4zdllp4_8ga6",
        "colab_type": "code",
        "colab": {}
      },
      "source": [
        "device = torch.device('cuda:0' if torch.cuda.is_available() else 'cpu')\n",
        "model_2 = Model2().to(device)\n",
        "criterion = nn.CrossEntropyLoss()\n",
        "optimizer = optim.SGD(model_2.parameters(),lr=0.05)\n",
        "\n",
        "epochs = 10"
      ],
      "execution_count": 0,
      "outputs": []
    },
    {
      "cell_type": "code",
      "metadata": {
        "id": "OTx3SZz781Ys",
        "colab_type": "code",
        "colab": {
          "base_uri": "https://localhost:8080/",
          "height": 737
        },
        "outputId": "2d225fef-e24e-4af1-9b8f-695c0f4c0c8c"
      },
      "source": [
        "plot_list = {'train':[],'val':[],'accuracy':[]}\n",
        "\n",
        "for epoch in range(epochs):\n",
        "    model_2.train()\n",
        "    train_losses = []\n",
        "    for i,data in enumerate(train_loader):\n",
        "        optimizer.zero_grad()\n",
        "        inputs,targets = data[0].to(device), data[1].to(device)\n",
        "\n",
        "        outputs = model_2(inputs)\n",
        "        train_loss = criterion(outputs,targets)\n",
        "        train_loss.backward()\n",
        "        optimizer.step()\n",
        "\n",
        "        train_losses.append(train_loss.item())\n",
        "\n",
        "    model_2.eval()\n",
        "    val_losses = []\n",
        "    for i,data in enumerate(val_loader):\n",
        "        inputs,targets = data[0].to(device), data[1].to(device)\n",
        "\n",
        "        outputs = model_2(inputs)\n",
        "        val_loss = criterion(outputs,targets)\n",
        "        val_losses.append(val_loss.detach())\n",
        "\n",
        "        prob,label = torch.exp(outputs).topk(1,dim=1)\n",
        "    correct = label.view(-1)==targets\n",
        "    val_accuracy = correct.float().mean()\n",
        "\n",
        "    print(f\"{epoch+1} epoch train loss = {sum(train_losses)/len(train_losses)}\")\n",
        "    print(f\"{epoch+1} epoch val loss = {sum(val_losses)/len(val_losses)}\")\n",
        "    print(f\"{epoch+1} epoch accuracy = {val_accuracy}\")\n",
        "    print('--------------------------------------------------')\n",
        "    plot_list['train'].append(sum(train_losses)/len(train_losses))\n",
        "    plot_list['val'].append(sum(val_losses)/len(val_losses))\n",
        "    plot_list['accuracy'].append(val_accuracy)"
      ],
      "execution_count": 29,
      "outputs": [
        {
          "output_type": "stream",
          "text": [
            "1 epoch train loss = 1.3356334225833415\n",
            "1 epoch val loss = 0.4603992700576782\n",
            "1 epoch accuracy = 0.8677999973297119\n",
            "--------------------------------------------------\n",
            "2 epoch train loss = 0.3792572692036629\n",
            "2 epoch val loss = 0.3079390823841095\n",
            "2 epoch accuracy = 0.9077999591827393\n",
            "--------------------------------------------------\n",
            "3 epoch train loss = 0.2955732110887766\n",
            "3 epoch val loss = 0.2677537202835083\n",
            "3 epoch accuracy = 0.9187999963760376\n",
            "--------------------------------------------------\n",
            "4 epoch train loss = 0.25111774370074275\n",
            "4 epoch val loss = 0.23916159570217133\n",
            "4 epoch accuracy = 0.9276999831199646\n",
            "--------------------------------------------------\n",
            "5 epoch train loss = 0.21730919532167414\n",
            "5 epoch val loss = 0.19741204380989075\n",
            "5 epoch accuracy = 0.9411999583244324\n",
            "--------------------------------------------------\n",
            "6 epoch train loss = 0.18902403541530172\n",
            "6 epoch val loss = 0.17858809232711792\n",
            "6 epoch accuracy = 0.9449999928474426\n",
            "--------------------------------------------------\n",
            "7 epoch train loss = 0.1672876755706966\n",
            "7 epoch val loss = 0.1738235503435135\n",
            "7 epoch accuracy = 0.9474999904632568\n",
            "--------------------------------------------------\n",
            "8 epoch train loss = 0.14899757193401456\n",
            "8 epoch val loss = 0.15170904994010925\n",
            "8 epoch accuracy = 0.952299952507019\n",
            "--------------------------------------------------\n",
            "9 epoch train loss = 0.13363407509091\n",
            "9 epoch val loss = 0.14440760016441345\n",
            "9 epoch accuracy = 0.9558999538421631\n",
            "--------------------------------------------------\n",
            "10 epoch train loss = 0.12244576037240525\n",
            "10 epoch val loss = 0.12980817258358002\n",
            "10 epoch accuracy = 0.9593999981880188\n",
            "--------------------------------------------------\n"
          ],
          "name": "stdout"
        }
      ]
    },
    {
      "cell_type": "code",
      "metadata": {
        "id": "i-c6VZTw9CGU",
        "colab_type": "code",
        "colab": {
          "base_uri": "https://localhost:8080/",
          "height": 265
        },
        "outputId": "61b8e1a7-8c58-45a1-de44-9e571785a341"
      },
      "source": [
        "plt.plot(plot_list['train'],label = 'train_loss')\n",
        "plt.plot(plot_list['val'],label = 'val_loss')\n",
        "plt.plot(plot_list['accuracy'],label = 'accuracy')\n",
        "plt.legend()\n",
        "plt.show()"
      ],
      "execution_count": 30,
      "outputs": [
        {
          "output_type": "display_data",
          "data": {
            "image/png": "[encoded data removed]",
            "text/plain": [
              "<Figure size 432x288 with 1 Axes>"
            ]
          },
          "metadata": {
            "tags": []
          }
        }
      ]
    },
    {
      "cell_type": "code",
      "metadata": {
        "id": "FsIs9kx39OJm",
        "colab_type": "code",
        "colab": {
          "base_uri": "https://localhost:8080/",
          "height": 467
        },
        "outputId": "646ac779-0860-4904-e091-18f100fb136a"
      },
      "source": [
        "metrics = confusion_matrix(targets.cpu(),label.cpu())\n",
        "plot_confusion_matrix(metrics,target_names=[0,1,2,3,4,5,6,7,8,9])"
      ],
      "execution_count": 31,
      "outputs": [
        {
          "output_type": "display_data",
          "data": {
            "image/png": "[encoded data removed]",
            "text/plain": [
              "<Figure size 576x432 with 2 Axes>"
            ]
          },
          "metadata": {
            "tags": []
          }
        }
      ]
    },
    {
      "cell_type": "code",
      "metadata": {
        "id": "w6TgNWDJ9RYg",
        "colab_type": "code",
        "colab": {}
      },
      "source": [
        ""
      ],
      "execution_count": 0,
      "outputs": []
    }
  ]
}