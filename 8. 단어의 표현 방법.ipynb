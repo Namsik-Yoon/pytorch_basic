{
  "nbformat": 4,
  "nbformat_minor": 0,
  "metadata": {
    "colab": {
      "name": "Untitled21.ipynb",
      "provenance": [],
      "toc_visible": true,
      "authorship_tag": "ABX9TyPukZEcghWSC5ha0ZOUkxwo",
      "include_colab_link": true
    },
    "kernelspec": {
      "name": "python3",
      "display_name": "Python 3"
    }
  },
  "cells": [
    {
      "cell_type": "markdown",
      "metadata": {
        "id": "view-in-github",
        "colab_type": "text"
      },
      "source": [
        "<a href=\"https://colab.research.google.com/github/Namsik-Yoon/pytorch_basic/blob/master/8.%20%EB%8B%A8%EC%96%B4%EC%9D%98%20%ED%91%9C%ED%98%84%20%EB%B0%A9%EB%B2%95.ipynb\" target=\"_parent\"><img src=\"https://colab.research.google.com/assets/colab-badge.svg\" alt=\"Open In Colab\"/></a>"
      ]
    },
    {
      "cell_type": "markdown",
      "metadata": {
        "id": "fIT3LYTR2uvi",
        "colab_type": "text"
      },
      "source": [
        "# 8. 단어의 표현 방법"
      ]
    },
    {
      "cell_type": "markdown",
      "metadata": {
        "id": "8tk8AjJf21ul",
        "colab_type": "text"
      },
      "source": [
        "이번 챕터에서는 자연어 처리에서 필수적으로 사용되는 단어의 표현 방법인 원-핫 인코딩(One-hot encoding)과 워드 임베딩(Word Embedding)에 대해서 학습합니다."
      ]
    },
    {
      "cell_type": "markdown",
      "metadata": {
        "id": "zxupsJHB23z3",
        "colab_type": "text"
      },
      "source": [
        "## 8.1 NLP에서의 원-핫 인코딩(One-hot encoding)"
      ]
    },
    {
      "cell_type": "markdown",
      "metadata": {
        "id": "9Alc53jC27fO",
        "colab_type": "text"
      },
      "source": [
        "컴퓨터 또는 기계는 문자보다는 숫자를 더 잘 처리 할 수 있습니다. 이를 위해 자연어 처리에서는 문자를 숫자로 바꾸는 여러가지 기법들이 있습니다. 원-핫 인코딩(One-hot encoding)은 그 많은 기법 중에서 단어를 표현하는 가장 기본적인 표현 방법이며, 머신 러닝, 딥 러닝을 하기 위해서는 반드시 배워야 하는 표현 방법입니다.\n",
        "\n",
        "원-핫 인코딩에 대해서 배우기에 앞서 단어 집합(vocabulary)에 대해서 정의해보도록 하겠습니다. 어떤 분들은 사전(vocabulary)이라고도 부르지만, 저는 집합이라는 표현이 보다 명확하다고 생각하여 앞으로 단어 집합이라고 부르겠습니다. 단어 집합은 앞으로 자연어 처리에서 계속 나오는 개념이기 때문에 여기서 이해하고 가야합니다. 단어 집합은 서로 다른 단어들의 집합입니다. 여기서 혼동이 없도록 서로 다른 단어라는 정의에 대해서 좀 더 주목할 필요가 있습니다.\n",
        "\n",
        "단어 집합(vocabulary)에서는 기본적으로 book과 books와 같이 단어의 변형 형태도 다른 단어로 간주합니다. 이 책에서는 앞으로 단어 집합에 있는 단어들을 가지고, 문자를 숫자(더 구체적으로는 벡터)로 바꾸는 원-핫 인코딩을 포함한 여러 방법에 대해서 배우게 됩니다.\n",
        "\n",
        "원-핫 인코딩을 위해서 먼저 해야할 일은 단어 집합을 만드는 일입니다. 텍스트의 모든 단어를 중복을 허용하지 않고 모아놓으면 이를 단어 집합이라고 합니다. 그리고 이 단어 집합에 고유한 숫자를 부여하는 정수 인코딩을 진행합니다. 텍스트에 단어가 총 5,000개가 존재한다면, 단어 집합의 크기는 5,000입니다. 5,000개의 단어가 있는 이 단어 집합의 단어들마다 1번부터 5,000번까지 인덱스를 부여한다고 해보겠습니다. 가령, book은 150번, dog는 171번, love는 192번, books는 212번과 같이 부여할 수 있습니다.\n",
        "\n",
        "이제 각 단어에 고유한 정수 인덱스를 부여하였다고 합시다. 이 숫자로 바뀐 단어들을 벡터로 다루고 싶다면 어떻게 하면 될까요?"
      ]
    },
    {
      "cell_type": "markdown",
      "metadata": {
        "id": "PFNzw0gW3VPD",
        "colab_type": "text"
      },
      "source": [
        "### 8.1.1 원-핫 인코딩(One-hot encoding)이란?"
      ]
    },
    {
      "cell_type": "markdown",
      "metadata": {
        "id": "7Sw5UAFu3XvV",
        "colab_type": "text"
      },
      "source": [
        "원-핫 인코딩은 단어 집합의 크기를 벡터의 차원으로 하고, 표현하고 싶은 단어의 인덱스에 1의 값을 부여하고, 다른 인덱스에는 0을 부여하는 단어의 벡터 표현 방식입니다. 이렇게 표현된 벡터를 원-핫 벡터(One-hot vector)라고 합니다.\n",
        "\n",
        "원-핫 인코딩을 두 가지 과정으로 정리해보겠습니다.\n",
        "(1) 각 단어에 고유한 인덱스를 부여합니다. (정수 인코딩)\n",
        "(2) 표현하고 싶은 단어의 인덱스의 위치에 1을 부여하고, 다른 단어의 인덱스의 위치에는 0을 부여합니다.\n",
        "\n",
        "이해를 돕기 위해서 한국어 문장을 예제로 원-핫 벡터를 만들어보겠습니다.\n",
        "우선, 한국어 자연어 처리를 위해 코엔엘파이 패키지를 설치합니다.\n",
        "\n",
        "\n",
        "\n",
        "```\n",
        "pip install konlpy\n",
        "```\n",
        "문장 : 나는 자연어 처리를 배운다\n",
        "\n",
        "위 문장에 대해서 원-핫 인코딩을 진행하는 코드는 아래와 같습니다.\n"
      ]
    },
    {
      "cell_type": "code",
      "metadata": {
        "id": "zmsAEqcB3tSz",
        "colab_type": "code",
        "outputId": "0f154407-20ff-4567-a293-2e9292ce3604",
        "colab": {
          "base_uri": "https://localhost:8080/",
          "height": 613
        }
      },
      "source": [
        "!pip install konlpy"
      ],
      "execution_count": 1,
      "outputs": [
        {
          "output_type": "stream",
          "text": [
            "Collecting konlpy\n",
            "\u001b[?25l  Downloading https://files.pythonhosted.org/packages/85/0e/f385566fec837c0b83f216b2da65db9997b35dd675e107752005b7d392b1/konlpy-0.5.2-py2.py3-none-any.whl (19.4MB)\n",
            "\u001b[K     |████████████████████████████████| 19.4MB 1.5MB/s \n",
            "\u001b[?25hRequirement already satisfied: numpy>=1.6 in /usr/local/lib/python3.6/dist-packages (from konlpy) (1.18.4)\n",
            "Collecting JPype1>=0.7.0\n",
            "\u001b[?25l  Downloading https://files.pythonhosted.org/packages/2d/9b/e115101a833605b3c0e6f3a2bc1f285c95aaa1d93ab808314ca1bde63eed/JPype1-0.7.5-cp36-cp36m-manylinux2010_x86_64.whl (3.6MB)\n",
            "\u001b[K     |████████████████████████████████| 3.6MB 39.8MB/s \n",
            "\u001b[?25hRequirement already satisfied: lxml>=4.1.0 in /usr/local/lib/python3.6/dist-packages (from konlpy) (4.2.6)\n",
            "Collecting beautifulsoup4==4.6.0\n",
            "\u001b[?25l  Downloading https://files.pythonhosted.org/packages/9e/d4/10f46e5cfac773e22707237bfcd51bbffeaf0a576b0a847ec7ab15bd7ace/beautifulsoup4-4.6.0-py3-none-any.whl (86kB)\n",
            "\u001b[K     |████████████████████████████████| 92kB 9.3MB/s \n",
            "\u001b[?25hCollecting colorama\n",
            "  Downloading https://files.pythonhosted.org/packages/c9/dc/45cdef1b4d119eb96316b3117e6d5708a08029992b2fee2c143c7a0a5cc5/colorama-0.4.3-py2.py3-none-any.whl\n",
            "Collecting tweepy>=3.7.0\n",
            "  Downloading https://files.pythonhosted.org/packages/36/1b/2bd38043d22ade352fc3d3902cf30ce0e2f4bf285be3b304a2782a767aec/tweepy-3.8.0-py2.py3-none-any.whl\n",
            "Requirement already satisfied: requests-oauthlib>=0.7.0 in /usr/local/lib/python3.6/dist-packages (from tweepy>=3.7.0->konlpy) (1.3.0)\n",
            "Requirement already satisfied: six>=1.10.0 in /usr/local/lib/python3.6/dist-packages (from tweepy>=3.7.0->konlpy) (1.12.0)\n",
            "Requirement already satisfied: requests>=2.11.1 in /usr/local/lib/python3.6/dist-packages (from tweepy>=3.7.0->konlpy) (2.23.0)\n",
            "Requirement already satisfied: PySocks>=1.5.7 in /usr/local/lib/python3.6/dist-packages (from tweepy>=3.7.0->konlpy) (1.7.1)\n",
            "Requirement already satisfied: oauthlib>=3.0.0 in /usr/local/lib/python3.6/dist-packages (from requests-oauthlib>=0.7.0->tweepy>=3.7.0->konlpy) (3.1.0)\n",
            "Requirement already satisfied: idna<3,>=2.5 in /usr/local/lib/python3.6/dist-packages (from requests>=2.11.1->tweepy>=3.7.0->konlpy) (2.9)\n",
            "Requirement already satisfied: certifi>=2017.4.17 in /usr/local/lib/python3.6/dist-packages (from requests>=2.11.1->tweepy>=3.7.0->konlpy) (2020.4.5.1)\n",
            "Requirement already satisfied: urllib3!=1.25.0,!=1.25.1,<1.26,>=1.21.1 in /usr/local/lib/python3.6/dist-packages (from requests>=2.11.1->tweepy>=3.7.0->konlpy) (1.24.3)\n",
            "Requirement already satisfied: chardet<4,>=3.0.2 in /usr/local/lib/python3.6/dist-packages (from requests>=2.11.1->tweepy>=3.7.0->konlpy) (3.0.4)\n",
            "Installing collected packages: JPype1, beautifulsoup4, colorama, tweepy, konlpy\n",
            "  Found existing installation: beautifulsoup4 4.6.3\n",
            "    Uninstalling beautifulsoup4-4.6.3:\n",
            "      Successfully uninstalled beautifulsoup4-4.6.3\n",
            "  Found existing installation: tweepy 3.6.0\n",
            "    Uninstalling tweepy-3.6.0:\n",
            "      Successfully uninstalled tweepy-3.6.0\n",
            "Successfully installed JPype1-0.7.5 beautifulsoup4-4.6.0 colorama-0.4.3 konlpy-0.5.2 tweepy-3.8.0\n"
          ],
          "name": "stdout"
        }
      ]
    },
    {
      "cell_type": "code",
      "metadata": {
        "id": "utbgRr1R21VB",
        "colab_type": "code",
        "outputId": "bea2488b-9b8b-47ce-c8d1-7b27b1821705",
        "colab": {
          "base_uri": "https://localhost:8080/",
          "height": 35
        }
      },
      "source": [
        "from konlpy.tag import Okt  \n",
        "okt = Okt()  \n",
        "token = okt.morphs(\"나는 자연어 처리를 배운다\")  \n",
        "print(token)"
      ],
      "execution_count": 2,
      "outputs": [
        {
          "output_type": "stream",
          "text": [
            "['나', '는', '자연어', '처리', '를', '배운다']\n"
          ],
          "name": "stdout"
        }
      ]
    },
    {
      "cell_type": "markdown",
      "metadata": {
        "id": "qqztfHWX3zaa",
        "colab_type": "text"
      },
      "source": [
        "코엔엘파이의 Okt 형태소 분석기를 통해서 우선 문장에 대해서 토큰화를 수행하였습니다."
      ]
    },
    {
      "cell_type": "code",
      "metadata": {
        "id": "xkZRa2FT3ixu",
        "colab_type": "code",
        "outputId": "be9af020-069f-4df3-953b-275aff883255",
        "colab": {
          "base_uri": "https://localhost:8080/",
          "height": 35
        }
      },
      "source": [
        "word2index = {}\n",
        "for voca in token:\n",
        "     if voca not in word2index.keys():\n",
        "       word2index[voca] = len(word2index)\n",
        "print(word2index)"
      ],
      "execution_count": 3,
      "outputs": [
        {
          "output_type": "stream",
          "text": [
            "{'나': 0, '는': 1, '자연어': 2, '처리': 3, '를': 4, '배운다': 5}\n"
          ],
          "name": "stdout"
        }
      ]
    },
    {
      "cell_type": "markdown",
      "metadata": {
        "id": "RTD7AuJd36Sb",
        "colab_type": "text"
      },
      "source": [
        "각 토큰에 대해서 고유한 인덱스(index)를 부여하였습니다. 지금은 문장이 짧기 때문에 각 단어의 빈도수를 고려하지 않지만, 빈도수 순대로 단어를 정렬하여 고유한 인덱스를 부여하는 작업이 사용되기도 합니다. (정수 인코딩 챕터 참고)"
      ]
    },
    {
      "cell_type": "code",
      "metadata": {
        "id": "9SJiq_Y0300a",
        "colab_type": "code",
        "colab": {}
      },
      "source": [
        "def one_hot_encoding(word, word2index):\n",
        "       one_hot_vector = [0]*(len(word2index))\n",
        "       index = word2index[word]\n",
        "       one_hot_vector[index] = 1\n",
        "       return one_hot_vector"
      ],
      "execution_count": 0,
      "outputs": []
    },
    {
      "cell_type": "markdown",
      "metadata": {
        "id": "OoU4UrW138sE",
        "colab_type": "text"
      },
      "source": [
        "토큰을 입력하면 해당 토큰에 대한 원-핫 벡터를 만들어내는 함수를 만들었습니다."
      ]
    },
    {
      "cell_type": "code",
      "metadata": {
        "id": "cisw_7g5370F",
        "colab_type": "code",
        "outputId": "cfe69d22-b38c-403e-bcc8-71ce034397f8",
        "colab": {
          "base_uri": "https://localhost:8080/",
          "height": 35
        }
      },
      "source": [
        "one_hot_encoding(\"자연어\",word2index)"
      ],
      "execution_count": 5,
      "outputs": [
        {
          "output_type": "execute_result",
          "data": {
            "text/plain": [
              "[0, 0, 1, 0, 0, 0]"
            ]
          },
          "metadata": {
            "tags": []
          },
          "execution_count": 5
        }
      ]
    },
    {
      "cell_type": "markdown",
      "metadata": {
        "id": "mXuuBkra3_LR",
        "colab_type": "text"
      },
      "source": [
        "해당 함수에 '자연어'라는 토큰을 입력으로 넣어봤더니 [0, 0, 1, 0, 0, 0]라는 벡터가 나왔습니다. 자연어는 단어 집합에서 인덱스가 2이므로, 자연어를 표현하는 원-핫 벡터는 인덱스 2의 값이 1이며, 나머지 값은 0인 벡터가 나옵니다."
      ]
    },
    {
      "cell_type": "markdown",
      "metadata": {
        "id": "ZDZWx3954Ao-",
        "colab_type": "text"
      },
      "source": [
        "## 8.1.2 원-핫 인코딩(One-hot encoding)의 한계\n",
        "\n",
        "이러한 표현 방식은 단어의 개수가 늘어날 수록, 벡터를 저장하기 위해 필요한 공간이 계속 늘어난다는 단점이 있습니다. 다른 말로는 벡터의 차원이 계속 늘어난다고도 표현합니다. 원 핫 벡터는 단어 집합의 크기가 곧 벡터의 차원 수가 됩니다. 가령, 단어가 1,000개인 코퍼스를 가지고 원 핫 벡터를 만들면, 모든 단어 각각은 모두 1,000개의 차원을 가진 벡터가 됩니다. 다시 말해 모든 단어 각각은 하나의 값만 1을 가지고, 999개의 값은 0의 값을 가지는 벡터가 되는데 이는 저장 공간 측면에서는 매우 비효율적인 표현 방법입니다.\n",
        "\n",
        "또한 원-핫 벡터는 단어의 유사도를 표현하지 못한다는 단점이 있습니다. 예를 들어서 늑대, 호랑이, 강아지, 고양이라는 4개의 단어에 대해서 원-핫 인코딩을 해서 각각, [1, 0, 0, 0], [0, 1, 0, 0], [0, 0, 1, 0], [0, 0, 0, 1]이라는 원-핫 벡터를 부여받았다고 합시다. 이 때 원-핫 벡터로는 강아지와 늑대가 유사하고, 호랑이와 고양이가 유사하다는 것을 표현할 수가 없습니다. 좀 더 극단적으로는 강아지, 개, 냉장고라는 단어가 있을 때 강아지라는 단어가 개와 냉장고라는 단어 중 어떤 단어와 더 유사한지도 알 수 없습니다.\n",
        "\n",
        "단어 간 유사성을 알 수 없다는 단점은 검색 시스템 등에서 심각한 문제입니다. 가령, 여행을 가려고 웹 검색창에 '삿포로 숙소'라는 단어를 검색한다고 합시다. 제대로 된 검색 시스템이라면, '삿포로 숙소'라는 검색어에 대해서 '삿포로 게스트 하우스', '삿포로 료칸', '삿포로 호텔'과 같은 유사 단어에 대한 결과도 함께 보여줄 수 있어야 합니다. 하지만 단어간 유사성을 계산할 수 없다면, '게스트 하우스'와 '료칸'과 '호텔'이라는 연관 검색어를 보여줄 수 없습니다."
      ]
    },
    {
      "cell_type": "markdown",
      "metadata": {
        "id": "PN8slLKp4d4C",
        "colab_type": "text"
      },
      "source": [
        "## 8.2 워드 임베딩(Word Embedding)"
      ]
    },
    {
      "cell_type": "markdown",
      "metadata": {
        "id": "4AAxCpxG4gGa",
        "colab_type": "text"
      },
      "source": [
        "워드 임베딩(Word Embedding)은 단어를 벡터로 표현하는 것을 말합니다. 워드 임베딩은 단어를 밀집 표현으로 변환하는 방법을 말합니다. 이번 챕터에서는 희소 표현, 밀집 표현, 그리고 워드 임베딩에 대한 개념을 이해합니다."
      ]
    },
    {
      "cell_type": "markdown",
      "metadata": {
        "id": "a4YFZGG94ilc",
        "colab_type": "text"
      },
      "source": [
        "### 8.2.1 희소 표현(Sparse Representation)"
      ]
    },
    {
      "cell_type": "markdown",
      "metadata": {
        "id": "71M_odPY4mi2",
        "colab_type": "text"
      },
      "source": [
        "앞서 원-핫 인코딩을 통해서 나온 원-핫 벡터들은 표현하고자 하는 단어의 인덱스의 값만 1이고, 나머지 인덱스에는 전부 0으로 표현되는 벡터 표현 방법이었습니다. 이렇게 벡터 또는 행렬(matrix)의 값이 대부분이 0으로 표현되는 방법을 희소 표현(sparse representation)이라고 합니다. 그러니까 원-핫 벡터는 희소 벡터(sparse vector)입니다.\n",
        "\n",
        "이러한 희소 벡터의 문제점은 단어의 개수가 늘어나면 벡터의 차원이 한없이 커진다는 점입니다. 원-핫 벡터로 표현할 때는 갖고 있는 코퍼스에 단어가 10,000개였다면 벡터의 차원은 10,000이어야만 했습니다. 심지어 그 중에서 단어의 인덱스에 해당되는 부분만 1이고 나머지는 0의 값을 가져야만 했습니다. 단어 집합이 클수록 고차원의 벡터가 됩니다. 예를 들어 단어가 10,000개 있고 강아지란 단어의 인덱스는 5였다면 원 핫 벡터는 이렇게 표현되어야 했습니다.\n",
        "\n",
        "Ex) 강아지 = [ 0 0 0 0 0 1 0 0 0 0 0 0 ... 중략 ... 0] # 이 때 1 뒤의 0의 수는 9994개.\n",
        "\n",
        "이러한 벡터 표현은 공간적 낭비를 불러일으킵니다. 원-핫 벡터의 문제점은 단어 벡터 간 유사도를 표현할 수 없다는 점도 있습니다. 예를 들어보겠습니다. dog, cat, computer, netbook, book 이러한 단어가 5개에 대해서 원-핫 인코딩을 한다고 해봅시다. 우선 이 단어들에 0, 1, 2, 3, 4라는 고유한 정수를 부여합다. 그리고 나서 단어의 개수가 5개이므로 벡터의 차원으로 5로하고 부여된 각 고유한 정수를 인덱스로 하여 해당 인덱스에는 1, 나머지는 0의 값을 채워넣습니다. 이를 코드로 표현하면 아래와 같습니다."
      ]
    },
    {
      "cell_type": "code",
      "metadata": {
        "id": "G_5tI04j392d",
        "colab_type": "code",
        "colab": {}
      },
      "source": [
        "import torch\n",
        "\n",
        "# 원-핫 벡터 생성\n",
        "dog = torch.FloatTensor([1, 0, 0, 0, 0])\n",
        "cat = torch.FloatTensor([0, 1, 0, 0, 0])\n",
        "computer = torch.FloatTensor([0, 0, 1, 0, 0])\n",
        "netbook = torch.FloatTensor([0, 0, 0, 1, 0])\n",
        "book = torch.FloatTensor([0, 0, 0, 0, 1])"
      ],
      "execution_count": 0,
      "outputs": []
    },
    {
      "cell_type": "markdown",
      "metadata": {
        "id": "41GPp5pj4qeD",
        "colab_type": "text"
      },
      "source": [
        "이러한 원-핫 벡터간 코사인 유사도를 구해보겠습니다."
      ]
    },
    {
      "cell_type": "code",
      "metadata": {
        "id": "zc1jTpEw4qF9",
        "colab_type": "code",
        "outputId": "913a42ac-ae79-4fe9-a48d-9cc48e88a3c2",
        "colab": {
          "base_uri": "https://localhost:8080/",
          "height": 89
        }
      },
      "source": [
        "print(torch.cosine_similarity(dog, cat, dim=0))\n",
        "print(torch.cosine_similarity(cat, computer, dim=0))\n",
        "print(torch.cosine_similarity(computer, netbook, dim=0))\n",
        "print(torch.cosine_similarity(netbook, book, dim=0))"
      ],
      "execution_count": 7,
      "outputs": [
        {
          "output_type": "stream",
          "text": [
            "tensor(0.)\n",
            "tensor(0.)\n",
            "tensor(0.)\n",
            "tensor(0.)\n"
          ],
          "name": "stdout"
        }
      ]
    },
    {
      "cell_type": "markdown",
      "metadata": {
        "id": "SJAHlZ5A41ss",
        "colab_type": "text"
      },
      "source": [
        "사람이 생각하기에 강아지와 고양이라는 단어의 유사도는 고양이와 컴퓨터라는 단어의 유사도보다 높을 것이며, 컴퓨터와 넷북이라는 단어의 유사도는 넷북과 책이라는 단어의 유사도보다 높을 것 같지만 어떤 단어들을 선택해서 코사인 유사도를 구해도 유사도는 전부 동일합니다. 단어 간 의미적 유사도를 반영할 수 없다는 것은 자연어 처리에서 치명적입니다."
      ]
    },
    {
      "cell_type": "markdown",
      "metadata": {
        "id": "EBiRVECu44JR",
        "colab_type": "text"
      },
      "source": [
        "### 8.2.2 밀집 표현(Dense Representation)"
      ]
    },
    {
      "cell_type": "markdown",
      "metadata": {
        "id": "BbF59VTY466x",
        "colab_type": "text"
      },
      "source": [
        "이러한 희소 표현과 반대되는 표현이 있으니, 이를 밀집 표현(dense representation)이라고 합니다. 밀집 표현은 벡터의 차원을 단어 집합의 크기로 상정하지 않습니다. 사용자가 설정한 값으로 모든 단어의 벡터 표현의 차원을 맞춥니다. 또한, 이 과정에서 더 이상 0과 1만 가진 값이 아니라 실수값을 가지게 됩니다. 다시 희소 표현의 예를 가져와봅시다.\n",
        "\n",
        "Ex) 강아지 = [ 0 0 0 0 1 0 0 0 0 0 0 0 ... 중략 ... 0] # 이 때 1 뒤의 0의 수는 9995개. 차원은 10,000\n",
        "\n",
        "예를 들어 10,000개의 단어가 있을 때 강아지란 단어를 표현하기 위해서는 위와 같은 표현을 사용했습니다. 하지만 밀집 표현을 사용하고, 사용자가 밀집 표현의 차원을 128로 설정한다면, 모든 단어의 벡터 표현의 차원은 128로 바뀌면서 모든 값이 실수가 됩니다.\n",
        "\n",
        "Ex) 강아지 = [0.2 1.8 1.1 -2.1 1.1 2.8 ... 중략 ...] # 이 벡터의 차원은 128\n",
        "\n",
        "이 경우 벡터의 차원이 조밀해졌다고 하여 밀집 벡터(dense vector)라고 합니다."
      ]
    },
    {
      "cell_type": "markdown",
      "metadata": {
        "id": "n9bVvrPA5CyB",
        "colab_type": "text"
      },
      "source": [
        "### 8.2.3 워드 임베딩(Word Embedding)"
      ]
    },
    {
      "cell_type": "markdown",
      "metadata": {
        "id": "nu-R9isN5LSw",
        "colab_type": "text"
      },
      "source": [
        "단어를 밀집 벡터(dense vector)의 형태로 표현하는 방법을 **워드 임베딩(word embedding)**이라고 합니다. 그리고 이 밀집 벡터를 워드 임베딩 과정을 통해 나온 결과라고 하여 **임베딩 벡터(embedding vector)**라고도 합니다.\n",
        "\n",
        "워드 임베딩 방법론으로는 LSA, Word2Vec, FastText, Glove 등이 있습니다. 파이토치에서 제공하는 도구인 nn.embedding()는 앞서 언급한 방법들을 사용하지는 않지만, 단어를 랜덤한 값을 가지는 밀집 벡터로 변환한 뒤에, 인공 신경망의 가중치를 학습하는 것과 같은 방식으로 단어 벡터를 학습하는 방법을 사용합니다. 아래의 표는 앞서 배운 원-핫 벡터와 지금 배우고 있는 임베딩 벡터의 차이를 보여줍니다.\n",
        "\n",
        "|-|원-핫 벡터|임베딩 벡터|\n",
        "|:----|:----|:----|\n",
        "|차원|고차원(단어 집합의 크기)|저차원|\n",
        "|다른 표현|희소 벡터의 일종|밀집 벡터의 일종|\n",
        "|표현 방법|수동|훈련 데이터로부터 학습함|\n",
        "|값의 타입|1과 0|실수|"
      ]
    },
    {
      "cell_type": "markdown",
      "metadata": {
        "id": "IOna7BYC6SqR",
        "colab_type": "text"
      },
      "source": [
        "## 8.3 워드투벡터(Word2Vec)"
      ]
    },
    {
      "cell_type": "markdown",
      "metadata": {
        "id": "ShRC2ti_6VtN",
        "colab_type": "text"
      },
      "source": [
        "앞서 원-핫 인코딩 챕터에서 원-핫 벡터는 단어 간 유사도를 계산할 수 없다는 단점이 있음을 언급한 적이 있습니다. 그래서 단어 간 유사도를 반영할 수 있도록 단어의 의미를 벡터화 할 수 있는 방법이 필요합니다. 그리고 이를 위해서 사용되는 대표적인 방법이 워드투벡터(Word2Vec)입니다. Word2Vec의 개념을 설명하기에 앞서, Word2Vec가 어떤 일을 할 수 있는지 먼저 확인해보겠습니다.\n",
        "\n",
        "![대체 텍스트](https://wikidocs.net/images/page/22660/word2vec.PNG)\n",
        "\n",
        "http://w.elnn.kr/search/\n",
        "\n",
        "위 사이트는 한국어 단어에 대해서 벡터 연산을 해볼 수 있는 사이트입니다. 위 사이트에서는 단어들(실제로는 Word2Vec 벡터)로 더하기, 빼기 연산을 할 수 있습니다. 예를 들어 아래의 식에서 좌변을 집어 넣으면, 우변의 답들이 나옵니다.\n",
        "\n",
        "고양이 + 애교 = 강아지\n",
        "한국 - 서울 + 도쿄 = 일본\n",
        "박찬호 - 야구 + 축구 = 호나우두\n",
        "\n",
        "신기하게도 단어가 가지고 있는 어떤 의미들을 가지고 연산을 하고 있는 것처럼 보입니다. 이런 연산이 가능한 이유는 각 단어 벡터가 단어 간 유사도를 반영한 값을 가지고 있기 때문입니다. 어떻게 이런 일이 가능한 것일까요?"
      ]
    },
    {
      "cell_type": "markdown",
      "metadata": {
        "id": "8zXpMmpj6dSW",
        "colab_type": "text"
      },
      "source": [
        "### 8.3.1 희소 표현(Sparse Representation)"
      ]
    },
    {
      "cell_type": "markdown",
      "metadata": {
        "id": "uga8cVxj6f-n",
        "colab_type": "text"
      },
      "source": [
        "앞서 원-핫 인코딩을 통해서 나온 원-핫 벡터들은 표현하고자 하는 단어의 인덱스의 값만 1이고, 나머지 인덱스에는 전부 0으로 표현되는 벡터 표현 방법이었습니다. 이렇게 벡터 또는 행렬(matrix)의 값이 대부분이 0으로 표현되는 방법을 희소 표현(sparse representation)이라고 합니다. 그러니까 원-핫 벡터는 희소 벡터(sparse vector)입니다.\n",
        "\n",
        "하지만 이러한 표현 방법은 각 단어간 유사성을 표현할 수 없다는 단점이 있었고, 이를 위한 대안으로 단어의 '의미'를 다차원 공간에 벡터화하는 방법을 찾게되는데, 이러한 표현 방법을 **분산 표현(distributed representation)**이라고 합니다. 그리고 이렇게 분산 표현을 이용하여 단어의 유사도를 벡터화하는 작업은 워드 임베딩(embedding) 작업에 속하기 때문에 이렇게 표현된 벡터 또한 임베딩 벡터(embedding vector)라고 하며, 저차원을 가지므로 바로 앞의 챕터에서 배운 밀집 벡터(dense vector)에도 속합니다."
      ]
    },
    {
      "cell_type": "markdown",
      "metadata": {
        "id": "j4SRzwF96i0J",
        "colab_type": "text"
      },
      "source": [
        "### 8.3.2 분산 표현(Distributed Representation)"
      ]
    },
    {
      "cell_type": "markdown",
      "metadata": {
        "id": "zkUTKZMx6qOC",
        "colab_type": "text"
      },
      "source": [
        "분산 표현(distributed representation) 방법은 기본적으로 분포 가설(distributional hypothesis)이라는 가정 하에 만들어진 표현 방법입니다. 이 가정은 '비슷한 위치에서 등장하는 단어들은 비슷한 의미를 가진다'라는 가정입니다. 강아지란 단어는 귀엽다, 예쁘다, 애교 등의 단어가 주로 함께 등장하는데 분포 가설에 따라서 저런 내용을 가진 텍스트를 벡터화한다면 저 단어들은 의미적으로 가까운 단어가 됩니다. 분산 표현은 분포 가설을 이용하여 단어들의 셋을 학습하고, 벡터에 단어의 의미를 여러 차원에 분산하여 표현합니다.\n",
        "\n",
        "이렇게 표현된 벡터들은 원-핫 벡터처럼 벡터의 차원이 단어 집합(vocabulary)의 크기일 필요가 없으므로, 벡터의 차원이 상대적으로 저차원으로 줄어듭니다. 예를 들어 단어가 10,000개 있고 인덱스가 1부터 시작한다고 하였을 때 강아지란 단어의 인덱스는 5였다면 강아지란 단어를 표현하는 원-핫 벡터는 다음과 같았습니다.\n",
        "\n",
        "Ex) 강아지 = [ 0 0 0 0 1 0 0 0 0 0 0 0 ... 중략 ... 0]\n",
        "\n",
        "1이란 값 뒤에는 0이 9,995개가 있는 벡터가 됩니다. 하지만 Word2Vec로 임베딩 된 벡터는 굳이 벡터의 차원이 단어 집합의 크기가 될 필요가 없습니다. 강아지란 단어를 표현하기 위해 사용자가 설정한 차원을 가지는 벡터가 되면서 각 차원은 실수형의 값을 가집니다.\n",
        "\n",
        "Ex) 강아지 = [0.2 0.3 0.5 0.7 0.2 ... 중략 ... 0.2]\n",
        "\n",
        "요약하면 희소 표현이 고차원에 각 차원이 분리된 표현 방법이었다면, 분산 표현은 저차원에 단어의 의미를 여러 차원에다가 분산하여 표현합니다. 이런 표현 방법을 사용하면 단어 간 유사도를 계산할 수 있습니다.\n",
        "\n",
        "이를 위한 학습 방법으로는 NNLM, RNNLM 등이 있으나 요즘에는 해당 방법들의 속도를 대폭 개선시킨 Word2Vec가 많이 쓰이고 있습니다."
      ]
    },
    {
      "cell_type": "markdown",
      "metadata": {
        "id": "8v0Po_-p6reB",
        "colab_type": "text"
      },
      "source": [
        "### 8.3.3 CBOW(Continuous Bag of Words)"
      ]
    },
    {
      "cell_type": "markdown",
      "metadata": {
        "id": "gfJMLhIr6vUi",
        "colab_type": "text"
      },
      "source": [
        "Word2Vec에는 CBOW(Continuous Bag of Words)와 Skip-Gram 두 가지 방식이 있습니다. CBOW는 주변에 있는 단어들을 가지고, 중간에 있는 단어들을 예측하는 방법입니다. 반대로, Skip-Gram은 중간에 있는 단어로 주변 단어들을 예측하는 방법입니다. 메커니즘 자체는 거의 동일하기 때문에 CBOW를 이해한다면 Skip-Gram도 손쉽게 이해 가능합니다. 우선 CBOW에 대해서 알아보도록 하겠습니다. 이해를 위해 매우 간소화 된 형태의 CBOW로 설명합니다.\n",
        "\n",
        "예문 : \"The fat cat sat on the mat\"\n",
        "예를 들어서 갖고 있는 코퍼스에 위와 같은 문장이 있다고 합시다. 가운데 단어를 예측하는 것이 CBOW라고 했습니다. {\"The\", \"fat\", \"cat\", \"on\", \"the\", \"mat\"}으로부터 sat을 예측하는 것은 CBOW가 하는 일입니다. 이 때 예측해야하는 단어 sat을 중심 단어(center word)라고 하고, 예측에 사용되는 단어들을 주변 단어(context word)라고 합니다.\n",
        "\n",
        "중심 단어를 예측하기 위해서 앞, 뒤로 몇 개의 단어를 볼지를 결정했다면 이 범위를 윈도우(window)라고 합니다. 예를 들어서 윈도우 크기가 2이고, 예측하고자 하는 중심 단어가 sat이라고 한다면 앞의 두 단어인 fat와 cat, 그리고 뒤의 두 단어인 on, the를 참고합니다. 윈도우 크기가 n이라고 한다면, 실제 중심 단어를 예측하기 위해 참고하려고 하는 주변 단어의 개수는 2n이 될 것입니다.\n",
        "\n",
        "![대체 텍스트](https://wikidocs.net/images/page/22660/%EB%8B%A8%EC%96%B4.PNG)\n",
        "\n",
        "윈도우 크기를 정했다면, 윈도우를 계속 움직여서 주변 단어와 중심 단어 선택을 바꿔가며 학습을 위한 데이터 셋을 만들 수 있는데, 이 방법을 슬라이딩 윈도우(sliding window)라고 합니다.\n",
        "\n",
        "위 그림에서 좌측의 중심 단어와 주변 단어의 변화는 윈도우 크기가 2일때, 슬라이딩 윈도우가 어떤 식으로 이루어지면서 데이터 셋을 만드는지 보여줍니다. 또한 Word2Vec에서 입력은 모두 원-핫 벡터가 되어야 하는데, 우측 그림은 중심 단어와 주변 단어를 어떻게 선택했을 때에 따라서 각각 어떤 원-핫 벡터가 되는지를 보여줍니다. 위 그림은 결국 CBOW를 위한 전체 데이터 셋을 보여주는 것입니다.\n",
        "\n",
        "![대체 텍스트](https://wikidocs.net/images/page/22660/word2vec_renew_1.PNG)\n",
        "\n",
        "CBOW의 인공 신경망을 간단히 도식화하면 위와 같습니다. 입력층(Input layer)의 입력으로서 앞, 뒤로 사용자가 정한 윈도우 크기 범위 안에 있는 주변 단어들의 원-핫 벡터가 들어가게 되고, 출력층(Output layer)에서 예측하고자 하는 중간 단어의 원-핫 벡터가 필요합니다. 뒤에서 설명하겠지만, Word2Vec의 학습을 위해서 이 중간 단어의 원-핫 벡터가 필요합니다.\n",
        "\n",
        "또한 위 그림에서 알 수 있는 사실은, Word2Vec은 딥 러닝 모델(Deep Learning Model)은 아니라는 점입니다. 보통 딥 러닝이라함은, 입력층과 출력층 사이의 은닉층의 개수가 충분히 쌓인 신경망을 학습할 때를 말하는데 Word2Vec는 입력층과 출력층 사이에 하나의 은닉층만이 존재합니다. 이렇게 은닉층(hidden Layer)이 1개인 경우에는 일반적으로 심층신경망(Deep Neural Network)이 아니라 얕은신경망(Shallow Neural Network)이라고 부릅니다. 또한 Word2Vec의 은닉층은 일반적인 은닉층과는 달리 활성화 함수가 존재하지 않으며 룩업 테이블이라는 연산을 담당하는 층으로 일반적인 은닉층과 구분하기 위해 투사층(projection layer)이라고 부르기도 합니다.\n",
        "\n",
        "![대체 텍스트](https://wikidocs.net/images/page/22660/word2vec_renew_2.PNG)\n",
        "\n",
        "CBOW의 인공 신경망을 좀 더 확대하여, 동작 메커니즘에 대해서 상세하게 알아보도록 하겠습니다. 이 그림에서 주목해야할 것은 두 가지 입니다. 하나는 투사층의 크기가 M이라는 점입니다. CBOW에서 투사층의 크기 M은 임베딩하고 난 벡터의 차원이 됩니다. 다시 말해, 위의 그림에서 투사층의 크기는 M=5이기 때문에 CBOW를 수행하고나서 얻는 각 단어의 임베딩 벡터의 차원은 5가 될 것입니다.\n",
        "\n",
        "두번째는 입력층과 투사층 사이의 가중치 W는 V × M 행렬이며, 투사층에서 출력층사이의 가중치 W'는 M × V 행렬이라는 점입니다. 여기서 V는 단어 집합의 크기를 의미합니다. 즉, 위의 그림처럼 원-핫 벡터의 차원이 7이고, M은 5라면 가중치 W는 7 × 5 행렬이고, W'는 5 × 7 행렬이 될 것입니다. 주의할 점은 이 두 행렬은 동일한 행렬을 전치(transpose)한 것이 아니라, 서로 다른 행렬이라는 점입니다. 인공 신경망의 훈련 전에 이 가중치 행렬 W와 W'는 대게 굉장히 작은 랜덤 값을 가지게 됩니다. CBOW는 주변 단어로 중심 단어를 더 정확히 맞추기 위해 계속해서 이 W와 W'를 학습해가는 구조입니다.\n",
        "\n",
        "![대체 텍스트](https://wikidocs.net/images/page/22660/word2vec_renew_3.PNG)\n",
        "\n",
        "입력으로 들어오는 주변 단어의 원-핫 벡터와 가중치 W 행렬의 곱이 어떻게 이루어지는지 보겠습니다. 위 그림에서는 각 주변 단어의 원-핫 벡터를 x로 표기하였습니다. 입력 벡터는 원-핫 벡터입니다. i번째 인덱스에 1이라는 값을 가지고 그 외의 0의 값을 가지는 입력 벡터와 가중치 W 행렬의 곱은 사실 W행렬의 i번째 행을 그대로 읽어오는 것과(lookup) 동일합니다. 그래서 이 작업을 룩업 테이블(lookup table)이라고 부릅니다. 앞서 CBOW의 목적은 W와 W'를 잘 훈련시키는 것이라고 언급한 적이 있는데, 사실 그 이유가 여기서 lookup해온 W의 각 행벡터가 사실 Word2Vec을 수행한 후의 각 단어의 M차원의 크기를 갖는 임베딩 벡터들이기 때문입니다.\n",
        "\n",
        "![대체 텍스트](https://wikidocs.net/images/page/22660/word2vec_renew_4.PNG)\n",
        "\n",
        "이렇게 각 주변 단어의 원-핫 벡터에 대해서 가중치 W가 곱해서 생겨진 결과 벡터들은 투사층에서 만나 이 벡터들의 평균인 벡터를 구하게 됩니다. 만약 윈도우 크기가 2라면, 입력 벡터의 총 개수는 2n이므로 중간 단어를 예측하기 위해서는 총 4개가 입력 벡터로 사용됩니다. 그렇기 때문에 평균을 구할 때는 4개의 결과 벡터에 대해서 평균을 구하게 됩니다. 투사층에서 벡터의 평균을 구하는 부분은 CBOW가 Skip-Gram과 다른 차이점이기도 합니다. 뒤에서 보게되겠지만, Skip-Gram은 입력이 중심 단어 하나이기때문에 투사층에서 벡터의 평균을 구하지 않습니다.\n",
        "\n",
        "![대체 텍스트](https://wikidocs.net/images/page/22660/word2vec_renew_5.PNG)\n",
        "\n",
        "이렇게 구해진 평균 벡터는 두번째 가중치 행렬 W'와 곱해집니다. 곱셈의 결과로는 원-핫 벡터들과 차원이 V로 동일한 벡터가 나옵니다. 만약 입력 벡터의 차원이 7이었다면 여기서 나오는 벡터도 마찬가지입니다.\n",
        "\n",
        "이 벡터에 CBOW는 소프트맥스(softmax) 함수를 취하는데, 소프트맥스 함수로 인한 출력값은 0과 1사이의 실수로, 각 원소의 총 합은 1이 되는 상태로 바뀝니다. 이렇게 나온 벡터를 스코어 벡터(score vector)라고 합니다. 스코어 벡터의 각 차원 안에서의 값이 의미하는 것은 아래와 같습니다.\n",
        "\n",
        "스코어 벡터의 j번째 인덱스가 가진 0과 1사이의 값은 j번째 단어가 중심 단어일 확률을 나타냅니다. 그리고 이 스코어 벡터는 우리가 실제로 값을 알고있는 벡터인 중심 단어 원-핫 벡터의 값에 가까워져야 합니다. 스코어 벡터를 $\\hat{𝑦}$라고 하겠습니다. 중심 단어를 $y$로 했을 때, 이 두 벡터값의 오차를 줄이기위해 CBOW는 손실 함수(loss function)로 cross-entropy 함수를 사용합니다.\n",
        "\n",
        "![대체 텍스트](https://wikidocs.net/images/page/22660/crossentrophy.PNG)\n",
        "\n",
        "cross-entropy 함수에 실제 중심 단어인 원-핫 벡터와 스코어 벡터를 입력값으로 넣고, 이를 식으로 표현하면 위와 같습니다.\n",
        "\n",
        "![대체 텍스트](https://wikidocs.net/images/page/22660/crossentrophy2.PNG)\n",
        "\n",
        "그런데 y가 원-핫 벡터라는 점을 고려하면, 이 식은 위와 같이 간소화시킬 수 있습니다. 이 식이 왜 loss function으로 적합한지 알아보겠습니다. c를 중심 단어에서 1을 가진 차원의 값의 인덱스라고 한다면, ![대체 텍스트](https://wikidocs.net/images/page/22660/best.PNG)는 $\\hat{𝑦}$가 $y$를 정확하게 예측한 경우가 됩니다. 이를 식에 대입해보면 -1 log(1) = 0이 되기 때문에, 결과적으로 $\\hat{𝑦}$가 $y$를 정확하게 예측한 경우의 cross-entropy의 값은 0이 됩니다. 즉, ![대체 텍스트](https://wikidocs.net/images/page/22660/crossentrophy.PNG)이 값을 최소화하는 방향으로 학습해야 합니다.\n",
        "\n",
        "이제 역전파(Back Propagation)를 수행하면 W와 W'가 학습이 되는데, 학습이 다 되었다면 M차원의 크기를 갖는 W의 행이나 W'의 열로부터 어떤 것을 임베딩 벡터로 사용할지를 결정하면 됩니다. 때로는 W와 W'의 평균치를 가지고 임베딩 벡터를 선택하기도 합니다."
      ]
    },
    {
      "cell_type": "markdown",
      "metadata": {
        "id": "neENi3q8ht3M",
        "colab_type": "text"
      },
      "source": [
        "### 8.3.4 Skip-gram"
      ]
    },
    {
      "cell_type": "markdown",
      "metadata": {
        "id": "P9_uehMWhzlk",
        "colab_type": "text"
      },
      "source": [
        "Skip-gram은 CBOW를 이해했다면, 메커니즘 자체는 동일하기 때문에 쉽게 이해할 수 있습니다. 앞서 CBOW에서는 주변 단어를 통해 중심 단어를 예측했다면, Skip-gram은 중심 단어에서 주변 단어를 예측하려고 합니다.\n",
        "\n",
        "![대체 텍스트](https://wikidocs.net/images/page/22660/word2vec_renew_6.PNG)\n",
        "\n",
        "앞서 언급한 동일한 예문에 대해서 인공 신경망을 도식화해보면 위와 같습니다. 이제 중심 단어에 대해서 주변 단어를 예측하기 때문에, 투사층에서 벡터들의 평균을 구하는 과정은 없습니다.\n",
        "\n",
        "여러 논문에서 성능 비교를 진행했을 때, 전반적으로 Skip-gram이 CBOW보다 성능이 좋다고 알려져 있습니다."
      ]
    },
    {
      "cell_type": "markdown",
      "metadata": {
        "id": "RBpwEYcWh4pq",
        "colab_type": "text"
      },
      "source": [
        "### 8.3.5 네거티브 샘플링(Negative Sampling)"
      ]
    },
    {
      "cell_type": "markdown",
      "metadata": {
        "id": "rXw3ZiwTh7kR",
        "colab_type": "text"
      },
      "source": [
        "대체적으로 Word2Vec를 사용한다고 하면 SGNS(Skip-Gram with Negative Sampling)을 사용합니다. Skip-gram을 사용하는데, 네거티브 샘플링(Negative Sampling)이란 방법까지 추가로 사용한다는 겁니다. Skip-gram을 전제로 네거티브 샘플링에 대해서 알아봅시다.\n",
        "\n",
        "위에서 배운 Word2Vec 모델에는 한 가지 문제점이 있습니다. 바로 속도입니다. Word2Vec의 마지막 단계를 주목해봅시다. 출력층에 있는 소프트맥스 함수는 단어 집합 크기의 벡터 내의 모든 값을 0과 1사이의 값이면서 모두 더하면 1이 되도록 바꾸는 작업을 수행합니다. 그리고 이에 대한 오차를 구하고 모든 단어에 대한 임베딩을 조정합니다. 그 단어가 중심 단어나 주변 단어와 전혀 상관없는 단어라도 마찬가지 입니다. 그런데 만약 단어 집합의 크기가 수백만에 달한다면 이 작업은 굉장히 무거운 작업입니다.\n",
        "\n",
        "여기서 중요한 건 Word2Vec이 모든 단어 집합에 대해서 소프트맥스 함수를 수행하고, 역전파를 수행하므로 주변 단어와 상관 없는 모든 단어까지의 워드 임베딩 조정 작업을 수행한다는 겁니다. 만약 마지막 단계에서 '강아지'와 '고양이'와 같은 단어에 집중하고 있다면, Word2Vec은 사실 '돈가스'나 '컴퓨터'와 같은 연관 관계가 없는 수많은 단어의 임베딩을 조정할 필요가 없습니다.\n",
        "\n",
        "이를 조금 더 효율적으로 할 수 있는 방법이 없을까요? 전체 단어 집합이 아니라 일부 단어 집합에 대해서만 고려하면 안 될까요? 이렇게 일부 단어 집합을 만들어봅시다. '강아지', '고양이', '애교'와 같은 주변 단어들을 가져옵니다. 그리고 여기에 '돈가스', '컴퓨터', '회의실'과 같은 랜덤으로 선택된 주변 단어가 아닌 상관없는 단어들을 일부만 갖고옵니다. 이렇게 전체 단어 집합보다 훨씬 작은 단어 집합을 만들어놓고 마지막 단계를 이진 분류 문제로 바꿔버리는 겁니다. 즉, Word2Vec은 주변 단어들을 긍정(positive)으로 두고 랜덤으로 샘플링 된 단어들을 부정(negative)으로 둔 다음에 이진 분류 문제를 수행합니다.\n",
        "\n",
        "이는 기존의 다중 클래스 분류 문제를 이진 분류 문제로 바꾸면서도 연산량에 있어서 훨씬 효율적입니다.\n",
        "\n",
        "다음 챕터에서 영어와 한국어 훈련 데이터에 대해서 Word2Vec 모델을 훈련시키는 실습을 진행해보겠습니다."
      ]
    },
    {
      "cell_type": "markdown",
      "metadata": {
        "id": "kDwYJ65Sh_n1",
        "colab_type": "text"
      },
      "source": [
        "## 8.4 영어/한국어 Word2vec 훈련시키기"
      ]
    },
    {
      "cell_type": "markdown",
      "metadata": {
        "id": "6jZ5wb8-iC5c",
        "colab_type": "text"
      },
      "source": [
        "이번 챕터에서는 영어와 한국어 훈련 데이터에 대해서 Word2Vec을 학습해보겠습니다. gensim 패키지에서 Word2Vec은 이미 구현되어져 있으므로, 별도로 Word2Vec을 구현할 필요없이 손쉽게 훈련시킬 수 있습니다."
      ]
    },
    {
      "cell_type": "markdown",
      "metadata": {
        "id": "q0hY_XGFiEWa",
        "colab_type": "text"
      },
      "source": [
        "### 8.4.1 영어 Word2Vec 만들기"
      ]
    },
    {
      "cell_type": "markdown",
      "metadata": {
        "id": "R4wEAtrNiG5Q",
        "colab_type": "text"
      },
      "source": [
        "이번에는 영어 데이터를 다운로드 받아 직접 Word2Vec 작업을 진행해보도록 하겠습니다. 파이썬의 gensim 패키지에는 Word2Vec을 지원하고 있어, gensim 패키지를 이용하면 손쉽게 단어를 임베딩 벡터로 변환시킬 수 있습니다. 영어로 된 코퍼스를 다운받아 전처리를 수행하고, 전처리한 데이터를 바탕으로 Word2Vec 작업을 진행하겠습니다.\n",
        "\n",
        "우선 필요한 도구들을 임포트합니다."
      ]
    },
    {
      "cell_type": "code",
      "metadata": {
        "id": "TIYfAluD4sdC",
        "colab_type": "code",
        "outputId": "986c1b6a-bff6-4961-b753-ea172ebd13d3",
        "colab": {
          "base_uri": "https://localhost:8080/",
          "height": 71
        }
      },
      "source": [
        "import nltk\n",
        "nltk.download('punkt')"
      ],
      "execution_count": 8,
      "outputs": [
        {
          "output_type": "stream",
          "text": [
            "[nltk_data] Downloading package punkt to /root/nltk_data...\n",
            "[nltk_data]   Unzipping tokenizers/punkt.zip.\n"
          ],
          "name": "stdout"
        },
        {
          "output_type": "execute_result",
          "data": {
            "text/plain": [
              "True"
            ]
          },
          "metadata": {
            "tags": []
          },
          "execution_count": 8
        }
      ]
    },
    {
      "cell_type": "code",
      "metadata": {
        "id": "ZoRZLmkTiIvF",
        "colab_type": "code",
        "colab": {}
      },
      "source": [
        "import urllib.request\n",
        "import zipfile\n",
        "from lxml import etree\n",
        "import re\n",
        "from nltk.tokenize import word_tokenize, sent_tokenize"
      ],
      "execution_count": 0,
      "outputs": []
    },
    {
      "cell_type": "markdown",
      "metadata": {
        "id": "YTq17BpQiaFq",
        "colab_type": "text"
      },
      "source": [
        "1) 훈련 데이터 이해하기\n",
        "\n",
        "[링크](https://wit3.fbk.eu/get.php?path=XML_releases/xml/ted_en-20160408.zip&filename=ted_en-20160408.zip)\n",
        "\n",
        "위 위 zip 파일의 압축을 풀면 ted_en-20160408.xml이라는 파일을 얻을 수 있습니다. 여기서는 파이썬 코드를 통해 자동으로 xml 파일을 다운로드 받겠습니다.\n",
        "\n"
      ]
    },
    {
      "cell_type": "code",
      "metadata": {
        "id": "ZZZRGR-siJ4E",
        "colab_type": "code",
        "outputId": "3afad457-4269-4354-fbaf-d287791b5d1b",
        "colab": {
          "base_uri": "https://localhost:8080/",
          "height": 34
        }
      },
      "source": [
        "urllib.request.urlretrieve(\"https://raw.githubusercontent.com/GaoleMeng/RNN-and-FFNN-textClassification/master/ted_en-20160408.xml\", filename=\"ted_en-20160408.xml\")\n",
        "# 데이터 다운로드"
      ],
      "execution_count": 10,
      "outputs": [
        {
          "output_type": "execute_result",
          "data": {
            "text/plain": [
              "('ted_en-20160408.xml', <http.client.HTTPMessage at 0x7f7eacc6f320>)"
            ]
          },
          "metadata": {
            "tags": []
          },
          "execution_count": 10
        }
      ]
    },
    {
      "cell_type": "markdown",
      "metadata": {
        "id": "UlvUHsKZiizn",
        "colab_type": "text"
      },
      "source": [
        "아래는 해당 xml 파일의 형식을 보여줍니다. 해당 파일은 xml 문법으로 작성되어 있어 자연어를 얻기 위해서는 전처리가 필요합니다. 얻고자 하는 실질적 데이터는 영어문장으로만 구성된 내용을 담고 있는 < content >와 < /content > 사이의 내용입니다. 전처리 작업을 통해 xml 문법들은 제거하고, 해당 데이터만 가져와야 합니다. 뿐만 아니라, < content >와 < /content > 사이의 내용 중에는 (Laughter)나 (Applause)와 같은 배경음을 나타내는 단어도 등장하는데 이 또한 제거해야 합니다."
      ]
    },
    {
      "cell_type": "markdown",
      "metadata": {
        "id": "rXCDEBjQio2D",
        "colab_type": "text"
      },
      "source": [
        "\n",
        "\n",
        "```\n",
        "<file id=\"1\">\n",
        "  <head>\n",
        "<url>http://www.ted.com/talks/knut_haanaes_two_reasons_companies_fail_and_how_to_avoid_them</url>\n",
        "       <pagesize>72832</pagesize>\n",
        "... xml 문법 중략 ...\n",
        "<content>\n",
        "Here are two reasons companies fail: they only do more of the same, or they only do what's new.\n",
        "To me the real, real solution to quality growth is figuring out the balance between two activities:\n",
        "... content 내용 중략 ...\n",
        "To me, the irony about the Facit story is hearing about the Facit engineers, who had bought cheap, small electronic calculators in Japan that they used to double-check their calculators.\n",
        "(Laughter)\n",
        "... content 내용 중략 ...\n",
        "(Applause)\n",
        "</content>\n",
        "</file>\n",
        "<file id=\"2\">\n",
        "    <head>\n",
        "<url>http://www.ted.com/talks/lisa_nip_how_humans_could_evolve_to_survive_in_space<url>\n",
        "... 이하 중략 ...\n",
        "```\n",
        "\n"
      ]
    },
    {
      "cell_type": "markdown",
      "metadata": {
        "id": "uOvwcP7JistB",
        "colab_type": "text"
      },
      "source": [
        "2) 훈련 데이터 전처리 하기\n",
        "\n",
        "위 데이터를 위한 전처리 코드는 아래와 같습니다."
      ]
    },
    {
      "cell_type": "code",
      "metadata": {
        "id": "4lN9HiObiiAC",
        "colab_type": "code",
        "colab": {}
      },
      "source": [
        "targetXML=open('ted_en-20160408.xml', 'r', encoding='UTF8')\n",
        "# 저자의 경우 윈도우 바탕화면에서 작업하여서 'C:\\Users\\USER\\Desktop\\ted_en-20160408.xml'이 해당 파일의 경로.  \n",
        "target_text = etree.parse(targetXML)\n",
        "parse_text = '\\n'.join(target_text.xpath('//content/text()'))\n",
        "# xml 파일로부터 <content>와 </content> 사이의 내용만 가져온다.\n",
        "\n",
        "content_text = re.sub(r'\\([^)]*\\)', '', parse_text)\n",
        "# 정규 표현식의 sub 모듈을 통해 content 중간에 등장하는 (Audio), (Laughter) 등의 배경음 부분을 제거.\n",
        "# 해당 코드는 괄호로 구성된 내용을 제거.\n",
        "\n",
        "sent_text = sent_tokenize(content_text)\n",
        "# 입력 코퍼스에 대해서 NLTK를 이용하여 문장 토큰화를 수행.\n",
        "\n",
        "normalized_text = []\n",
        "for string in sent_text:\n",
        "     tokens = re.sub(r\"[^a-z0-9]+\", \" \", string.lower())\n",
        "     normalized_text.append(tokens)\n",
        "# 각 문장에 대해서 구두점을 제거하고, 대문자를 소문자로 변환.\n",
        "\n",
        "result = []\n",
        "result = [word_tokenize(sentence) for sentence in normalized_text]\n",
        "# 각 문장에 대해서 NLTK를 이용하여 단어 토큰화를 수행."
      ],
      "execution_count": 0,
      "outputs": []
    },
    {
      "cell_type": "code",
      "metadata": {
        "id": "l-H1KXBhiytS",
        "colab_type": "code",
        "outputId": "38f6ba4d-540f-48f1-d474-bd3e555a36ee",
        "colab": {
          "base_uri": "https://localhost:8080/",
          "height": 35
        }
      },
      "source": [
        "print('총 샘플의 개수 : {}'.format(len(result)))"
      ],
      "execution_count": 12,
      "outputs": [
        {
          "output_type": "stream",
          "text": [
            "총 샘플의 개수 : 273424\n"
          ],
          "name": "stdout"
        }
      ]
    },
    {
      "cell_type": "markdown",
      "metadata": {
        "id": "aeEydC79i1Eo",
        "colab_type": "text"
      },
      "source": [
        "총 샘플의 개수는 약 27만 3천개입니다."
      ]
    },
    {
      "cell_type": "code",
      "metadata": {
        "id": "Dbl32nC6i0N0",
        "colab_type": "code",
        "outputId": "5eed558f-32be-4484-dbdd-aac47a780104",
        "colab": {
          "base_uri": "https://localhost:8080/",
          "height": 91
        }
      },
      "source": [
        "for line in result[:3]: # 샘플 3개만 출력\n",
        "    print(line)"
      ],
      "execution_count": 13,
      "outputs": [
        {
          "output_type": "stream",
          "text": [
            "['here', 'are', 'two', 'reasons', 'companies', 'fail', 'they', 'only', 'do', 'more', 'of', 'the', 'same', 'or', 'they', 'only', 'do', 'what', 's', 'new']\n",
            "['to', 'me', 'the', 'real', 'real', 'solution', 'to', 'quality', 'growth', 'is', 'figuring', 'out', 'the', 'balance', 'between', 'two', 'activities', 'exploration', 'and', 'exploitation']\n",
            "['both', 'are', 'necessary', 'but', 'it', 'can', 'be', 'too', 'much', 'of', 'a', 'good', 'thing']\n"
          ],
          "name": "stdout"
        }
      ]
    },
    {
      "cell_type": "markdown",
      "metadata": {
        "id": "ZNoLmoYGi55q",
        "colab_type": "text"
      },
      "source": [
        "상위 3개 문장만 출력해보았는데 토큰화가 수행되었음을 볼 수 있습니다. 이제 Word2Vec 모델에 텍스트 데이터를 훈련시킵니다."
      ]
    },
    {
      "cell_type": "markdown",
      "metadata": {
        "id": "jo5PT0Xsi8TO",
        "colab_type": "text"
      },
      "source": [
        "3) Word2Vec 훈련시키기"
      ]
    },
    {
      "cell_type": "code",
      "metadata": {
        "id": "C1KzZ-G5i45H",
        "colab_type": "code",
        "colab": {}
      },
      "source": [
        "from gensim.models import Word2Vec\n",
        "model = Word2Vec(sentences=result, size=100, window=5, min_count=5, workers=4, sg=0)"
      ],
      "execution_count": 0,
      "outputs": []
    },
    {
      "cell_type": "markdown",
      "metadata": {
        "id": "0I5LJkqKjAwt",
        "colab_type": "text"
      },
      "source": [
        "여기서 Word2Vec의 하이퍼파라미터값은 다음과 같습니다.\n",
        "size = 워드 벡터의 특징 값. 즉, 임베딩 된 벡터의 차원.\n",
        "window = 컨텍스트 윈도우 크기\n",
        "min_count = 단어 최소 빈도 수 제한 (빈도가 적은 단어들은 학습하지 않는다.)\n",
        "workers = 학습을 위한 프로세스 수\n",
        "sg = 0은 CBOW, 1은 Skip-gram.\n",
        "\n",
        "이제 Word2Vec에 대해서 학습을 진행하였습니다. Word2Vec는 입력한 단어에 대해서 가장 유사한 단어들을 출력하는 model.wv.most_similar을 지원합니다. man과 가장 유사한 단어들은 어떤 단어들일까요?"
      ]
    },
    {
      "cell_type": "code",
      "metadata": {
        "id": "I5aRY1Cri_26",
        "colab_type": "code",
        "outputId": "b1737a9c-1465-4835-e56c-af68f79307aa",
        "colab": {
          "base_uri": "https://localhost:8080/",
          "height": 91
        }
      },
      "source": [
        "model_result = model.wv.most_similar(\"man\")\n",
        "print(model_result)"
      ],
      "execution_count": 15,
      "outputs": [
        {
          "output_type": "stream",
          "text": [
            "[('woman', 0.8354801535606384), ('guy', 0.8292797803878784), ('lady', 0.783173143863678), ('boy', 0.7428253293037415), ('girl', 0.7317835092544556), ('gentleman', 0.7199835181236267), ('kid', 0.706850528717041), ('soldier', 0.7005373239517212), ('friend', 0.6651573181152344), ('poet', 0.64730304479599)]\n"
          ],
          "name": "stdout"
        },
        {
          "output_type": "stream",
          "text": [
            "/usr/local/lib/python3.6/dist-packages/gensim/matutils.py:737: FutureWarning: Conversion of the second argument of issubdtype from `int` to `np.signedinteger` is deprecated. In future, it will be treated as `np.int64 == np.dtype(int).type`.\n",
            "  if np.issubdtype(vec.dtype, np.int):\n"
          ],
          "name": "stderr"
        }
      ]
    },
    {
      "cell_type": "markdown",
      "metadata": {
        "id": "jSttxMcmjDmP",
        "colab_type": "text"
      },
      "source": [
        "man과 유사한 단어로 woman, guy, boy, lady, girl, gentleman, soldier, kid 등을 출력하는 것을 볼 수 있습니다. 이제 Word2Vec를 통해 단어의 유사도를 계산할 수 있게 되었습니다."
      ]
    },
    {
      "cell_type": "markdown",
      "metadata": {
        "id": "mWylhUJpjLoL",
        "colab_type": "text"
      },
      "source": [
        "4) Word2Vec 모델 저장하고 로드하기\n",
        "\n",
        "공들여 학습한 모델을 언제든 나중에 다시 사용할 수 있도록 컴퓨터 파일로 저장하고 다시 로드해보겠습니다. 이 모델을 가지고 시각화 챕터에서 시각화를 진행할 예정이므로 꼭 저장해주세요."
      ]
    },
    {
      "cell_type": "code",
      "metadata": {
        "id": "XqreYa9_jCvV",
        "colab_type": "code",
        "outputId": "5b8ccb81-64a8-41c8-aab1-bc36f3648264",
        "colab": {
          "base_uri": "https://localhost:8080/",
          "height": 73
        }
      },
      "source": [
        "from gensim.models import KeyedVectors\n",
        "model.wv.save_word2vec_format('./eng_w2v') # 모델 저장\n",
        "loaded_model = KeyedVectors.load_word2vec_format(\"eng_w2v\") # 모델 로드"
      ],
      "execution_count": 16,
      "outputs": [
        {
          "output_type": "stream",
          "text": [
            "/usr/local/lib/python3.6/dist-packages/smart_open/smart_open_lib.py:253: UserWarning: This function is deprecated, use smart_open.open instead. See the migration notes for details: https://github.com/RaRe-Technologies/smart_open/blob/master/README.rst#migrating-to-the-new-open-function\n",
            "  'See the migration notes for details: %s' % _MIGRATION_NOTES_URL\n"
          ],
          "name": "stderr"
        }
      ]
    },
    {
      "cell_type": "markdown",
      "metadata": {
        "id": "erPqogB2juad",
        "colab_type": "text"
      },
      "source": [
        "로드한 모델에 대해서 다시 man과 유사한 단어를 출력해보겠습니다."
      ]
    },
    {
      "cell_type": "code",
      "metadata": {
        "id": "BQWjWf0ejV5V",
        "colab_type": "code",
        "outputId": "a9a837e4-31fa-43a2-db4c-77e1785eaea9",
        "colab": {
          "base_uri": "https://localhost:8080/",
          "height": 91
        }
      },
      "source": [
        "model_result = loaded_model.most_similar(\"man\")\n",
        "print(model_result)"
      ],
      "execution_count": 17,
      "outputs": [
        {
          "output_type": "stream",
          "text": [
            "[('woman', 0.8354801535606384), ('guy', 0.8292797803878784), ('lady', 0.783173143863678), ('boy', 0.7428253293037415), ('girl', 0.7317835092544556), ('gentleman', 0.7199835181236267), ('kid', 0.706850528717041), ('soldier', 0.7005373239517212), ('friend', 0.6651573181152344), ('poet', 0.64730304479599)]\n"
          ],
          "name": "stdout"
        },
        {
          "output_type": "stream",
          "text": [
            "/usr/local/lib/python3.6/dist-packages/gensim/matutils.py:737: FutureWarning: Conversion of the second argument of issubdtype from `int` to `np.signedinteger` is deprecated. In future, it will be treated as `np.int64 == np.dtype(int).type`.\n",
            "  if np.issubdtype(vec.dtype, np.int):\n"
          ],
          "name": "stderr"
        }
      ]
    },
    {
      "cell_type": "markdown",
      "metadata": {
        "id": "4flNVX3Tjz1j",
        "colab_type": "text"
      },
      "source": [
        "### 8.4.2 한국어 Word2Vec 만들기\n",
        "\n",
        "이번에는 위키피디아 한국어 덤프 파일을 다운받아서 한국어로 Word2Vec을 직접 진행해보도록 하겠습니다. 영어와 크게 다른 점은 없지만 한국어는 형태소 토큰화를 해야만 좋은 성능을 얻을 수 있습니다. 간단히 말해 형태소 분석기를 사용합니다."
      ]
    },
    {
      "cell_type": "markdown",
      "metadata": {
        "id": "YyNruPxTj33c",
        "colab_type": "text"
      },
      "source": [
        "1) 위키피디아 한국어 덤프 파일 다운로드\n",
        "\n",
        "https://dumps.wikimedia.org/kowiki/latest/\n",
        "\n",
        "![대체 텍스트](https://wikidocs.net/images/page/22660/bz2.PNG)\n",
        "\n",
        "위 링크에는 많은 위키피디아 덤프 파일들이 존재합니다. 그 중에서 사용할 데이터는 kowiki-latest-pages-articles.xml.bz2 파일입니다. 해당 파일은 xml 파일므로, Word2Vec을 원활하게 진행하기 위해 파일 형식을 변환해줄 필요가 있습니다."
      ]
    },
    {
      "cell_type": "markdown",
      "metadata": {
        "id": "camjXOhJkOqt",
        "colab_type": "text"
      },
      "source": [
        "2) 위키피디아 익스트랙터 다운로드\n",
        "\n",
        "해당 파일을 모두 다운로드 받았다면 위키피디아 덤프 파일을 텍스트 형식으로 변환시켜주는 오픈소스인 '위키피디아 익스트랙터'를 사용할 것입니다.\n",
        "\n",
        "'위키피디아 익스트랙터'를 다운로드 받기 위해서는 윈도우의 명령 프롬프트나 MAC과 리눅스의 터미널에서 아래의 git clone 명령어를 통해 다운로드 받을 수 있습니다.\n",
        "\n"
      ]
    },
    {
      "cell_type": "markdown",
      "metadata": {
        "id": "kAgkx9qJzEhc",
        "colab_type": "text"
      },
      "source": [
        "\n",
        "\n",
        "```\n",
        "!git clone \"https://github.com/attardi/wikiextractor.git\"\n",
        "```\n",
        "\n"
      ]
    },
    {
      "cell_type": "markdown",
      "metadata": {
        "id": "_L7iqunKkXXo",
        "colab_type": "text"
      },
      "source": [
        "다른 방법으로는 https://github.com/attardi/wikiextractor 위 링크로 직접 이동하여 zip 파일로 다운로드 하고 압축을 푼 뒤에, 윈도우의 명령 프롬프트나 MAC과 리눅스의 터미널에서 python setup.py install 명령어를 치면 '위키피디아 익스트랙터'가 다운로드 됩니다."
      ]
    },
    {
      "cell_type": "markdown",
      "metadata": {
        "id": "LvVWNLVVkYtc",
        "colab_type": "text"
      },
      "source": [
        "3) 위키피디아 한국어 덤프 파일 변환\n",
        "\n",
        "위키피디아 익스트랙터와 위키피디아 한국어 덤프 파일을 동일한 디렉토리 경로에 두고, 아래 명령어를 실행하면 위키피디아 덤프 파일이 텍스트 파일로 변환됩니다. 컴퓨터마다 다르지만 보통 10분 내외의 시간이 걸립니다."
      ]
    },
    {
      "cell_type": "markdown",
      "metadata": {
        "id": "qzUga4PpzKt8",
        "colab_type": "text"
      },
      "source": [
        "```\n",
        "!wget https://dumps.wikimedia.org/kowiki/latest/kowiki-latest-pages-articles.xml.bz2\n",
        "!python wikiextractor/WikiExtractor.py kowiki-latest-pages-articles.xml.bz2\n",
        "```"
      ]
    },
    {
      "cell_type": "markdown",
      "metadata": {
        "id": "RgGuaub6oweh",
        "colab_type": "text"
      },
      "source": [
        "텍스트 파일로 변환된 위키피디아 한국어 덤프는 총 6개의 디렉토리(2018년 10월 기준)로 구성되어져 있습니다. AA ~ AF의 디렉토리로 각 디렉토리 내에는 wiki_00 ~ wiki_90이라는 파일들이 들어있습니다. 각 파일들을 열어보면 이와 같은 구성이 반복되고 있습니다."
      ]
    },
    {
      "cell_type": "markdown",
      "metadata": {
        "id": "UL90srYPqcxh",
        "colab_type": "text"
      },
      "source": [
        "\n",
        "\n",
        "```\n",
        "<doc id=\"문서 번호\" url=\"실제 위키피디아 문서 주소\" title=\"문서 제목\">\n",
        "내용\n",
        "</doc>\n",
        "```\n",
        "\n"
      ]
    },
    {
      "cell_type": "markdown",
      "metadata": {
        "id": "MbB2HGtXqfia",
        "colab_type": "text"
      },
      "source": [
        "예를 들어서 AA 디렉토리의 wiki_00 파일을 읽어보면, 지미 카터에 대한 내용이 나옵니다.\n",
        "\n",
        "\n",
        "\n",
        "```\n",
        "<doc id=\"5\" url=\"https://ko.wikipedia.org/wiki?curid=5\" title=\"지미 카터\">\n",
        "지미 카터\n",
        "제임스 얼 \"지미\" 카터 주니어(, 1924년 10월 1일 ~ )는 민주당 출신 미국 39번째 대통령(1977년 ~ 1981년)이다.\n",
        "지미 카터는 조지아 주 섬터 카운티 플레인스 마을에서 태어났다. 조지아 공과대학교를 졸업하였다. 그 후 해군에 들어가 전함·원자력·잠수함의 승무원으로 일하였다. 1953년 미국 해군 대\n",
        "위로 예편하였고 이후 땅콩·면화 등을 가꿔 많은 돈을 벌었다.\n",
        "... 이하 중략...\n",
        "</doc>\n",
        "```\n",
        "\n",
        "이제 이 6개 AA ~ AF 디렉토리 안의 wiki00 ~ wiki90 파일들을 하나의 텍스트 파일로 통합하겠습니다. (만약, 더 간단히 하고 싶다면 모든 디렉토리 파일을 통합하지 않고, 하나의 디렉토리 내의 파일들에 대해서만 통합 작업을 진행하고 모델의 입력으로 사용할수도있습니다. 하지만 모델의 성능은 전체 파일에 대해서 진행한 경우보다 좋지 않을 수 있습니다.)\n",
        "\n",
        "작업은 6개의 디렉토리 내 파일들에 대해서 각 하나의 파일로 통합 후, 6개의 파일을 다시 하나로 통합하는 순서로 진행합니다.\n"
      ]
    },
    {
      "cell_type": "markdown",
      "metadata": {
        "id": "5B34PM4Vqlxj",
        "colab_type": "text"
      },
      "source": [
        "4) 훈련 데이터 만들기\n",
        "\n",
        "우선 AA 디렉토리 안의 모든 파일인 wiki00 ~ wiki90에 대해서 wikiAA.txt로 통합해보도록 하겠습니다. 프롬프트에서 아래의 커맨드를 수행합니다. (윈도우 환경 기준)\n",
        "\n",
        "(안되서 밑에 코드로 진행)"
      ]
    },
    {
      "cell_type": "markdown",
      "metadata": {
        "id": "czO7ETyRzuBK",
        "colab_type": "text"
      },
      "source": [
        "\n",
        "\n",
        "```\n",
        "import os\n",
        "wiki_data = open('wiki_data.txt','w')\n",
        "for folder in os.listdir('text'):\n",
        "    for file in os.listdir('text/'+folder):\n",
        "        temp_file = open(f'text/{folder}/{file}')\n",
        "        for line in temp_file:\n",
        "            wiki_data.write(line)\n",
        "```\n",
        "\n"
      ]
    },
    {
      "cell_type": "code",
      "metadata": {
        "id": "vO00HZBKzTsv",
        "colab_type": "code",
        "outputId": "4c92f516-7fbd-4716-9a38-6688fe475172",
        "colab": {
          "base_uri": "https://localhost:8080/",
          "height": 35
        }
      },
      "source": [
        "!pip install wget\n",
        "import wget"
      ],
      "execution_count": 4,
      "outputs": [
        {
          "output_type": "stream",
          "text": [
            "Requirement already satisfied: wget in /usr/local/lib/python3.6/dist-packages (3.2)\n"
          ],
          "name": "stdout"
        }
      ]
    },
    {
      "cell_type": "code",
      "metadata": {
        "id": "xlkRw9yx0B-O",
        "colab_type": "code",
        "outputId": "76e79210-18db-40de-8ee8-f34929f1dbdd",
        "colab": {
          "base_uri": "https://localhost:8080/",
          "height": 35
        }
      },
      "source": [
        "wget.download('https://www.dropbox.com/s/w9szzqqidxi8dgj/wiki_data.txt?dl=1')"
      ],
      "execution_count": 19,
      "outputs": [
        {
          "output_type": "execute_result",
          "data": {
            "text/plain": [
              "'wiki_data.txt'"
            ]
          },
          "metadata": {
            "tags": []
          },
          "execution_count": 19
        }
      ]
    },
    {
      "cell_type": "code",
      "metadata": {
        "id": "YNmHQ-i0k7te",
        "colab_type": "code",
        "colab": {}
      },
      "source": [
        "# !copy /content/text/AA/wiki* wikiAA.txt"
      ],
      "execution_count": 0,
      "outputs": []
    },
    {
      "cell_type": "markdown",
      "metadata": {
        "id": "NaJKt-nIqzGg",
        "colab_type": "text"
      },
      "source": [
        "해당 커맨드는 AA디렉토리 안의 wiki로 시작되는 모든 파일을 wikiAA.txt 파일에 전부 복사하라는 의미를 담고있습니다. 결과적으로 wiki00 ~ wiki90파일의 모든 내용은 wikiAA.txt 파일이라는 하나의 파일에 내용이 들어가게 됩니다.\n",
        "\n",
        "각 디렉토리에 대해서도 동일하게 진행합니다.\n"
      ]
    },
    {
      "cell_type": "code",
      "metadata": {
        "id": "XXA-E0GXqx1h",
        "colab_type": "code",
        "colab": {}
      },
      "source": [
        "# !copy /content/text/AB/wiki* wikiAB.txt\n",
        "# !copy /content/text/AC/wiki* wikiAC.txt\n",
        "# !copy /content/text/AD/wiki* wikiAD.txt\n",
        "# !copy /content/text/AE/wiki* wikiAE.txt\n",
        "# !copy /content/text/AF/wiki* wikiAF.txt"
      ],
      "execution_count": 0,
      "outputs": []
    },
    {
      "cell_type": "markdown",
      "metadata": {
        "id": "H1gx6Ug-rBQX",
        "colab_type": "text"
      },
      "source": [
        "이렇게 되면 현재 경로에는 각 디렉토리의 파일들을 하나로 합친 wikiAA.txt 부터 wikiAF.txt라는 6개의 파일이 생깁니다. 그럼 이제 이 파일들에 대해서도 하나의 파일로 합치는 작업을 진행해보도록 하겠습니다."
      ]
    },
    {
      "cell_type": "code",
      "metadata": {
        "id": "lWzDERYurAO9",
        "colab_type": "code",
        "colab": {}
      },
      "source": [
        "# !copy /content/text/wikiA* wiki_data.txt"
      ],
      "execution_count": 0,
      "outputs": []
    },
    {
      "cell_type": "markdown",
      "metadata": {
        "id": "Hw9DvxR9rJ7E",
        "colab_type": "text"
      },
      "source": [
        "이제 모든 텍스트 파일을 하나로 만든 훈련 데이터가 완성되었습니다."
      ]
    },
    {
      "cell_type": "markdown",
      "metadata": {
        "id": "u5V_jefWrLf0",
        "colab_type": "text"
      },
      "source": [
        "5) 훈련 데이터 전처리 하기"
      ]
    },
    {
      "cell_type": "code",
      "metadata": {
        "id": "61YVNNk2rJUB",
        "colab_type": "code",
        "colab": {}
      },
      "source": [
        "f = open('/content/wiki_data.txt', encoding=\"utf8\")\n",
        "# 예를 들어 위도우 바탕화면에서 작업한 저자의 경우\n",
        "# f = open(r'C:\\Users\\USER\\Desktop\\wiki_data.txt', encoding=\"utf8\")"
      ],
      "execution_count": 0,
      "outputs": []
    },
    {
      "cell_type": "markdown",
      "metadata": {
        "id": "nnfp2dkNrSUG",
        "colab_type": "text"
      },
      "source": [
        "우선 파일을 불러왔습니다. 파일이 정상적으로 저장되었는지 5개의 줄만 출력해보겠습니다."
      ]
    },
    {
      "cell_type": "code",
      "metadata": {
        "id": "9asAoENBrRDR",
        "colab_type": "code",
        "outputId": "b0624b7b-bee8-4265-8806-bba2d8a02c5c",
        "colab": {
          "base_uri": "https://localhost:8080/",
          "height": 217
        }
      },
      "source": [
        "i=0\n",
        "while True:\n",
        "    line = f.readline()\n",
        "    if line != '\\n':\n",
        "        i=i+1\n",
        "        print(\"%d번째 줄 :\"%i + line)\n",
        "    if i==5:\n",
        "        break \n",
        "f.close()"
      ],
      "execution_count": 24,
      "outputs": [
        {
          "output_type": "stream",
          "text": [
            "1번째 줄 :<doc id=\"50324\" url=\"https://ko.wikipedia.org/wiki?curid=50324\" title=\"고영희 (1849년)\">\n",
            "\n",
            "2번째 줄 :고영희 (1849년)\n",
            "\n",
            "3번째 줄 :고영희(高永喜, 1849년 12월 16일(음력 11월 2일) ~ 1916년 1월 24일)는 대한제국의 정치인으로 일제 강점기의 조선귀족이다. 정미칠적과 경술국적에 포함되었다. 자는 자중(子中), 본관은 제주(濟州), 본적은 경성 북부(北部) 옥동(玉洞) 15통 9호(1914년 당시 주소)이며 고진풍(高鎭豊)의 아들이다.\n",
            "\n",
            "4번째 줄 :1866년 부사용(副司勇)이 되었다. 1876년 강화도 조약 체결 후 김기수가 수신사 대표로 일본에 갔을 때 그를 수행하였다. 그는 이런 기회를 통해 강화도 조약 체결 후 바로 일본의 문물을 접하면서 일찌감치 친일 개화파에 속하게 되었다. 귀국 후 일본의 발전 모습을 알리고, 원산항이 개항되어 통상항이 되자 사무관처리(事務官處理)가 되어 크게 공을 세웠다. 1881년 신사유람단으로 일본에 갔을 때 또 다시 김기수를 수행하였다. 1882년 일본공사 하나부사(花房義質)의 차비역관(差備譯官)이 되었고, 그 뒤 중용되어 인천조계획정(仁川租界劃定)의 사무를 맡았다. 이어서 참의교섭통상사무(參議交涉通商事務)·참의내무부사(參議內務府事)를 역임하였다.\n",
            "\n",
            "5번째 줄 :1884년 갑신정변이 실패하면서 일시 몰락하여 간성·삭녕·고양 등의 군수직을 지낸 뒤 사직하고 일시 한거하다가 다시 복귀하여 1885년 이후 기기국방판(機器局幇辦)을 지냈다. 1894년 갑오경장에 참여하여 내부 참의, 학무아문 참의, 농상아문 협판을 지냈다.\n",
            "\n"
          ],
          "name": "stdout"
        }
      ]
    },
    {
      "cell_type": "markdown",
      "metadata": {
        "id": "UlRuLmUMrVlb",
        "colab_type": "text"
      },
      "source": [
        "정상적으로 출력되는 것을 볼 수 있습니다. 이제 본격적으로 Word2Vec을 위한 학습 데이터를 만들어보겠습니다.\n",
        "\n",
        "(너무 많아서....일부만 읽어봅시다)\n",
        "\n",
        "(다해서 공유드립니당)"
      ]
    },
    {
      "cell_type": "markdown",
      "metadata": {
        "id": "EDLgecZppikn",
        "colab_type": "text"
      },
      "source": [
        "```\n",
        "from konlpy.tag import Okt  \n",
        "okt=Okt()\n",
        "fread = open('/content/wiki_data.txt', encoding=\"utf8\")\n",
        "# 파일을 다시 처음부터 읽음.\n",
        "n=0\n",
        "result = []\n",
        "\n",
        "while True:\n",
        "    if n==100000:break\n",
        "    line = fread.readline() #한 줄씩 읽음.\n",
        "    if not line: break # 모두 읽으면 while문 종료.\n",
        "    n=n+1\n",
        "    if n%5000==0: # 5,000의 배수로 While문이 실행될 때마다 몇 번째 While문 실행인지 출력.\n",
        "        print(\"%d번째 While문.\"%n)\n",
        "    tokenlist = okt.pos(line, stem=True, norm=True) # 단어 토큰화\n",
        "    temp=[]\n",
        "    for word in tokenlist:\n",
        "        if word[1] in [\"Noun\"]: # 명사일 때만\n",
        "            temp.append((word[0])) # 해당 단어를 저장함\n",
        "\n",
        "    if temp: # 만약 이번에 읽은 데이터에 명사가 존재할 경우에만\n",
        "      result.append(temp) # 결과에 저장\n",
        "fread.close()\n",
        "```"
      ]
    },
    {
      "cell_type": "code",
      "metadata": {
        "id": "J9ovPEMYpnCF",
        "colab_type": "code",
        "colab": {
          "base_uri": "https://localhost:8080/",
          "height": 35
        },
        "outputId": "e7853d3a-7e7b-4374-e271-f9d6025d5303"
      },
      "source": [
        "wget.download('https://www.dropbox.com/s/mprapavqcyfd4cf/wiki2vec.txt?dl=1')"
      ],
      "execution_count": 25,
      "outputs": [
        {
          "output_type": "execute_result",
          "data": {
            "text/plain": [
              "'wiki2vec.txt'"
            ]
          },
          "metadata": {
            "tags": []
          },
          "execution_count": 25
        }
      ]
    },
    {
      "cell_type": "code",
      "metadata": {
        "id": "LqBsBuDZpySr",
        "colab_type": "code",
        "colab": {}
      },
      "source": [
        "import pickle\n",
        "result = pickle.load(open('/content/wiki2vec.txt','rb'))"
      ],
      "execution_count": 0,
      "outputs": []
    },
    {
      "cell_type": "markdown",
      "metadata": {
        "id": "uKCMg0X_qzHs",
        "colab_type": "text"
      },
      "source": [
        "```\n",
        "1번째 줄 :<doc id=\"50324\" url=\"https://ko.wikipedia.org/wiki?curid=50324\" title=\"고영희 (1849년)\">\n",
        "\n",
        "2번째 줄 :고영희 (1849년)\n",
        "\n",
        "3번째 줄 :고영희(高永喜, 1849년 12월 16일(음력 11월 2일) ~ 1916년 1월 24일)는 대한제국의 정치인으로 일제 강점기의 조선귀족이다. 정미칠적과 경술국적에 포함되었다. 자는 자중(子中), 본관은 제주(濟州), 본적은 경성 북부(北部) 옥동(玉洞) 15통 9호(1914년 당시 주소)이며 고진풍(高鎭豊)의 아들이다.\n",
        "\n",
        "4번째 줄 :1866년 부사용(副司勇)이 되었다. 1876년 강화도 조약 체결 후 김기수가 수신사 대표로 일본에 갔을 때 그를 수행하였다. 그는 이런 기회를 통해 강화도 조약 체결 후 바로 일본의 문물을 접하면서 일찌감치 친일 개화파에 속하게 되었다. 귀국 후 일본의 발전 모습을 알리고, 원산항이 개항되어 통상항이 되자 사무관처리(事務官處理)가 되어 크게 공을 세웠다. 1881년 신사유람단으로 일본에 갔을 때 또 다시 김기수를 수행하였다. 1882년 일본공사 하나부사(花房義質)의 차비역관(差備譯官)이 되었고, 그 뒤 중용되어 인천조계획정(仁川租界劃定)의 사무를 맡았다. 이어서 참의교섭통상사무(參議交涉通商事務)·참의내무부사(參議內務府事)를 역임하였다.\n",
        "\n",
        "5번째 줄 :1884년 갑신정변이 실패하면서 일시 몰락하여 간성·삭녕·고양 등의 군수직을 지낸 뒤 사직하고 일시 한거하다가 다시 복귀하여 1885년 이후 기기국방판(機器局幇辦)을 지냈다. 1894년 갑오경장에 참여하여 내부 참의, 학무아문 참의, 농상아문 협판을 지냈다.\n",
        "```"
      ]
    },
    {
      "cell_type": "code",
      "metadata": {
        "id": "X53QIawyqS8e",
        "colab_type": "code",
        "colab": {
          "base_uri": "https://localhost:8080/",
          "height": 127
        },
        "outputId": "0d8d278f-81e9-4fdb-b812-07860d26f21b"
      },
      "source": [
        "for i in range(5):\n",
        "    print(result[i])"
      ],
      "execution_count": 33,
      "outputs": [
        {
          "output_type": "stream",
          "text": [
            "['고영희']\n",
            "['고영희']\n",
            "['고영희', '음력', '대한제국', '정치인', '일제', '강점', '기', '조선귀족', '정미칠적', '경술국적', '포함', '자중', '본관', '제주', '본적', '경성', '북부', '옥동', '통', '호', '당시', '주소', '고진', '의', '아들']\n",
            "['부', '사용', '이', '강화도', '조약', '체결', '후', '김기수', '수신사', '대표', '일본', '때', '그', '수행', '그', '기회', '통해', '강화도', '조약', '체결', '후', '바로', '일본', '문물', '접', '찌', '감치', '친일', '개화파', '속', '귀국', '후', '일본', '발전', '모습', '알리', '원산항', '개항', '통상', '항', '사무관', '처리', '크게', '공', '신사유람단', '일본', '때', '또', '다시', '김기수', '수행', '일본', '공사', '하나', '부사', '의', '차비', '역관', '이', '그', '뒤', '중용', '인천', '계획', '정', '의', '사무', '교섭', '통상', '사무', '내무부', '사', '를', '역임']\n",
            "['갑신정변', '일시', '간성', '삭녕', '고양', '등', '군', '수직', '뒤', '사직', '일시', '다시', '복귀', '이후', '기기', '국방', '판', '갑오경장', '참여', '내부', '학무', '아문', '농상아문', '협판']\n"
          ],
          "name": "stdout"
        }
      ]
    },
    {
      "cell_type": "markdown",
      "metadata": {
        "id": "SRXHAlFbtPWL",
        "colab_type": "text"
      },
      "source": [
        "여기서는 형태소 분석기로 KoNLPy의 Okt를 사용하여 명사만을 추출하여 훈련 데이터를 구성하겠습니다. 위 작업은 시간이 꽤 걸립니다. 훈련 데이터를 모두 만들었다면, 훈련 데이터의 길이를 확인해보겠습니다."
      ]
    },
    {
      "cell_type": "code",
      "metadata": {
        "id": "V8lDvC2qrXOd",
        "colab_type": "code",
        "outputId": "81e8a08e-3750-4c6b-8848-9fb9a7dbcf84",
        "colab": {
          "base_uri": "https://localhost:8080/",
          "height": 35
        }
      },
      "source": [
        "print('총 샘플의 개수 : {}'.format(len(result)))"
      ],
      "execution_count": 34,
      "outputs": [
        {
          "output_type": "stream",
          "text": [
            "총 샘플의 개수 : 2692525\n"
          ],
          "name": "stdout"
        }
      ]
    },
    {
      "cell_type": "markdown",
      "metadata": {
        "id": "5Qa0LRYAtUC7",
        "colab_type": "text"
      },
      "source": [
        "약 240만여개의 줄(line)이 명사 토큰화가 되어 저장되어 있는 상태입니다. 이제 이를 Word2Vec으로 학습시킵니다."
      ]
    },
    {
      "cell_type": "markdown",
      "metadata": {
        "id": "NgvZIwzgtWGc",
        "colab_type": "text"
      },
      "source": [
        "6) Word2Vec 훈련시키기"
      ]
    },
    {
      "cell_type": "code",
      "metadata": {
        "id": "1blsE2K8tTEV",
        "colab_type": "code",
        "colab": {}
      },
      "source": [
        "from gensim.models import Word2Vec\n",
        "model = Word2Vec(result, size=100, window=5, min_count=5, workers=4, sg=0)"
      ],
      "execution_count": 0,
      "outputs": []
    },
    {
      "cell_type": "markdown",
      "metadata": {
        "id": "2lABguT3tZ1C",
        "colab_type": "text"
      },
      "source": [
        "학습을 다했다면 이제 임의의 입력 단어로부터 유사한 단어들을 구해봅시다."
      ]
    },
    {
      "cell_type": "code",
      "metadata": {
        "id": "8RuqvKYdtZL4",
        "colab_type": "code",
        "outputId": "26535a4e-c3cd-4e2e-cf74-dd27e7bce27c",
        "colab": {
          "base_uri": "https://localhost:8080/",
          "height": 91
        }
      },
      "source": [
        "model_result1=model.wv.most_similar(\"대한민국\")\n",
        "print(model_result1)"
      ],
      "execution_count": 36,
      "outputs": [
        {
          "output_type": "stream",
          "text": [
            "[('한국', 0.6678261160850525), ('조선민주주의인민공화국', 0.5383221507072449), ('우리나라', 0.5341771245002747), ('이익선', 0.5170702934265137), ('재외동포', 0.5099747180938721), ('관세청', 0.5089893937110901), ('김승환', 0.505629301071167), ('정보통신부', 0.49246788024902344), ('국내', 0.48896703124046326), ('한국인', 0.4820840358734131)]\n"
          ],
          "name": "stdout"
        },
        {
          "output_type": "stream",
          "text": [
            "/usr/local/lib/python3.6/dist-packages/gensim/matutils.py:737: FutureWarning: Conversion of the second argument of issubdtype from `int` to `np.signedinteger` is deprecated. In future, it will be treated as `np.int64 == np.dtype(int).type`.\n",
            "  if np.issubdtype(vec.dtype, np.int):\n"
          ],
          "name": "stderr"
        }
      ]
    },
    {
      "cell_type": "code",
      "metadata": {
        "id": "oUkHZV_PtcF4",
        "colab_type": "code",
        "outputId": "a49eca86-f7ae-4eba-8c61-800cf750477f",
        "colab": {
          "base_uri": "https://localhost:8080/",
          "height": 91
        }
      },
      "source": [
        "model_result2=model.wv.most_similar(\"게임\")\n",
        "print(model_result2)"
      ],
      "execution_count": 37,
      "outputs": [
        {
          "output_type": "stream",
          "text": [
            "[('게이머', 0.712459146976471), ('아케이드', 0.6923863887786865), ('게임기', 0.6894320845603943), ('멀티플레이', 0.6838241815567017), ('미니게임', 0.6833481788635254), ('롤플레잉', 0.6810091733932495), ('플레이어', 0.6683602333068848), ('심즈', 0.6619722843170166), ('싱글플레이', 0.6610565185546875), ('닌텐도', 0.6560871601104736)]\n"
          ],
          "name": "stdout"
        },
        {
          "output_type": "stream",
          "text": [
            "/usr/local/lib/python3.6/dist-packages/gensim/matutils.py:737: FutureWarning: Conversion of the second argument of issubdtype from `int` to `np.signedinteger` is deprecated. In future, it will be treated as `np.int64 == np.dtype(int).type`.\n",
            "  if np.issubdtype(vec.dtype, np.int):\n"
          ],
          "name": "stderr"
        }
      ]
    },
    {
      "cell_type": "code",
      "metadata": {
        "id": "hyqiY4vEtiL1",
        "colab_type": "code",
        "outputId": "bca9f616-1e67-4f17-95cf-7be421628e81",
        "colab": {
          "base_uri": "https://localhost:8080/",
          "height": 91
        }
      },
      "source": [
        "model_result3=model.wv.most_similar(\"반도체\")\n",
        "print(model_result3)"
      ],
      "execution_count": 38,
      "outputs": [
        {
          "output_type": "stream",
          "text": [
            "[('전자부품', 0.7894458770751953), ('집적회로', 0.7724405527114868), ('웨이퍼', 0.7553133368492126), ('트랜지스터', 0.7545779347419739), ('실리콘', 0.7382049560546875), ('태양전지', 0.7312829494476318), ('박막', 0.710317850112915), ('팹리스', 0.7102859616279602), ('전자제품', 0.6984449028968811), ('진공관', 0.6982125043869019)]\n"
          ],
          "name": "stdout"
        },
        {
          "output_type": "stream",
          "text": [
            "/usr/local/lib/python3.6/dist-packages/gensim/matutils.py:737: FutureWarning: Conversion of the second argument of issubdtype from `int` to `np.signedinteger` is deprecated. In future, it will be treated as `np.int64 == np.dtype(int).type`.\n",
            "  if np.issubdtype(vec.dtype, np.int):\n"
          ],
          "name": "stderr"
        }
      ]
    },
    {
      "cell_type": "code",
      "metadata": {
        "id": "IX8MBwpNtHjl",
        "colab_type": "code",
        "colab": {
          "base_uri": "https://localhost:8080/",
          "height": 91
        },
        "outputId": "a20d1c1e-fae8-4610-c357-8a4119c4cb2a"
      },
      "source": [
        "model_result4=model.wv.most_similar(\"문재인\",topn=20)\n",
        "print(model_result4)"
      ],
      "execution_count": 48,
      "outputs": [
        {
          "output_type": "stream",
          "text": [
            "[('박근혜', 0.9152766466140747), ('이명박', 0.9024701118469238), ('노무현', 0.8979791402816772), ('김대중', 0.8235960602760315), ('노태우', 0.8138163089752197), ('김영삼', 0.7931318879127502), ('청와대', 0.7737816572189331), ('안철수', 0.7365024089813232), ('박정희', 0.7335059642791748), ('홍준표', 0.7309176325798035), ('황교안', 0.7220745086669922), ('참여정부', 0.7214635610580444), ('전두환', 0.7206213474273682), ('이회창', 0.7174422144889832), ('안희정', 0.6967857480049133), ('한나라당', 0.6913556456565857), ('새누리당', 0.6846817135810852), ('이승만', 0.6791597604751587), ('박원순', 0.6780906915664673), ('서울시장', 0.6646653413772583)]\n"
          ],
          "name": "stdout"
        },
        {
          "output_type": "stream",
          "text": [
            "/usr/local/lib/python3.6/dist-packages/gensim/matutils.py:737: FutureWarning: Conversion of the second argument of issubdtype from `int` to `np.signedinteger` is deprecated. In future, it will be treated as `np.int64 == np.dtype(int).type`.\n",
            "  if np.issubdtype(vec.dtype, np.int):\n"
          ],
          "name": "stderr"
        }
      ]
    },
    {
      "cell_type": "markdown",
      "metadata": {
        "id": "wmU48AsCtkQ_",
        "colab_type": "text"
      },
      "source": [
        "### 8.4.3 사전 훈련된 Word2Vec 임베딩(Pre-trained Word2Vec embedding) 소개\n",
        "\n",
        "자연어 처리 작업을 할때, 케라스의 Embedding()를 사용하여 갖고 있는 훈련 데이터로부터 처음부터 임베딩 벡터를 훈련시키기도 하지만, 위키피디아 등의 방대한 데이터로 사전에 훈련된 워드 임베딩(pre-trained word embedding vector)를 가지고 와서 해당 벡터들의 값을 원하는 작업에 사용 할 수도 있습니다.\n",
        "\n",
        "예를 들어서 감성 분류 작업을 하는데 훈련 데이터의 양이 부족한 상황이라면, 다른 방대한 데이터를 Word2Vec이나 GloVe 등으로 사전에 학습시켜놓은 임베딩 벡터들을 가지고 와서 모델의 입력으로 사용하는 것이 때로는 더 좋은 성능을 얻을 수 있습니다.\n",
        "\n",
        "여기서는 사전 훈련된 워드 임베딩을 가져와서 간단히 단어들의 유사도를 구해보는 실습을 해보겠습니다. 실제로 모델에 적용해보는 실습은 사전 훈련된 워드 임베딩 챕터에서 진행합니다."
      ]
    },
    {
      "cell_type": "markdown",
      "metadata": {
        "id": "MudbAltUtv_A",
        "colab_type": "text"
      },
      "source": [
        "1) 영어\n",
        "\n",
        "이번에는 구글이 제공하는 사전 훈련된(미리 학습되어져 있는) Word2Vec 모델을 사용하는 방법에 대해서 알아보도록 하겠습니다. 구글은 사전 훈련된 3백만 개의 Word2Vec 단어 벡터들을 제공합니다. 각 임베딩 벡터의 차원은 300입니다. gensim을 통해서 이 모델을 불러오는 건 매우 간단합니다. 이 모델을 다운로드하고 파일 경로를 기재하면 됩니다.\n",
        "\n",
        "모델 다운로드 경로 : https://drive.google.com/file/d/0B7XkCwpI5KDYNlNUTTlSS21pQmM/edit\n",
        "\n",
        "압축 파일의 용량은 약 1.5GB이지만, 파일의 압축을 풀면 약 3.3GB의 파일이 나옵니다."
      ]
    },
    {
      "cell_type": "code",
      "metadata": {
        "id": "ZOfJxzSJv_Ht",
        "colab_type": "code",
        "colab": {
          "base_uri": "https://localhost:8080/",
          "height": 35
        },
        "outputId": "03144091-e58f-4c22-81d7-08517b1b84e5"
      },
      "source": [
        "wget.download(\"https://s3.amazonaws.com/dl4j-distribution/GoogleNews-vectors-negative300.bin.gz\")"
      ],
      "execution_count": 60,
      "outputs": [
        {
          "output_type": "execute_result",
          "data": {
            "text/plain": [
              "'GoogleNews-vectors-negative300.bin.gz'"
            ]
          },
          "metadata": {
            "tags": []
          },
          "execution_count": 60
        }
      ]
    },
    {
      "cell_type": "code",
      "metadata": {
        "id": "2KuLq6xKtjim",
        "colab_type": "code",
        "outputId": "5c6a974c-7cc6-43cd-8230-c38e6ca9bb49",
        "colab": {
          "base_uri": "https://localhost:8080/",
          "height": 73
        }
      },
      "source": [
        "import gensim\n",
        "\n",
        "# 구글의 사전 훈련된 Word2Vec 모델을 로드합니다.\n",
        "model = gensim.models.KeyedVectors.load_word2vec_format('GoogleNews-vectors-negative300.bin.gz', binary=True) "
      ],
      "execution_count": 62,
      "outputs": [
        {
          "output_type": "stream",
          "text": [
            "/usr/local/lib/python3.6/dist-packages/smart_open/smart_open_lib.py:253: UserWarning: This function is deprecated, use smart_open.open instead. See the migration notes for details: https://github.com/RaRe-Technologies/smart_open/blob/master/README.rst#migrating-to-the-new-open-function\n",
            "  'See the migration notes for details: %s' % _MIGRATION_NOTES_URL\n"
          ],
          "name": "stderr"
        }
      ]
    },
    {
      "cell_type": "code",
      "metadata": {
        "id": "6DVDIJbzt09r",
        "colab_type": "code",
        "outputId": "174a5b0f-f455-452e-b661-6fede5f8dbd4",
        "colab": {
          "base_uri": "https://localhost:8080/",
          "height": 35
        }
      },
      "source": [
        "print(model.vectors.shape) # 모델의 크기 확인"
      ],
      "execution_count": 63,
      "outputs": [
        {
          "output_type": "stream",
          "text": [
            "(3000000, 300)\n"
          ],
          "name": "stdout"
        }
      ]
    },
    {
      "cell_type": "code",
      "metadata": {
        "id": "TbPla3NBucT0",
        "colab_type": "code",
        "outputId": "ca5a68f4-d0d5-4527-9550-ac24ea0faaea",
        "colab": {
          "base_uri": "https://localhost:8080/",
          "height": 109
        }
      },
      "source": [
        "print (model.similarity('this', 'is')) # 두 단어의 유사도 계산하기\n",
        "print (model.similarity('post', 'book'))"
      ],
      "execution_count": 64,
      "outputs": [
        {
          "output_type": "stream",
          "text": [
            "0.40797037\n",
            "0.057204384\n"
          ],
          "name": "stdout"
        },
        {
          "output_type": "stream",
          "text": [
            "/usr/local/lib/python3.6/dist-packages/gensim/matutils.py:737: FutureWarning: Conversion of the second argument of issubdtype from `int` to `np.signedinteger` is deprecated. In future, it will be treated as `np.int64 == np.dtype(int).type`.\n",
            "  if np.issubdtype(vec.dtype, np.int):\n"
          ],
          "name": "stderr"
        }
      ]
    },
    {
      "cell_type": "code",
      "metadata": {
        "id": "c1o0F8u91iNR",
        "colab_type": "code",
        "colab": {
          "base_uri": "https://localhost:8080/",
          "height": 73
        },
        "outputId": "f9eda0da-b523-4ced-e29e-ac61d40f887d"
      },
      "source": [
        "model_result=model.wv.most_similar(\"trump\")\n",
        "print(model_result)"
      ],
      "execution_count": 0,
      "outputs": [
        {
          "output_type": "stream",
          "text": [
            "/usr/local/lib/python3.6/dist-packages/ipykernel_launcher.py:1: DeprecationWarning: Call to deprecated `wv` (Attribute will be removed in 4.0.0, use self instead).\n",
            "  \"\"\"Entry point for launching an IPython kernel.\n"
          ],
          "name": "stderr"
        }
      ]
    },
    {
      "cell_type": "code",
      "metadata": {
        "id": "HO_j-0NSudo6",
        "colab_type": "code",
        "colab": {
          "base_uri": "https://localhost:8080/",
          "height": 172
        },
        "outputId": "a039c21f-4fd7-4898-d2dc-ef136071bb82"
      },
      "source": [
        "print(model['book']) # 단어 'book'의 벡터 출력"
      ],
      "execution_count": 2,
      "outputs": [
        {
          "output_type": "error",
          "ename": "NameError",
          "evalue": "ignored",
          "traceback": [
            "\u001b[0;31m---------------------------------------------------------------------------\u001b[0m",
            "\u001b[0;31mNameError\u001b[0m                                 Traceback (most recent call last)",
            "\u001b[0;32m<ipython-input-2-f838482a42bb>\u001b[0m in \u001b[0;36m<module>\u001b[0;34m()\u001b[0m\n\u001b[0;32m----> 1\u001b[0;31m \u001b[0mprint\u001b[0m\u001b[0;34m(\u001b[0m\u001b[0mmodel\u001b[0m\u001b[0;34m[\u001b[0m\u001b[0;34m'book'\u001b[0m\u001b[0;34m]\u001b[0m\u001b[0;34m)\u001b[0m \u001b[0;31m# 단어 'book'의 벡터 출력\u001b[0m\u001b[0;34m\u001b[0m\u001b[0;34m\u001b[0m\u001b[0m\n\u001b[0m",
            "\u001b[0;31mNameError\u001b[0m: name 'model' is not defined"
          ]
        }
      ]
    },
    {
      "cell_type": "markdown",
      "metadata": {
        "id": "jVG7O1QAuhHo",
        "colab_type": "text"
      },
      "source": [
        "2) 한국어\n",
        "\n",
        "한국어의 미리 학습된 Word2Vec 모델은 박규병님의 깃허브 주소인 https://github.com/Kyubyong/wordvectors 에 공개되어져 있습니다. 박규병님이 공개한 직접적인 다운로드 링크는 아래와 같습니다.\n",
        "\n",
        "모델 다운로드 경로 : https://drive.google.com/file/d/0B0ZXk88koS2KbDhXdWg1Q2RydlU/view\n",
        "\n",
        "위의 링크로부터 77MB 크기의 ko.zip 파일을 다운로드 받아서 압축을 풀면 ko.bin이라는 50MB 크기의 파일이 있습니다. 이 파일을 로드하고 유사도를 계산해보도록 하겠습니다."
      ]
    },
    {
      "cell_type": "code",
      "metadata": {
        "id": "Xyk02YbIue_s",
        "colab_type": "code",
        "colab": {}
      },
      "source": [
        "import gensim\n",
        "model = gensim.models.Word2Vec.load('ko.bin 파일의 경로')"
      ],
      "execution_count": 0,
      "outputs": []
    },
    {
      "cell_type": "code",
      "metadata": {
        "id": "WWjMDNcNulc_",
        "colab_type": "code",
        "colab": {}
      },
      "source": [
        "result=model.wv.most_similar(\"강아지\")\n",
        "print(result)"
      ],
      "execution_count": 0,
      "outputs": []
    },
    {
      "cell_type": "markdown",
      "metadata": {
        "id": "2WzqA_8Lundk",
        "colab_type": "text"
      },
      "source": [
        "참고 : Word2vec 모델은 자연어 처리에서 단어를 밀집 벡터로 만들어주는 단어 임베딩 방법론이지만 최근에 들어서는 자연어 처리를 넘어서 추천 시스템에도 사용되고 있는 모델입니다. 우선 적당하게 데이터를 나열해주면 Word2vec은 위치가 근접한 데이터를 유사도가 높은 벡터를 만들어준다는 점에서 착안된 아이디어입니다.\n",
        "\n",
        "링크 : https://brunch.co.kr/@goodvc78/16?fbclid=IwAR1QZZAeZe_tNWxnxVCRwl8PIouBPAaqSIJ1lBxJ-EKtfDfmLehi1MUV_Lk\n",
        "\n",
        "위 링크에서 그림 10번을 보면 쉽게 이해할 수 있습니다."
      ]
    },
    {
      "cell_type": "markdown",
      "metadata": {
        "id": "hdPZCqxIuu1W",
        "colab_type": "text"
      },
      "source": [
        "## 8.5 임베딩 벡터의 시각화(Embedding Visualization)\n",
        "\n",
        "구글은 임베딩 프로젝터(embedding projector)라는 데이터 시각화 도구를 지원합니다. 이번 챕터에서는 임베딩 프로젝터를 사용하여 학습한 임베딩 벡터들을 시각화해보겠습니다.\n",
        "\n",
        "임베딩 프로젝터 논문 : https://arxiv.org/pdf/1611.05469v1.pdf"
      ]
    },
    {
      "cell_type": "markdown",
      "metadata": {
        "id": "C3WAgvYsu1NX",
        "colab_type": "text"
      },
      "source": [
        "### 8.5.1 워드 임베딩 모델로부터 2개의 tsv 파일 생성하기\n",
        "\n",
        "이번 실습에서는 학습한 임베딩 벡터들을 시각화해보겠습니다. 꼭 Word2Vec 등으로 학습해야하는 방법이 정해져있지는 없고, GloVe 등 다른 방법으로 훈련되어있어도 상관없습니다. 시각화를 위해서는 이미 모델을 학습하고, 파일로 저장되어져 있어야 합니다. 모델이 저장되어져 있다면 아래 커맨드를 통해 시각화에 필요한 파일들을 생성할 수 있습니다.\n",
        "\n",
        "\n",
        "\n",
        "```\n",
        "!python -m gensim.scripts.word2vec2tensor --input 모델이름 --output 모델이름\n",
        "```\n",
        "\n",
        "여기서는 편의를 위해 이전 챕터에서 학습하고 저장하는 실습까지 진행했던 영어 Word2Vec 모델인 'eng_w2v'를 재사용합니다. eng_w2v라는 Word2Vec 모델이 이미 존재한다는 가정 하에 주피터 노트북에서 아래 커맨드를 수행합니다.\n",
        "\n",
        "```\n",
        "!python -m gensim.scripts.word2vec2tensor --input eng_w2v --output eng_w2v\n",
        "```\n",
        "\n",
        "커맨드를 수행하면 주피터 노트북이 시작되는 경로에 기존에 있던 eng_w2v 외에도 두 개의 파일이 생깁니다.\n",
        "\n",
        "![대체 텍스트](https://wikidocs.net/images/page/50704/eng_w2v.PNG)\n",
        "\n",
        "새로 생긴 eng_w2v_metadata.tsv와 eng_w2v_tensor.tsv 이 두 개 파일이 임베딩 벡터 시각화를 위해 사용할 파일입니다. 만약 eng_w2v 모델 파일이 아니라 다른 모델 파일 이름으로 실습을 진행하고 있다면, '모델 이름_metadata.tsv'와 '모델 이름_tensor.tsv'라는 파일이 생성된다고 이해하면 되겠습니다."
      ]
    },
    {
      "cell_type": "markdown",
      "metadata": {
        "id": "jJJVS9vtvLEp",
        "colab_type": "text"
      },
      "source": [
        "### 8.5.2 임베딩 프로젝터를 사용하여 시각화하기\n",
        "\n",
        "이제 구글의 임베딩 프로젝터를 사용해서 워드 임베딩 모델을 시각화해보겠습니다. 아래의 링크에 접속합니다.\n",
        "\n",
        "링크 : https://projector.tensorflow.org/\n",
        "\n",
        "사이트에 접속해서 좌측 상단을 보면 Load라는 버튼이 있습니다.\n",
        "\n",
        "![대체 텍스트](https://wikidocs.net/images/page/50704/embedding_projector.PNG)\n",
        "\n",
        "Load라는 버튼을 누르면 아래와 같은 창이 뜨는데 총 두 개의 Choose file 버튼이 있습니다.\n",
        "\n",
        "![대체 텍스트](https://wikidocs.net/images/page/50704/embedding_projector2.PNG)\n",
        "\n",
        "위에 있는 Choose file 버튼을 누르고 eng_w2v_tensor.tsv 파일을 업로드하고, 아래에 있는 Choose file 버튼을 누르고 eng_w2v_metadata.tsv 파일을 업로드합니다. 두 파일을 업로드하면 임베딩 프로젝터에 학습했던 워드 임베딩 모델이 시각화됩니다.\n",
        "\n",
        "![대체 텍스트](https://wikidocs.net/images/page/50704/man.PNG)\n",
        "\n",
        "그 후에는 임베딩 프로젝터의 다양한 기능을 사용할 수 있습니다. 예를 들어 임베딩 프로젝터는 복잡한 데이터를 차원을 축소하여 시각화 할 수 있도록 도와주는 PCA, t-SNE 등을 제공합니다. 여기서는 자세한 기능에 대한 설명은 생략하겠습니다. 위의 그림은 'man' 이라는 단어를 선택하고, 코사인 유사도를 기준으로 가장 유사한 상위 10개 벡터들을 표시해봤습니다."
      ]
    },
    {
      "cell_type": "markdown",
      "metadata": {
        "id": "_ioKg9rJvpTm",
        "colab_type": "text"
      },
      "source": [
        "## 8.6 글로브(GloVe)\n",
        "\n",
        "글로브(Global Vectors for Word Representation, GloVe)는 카운트 기반과 예측 기반을 모두 사용하는 방법론으로 2014년에 미국 스탠포드대학에서 개발한 단어 임베딩 방법론입니다. 앞서 학습하였던 기존의 카운트 기반의 LSA(Latent Semantic Analysis)와 예측 기반의 Word2Vec의 단점을 지적하며 이를 보완한다는 목적으로 나왔고, 실제로도 Word2Vec만큼 뛰어난 성능을 보여줍니다. 현재까지의 연구에 따르면 단정적으로 Word2Vec와 GloVe 중에서 어떤 것이 더 뛰어나다고 말할 수는 없고, 이 두 가지 전부를 사용해보고 성능이 더 좋은 것을 사용하는 것이 바람직합니다."
      ]
    },
    {
      "cell_type": "markdown",
      "metadata": {
        "id": "_pK-LuNwvt5F",
        "colab_type": "text"
      },
      "source": [
        "### 8.6.1 기존 방법론에 대한 비판\n",
        "\n",
        "LSA는 각 단어의 빈도수를 카운트 한 행렬이라는 전체적인 통계 정보를 입력으로 받아 차원을 축소(Truncated SVD)하여 잠재된 의미를 끌어내는 방법론입니다. 반면, Word2Vec는 실제값과 예측값에 대한 오차를 손실 함수를 통해 줄여나가며 학습하는 예측 기반의 방법론이었습니다. 서로 다른 방법을 사용하는 이 두 방법론은 각각 장, 단점이 있습니다.\n",
        "\n",
        "LSA는 카운트 기반으로 코퍼스의 전체적인 통계 정보를 고려하기는 하지만, 왕:남자 = 여왕:? (정답은 여자)와 같은 단어 의미의 유추 작업(Analogy task)에는 성능이 떨어집니다. Word2Vec는 예측 기반으로 단어 간 유추 작업에는 LSA보다 뛰어나지만, 임베딩 벡터가 윈도우 크기 내에서만 주변 단어를 고려하기 때문에 코퍼스의 전체적인 통계 정보를 반영하지 못합니다. GloVe는 이러한 기존 방법론들의 각각의 한계를 지적하며, LSA의 메커니즘이었던 카운트 기반의 방법과 Word2Vec의 메커니즘이었던 예측 기반의 방법론 두 가지를 모두 사용합니다."
      ]
    },
    {
      "cell_type": "markdown",
      "metadata": {
        "id": "6e9v3-NYvxrS",
        "colab_type": "text"
      },
      "source": [
        "### 8.6.2 윈도우 기반 동시 등장 행렬(Window based Co-occurrence Matrix)\n",
        "\n",
        "단어의 동시 등장 행렬은 행과 열을 전체 단어 집합의 단어들로 구성하고, i 단어의 윈도우 크기(Window Size) 내에서 k 단어가 등장한 횟수를 i행 k열에 기재한 행렬을 말합니다. 예제를 보면 어렵지 않습니다. 아래와 같은 텍스트가 있다고 해봅시다.\n",
        "\n",
        "Ex)\n",
        "I like deep learning\n",
        "I like NLP\n",
        "I enjoy flying\n",
        "\n",
        "윈도우 크기가 N일 때는 좌, 우에 존재하는 N개의 단어만 참고하게 됩니다. 윈도우 크기가 1일 때, 위의 텍스트를 가지고 구성한 동시 등장 행렬은 다음과 같습니다.\n",
        "\n",
        "|카운트|I|like|enjoy|deep|learning|NLP|flying|\n",
        "|---|---|---|---|---|---|---|---|\n",
        "|I|0|2|1|0|0|0|0|\n",
        "|like|2|0|0|1|0|1|0|\n",
        "|enjoy|1|0|0|0|0|0|1|\n",
        "|deep|0|1|0|0|1|0|0|\n",
        "|learning|0|0|0|1|0|0|0|\n",
        "|NLP|0|1|0|0|0|0|0|\n",
        "|flying|0|0|1|0|0|0|0|\n",
        "\n",
        "위 행렬은 행렬을 전치(Transpose)해도 동일한 행렬이 된다는 특징이 있습니다. 그 이유는 i 단어의 윈도우 크기 내에서 k 단어가 등장한 빈도는 반대로 k 단어의 윈도우 크기 내에서 i 단어가 등장한 빈도와 동일하기 때문입니다.\n",
        "\n",
        "위의 테이블은 스탠포드 대학교의 자연어 처리 강의를 참고하였습니다.\n",
        "링크 : http://web.stanford.edu/class/cs224n/slides/cs224n-2019-lecture02-wordvecs2.pdf"
      ]
    },
    {
      "cell_type": "markdown",
      "metadata": {
        "id": "TLS8A3Yk0h9e",
        "colab_type": "text"
      },
      "source": [
        "### 8.6.3 동시 등장 확률(Co-occurrence Probability)\n",
        "\n",
        "이제 동시 등장 행렬에 대해서 이해했으니, 동시 등장 확률에 대해서 이해해봅시다. 아래의 표는 어떤 동시 등장 행렬을 가지고 정리한 동시 등장 확률(Co-occurrence Probability)을 보여줍니다. 그렇다면, 동시 등장 확률이란 무엇일까요?\n",
        "\n",
        "동시 등장 확률 P(k | i)는 동시 등장 행렬로부터 특정 단어 i의 전체 등장 횟수를 카운트하고, 특정 단어 i가 등장했을 때 어떤 단어 k가 등장한 횟수를 카운트하여 계산한 조건부 확률입니다.\n",
        "\n",
        "P(k | i)에서 i를 중심 단어(Center Word), k를 주변 단어(Context Word)라고 했을 때, 위에서 배운 동시 등장 행렬에서 중심 단어 i의 행의 모든 값을 더한 값을 분모로 하고 i행 k열의 값을 분자로 한 값이라고 볼 수 있겠습니다. 다음은 GloVe의 제안 논문에서 가져온 동시 등장 확률을 표로 정리한 하나의 예입니다.\n",
        "\n",
        "|동시 등장 확률과 크기 관계 비(ratio)|k=solid|k=gas|k=water|k=fashion|\n",
        "|---|---|---|---|---|\n",
        "|P(k l ice)|0.00019|0.000066|0.003|0.000017|\n",
        "|P(k l scream)|0.000022|0.00078|0.0022|0.000018|\n",
        "|P(k l ice) / P(k l steam)|8.9|0.085|1.36|0.96|\n",
        "\n",
        "위의 표를 통해 알 수 있는 사실은 solid가 등장했을 때 ice가 등장할 확률 0.00019은 solid가 등장했을 때 steam이 등장할 확률인 0.000022보다 약 8.9배 크다는 겁니다. 그도 그럴 것이 solid는 '단단한'이라는 의미를 가졌으니까 '증기'라는 의미를 가지는 steam보다는 당연히 '얼음'이라는 의미를 가지는 ice라는 단어와 더 자주 등장할 겁니다.\n",
        "\n",
        "수식적으로 다시 정리하여 언급하면 k가 solid일 때, P(solid l ice) / P(solid l steam)를 계산한 값은 8.9가 나옵니다. 이 값은 1보다는 매우 큰 값입니다. 왜냐면 P(solid | ice)의 값은 크고, P(solid | steam)의 값은 작기 때문입니다.\n",
        "\n",
        "그런데 k를 solid가 아니라 gas로 바꾸면 얘기는 완전히 달라집니다. gas는 ice보다는 steam과 더 자주 등장하므로, P(gas l ice) / P(gas l steam)를 계산한 값은 1보다 훨씬 작은 값인 0.085가 나옵니다. 반면, k가 water인 경우에는 solid와 steam 두 단어 모두와 동시 등장하는 경우가 많으므로 1에 가까운 값이 나오고, k가 fasion인 경우에는 solid와 steam 두 단어 모두와 동시 등장하는 경우가 적으므로 1에 가까운 값이 나옵니다. 보기 쉽도록 조금 단순화해서 표현한 표는 다음과 같습니다.\n",
        "\n",
        "\n",
        "|동시 등장 확률과 크기 관계 비(ratio)|k=solid|k=gas|k=water|k=fashion|\n",
        "|---|---|---|---|---|\n",
        "|P(k l ice)|큰 값|작은 값|큰 값|작은 값|\n",
        "|P(k l scream)|작은 값|큰 값|큰 값|작은 값|\n",
        "|P(k l ice) / P(k l steam)|큰 값|작은 값|1에 가까움|1에 가까움|"
      ]
    },
    {
      "cell_type": "markdown",
      "metadata": {
        "id": "mRIQ4nXW1ler",
        "colab_type": "text"
      },
      "source": [
        "### 8.6.4 손실 함수(Loss function)"
      ]
    },
    {
      "cell_type": "markdown",
      "metadata": {
        "id": "fKqVtQUS1sn5",
        "colab_type": "text"
      },
      "source": [
        "우선 손실 함수를 설명하기 전에 각 용어를 정리해보겠습니다.\n",
        "\n",
        "\n",
        "\n",
        "*   $X$ : 동시 등장 행렬(Co-occurrence Matrix)\n",
        "*   $X_{ij}$ : 중심 단어 i가 등장했을 때 윈도우 내 주변 단어 j가 등장하는 횟수\n",
        "*   $X_{i} : \\sum_j X_{ij}$ : 동시 등장 행렬에서 i행의 값을 모두 더한 값 \n",
        "*   $P_{ik} : P(k\\ |\\ i) = \\frac{X_{ik}}{X_{i}}$ : 중심 단어 i가 등장했을 때 윈도우 내 주변 단어 k가 등장할 확률\n",
        "Ex) P(solid l ice) = 단어 ice가 등장했을 때 단어 solid가 등장할 확률\n",
        "*   $\\frac{P_{ik}}{P_{jk}} : P_{ik}를 P_{jk}$로 나눠준 값    Ex) P(solid l ice) / P(solid l steam) = 8.9\n",
        "*   $w_{i}$ : 중심 단어 i의 임베딩 벡터\n",
        "*  $\\tilde{w_{k}}$ : 주변 단어 k의 임베딩 벡터\n",
        "\n",
        "\n",
        "GloVe의 아이디어를 한 줄로 요약하면 '임베딩 된 중심 단어와 주변 단어 벡터의 내적이 전체 코퍼스에서의 동시 등장 확률이 되도록 만드는 것'입니다. 즉, 이를 만족하도록 임베딩 벡터를 만드는 것이 목표입니다. 이를 식으로 표현하면 다음과 같습니다.\n",
        "\n",
        "$dot\\ product(w_{i}\\ \\tilde{w_{k}}) \\approx\\ P(k\\ |\\ i) = P_{ik}$\n",
        "\n",
        "뒤에서 보게되겠지만, 더 정확히는 GloVe는 아래와 같은 관계를 가지도록 임베딩 벡터를 설계합니다.\n",
        "\n",
        "$dot\\ product(w_{i}\\ \\tilde{w_{k}}) \\approx\\ logP(k\\ |\\ i) = log P_{ik}$"
      ]
    },
    {
      "cell_type": "code",
      "metadata": {
        "id": "sHA07uerumVY",
        "colab_type": "code",
        "colab": {}
      },
      "source": [
        ""
      ],
      "execution_count": 0,
      "outputs": []
    }
  ]
}