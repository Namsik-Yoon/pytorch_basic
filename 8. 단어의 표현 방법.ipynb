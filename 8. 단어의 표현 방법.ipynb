{
  "nbformat": 4,
  "nbformat_minor": 0,
  "metadata": {
    "colab": {
      "name": "Untitled21.ipynb",
      "provenance": [],
      "toc_visible": true,
      "authorship_tag": "ABX9TyOfUTRlli6nhK6ug+EEkmCy",
      "include_colab_link": true
    },
    "kernelspec": {
      "name": "python3",
      "display_name": "Python 3"
    }
  },
  "cells": [
    {
      "cell_type": "markdown",
      "metadata": {
        "id": "view-in-github",
        "colab_type": "text"
      },
      "source": [
        "<a href=\"https://colab.research.google.com/github/Namsik-Yoon/pytorch_basic/blob/master/8.%20%EB%8B%A8%EC%96%B4%EC%9D%98%20%ED%91%9C%ED%98%84%20%EB%B0%A9%EB%B2%95.ipynb\" target=\"_parent\"><img src=\"https://colab.research.google.com/assets/colab-badge.svg\" alt=\"Open In Colab\"/></a>"
      ]
    },
    {
      "cell_type": "markdown",
      "metadata": {
        "id": "fIT3LYTR2uvi",
        "colab_type": "text"
      },
      "source": [
        "# 8. 단어의 표현 방법"
      ]
    },
    {
      "cell_type": "markdown",
      "metadata": {
        "id": "8tk8AjJf21ul",
        "colab_type": "text"
      },
      "source": [
        "이번 챕터에서는 자연어 처리에서 필수적으로 사용되는 단어의 표현 방법인 원-핫 인코딩(One-hot encoding)과 워드 임베딩(Word Embedding)에 대해서 학습합니다."
      ]
    },
    {
      "cell_type": "markdown",
      "metadata": {
        "id": "zxupsJHB23z3",
        "colab_type": "text"
      },
      "source": [
        "## 8.1 NLP에서의 원-핫 인코딩(One-hot encoding)"
      ]
    },
    {
      "cell_type": "markdown",
      "metadata": {
        "id": "9Alc53jC27fO",
        "colab_type": "text"
      },
      "source": [
        "컴퓨터 또는 기계는 문자보다는 숫자를 더 잘 처리 할 수 있습니다. 이를 위해 자연어 처리에서는 문자를 숫자로 바꾸는 여러가지 기법들이 있습니다. 원-핫 인코딩(One-hot encoding)은 그 많은 기법 중에서 단어를 표현하는 가장 기본적인 표현 방법이며, 머신 러닝, 딥 러닝을 하기 위해서는 반드시 배워야 하는 표현 방법입니다.\n",
        "\n",
        "원-핫 인코딩에 대해서 배우기에 앞서 단어 집합(vocabulary)에 대해서 정의해보도록 하겠습니다. 어떤 분들은 사전(vocabulary)이라고도 부르지만, 저는 집합이라는 표현이 보다 명확하다고 생각하여 앞으로 단어 집합이라고 부르겠습니다. 단어 집합은 앞으로 자연어 처리에서 계속 나오는 개념이기 때문에 여기서 이해하고 가야합니다. 단어 집합은 서로 다른 단어들의 집합입니다. 여기서 혼동이 없도록 서로 다른 단어라는 정의에 대해서 좀 더 주목할 필요가 있습니다.\n",
        "\n",
        "단어 집합(vocabulary)에서는 기본적으로 book과 books와 같이 단어의 변형 형태도 다른 단어로 간주합니다. 이 책에서는 앞으로 단어 집합에 있는 단어들을 가지고, 문자를 숫자(더 구체적으로는 벡터)로 바꾸는 원-핫 인코딩을 포함한 여러 방법에 대해서 배우게 됩니다.\n",
        "\n",
        "원-핫 인코딩을 위해서 먼저 해야할 일은 단어 집합을 만드는 일입니다. 텍스트의 모든 단어를 중복을 허용하지 않고 모아놓으면 이를 단어 집합이라고 합니다. 그리고 이 단어 집합에 고유한 숫자를 부여하는 정수 인코딩을 진행합니다. 텍스트에 단어가 총 5,000개가 존재한다면, 단어 집합의 크기는 5,000입니다. 5,000개의 단어가 있는 이 단어 집합의 단어들마다 1번부터 5,000번까지 인덱스를 부여한다고 해보겠습니다. 가령, book은 150번, dog는 171번, love는 192번, books는 212번과 같이 부여할 수 있습니다.\n",
        "\n",
        "이제 각 단어에 고유한 정수 인덱스를 부여하였다고 합시다. 이 숫자로 바뀐 단어들을 벡터로 다루고 싶다면 어떻게 하면 될까요?"
      ]
    },
    {
      "cell_type": "markdown",
      "metadata": {
        "id": "PFNzw0gW3VPD",
        "colab_type": "text"
      },
      "source": [
        "### 8.1.1 원-핫 인코딩(One-hot encoding)이란?"
      ]
    },
    {
      "cell_type": "markdown",
      "metadata": {
        "id": "7Sw5UAFu3XvV",
        "colab_type": "text"
      },
      "source": [
        "원-핫 인코딩은 단어 집합의 크기를 벡터의 차원으로 하고, 표현하고 싶은 단어의 인덱스에 1의 값을 부여하고, 다른 인덱스에는 0을 부여하는 단어의 벡터 표현 방식입니다. 이렇게 표현된 벡터를 원-핫 벡터(One-hot vector)라고 합니다.\n",
        "\n",
        "원-핫 인코딩을 두 가지 과정으로 정리해보겠습니다.\n",
        "(1) 각 단어에 고유한 인덱스를 부여합니다. (정수 인코딩)\n",
        "(2) 표현하고 싶은 단어의 인덱스의 위치에 1을 부여하고, 다른 단어의 인덱스의 위치에는 0을 부여합니다.\n",
        "\n",
        "이해를 돕기 위해서 한국어 문장을 예제로 원-핫 벡터를 만들어보겠습니다.\n",
        "우선, 한국어 자연어 처리를 위해 코엔엘파이 패키지를 설치합니다.\n",
        "\n",
        "\n",
        "\n",
        "```\n",
        "pip install konlpy\n",
        "```\n",
        "문장 : 나는 자연어 처리를 배운다\n",
        "\n",
        "위 문장에 대해서 원-핫 인코딩을 진행하는 코드는 아래와 같습니다.\n"
      ]
    },
    {
      "cell_type": "code",
      "metadata": {
        "id": "zmsAEqcB3tSz",
        "colab_type": "code",
        "outputId": "f2e1bb1a-68d7-4d4c-9934-86ff460c46e6",
        "colab": {
          "base_uri": "https://localhost:8080/",
          "height": 305
        }
      },
      "source": [
        "!pip install konlpy"
      ],
      "execution_count": 0,
      "outputs": [
        {
          "output_type": "stream",
          "text": [
            "Requirement already satisfied: konlpy in /usr/local/lib/python3.6/dist-packages (0.5.2)\n",
            "Requirement already satisfied: JPype1>=0.7.0 in /usr/local/lib/python3.6/dist-packages (from konlpy) (0.7.5)\n",
            "Requirement already satisfied: lxml>=4.1.0 in /usr/local/lib/python3.6/dist-packages (from konlpy) (4.2.6)\n",
            "Requirement already satisfied: numpy>=1.6 in /usr/local/lib/python3.6/dist-packages (from konlpy) (1.18.4)\n",
            "Requirement already satisfied: tweepy>=3.7.0 in /usr/local/lib/python3.6/dist-packages (from konlpy) (3.8.0)\n",
            "Requirement already satisfied: colorama in /usr/local/lib/python3.6/dist-packages (from konlpy) (0.4.3)\n",
            "Requirement already satisfied: beautifulsoup4==4.6.0 in /usr/local/lib/python3.6/dist-packages (from konlpy) (4.6.0)\n",
            "Requirement already satisfied: requests-oauthlib>=0.7.0 in /usr/local/lib/python3.6/dist-packages (from tweepy>=3.7.0->konlpy) (1.3.0)\n",
            "Requirement already satisfied: six>=1.10.0 in /usr/local/lib/python3.6/dist-packages (from tweepy>=3.7.0->konlpy) (1.12.0)\n",
            "Requirement already satisfied: PySocks>=1.5.7 in /usr/local/lib/python3.6/dist-packages (from tweepy>=3.7.0->konlpy) (1.7.1)\n",
            "Requirement already satisfied: requests>=2.11.1 in /usr/local/lib/python3.6/dist-packages (from tweepy>=3.7.0->konlpy) (2.23.0)\n",
            "Requirement already satisfied: oauthlib>=3.0.0 in /usr/local/lib/python3.6/dist-packages (from requests-oauthlib>=0.7.0->tweepy>=3.7.0->konlpy) (3.1.0)\n",
            "Requirement already satisfied: certifi>=2017.4.17 in /usr/local/lib/python3.6/dist-packages (from requests>=2.11.1->tweepy>=3.7.0->konlpy) (2020.4.5.1)\n",
            "Requirement already satisfied: urllib3!=1.25.0,!=1.25.1,<1.26,>=1.21.1 in /usr/local/lib/python3.6/dist-packages (from requests>=2.11.1->tweepy>=3.7.0->konlpy) (1.24.3)\n",
            "Requirement already satisfied: idna<3,>=2.5 in /usr/local/lib/python3.6/dist-packages (from requests>=2.11.1->tweepy>=3.7.0->konlpy) (2.9)\n",
            "Requirement already satisfied: chardet<4,>=3.0.2 in /usr/local/lib/python3.6/dist-packages (from requests>=2.11.1->tweepy>=3.7.0->konlpy) (3.0.4)\n"
          ],
          "name": "stdout"
        }
      ]
    },
    {
      "cell_type": "code",
      "metadata": {
        "id": "utbgRr1R21VB",
        "colab_type": "code",
        "outputId": "95ed631d-15ec-40d2-cfba-4d688f214b97",
        "colab": {
          "base_uri": "https://localhost:8080/",
          "height": 35
        }
      },
      "source": [
        "from konlpy.tag import Okt  \n",
        "okt = Okt()  \n",
        "token = okt.morphs(\"나는 자연어 처리를 배운다\")  \n",
        "print(token)"
      ],
      "execution_count": 0,
      "outputs": [
        {
          "output_type": "stream",
          "text": [
            "['나', '는', '자연어', '처리', '를', '배운다']\n"
          ],
          "name": "stdout"
        }
      ]
    },
    {
      "cell_type": "markdown",
      "metadata": {
        "id": "qqztfHWX3zaa",
        "colab_type": "text"
      },
      "source": [
        "코엔엘파이의 Okt 형태소 분석기를 통해서 우선 문장에 대해서 토큰화를 수행하였습니다."
      ]
    },
    {
      "cell_type": "code",
      "metadata": {
        "id": "xkZRa2FT3ixu",
        "colab_type": "code",
        "outputId": "8da28127-b974-4195-fbc7-182e1db0ced9",
        "colab": {
          "base_uri": "https://localhost:8080/",
          "height": 35
        }
      },
      "source": [
        "word2index = {}\n",
        "for voca in token:\n",
        "     if voca not in word2index.keys():\n",
        "       word2index[voca] = len(word2index)\n",
        "print(word2index)"
      ],
      "execution_count": 0,
      "outputs": [
        {
          "output_type": "stream",
          "text": [
            "{'나': 0, '는': 1, '자연어': 2, '처리': 3, '를': 4, '배운다': 5}\n"
          ],
          "name": "stdout"
        }
      ]
    },
    {
      "cell_type": "markdown",
      "metadata": {
        "id": "RTD7AuJd36Sb",
        "colab_type": "text"
      },
      "source": [
        "각 토큰에 대해서 고유한 인덱스(index)를 부여하였습니다. 지금은 문장이 짧기 때문에 각 단어의 빈도수를 고려하지 않지만, 빈도수 순대로 단어를 정렬하여 고유한 인덱스를 부여하는 작업이 사용되기도 합니다. (정수 인코딩 챕터 참고)"
      ]
    },
    {
      "cell_type": "code",
      "metadata": {
        "id": "9SJiq_Y0300a",
        "colab_type": "code",
        "colab": {}
      },
      "source": [
        "def one_hot_encoding(word, word2index):\n",
        "       one_hot_vector = [0]*(len(word2index))\n",
        "       index = word2index[word]\n",
        "       one_hot_vector[index] = 1\n",
        "       return one_hot_vector"
      ],
      "execution_count": 0,
      "outputs": []
    },
    {
      "cell_type": "markdown",
      "metadata": {
        "id": "OoU4UrW138sE",
        "colab_type": "text"
      },
      "source": [
        "토큰을 입력하면 해당 토큰에 대한 원-핫 벡터를 만들어내는 함수를 만들었습니다."
      ]
    },
    {
      "cell_type": "code",
      "metadata": {
        "id": "cisw_7g5370F",
        "colab_type": "code",
        "outputId": "ebf5984c-c4c9-45d3-ab17-9f57bdf39bf5",
        "colab": {
          "base_uri": "https://localhost:8080/",
          "height": 35
        }
      },
      "source": [
        "one_hot_encoding(\"자연어\",word2index)"
      ],
      "execution_count": 0,
      "outputs": [
        {
          "output_type": "execute_result",
          "data": {
            "text/plain": [
              "[0, 0, 1, 0, 0, 0]"
            ]
          },
          "metadata": {
            "tags": []
          },
          "execution_count": 5
        }
      ]
    },
    {
      "cell_type": "markdown",
      "metadata": {
        "id": "mXuuBkra3_LR",
        "colab_type": "text"
      },
      "source": [
        "해당 함수에 '자연어'라는 토큰을 입력으로 넣어봤더니 [0, 0, 1, 0, 0, 0]라는 벡터가 나왔습니다. 자연어는 단어 집합에서 인덱스가 2이므로, 자연어를 표현하는 원-핫 벡터는 인덱스 2의 값이 1이며, 나머지 값은 0인 벡터가 나옵니다."
      ]
    },
    {
      "cell_type": "markdown",
      "metadata": {
        "id": "ZDZWx3954Ao-",
        "colab_type": "text"
      },
      "source": [
        "## 8.1.2 원-핫 인코딩(One-hot encoding)의 한계\n",
        "\n",
        "이러한 표현 방식은 단어의 개수가 늘어날 수록, 벡터를 저장하기 위해 필요한 공간이 계속 늘어난다는 단점이 있습니다. 다른 말로는 벡터의 차원이 계속 늘어난다고도 표현합니다. 원 핫 벡터는 단어 집합의 크기가 곧 벡터의 차원 수가 됩니다. 가령, 단어가 1,000개인 코퍼스를 가지고 원 핫 벡터를 만들면, 모든 단어 각각은 모두 1,000개의 차원을 가진 벡터가 됩니다. 다시 말해 모든 단어 각각은 하나의 값만 1을 가지고, 999개의 값은 0의 값을 가지는 벡터가 되는데 이는 저장 공간 측면에서는 매우 비효율적인 표현 방법입니다.\n",
        "\n",
        "또한 원-핫 벡터는 단어의 유사도를 표현하지 못한다는 단점이 있습니다. 예를 들어서 늑대, 호랑이, 강아지, 고양이라는 4개의 단어에 대해서 원-핫 인코딩을 해서 각각, [1, 0, 0, 0], [0, 1, 0, 0], [0, 0, 1, 0], [0, 0, 0, 1]이라는 원-핫 벡터를 부여받았다고 합시다. 이 때 원-핫 벡터로는 강아지와 늑대가 유사하고, 호랑이와 고양이가 유사하다는 것을 표현할 수가 없습니다. 좀 더 극단적으로는 강아지, 개, 냉장고라는 단어가 있을 때 강아지라는 단어가 개와 냉장고라는 단어 중 어떤 단어와 더 유사한지도 알 수 없습니다.\n",
        "\n",
        "단어 간 유사성을 알 수 없다는 단점은 검색 시스템 등에서 심각한 문제입니다. 가령, 여행을 가려고 웹 검색창에 '삿포로 숙소'라는 단어를 검색한다고 합시다. 제대로 된 검색 시스템이라면, '삿포로 숙소'라는 검색어에 대해서 '삿포로 게스트 하우스', '삿포로 료칸', '삿포로 호텔'과 같은 유사 단어에 대한 결과도 함께 보여줄 수 있어야 합니다. 하지만 단어간 유사성을 계산할 수 없다면, '게스트 하우스'와 '료칸'과 '호텔'이라는 연관 검색어를 보여줄 수 없습니다."
      ]
    },
    {
      "cell_type": "markdown",
      "metadata": {
        "id": "PN8slLKp4d4C",
        "colab_type": "text"
      },
      "source": [
        "## 8.2 워드 임베딩(Word Embedding)"
      ]
    },
    {
      "cell_type": "markdown",
      "metadata": {
        "id": "4AAxCpxG4gGa",
        "colab_type": "text"
      },
      "source": [
        "워드 임베딩(Word Embedding)은 단어를 벡터로 표현하는 것을 말합니다. 워드 임베딩은 단어를 밀집 표현으로 변환하는 방법을 말합니다. 이번 챕터에서는 희소 표현, 밀집 표현, 그리고 워드 임베딩에 대한 개념을 이해합니다."
      ]
    },
    {
      "cell_type": "markdown",
      "metadata": {
        "id": "a4YFZGG94ilc",
        "colab_type": "text"
      },
      "source": [
        "### 8.2.1 희소 표현(Sparse Representation)"
      ]
    },
    {
      "cell_type": "markdown",
      "metadata": {
        "id": "71M_odPY4mi2",
        "colab_type": "text"
      },
      "source": [
        "앞서 원-핫 인코딩을 통해서 나온 원-핫 벡터들은 표현하고자 하는 단어의 인덱스의 값만 1이고, 나머지 인덱스에는 전부 0으로 표현되는 벡터 표현 방법이었습니다. 이렇게 벡터 또는 행렬(matrix)의 값이 대부분이 0으로 표현되는 방법을 희소 표현(sparse representation)이라고 합니다. 그러니까 원-핫 벡터는 희소 벡터(sparse vector)입니다.\n",
        "\n",
        "이러한 희소 벡터의 문제점은 단어의 개수가 늘어나면 벡터의 차원이 한없이 커진다는 점입니다. 원-핫 벡터로 표현할 때는 갖고 있는 코퍼스에 단어가 10,000개였다면 벡터의 차원은 10,000이어야만 했습니다. 심지어 그 중에서 단어의 인덱스에 해당되는 부분만 1이고 나머지는 0의 값을 가져야만 했습니다. 단어 집합이 클수록 고차원의 벡터가 됩니다. 예를 들어 단어가 10,000개 있고 강아지란 단어의 인덱스는 5였다면 원 핫 벡터는 이렇게 표현되어야 했습니다.\n",
        "\n",
        "Ex) 강아지 = [ 0 0 0 0 0 1 0 0 0 0 0 0 ... 중략 ... 0] # 이 때 1 뒤의 0의 수는 9994개.\n",
        "\n",
        "이러한 벡터 표현은 공간적 낭비를 불러일으킵니다. 원-핫 벡터의 문제점은 단어 벡터 간 유사도를 표현할 수 없다는 점도 있습니다. 예를 들어보겠습니다. dog, cat, computer, netbook, book 이러한 단어가 5개에 대해서 원-핫 인코딩을 한다고 해봅시다. 우선 이 단어들에 0, 1, 2, 3, 4라는 고유한 정수를 부여합다. 그리고 나서 단어의 개수가 5개이므로 벡터의 차원으로 5로하고 부여된 각 고유한 정수를 인덱스로 하여 해당 인덱스에는 1, 나머지는 0의 값을 채워넣습니다. 이를 코드로 표현하면 아래와 같습니다."
      ]
    },
    {
      "cell_type": "code",
      "metadata": {
        "id": "G_5tI04j392d",
        "colab_type": "code",
        "colab": {}
      },
      "source": [
        "import torch\n",
        "\n",
        "# 원-핫 벡터 생성\n",
        "dog = torch.FloatTensor([1, 0, 0, 0, 0])\n",
        "cat = torch.FloatTensor([0, 1, 0, 0, 0])\n",
        "computer = torch.FloatTensor([0, 0, 1, 0, 0])\n",
        "netbook = torch.FloatTensor([0, 0, 0, 1, 0])\n",
        "book = torch.FloatTensor([0, 0, 0, 0, 1])"
      ],
      "execution_count": 0,
      "outputs": []
    },
    {
      "cell_type": "markdown",
      "metadata": {
        "id": "41GPp5pj4qeD",
        "colab_type": "text"
      },
      "source": [
        "이러한 원-핫 벡터간 코사인 유사도를 구해보겠습니다."
      ]
    },
    {
      "cell_type": "code",
      "metadata": {
        "id": "zc1jTpEw4qF9",
        "colab_type": "code",
        "outputId": "6ff1bfbd-d473-4a82-82c5-a361687c6329",
        "colab": {
          "base_uri": "https://localhost:8080/",
          "height": 89
        }
      },
      "source": [
        "print(torch.cosine_similarity(dog, cat, dim=0))\n",
        "print(torch.cosine_similarity(cat, computer, dim=0))\n",
        "print(torch.cosine_similarity(computer, netbook, dim=0))\n",
        "print(torch.cosine_similarity(netbook, book, dim=0))"
      ],
      "execution_count": 0,
      "outputs": [
        {
          "output_type": "stream",
          "text": [
            "tensor(0.)\n",
            "tensor(0.)\n",
            "tensor(0.)\n",
            "tensor(0.)\n"
          ],
          "name": "stdout"
        }
      ]
    },
    {
      "cell_type": "markdown",
      "metadata": {
        "id": "SJAHlZ5A41ss",
        "colab_type": "text"
      },
      "source": [
        "사람이 생각하기에 강아지와 고양이라는 단어의 유사도는 고양이와 컴퓨터라는 단어의 유사도보다 높을 것이며, 컴퓨터와 넷북이라는 단어의 유사도는 넷북과 책이라는 단어의 유사도보다 높을 것 같지만 어떤 단어들을 선택해서 코사인 유사도를 구해도 유사도는 전부 동일합니다. 단어 간 의미적 유사도를 반영할 수 없다는 것은 자연어 처리에서 치명적입니다."
      ]
    },
    {
      "cell_type": "markdown",
      "metadata": {
        "id": "EBiRVECu44JR",
        "colab_type": "text"
      },
      "source": [
        "### 8.2.2 밀집 표현(Dense Representation)"
      ]
    },
    {
      "cell_type": "markdown",
      "metadata": {
        "id": "BbF59VTY466x",
        "colab_type": "text"
      },
      "source": [
        "이러한 희소 표현과 반대되는 표현이 있으니, 이를 밀집 표현(dense representation)이라고 합니다. 밀집 표현은 벡터의 차원을 단어 집합의 크기로 상정하지 않습니다. 사용자가 설정한 값으로 모든 단어의 벡터 표현의 차원을 맞춥니다. 또한, 이 과정에서 더 이상 0과 1만 가진 값이 아니라 실수값을 가지게 됩니다. 다시 희소 표현의 예를 가져와봅시다.\n",
        "\n",
        "Ex) 강아지 = [ 0 0 0 0 1 0 0 0 0 0 0 0 ... 중략 ... 0] # 이 때 1 뒤의 0의 수는 9995개. 차원은 10,000\n",
        "\n",
        "예를 들어 10,000개의 단어가 있을 때 강아지란 단어를 표현하기 위해서는 위와 같은 표현을 사용했습니다. 하지만 밀집 표현을 사용하고, 사용자가 밀집 표현의 차원을 128로 설정한다면, 모든 단어의 벡터 표현의 차원은 128로 바뀌면서 모든 값이 실수가 됩니다.\n",
        "\n",
        "Ex) 강아지 = [0.2 1.8 1.1 -2.1 1.1 2.8 ... 중략 ...] # 이 벡터의 차원은 128\n",
        "\n",
        "이 경우 벡터의 차원이 조밀해졌다고 하여 밀집 벡터(dense vector)라고 합니다."
      ]
    },
    {
      "cell_type": "markdown",
      "metadata": {
        "id": "n9bVvrPA5CyB",
        "colab_type": "text"
      },
      "source": [
        "### 8.2.3 워드 임베딩(Word Embedding)"
      ]
    },
    {
      "cell_type": "markdown",
      "metadata": {
        "id": "nu-R9isN5LSw",
        "colab_type": "text"
      },
      "source": [
        "단어를 밀집 벡터(dense vector)의 형태로 표현하는 방법을 **워드 임베딩(word embedding)**이라고 합니다. 그리고 이 밀집 벡터를 워드 임베딩 과정을 통해 나온 결과라고 하여 **임베딩 벡터(embedding vector)**라고도 합니다.\n",
        "\n",
        "워드 임베딩 방법론으로는 LSA, Word2Vec, FastText, Glove 등이 있습니다. 파이토치에서 제공하는 도구인 nn.embedding()는 앞서 언급한 방법들을 사용하지는 않지만, 단어를 랜덤한 값을 가지는 밀집 벡터로 변환한 뒤에, 인공 신경망의 가중치를 학습하는 것과 같은 방식으로 단어 벡터를 학습하는 방법을 사용합니다. 아래의 표는 앞서 배운 원-핫 벡터와 지금 배우고 있는 임베딩 벡터의 차이를 보여줍니다.\n",
        "\n",
        "|-|원-핫 벡터|임베딩 벡터|\n",
        "|:----|:----|:----|\n",
        "|차원|고차원(단어 집합의 크기)|저차원|\n",
        "|다른 표현|희소 벡터의 일종|밀집 벡터의 일종|\n",
        "|표현 방법|수동|훈련 데이터로부터 학습함|\n",
        "|값의 타입|1과 0|실수|"
      ]
    },
    {
      "cell_type": "markdown",
      "metadata": {
        "id": "IOna7BYC6SqR",
        "colab_type": "text"
      },
      "source": [
        "## 8.3 워드투벡터(Word2Vec)"
      ]
    },
    {
      "cell_type": "markdown",
      "metadata": {
        "id": "ShRC2ti_6VtN",
        "colab_type": "text"
      },
      "source": [
        "앞서 원-핫 인코딩 챕터에서 원-핫 벡터는 단어 간 유사도를 계산할 수 없다는 단점이 있음을 언급한 적이 있습니다. 그래서 단어 간 유사도를 반영할 수 있도록 단어의 의미를 벡터화 할 수 있는 방법이 필요합니다. 그리고 이를 위해서 사용되는 대표적인 방법이 워드투벡터(Word2Vec)입니다. Word2Vec의 개념을 설명하기에 앞서, Word2Vec가 어떤 일을 할 수 있는지 먼저 확인해보겠습니다.\n",
        "\n",
        "![대체 텍스트](https://wikidocs.net/images/page/22660/word2vec.PNG)\n",
        "\n",
        "http://w.elnn.kr/search/\n",
        "\n",
        "위 사이트는 한국어 단어에 대해서 벡터 연산을 해볼 수 있는 사이트입니다. 위 사이트에서는 단어들(실제로는 Word2Vec 벡터)로 더하기, 빼기 연산을 할 수 있습니다. 예를 들어 아래의 식에서 좌변을 집어 넣으면, 우변의 답들이 나옵니다.\n",
        "\n",
        "고양이 + 애교 = 강아지\n",
        "한국 - 서울 + 도쿄 = 일본\n",
        "박찬호 - 야구 + 축구 = 호나우두\n",
        "\n",
        "신기하게도 단어가 가지고 있는 어떤 의미들을 가지고 연산을 하고 있는 것처럼 보입니다. 이런 연산이 가능한 이유는 각 단어 벡터가 단어 간 유사도를 반영한 값을 가지고 있기 때문입니다. 어떻게 이런 일이 가능한 것일까요?"
      ]
    },
    {
      "cell_type": "markdown",
      "metadata": {
        "id": "8zXpMmpj6dSW",
        "colab_type": "text"
      },
      "source": [
        "### 8.3.1 희소 표현(Sparse Representation)"
      ]
    },
    {
      "cell_type": "markdown",
      "metadata": {
        "id": "uga8cVxj6f-n",
        "colab_type": "text"
      },
      "source": [
        "앞서 원-핫 인코딩을 통해서 나온 원-핫 벡터들은 표현하고자 하는 단어의 인덱스의 값만 1이고, 나머지 인덱스에는 전부 0으로 표현되는 벡터 표현 방법이었습니다. 이렇게 벡터 또는 행렬(matrix)의 값이 대부분이 0으로 표현되는 방법을 희소 표현(sparse representation)이라고 합니다. 그러니까 원-핫 벡터는 희소 벡터(sparse vector)입니다.\n",
        "\n",
        "하지만 이러한 표현 방법은 각 단어간 유사성을 표현할 수 없다는 단점이 있었고, 이를 위한 대안으로 단어의 '의미'를 다차원 공간에 벡터화하는 방법을 찾게되는데, 이러한 표현 방법을 **분산 표현(distributed representation)**이라고 합니다. 그리고 이렇게 분산 표현을 이용하여 단어의 유사도를 벡터화하는 작업은 워드 임베딩(embedding) 작업에 속하기 때문에 이렇게 표현된 벡터 또한 임베딩 벡터(embedding vector)라고 하며, 저차원을 가지므로 바로 앞의 챕터에서 배운 밀집 벡터(dense vector)에도 속합니다."
      ]
    },
    {
      "cell_type": "markdown",
      "metadata": {
        "id": "j4SRzwF96i0J",
        "colab_type": "text"
      },
      "source": [
        "### 8.3.2 분산 표현(Distributed Representation)"
      ]
    },
    {
      "cell_type": "markdown",
      "metadata": {
        "id": "zkUTKZMx6qOC",
        "colab_type": "text"
      },
      "source": [
        "분산 표현(distributed representation) 방법은 기본적으로 분포 가설(distributional hypothesis)이라는 가정 하에 만들어진 표현 방법입니다. 이 가정은 '비슷한 위치에서 등장하는 단어들은 비슷한 의미를 가진다'라는 가정입니다. 강아지란 단어는 귀엽다, 예쁘다, 애교 등의 단어가 주로 함께 등장하는데 분포 가설에 따라서 저런 내용을 가진 텍스트를 벡터화한다면 저 단어들은 의미적으로 가까운 단어가 됩니다. 분산 표현은 분포 가설을 이용하여 단어들의 셋을 학습하고, 벡터에 단어의 의미를 여러 차원에 분산하여 표현합니다.\n",
        "\n",
        "이렇게 표현된 벡터들은 원-핫 벡터처럼 벡터의 차원이 단어 집합(vocabulary)의 크기일 필요가 없으므로, 벡터의 차원이 상대적으로 저차원으로 줄어듭니다. 예를 들어 단어가 10,000개 있고 인덱스가 1부터 시작한다고 하였을 때 강아지란 단어의 인덱스는 5였다면 강아지란 단어를 표현하는 원-핫 벡터는 다음과 같았습니다.\n",
        "\n",
        "Ex) 강아지 = [ 0 0 0 0 1 0 0 0 0 0 0 0 ... 중략 ... 0]\n",
        "\n",
        "1이란 값 뒤에는 0이 9,995개가 있는 벡터가 됩니다. 하지만 Word2Vec로 임베딩 된 벡터는 굳이 벡터의 차원이 단어 집합의 크기가 될 필요가 없습니다. 강아지란 단어를 표현하기 위해 사용자가 설정한 차원을 가지는 벡터가 되면서 각 차원은 실수형의 값을 가집니다.\n",
        "\n",
        "Ex) 강아지 = [0.2 0.3 0.5 0.7 0.2 ... 중략 ... 0.2]\n",
        "\n",
        "요약하면 희소 표현이 고차원에 각 차원이 분리된 표현 방법이었다면, 분산 표현은 저차원에 단어의 의미를 여러 차원에다가 분산하여 표현합니다. 이런 표현 방법을 사용하면 단어 간 유사도를 계산할 수 있습니다.\n",
        "\n",
        "이를 위한 학습 방법으로는 NNLM, RNNLM 등이 있으나 요즘에는 해당 방법들의 속도를 대폭 개선시킨 Word2Vec가 많이 쓰이고 있습니다."
      ]
    },
    {
      "cell_type": "markdown",
      "metadata": {
        "id": "8v0Po_-p6reB",
        "colab_type": "text"
      },
      "source": [
        "### 8.3.3 CBOW(Continuous Bag of Words)"
      ]
    },
    {
      "cell_type": "markdown",
      "metadata": {
        "id": "gfJMLhIr6vUi",
        "colab_type": "text"
      },
      "source": [
        "Word2Vec에는 CBOW(Continuous Bag of Words)와 Skip-Gram 두 가지 방식이 있습니다. CBOW는 주변에 있는 단어들을 가지고, 중간에 있는 단어들을 예측하는 방법입니다. 반대로, Skip-Gram은 중간에 있는 단어로 주변 단어들을 예측하는 방법입니다. 메커니즘 자체는 거의 동일하기 때문에 CBOW를 이해한다면 Skip-Gram도 손쉽게 이해 가능합니다. 우선 CBOW에 대해서 알아보도록 하겠습니다. 이해를 위해 매우 간소화 된 형태의 CBOW로 설명합니다.\n",
        "\n",
        "예문 : \"The fat cat sat on the mat\"\n",
        "예를 들어서 갖고 있는 코퍼스에 위와 같은 문장이 있다고 합시다. 가운데 단어를 예측하는 것이 CBOW라고 했습니다. {\"The\", \"fat\", \"cat\", \"on\", \"the\", \"mat\"}으로부터 sat을 예측하는 것은 CBOW가 하는 일입니다. 이 때 예측해야하는 단어 sat을 중심 단어(center word)라고 하고, 예측에 사용되는 단어들을 주변 단어(context word)라고 합니다.\n",
        "\n",
        "중심 단어를 예측하기 위해서 앞, 뒤로 몇 개의 단어를 볼지를 결정했다면 이 범위를 윈도우(window)라고 합니다. 예를 들어서 윈도우 크기가 2이고, 예측하고자 하는 중심 단어가 sat이라고 한다면 앞의 두 단어인 fat와 cat, 그리고 뒤의 두 단어인 on, the를 참고합니다. 윈도우 크기가 n이라고 한다면, 실제 중심 단어를 예측하기 위해 참고하려고 하는 주변 단어의 개수는 2n이 될 것입니다.\n",
        "\n",
        "![대체 텍스트](https://wikidocs.net/images/page/22660/%EB%8B%A8%EC%96%B4.PNG)\n",
        "\n",
        "윈도우 크기를 정했다면, 윈도우를 계속 움직여서 주변 단어와 중심 단어 선택을 바꿔가며 학습을 위한 데이터 셋을 만들 수 있는데, 이 방법을 슬라이딩 윈도우(sliding window)라고 합니다.\n",
        "\n",
        "위 그림에서 좌측의 중심 단어와 주변 단어의 변화는 윈도우 크기가 2일때, 슬라이딩 윈도우가 어떤 식으로 이루어지면서 데이터 셋을 만드는지 보여줍니다. 또한 Word2Vec에서 입력은 모두 원-핫 벡터가 되어야 하는데, 우측 그림은 중심 단어와 주변 단어를 어떻게 선택했을 때에 따라서 각각 어떤 원-핫 벡터가 되는지를 보여줍니다. 위 그림은 결국 CBOW를 위한 전체 데이터 셋을 보여주는 것입니다.\n",
        "\n",
        "![대체 텍스트](https://wikidocs.net/images/page/22660/word2vec_renew_1.PNG)\n",
        "\n",
        "CBOW의 인공 신경망을 간단히 도식화하면 위와 같습니다. 입력층(Input layer)의 입력으로서 앞, 뒤로 사용자가 정한 윈도우 크기 범위 안에 있는 주변 단어들의 원-핫 벡터가 들어가게 되고, 출력층(Output layer)에서 예측하고자 하는 중간 단어의 원-핫 벡터가 필요합니다. 뒤에서 설명하겠지만, Word2Vec의 학습을 위해서 이 중간 단어의 원-핫 벡터가 필요합니다.\n",
        "\n",
        "또한 위 그림에서 알 수 있는 사실은, Word2Vec은 딥 러닝 모델(Deep Learning Model)은 아니라는 점입니다. 보통 딥 러닝이라함은, 입력층과 출력층 사이의 은닉층의 개수가 충분히 쌓인 신경망을 학습할 때를 말하는데 Word2Vec는 입력층과 출력층 사이에 하나의 은닉층만이 존재합니다. 이렇게 은닉층(hidden Layer)이 1개인 경우에는 일반적으로 심층신경망(Deep Neural Network)이 아니라 얕은신경망(Shallow Neural Network)이라고 부릅니다. 또한 Word2Vec의 은닉층은 일반적인 은닉층과는 달리 활성화 함수가 존재하지 않으며 룩업 테이블이라는 연산을 담당하는 층으로 일반적인 은닉층과 구분하기 위해 투사층(projection layer)이라고 부르기도 합니다.\n",
        "\n",
        "![대체 텍스트](https://wikidocs.net/images/page/22660/word2vec_renew_2.PNG)\n",
        "\n",
        "CBOW의 인공 신경망을 좀 더 확대하여, 동작 메커니즘에 대해서 상세하게 알아보도록 하겠습니다. 이 그림에서 주목해야할 것은 두 가지 입니다. 하나는 투사층의 크기가 M이라는 점입니다. CBOW에서 투사층의 크기 M은 임베딩하고 난 벡터의 차원이 됩니다. 다시 말해, 위의 그림에서 투사층의 크기는 M=5이기 때문에 CBOW를 수행하고나서 얻는 각 단어의 임베딩 벡터의 차원은 5가 될 것입니다.\n",
        "\n",
        "두번째는 입력층과 투사층 사이의 가중치 W는 V × M 행렬이며, 투사층에서 출력층사이의 가중치 W'는 M × V 행렬이라는 점입니다. 여기서 V는 단어 집합의 크기를 의미합니다. 즉, 위의 그림처럼 원-핫 벡터의 차원이 7이고, M은 5라면 가중치 W는 7 × 5 행렬이고, W'는 5 × 7 행렬이 될 것입니다. 주의할 점은 이 두 행렬은 동일한 행렬을 전치(transpose)한 것이 아니라, 서로 다른 행렬이라는 점입니다. 인공 신경망의 훈련 전에 이 가중치 행렬 W와 W'는 대게 굉장히 작은 랜덤 값을 가지게 됩니다. CBOW는 주변 단어로 중심 단어를 더 정확히 맞추기 위해 계속해서 이 W와 W'를 학습해가는 구조입니다.\n",
        "\n",
        "![대체 텍스트](https://wikidocs.net/images/page/22660/word2vec_renew_3.PNG)\n",
        "\n",
        "입력으로 들어오는 주변 단어의 원-핫 벡터와 가중치 W 행렬의 곱이 어떻게 이루어지는지 보겠습니다. 위 그림에서는 각 주변 단어의 원-핫 벡터를 x로 표기하였습니다. 입력 벡터는 원-핫 벡터입니다. i번째 인덱스에 1이라는 값을 가지고 그 외의 0의 값을 가지는 입력 벡터와 가중치 W 행렬의 곱은 사실 W행렬의 i번째 행을 그대로 읽어오는 것과(lookup) 동일합니다. 그래서 이 작업을 룩업 테이블(lookup table)이라고 부릅니다. 앞서 CBOW의 목적은 W와 W'를 잘 훈련시키는 것이라고 언급한 적이 있는데, 사실 그 이유가 여기서 lookup해온 W의 각 행벡터가 사실 Word2Vec을 수행한 후의 각 단어의 M차원의 크기를 갖는 임베딩 벡터들이기 때문입니다.\n",
        "\n",
        "![대체 텍스트](https://wikidocs.net/images/page/22660/word2vec_renew_4.PNG)\n",
        "\n",
        "이렇게 각 주변 단어의 원-핫 벡터에 대해서 가중치 W가 곱해서 생겨진 결과 벡터들은 투사층에서 만나 이 벡터들의 평균인 벡터를 구하게 됩니다. 만약 윈도우 크기가 2라면, 입력 벡터의 총 개수는 2n이므로 중간 단어를 예측하기 위해서는 총 4개가 입력 벡터로 사용됩니다. 그렇기 때문에 평균을 구할 때는 4개의 결과 벡터에 대해서 평균을 구하게 됩니다. 투사층에서 벡터의 평균을 구하는 부분은 CBOW가 Skip-Gram과 다른 차이점이기도 합니다. 뒤에서 보게되겠지만, Skip-Gram은 입력이 중심 단어 하나이기때문에 투사층에서 벡터의 평균을 구하지 않습니다.\n",
        "\n",
        "![대체 텍스트](https://wikidocs.net/images/page/22660/word2vec_renew_5.PNG)\n",
        "\n",
        "이렇게 구해진 평균 벡터는 두번째 가중치 행렬 W'와 곱해집니다. 곱셈의 결과로는 원-핫 벡터들과 차원이 V로 동일한 벡터가 나옵니다. 만약 입력 벡터의 차원이 7이었다면 여기서 나오는 벡터도 마찬가지입니다.\n",
        "\n",
        "이 벡터에 CBOW는 소프트맥스(softmax) 함수를 취하는데, 소프트맥스 함수로 인한 출력값은 0과 1사이의 실수로, 각 원소의 총 합은 1이 되는 상태로 바뀝니다. 이렇게 나온 벡터를 스코어 벡터(score vector)라고 합니다. 스코어 벡터의 각 차원 안에서의 값이 의미하는 것은 아래와 같습니다.\n",
        "\n",
        "스코어 벡터의 j번째 인덱스가 가진 0과 1사이의 값은 j번째 단어가 중심 단어일 확률을 나타냅니다. 그리고 이 스코어 벡터는 우리가 실제로 값을 알고있는 벡터인 중심 단어 원-핫 벡터의 값에 가까워져야 합니다. 스코어 벡터를 $\\^_{𝑦}$라고 하겠습니다. 중심 단어를 $y$로 했을 때, 이 두 벡터값의 오차를 줄이기위해 CBOW는 손실 함수(loss function)로 cross-entropy 함수를 사용합니다.\n",
        "\n",
        "![대체 텍스트](https://wikidocs.net/images/page/22660/crossentrophy.PNG)\n",
        "\n",
        "cross-entropy 함수에 실제 중심 단어인 원-핫 벡터와 스코어 벡터를 입력값으로 넣고, 이를 식으로 표현하면 위와 같습니다.\n",
        "\n",
        "![대체 텍스트](https://wikidocs.net/images/page/22660/crossentrophy2.PNG)\n",
        "\n",
        "그런데 y가 원-핫 벡터라는 점을 고려하면, 이 식은 위와 같이 간소화시킬 수 있습니다. 이 식이 왜 loss function으로 적합한지 알아보겠습니다. c를 중심 단어에서 1을 가진 차원의 값의 인덱스라고 한다면, ![대체 텍스트](https://wikidocs.net/images/page/22660/best.PNG)는  $\\^_{𝑦}$가 $y$를 정확하게 예측한 경우가 됩니다. 이를 식에 대입해보면 -1 log(1) = 0이 되기 때문에, 결과적으로  $\\^_{𝑦}$가 $y$를 정확하게 예측한 경우의 cross-entropy의 값은 0이 됩니다. 즉, ![대체 텍스트](https://wikidocs.net/images/page/22660/crossentrophy.PNG)이 값을 최소화하는 방향으로 학습해야 합니다.\n",
        "\n",
        "이제 역전파(Back Propagation)를 수행하면 W와 W'가 학습이 되는데, 학습이 다 되었다면 M차원의 크기를 갖는 W의 행이나 W'의 열로부터 어떤 것을 임베딩 벡터로 사용할지를 결정하면 됩니다. 때로는 W와 W'의 평균치를 가지고 임베딩 벡터를 선택하기도 합니다."
      ]
    },
    {
      "cell_type": "markdown",
      "metadata": {
        "id": "neENi3q8ht3M",
        "colab_type": "text"
      },
      "source": [
        "### 8.3.4 Skip-gram"
      ]
    },
    {
      "cell_type": "markdown",
      "metadata": {
        "id": "P9_uehMWhzlk",
        "colab_type": "text"
      },
      "source": [
        "Skip-gram은 CBOW를 이해했다면, 메커니즘 자체는 동일하기 때문에 쉽게 이해할 수 있습니다. 앞서 CBOW에서는 주변 단어를 통해 중심 단어를 예측했다면, Skip-gram은 중심 단어에서 주변 단어를 예측하려고 합니다.\n",
        "\n",
        "![대체 텍스트](https://wikidocs.net/images/page/22660/word2vec_renew_6.PNG)\n",
        "\n",
        "앞서 언급한 동일한 예문에 대해서 인공 신경망을 도식화해보면 위와 같습니다. 이제 중심 단어에 대해서 주변 단어를 예측하기 때문에, 투사층에서 벡터들의 평균을 구하는 과정은 없습니다.\n",
        "\n",
        "여러 논문에서 성능 비교를 진행했을 때, 전반적으로 Skip-gram이 CBOW보다 성능이 좋다고 알려져 있습니다."
      ]
    },
    {
      "cell_type": "markdown",
      "metadata": {
        "id": "RBpwEYcWh4pq",
        "colab_type": "text"
      },
      "source": [
        "### 8.3.5 네거티브 샘플링(Negative Sampling)"
      ]
    },
    {
      "cell_type": "markdown",
      "metadata": {
        "id": "rXw3ZiwTh7kR",
        "colab_type": "text"
      },
      "source": [
        "대체적으로 Word2Vec를 사용한다고 하면 SGNS(Skip-Gram with Negative Sampling)을 사용합니다. Skip-gram을 사용하는데, 네거티브 샘플링(Negative Sampling)이란 방법까지 추가로 사용한다는 겁니다. Skip-gram을 전제로 네거티브 샘플링에 대해서 알아봅시다.\n",
        "\n",
        "위에서 배운 Word2Vec 모델에는 한 가지 문제점이 있습니다. 바로 속도입니다. Word2Vec의 마지막 단계를 주목해봅시다. 출력층에 있는 소프트맥스 함수는 단어 집합 크기의 벡터 내의 모든 값을 0과 1사이의 값이면서 모두 더하면 1이 되도록 바꾸는 작업을 수행합니다. 그리고 이에 대한 오차를 구하고 모든 단어에 대한 임베딩을 조정합니다. 그 단어가 중심 단어나 주변 단어와 전혀 상관없는 단어라도 마찬가지 입니다. 그런데 만약 단어 집합의 크기가 수백만에 달한다면 이 작업은 굉장히 무거운 작업입니다.\n",
        "\n",
        "여기서 중요한 건 Word2Vec이 모든 단어 집합에 대해서 소프트맥스 함수를 수행하고, 역전파를 수행하므로 주변 단어와 상관 없는 모든 단어까지의 워드 임베딩 조정 작업을 수행한다는 겁니다. 만약 마지막 단계에서 '강아지'와 '고양이'와 같은 단어에 집중하고 있다면, Word2Vec은 사실 '돈가스'나 '컴퓨터'와 같은 연관 관계가 없는 수많은 단어의 임베딩을 조정할 필요가 없습니다.\n",
        "\n",
        "이를 조금 더 효율적으로 할 수 있는 방법이 없을까요? 전체 단어 집합이 아니라 일부 단어 집합에 대해서만 고려하면 안 될까요? 이렇게 일부 단어 집합을 만들어봅시다. '강아지', '고양이', '애교'와 같은 주변 단어들을 가져옵니다. 그리고 여기에 '돈가스', '컴퓨터', '회의실'과 같은 랜덤으로 선택된 주변 단어가 아닌 상관없는 단어들을 일부만 갖고옵니다. 이렇게 전체 단어 집합보다 훨씬 작은 단어 집합을 만들어놓고 마지막 단계를 이진 분류 문제로 바꿔버리는 겁니다. 즉, Word2Vec은 주변 단어들을 긍정(positive)으로 두고 랜덤으로 샘플링 된 단어들을 부정(negative)으로 둔 다음에 이진 분류 문제를 수행합니다.\n",
        "\n",
        "이는 기존의 다중 클래스 분류 문제를 이진 분류 문제로 바꾸면서도 연산량에 있어서 훨씬 효율적입니다.\n",
        "\n",
        "다음 챕터에서 영어와 한국어 훈련 데이터에 대해서 Word2Vec 모델을 훈련시키는 실습을 진행해보겠습니다."
      ]
    },
    {
      "cell_type": "markdown",
      "metadata": {
        "id": "kDwYJ65Sh_n1",
        "colab_type": "text"
      },
      "source": [
        "## 8.4 영어/한국어 Word2vec 훈련시키기"
      ]
    },
    {
      "cell_type": "markdown",
      "metadata": {
        "id": "6jZ5wb8-iC5c",
        "colab_type": "text"
      },
      "source": [
        "이번 챕터에서는 영어와 한국어 훈련 데이터에 대해서 Word2Vec을 학습해보겠습니다. gensim 패키지에서 Word2Vec은 이미 구현되어져 있으므로, 별도로 Word2Vec을 구현할 필요없이 손쉽게 훈련시킬 수 있습니다."
      ]
    },
    {
      "cell_type": "markdown",
      "metadata": {
        "id": "q0hY_XGFiEWa",
        "colab_type": "text"
      },
      "source": [
        "### 8.4.1 영어 Word2Vec 만들기"
      ]
    },
    {
      "cell_type": "markdown",
      "metadata": {
        "id": "R4wEAtrNiG5Q",
        "colab_type": "text"
      },
      "source": [
        "이번에는 영어 데이터를 다운로드 받아 직접 Word2Vec 작업을 진행해보도록 하겠습니다. 파이썬의 gensim 패키지에는 Word2Vec을 지원하고 있어, gensim 패키지를 이용하면 손쉽게 단어를 임베딩 벡터로 변환시킬 수 있습니다. 영어로 된 코퍼스를 다운받아 전처리를 수행하고, 전처리한 데이터를 바탕으로 Word2Vec 작업을 진행하겠습니다.\n",
        "\n",
        "우선 필요한 도구들을 임포트합니다."
      ]
    },
    {
      "cell_type": "code",
      "metadata": {
        "id": "TIYfAluD4sdC",
        "colab_type": "code",
        "outputId": "9ed76e2e-33cb-400f-d1ae-465e604de0a3",
        "colab": {
          "base_uri": "https://localhost:8080/",
          "height": 71
        }
      },
      "source": [
        "import nltk\n",
        "nltk.download('punkt')"
      ],
      "execution_count": 0,
      "outputs": [
        {
          "output_type": "stream",
          "text": [
            "[nltk_data] Downloading package punkt to /root/nltk_data...\n",
            "[nltk_data]   Package punkt is already up-to-date!\n"
          ],
          "name": "stdout"
        },
        {
          "output_type": "execute_result",
          "data": {
            "text/plain": [
              "True"
            ]
          },
          "metadata": {
            "tags": []
          },
          "execution_count": 17
        }
      ]
    },
    {
      "cell_type": "code",
      "metadata": {
        "id": "ZoRZLmkTiIvF",
        "colab_type": "code",
        "colab": {}
      },
      "source": [
        "import urllib.request\n",
        "import zipfile\n",
        "from lxml import etree\n",
        "import re\n",
        "from nltk.tokenize import word_tokenize, sent_tokenize"
      ],
      "execution_count": 0,
      "outputs": []
    },
    {
      "cell_type": "markdown",
      "metadata": {
        "id": "YTq17BpQiaFq",
        "colab_type": "text"
      },
      "source": [
        "1) 훈련 데이터 이해하기\n",
        "\n",
        "[링크](https://wit3.fbk.eu/get.php?path=XML_releases/xml/ted_en-20160408.zip&filename=ted_en-20160408.zip)\n",
        "\n",
        "위 위 zip 파일의 압축을 풀면 ted_en-20160408.xml이라는 파일을 얻을 수 있습니다. 여기서는 파이썬 코드를 통해 자동으로 xml 파일을 다운로드 받겠습니다.\n",
        "\n"
      ]
    },
    {
      "cell_type": "code",
      "metadata": {
        "id": "ZZZRGR-siJ4E",
        "colab_type": "code",
        "outputId": "d9b6ee57-c12c-4718-a7e2-337ce7975288",
        "colab": {
          "base_uri": "https://localhost:8080/",
          "height": 35
        }
      },
      "source": [
        "urllib.request.urlretrieve(\"https://raw.githubusercontent.com/GaoleMeng/RNN-and-FFNN-textClassification/master/ted_en-20160408.xml\", filename=\"ted_en-20160408.xml\")\n",
        "# 데이터 다운로드"
      ],
      "execution_count": 0,
      "outputs": [
        {
          "output_type": "execute_result",
          "data": {
            "text/plain": [
              "('ted_en-20160408.xml', <http.client.HTTPMessage at 0x7f30470cc470>)"
            ]
          },
          "metadata": {
            "tags": []
          },
          "execution_count": 19
        }
      ]
    },
    {
      "cell_type": "markdown",
      "metadata": {
        "id": "UlvUHsKZiizn",
        "colab_type": "text"
      },
      "source": [
        "아래는 해당 xml 파일의 형식을 보여줍니다. 해당 파일은 xml 문법으로 작성되어 있어 자연어를 얻기 위해서는 전처리가 필요합니다. 얻고자 하는 실질적 데이터는 영어문장으로만 구성된 내용을 담고 있는 < content >와 < /content > 사이의 내용입니다. 전처리 작업을 통해 xml 문법들은 제거하고, 해당 데이터만 가져와야 합니다. 뿐만 아니라, < content >와 < /content > 사이의 내용 중에는 (Laughter)나 (Applause)와 같은 배경음을 나타내는 단어도 등장하는데 이 또한 제거해야 합니다."
      ]
    },
    {
      "cell_type": "markdown",
      "metadata": {
        "id": "rXCDEBjQio2D",
        "colab_type": "text"
      },
      "source": [
        "\n",
        "\n",
        "```\n",
        "<file id=\"1\">\n",
        "  <head>\n",
        "<url>http://www.ted.com/talks/knut_haanaes_two_reasons_companies_fail_and_how_to_avoid_them</url>\n",
        "       <pagesize>72832</pagesize>\n",
        "... xml 문법 중략 ...\n",
        "<content>\n",
        "Here are two reasons companies fail: they only do more of the same, or they only do what's new.\n",
        "To me the real, real solution to quality growth is figuring out the balance between two activities:\n",
        "... content 내용 중략 ...\n",
        "To me, the irony about the Facit story is hearing about the Facit engineers, who had bought cheap, small electronic calculators in Japan that they used to double-check their calculators.\n",
        "(Laughter)\n",
        "... content 내용 중략 ...\n",
        "(Applause)\n",
        "</content>\n",
        "</file>\n",
        "<file id=\"2\">\n",
        "    <head>\n",
        "<url>http://www.ted.com/talks/lisa_nip_how_humans_could_evolve_to_survive_in_space<url>\n",
        "... 이하 중략 ...\n",
        "```\n",
        "\n"
      ]
    },
    {
      "cell_type": "markdown",
      "metadata": {
        "id": "uOvwcP7JistB",
        "colab_type": "text"
      },
      "source": [
        "2) 훈련 데이터 전처리 하기\n",
        "\n",
        "위 데이터를 위한 전처리 코드는 아래와 같습니다."
      ]
    },
    {
      "cell_type": "code",
      "metadata": {
        "id": "4lN9HiObiiAC",
        "colab_type": "code",
        "colab": {}
      },
      "source": [
        "targetXML=open('ted_en-20160408.xml', 'r', encoding='UTF8')\n",
        "# 저자의 경우 윈도우 바탕화면에서 작업하여서 'C:\\Users\\USER\\Desktop\\ted_en-20160408.xml'이 해당 파일의 경로.  \n",
        "target_text = etree.parse(targetXML)\n",
        "parse_text = '\\n'.join(target_text.xpath('//content/text()'))\n",
        "# xml 파일로부터 <content>와 </content> 사이의 내용만 가져온다.\n",
        "\n",
        "content_text = re.sub(r'\\([^)]*\\)', '', parse_text)\n",
        "# 정규 표현식의 sub 모듈을 통해 content 중간에 등장하는 (Audio), (Laughter) 등의 배경음 부분을 제거.\n",
        "# 해당 코드는 괄호로 구성된 내용을 제거.\n",
        "\n",
        "sent_text = sent_tokenize(content_text)\n",
        "# 입력 코퍼스에 대해서 NLTK를 이용하여 문장 토큰화를 수행.\n",
        "\n",
        "normalized_text = []\n",
        "for string in sent_text:\n",
        "     tokens = re.sub(r\"[^a-z0-9]+\", \" \", string.lower())\n",
        "     normalized_text.append(tokens)\n",
        "# 각 문장에 대해서 구두점을 제거하고, 대문자를 소문자로 변환.\n",
        "\n",
        "result = []\n",
        "result = [word_tokenize(sentence) for sentence in normalized_text]\n",
        "# 각 문장에 대해서 NLTK를 이용하여 단어 토큰화를 수행."
      ],
      "execution_count": 0,
      "outputs": []
    },
    {
      "cell_type": "code",
      "metadata": {
        "id": "l-H1KXBhiytS",
        "colab_type": "code",
        "outputId": "3b559489-2b38-4f71-84db-492146031151",
        "colab": {
          "base_uri": "https://localhost:8080/",
          "height": 35
        }
      },
      "source": [
        "print('총 샘플의 개수 : {}'.format(len(result)))"
      ],
      "execution_count": 0,
      "outputs": [
        {
          "output_type": "stream",
          "text": [
            "총 샘플의 개수 : 273424\n"
          ],
          "name": "stdout"
        }
      ]
    },
    {
      "cell_type": "markdown",
      "metadata": {
        "id": "aeEydC79i1Eo",
        "colab_type": "text"
      },
      "source": [
        "총 샘플의 개수는 약 27만 3천개입니다."
      ]
    },
    {
      "cell_type": "code",
      "metadata": {
        "id": "Dbl32nC6i0N0",
        "colab_type": "code",
        "outputId": "02e6e0b9-35b3-4836-84fb-bde61c9acb75",
        "colab": {
          "base_uri": "https://localhost:8080/",
          "height": 91
        }
      },
      "source": [
        "for line in result[:3]: # 샘플 3개만 출력\n",
        "    print(line)"
      ],
      "execution_count": 0,
      "outputs": [
        {
          "output_type": "stream",
          "text": [
            "['here', 'are', 'two', 'reasons', 'companies', 'fail', 'they', 'only', 'do', 'more', 'of', 'the', 'same', 'or', 'they', 'only', 'do', 'what', 's', 'new']\n",
            "['to', 'me', 'the', 'real', 'real', 'solution', 'to', 'quality', 'growth', 'is', 'figuring', 'out', 'the', 'balance', 'between', 'two', 'activities', 'exploration', 'and', 'exploitation']\n",
            "['both', 'are', 'necessary', 'but', 'it', 'can', 'be', 'too', 'much', 'of', 'a', 'good', 'thing']\n"
          ],
          "name": "stdout"
        }
      ]
    },
    {
      "cell_type": "markdown",
      "metadata": {
        "id": "ZNoLmoYGi55q",
        "colab_type": "text"
      },
      "source": [
        "상위 3개 문장만 출력해보았는데 토큰화가 수행되었음을 볼 수 있습니다. 이제 Word2Vec 모델에 텍스트 데이터를 훈련시킵니다."
      ]
    },
    {
      "cell_type": "markdown",
      "metadata": {
        "id": "jo5PT0Xsi8TO",
        "colab_type": "text"
      },
      "source": [
        "3) Word2Vec 훈련시키기"
      ]
    },
    {
      "cell_type": "code",
      "metadata": {
        "id": "C1KzZ-G5i45H",
        "colab_type": "code",
        "colab": {}
      },
      "source": [
        "from gensim.models import Word2Vec\n",
        "model = Word2Vec(sentences=result, size=100, window=5, min_count=5, workers=4, sg=0)"
      ],
      "execution_count": 0,
      "outputs": []
    },
    {
      "cell_type": "markdown",
      "metadata": {
        "id": "0I5LJkqKjAwt",
        "colab_type": "text"
      },
      "source": [
        "여기서 Word2Vec의 하이퍼파라미터값은 다음과 같습니다.\n",
        "size = 워드 벡터의 특징 값. 즉, 임베딩 된 벡터의 차원.\n",
        "window = 컨텍스트 윈도우 크기\n",
        "min_count = 단어 최소 빈도 수 제한 (빈도가 적은 단어들은 학습하지 않는다.)\n",
        "workers = 학습을 위한 프로세스 수\n",
        "sg = 0은 CBOW, 1은 Skip-gram.\n",
        "\n",
        "이제 Word2Vec에 대해서 학습을 진행하였습니다. Word2Vec는 입력한 단어에 대해서 가장 유사한 단어들을 출력하는 model.wv.most_similar을 지원합니다. man과 가장 유사한 단어들은 어떤 단어들일까요?"
      ]
    },
    {
      "cell_type": "code",
      "metadata": {
        "id": "I5aRY1Cri_26",
        "colab_type": "code",
        "outputId": "24e7cac6-9d72-476f-d164-eb004ec89356",
        "colab": {
          "base_uri": "https://localhost:8080/",
          "height": 91
        }
      },
      "source": [
        "model_result = model.wv.most_similar(\"man\")\n",
        "print(model_result)"
      ],
      "execution_count": 0,
      "outputs": [
        {
          "output_type": "stream",
          "text": [
            "[('woman', 0.870580792427063), ('guy', 0.8103960156440735), ('lady', 0.7809352874755859), ('boy', 0.7655205726623535), ('girl', 0.7605165243148804), ('gentleman', 0.7197297811508179), ('soldier', 0.7110472917556763), ('poet', 0.6957777738571167), ('kid', 0.6827079653739929), ('friend', 0.650790810585022)]\n"
          ],
          "name": "stdout"
        },
        {
          "output_type": "stream",
          "text": [
            "/usr/local/lib/python3.6/dist-packages/gensim/matutils.py:737: FutureWarning: Conversion of the second argument of issubdtype from `int` to `np.signedinteger` is deprecated. In future, it will be treated as `np.int64 == np.dtype(int).type`.\n",
            "  if np.issubdtype(vec.dtype, np.int):\n"
          ],
          "name": "stderr"
        }
      ]
    },
    {
      "cell_type": "markdown",
      "metadata": {
        "id": "jSttxMcmjDmP",
        "colab_type": "text"
      },
      "source": [
        "man과 유사한 단어로 woman, guy, boy, lady, girl, gentleman, soldier, kid 등을 출력하는 것을 볼 수 있습니다. 이제 Word2Vec를 통해 단어의 유사도를 계산할 수 있게 되었습니다."
      ]
    },
    {
      "cell_type": "markdown",
      "metadata": {
        "id": "mWylhUJpjLoL",
        "colab_type": "text"
      },
      "source": [
        "4) Word2Vec 모델 저장하고 로드하기\n",
        "\n",
        "공들여 학습한 모델을 언제든 나중에 다시 사용할 수 있도록 컴퓨터 파일로 저장하고 다시 로드해보겠습니다. 이 모델을 가지고 시각화 챕터에서 시각화를 진행할 예정이므로 꼭 저장해주세요."
      ]
    },
    {
      "cell_type": "code",
      "metadata": {
        "id": "XqreYa9_jCvV",
        "colab_type": "code",
        "outputId": "f7776025-7659-48bc-d335-3ce4388bf198",
        "colab": {
          "base_uri": "https://localhost:8080/",
          "height": 73
        }
      },
      "source": [
        "from gensim.models import KeyedVectors\n",
        "model.wv.save_word2vec_format('./eng_w2v') # 모델 저장\n",
        "loaded_model = KeyedVectors.load_word2vec_format(\"eng_w2v\") # 모델 로드"
      ],
      "execution_count": 0,
      "outputs": [
        {
          "output_type": "stream",
          "text": [
            "/usr/local/lib/python3.6/dist-packages/smart_open/smart_open_lib.py:253: UserWarning: This function is deprecated, use smart_open.open instead. See the migration notes for details: https://github.com/RaRe-Technologies/smart_open/blob/master/README.rst#migrating-to-the-new-open-function\n",
            "  'See the migration notes for details: %s' % _MIGRATION_NOTES_URL\n"
          ],
          "name": "stderr"
        }
      ]
    },
    {
      "cell_type": "markdown",
      "metadata": {
        "id": "erPqogB2juad",
        "colab_type": "text"
      },
      "source": [
        "로드한 모델에 대해서 다시 man과 유사한 단어를 출력해보겠습니다."
      ]
    },
    {
      "cell_type": "code",
      "metadata": {
        "id": "BQWjWf0ejV5V",
        "colab_type": "code",
        "outputId": "8ae65cdd-2ef8-4059-e04b-f5a1bb80a846",
        "colab": {
          "base_uri": "https://localhost:8080/",
          "height": 91
        }
      },
      "source": [
        "model_result = loaded_model.most_similar(\"man\")\n",
        "print(model_result)"
      ],
      "execution_count": 0,
      "outputs": [
        {
          "output_type": "stream",
          "text": [
            "[('woman', 0.870580792427063), ('guy', 0.8103960156440735), ('lady', 0.7809352874755859), ('boy', 0.7655205726623535), ('girl', 0.7605165243148804), ('gentleman', 0.7197297811508179), ('soldier', 0.7110472917556763), ('poet', 0.6957777738571167), ('kid', 0.6827079653739929), ('friend', 0.650790810585022)]\n"
          ],
          "name": "stdout"
        },
        {
          "output_type": "stream",
          "text": [
            "/usr/local/lib/python3.6/dist-packages/gensim/matutils.py:737: FutureWarning: Conversion of the second argument of issubdtype from `int` to `np.signedinteger` is deprecated. In future, it will be treated as `np.int64 == np.dtype(int).type`.\n",
            "  if np.issubdtype(vec.dtype, np.int):\n"
          ],
          "name": "stderr"
        }
      ]
    },
    {
      "cell_type": "markdown",
      "metadata": {
        "id": "4flNVX3Tjz1j",
        "colab_type": "text"
      },
      "source": [
        "### 8.4.2 한국어 Word2Vec 만들기\n",
        "\n",
        "이번에는 위키피디아 한국어 덤프 파일을 다운받아서 한국어로 Word2Vec을 직접 진행해보도록 하겠습니다. 영어와 크게 다른 점은 없지만 한국어는 형태소 토큰화를 해야만 좋은 성능을 얻을 수 있습니다. 간단히 말해 형태소 분석기를 사용합니다."
      ]
    },
    {
      "cell_type": "markdown",
      "metadata": {
        "id": "YyNruPxTj33c",
        "colab_type": "text"
      },
      "source": [
        "1) 위키피디아 한국어 덤프 파일 다운로드\n",
        "\n",
        "https://dumps.wikimedia.org/kowiki/latest/\n",
        "\n",
        "![대체 텍스트](https://wikidocs.net/images/page/22660/bz2.PNG)\n",
        "\n",
        "위 링크에는 많은 위키피디아 덤프 파일들이 존재합니다. 그 중에서 사용할 데이터는 kowiki-latest-pages-articles.xml.bz2 파일입니다. 해당 파일은 xml 파일므로, Word2Vec을 원활하게 진행하기 위해 파일 형식을 변환해줄 필요가 있습니다."
      ]
    },
    {
      "cell_type": "markdown",
      "metadata": {
        "id": "camjXOhJkOqt",
        "colab_type": "text"
      },
      "source": [
        "2) 위키피디아 익스트랙터 다운로드\n",
        "\n",
        "해당 파일을 모두 다운로드 받았다면 위키피디아 덤프 파일을 텍스트 형식으로 변환시켜주는 오픈소스인 '위키피디아 익스트랙터'를 사용할 것입니다.\n",
        "\n",
        "'위키피디아 익스트랙터'를 다운로드 받기 위해서는 윈도우의 명령 프롬프트나 MAC과 리눅스의 터미널에서 아래의 git clone 명령어를 통해 다운로드 받을 수 있습니다.\n",
        "\n"
      ]
    },
    {
      "cell_type": "markdown",
      "metadata": {
        "id": "kAgkx9qJzEhc",
        "colab_type": "text"
      },
      "source": [
        "\n",
        "\n",
        "```\n",
        "!git clone \"https://github.com/attardi/wikiextractor.git\"\n",
        "```\n",
        "\n"
      ]
    },
    {
      "cell_type": "markdown",
      "metadata": {
        "id": "_L7iqunKkXXo",
        "colab_type": "text"
      },
      "source": [
        "다른 방법으로는 https://github.com/attardi/wikiextractor 위 링크로 직접 이동하여 zip 파일로 다운로드 하고 압축을 푼 뒤에, 윈도우의 명령 프롬프트나 MAC과 리눅스의 터미널에서 python setup.py install 명령어를 치면 '위키피디아 익스트랙터'가 다운로드 됩니다."
      ]
    },
    {
      "cell_type": "markdown",
      "metadata": {
        "id": "LvVWNLVVkYtc",
        "colab_type": "text"
      },
      "source": [
        "3) 위키피디아 한국어 덤프 파일 변환\n",
        "\n",
        "위키피디아 익스트랙터와 위키피디아 한국어 덤프 파일을 동일한 디렉토리 경로에 두고, 아래 명령어를 실행하면 위키피디아 덤프 파일이 텍스트 파일로 변환됩니다. 컴퓨터마다 다르지만 보통 10분 내외의 시간이 걸립니다."
      ]
    },
    {
      "cell_type": "markdown",
      "metadata": {
        "id": "qzUga4PpzKt8",
        "colab_type": "text"
      },
      "source": [
        "```\n",
        "!wget https://dumps.wikimedia.org/kowiki/latest/kowiki-latest-pages-articles.xml.bz2\n",
        "!python wikiextractor/WikiExtractor.py kowiki-latest-pages-articles.xml.bz2\n",
        "```"
      ]
    },
    {
      "cell_type": "markdown",
      "metadata": {
        "id": "RgGuaub6oweh",
        "colab_type": "text"
      },
      "source": [
        "텍스트 파일로 변환된 위키피디아 한국어 덤프는 총 6개의 디렉토리(2018년 10월 기준)로 구성되어져 있습니다. AA ~ AF의 디렉토리로 각 디렉토리 내에는 wiki_00 ~ wiki_90이라는 파일들이 들어있습니다. 각 파일들을 열어보면 이와 같은 구성이 반복되고 있습니다."
      ]
    },
    {
      "cell_type": "markdown",
      "metadata": {
        "id": "UL90srYPqcxh",
        "colab_type": "text"
      },
      "source": [
        "\n",
        "\n",
        "```\n",
        "<doc id=\"문서 번호\" url=\"실제 위키피디아 문서 주소\" title=\"문서 제목\">\n",
        "내용\n",
        "</doc>\n",
        "```\n",
        "\n"
      ]
    },
    {
      "cell_type": "markdown",
      "metadata": {
        "id": "MbB2HGtXqfia",
        "colab_type": "text"
      },
      "source": [
        "예를 들어서 AA 디렉토리의 wiki_00 파일을 읽어보면, 지미 카터에 대한 내용이 나옵니다.\n",
        "\n",
        "\n",
        "\n",
        "```\n",
        "<doc id=\"5\" url=\"https://ko.wikipedia.org/wiki?curid=5\" title=\"지미 카터\">\n",
        "지미 카터\n",
        "제임스 얼 \"지미\" 카터 주니어(, 1924년 10월 1일 ~ )는 민주당 출신 미국 39번째 대통령(1977년 ~ 1981년)이다.\n",
        "지미 카터는 조지아 주 섬터 카운티 플레인스 마을에서 태어났다. 조지아 공과대학교를 졸업하였다. 그 후 해군에 들어가 전함·원자력·잠수함의 승무원으로 일하였다. 1953년 미국 해군 대\n",
        "위로 예편하였고 이후 땅콩·면화 등을 가꿔 많은 돈을 벌었다.\n",
        "... 이하 중략...\n",
        "</doc>\n",
        "```\n",
        "\n",
        "이제 이 6개 AA ~ AF 디렉토리 안의 wiki00 ~ wiki90 파일들을 하나의 텍스트 파일로 통합하겠습니다. (만약, 더 간단히 하고 싶다면 모든 디렉토리 파일을 통합하지 않고, 하나의 디렉토리 내의 파일들에 대해서만 통합 작업을 진행하고 모델의 입력으로 사용할수도있습니다. 하지만 모델의 성능은 전체 파일에 대해서 진행한 경우보다 좋지 않을 수 있습니다.)\n",
        "\n",
        "작업은 6개의 디렉토리 내 파일들에 대해서 각 하나의 파일로 통합 후, 6개의 파일을 다시 하나로 통합하는 순서로 진행합니다.\n"
      ]
    },
    {
      "cell_type": "markdown",
      "metadata": {
        "id": "5B34PM4Vqlxj",
        "colab_type": "text"
      },
      "source": [
        "4) 훈련 데이터 만들기\n",
        "\n",
        "우선 AA 디렉토리 안의 모든 파일인 wiki00 ~ wiki90에 대해서 wikiAA.txt로 통합해보도록 하겠습니다. 프롬프트에서 아래의 커맨드를 수행합니다. (윈도우 환경 기준)\n",
        "\n",
        "(안되서 밑에 코드로 진행)"
      ]
    },
    {
      "cell_type": "markdown",
      "metadata": {
        "id": "czO7ETyRzuBK",
        "colab_type": "text"
      },
      "source": [
        "\n",
        "\n",
        "```\n",
        "import os\n",
        "wiki_data = open('wiki_data.txt','w')\n",
        "for folder in os.listdir('text'):\n",
        "    for file in os.listdir('text/'+folder):\n",
        "        temp_file = open(f'text/{folder}/{file}')\n",
        "        for line in temp_file:\n",
        "            wiki_data.write(line)\n",
        "```\n",
        "\n"
      ]
    },
    {
      "cell_type": "code",
      "metadata": {
        "id": "vO00HZBKzTsv",
        "colab_type": "code",
        "outputId": "b46534af-5ed3-4948-cd05-fb9cba89965d",
        "colab": {
          "base_uri": "https://localhost:8080/",
          "height": 35
        }
      },
      "source": [
        "!pip install wget\n",
        "import wget"
      ],
      "execution_count": 0,
      "outputs": [
        {
          "output_type": "stream",
          "text": [
            "Requirement already satisfied: wget in /usr/local/lib/python3.6/dist-packages (3.2)\n"
          ],
          "name": "stdout"
        }
      ]
    },
    {
      "cell_type": "code",
      "metadata": {
        "id": "xlkRw9yx0B-O",
        "colab_type": "code",
        "outputId": "18891861-8a8d-4f9c-f306-f84c9541554b",
        "colab": {
          "base_uri": "https://localhost:8080/",
          "height": 35
        }
      },
      "source": [
        "wget.download('https://www.dropbox.com/s/w9szzqqidxi8dgj/wiki_data.txt?dl=1')"
      ],
      "execution_count": 0,
      "outputs": [
        {
          "output_type": "execute_result",
          "data": {
            "text/plain": [
              "'wiki_data (1).txt'"
            ]
          },
          "metadata": {
            "tags": []
          },
          "execution_count": 19
        }
      ]
    },
    {
      "cell_type": "code",
      "metadata": {
        "id": "YNmHQ-i0k7te",
        "colab_type": "code",
        "colab": {}
      },
      "source": [
        "# !copy /content/text/AA/wiki* wikiAA.txt"
      ],
      "execution_count": 0,
      "outputs": []
    },
    {
      "cell_type": "markdown",
      "metadata": {
        "id": "NaJKt-nIqzGg",
        "colab_type": "text"
      },
      "source": [
        "해당 커맨드는 AA디렉토리 안의 wiki로 시작되는 모든 파일을 wikiAA.txt 파일에 전부 복사하라는 의미를 담고있습니다. 결과적으로 wiki00 ~ wiki90파일의 모든 내용은 wikiAA.txt 파일이라는 하나의 파일에 내용이 들어가게 됩니다.\n",
        "\n",
        "각 디렉토리에 대해서도 동일하게 진행합니다.\n"
      ]
    },
    {
      "cell_type": "code",
      "metadata": {
        "id": "XXA-E0GXqx1h",
        "colab_type": "code",
        "colab": {}
      },
      "source": [
        "# !copy /content/text/AB/wiki* wikiAB.txt\n",
        "# !copy /content/text/AC/wiki* wikiAC.txt\n",
        "# !copy /content/text/AD/wiki* wikiAD.txt\n",
        "# !copy /content/text/AE/wiki* wikiAE.txt\n",
        "# !copy /content/text/AF/wiki* wikiAF.txt"
      ],
      "execution_count": 0,
      "outputs": []
    },
    {
      "cell_type": "markdown",
      "metadata": {
        "id": "H1gx6Ug-rBQX",
        "colab_type": "text"
      },
      "source": [
        "이렇게 되면 현재 경로에는 각 디렉토리의 파일들을 하나로 합친 wikiAA.txt 부터 wikiAF.txt라는 6개의 파일이 생깁니다. 그럼 이제 이 파일들에 대해서도 하나의 파일로 합치는 작업을 진행해보도록 하겠습니다."
      ]
    },
    {
      "cell_type": "code",
      "metadata": {
        "id": "lWzDERYurAO9",
        "colab_type": "code",
        "colab": {}
      },
      "source": [
        "# !copy /content/text/wikiA* wiki_data.txt"
      ],
      "execution_count": 0,
      "outputs": []
    },
    {
      "cell_type": "markdown",
      "metadata": {
        "id": "Hw9DvxR9rJ7E",
        "colab_type": "text"
      },
      "source": [
        "이제 모든 텍스트 파일을 하나로 만든 훈련 데이터가 완성되었습니다."
      ]
    },
    {
      "cell_type": "markdown",
      "metadata": {
        "id": "u5V_jefWrLf0",
        "colab_type": "text"
      },
      "source": [
        "5) 훈련 데이터 전처리 하기"
      ]
    },
    {
      "cell_type": "code",
      "metadata": {
        "id": "61YVNNk2rJUB",
        "colab_type": "code",
        "colab": {}
      },
      "source": [
        "f = open('/content/wiki_data.txt', encoding=\"utf8\")\n",
        "# 예를 들어 위도우 바탕화면에서 작업한 저자의 경우\n",
        "# f = open(r'C:\\Users\\USER\\Desktop\\wiki_data.txt', encoding=\"utf8\")"
      ],
      "execution_count": 0,
      "outputs": []
    },
    {
      "cell_type": "markdown",
      "metadata": {
        "id": "nnfp2dkNrSUG",
        "colab_type": "text"
      },
      "source": [
        "우선 파일을 불러왔습니다. 파일이 정상적으로 저장되었는지 5개의 줄만 출력해보겠습니다."
      ]
    },
    {
      "cell_type": "code",
      "metadata": {
        "id": "9asAoENBrRDR",
        "colab_type": "code",
        "outputId": "c0fe8f8c-5e55-4b78-8516-7f951d988854",
        "colab": {
          "base_uri": "https://localhost:8080/",
          "height": 217
        }
      },
      "source": [
        "i=0\n",
        "while True:\n",
        "    line = f.readline()\n",
        "    if line != '\\n':\n",
        "        i=i+1\n",
        "        print(\"%d번째 줄 :\"%i + line)\n",
        "    if i==5:\n",
        "        break \n",
        "f.close()"
      ],
      "execution_count": 0,
      "outputs": [
        {
          "output_type": "stream",
          "text": [
            "1번째 줄 :<doc id=\"50324\" url=\"https://ko.wikipedia.org/wiki?curid=50324\" title=\"고영희 (1849년)\">\n",
            "\n",
            "2번째 줄 :고영희 (1849년)\n",
            "\n",
            "3번째 줄 :고영희(高永喜, 1849년 12월 16일(음력 11월 2일) ~ 1916년 1월 24일)는 대한제국의 정치인으로 일제 강점기의 조선귀족이다. 정미칠적과 경술국적에 포함되었다. 자는 자중(子中), 본관은 제주(濟州), 본적은 경성 북부(北部) 옥동(玉洞) 15통 9호(1914년 당시 주소)이며 고진풍(高鎭豊)의 아들이다.\n",
            "\n",
            "4번째 줄 :1866년 부사용(副司勇)이 되었다. 1876년 강화도 조약 체결 후 김기수가 수신사 대표로 일본에 갔을 때 그를 수행하였다. 그는 이런 기회를 통해 강화도 조약 체결 후 바로 일본의 문물을 접하면서 일찌감치 친일 개화파에 속하게 되었다. 귀국 후 일본의 발전 모습을 알리고, 원산항이 개항되어 통상항이 되자 사무관처리(事務官處理)가 되어 크게 공을 세웠다. 1881년 신사유람단으로 일본에 갔을 때 또 다시 김기수를 수행하였다. 1882년 일본공사 하나부사(花房義質)의 차비역관(差備譯官)이 되었고, 그 뒤 중용되어 인천조계획정(仁川租界劃定)의 사무를 맡았다. 이어서 참의교섭통상사무(參議交涉通商事務)·참의내무부사(參議內務府事)를 역임하였다.\n",
            "\n",
            "5번째 줄 :1884년 갑신정변이 실패하면서 일시 몰락하여 간성·삭녕·고양 등의 군수직을 지낸 뒤 사직하고 일시 한거하다가 다시 복귀하여 1885년 이후 기기국방판(機器局幇辦)을 지냈다. 1894년 갑오경장에 참여하여 내부 참의, 학무아문 참의, 농상아문 협판을 지냈다.\n",
            "\n"
          ],
          "name": "stdout"
        }
      ]
    },
    {
      "cell_type": "markdown",
      "metadata": {
        "id": "UlRuLmUMrVlb",
        "colab_type": "text"
      },
      "source": [
        "정상적으로 출력되는 것을 볼 수 있습니다. 이제 본격적으로 Word2Vec을 위한 학습 데이터를 만들어보겠습니다.\n",
        "\n",
        "(너무 많아서....일부만 읽어봅시다)\n",
        "\n",
        "(다해서 공유드립니당)"
      ]
    },
    {
      "cell_type": "markdown",
      "metadata": {
        "id": "EDLgecZppikn",
        "colab_type": "text"
      },
      "source": [
        "```\n",
        "from konlpy.tag import Okt  \n",
        "okt=Okt()\n",
        "fread = open('/content/wiki_data.txt', encoding=\"utf8\")\n",
        "# 파일을 다시 처음부터 읽음.\n",
        "n=0\n",
        "result = []\n",
        "\n",
        "while True:\n",
        "    if n==100000:break\n",
        "    line = fread.readline() #한 줄씩 읽음.\n",
        "    if not line: break # 모두 읽으면 while문 종료.\n",
        "    n=n+1\n",
        "    if n%5000==0: # 5,000의 배수로 While문이 실행될 때마다 몇 번째 While문 실행인지 출력.\n",
        "        print(\"%d번째 While문.\"%n)\n",
        "    tokenlist = okt.pos(line, stem=True, norm=True) # 단어 토큰화\n",
        "    temp=[]\n",
        "    for word in tokenlist:\n",
        "        if word[1] in [\"Noun\"]: # 명사일 때만\n",
        "            temp.append((word[0])) # 해당 단어를 저장함\n",
        "\n",
        "    if temp: # 만약 이번에 읽은 데이터에 명사가 존재할 경우에만\n",
        "      result.append(temp) # 결과에 저장\n",
        "fread.close()\n",
        "```"
      ]
    },
    {
      "cell_type": "code",
      "metadata": {
        "id": "J9ovPEMYpnCF",
        "colab_type": "code",
        "outputId": "6295d072-02ef-4a0b-82cd-fce27dcfc79b",
        "colab": {
          "base_uri": "https://localhost:8080/",
          "height": 35
        }
      },
      "source": [
        "wget.download('https://www.dropbox.com/s/mprapavqcyfd4cf/wiki2vec.txt?dl=1')"
      ],
      "execution_count": 0,
      "outputs": [
        {
          "output_type": "execute_result",
          "data": {
            "text/plain": [
              "'wiki2vec (1).txt'"
            ]
          },
          "metadata": {
            "tags": []
          },
          "execution_count": 25
        }
      ]
    },
    {
      "cell_type": "code",
      "metadata": {
        "id": "LqBsBuDZpySr",
        "colab_type": "code",
        "colab": {}
      },
      "source": [
        "import pickle\n",
        "result = pickle.load(open('/content/wiki2vec.txt','rb'))"
      ],
      "execution_count": 0,
      "outputs": []
    },
    {
      "cell_type": "markdown",
      "metadata": {
        "id": "uKCMg0X_qzHs",
        "colab_type": "text"
      },
      "source": [
        "```\n",
        "1번째 줄 :<doc id=\"50324\" url=\"https://ko.wikipedia.org/wiki?curid=50324\" title=\"고영희 (1849년)\">\n",
        "\n",
        "2번째 줄 :고영희 (1849년)\n",
        "\n",
        "3번째 줄 :고영희(高永喜, 1849년 12월 16일(음력 11월 2일) ~ 1916년 1월 24일)는 대한제국의 정치인으로 일제 강점기의 조선귀족이다. 정미칠적과 경술국적에 포함되었다. 자는 자중(子中), 본관은 제주(濟州), 본적은 경성 북부(北部) 옥동(玉洞) 15통 9호(1914년 당시 주소)이며 고진풍(高鎭豊)의 아들이다.\n",
        "\n",
        "4번째 줄 :1866년 부사용(副司勇)이 되었다. 1876년 강화도 조약 체결 후 김기수가 수신사 대표로 일본에 갔을 때 그를 수행하였다. 그는 이런 기회를 통해 강화도 조약 체결 후 바로 일본의 문물을 접하면서 일찌감치 친일 개화파에 속하게 되었다. 귀국 후 일본의 발전 모습을 알리고, 원산항이 개항되어 통상항이 되자 사무관처리(事務官處理)가 되어 크게 공을 세웠다. 1881년 신사유람단으로 일본에 갔을 때 또 다시 김기수를 수행하였다. 1882년 일본공사 하나부사(花房義質)의 차비역관(差備譯官)이 되었고, 그 뒤 중용되어 인천조계획정(仁川租界劃定)의 사무를 맡았다. 이어서 참의교섭통상사무(參議交涉通商事務)·참의내무부사(參議內務府事)를 역임하였다.\n",
        "\n",
        "5번째 줄 :1884년 갑신정변이 실패하면서 일시 몰락하여 간성·삭녕·고양 등의 군수직을 지낸 뒤 사직하고 일시 한거하다가 다시 복귀하여 1885년 이후 기기국방판(機器局幇辦)을 지냈다. 1894년 갑오경장에 참여하여 내부 참의, 학무아문 참의, 농상아문 협판을 지냈다.\n",
        "```"
      ]
    },
    {
      "cell_type": "code",
      "metadata": {
        "id": "X53QIawyqS8e",
        "colab_type": "code",
        "outputId": "7a468311-b05b-4b0c-f00a-951257f19cba",
        "colab": {
          "base_uri": "https://localhost:8080/",
          "height": 127
        }
      },
      "source": [
        "for i in range(5):\n",
        "    print(result[i])"
      ],
      "execution_count": 0,
      "outputs": [
        {
          "output_type": "stream",
          "text": [
            "['고영희']\n",
            "['고영희']\n",
            "['고영희', '음력', '대한제국', '정치인', '일제', '강점', '기', '조선귀족', '정미칠적', '경술국적', '포함', '자중', '본관', '제주', '본적', '경성', '북부', '옥동', '통', '호', '당시', '주소', '고진', '의', '아들']\n",
            "['부', '사용', '이', '강화도', '조약', '체결', '후', '김기수', '수신사', '대표', '일본', '때', '그', '수행', '그', '기회', '통해', '강화도', '조약', '체결', '후', '바로', '일본', '문물', '접', '찌', '감치', '친일', '개화파', '속', '귀국', '후', '일본', '발전', '모습', '알리', '원산항', '개항', '통상', '항', '사무관', '처리', '크게', '공', '신사유람단', '일본', '때', '또', '다시', '김기수', '수행', '일본', '공사', '하나', '부사', '의', '차비', '역관', '이', '그', '뒤', '중용', '인천', '계획', '정', '의', '사무', '교섭', '통상', '사무', '내무부', '사', '를', '역임']\n",
            "['갑신정변', '일시', '간성', '삭녕', '고양', '등', '군', '수직', '뒤', '사직', '일시', '다시', '복귀', '이후', '기기', '국방', '판', '갑오경장', '참여', '내부', '학무', '아문', '농상아문', '협판']\n"
          ],
          "name": "stdout"
        }
      ]
    },
    {
      "cell_type": "markdown",
      "metadata": {
        "id": "SRXHAlFbtPWL",
        "colab_type": "text"
      },
      "source": [
        "여기서는 형태소 분석기로 KoNLPy의 Okt를 사용하여 명사만을 추출하여 훈련 데이터를 구성하겠습니다. 위 작업은 시간이 꽤 걸립니다. 훈련 데이터를 모두 만들었다면, 훈련 데이터의 길이를 확인해보겠습니다."
      ]
    },
    {
      "cell_type": "code",
      "metadata": {
        "id": "V8lDvC2qrXOd",
        "colab_type": "code",
        "outputId": "8ed805fc-659c-40b5-f31e-bfc20a7a297e",
        "colab": {
          "base_uri": "https://localhost:8080/",
          "height": 35
        }
      },
      "source": [
        "print('총 샘플의 개수 : {}'.format(len(result)))"
      ],
      "execution_count": 0,
      "outputs": [
        {
          "output_type": "stream",
          "text": [
            "총 샘플의 개수 : 2692525\n"
          ],
          "name": "stdout"
        }
      ]
    },
    {
      "cell_type": "markdown",
      "metadata": {
        "id": "5Qa0LRYAtUC7",
        "colab_type": "text"
      },
      "source": [
        "약 240만여개의 줄(line)이 명사 토큰화가 되어 저장되어 있는 상태입니다. 이제 이를 Word2Vec으로 학습시킵니다."
      ]
    },
    {
      "cell_type": "markdown",
      "metadata": {
        "id": "NgvZIwzgtWGc",
        "colab_type": "text"
      },
      "source": [
        "6) Word2Vec 훈련시키기"
      ]
    },
    {
      "cell_type": "code",
      "metadata": {
        "id": "1blsE2K8tTEV",
        "colab_type": "code",
        "colab": {}
      },
      "source": [
        "from gensim.models import Word2Vec\n",
        "model = Word2Vec(result, size=100, window=5, min_count=5, workers=4, sg=0)"
      ],
      "execution_count": 0,
      "outputs": []
    },
    {
      "cell_type": "markdown",
      "metadata": {
        "id": "2lABguT3tZ1C",
        "colab_type": "text"
      },
      "source": [
        "학습을 다했다면 이제 임의의 입력 단어로부터 유사한 단어들을 구해봅시다."
      ]
    },
    {
      "cell_type": "code",
      "metadata": {
        "id": "8RuqvKYdtZL4",
        "colab_type": "code",
        "outputId": "fef322f8-4419-4e1b-e6a1-9774a68da9a7",
        "colab": {
          "base_uri": "https://localhost:8080/",
          "height": 91
        }
      },
      "source": [
        "model_result1=model.wv.most_similar(\"대한민국\")\n",
        "print(model_result1)"
      ],
      "execution_count": 0,
      "outputs": [
        {
          "output_type": "stream",
          "text": [
            "[('한국', 0.6665642261505127), ('조선민주주의인민공화국', 0.5238730907440186), ('이익선', 0.5167543888092041), ('우리나라', 0.5150511264801025), ('관세청', 0.5022948980331421), ('마달천', 0.4967738687992096), ('김성곤', 0.4882708191871643), ('정보통신부', 0.48787590861320496), ('국내', 0.48515522480010986), ('김정환', 0.4810255169868469)]\n"
          ],
          "name": "stdout"
        },
        {
          "output_type": "stream",
          "text": [
            "/usr/local/lib/python3.6/dist-packages/gensim/matutils.py:737: FutureWarning: Conversion of the second argument of issubdtype from `int` to `np.signedinteger` is deprecated. In future, it will be treated as `np.int64 == np.dtype(int).type`.\n",
            "  if np.issubdtype(vec.dtype, np.int):\n"
          ],
          "name": "stderr"
        }
      ]
    },
    {
      "cell_type": "code",
      "metadata": {
        "id": "oUkHZV_PtcF4",
        "colab_type": "code",
        "outputId": "145fa32b-b494-4e33-d8c9-178f632414d5",
        "colab": {
          "base_uri": "https://localhost:8080/",
          "height": 91
        }
      },
      "source": [
        "model_result2=model.wv.most_similar(\"게임\")\n",
        "print(model_result2)"
      ],
      "execution_count": 0,
      "outputs": [
        {
          "output_type": "stream",
          "text": [
            "[('리듬게임', 0.7526952028274536), ('아케이드', 0.7259476184844971), ('멀티플레이', 0.7007036805152893), ('게이머', 0.6978124380111694), ('롤플레잉', 0.6840250492095947), ('보드게임', 0.6820021867752075), ('닌텐도', 0.6792633533477783), ('플레이어', 0.6791287660598755), ('미니게임', 0.67817223072052), ('게임기', 0.6704295873641968)]\n"
          ],
          "name": "stdout"
        },
        {
          "output_type": "stream",
          "text": [
            "/usr/local/lib/python3.6/dist-packages/gensim/matutils.py:737: FutureWarning: Conversion of the second argument of issubdtype from `int` to `np.signedinteger` is deprecated. In future, it will be treated as `np.int64 == np.dtype(int).type`.\n",
            "  if np.issubdtype(vec.dtype, np.int):\n"
          ],
          "name": "stderr"
        }
      ]
    },
    {
      "cell_type": "code",
      "metadata": {
        "id": "hyqiY4vEtiL1",
        "colab_type": "code",
        "outputId": "76b1c7c9-7e8e-4a19-9bc3-faaee2402f60",
        "colab": {
          "base_uri": "https://localhost:8080/",
          "height": 91
        }
      },
      "source": [
        "model_result3=model.wv.most_similar(\"반도체\")\n",
        "print(model_result3)"
      ],
      "execution_count": 0,
      "outputs": [
        {
          "output_type": "stream",
          "text": [
            "[('집적회로', 0.7772603631019592), ('전자부품', 0.7697145938873291), ('팹리스', 0.7524644732475281), ('태양전지', 0.7480493783950806), ('웨이퍼', 0.7478642463684082), ('트랜지스터', 0.7394347190856934), ('하이닉스', 0.7390322685241699), ('실리콘', 0.7303524017333984), ('마이크론', 0.7114006280899048), ('박막', 0.699568510055542)]\n"
          ],
          "name": "stdout"
        },
        {
          "output_type": "stream",
          "text": [
            "/usr/local/lib/python3.6/dist-packages/gensim/matutils.py:737: FutureWarning: Conversion of the second argument of issubdtype from `int` to `np.signedinteger` is deprecated. In future, it will be treated as `np.int64 == np.dtype(int).type`.\n",
            "  if np.issubdtype(vec.dtype, np.int):\n"
          ],
          "name": "stderr"
        }
      ]
    },
    {
      "cell_type": "code",
      "metadata": {
        "id": "IX8MBwpNtHjl",
        "colab_type": "code",
        "outputId": "74edc908-0494-48b2-9831-0b9220d911d6",
        "colab": {
          "base_uri": "https://localhost:8080/",
          "height": 91
        }
      },
      "source": [
        "model_result4=model.wv.most_similar(\"문재인\",topn=20)\n",
        "print(model_result4)"
      ],
      "execution_count": 0,
      "outputs": [
        {
          "output_type": "stream",
          "text": [
            "[('박근혜', 0.9078432321548462), ('노무현', 0.9071457386016846), ('이명박', 0.9017692804336548), ('김대중', 0.8525968790054321), ('노태우', 0.822659969329834), ('김영삼', 0.7936534285545349), ('청와대', 0.7503615617752075), ('박정희', 0.7282388806343079), ('안철수', 0.7273688912391663), ('참여정부', 0.7205981016159058), ('이회창', 0.7148840427398682), ('홍준표', 0.7139714956283569), ('전두환', 0.7134056091308594), ('이해찬', 0.698532223701477), ('한나라당', 0.6960517168045044), ('안희정', 0.6933297514915466), ('햇볕정책', 0.6865298748016357), ('새누리당', 0.6861968636512756), ('이승만', 0.6848657131195068), ('황교안', 0.6827448606491089)]\n"
          ],
          "name": "stdout"
        },
        {
          "output_type": "stream",
          "text": [
            "/usr/local/lib/python3.6/dist-packages/gensim/matutils.py:737: FutureWarning: Conversion of the second argument of issubdtype from `int` to `np.signedinteger` is deprecated. In future, it will be treated as `np.int64 == np.dtype(int).type`.\n",
            "  if np.issubdtype(vec.dtype, np.int):\n"
          ],
          "name": "stderr"
        }
      ]
    },
    {
      "cell_type": "markdown",
      "metadata": {
        "id": "wmU48AsCtkQ_",
        "colab_type": "text"
      },
      "source": [
        "### 8.4.3 사전 훈련된 Word2Vec 임베딩(Pre-trained Word2Vec embedding) 소개\n",
        "\n",
        "자연어 처리 작업을 할때, 케라스의 Embedding()를 사용하여 갖고 있는 훈련 데이터로부터 처음부터 임베딩 벡터를 훈련시키기도 하지만, 위키피디아 등의 방대한 데이터로 사전에 훈련된 워드 임베딩(pre-trained word embedding vector)를 가지고 와서 해당 벡터들의 값을 원하는 작업에 사용 할 수도 있습니다.\n",
        "\n",
        "예를 들어서 감성 분류 작업을 하는데 훈련 데이터의 양이 부족한 상황이라면, 다른 방대한 데이터를 Word2Vec이나 GloVe 등으로 사전에 학습시켜놓은 임베딩 벡터들을 가지고 와서 모델의 입력으로 사용하는 것이 때로는 더 좋은 성능을 얻을 수 있습니다.\n",
        "\n",
        "여기서는 사전 훈련된 워드 임베딩을 가져와서 간단히 단어들의 유사도를 구해보는 실습을 해보겠습니다. 실제로 모델에 적용해보는 실습은 사전 훈련된 워드 임베딩 챕터에서 진행합니다."
      ]
    },
    {
      "cell_type": "markdown",
      "metadata": {
        "id": "MudbAltUtv_A",
        "colab_type": "text"
      },
      "source": [
        "1) 영어\n",
        "\n",
        "이번에는 구글이 제공하는 사전 훈련된(미리 학습되어져 있는) Word2Vec 모델을 사용하는 방법에 대해서 알아보도록 하겠습니다. 구글은 사전 훈련된 3백만 개의 Word2Vec 단어 벡터들을 제공합니다. 각 임베딩 벡터의 차원은 300입니다. gensim을 통해서 이 모델을 불러오는 건 매우 간단합니다. 이 모델을 다운로드하고 파일 경로를 기재하면 됩니다.\n",
        "\n",
        "모델 다운로드 경로 : https://drive.google.com/file/d/0B7XkCwpI5KDYNlNUTTlSS21pQmM/edit\n",
        "\n",
        "압축 파일의 용량은 약 1.5GB이지만, 파일의 압축을 풀면 약 3.3GB의 파일이 나옵니다."
      ]
    },
    {
      "cell_type": "code",
      "metadata": {
        "id": "ZOfJxzSJv_Ht",
        "colab_type": "code",
        "outputId": "338618f2-fdd4-4e2c-95cd-9abe15a8ba0e",
        "colab": {
          "base_uri": "https://localhost:8080/",
          "height": 35
        }
      },
      "source": [
        "import wget\n",
        "wget.download(\"https://s3.amazonaws.com/dl4j-distribution/GoogleNews-vectors-negative300.bin.gz\")"
      ],
      "execution_count": 0,
      "outputs": [
        {
          "output_type": "execute_result",
          "data": {
            "text/plain": [
              "'GoogleNews-vectors-negative300.bin (2).gz'"
            ]
          },
          "metadata": {
            "tags": []
          },
          "execution_count": 2
        }
      ]
    },
    {
      "cell_type": "code",
      "metadata": {
        "id": "2KuLq6xKtjim",
        "colab_type": "code",
        "outputId": "28c76bed-9ed1-4577-9dd9-e1d4843dffe5",
        "colab": {
          "base_uri": "https://localhost:8080/",
          "height": 73
        }
      },
      "source": [
        "import gensim\n",
        "\n",
        "# 구글의 사전 훈련된 Word2Vec 모델을 로드합니다.\n",
        "model = gensim.models.KeyedVectors.load_word2vec_format('GoogleNews-vectors-negative300.bin.gz', binary=True) "
      ],
      "execution_count": 0,
      "outputs": [
        {
          "output_type": "stream",
          "text": [
            "/usr/local/lib/python3.6/dist-packages/smart_open/smart_open_lib.py:253: UserWarning: This function is deprecated, use smart_open.open instead. See the migration notes for details: https://github.com/RaRe-Technologies/smart_open/blob/master/README.rst#migrating-to-the-new-open-function\n",
            "  'See the migration notes for details: %s' % _MIGRATION_NOTES_URL\n"
          ],
          "name": "stderr"
        }
      ]
    },
    {
      "cell_type": "code",
      "metadata": {
        "id": "6DVDIJbzt09r",
        "colab_type": "code",
        "outputId": "6f09c7e0-cb58-4af6-be2f-25248297fe80",
        "colab": {
          "base_uri": "https://localhost:8080/",
          "height": 35
        }
      },
      "source": [
        "print(model.vectors.shape) # 모델의 크기 확인"
      ],
      "execution_count": 0,
      "outputs": [
        {
          "output_type": "stream",
          "text": [
            "(3000000, 300)\n"
          ],
          "name": "stdout"
        }
      ]
    },
    {
      "cell_type": "code",
      "metadata": {
        "id": "TbPla3NBucT0",
        "colab_type": "code",
        "outputId": "e06f0ea9-b1d7-42cd-994a-f1619b5aebf6",
        "colab": {
          "base_uri": "https://localhost:8080/",
          "height": 109
        }
      },
      "source": [
        "print (model.similarity('this', 'is')) # 두 단어의 유사도 계산하기\n",
        "print (model.similarity('post', 'book'))"
      ],
      "execution_count": 0,
      "outputs": [
        {
          "output_type": "stream",
          "text": [
            "0.40797037\n",
            "0.057204384\n"
          ],
          "name": "stdout"
        },
        {
          "output_type": "stream",
          "text": [
            "/usr/local/lib/python3.6/dist-packages/gensim/matutils.py:737: FutureWarning: Conversion of the second argument of issubdtype from `int` to `np.signedinteger` is deprecated. In future, it will be treated as `np.int64 == np.dtype(int).type`.\n",
            "  if np.issubdtype(vec.dtype, np.int):\n"
          ],
          "name": "stderr"
        }
      ]
    },
    {
      "cell_type": "code",
      "metadata": {
        "id": "c1o0F8u91iNR",
        "colab_type": "code",
        "outputId": "a7fe0a84-bd96-4c3e-ac3c-e70b3671e9d9",
        "colab": {
          "base_uri": "https://localhost:8080/",
          "height": 127
        }
      },
      "source": [
        "model_result=model.wv.most_similar(\"trump\")\n",
        "print(model_result)"
      ],
      "execution_count": 0,
      "outputs": [
        {
          "output_type": "stream",
          "text": [
            "/usr/local/lib/python3.6/dist-packages/ipykernel_launcher.py:1: DeprecationWarning: Call to deprecated `wv` (Attribute will be removed in 4.0.0, use self instead).\n",
            "  \"\"\"Entry point for launching an IPython kernel.\n",
            "/usr/local/lib/python3.6/dist-packages/gensim/matutils.py:737: FutureWarning: Conversion of the second argument of issubdtype from `int` to `np.signedinteger` is deprecated. In future, it will be treated as `np.int64 == np.dtype(int).type`.\n",
            "  if np.issubdtype(vec.dtype, np.int):\n"
          ],
          "name": "stderr"
        },
        {
          "output_type": "stream",
          "text": [
            "[('trumps', 0.7198435068130493), ('trumping', 0.580585241317749), ('supersede', 0.5600422620773315), ('trumped', 0.5497318506240845), ('supercede', 0.5309919118881226), ('prevail', 0.487763375043869), ('outweigh', 0.4785327613353729), ('trample', 0.47142529487609863), ('overshadow', 0.47011539340019226), ('dictate', 0.46754562854766846)]\n"
          ],
          "name": "stdout"
        }
      ]
    },
    {
      "cell_type": "code",
      "metadata": {
        "id": "HO_j-0NSudo6",
        "colab_type": "code",
        "outputId": "aed13064-2d18-4d43-d03d-ed6c93b281ae",
        "colab": {
          "base_uri": "https://localhost:8080/",
          "height": 917
        }
      },
      "source": [
        "print(model['book']) # 단어 'book'의 벡터 출력"
      ],
      "execution_count": 0,
      "outputs": [
        {
          "output_type": "stream",
          "text": [
            "[ 0.11279297 -0.02612305 -0.04492188  0.06982422  0.140625    0.03039551\n",
            " -0.04370117  0.24511719  0.08740234 -0.05053711  0.23144531 -0.07470703\n",
            "  0.21875     0.03466797 -0.14550781  0.05761719  0.00671387 -0.00701904\n",
            "  0.13183594 -0.25390625  0.14355469 -0.140625   -0.03564453 -0.21289062\n",
            " -0.24804688  0.04980469 -0.09082031  0.14453125  0.05712891 -0.10400391\n",
            " -0.19628906 -0.20507812 -0.27539062  0.03063965  0.20117188  0.17382812\n",
            "  0.09130859 -0.10107422  0.22851562 -0.04077148  0.02709961 -0.00106049\n",
            "  0.02709961  0.34179688 -0.13183594 -0.078125    0.02197266 -0.18847656\n",
            " -0.17480469 -0.05566406 -0.20898438  0.04858398 -0.07617188 -0.15625\n",
            " -0.05419922  0.01672363 -0.02722168 -0.11132812 -0.03588867 -0.18359375\n",
            "  0.28710938  0.01757812  0.02185059 -0.05664062 -0.01251221  0.01708984\n",
            " -0.21777344 -0.06787109  0.04711914 -0.00668335  0.08544922 -0.02209473\n",
            "  0.31835938  0.01794434 -0.02246094 -0.03051758 -0.09570312  0.24414062\n",
            "  0.20507812  0.05419922  0.29101562  0.03637695  0.04956055 -0.06689453\n",
            "  0.09277344 -0.10595703 -0.04370117  0.19726562 -0.03015137  0.05615234\n",
            "  0.08544922 -0.09863281 -0.02392578 -0.08691406 -0.22460938 -0.16894531\n",
            "  0.09521484 -0.0612793  -0.03015137 -0.265625   -0.13378906  0.00139618\n",
            "  0.01794434  0.10107422  0.13964844  0.06445312 -0.09765625 -0.11376953\n",
            " -0.24511719 -0.15722656  0.00457764  0.12988281 -0.03540039 -0.08105469\n",
            "  0.18652344  0.03125    -0.09326172 -0.04760742  0.23730469  0.11083984\n",
            "  0.08691406  0.01916504  0.21386719 -0.0065918  -0.08984375 -0.02502441\n",
            " -0.09863281 -0.05639648 -0.26757812  0.19335938 -0.08886719 -0.25976562\n",
            "  0.05957031 -0.10742188  0.09863281  0.1484375   0.04101562  0.00340271\n",
            " -0.06591797 -0.02941895  0.20019531 -0.00521851  0.02355957 -0.13671875\n",
            " -0.12597656 -0.10791016  0.0067749   0.15917969  0.0145874  -0.15136719\n",
            "  0.07519531 -0.02905273  0.01843262  0.20800781  0.25195312 -0.11523438\n",
            " -0.23535156  0.04101562 -0.11035156  0.02905273  0.22460938 -0.04272461\n",
            "  0.09667969  0.11865234  0.08007812  0.07958984  0.3125     -0.14941406\n",
            " -0.234375    0.06079102  0.06982422 -0.14355469 -0.05834961 -0.36914062\n",
            " -0.10595703  0.00738525  0.24023438 -0.10400391 -0.02124023  0.05712891\n",
            " -0.11621094 -0.16894531 -0.06396484 -0.12060547  0.08105469 -0.13769531\n",
            " -0.08447266  0.12792969 -0.15429688  0.17871094  0.2421875  -0.06884766\n",
            "  0.03320312  0.04394531 -0.04589844  0.03686523 -0.07421875 -0.01635742\n",
            " -0.24121094 -0.08203125 -0.01733398  0.0291748   0.10742188  0.11279297\n",
            "  0.12890625  0.01416016 -0.28710938  0.16503906 -0.25585938  0.2109375\n",
            " -0.19238281  0.22363281  0.04541016  0.00872803  0.11376953  0.375\n",
            "  0.09765625  0.06201172  0.12109375 -0.24316406  0.203125    0.12158203\n",
            "  0.08642578  0.01782227  0.17382812  0.01855469  0.03613281 -0.02124023\n",
            " -0.02905273 -0.04541016  0.1796875   0.06494141 -0.13378906 -0.09228516\n",
            "  0.02172852  0.02099609  0.07226562  0.3046875  -0.27539062 -0.30078125\n",
            "  0.08691406 -0.22949219  0.0546875  -0.34179688 -0.00680542 -0.0291748\n",
            " -0.03222656  0.16210938  0.01141357  0.23339844 -0.0859375  -0.06494141\n",
            "  0.15039062  0.17675781  0.08251953 -0.26757812 -0.11669922  0.01330566\n",
            "  0.01818848  0.10009766 -0.09570312  0.109375   -0.16992188 -0.23046875\n",
            " -0.22070312  0.0625      0.03662109 -0.125       0.05151367 -0.18847656\n",
            "  0.22949219  0.26367188 -0.09814453  0.06176758  0.11669922  0.23046875\n",
            "  0.32617188  0.02038574 -0.03735352 -0.12255859  0.296875   -0.25\n",
            " -0.08544922 -0.03149414  0.38085938  0.02929688 -0.265625    0.42382812\n",
            " -0.1484375   0.14355469 -0.03125     0.00717163 -0.16601562 -0.15820312\n",
            "  0.03637695 -0.16796875 -0.01483154  0.09667969 -0.05761719 -0.00515747]\n"
          ],
          "name": "stdout"
        }
      ]
    },
    {
      "cell_type": "markdown",
      "metadata": {
        "id": "jVG7O1QAuhHo",
        "colab_type": "text"
      },
      "source": [
        "2) 한국어\n",
        "\n",
        "한국어의 미리 학습된 Word2Vec 모델은 박규병님의 깃허브 주소인 https://github.com/Kyubyong/wordvectors 에 공개되어져 있습니다. 박규병님이 공개한 직접적인 다운로드 링크는 아래와 같습니다.\n",
        "\n",
        "모델 다운로드 경로 : https://drive.google.com/file/d/0B0ZXk88koS2KbDhXdWg1Q2RydlU/view\n",
        "\n",
        "위의 링크로부터 77MB 크기의 ko.zip 파일을 다운로드 받아서 압축을 풀면 ko.bin이라는 50MB 크기의 파일이 있습니다. 이 파일을 로드하고 유사도를 계산해보도록 하겠습니다."
      ]
    },
    {
      "cell_type": "code",
      "metadata": {
        "id": "oewWvMa7wLQE",
        "colab_type": "code",
        "outputId": "534522a6-fb4e-4733-b4b2-49d87ac3e32d",
        "colab": {
          "base_uri": "https://localhost:8080/",
          "height": 35
        }
      },
      "source": [
        "wget.download('https://www.dropbox.com/s/rx1r713xnnn441a/ko.bin?dl=1')"
      ],
      "execution_count": 0,
      "outputs": [
        {
          "output_type": "execute_result",
          "data": {
            "text/plain": [
              "'ko.bin'"
            ]
          },
          "metadata": {
            "tags": []
          },
          "execution_count": 10
        }
      ]
    },
    {
      "cell_type": "code",
      "metadata": {
        "id": "Xyk02YbIue_s",
        "colab_type": "code",
        "outputId": "7f227d5b-293e-447e-82ab-19123534e86a",
        "colab": {
          "base_uri": "https://localhost:8080/",
          "height": 73
        }
      },
      "source": [
        "import gensim\n",
        "model = gensim.models.Word2Vec.load('/content/ko.bin')"
      ],
      "execution_count": 0,
      "outputs": [
        {
          "output_type": "stream",
          "text": [
            "/usr/local/lib/python3.6/dist-packages/smart_open/smart_open_lib.py:253: UserWarning: This function is deprecated, use smart_open.open instead. See the migration notes for details: https://github.com/RaRe-Technologies/smart_open/blob/master/README.rst#migrating-to-the-new-open-function\n",
            "  'See the migration notes for details: %s' % _MIGRATION_NOTES_URL\n"
          ],
          "name": "stderr"
        }
      ]
    },
    {
      "cell_type": "code",
      "metadata": {
        "id": "WWjMDNcNulc_",
        "colab_type": "code",
        "outputId": "80a14e8e-b0b0-49b4-b177-3a4bdcb60c80",
        "colab": {
          "base_uri": "https://localhost:8080/",
          "height": 91
        }
      },
      "source": [
        "result=model.wv.most_similar(\"강아지\")\n",
        "print(result)"
      ],
      "execution_count": 0,
      "outputs": [
        {
          "output_type": "stream",
          "text": [
            "[('고양이', 0.7290452718734741), ('거위', 0.7185635566711426), ('토끼', 0.7056223154067993), ('멧돼지', 0.6950401067733765), ('엄마', 0.6934334635734558), ('난쟁이', 0.6806551218032837), ('한마리', 0.6770296096801758), ('아가씨', 0.6750352382659912), ('아빠', 0.6729634404182434), ('목걸이', 0.6512460708618164)]\n"
          ],
          "name": "stdout"
        },
        {
          "output_type": "stream",
          "text": [
            "/usr/local/lib/python3.6/dist-packages/gensim/matutils.py:737: FutureWarning: Conversion of the second argument of issubdtype from `int` to `np.signedinteger` is deprecated. In future, it will be treated as `np.int64 == np.dtype(int).type`.\n",
            "  if np.issubdtype(vec.dtype, np.int):\n"
          ],
          "name": "stderr"
        }
      ]
    },
    {
      "cell_type": "markdown",
      "metadata": {
        "id": "2WzqA_8Lundk",
        "colab_type": "text"
      },
      "source": [
        "참고 : Word2vec 모델은 자연어 처리에서 단어를 밀집 벡터로 만들어주는 단어 임베딩 방법론이지만 최근에 들어서는 자연어 처리를 넘어서 추천 시스템에도 사용되고 있는 모델입니다. 우선 적당하게 데이터를 나열해주면 Word2vec은 위치가 근접한 데이터를 유사도가 높은 벡터를 만들어준다는 점에서 착안된 아이디어입니다.\n",
        "\n",
        "링크 : https://brunch.co.kr/@goodvc78/16?fbclid=IwAR1QZZAeZe_tNWxnxVCRwl8PIouBPAaqSIJ1lBxJ-EKtfDfmLehi1MUV_Lk\n",
        "\n",
        "위 링크에서 그림 10번을 보면 쉽게 이해할 수 있습니다."
      ]
    },
    {
      "cell_type": "markdown",
      "metadata": {
        "id": "hdPZCqxIuu1W",
        "colab_type": "text"
      },
      "source": [
        "## 8.5 임베딩 벡터의 시각화(Embedding Visualization)\n",
        "\n",
        "구글은 임베딩 프로젝터(embedding projector)라는 데이터 시각화 도구를 지원합니다. 이번 챕터에서는 임베딩 프로젝터를 사용하여 학습한 임베딩 벡터들을 시각화해보겠습니다.\n",
        "\n",
        "임베딩 프로젝터 논문 : https://arxiv.org/pdf/1611.05469v1.pdf"
      ]
    },
    {
      "cell_type": "markdown",
      "metadata": {
        "id": "C3WAgvYsu1NX",
        "colab_type": "text"
      },
      "source": [
        "### 8.5.1 워드 임베딩 모델로부터 2개의 tsv 파일 생성하기\n",
        "\n",
        "이번 실습에서는 학습한 임베딩 벡터들을 시각화해보겠습니다. 꼭 Word2Vec 등으로 학습해야하는 방법이 정해져있지는 없고, GloVe 등 다른 방법으로 훈련되어있어도 상관없습니다. 시각화를 위해서는 이미 모델을 학습하고, 파일로 저장되어져 있어야 합니다. 모델이 저장되어져 있다면 아래 커맨드를 통해 시각화에 필요한 파일들을 생성할 수 있습니다.\n",
        "\n",
        "\n",
        "\n",
        "```\n",
        "!python -m gensim.scripts.word2vec2tensor --input 모델이름 --output 모델이름\n",
        "```\n",
        "\n",
        "여기서는 편의를 위해 이전 챕터에서 학습하고 저장하는 실습까지 진행했던 영어 Word2Vec 모델인 'eng_w2v'를 재사용합니다. eng_w2v라는 Word2Vec 모델이 이미 존재한다는 가정 하에 주피터 노트북에서 아래 커맨드를 수행합니다.\n",
        "\n",
        "```\n",
        "!python -m gensim.scripts.word2vec2tensor --input eng_w2v --output eng_w2v\n",
        "```\n",
        "\n",
        "커맨드를 수행하면 주피터 노트북이 시작되는 경로에 기존에 있던 eng_w2v 외에도 두 개의 파일이 생깁니다.\n",
        "\n",
        "![대체 텍스트](https://wikidocs.net/images/page/50704/eng_w2v.PNG)\n",
        "\n",
        "새로 생긴 eng_w2v_metadata.tsv와 eng_w2v_tensor.tsv 이 두 개 파일이 임베딩 벡터 시각화를 위해 사용할 파일입니다. 만약 eng_w2v 모델 파일이 아니라 다른 모델 파일 이름으로 실습을 진행하고 있다면, '모델 이름_metadata.tsv'와 '모델 이름_tensor.tsv'라는 파일이 생성된다고 이해하면 되겠습니다."
      ]
    },
    {
      "cell_type": "markdown",
      "metadata": {
        "id": "jJJVS9vtvLEp",
        "colab_type": "text"
      },
      "source": [
        "### 8.5.2 임베딩 프로젝터를 사용하여 시각화하기\n",
        "\n",
        "이제 구글의 임베딩 프로젝터를 사용해서 워드 임베딩 모델을 시각화해보겠습니다. 아래의 링크에 접속합니다.\n",
        "\n",
        "링크 : https://projector.tensorflow.org/\n",
        "\n",
        "사이트에 접속해서 좌측 상단을 보면 Load라는 버튼이 있습니다.\n",
        "\n",
        "![대체 텍스트](https://wikidocs.net/images/page/50704/embedding_projector.PNG)\n",
        "\n",
        "Load라는 버튼을 누르면 아래와 같은 창이 뜨는데 총 두 개의 Choose file 버튼이 있습니다.\n",
        "\n",
        "![대체 텍스트](https://wikidocs.net/images/page/50704/embedding_projector2.PNG)\n",
        "\n",
        "위에 있는 Choose file 버튼을 누르고 eng_w2v_tensor.tsv 파일을 업로드하고, 아래에 있는 Choose file 버튼을 누르고 eng_w2v_metadata.tsv 파일을 업로드합니다. 두 파일을 업로드하면 임베딩 프로젝터에 학습했던 워드 임베딩 모델이 시각화됩니다.\n",
        "\n",
        "![대체 텍스트](https://wikidocs.net/images/page/50704/man.PNG)\n",
        "\n",
        "그 후에는 임베딩 프로젝터의 다양한 기능을 사용할 수 있습니다. 예를 들어 임베딩 프로젝터는 복잡한 데이터를 차원을 축소하여 시각화 할 수 있도록 도와주는 PCA, t-SNE 등을 제공합니다. 여기서는 자세한 기능에 대한 설명은 생략하겠습니다. 위의 그림은 'man' 이라는 단어를 선택하고, 코사인 유사도를 기준으로 가장 유사한 상위 10개 벡터들을 표시해봤습니다."
      ]
    },
    {
      "cell_type": "markdown",
      "metadata": {
        "id": "_ioKg9rJvpTm",
        "colab_type": "text"
      },
      "source": [
        "## 8.6 글로브(GloVe)\n",
        "\n",
        "글로브(Global Vectors for Word Representation, GloVe)는 카운트 기반과 예측 기반을 모두 사용하는 방법론으로 2014년에 미국 스탠포드대학에서 개발한 단어 임베딩 방법론입니다. 앞서 학습하였던 기존의 카운트 기반의 LSA(Latent Semantic Analysis)와 예측 기반의 Word2Vec의 단점을 지적하며 이를 보완한다는 목적으로 나왔고, 실제로도 Word2Vec만큼 뛰어난 성능을 보여줍니다. 현재까지의 연구에 따르면 단정적으로 Word2Vec와 GloVe 중에서 어떤 것이 더 뛰어나다고 말할 수는 없고, 이 두 가지 전부를 사용해보고 성능이 더 좋은 것을 사용하는 것이 바람직합니다."
      ]
    },
    {
      "cell_type": "markdown",
      "metadata": {
        "id": "_pK-LuNwvt5F",
        "colab_type": "text"
      },
      "source": [
        "### 8.6.1 기존 방법론에 대한 비판\n",
        "\n",
        "LSA는 각 단어의 빈도수를 카운트 한 행렬이라는 전체적인 통계 정보를 입력으로 받아 차원을 축소(Truncated SVD)하여 잠재된 의미를 끌어내는 방법론입니다. 반면, Word2Vec는 실제값과 예측값에 대한 오차를 손실 함수를 통해 줄여나가며 학습하는 예측 기반의 방법론이었습니다. 서로 다른 방법을 사용하는 이 두 방법론은 각각 장, 단점이 있습니다.\n",
        "\n",
        "LSA는 카운트 기반으로 코퍼스의 전체적인 통계 정보를 고려하기는 하지만, 왕:남자 = 여왕:? (정답은 여자)와 같은 단어 의미의 유추 작업(Analogy task)에는 성능이 떨어집니다. Word2Vec는 예측 기반으로 단어 간 유추 작업에는 LSA보다 뛰어나지만, 임베딩 벡터가 윈도우 크기 내에서만 주변 단어를 고려하기 때문에 코퍼스의 전체적인 통계 정보를 반영하지 못합니다. GloVe는 이러한 기존 방법론들의 각각의 한계를 지적하며, LSA의 메커니즘이었던 카운트 기반의 방법과 Word2Vec의 메커니즘이었던 예측 기반의 방법론 두 가지를 모두 사용합니다."
      ]
    },
    {
      "cell_type": "markdown",
      "metadata": {
        "id": "6e9v3-NYvxrS",
        "colab_type": "text"
      },
      "source": [
        "### 8.6.2 윈도우 기반 동시 등장 행렬(Window based Co-occurrence Matrix)\n",
        "\n",
        "단어의 동시 등장 행렬은 행과 열을 전체 단어 집합의 단어들로 구성하고, i 단어의 윈도우 크기(Window Size) 내에서 k 단어가 등장한 횟수를 i행 k열에 기재한 행렬을 말합니다. 예제를 보면 어렵지 않습니다. 아래와 같은 텍스트가 있다고 해봅시다.\n",
        "\n",
        "Ex)\n",
        "I like deep learning\n",
        "I like NLP\n",
        "I enjoy flying\n",
        "\n",
        "윈도우 크기가 N일 때는 좌, 우에 존재하는 N개의 단어만 참고하게 됩니다. 윈도우 크기가 1일 때, 위의 텍스트를 가지고 구성한 동시 등장 행렬은 다음과 같습니다.\n",
        "\n",
        "|카운트|I|like|enjoy|deep|learning|NLP|flying|\n",
        "|---|---|---|---|---|---|---|---|\n",
        "|I|0|2|1|0|0|0|0|\n",
        "|like|2|0|0|1|0|1|0|\n",
        "|enjoy|1|0|0|0|0|0|1|\n",
        "|deep|0|1|0|0|1|0|0|\n",
        "|learning|0|0|0|1|0|0|0|\n",
        "|NLP|0|1|0|0|0|0|0|\n",
        "|flying|0|0|1|0|0|0|0|\n",
        "\n",
        "위 행렬은 행렬을 전치(Transpose)해도 동일한 행렬이 된다는 특징이 있습니다. 그 이유는 i 단어의 윈도우 크기 내에서 k 단어가 등장한 빈도는 반대로 k 단어의 윈도우 크기 내에서 i 단어가 등장한 빈도와 동일하기 때문입니다.\n",
        "\n",
        "위의 테이블은 스탠포드 대학교의 자연어 처리 강의를 참고하였습니다.\n",
        "링크 : http://web.stanford.edu/class/cs224n/slides/cs224n-2019-lecture02-wordvecs2.pdf"
      ]
    },
    {
      "cell_type": "markdown",
      "metadata": {
        "id": "TLS8A3Yk0h9e",
        "colab_type": "text"
      },
      "source": [
        "### 8.6.3 동시 등장 확률(Co-occurrence Probability)\n",
        "\n",
        "이제 동시 등장 행렬에 대해서 이해했으니, 동시 등장 확률에 대해서 이해해봅시다. 아래의 표는 어떤 동시 등장 행렬을 가지고 정리한 동시 등장 확률(Co-occurrence Probability)을 보여줍니다. 그렇다면, 동시 등장 확률이란 무엇일까요?\n",
        "\n",
        "동시 등장 확률 P(k | i)는 동시 등장 행렬로부터 특정 단어 i의 전체 등장 횟수를 카운트하고, 특정 단어 i가 등장했을 때 어떤 단어 k가 등장한 횟수를 카운트하여 계산한 조건부 확률입니다.\n",
        "\n",
        "P(k | i)에서 i를 중심 단어(Center Word), k를 주변 단어(Context Word)라고 했을 때, 위에서 배운 동시 등장 행렬에서 중심 단어 i의 행의 모든 값을 더한 값을 분모로 하고 i행 k열의 값을 분자로 한 값이라고 볼 수 있겠습니다. 다음은 GloVe의 제안 논문에서 가져온 동시 등장 확률을 표로 정리한 하나의 예입니다.\n",
        "\n",
        "|동시 등장 확률과 크기 관계 비(ratio)|k=solid|k=gas|k=water|k=fashion|\n",
        "|---|---|---|---|---|\n",
        "|P(k l ice)|0.00019|0.000066|0.003|0.000017|\n",
        "|P(k l scream)|0.000022|0.00078|0.0022|0.000018|\n",
        "|P(k l ice) / P(k l steam)|8.9|0.085|1.36|0.96|\n",
        "\n",
        "위의 표를 통해 알 수 있는 사실은 solid가 등장했을 때 ice가 등장할 확률 0.00019은 solid가 등장했을 때 steam이 등장할 확률인 0.000022보다 약 8.9배 크다는 겁니다. 그도 그럴 것이 solid는 '단단한'이라는 의미를 가졌으니까 '증기'라는 의미를 가지는 steam보다는 당연히 '얼음'이라는 의미를 가지는 ice라는 단어와 더 자주 등장할 겁니다.\n",
        "\n",
        "수식적으로 다시 정리하여 언급하면 k가 solid일 때, P(solid l ice) / P(solid l steam)를 계산한 값은 8.9가 나옵니다. 이 값은 1보다는 매우 큰 값입니다. 왜냐면 P(solid | ice)의 값은 크고, P(solid | steam)의 값은 작기 때문입니다.\n",
        "\n",
        "그런데 k를 solid가 아니라 gas로 바꾸면 얘기는 완전히 달라집니다. gas는 ice보다는 steam과 더 자주 등장하므로, P(gas l ice) / P(gas l steam)를 계산한 값은 1보다 훨씬 작은 값인 0.085가 나옵니다. 반면, k가 water인 경우에는 solid와 steam 두 단어 모두와 동시 등장하는 경우가 많으므로 1에 가까운 값이 나오고, k가 fasion인 경우에는 solid와 steam 두 단어 모두와 동시 등장하는 경우가 적으므로 1에 가까운 값이 나옵니다. 보기 쉽도록 조금 단순화해서 표현한 표는 다음과 같습니다.\n",
        "\n",
        "\n",
        "|동시 등장 확률과 크기 관계 비(ratio)|k=solid|k=gas|k=water|k=fashion|\n",
        "|---|---|---|---|---|\n",
        "|P(k l ice)|큰 값|작은 값|큰 값|작은 값|\n",
        "|P(k l scream)|작은 값|큰 값|큰 값|작은 값|\n",
        "|P(k l ice) / P(k l steam)|큰 값|작은 값|1에 가까움|1에 가까움|"
      ]
    },
    {
      "cell_type": "markdown",
      "metadata": {
        "id": "mRIQ4nXW1ler",
        "colab_type": "text"
      },
      "source": [
        "### 8.6.4 손실 함수(Loss function)"
      ]
    },
    {
      "cell_type": "markdown",
      "metadata": {
        "id": "fKqVtQUS1sn5",
        "colab_type": "text"
      },
      "source": [
        "우선 손실 함수를 설명하기 전에 각 용어를 정리해보겠습니다.\n",
        "\n",
        "\n",
        "\n",
        "*   $X$ : 동시 등장 행렬(Co-occurrence Matrix)\n",
        "*   $X_{ij}$ : 중심 단어 i가 등장했을 때 윈도우 내 주변 단어 j가 등장하는 횟수\n",
        "*   $X_{i} : \\sum_j X_{ij}$ : 동시 등장 행렬에서 i행의 값을 모두 더한 값 \n",
        "*   $P_{ik} : P(k\\ |\\ i) = \\frac{X_{ik}}{X_{i}}$ : 중심 단어 i가 등장했을 때 윈도우 내 주변 단어 k가 등장할 확률\n",
        "Ex) P(solid l ice) = 단어 ice가 등장했을 때 단어 solid가 등장할 확률\n",
        "*   $\\frac{P_{ik}}{P_{jk}} : P_{ik}를 P_{jk}$로 나눠준 값    Ex) P(solid l ice) / P(solid l steam) = 8.9\n",
        "*   $w_{i}$ : 중심 단어 i의 임베딩 벡터\n",
        "*  $\\tilde{w_{k}}$ : 주변 단어 k의 임베딩 벡터\n",
        "\n",
        "\n",
        "GloVe의 아이디어를 한 줄로 요약하면 '임베딩 된 중심 단어와 주변 단어 벡터의 내적이 전체 코퍼스에서의 동시 등장 확률이 되도록 만드는 것'입니다. 즉, 이를 만족하도록 임베딩 벡터를 만드는 것이 목표입니다. 이를 식으로 표현하면 다음과 같습니다.\n",
        "\n",
        "$dot\\ product(w_{i}\\ \\tilde{w_{k}}) \\approx\\ P(k\\ |\\ i) = P_{ik}$\n",
        "\n",
        "뒤에서 보게되겠지만, 더 정확히는 GloVe는 아래와 같은 관계를 가지도록 임베딩 벡터를 설계합니다.\n",
        "\n",
        "$dot\\ product(w_{i}\\ \\tilde{w_{k}}) \\approx\\ logP(k\\ |\\ i) = log P_{ik}$\n",
        "\n",
        "임베딩 벡터들을 만들기 위한 손실 함수를 처음부터 차근차근 설계해보겠습니다. 가장 중요한 것은 단어 간의 관계를 잘 표현하는 함수여야 한다는 겁니다. 이를 위해 앞서 배운 개념인 $P_{ik} / P_{jk}$ 를 식에 사용합니다. GloVe의 연구진들은 벡터 $w_{i}, w_{j}, \\tilde{w_{k}}$ 를 가지고 어떤 함수 $F$를 수행하면, $P_{ik}/P_{jk}$가 나온다는 초기 식으로부터 전개를 시작합니다.\n",
        "\n",
        "$F(w_{i},\\ w_{j},\\ \\tilde{w_{k}}) = \\frac{P_{ik}}{P_{jk}}$\n",
        "\n",
        "아직 이 함수 $F$가 어떤 식을 가지고 있는지는 정해진 게 없습니다. 위의 목적에 맞게 근사할 수 있는 함수식은 무수히 많겠으나 최적의 식에 다가가기 위해서 차근, 차근 디테일을 추가해보겠습니다. 함수 F는 두 단어 사이의 동시 등장 확률의 크기 관계 비(ratio) 정보를 벡터 공간에 인코딩하는 것이 목적입니다. 이를 위해 GloVe 연구진들은 $w_i$와 $w_j$라는 두 벡터의 차이를 함수 $F$의 입력으로 사용하는 것을 제안합니다.\n",
        "\n",
        "$F(w_{i} -\\ w_{j},\\ \\tilde{w_{k}}) = \\frac{P_{ik}}{P_{jk}}$\n",
        "\n",
        "그런데 우변은 스칼라값이고 좌변은 벡터값입니다. 이를 성립하기 해주기 위해서 함수 $F$의 두 입력에 내적(Dot product)을 수행합니다.\n",
        "\n",
        "$F((w_{i} -\\ w_{j})^{T} \\tilde{w_{k}}) = \\frac{P_{ik}}{P_{jk}}$\n",
        "\n",
        "그런데 우변은 스칼라값이고 좌변은 벡터값입니다. 이를 성립하기 해주기 위해서 함수 $F$의 두 입력에 내적(Dot product)을 수행합니다.\n",
        "\n",
        "F((w_{i} -\\ w_{j})^{T} \\tilde{w_{k}}) = \\frac{P_{ik}}{P_{jk}}\n",
        "\n",
        "정리하면, 선형 공간(Linear space)에서 단어의 의미 관계를 표현하기 위해 뺄셈과 내적을 택했습니다.\n",
        "\n",
        "여기서 함수 $F$가 만족해야 할 필수 조건이 있습니다. 중심 단어 $w$와 주변 단어 $\\tilde{w}$라는 선택 기준은 실제로는 무작위 선택이므로 이 둘의 관계는 자유롭게 교환될 수 있도록 해야합니다. 이것이 성립되게 하기 위해서 GloVe 연구진은 함수 $F$가 실수의 덥셈과 양수의 곱셈에 대해서 준동형(Homomorphism)을 만족하도록 합니다. 생소한 용어라서 말이 어려워보이는데, 정리하면 $a$와 $b$에 대해서 함수 $F$가 $F(a+b)$가 $F(a)F(b)$와 같도록 만족시켜야 한다는 의미입니다.\n",
        "\n",
        "식으로 나타내면 아래와 같습니다.\n",
        "\n",
        "$F(a+b) = F(a)F(b),\\ \\forall a,\\ b\\in \\mathbb{R}$\n",
        "\n",
        "이제 이 준동형식을 현재 전개하던 GloVe 식에 적용할 수 있도록 조금씩 바꿔볼 겁니다. 전개하던 GloVe 식에 따르면, 함수 $F$는 결과값으로 스칼라 값$(\\frac{P_{ik}}{P_{jk}})$ 이 나와야 합니다. 준동형식에서 $a$와 $b$가 각각 벡터값이라면 함수 $F$의 결과값으로는 스칼라 값이 나올 수 없지만, $a$와 $b$가 각각 사실 두 벡터의 내적값이라고 하면 결과값으로 스칼라 값이 나올 수 있습니다. 그러므로 위의 준동형식을 아래와 같이 바꿔보겠습니다. 여기서 $v_{1},\\ v_{2},\\ v_{3},\\ v_{4}$는 각각 벡터값입니다. 아래의 $V$는 벡터를 의미합니다.\n",
        "\n",
        "$F(v_{1}^{T}v_{2} + v_{3}^{T}v_{4}) = F(v_{1}^{T}v_{2})F(v_{3}^{T}v_{4}),\\ \\forall v_{1},\\ v_{2},\\ v_{3},\\ v_{4}\\in V$\n",
        "\n",
        "그런데 앞서 작성한 GloVe 식에서는 $w_i$와 $w_j$라는 두 벡터의 차이를 함수 $F$의 입력으로 받았습니다. GloVe 식에 바로 적용을 위해 준동형 식을 이를 뺄셈에 대한 준동형식으로 변경합니다. 그렇게 되면 곱셈도 나눗셈으로 바뀝니다.\n",
        "\n",
        "$F(v_{1}^{T}v_{2} - v_{3}^{T}v_{4}) = \\frac{F(v_{1}^{T}v_{2})}{F(v_{3}^{T}v_{4})},\\ \\forall v_{1},\\ v_{2},\\ v_{3},\\ v_{4}\\in V$\n",
        "\n",
        "이제 이 준동형 식을 GloVe 식에 적용해보겠습니다. 우선, 함수 $F$의 우변은 다음과 같이 바뀌어야 합니다.\n",
        "\n",
        "$F((w_{i} -\\ w_{j})^{T} \\tilde{w_{k}}) = \\frac{F(w_{i}^{T}\\tilde{w_{k}})}{F(w_{j}^{T}\\tilde{w_{k}})}$\n",
        "\n",
        "그런데 이전의 식에 따르면 우변은 본래 $\\frac{P_{ik}}{P_{jk}}$였으므로, 결과적으로 다음과 같습니다.\n",
        "\n",
        "$\\frac{P_{ik}}{P_{jk}} = \\frac{F(w_{i}^{T}\\tilde{w_{k}})}{F(w_{j}^{T}\\tilde{w_{k}})}$\n",
        "\n",
        "$F(w_{i}^{T}\\tilde{w_{k}}) = P_{ik} = \\frac{X_{ik}}{X_{i}}$\n",
        "\n",
        "좌변을 풀어쓰면 다음과 같습니다.\n",
        "\n",
        "$F(w_{i}^{T}\\tilde{w_{k}}\\ -\\ w_{j}^{T}\\tilde{w_{k}}) = \\frac{F(w_{i}^{T}\\tilde{w_{k}})}{F(w_{j}^{T}\\tilde{w_{k}})}$\n",
        "\n",
        "이는 뺄셈에 대한 준동형식의 형태와 정확히 일치합니다. 이제 이를 만족하는 함수 $F$를 찾아야 할 때입니다. 그리고 이를 정확하게 만족시키는 함수가 있는데 바로 지수 함수(Exponential function)입니다. $F$를 지수 함수 $exp$라고 해봅시다.\n",
        "\n",
        "$exp(w_{i}^{T}\\tilde{w_{k}}\\ -\\ w_{j}^{T}\\tilde{w_{k}}) = \\frac{exp(w_{i}^{T}\\tilde{w_{k}})}{exp(w_{j}^{T}\\tilde{w_{k}})}$\n",
        "\n",
        "$exp(w_{i}^{T}\\tilde{w_{k}}) = P_{ik} = \\frac{X_{ik}}{X_{i}}$\n",
        "\n",
        "위의 두번째 식으로부터 다음과 같은 식을 얻을 수 있습니다.\n",
        "\n",
        "$w_{i}^{T}\\tilde{w_{k}} = log\\ P_{ik} = log\\ (\\frac{X_{ik}}{X_{i}}) = log\\ X_{ik} - log\\ X_{i}$\n",
        "\n",
        "그런데 여기서 상기해야할 것은 앞서 언급했듯이, 사실 $w_i$와 $\\tilde{w_{k}}$는 두 값의 위치를 서로 바꾸어도 식이 성립해야 합니다. $X_{ik}$의 정의를 생각해보면 $X_{ki}$와도 같습니다. 그런데 이게 성립되려면 위의 식에서 log Xi항이 걸림돌입니다. 이 부분만 없다면 이를 성립시킬 수 있습니다. 그래서 GloVe 연구팀은 이 $log\\ X_{i}$항을 $w_{i}$에 대한 편향 $b_{i}$라는 상수항으로 대체하기로 합니다. 같은 이유로 $\\tilde{w_{k}}$에 대한 편향 $\\tilde{b_{k}}$를 추가합니다.\n",
        "\n",
        "$w_{i}^{T}\\tilde{w_{k}} + b_{i} + \\tilde{b_{k}} = log\\ X_{ik}$\n",
        "\n",
        "이 식이 손실 함수의 핵심이 되는 식입니다. 우변의 값과의 차이를 최소화는 방향으로 좌변의 4개의 항은 학습을 통해 값이 바뀌는 변수들이 됩니다. 즉, 손실 함수는 다음과 같이 일반화될 수 있습니다.\n",
        "\n",
        "$Loss\\ function = \\sum_{m, n=1}^{V}\\ (w_{m}^{T}\\tilde{w_{n}} + b_{m} + \\tilde{b_{n}} - logX_{mn})^{2}$\n",
        "\n",
        "여기서 $V$는 단어 집합의 크기를 의미합니다. 그런데 아직 최적의 손실 함수라기에는 부족합니다. GloVe 연구진은 $log\\ X_{ik}$에서 $X_{ik}$값이 0이 될 수 있음을 지적합니다. 대안 중 하나는 $log\\ X_{ik}$항을 $log\\ (1 + X_{ik})$로 변경하는 것입니다. 하지만 이렇게 해도 여전히 해결되지 않는 문제가 있습니다.\n",
        "\n",
        "바로 동시 등장 행렬 $X$는 마치 DTM처럼 희소 행렬(Sparse Matrix)일 가능성이 다분하다는 점입니다. 동시 등장 행렬 $X$에는 많은 값이 0이거나, 동시 등장 빈도가 적어서 많은 값이 작은 수치를 가지는 경우가 많습니다. 앞서 빈도수를 가지고 가중치를 주는 고민을 하는 TF-IDF나 LSA와 같은 몇 가지 방법들을 본 적이 있습니다. GloVe의 연구진은 동시 등장 행렬에서 동시 등장 빈도의 값 $X_{ik}$이 굉장히 낮은 경우에는 정보에 거의 도움이 되지 않는다고 판단합니다. 그래서 이에 대한 가중치를 주는 고민을 하게 되는데 GloVe 연구팀이 선택한 것은 바로 $X_{ik}$의 값에 영향을 받는 가중치 함수(Weighting function) $f(X_{ik})$를 손실 함수에 도입하는 것입니다.\n",
        "\n",
        "GloVe에 도입되는 $f(X_{ik})$의 그래프를 보겠습니다.\n",
        "\n",
        "![대체 텍스트](https://wikidocs.net/images/page/22885/%EA%B0%80%EC%A4%91%EC%B9%98.PNG)\n",
        "\n",
        "$X_{ik}$의 값이 작으면 상대적으로 함수의 값은 작도록 하고, 값이 크면 함수의 값은 상대적으로 크도록 합니다. 하지만 $X_{ik}$가 지나치게 높다고해서 지나친 가중치를 주지 않기위해서 또한 함수의 최대값이 정해져 있습니다. (최대값은 1) 예를 들어 'It is'와 같은 불용어의 동시 등장 빈도수가 높다고해서 지나친 가중을 받아서는 안 됩니다. 이 함수의 값을 손실 함수에 곱해주면 가중치의 역할을 할 수 있습니다.\n",
        "\n",
        "이 함수 $f(x)$의 식은 다음과 같이 정의됩니다.\n",
        "\n",
        "$f(x) = min(1,\\ (x/x_{max})^{3/4})$\n",
        "\n",
        "최종적으로 다음과 같은 일반화 된 손실 함수를 얻어낼 수 있습니다.\n",
        "\n",
        "$Loss\\ function = \\sum_{m, n=1}^{V}\\ f(X_{mn})(w_{m}^{T}\\tilde{w_{n}} + b_{m} + \\tilde{b_{n}} - logX_{mn})^{2}$\n",
        "\n",
        "이제 GloVe 패키지를 설치 및 실습하고 훈련 결과를 확인해보겠습니다."
      ]
    },
    {
      "cell_type": "markdown",
      "metadata": {
        "id": "CrAOpzKisJA8",
        "colab_type": "text"
      },
      "source": [
        "### 8.6.5 GloVe 훈련시키기"
      ]
    },
    {
      "cell_type": "markdown",
      "metadata": {
        "id": "Pe-tzcOJsNEN",
        "colab_type": "text"
      },
      "source": [
        "실습을 위해 프롬프트에서 아래 커맨드로 GloVe 패키지를 설치합니다.\n",
        "\n",
        "GloVe의 입력이 되는 훈련 데이터는 '영어와 한국어 Word2Vec 학습하기' 챕터에서 사용한 영어 데이터를 재사용합니다. 모든 동일한 전처리를 마치고 이전과 동일하게 result에 결과가 저장되어있다고 가정합니다."
      ]
    },
    {
      "cell_type": "code",
      "metadata": {
        "id": "sHA07uerumVY",
        "colab_type": "code",
        "outputId": "96b290b7-4912-4388-d247-cbbfc50e5dab",
        "colab": {
          "base_uri": "https://localhost:8080/",
          "height": 233
        }
      },
      "source": [
        "pip install glove_python"
      ],
      "execution_count": 0,
      "outputs": [
        {
          "output_type": "stream",
          "text": [
            "Collecting glove_python\n",
            "\u001b[?25l  Downloading https://files.pythonhosted.org/packages/3e/79/7e7e548dd9dcb741935d031117f4bed133276c2a047aadad42f1552d1771/glove_python-0.1.0.tar.gz (263kB)\n",
            "\r\u001b[K     |█▎                              | 10kB 17.3MB/s eta 0:00:01\r\u001b[K     |██▌                             | 20kB 1.8MB/s eta 0:00:01\r\u001b[K     |███▊                            | 30kB 2.6MB/s eta 0:00:01\r\u001b[K     |█████                           | 40kB 3.4MB/s eta 0:00:01\r\u001b[K     |██████▎                         | 51kB 2.2MB/s eta 0:00:01\r\u001b[K     |███████▌                        | 61kB 2.5MB/s eta 0:00:01\r\u001b[K     |████████▊                       | 71kB 2.9MB/s eta 0:00:01\r\u001b[K     |██████████                      | 81kB 3.3MB/s eta 0:00:01\r\u001b[K     |███████████▏                    | 92kB 2.6MB/s eta 0:00:01\r\u001b[K     |████████████▌                   | 102kB 2.8MB/s eta 0:00:01\r\u001b[K     |█████████████▊                  | 112kB 2.8MB/s eta 0:00:01\r\u001b[K     |███████████████                 | 122kB 2.8MB/s eta 0:00:01\r\u001b[K     |████████████████▏               | 133kB 2.8MB/s eta 0:00:01\r\u001b[K     |█████████████████▍              | 143kB 2.8MB/s eta 0:00:01\r\u001b[K     |██████████████████▊             | 153kB 2.8MB/s eta 0:00:01\r\u001b[K     |████████████████████            | 163kB 2.8MB/s eta 0:00:01\r\u001b[K     |█████████████████████▏          | 174kB 2.8MB/s eta 0:00:01\r\u001b[K     |██████████████████████▍         | 184kB 2.8MB/s eta 0:00:01\r\u001b[K     |███████████████████████▋        | 194kB 2.8MB/s eta 0:00:01\r\u001b[K     |█████████████████████████       | 204kB 2.8MB/s eta 0:00:01\r\u001b[K     |██████████████████████████▏     | 215kB 2.8MB/s eta 0:00:01\r\u001b[K     |███████████████████████████▍    | 225kB 2.8MB/s eta 0:00:01\r\u001b[K     |████████████████████████████▋   | 235kB 2.8MB/s eta 0:00:01\r\u001b[K     |█████████████████████████████▉  | 245kB 2.8MB/s eta 0:00:01\r\u001b[K     |███████████████████████████████▏| 256kB 2.8MB/s eta 0:00:01\r\u001b[K     |████████████████████████████████| 266kB 2.8MB/s \n",
            "\u001b[?25hRequirement already satisfied: numpy in /usr/local/lib/python3.6/dist-packages (from glove_python) (1.18.4)\n",
            "Requirement already satisfied: scipy in /usr/local/lib/python3.6/dist-packages (from glove_python) (1.4.1)\n",
            "Building wheels for collected packages: glove-python\n",
            "  Building wheel for glove-python (setup.py) ... \u001b[?25l\u001b[?25hdone\n",
            "  Created wheel for glove-python: filename=glove_python-0.1.0-cp36-cp36m-linux_x86_64.whl size=700245 sha256=f03e9631124079191e1d70b9922738ead50710e909f2161debd88c20577395b9\n",
            "  Stored in directory: /root/.cache/pip/wheels/88/4b/6d/10c0d2ad32c9d9d68beec9694a6f0b6e83ab1662a90a089a4b\n",
            "Successfully built glove-python\n",
            "Installing collected packages: glove-python\n",
            "Successfully installed glove-python-0.1.0\n"
          ],
          "name": "stdout"
        }
      ]
    },
    {
      "cell_type": "code",
      "metadata": {
        "id": "IajzZH4QseGh",
        "colab_type": "code",
        "outputId": "422d5065-b0d7-4ce8-a2c0-d3550d179a5e",
        "colab": {
          "base_uri": "https://localhost:8080/",
          "height": 395
        }
      },
      "source": [
        "from glove import Corpus, Glove\n",
        "\n",
        "corpus = Corpus() \n",
        "corpus.fit(result, window=5)\n",
        "# 훈련 데이터로부터 GloVe에서 사용할 동시 등장 행렬 생성\n",
        "\n",
        "glove = Glove(no_components=100, learning_rate=0.05)\n",
        "glove.fit(corpus.matrix, epochs=20, no_threads=4, verbose=True)\n",
        "glove.add_dictionary(corpus.dictionary)\n",
        "# 학습에 이용할 쓰레드의 개수는 4로 설정, 에포크는 20."
      ],
      "execution_count": 0,
      "outputs": [
        {
          "output_type": "stream",
          "text": [
            "Performing 20 training epochs with 4 threads\n",
            "Epoch 0\n",
            "Epoch 1\n",
            "Epoch 2\n",
            "Epoch 3\n",
            "Epoch 4\n",
            "Epoch 5\n",
            "Epoch 6\n",
            "Epoch 7\n",
            "Epoch 8\n",
            "Epoch 9\n",
            "Epoch 10\n",
            "Epoch 11\n",
            "Epoch 12\n",
            "Epoch 13\n",
            "Epoch 14\n",
            "Epoch 15\n",
            "Epoch 16\n",
            "Epoch 17\n",
            "Epoch 18\n",
            "Epoch 19\n"
          ],
          "name": "stdout"
        }
      ]
    },
    {
      "cell_type": "markdown",
      "metadata": {
        "id": "A9ANAD3ksfta",
        "colab_type": "text"
      },
      "source": [
        "이제 학습이 완료되었습니다. glove.most_similar()는 입력 단어의 가장 유사한 단어들의 리스트를 리턴합니다."
      ]
    },
    {
      "cell_type": "code",
      "metadata": {
        "id": "cJkvBOJUsfP-",
        "colab_type": "code",
        "outputId": "209ab272-e42e-4ec7-fba5-aec94d66413b",
        "colab": {
          "base_uri": "https://localhost:8080/",
          "height": 35
        }
      },
      "source": [
        "model_result1=glove.most_similar(\"man\")\n",
        "print(model_result1)"
      ],
      "execution_count": 0,
      "outputs": [
        {
          "output_type": "stream",
          "text": [
            "[('woman', 0.9629454776959908), ('guy', 0.8811763079214656), ('girl', 0.8540308664114352), ('young', 0.8515396597897965)]\n"
          ],
          "name": "stdout"
        }
      ]
    },
    {
      "cell_type": "code",
      "metadata": {
        "id": "GMVj7o21shgh",
        "colab_type": "code",
        "outputId": "e1baf811-8a02-40f0-ba1a-caa0cb4d4d3f",
        "colab": {
          "base_uri": "https://localhost:8080/",
          "height": 35
        }
      },
      "source": [
        "model_result2=glove.most_similar(\"boy\")\n",
        "print(model_result2)"
      ],
      "execution_count": 0,
      "outputs": [
        {
          "output_type": "stream",
          "text": [
            "[('girl', 0.9468155529548188), ('woman', 0.8498999825659129), ('kid', 0.841426266952346), ('man', 0.823855357536209)]\n"
          ],
          "name": "stdout"
        }
      ]
    },
    {
      "cell_type": "code",
      "metadata": {
        "id": "W9-zTJEpsidG",
        "colab_type": "code",
        "outputId": "b7cd10ea-2e1b-4fd2-e780-dbcfacbde39f",
        "colab": {
          "base_uri": "https://localhost:8080/",
          "height": 35
        }
      },
      "source": [
        "model_result3=glove.most_similar(\"university\")\n",
        "print(model_result3)"
      ],
      "execution_count": 0,
      "outputs": [
        {
          "output_type": "stream",
          "text": [
            "[('harvard', 0.8829632717984627), ('mit', 0.8377451571288185), ('cambridge', 0.8344100707711267), ('stanford', 0.8306041959269022)]\n"
          ],
          "name": "stdout"
        }
      ]
    },
    {
      "cell_type": "code",
      "metadata": {
        "id": "xGkz5ssrsjdA",
        "colab_type": "code",
        "outputId": "78def4e6-90df-4543-a7cb-19cd7b5f0730",
        "colab": {
          "base_uri": "https://localhost:8080/",
          "height": 35
        }
      },
      "source": [
        "model_result4=glove.most_similar(\"water\")\n",
        "print(model_result4)"
      ],
      "execution_count": 0,
      "outputs": [
        {
          "output_type": "stream",
          "text": [
            "[('air', 0.8363194702045516), ('fresh', 0.8324563870373354), ('clean', 0.8258053615442308), ('food', 0.825107765521016)]\n"
          ],
          "name": "stdout"
        }
      ]
    },
    {
      "cell_type": "code",
      "metadata": {
        "id": "WtbkaAg5skZb",
        "colab_type": "code",
        "outputId": "eea52976-4922-4481-8c2e-829bcb2aaa6f",
        "colab": {
          "base_uri": "https://localhost:8080/",
          "height": 35
        }
      },
      "source": [
        "model_result5=glove.most_similar(\"physics\")\n",
        "print(model_result5)"
      ],
      "execution_count": 0,
      "outputs": [
        {
          "output_type": "stream",
          "text": [
            "[('chemistry', 0.8929079380471691), ('economics', 0.8754193219294244), ('beauty', 0.8724470585827797), ('mathematics', 0.8712194624886714)]\n"
          ],
          "name": "stdout"
        }
      ]
    },
    {
      "cell_type": "code",
      "metadata": {
        "id": "A1hiupNCslaL",
        "colab_type": "code",
        "outputId": "184bf7ba-1da9-4d86-98ee-7cb788c452f9",
        "colab": {
          "base_uri": "https://localhost:8080/",
          "height": 35
        }
      },
      "source": [
        "model_result6=glove.most_similar(\"muscle\")\n",
        "print(model_result6)"
      ],
      "execution_count": 0,
      "outputs": [
        {
          "output_type": "stream",
          "text": [
            "[('tissue', 0.8496185635529798), ('nerve', 0.8281092176139146), ('channel', 0.7735373537144379), ('foreign', 0.7726288175430955)]\n"
          ],
          "name": "stdout"
        }
      ]
    },
    {
      "cell_type": "code",
      "metadata": {
        "id": "sz1tndaysmVj",
        "colab_type": "code",
        "outputId": "3e5efd75-2c87-47dd-9b07-700a8051f2bd",
        "colab": {
          "base_uri": "https://localhost:8080/",
          "height": 35
        }
      },
      "source": [
        "model_result7=glove.most_similar(\"clean\")\n",
        "print(model_result7)"
      ],
      "execution_count": 0,
      "outputs": [
        {
          "output_type": "stream",
          "text": [
            "[('fresh', 0.8389978236607665), ('heat', 0.8268865427260307), ('water', 0.8258053615442308), ('warm', 0.7949956682445967)]\n"
          ],
          "name": "stdout"
        }
      ]
    },
    {
      "cell_type": "markdown",
      "metadata": {
        "id": "gsUTb6COsoZT",
        "colab_type": "text"
      },
      "source": [
        "사전 훈련된 GloVe를 사용하는 방법은 다음 챕터에서 다룹니다."
      ]
    },
    {
      "cell_type": "markdown",
      "metadata": {
        "id": "jo6Rxuk_u3aN",
        "colab_type": "text"
      },
      "source": [
        "## 8.7 파이토치(PyTorch)의 nn.Embedding()"
      ]
    },
    {
      "cell_type": "markdown",
      "metadata": {
        "id": "dl084RDJvtR9",
        "colab_type": "text"
      },
      "source": [
        "파이토치에서는 임베딩 벡터를 사용하는 방법이 크게 두 가지가 있습니다. 바로 임베딩 층(embedding layer)을 만들어 훈련 데이터로부터 처음부터 임베딩 벡터를 학습하는 방법과 미리 사전에 훈련된 임베딩 벡터(pre-trained word embedding)들을 가져와 사용하는 방법입니다. 이번 챕터에서는 전자에 해당되는 방법에 대해서 배웁니다. 파이토치에서는 이를 nn.Embedding()를 사용하여 구현합니다.\n",
        "\n",
        "이와 대조되는 방법인 사전에 훈련된 임베딩 벡터(pre-trained word embedding)를 사용하는 방법은 다음 챕터에서 다룹니다."
      ]
    },
    {
      "cell_type": "markdown",
      "metadata": {
        "id": "rDg4tOknvvZ1",
        "colab_type": "text"
      },
      "source": [
        "### 8.7.1 임베딩 층은 룩업 테이블이다.\n",
        "\n",
        "임베딩 층의 입력으로 사용하기 위해서 입력 시퀀스의 각 단어들은 모두 정수 인코딩이 되어있어야 합니다.\n",
        "\n",
        "어떤 단어 → 단어에 부여된 고유한 정수값 → 임베딩 층 통과 → 밀집 벡터\n",
        "\n",
        "임베딩 층은 입력 정수에 대해 밀집 벡터(dense vector)로 맵핑하고 이 밀집 벡터는 인공 신경망의 학습 과정에서 가중치가 학습되는 것과 같은 방식으로 훈련됩니다. 훈련 과정에서 단어는 모델이 풀고자하는 작업에 맞는 값으로 업데이트 됩니다. 그리고 이 밀집 벡터를 임베딩 벡터라고 부릅니다.\n",
        "\n",
        "정수를 밀집 벡터 또는 임베딩 벡터로 맵핑한다는 것은 어떤 의미일까요? 특정 단어와 맵핑되는 정수를 인덱스로 가지는 테이블로부터 임베딩 벡터 값을 가져오는 룩업 테이블이라고 볼 수 있습니다. 그리고 이 테이블은 단어 집합의 크기만큼의 행을 가지므로 모든 단어는 고유한 임베딩 벡터를 가집니다.\n",
        "\n",
        "![대체 텍스트](https://wikidocs.net/images/page/33793/lookup_table.PNG)\n",
        "\n",
        "위의 그림은 단어 great이 정수 인코딩 된 후 테이블로부터 해당 인덱스에 위치한 임베딩 벡터를 꺼내오는 모습을 보여줍니다. 위의 그림에서는 임베딩 벡터의 차원이 4로 설정되어져 있습니다. 그리고 단어 great은 정수 인코딩 과정에서 1,918의 정수로 인코딩이 되었고 그에 따라 단어 집합의 크기만큼의 행을 가지는 테이블에서 인덱스 1,918번에 위치한 행을 단어 great의 임베딩 벡터로 사용합니다. 이 임베딩 벡터는 모델의 입력이 되고, 역전파 과정에서 단어 great의 임베딩 벡터값이 학습됩니다.\n",
        "\n",
        "룩업 테이블의 개념을 이론적으로 우선 접하고, 처음 파이토치를 배울 때 어떤 분들은 임베딩 층의 입력이 원-핫 벡터가 아니어도 동작한다는 점에 헷갈려 합니다. 파이토치는 단어를 정수 인덱스로 바꾸고 원-핫 벡터로 한번 더 바꾸고나서 임베딩 층의 입력으로 사용하는 것이 아니라, 단어를 정수 인덱스로만 바꾼채로 임베딩 층의 입력으로 사용해도 룩업 테이블 된 결과인 임베딩 벡터를 리턴합니다.\n",
        "\n",
        "룩업 테이블 과정을 nn.Embedding()을 사용하지 않고 구현해보면서 이해해보겠습니다.\n",
        "우선 임의의 문장으로부터 단어 집합을 만들고 각 단어에 정수를 부여합니다."
      ]
    },
    {
      "cell_type": "code",
      "metadata": {
        "id": "Xcso2Qkqsncv",
        "colab_type": "code",
        "outputId": "0b72bb3a-8df9-4159-ff7d-0468e1d7895e",
        "colab": {
          "base_uri": "https://localhost:8080/",
          "height": 35
        }
      },
      "source": [
        "train_data = 'you need to know how to code'\n",
        "word_set = set(train_data.split()) # 중복을 제거한 단어들의 집합인 단어 집합 생성.\n",
        "vocab = {word: i+2 for i, word in enumerate(word_set)}  # 단어 집합의 각 단어에 고유한 정수 맵핑.\n",
        "vocab['<unk>'] = 0\n",
        "vocab['<pad>'] = 1\n",
        "print(vocab)"
      ],
      "execution_count": 0,
      "outputs": [
        {
          "output_type": "stream",
          "text": [
            "{'how': 2, 'to': 3, 'code': 4, 'know': 5, 'need': 6, 'you': 7, '<unk>': 0, '<pad>': 1}\n"
          ],
          "name": "stdout"
        }
      ]
    },
    {
      "cell_type": "markdown",
      "metadata": {
        "id": "ZHT3fS5fwZE-",
        "colab_type": "text"
      },
      "source": [
        "이제 단어 집합의 크기를 행으로 가지는 임베딩 테이블을 구현합니다. 단, 여기서 임베딩 벡터의 차원은 3으로 정했습니다."
      ]
    },
    {
      "cell_type": "code",
      "metadata": {
        "id": "RXPHHsOnv5dO",
        "colab_type": "code",
        "colab": {}
      },
      "source": [
        "# 단어 집합의 크기만큼의 행을 가지는 테이블 생성.\n",
        "import torch\n",
        "embedding_table = torch.FloatTensor([\n",
        "                               [ 0.0,  0.0,  0.0],\n",
        "                               [ 0.0,  0.0,  0.0],\n",
        "                               [ 0.2,  0.9,  0.3],\n",
        "                               [ 0.1,  0.5,  0.7],\n",
        "                               [ 0.2,  0.1,  0.8],\n",
        "                               [ 0.4,  0.1,  0.1],\n",
        "                               [ 0.1,  0.8,  0.9],\n",
        "                               [ 0.6,  0.1,  0.1]])"
      ],
      "execution_count": 0,
      "outputs": []
    },
    {
      "cell_type": "markdown",
      "metadata": {
        "id": "X3O8obH9xAwb",
        "colab_type": "text"
      },
      "source": [
        "이제 임의의 문장 'you need to run'에 대해서 룩업 테이블을 통해 임베딩 벡터들을 가져와보겠습니다."
      ]
    },
    {
      "cell_type": "code",
      "metadata": {
        "id": "NzIheOctwa1l",
        "colab_type": "code",
        "outputId": "118b88ff-af63-4bfc-fd1d-c773f2df2d90",
        "colab": {
          "base_uri": "https://localhost:8080/",
          "height": 89
        }
      },
      "source": [
        "# 임의의 샘플 문장\n",
        "sample = 'you need to run'.split()\n",
        "idxes=[]\n",
        "# 각 단어를 정수로 변환\n",
        "for word in sample:\n",
        "  try:\n",
        "    idxes.append(vocab[word])\n",
        "  except KeyError: # 단어 집합에 없는 단어일 경우 <unk>로 대체된다.\n",
        "    idxes.append(vocab['<unk>'])\n",
        "idxes = torch.LongTensor(idxes)\n",
        "\n",
        "# 룩업 테이블\n",
        "lookup_result = embedding_table[idxes, :] # 각 정수를 인덱스로 임베딩 테이블에서 값을 가져온다.\n",
        "print(lookup_result)"
      ],
      "execution_count": 0,
      "outputs": [
        {
          "output_type": "stream",
          "text": [
            "tensor([[0.6000, 0.1000, 0.1000],\n",
            "        [0.1000, 0.8000, 0.9000],\n",
            "        [0.1000, 0.5000, 0.7000],\n",
            "        [0.0000, 0.0000, 0.0000]])\n"
          ],
          "name": "stdout"
        }
      ]
    },
    {
      "cell_type": "markdown",
      "metadata": {
        "id": "lVvpVPmCxDXW",
        "colab_type": "text"
      },
      "source": [
        "### 8.7.2 임베딩 층 사용하기\n",
        "\n",
        "이제 nn.Embedding()으로 사용할 경우를 봅시다. 우선 전처리는 동일한 과정을 거칩니다."
      ]
    },
    {
      "cell_type": "code",
      "metadata": {
        "id": "gvoUHbWBxCfI",
        "colab_type": "code",
        "colab": {}
      },
      "source": [
        "train_data = 'you need to know how to code'\n",
        "word_set = set(train_data.split()) # 중복을 제거한 단어들의 집합인 단어 집합 생성.\n",
        "vocab = {tkn: i+2 for i, tkn in enumerate(word_set)}  # 단어 집합의 각 단어에 고유한 정수 맵핑.\n",
        "vocab['<unk>'] = 0\n",
        "vocab['<pad>'] = 1"
      ],
      "execution_count": 0,
      "outputs": []
    },
    {
      "cell_type": "markdown",
      "metadata": {
        "id": "TADJ5851xNTL",
        "colab_type": "text"
      },
      "source": [
        "이제 nn.Embedding()을 사용하여 학습가능한 임베딩 테이블을 만듭니다."
      ]
    },
    {
      "cell_type": "code",
      "metadata": {
        "id": "rFZq8P2cxL81",
        "colab_type": "code",
        "colab": {}
      },
      "source": [
        "import torch.nn as nn\n",
        "embedding_layer = nn.Embedding(num_embeddings = len(vocab), \n",
        "                               embedding_dim = 3,\n",
        "                               padding_idx = 1)"
      ],
      "execution_count": 0,
      "outputs": []
    },
    {
      "cell_type": "markdown",
      "metadata": {
        "id": "NP2n8ujKxPto",
        "colab_type": "text"
      },
      "source": [
        "nn.Embedding은 크게 두 가지 인자를 받는데 각각 num_embeddings과 embedding_dim입니다.\n",
        "\n",
        "*   num_embeddings : 임베딩을 할 단어들의 개수. 다시 말해 단어 집합의 크기입니다.\n",
        "*   embedding_dim : 임베딩 할 벡터의 차원입니다. 사용자가 정해주는 하이퍼파라미터입니다.\n",
        "*   padding_idx : 선택적으로 사용하는 인자입니다. 패딩을 위한 토큰의 인덱스를 알려줍니다.\n"
      ]
    },
    {
      "cell_type": "code",
      "metadata": {
        "id": "ARVzGfD1xOrw",
        "colab_type": "code",
        "outputId": "cd40b99c-64cf-4db0-cdf3-197f2e4a8f2d",
        "colab": {
          "base_uri": "https://localhost:8080/",
          "height": 179
        }
      },
      "source": [
        "print(embedding_layer.weight)"
      ],
      "execution_count": 0,
      "outputs": [
        {
          "output_type": "stream",
          "text": [
            "Parameter containing:\n",
            "tensor([[-0.1786, -0.5207, -0.0678],\n",
            "        [ 0.0000,  0.0000,  0.0000],\n",
            "        [ 0.9544,  0.7750, -0.2883],\n",
            "        [ 0.6410, -0.3178, -1.8516],\n",
            "        [ 2.8874,  1.8065,  0.7495],\n",
            "        [ 2.6179,  0.2627,  2.3910],\n",
            "        [-1.6480, -0.0181, -0.9542],\n",
            "        [ 1.2147, -1.0540, -0.7667]], requires_grad=True)\n"
          ],
          "name": "stdout"
        }
      ]
    },
    {
      "cell_type": "markdown",
      "metadata": {
        "id": "xNyYuQBXxYOi",
        "colab_type": "text"
      },
      "source": [
        "앞선 예제와 마찬가지로 단어 집합의 크기의 행을 가지는 임베딩 테이블이 생성되었습니다."
      ]
    },
    {
      "cell_type": "markdown",
      "metadata": {
        "id": "3lWrnVH2xa3c",
        "colab_type": "text"
      },
      "source": [
        "## 8.8 사전 훈련된 워드 임베딩(Pretrained Word Embedding)"
      ]
    },
    {
      "cell_type": "markdown",
      "metadata": {
        "id": "_QJZneO9xdyL",
        "colab_type": "text"
      },
      "source": [
        "임베딩 벡터를 얻기 위해서 파이토치의 nn.Embedding()을 사용하기도 하지만, 때로는 이미 훈련되어져 있는 워드 임베딩을 불러서 이를 임베딩 벡터로 사용하기도 합니다. 훈련 데이터가 부족한 상황이라면 모델에 파이토치의 nn.Embedding()을 사용하는 것보다 다른 텍스트 데이터로 사전 훈련되어 있는 임베딩 벡터를 불러오는 것이 나은 선택일 수 있습니다.\n",
        "\n",
        "훈련 데이터가 적다면 파이토치의 nn.Embedding()으로 해당 문제에 충분히 특화된 임베딩 벡터를 만들어내는 것이 쉽지 않습니다. 이 경우, 해당 문제에 특화된 것은 아니지만 보다 일반적이고 보다 많은 훈련 데이터로 이미 Word2Vec이나 GloVe 등으로 학습되어져 있는 임베딩 벡터들을 사용하는 것이 성능의 개선을 가져올 수 있습니다."
      ]
    },
    {
      "cell_type": "markdown",
      "metadata": {
        "id": "xnNUHZdYxfb2",
        "colab_type": "text"
      },
      "source": [
        "### 8.8.1 IMDB 리뷰 데이터를 훈련 데이터로 사용하기"
      ]
    },
    {
      "cell_type": "markdown",
      "metadata": {
        "id": "SBdf4lJExiQ5",
        "colab_type": "text"
      },
      "source": [
        "실습을 위해서는 사전 훈련된 임베딩 벡터들을 맵핑시킬 대상인 훈련 데이터가 필요합니다. 여기서는 토치텍스트에서 제공하는 IMDB 리뷰 데이터를 다운받아 이를 사용하겠습니다."
      ]
    },
    {
      "cell_type": "code",
      "metadata": {
        "id": "cp5EWRF8xWxz",
        "colab_type": "code",
        "colab": {}
      },
      "source": [
        "from torchtext import data, datasets"
      ],
      "execution_count": 0,
      "outputs": []
    },
    {
      "cell_type": "markdown",
      "metadata": {
        "id": "LeGbYVqMxp3Q",
        "colab_type": "text"
      },
      "source": [
        "토치텍스트를 통한 실습을 진행하기 위해 우선 두 개의 Field 객체를 정의합니다."
      ]
    },
    {
      "cell_type": "code",
      "metadata": {
        "id": "4YIFCYJ8xpVq",
        "colab_type": "code",
        "colab": {}
      },
      "source": [
        "TEXT = data.Field(sequential=True, batch_first=True, lower=True)\n",
        "LABEL = data.Field(sequential=False, batch_first=True)"
      ],
      "execution_count": 0,
      "outputs": []
    },
    {
      "cell_type": "markdown",
      "metadata": {
        "id": "l9CwQnYTxssX",
        "colab_type": "text"
      },
      "source": [
        "필드를 정의했다면, 실습을 위해 필요한 데이터를 준비해야 합니다. torchtext.datasets은 IMDB, TREC(질문 분류), 언어 모델링(WikiText-2) 등 다른 여러 데이터셋을 제공합니다. torchtext.datasets을 사용해 IMDB 데이터셋을 다운로드하고, 이 데이터셋을 학습 데이터셋과 테스트 데이터셋으로 나눠보겠습니다."
      ]
    },
    {
      "cell_type": "code",
      "metadata": {
        "id": "ro8Cs_lpxrq_",
        "colab_type": "code",
        "outputId": "c89f27a9-519a-4bc3-b2e9-384233ff9523",
        "colab": {
          "base_uri": "https://localhost:8080/",
          "height": 53
        }
      },
      "source": [
        "trainset, testset = datasets.IMDB.splits(TEXT, LABEL)"
      ],
      "execution_count": 0,
      "outputs": [
        {
          "output_type": "stream",
          "text": [
            "\raclImdb_v1.tar.gz:   0%|          | 0.00/84.1M [00:00<?, ?B/s]"
          ],
          "name": "stderr"
        },
        {
          "output_type": "stream",
          "text": [
            "downloading aclImdb_v1.tar.gz\n"
          ],
          "name": "stdout"
        },
        {
          "output_type": "stream",
          "text": [
            "aclImdb_v1.tar.gz: 100%|██████████| 84.1M/84.1M [00:04<00:00, 16.9MB/s]\n"
          ],
          "name": "stderr"
        }
      ]
    },
    {
      "cell_type": "markdown",
      "metadata": {
        "id": "Jyrun16rxu4d",
        "colab_type": "text"
      },
      "source": [
        "현재 훈련 데이터(trainset)에는 샘플이 몇 개가 있는지 확인해보겠습니다."
      ]
    },
    {
      "cell_type": "code",
      "metadata": {
        "id": "TKo6sDg7xt2f",
        "colab_type": "code",
        "outputId": "9017df88-9ccb-4cb7-9f98-1d5a49938a8b",
        "colab": {
          "base_uri": "https://localhost:8080/",
          "height": 35
        }
      },
      "source": [
        "print('훈련 데이터의 크기 : {}' .format(len(trainset)))"
      ],
      "execution_count": 0,
      "outputs": [
        {
          "output_type": "stream",
          "text": [
            "훈련 데이터의 크기 : 25000\n"
          ],
          "name": "stdout"
        }
      ]
    },
    {
      "cell_type": "markdown",
      "metadata": {
        "id": "QDLS91IixxIB",
        "colab_type": "text"
      },
      "source": [
        "총 25,000개의 샘플이 존재합니다. 그 중 첫번째 샘플을 출력해보겠습니다."
      ]
    },
    {
      "cell_type": "code",
      "metadata": {
        "id": "VbQqCfIzxwfT",
        "colab_type": "code",
        "outputId": "7b4406b3-9113-43fd-e061-abccafa29d5d",
        "colab": {
          "base_uri": "https://localhost:8080/",
          "height": 55
        }
      },
      "source": [
        "print(vars(trainset[0]))"
      ],
      "execution_count": 0,
      "outputs": [
        {
          "output_type": "stream",
          "text": [
            "{'text': ['\"who', 'loves', 'the', 'sun\"', 'works', 'its', 'way', 'through', 'some', 'prickly', 'subject', 'matter', 'with', 'enough', 'wit', 'and', 'grace', 'to', 'keep', 'the', 'story', 'not', 'only', 'engaging,', 'but', 'often', 'hilarious.', \"it's\", 'been', 'a', 'while', 'since', \"i've\", 'found', 'such', 'a', 'thoroughly', 'touching,', 'thoroughly', 'enjoyable', 'film.', '<br', '/><br', '/>the', 'film', 'is', 'gorgeous,', 'drawing', 'the', 'eye', 'with', 'beautiful', 'scenery', 'and', 'tranquil', 'landscapes.', 'the', 'peaceful', 'imagery', 'contrasts', 'wonderfully', 'with', 'the', 'tension', 'between', 'the', 'very', 'human,', 'very', 'flawed,', 'and', 'yet', 'very', 'likable', 'characters.', 'due', 'to', 'the', 'excellent', 'cast', 'all', 'five', 'of', 'the', 'major', 'players', 'are', 'wonderfully', 'interesting', 'and', 'dynamic.', '<br', '/><br', '/>i', 'recommend', '\"who', 'loves', 'the', 'sun.\"', \"it's\", 'a', 'really', 'funny', 'movie', 'that', 'takes', 'a', 'poignant', 'look', 'at', 'the', 'hurts', 'that', 'we', 'can', 'inflict', 'on', 'each', 'other,', 'and', 'the', 'amazingly', 'difficult', 'but', 'equally', 'rewarding', 'process', 'of', 'forgiveness.'], 'label': 'pos'}\n"
          ],
          "name": "stdout"
        }
      ]
    },
    {
      "cell_type": "markdown",
      "metadata": {
        "id": "JtrhUS6UxziG",
        "colab_type": "text"
      },
      "source": [
        "출력 결과가 길어서 지면의 한계로 여기서는 중략했습니다. 이런 샘플이 총 25,000개가 존재하는데 여기있는 단어들을 각각 사전 훈련된 임베딩 벡터들로 맵핑해서 값을 부여해보겠습니다.\n",
        "\n",
        "토치텍스트의 Field 객체의 build_vocab을 통해 사전 훈련된 워드 임베딩을 사용할 수 있습니다. 여기서는 직접 훈련시킨 사전 훈련된 워드 임베딩을 사용하는 방법과 토치텍스트에서 제공하는 사전 훈련된 워드 임베딩을 사용하는 방법 두 가지를 다룹니다."
      ]
    },
    {
      "cell_type": "markdown",
      "metadata": {
        "id": "pc1ouMqpx1QH",
        "colab_type": "text"
      },
      "source": [
        "### 8.8.2 토치텍스트를 사용한 사전 훈련된 워드 임베딩\n",
        "\n",
        "이번에는 토치텍스트를 사용해서 외부에서 가져온 사전 훈련된 워드 임베딩을 사용해봅시다."
      ]
    },
    {
      "cell_type": "markdown",
      "metadata": {
        "id": "4yux_4Vwx5AT",
        "colab_type": "text"
      },
      "source": [
        "1) 사전 훈련된 Word2Vec 모델 확인하기\n",
        "\n",
        "여기서는 앞서 '영어/한국어 Word2Vec 훈련하기 챕터'에서 만들어두었던 'eng_w2v' 모델을 사용합니다. 우선 'eng_w2v' 모델을 로드하여 저자가 임의로 선택한 영어 단어 'this'와 'self-indulgent'의 임베딩 벡터값을 확인해보겠습니다."
      ]
    },
    {
      "cell_type": "code",
      "metadata": {
        "id": "PYq1zxm5xwSP",
        "colab_type": "code",
        "outputId": "1a3224d3-fcc6-443c-98d1-9e92e8066221",
        "colab": {
          "base_uri": "https://localhost:8080/",
          "height": 73
        }
      },
      "source": [
        "from gensim.models import KeyedVectors\n",
        "word2vec_model = KeyedVectors.load_word2vec_format('eng_w2v')"
      ],
      "execution_count": 0,
      "outputs": [
        {
          "output_type": "stream",
          "text": [
            "/usr/local/lib/python3.6/dist-packages/smart_open/smart_open_lib.py:253: UserWarning: This function is deprecated, use smart_open.open instead. See the migration notes for details: https://github.com/RaRe-Technologies/smart_open/blob/master/README.rst#migrating-to-the-new-open-function\n",
            "  'See the migration notes for details: %s' % _MIGRATION_NOTES_URL\n"
          ],
          "name": "stderr"
        }
      ]
    },
    {
      "cell_type": "code",
      "metadata": {
        "id": "yeF0UCN7yIBb",
        "colab_type": "code",
        "outputId": "172331d6-c6a4-401d-e333-594b4681d8f4",
        "colab": {
          "base_uri": "https://localhost:8080/",
          "height": 323
        }
      },
      "source": [
        "print(word2vec_model['this']) # 영어 단어 'this'의 임베딩 벡터값 출력"
      ],
      "execution_count": 0,
      "outputs": [
        {
          "output_type": "stream",
          "text": [
            "[-0.09277881 -1.0684662  -0.9617371  -1.2521578   0.07385583  0.17419109\n",
            "  1.7759012  -1.5023748  -1.5532686  -0.82953507  1.1891056  -1.7400415\n",
            " -0.57300395 -1.6362454  -0.25796664  1.0465689  -0.91498715 -1.5664382\n",
            " -0.26287875  0.70824236  0.36621875 -0.7551629  -0.7772609   0.9395058\n",
            " -0.15252599 -1.2123917  -1.0630585  -1.7203158  -2.3558362  -0.71035475\n",
            "  2.070346   -2.4913995  -0.7958865  -1.7156069  -0.497188    0.28914073\n",
            "  0.2881453   0.5022582   1.8706399  -0.8941623   1.7069905  -2.1914465\n",
            " -0.09763958  0.24146174 -1.6001132  -0.8042857  -0.11260699 -0.8359921\n",
            "  0.31493858  0.95127296  0.20191313  0.7746194   1.660053   -0.28393894\n",
            " -1.6358131  -0.62649745  0.24098279 -0.5844465  -0.50610346  0.48796067\n",
            "  1.788955   -0.33748642  1.6938901   0.34994218 -0.29259458  0.5392385\n",
            " -1.4071912  -0.46444532  0.7922063  -0.05028255  0.65693927 -0.13166086\n",
            "  0.03087788  0.50798607 -0.15872073 -0.4680903  -1.0446734  -0.5067857\n",
            "  1.8631467  -1.5755849  -0.65205276  1.5052865   1.6783874  -0.25169826\n",
            " -0.6527293   2.191582    0.4648366  -1.0221504  -0.8563968  -0.5663044\n",
            " -2.6213892  -0.4994675  -0.5221011  -0.7987902   0.3222231  -0.6812185\n",
            " -0.14877339  1.2841017  -0.8946682   0.96732545]\n"
          ],
          "name": "stdout"
        }
      ]
    },
    {
      "cell_type": "markdown",
      "metadata": {
        "id": "NucY1UPMyMAS",
        "colab_type": "text"
      },
      "source": [
        "영어 단어 'this'의 임베딩 벡터값이 정상적으로 출력됩니다."
      ]
    },
    {
      "cell_type": "code",
      "metadata": {
        "id": "SmsU39ilyKBi",
        "colab_type": "code",
        "outputId": "99ba66d5-8271-4fc4-b00c-e5171d526545",
        "colab": {
          "base_uri": "https://localhost:8080/",
          "height": 320
        }
      },
      "source": [
        "print(word2vec_model['self-indulgent']) # 영어 단어 'self-indulgent'의 임베딩 벡터값 출력"
      ],
      "execution_count": 0,
      "outputs": [
        {
          "output_type": "error",
          "ename": "KeyError",
          "evalue": "ignored",
          "traceback": [
            "\u001b[0;31m---------------------------------------------------------------------------\u001b[0m",
            "\u001b[0;31mKeyError\u001b[0m                                  Traceback (most recent call last)",
            "\u001b[0;32m<ipython-input-44-a0b978553c44>\u001b[0m in \u001b[0;36m<module>\u001b[0;34m()\u001b[0m\n\u001b[0;32m----> 1\u001b[0;31m \u001b[0mprint\u001b[0m\u001b[0;34m(\u001b[0m\u001b[0mword2vec_model\u001b[0m\u001b[0;34m[\u001b[0m\u001b[0;34m'self-indulgent'\u001b[0m\u001b[0;34m]\u001b[0m\u001b[0;34m)\u001b[0m \u001b[0;31m# 영어 단어 'self-indulgent'의 임베딩 벡터값 출력\u001b[0m\u001b[0;34m\u001b[0m\u001b[0;34m\u001b[0m\u001b[0m\n\u001b[0m",
            "\u001b[0;32m/usr/local/lib/python3.6/dist-packages/gensim/models/keyedvectors.py\u001b[0m in \u001b[0;36m__getitem__\u001b[0;34m(self, entities)\u001b[0m\n\u001b[1;32m    335\u001b[0m         \u001b[0;32mif\u001b[0m \u001b[0misinstance\u001b[0m\u001b[0;34m(\u001b[0m\u001b[0mentities\u001b[0m\u001b[0;34m,\u001b[0m \u001b[0mstring_types\u001b[0m\u001b[0;34m)\u001b[0m\u001b[0;34m:\u001b[0m\u001b[0;34m\u001b[0m\u001b[0;34m\u001b[0m\u001b[0m\n\u001b[1;32m    336\u001b[0m             \u001b[0;31m# allow calls like trained_model['office'], as a shorthand for trained_model[['office']]\u001b[0m\u001b[0;34m\u001b[0m\u001b[0;34m\u001b[0m\u001b[0;34m\u001b[0m\u001b[0m\n\u001b[0;32m--> 337\u001b[0;31m             \u001b[0;32mreturn\u001b[0m \u001b[0mself\u001b[0m\u001b[0;34m.\u001b[0m\u001b[0mget_vector\u001b[0m\u001b[0;34m(\u001b[0m\u001b[0mentities\u001b[0m\u001b[0;34m)\u001b[0m\u001b[0;34m\u001b[0m\u001b[0;34m\u001b[0m\u001b[0m\n\u001b[0m\u001b[1;32m    338\u001b[0m \u001b[0;34m\u001b[0m\u001b[0m\n\u001b[1;32m    339\u001b[0m         \u001b[0;32mreturn\u001b[0m \u001b[0mvstack\u001b[0m\u001b[0;34m(\u001b[0m\u001b[0;34m[\u001b[0m\u001b[0mself\u001b[0m\u001b[0;34m.\u001b[0m\u001b[0mget_vector\u001b[0m\u001b[0;34m(\u001b[0m\u001b[0mentity\u001b[0m\u001b[0;34m)\u001b[0m \u001b[0;32mfor\u001b[0m \u001b[0mentity\u001b[0m \u001b[0;32min\u001b[0m \u001b[0mentities\u001b[0m\u001b[0;34m]\u001b[0m\u001b[0;34m)\u001b[0m\u001b[0;34m\u001b[0m\u001b[0;34m\u001b[0m\u001b[0m\n",
            "\u001b[0;32m/usr/local/lib/python3.6/dist-packages/gensim/models/keyedvectors.py\u001b[0m in \u001b[0;36mget_vector\u001b[0;34m(self, word)\u001b[0m\n\u001b[1;32m    453\u001b[0m \u001b[0;34m\u001b[0m\u001b[0m\n\u001b[1;32m    454\u001b[0m     \u001b[0;32mdef\u001b[0m \u001b[0mget_vector\u001b[0m\u001b[0;34m(\u001b[0m\u001b[0mself\u001b[0m\u001b[0;34m,\u001b[0m \u001b[0mword\u001b[0m\u001b[0;34m)\u001b[0m\u001b[0;34m:\u001b[0m\u001b[0;34m\u001b[0m\u001b[0;34m\u001b[0m\u001b[0m\n\u001b[0;32m--> 455\u001b[0;31m         \u001b[0;32mreturn\u001b[0m \u001b[0mself\u001b[0m\u001b[0;34m.\u001b[0m\u001b[0mword_vec\u001b[0m\u001b[0;34m(\u001b[0m\u001b[0mword\u001b[0m\u001b[0;34m)\u001b[0m\u001b[0;34m\u001b[0m\u001b[0;34m\u001b[0m\u001b[0m\n\u001b[0m\u001b[1;32m    456\u001b[0m \u001b[0;34m\u001b[0m\u001b[0m\n\u001b[1;32m    457\u001b[0m     \u001b[0;32mdef\u001b[0m \u001b[0mwords_closer_than\u001b[0m\u001b[0;34m(\u001b[0m\u001b[0mself\u001b[0m\u001b[0;34m,\u001b[0m \u001b[0mw1\u001b[0m\u001b[0;34m,\u001b[0m \u001b[0mw2\u001b[0m\u001b[0;34m)\u001b[0m\u001b[0;34m:\u001b[0m\u001b[0;34m\u001b[0m\u001b[0;34m\u001b[0m\u001b[0m\n",
            "\u001b[0;32m/usr/local/lib/python3.6/dist-packages/gensim/models/keyedvectors.py\u001b[0m in \u001b[0;36mword_vec\u001b[0;34m(self, word, use_norm)\u001b[0m\n\u001b[1;32m    450\u001b[0m             \u001b[0;32mreturn\u001b[0m \u001b[0mresult\u001b[0m\u001b[0;34m\u001b[0m\u001b[0;34m\u001b[0m\u001b[0m\n\u001b[1;32m    451\u001b[0m         \u001b[0;32melse\u001b[0m\u001b[0;34m:\u001b[0m\u001b[0;34m\u001b[0m\u001b[0;34m\u001b[0m\u001b[0m\n\u001b[0;32m--> 452\u001b[0;31m             \u001b[0;32mraise\u001b[0m \u001b[0mKeyError\u001b[0m\u001b[0;34m(\u001b[0m\u001b[0;34m\"word '%s' not in vocabulary\"\u001b[0m \u001b[0;34m%\u001b[0m \u001b[0mword\u001b[0m\u001b[0;34m)\u001b[0m\u001b[0;34m\u001b[0m\u001b[0;34m\u001b[0m\u001b[0m\n\u001b[0m\u001b[1;32m    453\u001b[0m \u001b[0;34m\u001b[0m\u001b[0m\n\u001b[1;32m    454\u001b[0m     \u001b[0;32mdef\u001b[0m \u001b[0mget_vector\u001b[0m\u001b[0;34m(\u001b[0m\u001b[0mself\u001b[0m\u001b[0;34m,\u001b[0m \u001b[0mword\u001b[0m\u001b[0;34m)\u001b[0m\u001b[0;34m:\u001b[0m\u001b[0;34m\u001b[0m\u001b[0;34m\u001b[0m\u001b[0m\n",
            "\u001b[0;31mKeyError\u001b[0m: \"word 'self-indulgent' not in vocabulary\""
          ]
        }
      ]
    },
    {
      "cell_type": "markdown",
      "metadata": {
        "id": "31i5CbbWyO7R",
        "colab_type": "text"
      },
      "source": [
        "영어 단어 'self-indulgent'의 경우에는 \"word 'self-indulgent' not in vocabulary\" 라는 에러가 발생합니다. 이는 Word2Vec 학습시에 존재하지 않았던 단어이므로 'self-indulgent'의 임베딩 벡터값을 갖고 있지 않다는 에러입니다."
      ]
    },
    {
      "cell_type": "markdown",
      "metadata": {
        "id": "XuAbCOrzyQLB",
        "colab_type": "text"
      },
      "source": [
        "2) 사전 훈련된 Word2Vec을 초기 임베딩으로 사용하기\n",
        "\n",
        "이제 이 임베딩 벡터들을 IMDB 리뷰 데이터의 단어들에 맵핑해보겠습니다."
      ]
    },
    {
      "cell_type": "code",
      "metadata": {
        "id": "Jbx3D5CeyNIQ",
        "colab_type": "code",
        "colab": {}
      },
      "source": [
        "import torch\n",
        "import torch.nn as nn\n",
        "from torchtext.vocab import Vectors\n",
        "\n",
        "vectors = Vectors(name=\"eng_w2v\") # 사전 훈련된 Word2Vec 모델을 vectors에 저장"
      ],
      "execution_count": 0,
      "outputs": []
    },
    {
      "cell_type": "markdown",
      "metadata": {
        "id": "7ijVo5v8yXQh",
        "colab_type": "text"
      },
      "source": [
        "Field 객체의 build_vocab을 통해 훈련 데이터의 단어 집합(vocabulary)를 만드는 것과 동시에 임베딩 벡터값들을 초기화할 수 있습니다."
      ]
    },
    {
      "cell_type": "code",
      "metadata": {
        "id": "VTCvCENKyV4Q",
        "colab_type": "code",
        "colab": {}
      },
      "source": [
        "TEXT.build_vocab(trainset, vectors=vectors, max_size=10000, min_freq=10) # Word2Vec 모델을 임베딩 벡터값으로 초기화"
      ],
      "execution_count": 0,
      "outputs": []
    },
    {
      "cell_type": "markdown",
      "metadata": {
        "id": "LM53_s-Uycfp",
        "colab_type": "text"
      },
      "source": [
        "builc_vocab의 인자들을 보겠습니다. 우선, max_size와 min_freq는 몇 개의 단어들만을 가지고 단어 집합을 생성할 것인지를 정합니다. max_size는 단어 집합의 크기를 제한하고, min_freq=10은 등장 빈도수가 10번 이상인 단어만 허용하는 것한다는 의미입니다. vectors=vectors는 만들어진 단어 집합의 각 단어의 임베딩 벡터값으로 env_w2v에 저장되어져 있던 임베딩 벡터값들로 초기화합니다.\n",
        "\n",
        "단어 집합을 만들었다면, TEXT.vocab.stoi를 통해서 현재 단어 집합의 단어와 맵핑된 고유한 정수를 출력할 수 있습니다."
      ]
    },
    {
      "cell_type": "code",
      "metadata": {
        "id": "w_jGel_LybS6",
        "colab_type": "code",
        "outputId": "66405bc7-9d85-4ab4-e87e-98994d3a4188",
        "colab": {
          "base_uri": "https://localhost:8080/",
          "height": 55
        }
      },
      "source": [
        "print(TEXT.vocab.stoi)"
      ],
      "execution_count": 0,
      "outputs": [
        {
          "output_type": "stream",
          "text": [
            "defaultdict(<function _default_unk_index at 0x7f305a986620>, {'<unk>': 0, '<pad>': 1, 'the': 2, 'a': 3, 'and': 4, 'of': 5, 'to': 6, 'is': 7, 'in': 8, 'i': 9, 'this': 10, 'that': 11, 'it': 12, '/><br': 13, 'was': 14, 'as': 15, 'for': 16, 'with': 17, 'but': 18, 'on': 19, 'movie': 20, 'his': 21, 'are': 22, 'not': 23, 'film': 24, 'you': 25, 'have': 26, 'he': 27, 'be': 28, 'at': 29, 'one': 30, 'by': 31, 'an': 32, 'they': 33, 'from': 34, 'all': 35, 'who': 36, 'like': 37, 'so': 38, 'just': 39, 'or': 40, 'has': 41, 'her': 42, 'about': 43, \"it's\": 44, 'some': 45, 'if': 46, 'out': 47, 'what': 48, 'very': 49, 'when': 50, 'more': 51, 'there': 52, 'she': 53, 'would': 54, 'even': 55, 'good': 56, 'my': 57, 'only': 58, 'their': 59, 'no': 60, 'really': 61, 'had': 62, 'which': 63, 'can': 64, 'up': 65, 'were': 66, 'see': 67, 'than': 68, 'we': 69, '-': 70, 'been': 71, 'into': 72, 'get': 73, 'will': 74, 'story': 75, 'much': 76, 'because': 77, 'most': 78, 'how': 79, 'other': 80, 'also': 81, 'first': 82, 'its': 83, 'time': 84, 'do': 85, \"don't\": 86, 'me': 87, 'great': 88, 'people': 89, 'could': 90, 'make': 91, 'any': 92, '/>the': 93, 'after': 94, 'made': 95, 'then': 96, 'bad': 97, 'think': 98, 'being': 99, 'many': 100, 'him': 101, 'never': 102, 'two': 103, 'too': 104, 'little': 105, 'where': 106, 'well': 107, '<br': 108, 'way': 109, 'watch': 110, 'your': 111, 'it.': 112, 'did': 113, 'does': 114, 'them': 115, 'best': 116, 'movie.': 117, 'know': 118, 'seen': 119, 'love': 120, 'characters': 121, 'character': 122, 'movies': 123, 'these': 124, 'ever': 125, 'still': 126, 'over': 127, 'should': 128, 'films': 129, 'such': 130, 'plot': 131, 'acting': 132, 'while': 133, 'show': 134, 'go': 135, 'those': 136, 'off': 137, 'better': 138, 'film.': 139, 'through': 140, \"doesn't\": 141, 'say': 142, 'something': 143, 'why': 144, \"i'm\": 145, 'makes': 146, \"didn't\": 147, 'watching': 148, 'back': 149, 'scene': 150, 'film,': 151, 'real': 152, 'find': 153, 'new': 154, 'movie,': 155, 'few': 156, 'actually': 157, 'every': 158, 'scenes': 159, 'man': 160, 'life': 161, 'going': 162, 'same': 163, 'nothing': 164, '/>i': 165, 'look': 166, 'another': 167, 'quite': 168, 'lot': 169, 'old': 170, 'want': 171, 'end': 172, 'pretty': 173, 'thing': 174, 'seems': 175, 'got': 176, '&': 177, \"can't\": 178, 'before': 179, 'take': 180, 'years': 181, 'part': 182, 'actors': 183, 'give': 184, 'young': 185, 'may': 186, 'between': 187, 'us': 188, \"that's\": 189, \"i've\": 190, 'without': 191, 'though': 192, 'both': 193, 'things': 194, 'gets': 195, 'big': 196, 'around': 197, 'here': 198, 'thought': 199, 'saw': 200, 'director': 201, 'almost': 202, 'it,': 203, 'now': 204, \"isn't\": 205, 'always': 206, 'must': 207, 'come': 208, 'own': 209, 'work': 210, 'whole': 211, 'cast': 212, 'horror': 213, 'down': 214, 'might': 215, \"there's\": 216, \"he's\": 217, 'bit': 218, 'least': 219, 'probably': 220, 'enough': 221, '\"the': 222, 'feel': 223, 'last': 224, 'original': 225, 'am': 226, 'since': 227, 'rather': 228, 'long': 229, 'far': 230, 'fact': 231, 'kind': 232, 'each': 233, 'world': 234, 'funny': 235, 'found': 236, 'anything': 237, 'worst': 238, 'comes': 239, 'having': 240, 'our': 241, 'making': 242, 'trying': 243, 'action': 244, 'right': 245, 'interesting': 246, 'done': 247, 'however,': 248, 'point': 249, 'believe': 250, 'looks': 251, 'guy': 252, 'put': 253, 'goes': 254, '/>this': 255, 'family': 256, 'played': 257, 'main': 258, 'anyone': 259, 'series': 260, 'hard': 261, \"wasn't\": 262, 'role': 263, 'especially': 264, 'music': 265, 'yet': 266, 'worth': 267, 'seem': 268, 'performance': 269, 'plays': 270, 'takes': 271, 'script': 272, 'watched': 273, 'sure': 274, 'looking': 275, 'during': 276, 'someone': 277, 'minutes': 278, 'different': 279, 'tv': 280, 'although': 281, 'woman': 282, 'set': 283, 'three': 284, 'away': 285, 'times': 286, 'shows': 287, 'maybe': 288, 'comedy': 289, 'girl': 290, 'left': 291, 'everything': 292, 'time.': 293, 'john': 294, 'once': 295, 'seeing': 296, 'simply': 297, \"you're\": 298, 'american': 299, 'fun': 300, 'special': 301, 'completely': 302, 'everyone': 303, 'play': 304, 'true': 305, 'again': 306, 'reason': 307, 'read': 308, 'used': 309, 'well,': 310, 'need': 311, 'given': 312, 'until': 313, 'nice': 314, 'beautiful': 315, 'use': 316, 'high': 317, 'sense': 318, 'truly': 319, 'place': 320, 'idea': 321, '--': 322, 'help': 323, 'version': 324, 'try': 325, 'less': 326, 'rest': 327, 'black': 328, 'money': 329, 'came': 330, 'job': 331, 'second': 332, 'dvd': 333, 'excellent': 334, 'recommend': 335, 'ending': 336, 'tell': 337, 'getting': 338, 'shot': 339, 'keep': 340, 'instead': 341, 'actor': 342, '(and': 343, 'gives': 344, 'full': 345, 'said': 346, 'let': 347, 'half': 348, 'enjoy': 349, 'poor': 350, 'couple': 351, 'day': 352, 'himself': 353, 'playing': 354, 'definitely': 355, 'supposed': 356, 'audience': 357, 'early': 358, 'become': 359, 'along': 360, 'felt': 361, 'effects': 362, 'understand': 363, 'all,': 364, 'remember': 365, 'small': 366, \"couldn't\": 367, 'book': 368, 'entire': 369, 'later': 370, 'absolutely': 371, 'liked': 372, 'together': 373, 'star': 374, 'against': 375, 'fan': 376, 'went': 377, 'wife': 378, 'next': 379, 'doing': 380, 'start': 381, 'perhaps': 382, 'year': 383, 'often': 384, 'hollywood': 385, 'certainly': 386, 'screen': 387, 'several': 388, '(the': 389, 'time,': 390, '2': 391, \"she's\": 392, 'sort': 393, 'night': 394, 'waste': 395, 'human': 396, 'is,': 397, 'becomes': 398, 'short': 399, 'wonderful': 400, '10': 401, 'seemed': 402, 'loved': 403, 'men': 404, 'kids': 405, '\\x96': 406, 'piece': 407, 'war': 408, 'classic': 409, 'father': 410, '.': 411, 'production': 412, 'house': 413, 'home': 414, 'camera': 415, 'else': 416, 'wanted': 417, 'hope': 418, 'women': 419, 'that,': 420, 'totally': 421, 'live': 422, 'course': 423, 'performances': 424, 'lost': 425, 'top': 426, 'based': 427, \"i'd\": 428, 'them.': 429, 'tries': 430, 'line': 431, 'mind': 432, 'video': 433, \"you'll\": 434, 'final': 435, 'able': 436, 'called': 437, 'wants': 438, 'perfect': 439, 'friends': 440, 'gave': 441, \"they're\": 442, 'under': 443, 'death': 444, 'already': 445, 'despite': 446, 'enjoyed': 447, 'story,': 448, 'finally': 449, 'person': 450, 'name': 451, 'either': 452, 'turn': 453, 'sex': 454, 'turns': 455, 'care': 456, 'one.': 457, 'starts': 458, 'written': 459, 'dead': 460, 'problem': 461, 'episode': 462, \"won't\": 463, 'this.': 464, 'low': 465, 'school': 466, 'stupid': 467, 'mean': 468, 'face': 469, 'behind': 470, 'this,': 471, 'me.': 472, 'him.': 473, 'moments': 474, 'lead': 475, 'favorite': 476, 'and,': 477, 'lines': 478, 'sound': 479, 'white': 480, 'head': 481, 'michael': 482, 'stars': 483, 'guess': 484, 'took': 485, 'cannot': 486, 'story.': 487, 'fine': 488, 'budget': 489, 'title': 490, 'good.': 491, 'well.': 492, 'me,': 493, 'kill': 494, 'terrible': 495, 'highly': 496, 'extremely': 497, 'others': 498, 'all.': 499, 'dialogue': 500, 'sometimes': 501, \"film's\": 502, 'evil': 503, 'beginning': 504, 'lack': 505, 'life.': 506, 'style': 507, 'throughout': 508, \"wouldn't\": 509, 'heard': 510, 'obviously': 511, 'boring': 512, 'dark': 513, 'feeling': 514, 'itself': 515, 'fans': 516, 'lives': 517, 'decent': 518, 'works': 519, 'expect': 520, 'soon': 521, 'killer': 522, 'boy': 523, 'good,': 524, 'looked': 525, 'mr.': 526, 'attempt': 527, 'late': 528, 'particularly': 529, 'case': 530, 'amazing': 531, 'course,': 532, 'directed': 533, 'friend': 534, 'fight': 535, 'leave': 536, '/>in': 537, 'wrong': 538, 'quality': 539, '/>it': 540, 'mother': 541, 'picture': 542, 'entertaining': 543, 'save': 544, 'complete': 545, 'thinking': 546, 'close': 547, 'viewer': 548, 'exactly': 549, 'guys': 550, 'taken': 551, 'awful': 552, 'writing': 553, 'finds': 554, 'run': 555, 'whose': 556, 'except': 557, '/>if': 558, 'wonder': 559, 'movies.': 560, 'somewhat': 561, 'living': 562, 'across': 563, 'number': 564, 'police': 565, 'strong': 566, 'told': 567, 'says': 568, 'james': 569, 'movies,': 570, 'opening': 571, 'worse': 572, 'obvious': 573, 'shown': 574, 'parts': 575, 'laugh': 576, 'coming': 577, 'running': 578, '3': 579, 'car': 580, 'films,': 581, 'past': 582, 'direction': 583, 'usually': 584, 'type': 585, 'wish': 586, 'group': 587, 'huge': 588, 'side': 589, 'acting,': 590, 'major': 591, 'taking': 592, 'children': 593, 'supporting': 594, 'girls': 595, 'stop': 596, 'act': 597, 'bad.': 598, 'hour': 599, 'turned': 600, 'tells': 601, 'known': 602, 'none': 603, 'started': 604, 'local': 605, 'knew': 606, 'that.': 607, 'myself': 608, 'killed': 609, 'due': 610, 'here,': 611, 'stories': 612, \"aren't\": 613, 'town': 614, 'single': 615, 'game': 616, 'happens': 617, ',': 618, 'female': 619, 'it.<br': 620, 'again,': 621, 'bring': 622, 'call': 623, 'including': 624, \"i'll\": 625, 'way,': 626, 'brilliant': 627, 'cinema': 628, 'here.': 629, 'son': 630, 'clearly': 631, 'british': 632, 'actress': 633, 'fact,': 634, '/>there': 635, 'mostly': 636, 'humor': 637, 'art': 638, 'david': 639, 'hit': 640, 'talking': 641, 'voice': 642, 'robert': 643, 'involved': 644, 'whether': 645, 'characters,': 646, 'giving': 647, 'child': 648, 'musical': 649, 'one,': 650, 'history': 651, 'order': 652, 'out.': 653, 'ends': 654, 'falls': 655, 'end,': 656, 'heart': 657, 'saying': 658, 'drama': 659, 'easily': 660, '!': 661, 'matter': 662, 'serious': 663, 'again.': 664, 'bad,': 665, 'eyes': 666, 'relationship': 667, 'horrible': 668, 'yes,': 669, 'nearly': 670, 'however': 671, 'modern': 672, 'chance': 673, 'feels': 674, 'beyond': 675, 'kid': 676, 'needs': 677, 'actual': 678, 'cut': 679, \"haven't\": 680, 'appears': 681, 'important': 682, 'similar': 683, 'themselves': 684, 'five': 685, 'example': 686, 'moment': 687, '/>but': 688, 'change': 689, 'comic': 690, 'upon': 691, 'end.': 692, 'simple': 693, 'strange': 694, 'using': 695, 'four': 696, 'knows': 697, 'happened': 698, 'is.': 699, 'named': 700, 'within': 701, 'released': 702, 'usual': 703, 'way.': 704, 'seen.': 705, 'english': 706, 'among': 707, 'movie.<br': 708, 'but,': 709, 'lots': 710, '/>': 711, 'basically': 712, 'mention': 713, 'slow': 714, 'romantic': 715, 'stuff': 716, 'bunch': 717, 'her.': 718, 'kept': 719, 'typical': 720, 'certain': 721, 'interest': 722, 'films.': 723, 'near': 724, 'city': 725, 'hours': 726, 'overall': 727, 'showing': 728, '(i': 729, 'blood': 730, 'plot,': 731, 'brought': 732, 'fall': 733, 'murder': 734, 'days': 735, 'body': 736, '/>and': 737, 'tried': 738, 'song': 739, 'apparently': 740, 'miss': 741, '/>a': 742, 'him,': 743, 'middle': 744, 'greatest': 745, 'jack': 746, 'life,': 747, 'george': 748, 'film.<br': 749, 'score': 750, 'events': 751, 'happy': 752, 'sad': 753, '/>as': 754, 'yourself': 755, 'working': 756, 'shots': 757, 'stay': 758, 'talk': 759, 'add': 760, 'cheap': 761, '(as': 762, 'begins': 763, 'decided': 764, 'age': 765, 'buy': 766, 'so,': 767, 'surprised': 768, 'hear': 769, 'french': 770, 'brother': 771, 'famous': 772, 'alone': 773, 'on.': 774, 'paul': 775, 'became': 776, \"what's\": 777, 'daughter': 778, 'hate': 779, 'annoying': 780, 'learn': 781, 'richard': 782, 'happen': 783, '(which': 784, 'please': 785, 'sit': 786, 'songs': 787, \"you've\": 788, 'de': 789, 'jokes': 790, 'easy': 791, \"/>it's\": 792, 'nor': 793, 'ten': 794, 'peter': 795, 'sets': 796, 'documentary': 797, 'view': 798, 'experience': 799, 'light': 800, 'too.': 801, 'above': 802, 'funny.': 803, 'cinematography': 804, 'funny,': 805, 'hell': 806, 'possibly': 807, \"who's\": 808, 'sequence': 809, 'sexual': 810, 'attention': 811, 'king': 812, 'straight': 813, '1': 814, 'stand': 815, 'hand': 816, 'meets': 817, 'power': 818, 'oh': 819, 'gore': 820, 'episodes': 821, 'word': 822, 'difficult': 823, 'clear': 824, 'elements': 825, 'husband': 826, 'also,': 827, 'red': 828, 'god': 829, 'violence': 830, 'characters.': 831, 'keeps': 832, 'leaves': 833, 'poorly': 834, 'realize': 835, 'means': 836, 'ones': 837, 'japanese': 838, 'television': 839, 'genre': 840, 'roles': 841, 'character,': 842, 'somehow': 843, 'flick': 844, '5': 845, 'cool': 846, 'out,': 847, 'figure': 848, 'reality': 849, 'possible': 850, 'silly': 851, 'them,': 852, 'eventually': 853, 'towards': 854, 'reading': 855, 'move': 856, 'rent': 857, 'brings': 858, 'doubt': 859, 'scary': 860, 'theme': 861, 'killing': 862, 'lady': 863, 'unfortunately': 864, 'filmed': 865, 'imagine': 866, 'moving': 867, 'previous': 868, 'emotional': 869, 'on,': 870, 'leads': 871, 'rock': 872, 'room': 873, '(or': 874, 'problems': 875, 'third': 876, 'tom': 877, 'deal': 878, 'say,': 879, 'oscar': 880, 'though,': 881, 'review': 882, 'talent': 883, 'novel': 884, 'comments': 885, 'forget': 886, 'hero': 887, 'leading': 888, 'message': 889, 'enjoyable': 890, 'incredibly': 891, 'level': 892, 'write': 893, 'career': 894, 'ridiculous': 895, 'check': 896, 'better.': 897, 'various': 898, 'plenty': 899, 'animation': 900, 'meant': 901, 'needed': 902, 'personal': 903, 'feature': 904, 'show.': 905, 'writer': 906, 'future': 907, 'herself': 908, 'avoid': 909, 'gone': 910, 'meet': 911, 'create': 912, 'work.': 913, 'hardly': 914, 'begin': 915, 'whom': 916, 'total': 917, 'country': 918, 'manages': 919, 'team': 920, 'theater': 921, 'watch.': 922, '4': 923, 'forced': 924, 'fairly': 925, 'form': 926, 'up.': 927, 'particular': 928, 'there.': 929, 'hilarious': 930, 'appear': 931, 'points': 932, 'you.': 933, 'now,': 934, 'viewers': 935, 'fantastic': 936, 'effort': 937, 'interested': 938, 'follow': 939, 'unless': 940, 'weak': 941, 'words': 942, 'fast': 943, 'dramatic': 944, 'expecting': 945, 'tale': 946, 'unfortunately,': 947, 'joe': 948, 'zombie': 949, 'male': 950, 'older': 951, 'average': 952, 'her,': 953, 'general': 954, 'political': 955, 'attempts': 956, 'reviews': 957, 'mystery': 958, 'scenes,': 959, 'features': 960, 'sounds': 961, 'subject': 962, '(a': 963, 'class': 964, 'whatever': 965, 'york': 966, 'pay': 967, 'crap': 968, 'lee': 969, 'up,': 970, 'scene,': 971, 'worked': 972, 'dance': 973, 'decides': 974, 'disney': 975, 'premise': 976, 'then,': 977, 'plain': 978, 'man,': 979, \"let's\": 980, 'minute': 981, 'badly': 982, 'ask': 983, 'dialog': 984, '20': 985, 'expected': 986, 'viewing': 987, 'forward': 988, 'open': 989, 'uses': 990, 'wait': 991, '(who': 992, 'deep': 993, 'social': 994, 'storyline': 995, 'front': 996, 'crime': 997, 'directors': 998, 'writers': 999, 'comment': 1000, 'there,': 1001, 'waiting': 1002, 'fails': 1003, 'hold': 1004, 'nature': 1005, \"'the\": 1006, 'slightly': 1007, 'admit': 1008, 'unique': 1009, 'deserves': 1010, 'sees': 1011, 'soundtrack': 1012, 'considering': 1013, 'stage': 1014, 'battle': 1015, 'pure': 1016, 'portrayed': 1017, 'parents': 1018, 'sequences': 1019, 'dull': 1020, 'footage': 1021, 'season': 1022, 'times,': 1023, 'compared': 1024, 'telling': 1025, 'sister': 1026, 'spent': 1027, 'atmosphere': 1028, 'dr.': 1029, 'realistic': 1030, 'biggest': 1031, 'caught': 1032, 'outside': 1033, 'rating': 1034, 'unlike': 1035, 'predictable': 1036, 'visual': 1037, 'william': 1038, 'earth': 1039, 'talented': 1040, 'agree': 1041, 'weird': 1042, 'years.': 1043, '...': 1044, 'it!': 1045, 'perfectly': 1046, 'recent': 1047, 'quickly': 1048, 'show,': 1049, 'spend': 1050, 'bill': 1051, 'inside': 1052, 'large': 1053, 'people,': 1054, 'eye': 1055, 'memorable': 1056, 'powerful': 1057, 'entirely': 1058, 'etc.': 1059, 'space': 1060, 'casting': 1061, 'fighting': 1062, '/>what': 1063, 'editing': 1064, 'people.': 1065, 'return': 1066, 'ways': 1067, 'kills': 1068, 'sequel': 1069, 'sorry': 1070, 'lame': 1071, 'rich': 1072, \"we're\": 1073, 'wrote': 1074, 'ben': 1075, 'plot.': 1076, 'result': 1077, 'amount': 1078, 'filled': 1079, 'made.': 1080, 'consider': 1081, 'free': 1082, 'question': 1083, 'disappointed': 1084, 'earlier': 1085, 'period': 1086, 'following': 1087, 'screenplay': 1088, 'former': 1089, 'sci-fi': 1090, 'secret': 1091, 'work,': 1092, 'actors,': 1093, 'gay': 1094, 'release': 1095, \"weren't\": 1096, 'filmmakers': 1097, 'neither': 1098, 'superb': 1099, 'cheesy': 1100, 'material': 1101, 'said,': 1102, 'seriously': 1103, 'showed': 1104, 'appreciate': 1105, 'popular': 1106, 'entertainment': 1107, 'odd': 1108, 'runs': 1109, 'comedy,': 1110, 'missing': 1111, 'copy': 1112, 'moves': 1113, 'creepy': 1114, 'hot': 1115, 'married': 1116, 'suddenly': 1117, 'positive': 1118, 'decide': 1119, '(in': 1120, 'basic': 1121, 'imdb': 1122, 'shame': 1123, 'present': 1124, 'scenes.': 1125, 'recently': 1126, 'animated': 1127, 'box': 1128, 'considered': 1129, 'portrayal': 1130, 'thriller': 1131, 'hands': 1132, 'mark': 1133, 'more.': 1134, 'plus': 1135, 'barely': 1136, 'break': 1137, 'common': 1138, 'credits': 1139, 'be.': 1140, 'beauty': 1141, 'crazy': 1142, 'ideas': 1143, 'too,': 1144, 'leaving': 1145, 'character.': 1146, 'further': 1147, 'wasted': 1148, 'fantasy': 1149, 'italian': 1150, 'missed': 1151, 'western': 1152, 'christmas': 1153, 'ended': 1154, 'believable': 1155, 'german': 1156, 'you,': 1157, 'follows': 1158, 'ago': 1159, 'created': 1160, 'great,': 1161, 'opinion': 1162, 'familiar': 1163, 'setting': 1164, 'utterly': 1165, 'background': 1166, 'in.': 1167, 'likes': 1168, 'bought': 1169, 'dream': 1170, 'fit': 1171, 'incredible': 1172, 'monster': 1173, 'jane': 1174, 'situation': 1175, 'involving': 1176, 'public': 1177, 'screen.': 1178, '\"i': 1179, 'otherwise': 1180, 'starring': 1181, 'dumb': 1182, 'focus': 1183, 'glad': 1184, 'members': 1185, 'remake': 1186, 'crew': 1187, 'role.': 1188, 'van': 1189, 'acting.': 1190, 'successful': 1191, 'won': 1192, 'younger': 1193, 'apart': 1194, 'science': 1195, 'solid': 1196, 'boys': 1197, 'rate': 1198, 'series,': 1199, 'sitting': 1200, 'surprise': 1201, 'dog': 1202, 'street': 1203, 'die': 1204, 'generally': 1205, 'truth': 1206, 'ultimately': 1207, 'great.': 1208, 'baby': 1209, 'walk': 1210, '/>my': 1211, 'romance': 1212, 'world.': 1213, 'potential': 1214, 'managed': 1215, \"movie's\": 1216, 'cop': 1217, 'laughing': 1218, 'slasher': 1219, 'thinks': 1220, 'twist': 1221, 'suspense': 1222, 'scott': 1223, 'was,': 1224, 'bored': 1225, 'times.': 1226, '/>all': 1227, 'directing': 1228, 'doctor': 1229, 'not.': 1230, 'today': 1231, 'effect': 1232, 'knowing': 1233, 'singing': 1234, 'chemistry': 1235, '30': 1236, 'adult': 1237, 'catch': 1238, 'cover': 1239, 'bizarre': 1240, 'impossible': 1241, 'mentioned': 1242, 'acted': 1243, 'added': 1244, 'air': 1245, 'intelligent': 1246, 'speak': 1247, 'book,': 1248, 'fully': 1249, 'explain': 1250, 'match': 1251, 'likely': 1252, 'remains': 1253, 'cast,': 1254, 'changed': 1255, 'cinematic': 1256, 'convincing': 1257, 'escape': 1258, 'business': 1259, 'stick': 1260, 'win': 1261, 'clever': 1262, 'equally': 1263, 'first,': 1264, 'indeed': 1265, 'trouble': 1266, 'much.': 1267, 'thrown': 1268, 'note': 1269, 'produced': 1270, 'years,': 1271, 'failed': 1272, 'rare': 1273, '/>one': 1274, 'cause': 1275, 'computer': 1276, 'credit': 1277, 'dancing': 1278, 'mary': 1279, 'producers': 1280, 'pick': 1281, 'violent': 1282, 'historical': 1283, 'series.': 1284, 'steve': 1285, 'thanks': 1286, '15': 1287, 'effective': 1288, 'tony': 1289, 'choice': 1290, 'contains': 1291, 'cute': 1292, 'development': 1293, 'music,': 1294, \"you'd\": 1295, 'band': 1296, 'off,': 1297, 'sent': 1298, 'comedy.': 1299, 'hoping': 1300, 'military': 1301, 'shooting': 1302, 'south': 1303, 'central': 1304, 'longer': 1305, 'scene.': 1306, 'success': 1307, 'aspect': 1308, 'cartoon': 1309, 'constantly': 1310, 'off.': 1311, 'ability': 1312, 'cold': 1313, 'ok': 1314, 'script,': 1315, 'excuse': 1316, '10.': 1317, 'concept': 1318, 'studio': 1319, '/>so': 1320, 'college': 1321, 'immediately': 1322, 'state': 1323, 'not,': 1324, 'cult': 1325, 'know,': 1326, 'nobody': 1327, 'puts': 1328, 'surprisingly': 1329, 'walking': 1330, 'later,': 1331, 'tension': 1332, 'do.': 1333, 'exciting': 1334, 'frank': 1335, 'silent': 1336, 'society': 1337, 'brothers': 1338, 'fire': 1339, 'list': 1340, 'tone': 1341, 'ghost': 1342, 'surely': 1343, 'mean,': 1344, 'fear': 1345, 'minor': 1346, 'sam': 1347, 'spirit': 1348, 'throw': 1349, 'literally': 1350, 'beautifully': 1351, 'force': 1352, 'reasons': 1353, 'trip': 1354, 'ever.': 1355, 'jim': 1356, 'was.': 1357, 'la': 1358, 'laughs': 1359, 'questions': 1360, '(': 1361, 'depth': 1362, 'tough': 1363, 'died': 1364, 'sweet': 1365, '\"a': 1366, 'flat': 1367, 'makers': 1368, 'enough,': 1369, 'stands': 1370, 'villain': 1371, 'gun': 1372, 'loves': 1373, 'man.': 1374, 'best.': 1375, \"hasn't\": 1376, 'indian': 1377, 'no,': 1378, 'nudity': 1379, 'pace': 1380, 'suggest': 1381, 'together.': 1382, 'amusing': 1383, 'girlfriend': 1384, 'respect': 1385, 'adaptation': 1386, 'anyway,': 1387, 'images': 1388, 'include': 1389, 'mad': 1390, 'falling': 1391, 'natural': 1392, 'thank': 1393, 'company': 1394, 'fake': 1395, 'lacks': 1396, 'presented': 1397, 'revenge': 1398, 'shoot': 1399, 'merely': 1400, 'touch': 1401, 'joke': 1402, 'party': 1403, 'terms': 1404, 'day.': 1405, 'master': 1406, 'office': 1407, 'brief': 1408, 'oh,': 1409, 'either.': 1410, 'impressive': 1411, 'mainly': 1412, 'pass': 1413, 'pointless': 1414, 'somewhere': 1415, 'america': 1416, 'example,': 1417, 'impression': 1418, 'day,': 1419, 'control': 1420, 'appeal': 1421, 'christopher': 1422, 'director,': 1423, 'drawn': 1424, 'proves': 1425, 'about.': 1426, 'innocent': 1427, 'putting': 1428, 'thing.': 1429, 'standard': 1430, 'appearance': 1431, 'chase': 1432, 'naked': 1433, 'prison': 1434, 'sick': 1435, 'wild': 1436, '\"': 1437, 'chris': 1438, 'rated': 1439, 'serial': 1440, 'world,': 1441, 'audiences': 1442, 'becoming': 1443, 'heavy': 1444, 'in,': 1445, 'provides': 1446, '8': 1447, 'fell': 1448, 'harry': 1449, 'love,': 1450, 'mysterious': 1451, 'subtle': 1452, 'lovely': 1453, 'mess': 1454, 'share': 1455, 'cat': 1456, 'fellow': 1457, 'acts': 1458, 'army': 1459, 'detective': 1460, 'normal': 1461, 'reminded': 1462, 'support': 1463, 'suppose': 1464, 'appeared': 1465, 'followed': 1466, 'sure,': 1467, 'touching': 1468, 'finding': 1469, 'fun.': 1470, 'giant': 1471, 'role,': 1472, '(not': 1473, 'actors.': 1474, 'complex': 1475, 'drug': 1476, 'helps': 1477, 'meaning': 1478, 'narrative': 1479, 'thoroughly': 1480, 'absolute': 1481, 'minutes.': 1482, 'terrific': 1483, 'did.': 1484, 'pull': 1485, 'action,': 1486, 'adds': 1487, 'aspects': 1488, 'charles': 1489, 'offers': 1490, 'rented': 1491, 'seemingly': 1492, 'still,': 1493, 'with.': 1494, 'store': 1495, 'disturbing': 1496, 'fair': 1497, 'magic': 1498, 'point,': 1499, 'turning': 1500, 'element': 1501, 'held': 1502, 'language': 1503, 'stuck': 1504, 'tired': 1505, 'value': 1506, 'charming': 1507, 'effects,': 1508, 'paid': 1509, 'thats': 1510, 'wondering': 1511, 'slowly': 1512, 'supposedly': 1513, 'attack': 1514, 'books': 1515, 'brain': 1516, 'funniest': 1517, 'mood': 1518, 'painful': 1519, 'picked': 1520, 'themes': 1521, 'thus': 1522, 'delivers': 1523, 'onto': 1524, \"shouldn't\": 1525, 'water': 1526, 'island': 1527, 'minutes,': 1528, 'moral': 1529, 'self': 1530, 'awful.': 1531, 'charlie': 1532, 'lived': 1533, 'million': 1534, 'sadly': 1535, 'billy': 1536, 'critics': 1537, \"man's\": 1538, 'soldiers': 1539, 'journey': 1540, 'plan': 1541, 'wrong.': 1542, 'henry': 1543, 'pictures': 1544, 'redeeming': 1545, 'available': 1546, 'bruce': 1547, 'hand,': 1548, 'movie!': 1549, 'negative': 1550, 'ok,': 1551, 'twists': 1552, 'opportunity': 1553, 'performance.': 1554, 'vampire': 1555, 'willing': 1556, 'carry': 1557, 'presence': 1558, 'to.': 1559, 'changes': 1560, 'damn': 1561, 'key': 1562, 'led': 1563, 'dad': 1564, 'random': 1565, 'script.': 1566, 'sexy': 1567, 'actor,': 1568, 'bottom': 1569, 'edge': 1570, 'zombies': 1571, 'allowed': 1572, 'drive': 1573, 'government': 1574, 'green': 1575, 'hidden': 1576, 'interesting.': 1577, 'teenage': 1578, '/>for': 1579, 'cast.': 1580, 'laughed': 1581, 'lose': 1582, 'martial': 1583, 'project': 1584, 'track': 1585, 'away.': 1586, 'bother': 1587, 'flying': 1588, 'image': 1589, 'includes': 1590, 'other.': 1591, 'values': 1592, 'award': 1593, 'boring.': 1594, 'gang': 1595, 'mix': 1596, 'really,': 1597, 'thing,': 1598, 'though.': 1599, 'adventure': 1600, 'christian': 1601, 'everybody': 1602, 'issues': 1603, 'pieces': 1604, 'super': 1605, '(with': 1606, 'boring,': 1607, 'filming': 1608, 'helped': 1609, 'instead,': 1610, 'seen,': 1611, 'six': 1612, 'time.<br': 1613, 'camp': 1614, 'describe': 1615, 'family.': 1616, 'favourite': 1617, 'personally': 1618, 'jerry': 1619, 'lets': 1620, '7': 1621, 'era': 1622, 'interesting,': 1623, 'ready': 1624, 'train': 1625, 'before.': 1626, 'motion': 1627, 'outstanding': 1628, 'stunning': 1629, \"character's\": 1630, 'asks': 1631, 'awesome': 1632, 'compare': 1633, 'creative': 1634, 'honestly': 1635, 'masterpiece': 1636, 'rarely': 1637, 'feelings': 1638, 'impressed': 1639, 'approach': 1640, 'channel': 1641, 'road': 1642, 'step': 1643, 'aside': 1644, 'humour': 1645, 'intended': 1646, 'reminds': 1647, 'allow': 1648, 'artistic': 1649, 'book.': 1650, 'fascinating': 1651, 'names': 1652, 'audience.': 1653, 'beat': 1654, 'else.': 1655, 'mental': 1656, 'moved': 1657, 'pathetic': 1658, 'provide': 1659, 'compelling': 1660, 'deeply': 1661, 'hair': 1662, 'technical': 1663, 'tragic': 1664, 'alan': 1665, 'notice': 1666, 'now.': 1667, 'yet,': 1668, 'b': 1669, 'brian': 1670, 'ending.': 1671, 'overall,': 1672, 'student': 1673, 'victim': 1674, 'wearing': 1675, 'century': 1676, 'comedies': 1677, 'physical': 1678, 'west': 1679, 'comedic': 1680, 'speaking': 1681, 'yes': 1682, 'chinese': 1683, 'done.': 1684, 'family,': 1685, 'performance,': 1686, 'wife,': 1687, 'wonderfully': 1688, 'afraid': 1689, 'inspired': 1690, 'opinion,': 1691, 'wanting': 1692, 'back.': 1693, 'blue': 1694, 'continue': 1695, 'law': 1696, 'money.': 1697, 'purpose': 1698, 'culture': 1699, 'holds': 1700, 'struggle': 1701, 'better,': 1702, 'case,': 1703, 'color': 1704, 'developed': 1705, 'direct': 1706, 'gorgeous': 1707, 'gotten': 1708, 'listen': 1709, 'sat': 1710, 'search': 1711, 'accept': 1712, 'build': 1713, 'difference': 1714, 'house,': 1715, 'planet': 1716, \"80's\": 1717, 'desperate': 1718, 'details': 1719, 'hotel': 1720, 'mr': 1721, 'place.': 1722, 'situations': 1723, 'toward': 1724, 'trash': 1725, '(if': 1726, 'honest': 1727, 'mediocre': 1728, 'stewart': 1729, 'disappointed.': 1730, 'do,': 1731, 'independent': 1732, 'member': 1733, 'nowhere': 1734, 'answer': 1735, 'born': 1736, 'deliver': 1737, 'kelly': 1738, 'london': 1739, 'made,': 1740, 'ms.': 1741, 'realized': 1742, 'sense.': 1743, 'taste': 1744, 'woman,': 1745, 'worthy': 1746, '/>when': 1747, 'offer': 1748, 'stephen': 1749, 'be,': 1750, 'before,': 1751, 'confused': 1752, 'constant': 1753, 'it?': 1754, 'places': 1755, 'intense': 1756, 'marriage': 1757, 'smart': 1758, 'smith': 1759, 'watch,': 1760, 'for.': 1761, 'fresh': 1762, 'himself.': 1763, 'job.': 1764, 'seven': 1765, 'don': 1766, 'emotions': 1767, 'religious': 1768, 'began': 1769, 'impact': 1770, 'latter': 1771, 'nasty': 1772, 'original,': 1773, 'professional': 1774, 'best,': 1775, 'building': 1776, 'costumes': 1777, 'dialogue,': 1778, 'double': 1779, 'hated': 1780, 'part,': 1781, 'batman': 1782, 'apparent': 1783, 'climax': 1784, 'love.': 1785, 'spot': 1786, 'alien': 1787, 'down.': 1788, 'extreme': 1789, 'hurt': 1790, 'shock': 1791, 'asked': 1792, 'creating': 1793, 'cry': 1794, 'genius': 1795, \"hadn't\": 1796, 'introduced': 1797, 'ride': 1798, \"today's\": 1799, 'trust': 1800, '(like': 1801, '9': 1802, 'capture': 1803, 'church': 1804, 'extra': 1805, 'limited': 1806, 'manage': 1807, 'skip': 1808, 'ahead': 1809, 'cinema.': 1810, 'noir': 1811, 'photography': 1812, 'animals': 1813, 'charm': 1814, 'growing': 1815, 'accent': 1816, 'blame': 1817, 'deserve': 1818, 'exception': 1819, 'information': 1820, 'much,': 1821, 'murders': 1822, 'producer': 1823, 'pulled': 1824, 'ray': 1825, 'starting': 1826, 'students': 1827, 'terrible.': 1828, 'besides': 1829, 'martin': 1830, 'numerous': 1831, 'other,': 1832, 'quick': 1833, 'trailer': 1834, 'whenever': 1835, 'whilst': 1836, 'zero': 1837, 'bloody': 1838, 'fiction': 1839, 'genre.': 1840, 'likable': 1841, 'girl,': 1842, 'kinda': 1843, 'treated': 1844, 'according': 1845, 'featuring': 1846, 'keeping': 1847, 'loud': 1848, 'porn': 1849, 'see.': 1850, 'superior': 1851, 'tim': 1852, 'attractive': 1853, 'captain': 1854, 'fred': 1855, 'grand': 1856, 'russian': 1857, 'so.': 1858, 'terribly': 1859, 'winning': 1860, '/>to': 1861, 'actresses': 1862, 'ago,': 1863, 'academy': 1864, 'animal': 1865, 'long,': 1866, 'right.': 1867, 'scenery': 1868, 'unusual': 1869, '90': 1870, 'al': 1871, 'count': 1872, 'disappointing': 1873, 'addition': 1874, 'boss': 1875, 'discover': 1876, 'dreams': 1877, 'jason': 1878, 'mixed': 1879, 'phone': 1880, 'somebody': 1881, 'week': 1882, 'dealing': 1883, 'door': 1884, 'dvd.': 1885, 'ed': 1886, 'mistake': 1887, 'okay': 1888, 'prove': 1889, 'returns': 1890, 'uncle': 1891, 'cgi': 1892, 'flick.': 1893, 'normally': 1894, 'soul': 1895, 'unbelievable': 1896, '6': 1897, 'emotion': 1898, 'loses': 1899, 'rape': 1900, 'together,': 1901, '/>while': 1902, 'anybody': 1903, 'finish': 1904, 'international': 1905, 'joan': 1906, 'justice': 1907, 'news': 1908, 'responsible': 1909, 'summer': 1910, \"they've\": 1911, 'thin': 1912, \"/>i'm\": 1913, 'point.': 1914, 'recommended': 1915, 'wooden': 1916, '?': 1917, 'angry': 1918, 'fun,': 1919, 'genuinely': 1920, 'lies': 1921, 'original.': 1922, 'pain': 1923, 'relationships': 1924, 'understanding': 1925, \"we've\": 1926, 'woods': 1927, 'americans': 1928, 'are,': 1929, 'arthur': 1930, 'arts': 1931, 'father,': 1932, 'originally': 1933, 'portray': 1934, 'bar': 1935, 'current': 1936, 'deals': 1937, 'dying': 1938, 'scientist': 1939, 'therefore': 1940, '100': 1941, '40': 1942, 'bond': 1943, 'danny': 1944, 'desire': 1945, 'european': 1946, 'night,': 1947, \"one's\": 1948, 'teen': 1949, 'affair': 1950, 'hopes': 1951, 'okay,': 1952, 'remarkable': 1953, 'adults': 1954, 'allows': 1955, 'childhood': 1956, 'criminal': 1957, 'jeff': 1958, 'mind.': 1959, 'psychological': 1960, 'saved': 1961, 'scared': 1962, 'sheer': 1963, 'soldier': 1964, 'with,': 1965, 'agent': 1966, 'andy': 1967, 'aware': 1968, 'grew': 1969, 'unable': 1970, 'content': 1971, 'expectations': 1972, 'finest': 1973, 'low-budget': 1974, 'proved': 1975, 'ultimate': 1976, 'allen': 1977, 'finished': 1978, 'location': 1979, 'private': 1980, 'race': 1981, 'surprising': 1982, 'them.<br': 1983, 'traditional': 1984, 'alive': 1985, 'bed': 1986, 'brutal': 1987, 'continues': 1988, 'forgotten': 1989, 'numbers': 1990, 'opera': 1991, 'pop': 1992, 'short,': 1993, 'suspect': 1994, 'wrong,': 1995, 'cliché': 1996, 'club': 1997, \"director's\": 1998, 'discovers': 1999, 'eat': 2000, 'eddie': 2001, 'gonna': 2002, 'hits': 2003, 'moments,': 2004, 'regular': 2005, 'today.': 2006, '(for': 2007, 'epic': 2008, 'kevin': 2009, 'learned': 2010, 'lighting': 2011, 'loving': 2012, 'opens': 2013, 'shocking': 2014, 'boyfriend': 2015, 'date': 2016, 'dressed': 2017, 'mom': 2018, 'music.': 2019, 'page': 2020, 'seconds': 2021, 'see,': 2022, 'breaks': 2023, 'confusing': 2024, 'fan,': 2025, 'guy,': 2026, 'happening': 2027, 'lord': 2028, 'noticed': 2029, 'bigger': 2030, 'calls': 2031, 'dangerous': 2032, 'dirty': 2033, 'faces': 2034, 'gene': 2035, 'met': 2036, 'plane': 2037, 'twice': 2038, 'victims': 2039, 'yeah,': 2040, 'cops': 2041, 'driving': 2042, 'johnny': 2043, 'performances,': 2044, 'through.': 2045, 'majority': 2046, 'right,': 2047, 'screen,': 2048, 'to,': 2049, '(played': 2050, 'hospital': 2051, 'jump': 2052, 'nick': 2053, 'saving': 2054, 'utter': 2055, \"70's\": 2056, 'bits': 2057, 'forces': 2058, 'grace': 2059, 'holes': 2060, 'jean': 2061, 'land': 2062, 'radio': 2063, 'ugly': 2064, 'event': 2065, 'friends,': 2066, 'painfully': 2067, 'practically': 2068, 'steal': 2069, 'awful,': 2070, 'caused': 2071, 'essentially': 2072, 'garbage': 2073, 'higher': 2074, 'manner': 2075, 'necessary': 2076, 'overly': 2077, 'soap': 2078, 'visit': 2079, 'adam': 2080, 'collection': 2081, 'creature': 2082, 'design': 2083, 'ending,': 2084, 'reach': 2085, 'treat': 2086, 'unknown': 2087, 'creates': 2088, 'dies': 2089, 'fail': 2090, 'media': 2091, 'sign': 2092, 'conclusion': 2093, 'genuine': 2094, 'golden': 2095, 'pleasure': 2096, 'received': 2097, 'apartment': 2098, 'festival': 2099, 'paris': 2100, 'stone': 2101, 'captured': 2102, 'commentary': 2103, 'delightful': 2104, 'direction,': 2105, 'drama,': 2106, 'filmmaker': 2107, 'judge': 2108, 'mike': 2109, 'movie?': 2110, 'nicely': 2111, 'personality': 2112, '(although': 2113, '(but': 2114, '(even': 2115, 'crappy': 2116, 'dick': 2117, 'discovered': 2118, 'entertaining.': 2119, 'more,': 2120, 'system': 2121, 'teacher': 2122, 'area': 2123, 'connection': 2124, 'douglas': 2125, 'enough.': 2126, 'heads': 2127, 'himself,': 2128, 'industry': 2129, 'intriguing': 2130, 'involves': 2131, 'like,': 2132, 'native': 2133, 'performances.': 2134, 'prince': 2135, 'relate': 2136, 'sean': 2137, 'who,': 2138, 'witch': 2139, '/': 2140, 'ancient': 2141, 'anthony': 2142, 'energy': 2143, 'reviewers': 2144, 'states': 2145, 'effects.': 2146, 'food': 2147, 'foreign': 2148, 'lacking': 2149, 'occasionally': 2150, 'tears': 2151, 'watching.': 2152, 'described': 2153, 'jimmy': 2154, 'largely': 2155, 'learns': 2156, 'national': 2157, 'night.': 2158, 'twenty': 2159, 'williams': 2160, 'capable': 2161, 'develop': 2162, 'done,': 2163, 'job,': 2164, 'pacing': 2165, 'ran': 2166, 'sight': 2167, 'spanish': 2168, 'unnecessary': 2169, '/>overall,': 2170, 'asking': 2171, 'bright': 2172, 'death.': 2173, 'detail': 2174, 'fill': 2175, 'fox': 2176, 'history.': 2177, 'laughable': 2178, 'loose': 2179, 'money,': 2180, 'picture.': 2181, 'queen': 2182, 'stock': 2183, 'actions': 2184, 'blonde': 2185, 'broken': 2186, 'deserved': 2187, \"here's\": 2188, 'house.': 2189, 'joy': 2190, 'action.': 2191, 'ago.': 2192, 'itself,': 2193, 'portraying': 2194, 'roles.': 2195, 'tend': 2196, ':': 2197, 'away,': 2198, 'believes': 2199, 'bob': 2200, 'captures': 2201, 'clothes': 2202, 'intelligence': 2203, 'passion': 2204, 'proper': 2205, 'quiet': 2206, 'ship': 2207, 'tragedy': 2208, 'wide': 2209, 'below': 2210, 'choose': 2211, 'davis': 2212, 'empty': 2213, 'fights': 2214, 'long.': 2215, 'months': 2216, 'pair': 2217, 'part.': 2218, 'portrays': 2219, 'standing': 2220, '/>you': 2221, 'around.': 2222, 'boy,': 2223, 'classic.': 2224, 'cross': 2225, 'engaging': 2226, 'fat': 2227, 'gary': 2228, 'ground': 2229, 'issue': 2230, 'lover': 2231, 'place,': 2232, 'remembered': 2233, 'ring': 2234, 'kate': 2235, 'others.': 2236, 'screaming': 2237, 'theatre': 2238, 'combination': 2239, 'director.': 2240, 'knowledge': 2241, 'losing': 2242, 'powers': 2243, 'record': 2244, 'strongly': 2245, 'absurd': 2246, 'ann': 2247, 'assume': 2248, 'bringing': 2249, 'folks': 2250, 'unexpected': 2251, 'vhs': 2252, 'virtually': 2253, 'walks': 2254, 'war,': 2255, 'curious': 2256, 'endless': 2257, 'gangster': 2258, 'graphic': 2259, 'hearing': 2260, 'jackson': 2261, 'over.': 2262, 'passed': 2263, 'roll': 2264, 'station': 2265, 'steals': 2266, 'violence,': 2267, 'actor.': 2268, 'blind': 2269, 'death,': 2270, 'explanation': 2271, 'flaws': 2272, 'flicks': 2273, 'gem': 2274, 'home,': 2275, 'itself.': 2276, 'jones': 2277, 'kick': 2278, 'ordinary': 2279, 'steven': 2280, 'study': 2281, 'sudden': 2282, 'wedding': 2283, 'why?': 2284, 'brilliantly': 2285, 'built': 2286, 'crap.': 2287, 'eating': 2288, 'gratuitous': 2289, 'grow': 2290, 'included': 2291, 'mouth': 2292, 'awkward': 2293, 'emotionally': 2294, 'humans': 2295, 'produce': 2296, 'reason,': 2297, 'send': 2298, 'vision': 2299, 'cameo': 2300, 'down,': 2301, 'him.<br': 2302, 'meeting': 2303, 'memories': 2304, 'ruined': 2305, 'sell': 2306, 'stopped': 2307, '/>not': 2308, 'anything.': 2309, 'destroy': 2310, 'grown': 2311, 'heroes': 2312, 'humor,': 2313, 'initial': 2314, 'memory': 2315, 'nightmare': 2316, 'pilot': 2317, 'price': 2318, 'relatively': 2319, 'reviewer': 2320, 'convinced': 2321, 'delivered': 2322, 'eric': 2323, 'magnificent': 2324, 'players': 2325, 'references': 2326, 'remain': 2327, 'smile': 2328, 'bank': 2329, 'beautiful,': 2330, 'bet': 2331, 'bland': 2332, 'ever,': 2333, 'fits': 2334, 'legend': 2335, 'park': 2336, 'santa': 2337, 'style,': 2338, 'theatrical': 2339, 'travel': 2340, 'visually': 2341, '****': 2342, 'faith': 2343, 'jennifer': 2344, 'morgan': 2345, 'rob': 2346, 'son,': 2347, 'suit': 2348, 'till': 2349, 'worse.': 2350, '\"what': 2351, '(though': 2352, '/>at': 2353, '/>even': 2354, 'castle': 2355, 'claim': 2356, 'days.': 2357, 'holding': 2358, 'lines,': 2359, 'marry': 2360, 'miles': 2361, 'obsessed': 2362, 'pretentious': 2363, 'serves': 2364, 'stupid,': 2365, 'today,': 2366, 'united': 2367, 'artist': 2368, 'asian': 2369, 'horribly': 2370, 'lives.': 2371, 'seriously,': 2372, 'sing': 2373, 'spoil': 2374, 'superman': 2375, 'taylor': 2376, 'wall': 2377, 'war.': 2378, '50': 2379, 'about,': 2380, 'hanging': 2381, 'least,': 2382, 'murdered': 2383, 'rise': 2384, 'stars.': 2385, 'suffers': 2386, 'around,': 2387, 'barbara': 2388, 'conflict': 2389, 'cuts': 2390, 'horse': 2391, 'insult': 2392, 'joseph': 2393, 'ladies': 2394, 'sense,': 2395, 'sleep': 2396, 'themselves.': 2397, 'chosen': 2398, 'drunk': 2399, 'games': 2400, 'latest': 2401, 'length': 2402, 'loss': 2403, 'pleasant': 2404, 'spoilers': 2405, 'terrible,': 2406, 'torture': 2407, 'which,': 2408, 'year.': 2409, '(especially': 2410, 'accurate': 2411, 'back,': 2412, 'reaction': 2413, 'talks': 2414, 'underrated': 2415, \"would've\": 2416, '/>however,': 2417, '/>now': 2418, '/>some': 2419, 'budget,': 2420, 'cage': 2421, 'canadian': 2422, 'drew': 2423, 'hide': 2424, 'machine': 2425, 'nominated': 2426, 'well.<br': 2427, 'worse,': 2428, '/>after': 2429, '/>on': 2430, 'anyway.': 2431, 'cant': 2432, 'chose': 2433, 'does.': 2434, 'finally,': 2435, 'indeed,': 2436, 'kong': 2437, 'ruin': 2438, 'strength': 2439, 'us.': 2440, 'viewed': 2441, 'woody': 2442, 'anywhere': 2443, 'cinema,': 2444, 'drugs': 2445, 'moments.': 2446, 'occasional': 2447, 'talents': 2448, 'u.s.': 2449, 'unfortunate': 2450, 'walked': 2451, 'contemporary': 2452, 'flick,': 2453, 'lesson': 2454, 'provided': 2455, 'range': 2456, 'realizes': 2457, 'rescue': 2458, 'suffering': 2459, 'tarzan': 2460, 'test': 2461, 'lower': 2462, 'lucky': 2463, 'post': 2464, 'presents': 2465, 'production.': 2466, 'remotely': 2467, 'scare': 2468, 'sky': 2469, 'versions': 2470, '12': 2471, 'disappointment': 2472, 'dvd,': 2473, 'heroine': 2474, 'morning': 2475, 'officer': 2476, 'player': 2477, 'reason.': 2478, 'suicide': 2479, 'version,': 2480, '/>of': 2481, 'cable': 2482, 'gags': 2483, 'humorous': 2484, 'imagination': 2485, 'individual': 2486, 'opposite': 2487, 'partner': 2488, 'sadly,': 2489, 'spends': 2490, 'types': 2491, 'very,': 2492, 'writing,': 2493, ')': 2494, 'are.': 2495, 'author': 2496, 'cinematography,': 2497, 'downright': 2498, 'excited': 2499, 'football': 2500, 'jackie': 2501, 'kinds': 2502, 'massive': 2503, 'multiple': 2504, 'old,': 2505, 'one.<br': 2506, 'tiny': 2507, 'us,': 2508, 'wars': 2509, '(he': 2510, 'australian': 2511, 'convince': 2512, 'depicted': 2513, 'drama.': 2514, 'edited': 2515, 'featured': 2516, 'inner': 2517, 'jesus': 2518, 'keaton': 2519, 'nothing.': 2520, 'of.': 2521, 'own.': 2522, 'pile': 2523, 'process': 2524, 'revealed': 2525, 'sex,': 2526, 'story.<br': 2527, 'struggling': 2528, 'unfunny': 2529, 'vehicle': 2530, '(it': 2531, 'closer': 2532, 'draw': 2533, 'experience.': 2534, 'ford': 2535, 'genre,': 2536, 'hong': 2537, 'ice': 2538, 'repeated': 2539, 'results': 2540, 'villains': 2541, 'claims': 2542, 'decision': 2543, 'line,': 2544, 'lovers': 2545, 'pulls': 2546, 'stupid.': 2547, 'wise': 2548, '/>then': 2549, 'all.<br': 2550, 'commercial': 2551, 'dan': 2552, 'debut': 2553, 'disaster': 2554, 'explained': 2555, 'field': 2556, 'program': 2557, 'roger': 2558, 'satire': 2559, 'simon': 2560, 'thomas': 2561, 'victor': 2562, 'werewolf': 2563, '/>that': 2564, 'albert': 2565, 'clichés': 2566, 'covered': 2567, 'freddy': 2568, 'know.': 2569, 'plots': 2570, 'recognize': 2571, 'saturday': 2572, 'things.': 2573, 'unlikely': 2574, 'accidentally': 2575, 'community': 2576, 'context': 2577, 'episode.': 2578, 'mission': 2579, 'parody': 2580, 'skills': 2581, 'soft': 2582, 'something.': 2583, 'speaks': 2584, 'survive': 2585, \"/>don't\": 2586, 'episode,': 2587, 'exact': 2588, 'explains': 2589, 'focuses': 2590, 'haunting': 2591, \"he'd\": 2592, 'matt': 2593, 'me.<br': 2594, 'paying': 2595, 'reveals': 2596, 'source': 2597, 'walter': 2598, 'whoever': 2599, '(at': 2600, '/>another': 2601, 'beginning,': 2602, 'dated': 2603, 'evidence': 2604, 'grade': 2605, 'haunted': 2606, 'humor.': 2607, 'leader': 2608, 'lousy': 2609, 'naive': 2610, 'owner': 2611, 'recall': 2612, 'ridiculous.': 2613, 'river': 2614, 'segment': 2615, 'shallow': 2616, 'sports': 2617, 'streets': 2618, 'village': 2619, 'directly': 2620, 'favor': 2621, 'friendship': 2622, 'identity': 2623, 'influence': 2624, 'mind,': 2625, 'offered': 2626, 'robin': 2627, 'shot,': 2628, 'stayed': 2629, 'stuff.': 2630, 'think,': 2631, 'vote': 2632, 'vs.': 2633, '/>we': 2634, 'audience,': 2635, 'baseball': 2636, 'children,': 2637, 'days,': 2638, 'deadly': 2639, 'fashion': 2640, 'forever': 2641, 'friends.': 2642, 'gory': 2643, 'irish': 2644, 'legendary': 2645, 'mere': 2646, 'plans': 2647, 'seriously.': 2648, 'spite': 2649, 'stays': 2650, 'advice': 2651, 'and/or': 2652, 'bear': 2653, 'cars': 2654, 'center': 2655, 'chief': 2656, 'clue': 2657, 'dark,': 2658, 'exploitation': 2659, 'fate': 2660, 'instead.': 2661, 'luke': 2662, 'model': 2663, 'of,': 2664, 'realism': 2665, 'veteran': 2666, 'board': 2667, 'broadway': 2668, 'dubbed': 2669, 'figured': 2670, 'first.': 2671, 'handled': 2672, 'handsome': 2673, 'hilarious.': 2674, 'howard': 2675, 'tv.': 2676, 'von': 2677, 'cost': 2678, 'daniel': 2679, 'drop': 2680, 'else,': 2681, 'facial': 2682, 'fu': 2683, 'guns': 2684, 'hired': 2685, 'louis': 2686, 'monsters': 2687, 'necessarily': 2688, 'research': 2689, 'trek': 2690, 'appropriate': 2691, 'ball': 2692, 'behavior': 2693, 'contrast': 2694, 'cutting': 2695, 'designed': 2696, 'excellent.': 2697, 'fly': 2698, 'heavily': 2699, 'president': 2700, 'sheriff': 2701, 'shop': 2702, 'touches': 2703, 'true,': 2704, 'witty': 2705, 'amateur': 2706, 'depressing': 2707, 'did,': 2708, 'dozen': 2709, 'excellent,': 2710, 'exist': 2711, 'focused': 2712, 'friend,': 2713, 'gold': 2714, 'home.': 2715, 'possible.': 2716, 'regret': 2717, 'reminiscent': 2718, 'reveal': 2719, 'shocked': 2720, 'sounded': 2721, 'sympathetic': 2722, 'this.<br': 2723, '/>with': 2724, 'attitude': 2725, 'desperately': 2726, 'donald': 2727, 'greater': 2728, 'hopefully': 2729, 'patrick': 2730, 'spectacular': 2731, 'alex': 2732, 'anime': 2733, 'anne': 2734, 'breaking': 2735, 'buying': 2736, 'combined': 2737, \"father's\": 2738, 'foot': 2739, 'lesbian': 2740, \"people's\": 2741, 'round': 2742, 'scream': 2743, 'significant': 2744, 'standards': 2745, 'treatment': 2746, 'young,': 2747, 'accident': 2748, 'african': 2749, 'bothered': 2750, 'career.': 2751, \"could've\": 2752, 'entertainment.': 2753, 'gore,': 2754, 'mother,': 2755, 'mrs.': 2756, 'north': 2757, 'notorious': 2758, 'others,': 2759, 'prior': 2760, 'things,': 2761, 'words,': 2762, 'youth': 2763, 'amazed': 2764, 'corny': 2765, 'daughter,': 2766, 'depiction': 2767, 'dreadful': 2768, 'enter': 2769, 'experienced': 2770, 'formula': 2771, 'guilty': 2772, 'mainstream': 2773, 'san': 2774, 'security': 2775, 'supernatural': 2776, 'this?': 2777, 'trapped': 2778, 'warning': 2779, 'actually,': 2780, 'appealing': 2781, 'drag': 2782, 'edward': 2783, 'embarrassing': 2784, 'express': 2785, 'girl.': 2786, 'guy.': 2787, 'horrible.': 2788, 'ii': 2789, 'logic': 2790, 'mess.': 2791, 'over,': 2792, 'passing': 2793, 'placed': 2794, 'roy': 2795, 'starred': 2796, 'training': 2797, 'washington': 2798, 'abandoned': 2799, 'awards': 2800, 'halfway': 2801, 'helping': 2802, 'hitler': 2803, 'join': 2804, 'picks': 2805, 'speed': 2806, 'buddy': 2807, 'costume': 2808, 'fictional': 2809, 'irritating': 2810, 'listening': 2811, 'nancy': 2812, 'over-the-top': 2813, 'previously': 2814, 'roles,': 2815, 'singer': 2816, 'universal': 2817, 'voices': 2818, 'wit': 2819, 'beloved': 2820, 'chick': 2821, 'dry': 2822, 'magical': 2823, 'moon': 2824, 'novel,': 2825, 'purely': 2826, 'seek': 2827, 'throws': 2828, 'urban': 2829, 'wear': 2830, 'wind': 2831, 'women,': 2832, 'actress,': 2833, 'carries': 2834, 'changing': 2835, 'committed': 2836, 'display': 2837, 'faithful': 2838, 'grant': 2839, 'insane': 2840, 'required': 2841, 'warm': 2842, 'witness': 2843, 'wood': 2844, 'blown': 2845, 'children.': 2846, 'decade': 2847, 'fairy': 2848, 'fault': 2849, 'horror,': 2850, 'kim': 2851, 'laugh.': 2852, 'paint': 2853, 'prefer': 2854, 'prime': 2855, 'real.': 2856, 'regarding': 2857, 'so-called': 2858, 'suffer': 2859, 'sympathy': 2860, 'throwing': 2861, '(including': 2862, 'carried': 2863, 'efforts': 2864, 'feet': 2865, 'laugh,': 2866, 'locations': 2867, 'mine': 2868, 'oliver': 2869, 'prepared': 2870, 'rose': 2871, 'serve': 2872, 'slow,': 2873, 'stolen': 2874, 'version.': 2875, 'watchable': 2876, 'brother,': 2877, 'cash': 2878, \"children's\": 2879, 'face.': 2880, 'false': 2881, 'ignore': 2882, 'kids,': 2883, 'nude': 2884, 'out.<br': 2885, 'refreshing': 2886, 'renting': 2887, 'reporter': 2888, 'via': 2889, 'adding': 2890, 'amongst': 2891, 'attempting': 2892, 'clean': 2893, 'driven': 2894, 'eight': 2895, 'enjoying': 2896, 'instance,': 2897, 'kung': 2898, 'lynch': 2899, 'matters': 2900, 'men,': 2901, 'mexican': 2902, 'pity': 2903, 'product': 2904, 'protagonist': 2905, 'technology': 2906, 'tv,': 2907, 'wayne': 2908, '/>so,': 2909, 'another.': 2910, 'carrying': 2911, 'convey': 2912, 'deeper': 2913, 'dull,': 2914, 'flashbacks': 2915, 'for,': 2916, 'humanity': 2917, 'marie': 2918, 'perspective': 2919, 'predictable,': 2920, 'stars,': 2921, 'surreal': 2922, 'tape': 2923, 'that.<br': 2924, 'way.<br': 2925, 'why.': 2926, 'closing': 2927, 'critical': 2928, 'cultural': 2929, 'finale': 2930, 'frame': 2931, 'indie': 2932, 'insight': 2933, 'kids.': 2934, 'learning': 2935, 'luck': 2936, 'movie:': 2937, 'remind': 2938, 'sake': 2939, 'satisfying': 2940, 'twisted': 2941, 'wears': 2942, '/>-': 2943, \"/>there's\": 2944, 'another,': 2945, 'blow': 2946, 'brave': 2947, 'crying': 2948, 'devil': 2949, 'experiences': 2950, 'film-making': 2951, 'floor': 2952, 'fourth': 2953, 'freedom': 2954, 'priest': 2955, 'production,': 2956, 'raised': 2957, 'say.': 2958, 'touched': 2959, 'variety': 2960, 'while,': 2961, 'wife.': 2962, 'woman.': 2963, 'anna': 2964, 'calling': 2965, 'comparison': 2966, 'facts': 2967, 'fallen': 2968, 'film!': 2969, 'film?': 2970, 'flesh': 2971, 'max': 2972, 'parker': 2973, 'past,': 2974, 'performed': 2975, 'promising': 2976, 'protect': 2977, '2.': 2978, '80s': 2979, 'boat': 2980, 'columbo': 2981, 'concerned': 2982, 'contain': 2983, 'here.<br': 2984, 'highlight': 2985, 'hunt': 2986, 'lake': 2987, 'relief': 2988, 'school,': 2989, 'sinatra': 2990, 'target': 2991, 'texas': 2992, 'visuals': 2993, 'anything,': 2994, 'england': 2995, 'entertaining,': 2996, 'families': 2997, 'happened.': 2998, 'japan': 2999, 'jumps': 3000, 'mildly': 3001, 'raise': 3002, 'ron': 3003, 'school.': 3004, 'throughout.': 3005, 'adventures': 3006, 'amazingly': 3007, 'anyway': 3008, 'causes': 3009, 'classics': 3010, 'contrived': 3011, 'desert': 3012, 'father.': 3013, 'figures': 3014, 'game.': 3015, 'harris': 3016, 'life.<br': 3017, 'lonely': 3018, 'make-up': 3019, 'picture,': 3020, 'professor': 3021, 'proud': 3022, 'replaced': 3023, 'revolves': 3024, 'true.': 3025, 'understood': 3026, 'warn': 3027, '\"you': 3028, '/>although': 3029, 'determined': 3030, 'disgusting': 3031, 'end.<br': 3032, 'god,': 3033, 'heart.': 3034, 'makeup': 3035, 'notable': 3036, 'rental': 3037, 'seasons': 3038, 'spoiler': 3039, '(one': 3040, 'account': 3041, 'dead,': 3042, 'dean': 3043, 'head.': 3044, 'heck': 3045, 'hey,': 3046, 'invisible': 3047, 'print': 3048, 'quest': 3049, 'safe': 3050, 'side,': 3051, 'spy': 3052, 'stereotypes': 3053, 'teenagers': 3054, 'uk': 3055, 'wasting': 3056, 'what?': 3057, '/>first': 3058, '11': 3059, \"ain't\": 3060, 'bourne': 3061, 'correct': 3062, 'creatures': 3063, 'daily': 3064, 'drives': 3065, 'effectively': 3066, 'fool': 3067, 'forgot': 3068, 'glimpse': 3069, 'halloween': 3070, 'harsh': 3071, 'julie': 3072, 'lawyer': 3073, 'no.': 3074, 'princess': 3075, 'sorts': 3076, 'victoria': 3077, 'weeks': 3078, 'welles': 3079, 'achieve': 3080, 'amateurish': 3081, 'believed': 3082, 'brad': 3083, 'city,': 3084, 'continuity': 3085, 'dollar': 3086, 'erotic': 3087, 'handle': 3088, 'heaven': 3089, 'later.': 3090, 'rip': 3091, 'russell': 3092, 'sold': 3093, 'southern': 3094, 'thoughts': 3095, '(this': 3096, 'crowd': 3097, 'executed': 3098, 'existence': 3099, 'fans.': 3100, 'history,': 3101, 'locked': 3102, 'mentally': 3103, 'moore': 3104, 'score,': 3105, 'sea': 3106, 'shakespeare': 3107, 'site': 3108, 'suffered': 3109, 'town.': 3110, 'warner': 3111, 'window': 3112, 'birth': 3113, 'bodies': 3114, 'lot.': 3115, 'mature': 3116, 'medical': 3117, 'skin': 3118, 'speech': 3119, 'stereotypical': 3120, 'succeeds': 3121, 'year,': 3122, 'again.<br': 3123, 'consists': 3124, 'dennis': 3125, 'direction.': 3126, 'embarrassed': 3127, 'encounter': 3128, 'excitement': 3129, 'generation': 3130, 'julia': 3131, 'metal': 3132, 'powell': 3133, 'rolling': 3134, 'sensitive': 3135, 'sharp': 3136, 'teenager': 3137, '/>anyway,': 3138, '25': 3139, 'complicated': 3140, 'conversation': 3141, 'go.': 3142, 'laughter': 3143, 'lesser': 3144, 'mask': 3145, 'rachel': 3146, 'served': 3147, 'sinister': 3148, 'sleeping': 3149, 'that?': 3150, 'asleep': 3151, 'everyday': 3152, 'inept': 3153, 'interview': 3154, 'myself,': 3155, 'offensive': 3156, 'refuses': 3157, 'related': 3158, 'section': 3159, 'seeking': 3160, 'underground': 3161, '70s': 3162, 'abuse': 3163, 'attacked': 3164, 'bbc': 3165, 'bollywood': 3166, 'bomb': 3167, 'camera.': 3168, 'destroyed': 3169, 'essential': 3170, 'evening': 3171, 'eyes,': 3172, 'fabulous': 3173, 'initially': 3174, 'jewish': 3175, 'jon': 3176, 'letting': 3177, 'naturally': 3178, 'perfect.': 3179, 'propaganda': 3180, 'reference': 3181, 'riding': 3182, 'rough': 3183, 'sum': 3184, 'tied': 3185, \"woman's\": 3186, '(that': 3187, 'cinderella': 3188, 'clips': 3189, 'extraordinary': 3190, 'horrible,': 3191, 'hundreds': 3192, 'infamous': 3193, 'intellectual': 3194, 'leslie': 3195, 'level.': 3196, 'mountain': 3197, 'separate': 3198, 'sir': 3199, 'views': 3200, 'annoying.': 3201, 'child.': 3202, 'crude': 3203, 'delivery': 3204, 'different.': 3205, 'dislike': 3206, 'examples': 3207, 'friday': 3208, 'hundred': 3209, 'introduction': 3210, 'mgm': 3211, 'mistakes': 3212, 'remote': 3213, 'saves': 3214, 'seat': 3215, 'sequels': 3216, 'service': 3217, 'struggles': 3218, 'sunday': 3219, 'thousands': 3220, 'vampires': 3221, 'works.': 3222, 'written,': 3223, 'alone.': 3224, 'degree': 3225, 'established': 3226, 'failure': 3227, 'garbage.': 3228, 'hall': 3229, 'hill': 3230, 'ill': 3231, 'nazi': 3232, 'ones.': 3233, 'past.': 3234, 'qualities': 3235, 'searching': 3236, 'sends': 3237, 'shot.': 3238, 'something,': 3239, 'tedious': 3240, '\"this': 3241, 'adapted': 3242, 'appreciated': 3243, 'core': 3244, 'dialogue.': 3245, 'fan.': 3246, 'fans,': 3247, 'forth': 3248, 'friendly': 3249, 'gas': 3250, 'gordon': 3251, 'greatly': 3252, 'larry': 3253, 'league': 3254, 'overcome': 3255, 'path': 3256, 'reputation': 3257, 'ryan': 3258, 'sucked': 3259, 'ways,': 3260, 'welcome': 3261, 'whereas': 3262, '14': 3263, 'amazing.': 3264, 'case.': 3265, 'checking': 3266, 'concerns': 3267, 'cruel': 3268, 'dogs': 3269, 'editing,': 3270, 'frequently': 3271, 'future.': 3272, 'hint': 3273, 'jessica': 3274, 'on.<br': 3275, 'recommended.': 3276, 'regard': 3277, 'stops': 3278, 'unrealistic': 3279, 'wealthy': 3280, 'act.': 3281, 'b-movie': 3282, 'believable.': 3283, 'burt': 3284, 'challenge': 3285, 'dealt': 3286, 'forest': 3287, 'gruesome': 3288, 'interest.': 3289, 'needless': 3290, 'nonsense': 3291, 'opened': 3292, 'otherwise,': 3293, 'play,': 3294, 'play.': 3295, 'predictable.': 3296, 'rubbish': 3297, 'sarah': 3298, 'sidney': 3299, 'statement': 3300, 'violence.': 3301, 'women.': 3302, 'wonderful.': 3303, 'angel': 3304, 'bette': 3305, 'campy': 3306, 'cares': 3307, 'child,': 3308, 'civil': 3309, 'description': 3310, 'drinking': 3311, 'happen.': 3312, 'is.<br': 3313, 'mass': 3314, 'perform': 3315, 'person,': 3316, 'position': 3317, 'robot': 3318, 'routine': 3319, 'style.': 3320, 'through,': 3321, 'torn': 3322, 'town,': 3323, '(of': 3324, 'broke': 3325, 'brown': 3326, 'candy': 3327, 'career,': 3328, 'device': 3329, 'dragged': 3330, 'foster': 3331, 'gritty': 3332, 'hunter': 3333, 'lights': 3334, 'murphy': 3335, 'pointed': 3336, 'poor,': 3337, 'quality.': 3338, 'raw': 3339, 'rules': 3340, 'stories,': 3341, 'susan': 3342, 'sword': 3343, 'ted': 3344, 'whatsoever.': 3345, 'angles': 3346, 'anymore.': 3347, 'arrives': 3348, 'blood,': 3349, 'bound': 3350, 'busy': 3351, 'criticism': 3352, 'deaths': 3353, 'expert': 3354, 'face,': 3355, 'frankly': 3356, 'interpretation': 3357, 'lisa': 3358, 'market': 3359, 'michelle': 3360, 'mindless': 3361, 'minds': 3362, 'ned': 3363, 'physically': 3364, 'portrait': 3365, 'psycho': 3366, 'rights': 3367, 'sisters': 3368, 'stood': 3369, 'suspenseful': 3370, 'teach': 3371, 'title,': 3372, 'u': 3373, 'anderson': 3374, 'ashamed': 3375, 'connected': 3376, 'countless': 3377, 'escapes': 3378, 'gain': 3379, 'horrific': 3380, 'husband,': 3381, 'killers': 3382, 'please,': 3383, 'promise': 3384, 'strangely': 3385, 'successfully': 3386, 'surrounding': 3387, '10/10': 3388, 'artists': 3389, 'associated': 3390, 'claire': 3391, 'clichéd': 3392, 'cynical': 3393, 'dialog,': 3394, 'entertain': 3395, 'execution': 3396, 'extras': 3397, 'factor': 3398, 'honest,': 3399, 'interviews': 3400, 'lines.': 3401, 'material.': 3402, 'mob': 3403, 'moment,': 3404, 'plastic': 3405, 'religion': 3406, 'ripped': 3407, 'sleazy': 3408, 'solve': 3409, 'spending': 3410, 'spoof': 3411, 'stanley': 3412, 'suspense,': 3413, 'then.': 3414, 'wishes': 3415, ':)': 3416, 'answers': 3417, 'ass': 3418, 'base': 3419, 'bo': 3420, 'dead.': 3421, 'develops': 3422, 'go,': 3423, 'j.': 3424, 'jr.': 3425, 'lazy': 3426, 'levels': 3427, 'marvelous': 3428, 'meanwhile,': 3429, 'old.': 3430, 'par': 3431, 'person.': 3432, 'politics': 3433, 'praise': 3434, 'really.': 3435, 'rings': 3436, 'sad,': 3437, 'sets,': 3438, 'shines': 3439, 'skill': 3440, 'spoken': 3441, 'theory': 3442, \"they'd\": 3443, 'thousand': 3444, 'tons': 3445, 'troubled': 3446, 'video.': 3447, '/>from': 3448, 'attempted': 3449, 'breath': 3450, 'bus': 3451, 'catholic': 3452, 'disappointment.': 3453, 'either,': 3454, 'ensemble': 3455, 'fbi': 3456, 'freeman': 3457, 'increasingly': 3458, 'inspector': 3459, 'ironic': 3460, 'kurt': 3461, 'lion': 3462, 'narration': 3463, 'once,': 3464, 'opinion.': 3465, 'own,': 3466, 'shoots': 3467, 'slapstick': 3468, 'structure': 3469, 'usual,': 3470, 'believing': 3471, 'bettie': 3472, 'classic,': 3473, 'elizabeth': 3474, 'flashback': 3475, 'game,': 3476, 'hang': 3477, 'hat': 3478, 'idea.': 3479, 'maria': 3480, 'millions': 3481, 'nudity,': 3482, 'obsession': 3483, 'or,': 3484, 'pregnant': 3485, 'real,': 3486, 'surrounded': 3487, 'teens': 3488, 'thriller,': 3489, 'toy': 3490, 'upset': 3491, 'vietnam': 3492, '\"i\\'m': 3493, 'advantage': 3494, 'aged': 3495, 'allowing': 3496, 'anger': 3497, 'belongs': 3498, 'bitter': 3499, 'c.': 3500, 'caring': 3501, 'cartoons': 3502, 'cowboy': 3503, 'danger': 3504, 'episodes,': 3505, 'hoped': 3506, 'lewis': 3507, 'reality,': 3508, 'right?': 3509, 'storyline,': 3510, 'themselves,': 3511, 'trick': 3512, 'unconvincing': 3513, 'winner': 3514, \"world's\": 3515, 'accents': 3516, 'age,': 3517, 'ages': 3518, 'beautiful.': 3519, 'chance.': 3520, 'covers': 3521, 'entertained': 3522, 'expression': 3523, 'fare': 3524, 'good.<br': 3525, 'grows': 3526, 'happily': 3527, 'horror.': 3528, 'killer,': 3529, 'like.': 3530, 'lying': 3531, 'oil': 3532, 'per': 3533, 'ralph': 3534, 'shows.': 3535, 'sings': 3536, 'strictly': 3537, 'stylish': 3538, 'talent.': 3539, 'term': 3540, 'viewer.': 3541, 'wanna': 3542, 'wins': 3543, '/>by': 3544, 'alice': 3545, 'annoyed': 3546, 'balance': 3547, 'because,': 3548, 'chasing': 3549, 'city.': 3550, 'enemy': 3551, 'etc': 3552, 'evil,': 3553, 'flight': 3554, 'goofy': 3555, 'hiding': 3556, 'killer.': 3557, 'movement': 3558, 'nuclear': 3559, 'pet': 3560, 'pleasantly': 3561, 'realise': 3562, 'rule': 3563, 'says,': 3564, 'status': 3565, 'studios': 3566, 'suggests': 3567, 'surprises': 3568, 'tight': 3569, '/>well,': 3570, '1st': 3571, 'aunt': 3572, 'budget.': 3573, 'bugs': 3574, 'dress': 3575, 'enters': 3576, 'everyone.': 3577, 'far,': 3578, 'frightening': 3579, 'have.': 3580, 'network': 3581, 'philip': 3582, 'represents': 3583, 'split': 3584, 'steps': 3585, 'strikes': 3586, 'there.<br': 3587, 'tradition': 3588, 'tribute': 3589, 'uninteresting': 3590, 'accepted': 3591, 'colors': 3592, 'dollars': 3593, 'equal': 3594, 'flow': 3595, 'grim': 3596, 'hardy': 3597, 'homeless': 3598, 'identify': 3599, 'masterpiece.': 3600, 'navy': 3601, 'opposed': 3602, 'prevent': 3603, 'quirky': 3604, 'shadow': 3605, 'sorry,': 3606, 'striking': 3607, 'tales': 3608, 'treasure': 3609, '(no': 3610, '1.': 3611, 'andrew': 3612, 'appearing': 3613, 'cabin': 3614, 'cell': 3615, 'code': 3616, 'directorial': 3617, 'driver': 3618, 'dude': 3619, 'essence': 3620, 'handful': 3621, 'imagery': 3622, 'inspiration': 3623, 'jay': 3624, 'kid,': 3625, 'neat': 3626, 'nine': 3627, 'paper': 3628, 'repeat': 3629, 'requires': 3630, 'risk': 3631, 'rival': 3632, 'sequel.': 3633, '(except': 3634, 'aforementioned': 3635, 'attention.': 3636, 'bore': 3637, 'burns': 3638, 'chan': 3639, 'court': 3640, 'crash': 3641, 'emma': 3642, 'entertainment,': 3643, 'fifteen': 3644, 'funnier': 3645, 'germany': 3646, 'gotta': 3647, 'guessing': 3648, 'matter.': 3649, 'moment.': 3650, 'r': 3651, 'sexually': 3652, 'shut': 3653, 'specific': 3654, 'substance': 3655, 'technically': 3656, 'teeth': 3657, 'thriller.': 3658, 'uncomfortable': 3659, 'wondered': 3660, \"/>i've\": 3661, '10,': 3662, 'blockbuster': 3663, 'caine': 3664, 'comical': 3665, 'contact': 3666, 'courage': 3667, 'does,': 3668, 'enjoyable.': 3669, 'entry': 3670, 'europe': 3671, 'eyes.': 3672, 'forgive': 3673, 'idea,': 3674, 'look,': 3675, 'nice,': 3676, 'paced': 3677, 'pacino': 3678, 'problems,': 3679, 'profound': 3680, 'pulling': 3681, 'quote': 3682, 'release.': 3683, 'shall': 3684, 'shots,': 3685, 'slight': 3686, 'task': 3687, 'thought,': 3688, 'two.': 3689, '\"it\\'s': 3690, 'chances': 3691, 'chilling': 3692, 'everything.': 3693, 'girls,': 3694, 'head,': 3695, 'holiday': 3696, 'kicks': 3697, 'men.': 3698, 'noble': 3699, 'once.': 3700, 'performing': 3701, 'pitt': 3702, 'plus,': 3703, 'problem.': 3704, 'pushed': 3705, 'real-life': 3706, 'release,': 3707, 'rid': 3708, 'scary,': 3709, 'screening': 3710, 'silly,': 3711, 'stranger': 3712, 'struck': 3713, 'subsequent': 3714, 'talked': 3715, 'theaters': 3716, 'weekend': 3717, 'why,': 3718, 'wilson': 3719, '\"my': 3720, '(john': 3721, '(to': 3722, 'age.': 3723, 'arms': 3724, 'attracted': 3725, 'basis': 3726, 'beating': 3727, 'blair': 3728, 'clark': 3729, 'daughters': 3730, 'ghosts': 3731, 'graphics': 3732, 'heart,': 3733, 'her.<br': 3734, 'hero,': 3735, 'hitting': 3736, 'hollywood.': 3737, 'intensity': 3738, 'line.': 3739, 'lot,': 3740, 'lugosi': 3741, 'movies.<br': 3742, 'pat': 3743, 'remaining': 3744, 'romance,': 3745, 'sitcom': 3746, 'sole': 3747, 'stan': 3748, 'star.': 3749, 'stealing': 3750, 'television.': 3751, 'unforgettable': 3752, 'angle': 3753, 'authentic': 3754, 'brilliant,': 3755, 'circumstances': 3756, 'commit': 3757, 'criminals': 3758, 'drags': 3759, 'draws': 3760, 'expensive': 3761, 'hills': 3762, 'host': 3763, 'mid': 3764, 'murder,': 3765, 'object': 3766, 'partly': 3767, 'period.': 3768, 'reasonably': 3769, \"show's\": 3770, 'shower': 3771, 'star,': 3772, \"they'll\": 3773, 'too.<br': 3774, 'topic': 3775, 'tremendous': 3776, 'truck': 3777, 'wake': 3778, '/>he': 3779, '20th': 3780, 'aimed': 3781, 'bad.<br': 3782, 'brilliant.': 3783, 'cardboard': 3784, 'charismatic': 3785, 'controversial': 3786, 'definite': 3787, 'enjoy.': 3788, 'faced': 3789, 'flawed': 3790, 'guest': 3791, 'hell,': 3792, 'korean': 3793, 'parts,': 3794, 'picking': 3795, 'punch': 3796, 'racist': 3797, 'reactions': 3798, 'reed': 3799, 'silver': 3800, 'stretch': 3801, 'trilogy': 3802, 'video,': 3803, 'wonders': 3804, 'yourself.': 3805, 'anyone.': 3806, 'apparently,': 3807, 'attached': 3808, 'beach': 3809, 'car,': 3810, 'corrupt': 3811, 'demon': 3812, 'dropped': 3813, 'film;': 3814, 'grey': 3815, 'guys,': 3816, 'idiot': 3817, 'jokes,': 3818, 'jumping': 3819, 'lacked': 3820, 'laid': 3821, 'larger': 3822, 'lifetime': 3823, 'murderer': 3824, 'obnoxious': 3825, 'perfect,': 3826, 'proof': 3827, 'providing': 3828, 'reduced': 3829, 'society.': 3830, 'text': 3831, 'theater.': 3832, 'thrilling': 3833, 'two,': 3834, 'watches': 3835, 'ways.': 3836, '/>despite': 3837, 'achieved': 3838, 'aliens': 3839, 'at.': 3840, 'catherine': 3841, 'concerning': 3842, 'encounters': 3843, 'experiment': 3844, 'fame': 3845, 'france': 3846, 'gothic': 3847, 'hitchcock': 3848, 'hours.': 3849, 'kiss': 3850, 'matter,': 3851, 'melodrama': 3852, 'nevertheless,': 3853, 'packed': 3854, 'revealing': 3855, 'seagal': 3856, 'sequence,': 3857, 'sin': 3858, 'thumbs': 3859, 'universe': 3860, 'writer/director': 3861, 'burning': 3862, 'choices': 3863, 'competent': 3864, 'dare': 3865, 'digital': 3866, 'dorothy': 3867, 'drink': 3868, 'fitting': 3869, 'forgettable': 3870, 'hole': 3871, 'honor': 3872, 'idiotic': 3873, 'laughable.': 3874, 'los': 3875, 'mansion': 3876, 'peace': 3877, 'reality.': 3878, 'relevant': 3879, 'returning': 3880, 'root': 3881, 'same.': 3882, 'scale': 3883, 'scary.': 3884, 'scenario': 3885, 'scientists': 3886, 'seeing.': 3887, 'sides': 3888, 'stories.': 3889, 'stronger': 3890, 'stunt': 3891, 'tense': 3892, 'threw': 3893, 'timothy': 3894, 'better.<br': 3895, 'brand': 3896, 'closely': 3897, 'complaint': 3898, 'continued': 3899, 'cool,': 3900, 'crafted': 3901, 'credible': 3902, 'displays': 3903, 'eerie': 3904, 'film)': 3905, 'film:': 3906, 'frustrated': 3907, 'hilarious,': 3908, 'imaginative': 3909, 'jeremy': 3910, 'jobs': 3911, 'laurel': 3912, 'musicals': 3913, 'precious': 3914, 'push': 3915, 'retarded': 3916, 'screenwriter': 3917, 'shape': 3918, 'sister,': 3919, 'stole': 3920, 'storm': 3921, 'sucks': 3922, 'talent,': 3923, 'typically': 3924, 'unbelievably': 3925, 'wave': 3926, 'weapons': 3927, '/>just': 3928, '13': 3929, 'accused': 3930, 'buried': 3931, 'charge': 3932, 'decades': 3933, 'dig': 3934, 'directing,': 3935, 'dragon': 3936, 'easier': 3937, 'elderly': 3938, 'enjoys': 3939, 'gripping': 3940, 'gross': 3941, 'happen,': 3942, 'helen': 3943, 'is:': 3944, 'letter': 3945, 'lie': 3946, 'listed': 3947, 'mother.': 3948, 'parts.': 3949, 'planning': 3950, 'ridiculously': 3951, 'settings': 3952, 'spike': 3953, 'terrifying': 3954, 'thirty': 3955, 'throughout,': 3956, 'tour': 3957, 'worthwhile': 3958, 'admire': 3959, 'belief': 3960, 'builds': 3961, 'costs.': 3962, 'denzel': 3963, 'development,': 3964, 'drunken': 3965, 'effort.': 3966, 'extended': 3967, 'guard': 3968, 'hire': 3969, 'level,': 3970, 'lovable': 3971, 'lucy': 3972, 'man\"': 3973, 'manager': 3974, 'meaningful': 3975, 'messages': 3976, 'mst3k': 3977, 'ought': 3978, 'pack': 3979, 'patient': 3980, 'poignant': 3981, 'pretend': 3982, 'resembles': 3983, 'scares': 3984, 'second,': 3985, 'shortly': 3986, 'stanwyck': 3987, 'stomach': 3988, 'stuff,': 3989, 'terror': 3990, 'think.': 3991, 'unintentionally': 3992, 'vincent': 3993, '\"in': 3994, '(such': 3995, 'america.': 3996, 'blend': 3997, 'brooks': 3998, 'colorful': 3999, 'cooper': 4000, 'distant': 4001, 'enjoyment': 4002, 'eva': 4003, 'explore': 4004, 'gradually': 4005, \"he'll\": 4006, 'help.': 4007, 'ian': 4008, 'instantly': 4009, 'it)': 4010, 'jungle': 4011, 'mel': 4012, 'name.': 4013, 'personalities': 4014, 'pleased': 4015, 'sandler': 4016, 'short.': 4017, 'simple,': 4018, 'spiritual': 4019, 'start.': 4020, 'string': 4021, 'tracy': 4022, 'york,': 4023, 'art.': 4024, 'atmosphere,': 4025, 'attacks': 4026, 'cameos': 4027, 'camera,': 4028, 'cared': 4029, 'carefully': 4030, 'comedian': 4031, 'devoted': 4032, 'dubbing': 4033, 'east': 4034, 'evident': 4035, 'exists': 4036, 'expressions': 4037, 'extent': 4038, 'glass': 4039, 'hollywood,': 4040, 'homage': 4041, 'importance': 4042, 'junk': 4043, 'mouse': 4044, 'non': 4045, 'productions': 4046, 'rain': 4047, 'ratings': 4048, 'rural': 4049, 'segments': 4050, 'shows,': 4051, 'sophisticated': 4052, 'trash.': 4053, 'tune': 4054, 'upper': 4055, 'wes': 4056, '/>they': 4057, 'actress.': 4058, 'afternoon': 4059, 'aired': 4060, 'albeit': 4061, 'arm': 4062, 'assistant': 4063, 'atmospheric': 4064, 'atrocious': 4065, 'bridge': 4066, 'buck': 4067, 'che': 4068, 'con': 4069, 'concert': 4070, 'conclusion,': 4071, 'daughter.': 4072, 'exercise': 4073, 'films.<br': 4074, 'have,': 4075, 'jamie': 4076, 'joke.': 4077, 'laughs,': 4078, \"mother's\": 4079, 'novel.': 4080, 'reached': 4081, 'relies': 4082, 'rush': 4083, 'sentimental': 4084, 'soviet': 4085, 'spell': 4086, 'superbly': 4087, 'this:': 4088, 'white,': 4089, 'wow,': 4090, '/>also': 4091, '2,': 4092, 'africa': 4093, 'always,': 4094, 'appearances': 4095, 'bears': 4096, 'breathtaking': 4097, 'cases': 4098, 'category': 4099, 'country.': 4100, 'exceptional': 4101, 'johnson': 4102, 'knock': 4103, 'laughs.': 4104, 'neil': 4105, 'receive': 4106, 'ridiculous,': 4107, 'son.': 4108, 'titles': 4109, 'act,': 4110, 'bit,': 4111, 'bit.': 4112, 'bobby': 4113, 'chuck': 4114, 'currently': 4115, 'darkness': 4116, 'demons': 4117, 'disbelief': 4118, 'evil.': 4119, 'fatal': 4120, 'focusing': 4121, 'frankly,': 4122, 'futuristic': 4123, \"girl's\": 4124, 'intention': 4125, 'intrigued': 4126, 'jake': 4127, 'matthau': 4128, 'mexico': 4129, 'mild': 4130, 'minimal': 4131, 'misses': 4132, 'name,': 4133, 'neighborhood': 4134, 'notably': 4135, 'reasons.': 4136, 'returned': 4137, 'sticks': 4138, 'storytelling': 4139, 'vague': 4140, 'viewing.': 4141, 'wicked': 4142, '*': 4143, '/>also,': 4144, '/>no': 4145, '1950s': 4146, 'ad': 4147, 'beast': 4148, 'catches': 4149, 'credibility': 4150, 'darker': 4151, 'dinner': 4152, 'elvis': 4153, 'executive': 4154, 'flash': 4155, 'grab': 4156, 'grave': 4157, 'hearts': 4158, 'honestly,': 4159, 'hunting': 4160, 'involved.': 4161, 'irony': 4162, 'it...': 4163, 'jail': 4164, 'ken': 4165, 'kidnapped': 4166, 'laura': 4167, 'ludicrous': 4168, 'murderous': 4169, 'pool': 4170, 'rating:': 4171, 'selling': 4172, 'splendid': 4173, 'summary': 4174, 'sun': 4175, 'surface': 4176, 'university': 4177, 'wing': 4178, 'alone,': 4179, 'annoying,': 4180, 'attraction': 4181, 'branagh': 4182, 'burn': 4183, 'causing': 4184, 'complain': 4185, 'deliberately': 4186, 'derek': 4187, 'devoid': 4188, 'dialogs': 4189, 'escaped': 4190, 'everyone,': 4191, 'experience,': 4192, 'fancy': 4193, 'financial': 4194, 'health': 4195, 'highest': 4196, 'innocence': 4197, 'internet': 4198, 'jesse': 4199, 'killed,': 4200, 'legs': 4201, 'noted': 4202, 'pays': 4203, 'primary': 4204, 'properly': 4205, 'protagonists': 4206, 'relative': 4207, 'roberts': 4208, 'room,': 4209, 'sequel,': 4210, 'special.': 4211, 'staying': 4212, 'technique': 4213, 'timing': 4214, 'title.': 4215, 'tricks': 4216, 'world.<br': 4217, 'affected': 4218, 'arrested': 4219, 'b.': 4220, 'beats': 4221, 'carpenter': 4222, 'colour': 4223, 'countries': 4224, 'country,': 4225, 'delight': 4226, 'disappointing.': 4227, 'explaining': 4228, 'fine.': 4229, 'fond': 4230, 'forever.': 4231, 'greek': 4232, \"hollywood's\": 4233, 'holmes': 4234, \"it'll\": 4235, 'lessons': 4236, 'midnight': 4237, 'movie)': 4238, 'nothing,': 4239, 'novels': 4240, 'oddly': 4241, 'ok.': 4242, 'originality': 4243, 'poor.': 4244, 'press': 4245, 'realistic.': 4246, 'scripts': 4247, 'songs,': 4248, 'streisand': 4249, 'surprise,': 4250, 'table': 4251, 'twin': 4252, \"we'll\": 4253, 'westerns': 4254, '2nd': 4255, 'along.': 4256, 'amazing,': 4257, 'animation,': 4258, 'basically,': 4259, 'beginning.': 4260, 'broad': 4261, 'burned': 4262, 'clues': 4263, 'connect': 4264, 'contract': 4265, 'demands': 4266, 'describes': 4267, 'dozens': 4268, 'elaborate': 4269, 'fine,': 4270, 'funny.<br': 4271, 'gag': 4272, 'guts': 4273, 'happens.': 4274, 'happiness': 4275, 'hoffman': 4276, 'jet': 4277, 'jokes.': 4278, 'lincoln': 4279, 'load': 4280, 'look.': 4281, 'matrix': 4282, 'menacing': 4283, 'psychotic': 4284, 'ranks': 4285, 'rating.': 4286, 'reaches': 4287, 'reasonable': 4288, 'resemblance': 4289, 'scientific': 4290, 'stated': 4291, 'stupidity': 4292, 'thankfully': 4293, 'trio': 4294, 'truth.': 4295, 'urge': 4296, 'vacation': 4297, 'vicious': 4298, 'workers': 4299, \"(i'm\": 4300, '(see': 4301, '/>overall': 4302, '100%': 4303, 'accomplished': 4304, 'ambitious': 4305, 'briefly': 4306, 'california': 4307, 'care.': 4308, 'characters.<br': 4309, 'confusion': 4310, 'creators': 4311, 'curse': 4312, 'department': 4313, 'dynamic': 4314, 'earth.': 4315, 'failing': 4316, 'fired': 4317, 'friend.': 4318, 'kenneth': 4319, 'lives,': 4320, 'loads': 4321, 'mirror': 4322, 'mixture': 4323, 'nation': 4324, 'occurs': 4325, 'particular,': 4326, 'pushing': 4327, 'sally': 4328, 'slightest': 4329, 'strike': 4330, 'strip': 4331, 'subplot': 4332, 'subtitles': 4333, 'trial': 4334, 'weapon': 4335, 'while.': 4336, 'work.<br': 4337, 'worried': 4338, 'worry': 4339, '/>director': 4340, 'acceptable': 4341, 'afford': 4342, 'all-time': 4343, 'angels': 4344, 'art,': 4345, 'barry': 4346, 'boxing': 4347, 'bush': 4348, 'clint': 4349, 'comfortable': 4350, 'discuss': 4351, 'drawing': 4352, 'earth,': 4353, 'enormous': 4354, 'guide': 4355, 'heroic': 4356, 'improved': 4357, 'incoherent': 4358, 'involve': 4359, 'liberal': 4360, 'lloyd': 4361, 'many,': 4362, 'marks': 4363, 'material,': 4364, 'pitch': 4365, 'primarily': 4366, 'producing': 4367, 'racism': 4368, 'remarkably': 4369, 'sequences,': 4370, 'settle': 4371, 'spoiled': 4372, 'succeed': 4373, 'videos': 4374, 'view,': 4375, 'view.': 4376, 'watching,': 4377, 'whole,': 4378, 'worst.': 4379, '\"how': 4380, '/>why': 4381, \"90's\": 4382, 'america,': 4383, 'battles': 4384, 'blah': 4385, 'boll': 4386, 'card': 4387, \"characters'\": 4388, 'consistently': 4389, 'convoluted': 4390, 'cup': 4391, 'dedicated': 4392, 'diamond': 4393, 'environment': 4394, 'flaw': 4395, 'format': 4396, 'grade:': 4397, 'horrendous': 4398, 'influenced': 4399, 'insulting': 4400, 'intentions': 4401, 'introduces': 4402, 'magazine': 4403, 'meat': 4404, 'newspaper': 4405, 'outer': 4406, 'presentation': 4407, 'recognized': 4408, 'repeatedly': 4409, 'smaller': 4410, 'solely': 4411, 'suited': 4412, 'suspense.': 4413, 'swedish': 4414, 'sweet,': 4415, 'titled': 4416, 'trade': 4417, 'travels': 4418, 'weight': 4419, '(an': 4420, '(i.e.': 4421, '/>*': 4422, '/>an': 4423, 'absence': 4424, 'andrews': 4425, 'aside,': 4426, 'bat': 4427, 'beaten': 4428, 'bite': 4429, 'blew': 4430, 'china': 4431, 'cousin': 4432, 'drops': 4433, 'era.': 4434, 'estate': 4435, 'hates': 4436, 'inevitable': 4437, 'lane': 4438, 'logical': 4439, 'lucas': 4440, 'nearby': 4441, 'parents,': 4442, 'portion': 4443, 'represent': 4444, 'revelation': 4445, 'screams': 4446, 'season.': 4447, 'situation.': 4448, 'situations.': 4449, 'soundtrack,': 4450, 'spooky': 4451, 'tad': 4452, 'thief': 4453, 'threat': 4454, 'tortured': 4455, 'uwe': 4456, 'wont': 4457, '(from': 4458, '/>yes,': 4459, '17': 4460, '60': 4461, '8/10': 4462, 'alas,': 4463, 'arnold': 4464, 'arrive': 4465, 'blatant': 4466, 'course.': 4467, 'curtis': 4468, 'developing': 4469, 'discussion': 4470, 'documentary.': 4471, 'endearing': 4472, 'era,': 4473, 'explicit': 4474, 'fay': 4475, 'hanks': 4476, 'hence': 4477, 'involvement': 4478, 'jeffrey': 4479, 'justify': 4480, 'kid.': 4481, 'kudos': 4482, 'morality': 4483, 'obscure': 4484, 'poster': 4485, 'rushed': 4486, 'severe': 4487, 'sex.': 4488, 'slap': 4489, \"someone's\": 4490, 'storyline.': 4491, 'suspects': 4492, 'threatening': 4493, 'tree': 4494, 'turkey': 4495, 'undoubtedly': 4496, 'vast': 4497, 'versus': 4498, 'writer,': 4499, \"60's\": 4500, 'argue': 4501, 'audio': 4502, 'big,': 4503, 'chased': 4504, 'chases': 4505, 'comparing': 4506, 'conventional': 4507, 'dave': 4508, 'dentist': 4509, 'fears': 4510, 'glorious': 4511, 'had.': 4512, 'hardcore': 4513, 'hell.': 4514, 'hints': 4515, 'hip': 4516, 'hooked': 4517, 'jealous': 4518, 'lame.': 4519, 'mafia': 4520, 'pace,': 4521, 'performers': 4522, 'photographed': 4523, 'possibility': 4524, 'rap': 4525, 'rip-off': 4526, 'rogers': 4527, 'ruth': 4528, 'shy': 4529, 'song,': 4530, 'spin': 4531, 'techniques': 4532, 'villain,': 4533, 'web': 4534, 'aging': 4535, 'beneath': 4536, 'chair': 4537, 'charisma': 4538, 'cheap,': 4539, 'combine': 4540, 'composed': 4541, 'conspiracy': 4542, 'contained': 4543, 'corner': 4544, 'crisis': 4545, 'defeat': 4546, 'different,': 4547, \"everyone's\": 4548, 'facing': 4549, 'fortune': 4550, 'gift': 4551, 'horrors': 4552, 'ideal': 4553, 'intent': 4554, 'involved,': 4555, 'kicked': 4556, 'killed.': 4557, 'lasted': 4558, 'lily': 4559, 'month': 4560, 'noise': 4561, 'norman': 4562, 'note,': 4563, 'ourselves': 4564, 'outrageous': 4565, 'pride': 4566, 'realizing': 4567, 'revolution': 4568, 'smooth': 4569, 'snow': 4570, 'titanic': 4571, 'useless': 4572, 'waited': 4573, 'weakest': 4574, 'winds': 4575, 'wore': 4576, 'writing.': 4577, '(you': 4578, '18': 4579, '2)': 4580, 'acted,': 4581, 'aka': 4582, 'anymore': 4583, 'benefit': 4584, 'brando': 4585, 'carl': 4586, 'cia': 4587, 'cruise': 4588, 'defend': 4589, 'emphasis': 4590, 'everything,': 4591, 'exposed': 4592, 'felix': 4593, 'gentle': 4594, 'harder': 4595, 'heston': 4596, 'karloff': 4597, 'notion': 4598, 'offering': 4599, 'orders': 4600, 'overlooked': 4601, 'personally,': 4602, 'rank': 4603, 'signs': 4604, 'sits': 4605, 'suits': 4606, 'superhero': 4607, 'thrillers': 4608, 'treats': 4609, 'warren': 4610, 'were,': 4611, '/>like': 4612, '/>most': 4613, '3.': 4614, '3rd': 4615, '45': 4616, 'bag': 4617, 'bare': 4618, 'blows': 4619, 'chance,': 4620, 'daring': 4621, 'documentary,': 4622, 'dull.': 4623, 'flynn': 4624, 'gem.': 4625, 'hugh': 4626, 'investigation': 4627, 'maintain': 4628, 'mickey': 4629, 'miscast': 4630, 'montage': 4631, 'nose': 4632, 'passes': 4633, 'presumably': 4634, 'quality,': 4635, 'released.': 4636, 'response': 4637, 'room.': 4638, 'sadistic': 4639, 'savage': 4640, 'screen.<br': 4641, 'soundtrack.': 4642, 'suitable': 4643, 'times.<br': 4644, '(by': 4645, '(they': 4646, '(yes,': 4647, 'border': 4648, 'bullets': 4649, 'can.': 4650, 'carrey': 4651, 'closest': 4652, 'come.': 4653, 'cook': 4654, 'delivering': 4655, 'exaggerated': 4656, 'girlfriend,': 4657, 'glenn': 4658, 'guys.': 4659, 'hey': 4660, 'highlights': 4661, 'i,': 4662, 'judging': 4663, 'link': 4664, 'margaret': 4665, 'modesty': 4666, 'movie...': 4667, 'nelson': 4668, 'painted': 4669, 'painting': 4670, 'problems.': 4671, 'psychiatrist': 4672, 'raped': 4673, 'spielberg': 4674, 'staring': 4675, 'suck': 4676, 'tear': 4677, 'this!': 4678, 'timeless': 4679, 'unbelievable.': 4680, 'usa': 4681, 'valuable': 4682, 'vivid': 4683, 'ward': 4684, 'watch.<br': 4685, 'winter': 4686, 'wished': 4687, '(she': 4688, 'affect': 4689, 'alexander': 4690, 'business.': 4691, 'considerable': 4692, 'corporate': 4693, \"don't.\": 4694, 'duke': 4695, 'dutch': 4696, 'et': 4697, 'events,': 4698, 'exotic': 4699, 'fish': 4700, 'headed': 4701, 'holy': 4702, 'ignored': 4703, 'individuals': 4704, 'interaction': 4705, 'investigate': 4706, 'it;': 4707, \"king's\": 4708, 'lab': 4709, 'masterpiece,': 4710, 'mentioned,': 4711, 'moving,': 4712, 'naturally,': 4713, 'reflect': 4714, 'resolution': 4715, 'samurai': 4716, 'society,': 4717, 'spare': 4718, 'spots': 4719, 'spring': 4720, 'sullivan': 4721, 'sure.': 4722, 'sutherland': 4723, 'switch': 4724, 'ticket': 4725, 'time!': 4726, 'viewers.': 4727, 'worthless': 4728, 'yet.': 4729, 'you.<br': 4730, '\"la': 4731, '..': 4732, '/>do': 4733, '/>now,': 4734, '24': 4735, 'alongside': 4736, 'also.': 4737, 'amounts': 4738, 'baker': 4739, 'bible': 4740, 'bleak': 4741, 'chain': 4742, 'cheese': 4743, 'cole': 4744, 'crimes': 4745, 'depicts': 4746, 'destroying': 4747, 'disagree': 4748, 'documentaries': 4749, 'engaged': 4750, 'episodes.': 4751, 'ginger': 4752, 'goal': 4753, 'gray': 4754, 'hal': 4755, 'horses': 4756, 'i.e.': 4757, 'inspiring': 4758, 'interest,': 4759, 'isolated': 4760, 'it:': 4761, 'joined': 4762, 'le': 4763, 'less.': 4764, 'one-liners': 4765, 'orson': 4766, 'oscars': 4767, 'points.': 4768, 'racial': 4769, 'reads': 4770, 'rebel': 4771, 'reunion': 4772, 'set.': 4773, 'sexuality': 4774, 'shorts': 4775, 'size': 4776, 'sons': 4777, 'superb.': 4778, 'union': 4779, 'walls': 4780, 'x': 4781, '/>maybe': 4782, '1/2': 4783, '80': 4784, 'abc': 4785, 'behave': 4786, 'birthday': 4787, 'blake': 4788, 'centers': 4789, 'cheating': 4790, 'compelled': 4791, 'conversations': 4792, 'costumes,': 4793, 'crush': 4794, 'dear': 4795, 'disc': 4796, \"disney's\": 4797, 'displayed': 4798, 'earned': 4799, 'edgar': 4800, 'engage': 4801, 'floating': 4802, 'forbidden': 4803, 'from.': 4804, 'handed': 4805, 'india': 4806, 'instant': 4807, 'italy': 4808, 'knife': 4809, 'lighting,': 4810, 'maggie': 4811, 'melodramatic': 4812, 'murder.': 4813, 'potentially': 4814, 'prom': 4815, 'react': 4816, 'scottish': 4817, 'screenplay,': 4818, 'shining': 4819, 'show.<br': 4820, 'stunts': 4821, 'taught': 4822, 'thick': 4823, 'tie': 4824, 'toilet': 4825, 'truth,': 4826, 'unintentional': 4827, 'widmark': 4828, '1/10': 4829, 'admit,': 4830, 'agrees': 4831, 'argument': 4832, 'beer': 4833, 'blood.': 4834, 'brilliance': 4835, 'brutally': 4836, 'burton': 4837, 'carol': 4838, 'competition': 4839, 'cool.': 4840, 'development.': 4841, 'diane': 4842, 'doc': 4843, 'effect.': 4844, 'everywhere': 4845, 'ex': 4846, 'exceptionally': 4847, \"family's\": 4848, 'far.': 4849, 'festival.': 4850, 'flies': 4851, 'granted,': 4852, 'hung': 4853, 'juvenile': 4854, 'loyal': 4855, 'mario': 4856, 'matthew': 4857, 'memorable.': 4858, 'next.': 4859, 'ones,': 4860, 'overwhelming': 4861, 'pie': 4862, 'politically': 4863, 'pretending': 4864, 'proceeds': 4865, 'projects': 4866, 'reaching': 4867, 'rochester': 4868, 'secretly': 4869, 'staff': 4870, 'strong,': 4871, 'tends': 4872, 'thru': 4873, 'traveling': 4874, 'trite': 4875, 'up.<br': 4876, 'virus': 4877, 'vs': 4878, 'word,': 4879, 'wrapped': 4880, '\"if': 4881, '(also': 4882, \"(it's\": 4883, '/>watch': 4884, 'addition,': 4885, 'advise': 4886, 'anyone,': 4887, 'armed': 4888, 'bin': 4889, 'breasts': 4890, 'brosnan': 4891, 'capturing': 4892, 'chorus': 4893, 'communist': 4894, 'cox': 4895, 'dawn': 4896, 'del': 4897, 'die,': 4898, 'doomed': 4899, 'emily': 4900, 'fantastic.': 4901, 'favorites': 4902, 'generic': 4903, 'guarantee': 4904, 'guessed': 4905, 'heat': 4906, 'ingredients': 4907, 'jumped': 4908, 'little.': 4909, 'lowest': 4910, 'movie;': 4911, 'nowadays': 4912, 'occur': 4913, 'perry': 4914, 'philosophical': 4915, 'result,': 4916, 'sad.': 4917, 'set,': 4918, 'side.': 4919, 'simplistic': 4920, 'situations,': 4921, 'spread': 4922, 'swear': 4923, 'topless': 4924, 'trap': 4925, 'weak,': 4926, 'wishing': 4927, 'wonderful,': 4928, 'worlds': 4929, 'wwii': 4930, '/>finally,': 4931, 'accent.': 4932, 'alternate': 4933, 'awfully': 4934, 'banned': 4935, 'blank': 4936, 'blond': 4937, 'broadcast': 4938, 'buddies': 4939, 'car.': 4940, 'cary': 4941, 'century.': 4942, 'cg': 4943, 'chaplin': 4944, 'childish': 4945, 'class.': 4946, 'classical': 4947, 'comments,': 4948, 'crap,': 4949, 'dancer': 4950, 'dire': 4951, 'discovery': 4952, 'distance': 4953, 'duo': 4954, 'global': 4955, 'guilt': 4956, 'hudson': 4957, 'instance': 4958, 'judy': 4959, 'lay': 4960, \"lee's\": 4961, 'made-for-tv': 4962, 'miller': 4963, 'nervous': 4964, 'official': 4965, 'pathetic.': 4966, 'persona': 4967, 'power,': 4968, 'relation': 4969, 'sacrifice': 4970, 'scenes.<br': 4971, 'shark': 4972, 'smoke': 4973, 'souls': 4974, 'stress': 4975, 'superficial': 4976, 'swimming': 4977, 'unpleasant': 4978, 'what,': 4979, 'whatsoever': 4980, 'works,': 4981, '(just': 4982, \"50's\": 4983, 'accompanied': 4984, 'aid': 4985, 'assigned': 4986, 'christ': 4987, 'claimed': 4988, 'cleverly': 4989, 'cried': 4990, 'crucial': 4991, 'detailed': 4992, 'eccentric': 4993, 'ellen': 4994, 'example.': 4995, 'exception.': 4996, 'factory': 4997, 'fascinated': 4998, 'flat.': 4999, 'folk': 5000, 'form.': 5001, 'glover': 5002, 'hilariously': 5003, 'humble': 5004, 'hype': 5005, 'impress': 5006, 'innovative': 5007, 'jazz': 5008, 'lame,': 5009, 'liking': 5010, 'linda': 5011, 'loser': 5012, 'matches': 5013, 'melting': 5014, 'messed': 5015, 'miserable': 5016, 'mystery,': 5017, 'nevertheless': 5018, 'odds': 5019, 'performs': 5020, 'points,': 5021, 'potential.': 5022, 'poverty': 5023, 'recorded': 5024, 'regardless': 5025, 'review.': 5026, 'rocks': 5027, 'seeks': 5028, 'showcase': 5029, 'song.': 5030, 'sub': 5031, 'sucks.': 5032, 'surviving': 5033, 'tale.': 5034, 'top.': 5035, 'triumph': 5036, 'uninspired': 5037, 'visits': 5038, 'widely': 5039, 'yeah': 5040, 'you!': 5041, '7/10': 5042, 'access': 5043, 'animation.': 5044, 'annie': 5045, 'astaire': 5046, 'basement': 5047, 'climactic': 5048, 'coherent': 5049, 'dating': 5050, 'differences': 5051, 'directs': 5052, 'doubt,': 5053, 'dramas': 5054, 'edie': 5055, 'finish.': 5056, 'garden': 5057, 'grandmother': 5058, 'hero.': 5059, 'herself.': 5060, 'incident': 5061, 'installment': 5062, 'introduce': 5063, 'journalist': 5064, 'karen': 5065, 'meaningless': 5066, 'medium': 5067, 'mini': 5068, 'movie\"': 5069, 'neck': 5070, 'nurse': 5071, 'offended': 5072, 'photos': 5073, 'piano': 5074, 'purchased': 5075, 'ruthless': 5076, 'seen.<br': 5077, 'setting,': 5078, 'silence': 5079, 'sloppy': 5080, 'start,': 5081, 'stiff': 5082, 'stiller': 5083, 'success.': 5084, 'such,': 5085, 't.v.': 5086, 'tale,': 5087, 'theme,': 5088, 'tommy': 5089, 'underlying': 5090, 'unhappy': 5091, 'value.': 5092, 'virgin': 5093, 'wannabe': 5094, '\"so': 5095, '16': 5096, 'achievement': 5097, 'advanced': 5098, 'beings': 5099, 'block': 5100, 'bride': 5101, 'brothers,': 5102, 'cagney': 5103, 'cameron': 5104, 'captivating': 5105, 'chess': 5106, 'chooses': 5107, 'cinematography.': 5108, 'corpse': 5109, 'davies': 5110, 'dr': 5111, 'editor': 5112, 'equivalent': 5113, 'farm': 5114, 'flat,': 5115, 'franchise': 5116, 'future,': 5117, 'fx': 5118, 'gore.': 5119, 'granted': 5120, 'hand.': 5121, 'hood': 5122, 'horrid': 5123, 'hours,': 5124, 'intelligent,': 5125, 'killings': 5126, 'least.': 5127, 'loosely': 5128, 'lou': 5129, 'luckily': 5130, 'much.<br': 5131, 'new,': 5132, 'photographer': 5133, 'photography,': 5134, 'pops': 5135, 'project.': 5136, 'promised': 5137, 'repetitive': 5138, 'represented': 5139, 'scene.<br': 5140, 'scheme': 5141, 'since.': 5142, 'staged': 5143, 'stellar': 5144, 'surprise.': 5145, 'suspend': 5146, 'terrorist': 5147, 'theater,': 5148, 'trashy': 5149, 'vaguely': 5150, 'warned': 5151, '–': 5152, '/>how': 5153, 'agreed': 5154, 'blob': 5155, 'bold': 5156, 'borrowed': 5157, 'camera-work': 5158, 'charming,': 5159, 'clumsy': 5160, 'command': 5161, 'craft': 5162, 'die.': 5163, 'distinct': 5164, 'disturbed': 5165, 'do?': 5166, 'etc.,': 5167, 'explored': 5168, 'foul': 5169, 'generous': 5170, \"god's\": 5171, 'groups': 5172, 'hideous': 5173, 'jonathan': 5174, 'kirk': 5175, 'lengthy': 5176, 'mentions': 5177, 'motivation': 5178, 'notes': 5179, 'power.': 5180, 'rather,': 5181, 'restaurant': 5182, 'roman': 5183, 'rotten': 5184, 'satisfy': 5185, 'shake': 5186, 'shirley': 5187, 'sound,': 5188, 'specifically': 5189, 'subjects': 5190, 'terry': 5191, 'thrill': 5192, 'thugs': 5193, 'tunes': 5194, 'wandering': 5195, 'week.': 5196, 'wet': 5197, 'would-be': 5198, \"year's\": 5199, \"1950's\": 5200, 'abusive': 5201, 'antics': 5202, 'atmosphere.': 5203, 'been.': 5204, 'body.': 5205, 'cheesy,': 5206, 'combat': 5207, 'commented': 5208, 'damage': 5209, 'depicting': 5210, 'diana': 5211, 'disliked': 5212, 'domestic': 5213, 'doors': 5214, 'elm': 5215, 'elvira': 5216, 'exploration': 5217, 'film).': 5218, 'grabs': 5219, 'grasp': 5220, 'happens,': 5221, 'hatred': 5222, 'him?': 5223, 'illegal': 5224, 'improve': 5225, 'intentionally': 5226, \"isn't.\": 5227, 'joey': 5228, 'laughably': 5229, 'more.<br': 5230, 'nostalgic': 5231, 'not.<br': 5232, 'people.<br': 5233, 'possessed': 5234, 'premise,': 5235, 'resemble': 5236, 'revolutionary': 5237, 'reynolds': 5238, 'same,': 5239, 'scores': 5240, 'scripted': 5241, 'secretary': 5242, 'shadows': 5243, 'signed': 5244, 'similarities': 5245, 'slave': 5246, 'sneak': 5247, 'soccer': 5248, 'spoke': 5249, 'styles': 5250, 'subjected': 5251, 'tender': 5252, 'ties': 5253, 'trained': 5254, 'twilight': 5255, 'understand.': 5256, 'was.<br': 5257, \"we'd\": 5258, 'wealth': 5259, 'whale': 5260, 'wholly': 5261, 'written.': 5262, '\"star': 5263, '/>unfortunately,': 5264, '3/10': 5265, '60s': 5266, 'amanda': 5267, 'appalling': 5268, 'appreciation': 5269, 'april': 5270, 'arguably': 5271, 'backdrop': 5272, 'belong': 5273, 'britain': 5274, 'can,': 5275, 'concern': 5276, 'copies': 5277, 'crack': 5278, 'creepy,': 5279, 'critic': 5280, 'cute,': 5281, 'earlier,': 5282, 'either.<br': 5283, 'excessive': 5284, 'fix': 5285, 'flawless': 5286, 'implausible': 5287, 'iron': 5288, 'kapoor': 5289, 'kitchen': 5290, 'legal': 5291, 'manner.': 5292, 'perhaps,': 5293, 'principal': 5294, 'purchase': 5295, 'receives': 5296, 'relations': 5297, 'resort': 5298, 'ritter': 5299, 'royal': 5300, 'scooby': 5301, 'season,': 5302, 'secrets': 5303, 'shame,': 5304, 'situation,': 5305, 'stretched': 5306, 'symbolism': 5307, 'team.': 5308, 'transition': 5309, 'user': 5310, '\"don\\'t': 5311, '/>perhaps': 5312, '4/10': 5313, 'background.': 5314, 'brains': 5315, 'bullet': 5316, 'colonel': 5317, 'condition': 5318, 'consequences': 5319, 'curiosity': 5320, 'dalton': 5321, 'dances': 5322, 'directed,': 5323, 'eager': 5324, 'francisco': 5325, 'frequent': 5326, 'harvey': 5327, 'hour,': 5328, 'imagination.': 5329, 'immensely': 5330, 'kind.': 5331, 'leonard': 5332, 'lone': 5333, 'message.': 5334, 'miike': 5335, 'mildred': 5336, 'moody': 5337, 'movements': 5338, 'nights': 5339, 'notch': 5340, 'obviously,': 5341, 'officers': 5342, 'overrated': 5343, 'parallel': 5344, 'perfectly.': 5345, 'popcorn': 5346, 'population': 5347, 'props': 5348, 'pulp': 5349, 'removed': 5350, 'rendition': 5351, 'resulting': 5352, 'rocket': 5353, 'series.<br': 5354, 'smoking': 5355, 'stumbled': 5356, 'succeeded': 5357, 'supported': 5358, 'tag': 5359, 'therefore,': 5360, 'transfer': 5361, 'transformation': 5362, 'turner': 5363, 'twelve': 5364, 'viewer,': 5365, 'well-known': 5366, 'wells': 5367, 'woods,': 5368, 'wrestling': 5369, '(what': 5370, '***': 5371, '/>\"the': 5372, '1970s': 5373, '4.': 5374, '=': 5375, 'along,': 5376, \"america's\": 5377, 'assumed': 5378, 'attend': 5379, 'capital': 5380, 'cats': 5381, 'citizen': 5382, 'cusack': 5383, 'dignity': 5384, 'dreams.': 5385, 'endure': 5386, 'etc.<br': 5387, 'ethan': 5388, 'eve': 5389, 'general,': 5390, 'gerard': 5391, 'get.': 5392, 'gifted': 5393, 'goes,': 5394, 'gundam': 5395, 'hank': 5396, 'hysterical': 5397, 'inability': 5398, 'joins': 5399, 'june': 5400, 'landscape': 5401, 'machines': 5402, 'maker': 5403, 'message,': 5404, 'middle-aged': 5405, 'myself.': 5406, 'one!': 5407, 'porno': 5408, 'problem,': 5409, 'progress': 5410, 'realistic,': 5411, 'row': 5412, 'selfish': 5413, 'trailers': 5414, 'viewers,': 5415, 'villain.': 5416, \"wife's\": 5417, '/>well': 5418, 'advance': 5419, 'arrogant': 5420, 'at,': 5421, 'authority': 5422, 'be.<br': 5423, 'blowing': 5424, 'books,': 5425, 'brady': 5426, 'cameras': 5427, 'close.': 5428, 'coffee': 5429, 'creation': 5430, 'definition': 5431, 'dinosaur': 5432, 'dose': 5433, 'editing.': 5434, 'faster': 5435, 'h.': 5436, 'hair,': 5437, 'hears': 5438, \"husband's\": 5439, 'ignorant': 5440, 'immediate': 5441, 'incompetent': 5442, 'indians': 5443, 'inferior': 5444, 'intimate': 5445, 'lead,': 5446, 'line:': 5447, 'little,': 5448, 'madness': 5449, 'manhattan': 5450, 'newly': 5451, 'occurred': 5452, 'opportunities': 5453, \"other's\": 5454, 'outcome': 5455, 'overlook': 5456, 'planned': 5457, 'plot.<br': 5458, 'possible,': 5459, 'pursuit': 5460, 'raises': 5461, 'randomly': 5462, 'rely': 5463, 'remember,': 5464, 'replace': 5465, 'resident': 5466, 'scope': 5467, 'seldom': 5468, 'shelf': 5469, 'silly.': 5470, 'spirits': 5471, 'st.': 5472, 'standards,': 5473, 'strange,': 5474, 'sums': 5475, 'survived': 5476, 'unaware': 5477, 'wakes': 5478, 'wallace': 5479, 'were.': 5480, 'witnesses': 5481, 'writes': 5482, '(michael': 5483, 'alfred': 5484, 'ape': 5485, 'aspiring': 5486, 'awesome.': 5487, 'bucks': 5488, 'carter': 5489, 'choreography': 5490, 'circle': 5491, 'comics': 5492, 'confidence': 5493, 'credits,': 5494, 'dinosaurs': 5495, 'eastern': 5496, 'eastwood': 5497, 'encourage': 5498, 'english,': 5499, 'errors': 5500, 'fantastic,': 5501, 'girls.': 5502, 'goldberg': 5503, 'great!': 5504, 'in.<br': 5505, 'inane': 5506, 'inappropriate': 5507, 'invites': 5508, 'jerk': 5509, 'joke,': 5510, 'kicking': 5511, 'loaded': 5512, 'masters': 5513, 'mighty': 5514, 'mile': 5515, 'motives': 5516, 'performer': 5517, 'raising': 5518, 'released,': 5519, 'require': 5520, 'review,': 5521, 'rick': 5522, 'screenplay.': 5523, 'sequences.': 5524, 'shelley': 5525, 'smith,': 5526, 'tall': 5527, 'teaches': 5528, 'temple': 5529, 'thought.': 5530, 'voice-over': 5531, 'warrior': 5532, 'watchable.': 5533, 'wound': 5534, 'yelling': 5535, '\"good': 5536, '\"it': 5537, '/>its': 5538, '3d': 5539, 'alive.': 5540, 'alright': 5541, 'bathroom': 5542, 'bela': 5543, 'black,': 5544, 'catching': 5545, 'charlotte': 5546, 'conflicts': 5547, 'conservative': 5548, 'decisions': 5549, 'destruction': 5550, 'discovering': 5551, 'donna': 5552, 'etc.)': 5553, 'expect.': 5554, 'expressed': 5555, 'fair,': 5556, 'falk': 5557, 'feed': 5558, 'fighter': 5559, 'fisher': 5560, 'good!': 5561, 'husband.': 5562, 'imagined': 5563, \"kid's\": 5564, 'language,': 5565, 'latin': 5566, 'light,': 5567, 'literary': 5568, 'march': 5569, 'molly': 5570, 'must-see': 5571, 'nature,': 5572, 'nicholson': 5573, 'pamela': 5574, 'period,': 5575, 'presenting': 5576, 'preview': 5577, 'rage': 5578, 'recording': 5579, 'redemption': 5580, 'respective': 5581, 'romance.': 5582, 'scenery,': 5583, 'senseless': 5584, 'shots.': 5585, \"should've\": 5586, 'solo': 5587, 'somehow,': 5588, 'sometimes,': 5589, 'standards.': 5590, 'teaching': 5591, 'todd': 5592, 'tracking': 5593, 'tracks': 5594, 'unsettling': 5595, 'virginia': 5596, 'water,': 5597, 'whats': 5598, \"women's\": 5599, 'york.': 5600, '\"all': 5601, '(there': 5602, '**': 5603, '/>1.': 5604, 'adequate': 5605, 'adorable': 5606, 'akshay': 5607, 'artificial': 5608, 'change.': 5609, 'chaos': 5610, 'characterization': 5611, 'choreographed': 5612, 'cure': 5613, 'deceased': 5614, 'defined': 5615, 'demand': 5616, 'depression': 5617, 'dialogues': 5618, 'dolph': 5619, 'elegant': 5620, 'exchange': 5621, 'filling': 5622, 'finger': 5623, 'gather': 5624, 'germans': 5625, 'hbo': 5626, 'hopelessly': 5627, 'horrifying': 5628, 'illogical': 5629, 'justin': 5630, 'king,': 5631, 'lena': 5632, 'library': 5633, 'lust': 5634, 'massacre': 5635, 'mechanical': 5636, 'monkey': 5637, 'mundane': 5638, 'no-one': 5639, 'petty': 5640, 'precisely': 5641, 'promises': 5642, 'punk': 5643, 'purple': 5644, 'refer': 5645, 'referred': 5646, 'refused': 5647, 'rises': 5648, 'rising': 5649, 'rubber': 5650, 'sadness': 5651, 'sandra': 5652, 'september': 5653, 'shared': 5654, 'shoes': 5655, 'similarly': 5656, 'tame': 5657, 'team,': 5658, 'thoughtful': 5659, 'useful': 5660, 'walken': 5661, 'wreck': 5662, 'yourself,': 5663, '\"american': 5664, '---': 5665, '/>having': 5666, \"/>that's\": 5667, 'air.': 5668, 'attention,': 5669, 'boss,': 5670, 'brother.': 5671, 'canada': 5672, 'cartoon.': 5673, 'character.<br': 5674, 'cinematographer': 5675, 'clever,': 5676, 'cold,': 5677, 'conclusion.': 5678, 'culture.': 5679, 'dancers': 5680, 'decent,': 5681, 'depressed': 5682, 'duty': 5683, 'ends.': 5684, 'events.': 5685, 'expectations.': 5686, 'explosion': 5687, 'fashioned': 5688, 'follow.': 5689, 'fortunately,': 5690, 'freak': 5691, 'gabriel': 5692, 'genius.': 5693, 'giallo': 5694, \"guy's\": 5695, 'ha': 5696, 'hard.': 5697, 'helicopter': 5698, 'hollow': 5699, 'im': 5700, 'invited': 5701, 'knocked': 5702, 'laurence': 5703, 'minutes.<br': 5704, 'mistaken': 5705, 'motivations': 5706, 'murdering': 5707, 'neighbor': 5708, 'nicholas': 5709, 'paulie': 5710, 'practice': 5711, 'prepare': 5712, 'question,': 5713, 'questionable': 5714, 'quietly': 5715, 'receiving': 5716, 'reflection': 5717, 'regarded': 5718, 'remained': 5719, 's.': 5720, 'shares': 5721, 'simple.': 5722, 'songs.': 5723, 'sounding': 5724, 'sue': 5725, 'survival': 5726, 'system.': 5727, 'thrills': 5728, 'throat': 5729, 'top,': 5730, 'trademark': 5731, 'whoopi': 5732, 'will.': 5733, 'wizard': 5734, '19th': 5735, 'alcoholic': 5736, 'amy': 5737, 'automatically': 5738, 'avoided': 5739, 'body,': 5740, 'brooklyn': 5741, 'bumbling': 5742, 'clothing': 5743, 'clown': 5744, 'construction': 5745, 'conveys': 5746, 'dead\"': 5747, 'dysfunctional': 5748, 'effort,': 5749, 'fooled': 5750, 'fought': 5751, 'going.': 5752, 'guess.': 5753, 'half,': 5754, 'happening.': 5755, 'homosexual': 5756, 'hook': 5757, 'industrial': 5758, 'inventive': 5759, 'island,': 5760, 'it).': 5761, 'khan': 5762, 'li': 5763, 'list.': 5764, 'masterful': 5765, 'method': 5766, 'muslim': 5767, 'nazis': 5768, 'ordered': 5769, 'other.<br': 5770, 'pearl': 5771, 'popularity': 5772, 'positively': 5773, 'prisoners': 5774, 'promote': 5775, 'randy': 5776, 'rates': 5777, 'raymond': 5778, 'respected': 5779, 'severely': 5780, 'shine': 5781, 'snl': 5782, 'splatter': 5783, 'suspicious': 5784, 'threatens': 5785, 'try.': 5786, 'violent,': 5787, 'visiting': 5788, 'voice.': 5789, 'wacky': 5790, 'wait,': 5791, '\"we': 5792, '(robert': 5793, '(some': 5794, '1)': 5795, '2006': 5796, 'additional': 5797, 'audience.<br': 5798, 'australia': 5799, 'bakshi': 5800, 'bottle': 5801, 'calm': 5802, 'careful': 5803, 'carrie': 5804, 'challenging': 5805, 'christy': 5806, 'class,': 5807, 'classes': 5808, 'close-ups': 5809, 'comfort': 5810, 'companion': 5811, 'confrontation': 5812, 'consistent': 5813, 'convincingly': 5814, 'craig': 5815, 'cube': 5816, \"daughter's\": 5817, 'dimensional': 5818, 'disappeared': 5819, 'disease': 5820, 'ego': 5821, 'electric': 5822, 'embarrassment': 5823, 'endings': 5824, 'film-makers': 5825, 'fire,': 5826, 'frustration': 5827, 'girlfriend.': 5828, 'had,': 5829, 'inevitably': 5830, 'ireland': 5831, 'items': 5832, 'jenny': 5833, 'kennedy': 5834, 'mayor': 5835, 'mistake.': 5836, 'nail': 5837, 'narrator': 5838, 'nature.': 5839, 'o': 5840, 'one-dimensional': 5841, 'parent': 5842, 'party,': 5843, 'potential,': 5844, 'rambo': 5845, 'redeem': 5846, 'reflects': 5847, 'responsibility': 5848, 'revenge.': 5849, 'rex': 5850, 'ruins': 5851, 'sci': 5852, 'stooges': 5853, 'suitably': 5854, 'synopsis': 5855, 'television,': 5856, 'that!': 5857, 'timon': 5858, 'ups': 5859, 'waters': 5860, 'website': 5861, 'widow': 5862, 'wrap': 5863, '(very': 5864, '2000': 5865, '9/10': 5866, 'abused': 5867, \"actor's\": 5868, 'advertising': 5869, 'angela': 5870, 'areas': 5871, 'assault': 5872, 'beauty,': 5873, 'besides,': 5874, 'bone': 5875, 'catchy': 5876, 'convincing.': 5877, 'costs': 5878, 'cuba': 5879, 'danes': 5880, 'designs': 5881, 'desperation': 5882, 'doll': 5883, 'drove': 5884, 'elephant': 5885, 'enemies': 5886, 'expected,': 5887, 'expected.': 5888, 'fascination': 5889, 'forcing': 5890, 'forms': 5891, 'grinch': 5892, 'hamlet': 5893, 'hammer': 5894, 'handling': 5895, 'here)': 5896, 'holly': 5897, 'idiots': 5898, 'kay': 5899, 'lyrics': 5900, 'marketing': 5901, 'matched': 5902, 'merit': 5903, 'mess,': 5904, 'miss.': 5905, 'morally': 5906, 'nostalgia': 5907, 'on-screen': 5908, 'peoples': 5909, 'rave': 5910, 'restored': 5911, 'retired': 5912, 'reviews,': 5913, 'riveting': 5914, 'robots': 5915, 'ruby': 5916, 'score.': 5917, 'sellers': 5918, 'sid': 5919, 'sidekick': 5920, 'species': 5921, 'spock': 5922, 'stage,': 5923, 'surfing': 5924, 'sympathize': 5925, 'together.<br': 5926, 'verhoeven': 5927, 'visited': 5928, 'voice,': 5929, 'weak.': 5930, 'winters': 5931, 'wolf': 5932, 'year-old': 5933, 'yellow': 5934, 'zone': 5935, '\"why': 5936, '(all': 5937, '1930s': 5938, 'abysmal': 5939, 'ages.': 5940, 'attract': 5941, 'ballet': 5942, 'bird': 5943, 'burst': 5944, 'contrary': 5945, 'd': 5946, 'date.': 5947, 'deserted': 5948, 'directing.': 5949, 'disaster.': 5950, 'doubts': 5951, 'drivel': 5952, 'earl': 5953, 'examination': 5954, 'explores': 5955, 'flaws,': 5956, 'fonda': 5957, 'formulaic': 5958, 'forty': 5959, \"friend's\": 5960, 'glory': 5961, 'glowing': 5962, 'god.': 5963, 'herself,': 5964, 'historically': 5965, 'homer': 5966, 'insists': 5967, 'josh': 5968, 'junior': 5969, 'leg': 5970, 'letters': 5971, 'light.': 5972, 'loud,': 5973, 'marries': 5974, 'maybe,': 5975, 'me\"': 5976, 'off.<br': 5977, 'ollie': 5978, 'only.': 5979, 'phil': 5980, 'piece,': 5981, 'pierce': 5982, 'pink': 5983, 'pointless.': 5984, 'quit': 5985, 'resist': 5986, 'rolled': 5987, 'said.': 5988, 'sending': 5989, \"shakespeare's\": 5990, 'sincere': 5991, 'stereotype': 5992, 'store.': 5993, 'strongest': 5994, 'success,': 5995, 'suffice': 5996, 'testament': 5997, 'unbearable': 5998, 'visible': 5999, 'wildly': 6000, 'will,': 6001, 'wow!': 6002, \"(don't\": 6003, '(when': 6004, '*****': 6005, '/>2.': 6006, '/>is': 6007, '/>other': 6008, 'about.<br': 6009, 'acting.<br': 6010, 'admittedly': 6011, 'arrival': 6012, 'arrived': 6013, 'attitudes': 6014, 'betty': 6015, 'bonus': 6016, 'both.': 6017, 'butt': 6018, 'chapter': 6019, 'checked': 6020, 'christians': 6021, 'complexity': 6022, 'constructed': 6023, 'couples': 6024, 'credits.': 6025, 'crime.': 6026, 'darn': 6027, 'demented': 6028, 'demonstrates': 6029, 'deranged': 6030, 'dies.': 6031, 'disappear': 6032, 'downhill': 6033, 'earlier.': 6034, 'eats': 6035, 'enjoyable,': 6036, 'enterprise': 6037, 'eye.': 6038, 'f.': 6039, 'feature.': 6040, 'francis': 6041, 'general.': 6042, 'goodness': 6043, 'greg': 6044, 'hit-man': 6045, 'hour.': 6046, 'hunters': 6047, 'impressive.': 6048, 'indication': 6049, 'interactions': 6050, 'invented': 6051, 'julian': 6052, 'kyle': 6053, 'lemmon': 6054, 'marty': 6055, 'me!': 6056, 'meryl': 6057, 'metaphor': 6058, 'movie).': 6059, 'moving.': 6060, 'nightmares': 6061, 'obligatory': 6062, 'online': 6063, 'poetic': 6064, 'prisoner': 6065, 'purpose.': 6066, 'recognition': 6067, 'relationship.': 6068, 'remove': 6069, 'shoddy': 6070, 'store,': 6071, 't': 6072, 'tempted': 6073, 'territory': 6074, 'them!': 6075, 'understandable': 6076, 'understated': 6077, 'voight': 6078, 'willie': 6079, 'word.': 6080, 'words.': 6081, 'wrong.<br': 6082, '\"oh': 6083, '(after': 6084, '(aka': 6085, '(both': 6086, '(so': 6087, '.<br': 6088, '/>title': 6089, 'adopted': 6090, 'alec': 6091, 'awe': 6092, 'basketball': 6093, 'believable,': 6094, 'believe,': 6095, 'beside': 6096, 'blatantly': 6097, 'boredom': 6098, 'brenda': 6099, \"brother's\": 6100, 'business,': 6101, 'businessman': 6102, 'celebration': 6103, 'century,': 6104, 'charged': 6105, 'cheated': 6106, 'cliff': 6107, 'dawson': 6108, 'dracula': 6109, 'ease': 6110, 'educational': 6111, 'enthusiasm': 6112, 'entitled': 6113, 'fact.': 6114, 'fed': 6115, 'femme': 6116, 'fever': 6117, 'form,': 6118, 'fulci': 6119, 'godzilla': 6120, 'hangs': 6121, 'happened,': 6122, 'hart': 6123, 'iconic': 6124, 'indeed.': 6125, 'intrigue': 6126, 'joel': 6127, 'jr.,': 6128, 'karl': 6129, 'keen': 6130, 'lackluster': 6131, 'last,': 6132, 'lit': 6133, 'lover,': 6134, 'mann': 6135, 'manner,': 6136, 'match.': 6137, 'mentioning': 6138, 'mysteries': 6139, 'mystery.': 6140, 'niro': 6141, 'oldest': 6142, 'opinions': 6143, 'paris,': 6144, 'persons': 6145, 'piece.': 6146, 'plant': 6147, 'plight': 6148, 'pokemon': 6149, 'polanski': 6150, 'sappy': 6151, 'sink': 6152, 'slaughter': 6153, 'slice': 6154, 'slick': 6155, 'sorely': 6156, 'soul.': 6157, 'spirited': 6158, 'sport': 6159, 'street,': 6160, 'stumbles': 6161, 'subtlety': 6162, 'taste.': 6163, 'tea': 6164, 'them?': 6165, 'transformed': 6166, 'unfolds': 6167, 'values,': 6168, 'values.': 6169, 'vulnerable': 6170, 'with.<br': 6171, 'witnessed': 6172, 'worst,': 6173, 'years.<br': 6174, 'you?': 6175, 'youngest': 6176, '~': 6177, '\"bad': 6178, \"'em\": 6179, '(\"the': 6180, '+': 6181, '/>avoid': 6182, \"/>i'll\": 6183, '/>many': 6184, '/>oh,': 6185, '/>though': 6186, '/>very': 6187, 'abilities': 6188, 'accepts': 6189, 'acclaimed': 6190, 'activities': 6191, 'awake': 6192, 'beatty': 6193, 'befriends': 6194, 'blunt': 6195, \"boy's\": 6196, 'challenges': 6197, 'claiming': 6198, 'collection.': 6199, 'continually': 6200, 'corruption': 6201, 'coupled': 6202, 'damon': 6203, 'danish': 6204, 'day.<br': 6205, \"didn't.\": 6206, 'die-hard': 6207, 'dog.': 6208, 'eternal': 6209, 'eugene': 6210, 'existed': 6211, 'experimental': 6212, 'fashion.': 6213, 'fear,': 6214, 'firmly': 6215, 'franco': 6216, 'fun.<br': 6217, 'furthermore,': 6218, 'handles': 6219, 'hapless': 6220, 'he,': 6221, 'hk': 6222, 'household': 6223, 'importantly,': 6224, 'kind,': 6225, 'lands': 6226, 'lawrence': 6227, 'lifted': 6228, 'lost.': 6229, 'louise': 6230, 'madonna': 6231, 'menace': 6232, 'nicole': 6233, 'often,': 6234, 'olivier': 6235, 'pace.': 6236, 'passionate': 6237, 'pictures,': 6238, 'possibilities': 6239, 'predict': 6240, 'provoking': 6241, 'rating,': 6242, 'reluctant': 6243, 'remarks': 6244, 'repeating': 6245, 'rooms': 6246, 'run,': 6247, 'shed': 6248, 'simpson': 6249, 'soon.': 6250, 'steady': 6251, 'subplots': 6252, 'tap': 6253, 'tongue': 6254, 'tooth': 6255, 'translation': 6256, 'uniformly': 6257, 'value,': 6258, \"viewer's\": 6259, 'wisdom': 6260, 'witty,': 6261, 'wives': 6262, 'worn': 6263, 'wretched': 6264, '(david': 6265, '(my': 6266, '(out': 6267, '/>3.': 6268, '/>two': 6269, '0': 6270, '1980s': 6271, '5.': 6272, 'above,': 6273, 'adaptations': 6274, 'admirable': 6275, 'again!': 6276, 'aids': 6277, 'although,': 6278, 'amitabh': 6279, 'amusing.': 6280, 'astonishing': 6281, 'austin': 6282, 'backgrounds': 6283, 'beauty.': 6284, 'billed': 6285, 'boasts': 6286, 'by.': 6287, 'charm.': 6288, 'commenting': 6289, 'control.': 6290, 'crazed': 6291, 'credited': 6292, 'depends': 6293, 'destroys': 6294, 'difficulty': 6295, 'dimension': 6296, 'discussing': 6297, 'disjointed': 6298, 'distracting': 6299, 'dont': 6300, 'dreams,': 6301, 'drugs,': 6302, 'dub': 6303, 'edition': 6304, 'empire': 6305, 'fashion,': 6306, 'feel.': 6307, 'fi': 6308, 'florida': 6309, 'footage,': 6310, 'framed': 6311, 'generated': 6312, 'greedy': 6313, 'harold': 6314, 'historic': 6315, 'hurts': 6316, 'ideas,': 6317, 'infected': 6318, 'keith': 6319, 'lifestyle': 6320, 'likable,': 6321, 'lively': 6322, 'meanwhile': 6323, 'models': 6324, 'mountains': 6325, 'muppet': 6326, 'namely': 6327, 'nod': 6328, 'nomination': 6329, 'nonetheless': 6330, 'northern': 6331, 'nowhere.': 6332, 'office,': 6333, 'okay.': 6334, 'overdone': 6335, 'phony': 6336, 'photo': 6337, 'polished': 6338, 'preferred': 6339, 'prize': 6340, 'recognizable': 6341, 'report': 6342, 'rooting': 6343, 'scarecrow': 6344, 'serving': 6345, 'showdown': 6346, 'smart,': 6347, 'snake': 6348, 'soon,': 6349, 'specially': 6350, 'studying': 6351, 'sung': 6352, 'suspension': 6353, 'taxi': 6354, 'thinking,': 6355, 'ton': 6356, 'troops': 6357, 'uncut': 6358, 'understands': 6359, 'vice': 6360, 'waitress': 6361, 'warmth': 6362, 'worker': 6363, '\"do': 6364, '\"real\"': 6365, '#1': 6366, '(brazil):': 6367, '(maybe': 6368, '(on': 6369, '(paul': 6370, '(richard': 6371, 'accent,': 6372, 'accident.': 6373, 'alison': 6374, 'already,': 6375, 'angeles': 6376, 'animals,': 6377, 'appropriately': 6378, 'beliefs': 6379, 'cannibal': 6380, 'casual': 6381, 'chainsaw': 6382, 'clip': 6383, 'coach': 6384, 'composer': 6385, 'containing': 6386, 'cope': 6387, 'dee': 6388, 'depending': 6389, 'describing': 6390, 'destined': 6391, 'died.': 6392, 'domino': 6393, 'dreary': 6394, 'earn': 6395, 'ears': 6396, 'fiction,': 6397, 'fifty': 6398, 'fire.': 6399, 'gandhi': 6400, 'hamilton': 6401, 'hands.': 6402, \"hitler's\": 6403, 'kissing': 6404, 'landing': 6405, 'made.<br': 6406, 'manipulative': 6407, 'marion': 6408, 'measure': 6409, 'methods': 6410, 'montana': 6411, 'morbid': 6412, 'museum': 6413, 'myers': 6414, 'nathan': 6415, 'nonsense.': 6416, 'paltrow': 6417, 'partially': 6418, 'primitive': 6419, 'prominent': 6420, 'psychic': 6421, 'quotes': 6422, 'rat': 6423, 'realised': 6424, 'refers': 6425, 'rita': 6426, 'rubbish.': 6427, 'safety': 6428, 'satan': 6429, 'sharon': 6430, 'shaw': 6431, 'simplicity': 6432, 'spark': 6433, 'square': 6434, 'stark': 6435, 'stevens': 6436, 'stuart': 6437, 'sunny': 6438, 'sunshine': 6439, 'time)': 6440, 'tragedy.': 6441, 'uneven': 6442, 'voted': 6443, 'watched.': 6444, 'wendy': 6445, 'wounded': 6446, '(where': 6447, '/>but,': 6448, '/>once': 6449, 'adolescent': 6450, 'aim': 6451, 'airport': 6452, 'alive,': 6453, 'antwone': 6454, 'apart.': 6455, 'attorney': 6456, 'bad!': 6457, 'bernard': 6458, 'careers': 6459, 'celebrity': 6460, 'centered': 6461, 'closed': 6462, 'closet': 6463, 'cringe': 6464, 'darren': 6465, 'deleted': 6466, 'deny': 6467, 'des': 6468, 'detract': 6469, 'directors,': 6470, 'doing.': 6471, 'dolls': 6472, 'down.<br': 6473, 'dressing': 6474, 'effect,': 6475, \"else's\": 6476, 'empathy': 6477, 'ethnic': 6478, 'exist.': 6479, 'expedition': 6480, 'f': 6481, 'farce': 6482, 'frustrating': 6483, 'gregory': 6484, 'grotesque': 6485, 'hard,': 6486, 'hides': 6487, 'hires': 6488, 'hugely': 6489, 'humour,': 6490, 'icon': 6491, 'it\"': 6492, 'justice.': 6493, 'kubrick': 6494, 'las': 6495, 'laws': 6496, 'leads,': 6497, 'leo': 6498, 'life\"': 6499, 'mall': 6500, 'musical,': 6501, 'mutual': 6502, 'newer': 6503, 'non-stop': 6504, 'nowhere,': 6505, 'outfit': 6506, 'philosophy': 6507, 'plague': 6508, 'preparing': 6509, 'realm': 6510, 'recycled': 6511, 'remade': 6512, 'representation': 6513, 'rest.': 6514, 'ripping': 6515, 'role.<br': 6516, 's': 6517, 'screwed': 6518, \"she'll\": 6519, 'steel': 6520, 'stopping': 6521, 'streep': 6522, 'subject,': 6523, 'suggested': 6524, 'superb,': 6525, 'surprisingly,': 6526, 'told,': 6527, 'translated': 6528, 'unpredictable': 6529, 'viewing,': 6530, \"wasn't.\": 6531, 'wwe': 6532, 'yesterday': 6533, 'zombies.': 6534, '\"just': 6535, '(well,': 6536, '2:': 6537, '70': 6538, 'active': 6539, 'akin': 6540, \"allen's\": 6541, 'alternative': 6542, 'ambiguous': 6543, \"anyone's\": 6544, 'apes': 6545, 'ashley': 6546, 'bargain': 6547, 'beverly': 6548, 'biography': 6549, 'blacks': 6550, 'blues': 6551, 'boy.': 6552, 'brutality': 6553, 'buffalo': 6554, 'cards': 6555, \"child's\": 6556, 'church,': 6557, 'communicate': 6558, 'complaints': 6559, 'confess': 6560, 'considerably': 6561, 'craven': 6562, 'crazy,': 6563, 'crime,': 6564, 'da': 6565, 'dance,': 6566, 'design,': 6567, 'difficulties': 6568, 'doctor,': 6569, 'eaten': 6570, 'emperor': 6571, 'exploring': 6572, 'favour': 6573, 'firing': 6574, 'frightened': 6575, 'function': 6576, 'gadget': 6577, 'gained': 6578, 'genres': 6579, 'griffith': 6580, 'hackneyed': 6581, 'half.': 6582, 'heading': 6583, 'heartfelt': 6584, 'insurance': 6585, 'investigating': 6586, 'morris': 6587, 'mtv': 6588, 'objects': 6589, 'obtain': 6590, 'ocean': 6591, 'office.': 6592, 'owen': 6593, 'owes': 6594, 'posted': 6595, 'pot': 6596, 'pressure': 6597, 'preston': 6598, 'region': 6599, 'secondary': 6600, 'seed': 6601, 'selection': 6602, 'serious,': 6603, 'sexy,': 6604, 'shame.': 6605, 'shirt': 6606, 'simultaneously': 6607, 'solution': 6608, 'stage.': 6609, 'straightforward': 6610, 'stunningly': 6611, 'surprised.': 6612, 'survivors': 6613, 'token': 6614, 'toys': 6615, 'trend': 6616, 'unexpectedly': 6617, 'unseen': 6618, 'vital': 6619, 'wanders': 6620, '\"film\"': 6621, '(his': 6622, '21st': 6623, '4th': 6624, 'a.': 6625, 'abraham': 6626, 'adams': 6627, 'adults.': 6628, 'agents': 6629, 'area.': 6630, 'barrymore': 6631, 'been,': 6632, 'bell': 6633, 'berlin': 6634, 'biblical': 6635, 'blade': 6636, 'bulk': 6637, 'celluloid': 6638, 'charlton': 6639, 'chest': 6640, 'choosing': 6641, 'comedies,': 6642, 'comparisons': 6643, 'confronted': 6644, 'creep': 6645, 'demonic': 6646, 'departure': 6647, 'dies,': 6648, 'disappointed.<br': 6649, 'disgusted': 6650, 'divorce': 6651, 'dresses': 6652, 'drive-in': 6653, 'dumb.': 6654, 'education': 6655, 'event,': 6656, 'eventually,': 6657, 'experiments': 6658, 'feeding': 6659, 'firm': 6660, 'folks,': 6661, 'fortunately': 6662, 'gangsters': 6663, 'garbo': 6664, 'godfather': 6665, 'guess,': 6666, 'hands,': 6667, 'has.': 6668, 'height': 6669, 'houses': 6670, 'industry.': 6671, 'internal': 6672, \"jackson's\": 6673, 'kung-fu': 6674, 'l.': 6675, 'lady,': 6676, 'lasting': 6677, 'layers': 6678, 'lend': 6679, 'levels.': 6680, 'light-hearted': 6681, 'limits': 6682, 'losers': 6683, 'lush': 6684, 'making.': 6685, 'means,': 6686, 'minded': 6687, 'misguided': 6688, 'mummy': 6689, 'next,': 6690, 'ninja': 6691, 'organized': 6692, 'pan': 6693, 'parents.': 6694, 'peak': 6695, 'pig': 6696, 'plausible': 6697, 'point.<br': 6698, 'prison,': 6699, 'proving': 6700, 'refuse': 6701, 'ride.': 6702, 'smiling': 6703, 'spinal': 6704, 'stilted': 6705, 'stunned': 6706, 'suburban': 6707, 'swept': 6708, 'thus,': 6709, 'triple': 6710, 'ultimately,': 6711, 'unrelated': 6712, 'ustinov': 6713, 'vastly': 6714, 'vocal': 6715, 'witches': 6716, '(how': 6717, '(most': 6718, \"(that's\": 6719, '/>john': 6720, '/>still,': 6721, 'after,': 6722, 'applaud': 6723, 'assuming': 6724, 'bath': 6725, 'bedroom': 6726, 'birds': 6727, 'boyfriend,': 6728, 'buildings': 6729, 'category.': 6730, 'claus': 6731, 'club,': 6732, 'commander': 6733, 'compassion': 6734, 'complaining': 6735, 'conceived': 6736, 'confront': 6737, 'convinces': 6738, 'creator': 6739, 'damme': 6740, 'dana': 6741, 'decidedly': 6742, 'defense': 6743, 'definitive': 6744, 'delicate': 6745, 'designer': 6746, 'dialog.': 6747, 'dropping': 6748, 'employed': 6749, 'entertained.': 6750, 'eventual': 6751, 'eye,': 6752, 'family.<br': 6753, 'fast,': 6754, 'flair': 6755, 'flicks,': 6756, 'further,': 6757, 'g.': 6758, 'graham': 6759, 'grandfather': 6760, 'hippie': 6761, 'incapable': 6762, 'inexplicably': 6763, 'ingenious': 6764, 'inherent': 6765, 'kingdom': 6766, 'language.': 6767, 'late,': 6768, 'lee,': 6769, 'likewise': 6770, 'lois': 6771, 'lumet': 6772, 'marlon': 6773, 'martha': 6774, 'missed.': 6775, 'mixing': 6776, 'muddled': 6777, 'nice.': 6778, 'nicolas': 6779, 'nyc': 6780, 'occasion': 6781, 'often.': 6782, 'parade': 6783, 'park,': 6784, 'patience': 6785, 'pete': 6786, 'pg-13': 6787, 'place.<br': 6788, 'places,': 6789, 'posters': 6790, 'prequel': 6791, 'promptly': 6792, 'puerto': 6793, 'puppet': 6794, 'quickly.': 6795, 'referring': 6796, 'relationships,': 6797, 'relatives': 6798, 'reviews.': 6799, 'rocky': 6800, 'saga': 6801, 'satirical': 6802, 'seventies': 6803, 'shaky': 6804, 'sharing': 6805, \"she'd\": 6806, 'sincerely': 6807, \"son's\": 6808, 'space,': 6809, 'stages': 6810, 'sticking': 6811, 'swing': 6812, 'tank': 6813, 'tension.': 6814, 'terrified': 6815, 'trail': 6816, 'troubles': 6817, 'twists,': 6818, 'undeniably': 6819, 'unsuspecting': 6820, 'widescreen': 6821, '\"no': 6822, '(perhaps': 6823, '/>she': 6824, '2\"': 6825, '`the': 6826, 'acid': 6827, 'address': 6828, 'affects': 6829, 'african-american': 6830, 'alicia': 6831, 'andre': 6832, 'audiences.': 6833, 'belushi': 6834, 'blast': 6835, 'buster': 6836, 'buys': 6837, 'caliber': 6838, 'camp,': 6839, 'casts': 6840, 'channels': 6841, 'cheer': 6842, 'clarke': 6843, 'combines': 6844, 'companies': 6845, 'concentrate': 6846, 'contribute': 6847, 'cop,': 6848, 'creativity': 6849, 'crocodile': 6850, 'crystal': 6851, 'demonstrate': 6852, 'deniro': 6853, 'deserving': 6854, 'dickens': 6855, 'dixon': 6856, 'elements,': 6857, 'elements.': 6858, 'emerges': 6859, 'ensure': 6860, 'entered': 6861, 'entering': 6862, 'existence.': 6863, 'exposure': 6864, 'fantasy,': 6865, 'fishing': 6866, 'forgotten.': 6867, \"freddy's\": 6868, 'glued': 6869, 'hindi': 6870, 'human,': 6871, 'imagination,': 6872, 'imdb,': 6873, 'improvement': 6874, 'issues,': 6875, 'it`s': 6876, 'lundgren': 6877, 'mate': 6878, 'meg': 6879, 'minimum': 6880, 'moronic': 6881, 'nonsensical': 6882, 'obvious,': 6883, 'palma': 6884, 'paramount': 6885, 'physics': 6886, 'planet.': 6887, 'poison': 6888, 'police,': 6889, 'premiere': 6890, 'pro': 6891, 'prostitute': 6892, 'rejected': 6893, 'robinson': 6894, 'rock,': 6895, 'rude': 6896, 'ships': 6897, 'shopping': 6898, 'shoulders': 6899, 'simmons': 6900, 'sketch': 6901, 'sleeps': 6902, 'suicide.': 6903, 'tension,': 6904, 'threatened': 6905, 'thrilled': 6906, 'tone,': 6907, 'tossed': 6908, 'tragedy,': 6909, 'underneath': 6910, 'venture': 6911, 'victory': 6912, 'visuals,': 6913, 'walker': 6914, 'walsh': 6915, 'wander': 6916, 'waves': 6917, 'weird,': 6918, 'wow': 6919, '\"b\"': 6920, '/>4/10': 6921, '1,': 6922, 'adventure,': 6923, 'altogether': 6924, 'alvin': 6925, 'amusing,': 6926, 'appeals': 6927, 'audrey': 6928, 'bands': 6929, 'bay': 6930, 'brooding': 6931, 'buffs': 6932, 'by,': 6933, 'cd': 6934, 'centre': 6935, 'coast': 6936, 'company.': 6937, 'compete': 6938, 'connery': 6939, 'cue': 6940, 'culture,': 6941, 'deaf': 6942, 'depict': 6943, 'despicable': 6944, 'detail,': 6945, \"devil's\": 6946, 'disastrous': 6947, 'disturbing.': 6948, 'dog,': 6949, 'done.<br': 6950, 'door,': 6951, 'downey': 6952, 'dubious': 6953, 'eighties': 6954, 'esther': 6955, 'excruciatingly': 6956, 'expertly': 6957, 'exploit': 6958, 'exposition': 6959, 'fade': 6960, 'fathers': 6961, 'feeling.': 6962, \"ford's\": 6963, 'funeral': 6964, 'furious': 6965, 'glamorous': 6966, 'iii': 6967, 'importantly': 6968, 'lasts': 6969, 'laughable,': 6970, 'lift': 6971, 'locations,': 6972, 'london,': 6973, 'macho': 6974, 'marriage.': 6975, 'melissa': 6976, 'milk': 6977, 'minute.': 6978, 'misfortune': 6979, 'missing.': 6980, 'owns': 6981, 'pain,': 6982, 'patients': 6983, 'perfection': 6984, 'phantom': 6985, 'project,': 6986, 'property': 6987, 'releases': 6988, 'respect.': 6989, 'romero': 6990, 'satisfied': 6991, 'saying,': 6992, 'sentiment': 6993, 'serious.': 6994, 'sissy': 6995, 'stale': 6996, 'subtly': 6997, 'taste,': 6998, 'too!': 6999, 'twist.': 7000, 'valley': 7001, 'visions': 7002, 'vulgar': 7003, 'weakness': 7004, 'wow.': 7005, '\"big': 7006, \"/>i'd\": 7007, '/>ok,': 7008, '/>these': 7009, '35': 7010, 'accomplish': 7011, 'addicted': 7012, 'adventure.': 7013, 'affection': 7014, 'airplane': 7015, 'alleged': 7016, 'amused': 7017, 'amusement': 7018, 'as,': 7019, 'away.<br': 7020, 'balls': 7021, 'being.': 7022, 'bitten': 7023, 'boring.<br': 7024, 'bridget': 7025, 'cassidy': 7026, 'charm,': 7027, 'childhood,': 7028, 'chopped': 7029, 'collect': 7030, 'contribution': 7031, 'curly': 7032, 'demanding': 7033, 'desires': 7034, 'dudley': 7035, 'edit': 7036, 'emotion.': 7037, 'ending.<br': 7038, 'expect,': 7039, 'expectations,': 7040, 'expects': 7041, 'exploits': 7042, 'expose': 7043, 'females': 7044, 'feminist': 7045, 'fist': 7046, 'flashy': 7047, 'from,': 7048, 'gender': 7049, 'generations': 7050, 'harmless': 7051, 'hartley': 7052, 'hopper': 7053, 'imitation': 7054, 'ingrid': 7055, 'inspire': 7056, 'invasion': 7057, 'iraq': 7058, 'irrelevant': 7059, 'itself.<br': 7060, 'kathryn': 7061, 'labor': 7062, 'landed': 7063, 'lex': 7064, 'literature': 7065, 'mclaglen': 7066, 'mill': 7067, 'minus': 7068, 'mistress': 7069, 'moreover,': 7070, 'nerd': 7071, 'none.': 7072, 'numbers,': 7073, 'older,': 7074, 'opera.': 7075, 'outright': 7076, 'owned': 7077, 'phillip': 7078, 'praised': 7079, 'pray': 7080, 'premise.': 7081, 'process.': 7082, 'rainy': 7083, 'rapidly': 7084, 'reasons,': 7085, 'rendered': 7086, 'residents': 7087, 'richards': 7088, 'rod': 7089, 'roommate': 7090, 'scariest': 7091, 'seedy': 7092, 'sentence': 7093, 'significance': 7094, 'slimy': 7095, 'sox': 7096, 'space.': 7097, 'springer': 7098, 'switched': 7099, 'symbolic': 7100, 'tacky': 7101, 'theme.': 7102, 'thread': 7103, 'tribe': 7104, 'tyler': 7105, 'wang': 7106, 'wax': 7107, 'ya': 7108, 'youthful': 7109, '\\x97': 7110, '(james': 7111, '1960s': 7112, '2005': 7113, '7.': 7114, 'absent': 7115, 'acted.': 7116, 'afterwards': 7117, 'all!': 7118, 'austen': 7119, 'baby,': 7120, 'bang': 7121, 'believe.': 7122, 'bent': 7123, 'books.': 7124, 'bunny': 7125, 'butler': 7126, 'campbell': 7127, 'carradine': 7128, 'cattle': 7129, 'cerebral': 7130, 'challenged': 7131, 'championship': 7132, 'change,': 7133, 'channel.': 7134, 'chicks': 7135, 'climax.': 7136, 'conrad': 7137, 'continuing': 7138, 'contributed': 7139, 'controlled': 7140, 'countryside': 7141, 'crashes': 7142, 'cream': 7143, 'daddy': 7144, 'date,': 7145, 'der': 7146, 'devices': 7147, 'disguised': 7148, 'else.<br': 7149, 'establish': 7150, 'exciting,': 7151, 'failure.': 7152, 'feel,': 7153, 'feel-good': 7154, 'fills': 7155, 'flashes': 7156, 'flicks.': 7157, 'flop': 7158, 'formed': 7159, 'frankie': 7160, 'gambling': 7161, 'greed': 7162, 'help,': 7163, 'ignorance': 7164, 'imdb.': 7165, 'iran': 7166, 'jaw': 7167, 'landscapes': 7168, 'lips': 7169, 'live,': 7170, 'located': 7171, 'longest': 7172, 'macarthur': 7173, 'map': 7174, 'memorable,': 7175, 'miracle': 7176, 'most,': 7177, 'murray': 7178, 'neatly': 7179, 'neighbors': 7180, 'nephew': 7181, 'now.<br': 7182, 'objective': 7183, 'paced,': 7184, 'pal': 7185, 'panic': 7186, 'policeman': 7187, 'provocative': 7188, 'pursue': 7189, 'quantum': 7190, 'rangers': 7191, 'read,': 7192, 'recently,': 7193, 'resources': 7194, 'rides': 7195, 'rifle': 7196, 'ronald': 7197, 'seeming': 7198, 'selected': 7199, 'sequence.': 7200, 'shouting': 7201, 'soylent': 7202, 'stalking': 7203, 'such.': 7204, 'supply': 7205, 'thing.<br': 7206, 'tip': 7207, 'tormented': 7208, 'trees': 7209, 'trials': 7210, 'ugly,': 7211, 'unit': 7212, 'vegas': 7213, 'water.': 7214, 'zombies,': 7215, '/>rating:': 7216, '/>since': 7217, 'abrupt': 7218, 'aided': 7219, 'aiming': 7220, 'air,': 7221, 'already.': 7222, 'arab': 7223, 'assassin': 7224, 'average,': 7225, 'avoiding': 7226, 'begging': 7227, 'being,': 7228, 'bergman': 7229, 'blood\"': 7230, 'break.': 7231, 'buff': 7232, 'casting,': 7233, 'cities': 7234, 'citizens': 7235, 'collective': 7236, 'comedy.<br': 7237, 'commercials': 7238, 'commits': 7239, 'concept,': 7240, 'conclude': 7241, 'contest': 7242, 'conveyed': 7243, 'couple,': 7244, 'cracking': 7245, 'credit,': 7246, 'crossing': 7247, 'defies': 7248, 'directions': 7249, 'disappoint': 7250, 'disappointed,': 7251, 'distract': 7252, 'drake': 7253, 'dream.': 7254, 'dust': 7255, 'emerge': 7256, 'estranged': 7257, 'etc,': 7258, 'exquisite': 7259, 'floor.': 7260, 'glaring': 7261, 'guitar': 7262, 'happy.': 7263, 'heist': 7264, 'helpless': 7265, 'here:': 7266, 'high,': 7267, 'humanity.': 7268, 'injured': 7269, 'island.': 7270, 'jones,': 7271, 'kane': 7272, 'knocks': 7273, 'ladder': 7274, 'locals': 7275, 'macy': 7276, 'masterfully': 7277, 'me)': 7278, 'mini-series': 7279, 'minority': 7280, 'miserably.': 7281, 'mitchell': 7282, 'monk': 7283, 'non-existent': 7284, 'on!': 7285, 'out!': 7286, 'packs': 7287, 'pages': 7288, 'palace': 7289, 'performance.<br': 7290, 'phrase': 7291, 'popping': 7292, 'populated': 7293, 'prey': 7294, 'randolph': 7295, 'records': 7296, 'relationship,': 7297, 'reliable': 7298, 'remakes': 7299, 'reminder': 7300, 'respectable': 7301, 'reward': 7302, 'robbery': 7303, 'robbins': 7304, 'sassy': 7305, 'setting.': 7306, 'so.<br': 7307, 'something.<br': 7308, 'sooner': 7309, 'sought': 7310, 'stack': 7311, \"story's\": 7312, 'stranded': 7313, 'swim': 7314, 'taped': 7315, 'tax': 7316, 'tendency': 7317, \"tony's\": 7318, 'toronto': 7319, 'ultra': 7320, 'unfair': 7321, 'up!': 7322, 'vein': 7323, 'walt': 7324, 'when,': 7325, 'willis': 7326, 'yes.': 7327, \"'cause\": 7328, '(because': 7329, '(probably': 7330, '/>his': 7331, '/>please': 7332, '13th': 7333, '2001': 7334, '50s': 7335, 'absurdity': 7336, 'accuracy': 7337, 'achieves': 7338, 'altman': 7339, 'approaches': 7340, 'approaching': 7341, \"audience's\": 7342, 'backs': 7343, 'baldwin': 7344, 'banal': 7345, 'bed,': 7346, 'behaviour': 7347, 'breed': 7348, 'bruno': 7349, 'carell': 7350, 'cars,': 7351, 'choppy': 7352, 'circus': 7353, 'civilization': 7354, 'clichés,': 7355, 'co-stars': 7356, 'comedies.': 7357, 'comments.': 7358, 'consist': 7359, 'copied': 7360, 'covering': 7361, 'deciding': 7362, 'demonstrated': 7363, 'deserves.': 7364, 'devastating': 7365, 'disturbing,': 7366, 'eleven': 7367, 'embrace': 7368, 'enhance': 7369, 'errol': 7370, 'establishing': 7371, 'executed.': 7372, 'fifth': 7373, 'filmed.': 7374, 'fragile': 7375, 'funny!': 7376, 'gina': 7377, 'going,': 7378, 'grateful': 7379, 'guaranteed': 7380, 'h': 7381, 'hair.': 7382, 'has,': 7383, 'healthy': 7384, 'hearted': 7385, 'hokey': 7386, 'insults': 7387, 'intelligence.': 7388, 'karate': 7389, \"kelly's\": 7390, 'l.a.': 7391, 'left.': 7392, 'lends': 7393, 'less,': 7394, 'lindsay': 7395, 'live.': 7396, 'lock': 7397, 'maid': 7398, 'mccoy': 7399, 'mutant': 7400, 'n': 7401, 'new.': 7402, 'offer.': 7403, 'parties': 7404, 'patricia': 7405, 'peters': 7406, 'planet,': 7407, 'proceedings': 7408, 'promoted': 7409, 'pushes': 7410, 'rabbit': 7411, 'radical': 7412, 'raj': 7413, 'relentless': 7414, 'reports': 7415, 'resulted': 7416, 'results.': 7417, 'rooney': 7418, 'sabrina': 7419, 'screw': 7420, 'secondly,': 7421, 'shaking': 7422, 'simply,': 7423, 'sirk': 7424, 'skilled': 7425, 'startling': 7426, 'states.': 7427, 'stewart,': 7428, 'strangers': 7429, 'street.': 7430, 'studies': 7431, 'teachers': 7432, 'to.<br': 7433, 'tomatoes': 7434, 'turn,': 7435, 'twins': 7436, 'type,': 7437, 'uma': 7438, 'updated': 7439, 'uplifting': 7440, 'vance': 7441, 'vengeance': 7442, 'victorian': 7443, 'warming': 7444, 'wider': 7445, '\"who': 7446, '(particularly': 7447, '/>bottom': 7448, '/>good': 7449, 'acquired': 7450, \"actors'\": 7451, 'advertised': 7452, 'attacking': 7453, 'audiences,': 7454, 'avoid.': 7455, 'bacall': 7456, 'begs': 7457, 'bizarre,': 7458, 'boom': 7459, 'bored.': 7460, 'brendan': 7461, 'button': 7462, 'carla': 7463, 'cecil': 7464, 'celebrated': 7465, 'claustrophobic': 7466, 'clear.': 7467, 'climax,': 7468, 'climb': 7469, 'colin': 7470, 'comedians': 7471, 'complex,': 7472, 'confusing.': 7473, 'connections': 7474, 'convicted': 7475, 'conviction': 7476, 'corny,': 7477, 'crazy.': 7478, 'define': 7479, 'descent': 7480, 'destiny': 7481, 'details.': 7482, 'doctors': 7483, \"dvd's\": 7484, 'dylan': 7485, 'engrossing': 7486, 'enhanced': 7487, 'fast.': 7488, 'fiancé': 7489, 'fingers': 7490, 'flimsy': 7491, 'fuller': 7492, 'good\"': 7493, 'helpful': 7494, \"hero's\": 7495, 'high.': 7496, 'honesty': 7497, 'however.': 7498, 'impressive,': 7499, 'incomprehensible': 7500, 'insipid': 7501, 'interact': 7502, 'interests': 7503, 'intricate': 7504, 'invite': 7505, 'japan,': 7506, 'jess': 7507, 'jews': 7508, 'jules': 7509, 'lavish': 7510, 'lead.': 7511, 'leap': 7512, 'legacy': 7513, \"life's\": 7514, 'limit': 7515, 'lost,': 7516, 'maniac': 7517, 'marshall': 7518, 'marvel': 7519, 'misery': 7520, 'mobile': 7521, 'modest': 7522, 'musicians': 7523, 'naughty': 7524, 'noises': 7525, 'note:': 7526, 'omen': 7527, 'pants': 7528, 'parallels': 7529, 'peculiar': 7530, 'previews': 7531, 'rats': 7532, 'readily': 7533, 'relentlessly': 7534, 'remake,': 7535, 'remembers': 7536, 'repressed': 7537, 'romp': 7538, 'roth': 7539, \"scott's\": 7540, 'seasoned': 7541, 'setup': 7542, 'shallow,': 7543, 'shockingly': 7544, 'sixth': 7545, 'slapped': 7546, 'sleep.': 7547, 'slip': 7548, 'slowly,': 7549, 'soft-core': 7550, 'some,': 7551, 'someone,': 7552, 'sound.': 7553, 'stare': 7554, 'state,': 7555, 'subtle,': 7556, 'suddenly,': 7557, 'suspected': 7558, 'terrorists': 7559, 'unbelievable,': 7560, 'understand,': 7561, 'unlikeable': 7562, 'vibrant': 7563, 'wastes': 7564, 'weaker': 7565, 'well-made': 7566, 'white.': 7567, 'winchester': 7568, \"writer's\": 7569, 'writers,': 7570, 'yard': 7571, '\"get': 7572, '\"that': 7573, \"'i\": 7574, '/>***': 7575, '/>great': 7576, '/>oh': 7577, \"1930's\": 7578, '2004': 7579, '3)': 7580, '90%': 7581, 'abruptly': 7582, 'acceptance': 7583, 'accepting': 7584, 'accurately': 7585, 'agency': 7586, 'alright,': 7587, 'analysis': 7588, 'antonio': 7589, 'approached': 7590, 'arriving': 7591, 'assembled': 7592, 'attending': 7593, 'banter': 7594, 'bike': 7595, \"bug's\": 7596, 'bull': 7597, 'campaign': 7598, \"che's\": 7599, 'cinema.<br': 7600, 'clash': 7601, 'confusing,': 7602, 'conventions': 7603, 'corpses': 7604, 'crashing': 7605, 'crippled': 7606, 'dad,': 7607, 'damaged': 7608, 'dark.': 7609, 'dashing': 7610, 'debate': 7611, 'defeated': 7612, 'diverse': 7613, 'en': 7614, 'equipment': 7615, 'ever!': 7616, 'fantasies': 7617, 'festival,': 7618, 'fog': 7619, 'fun!': 7620, 'games,': 7621, 'gems': 7622, 'grabbed': 7623, 'guests': 7624, 'hack': 7625, 'happy,': 7626, 'heartbreaking': 7627, 'hit.': 7628, 'hope,': 7629, 'huh?': 7630, 'immense': 7631, 'immortal': 7632, 'important,': 7633, 'inconsistent': 7634, 'indicate': 7635, 'insightful': 7636, 'instinct': 7637, 'integrity': 7638, 'ironically': 7639, \"jane's\": 7640, \"keaton's\": 7641, 'kitty': 7642, 'know.<br': 7643, 'leads.': 7644, 'loretta': 7645, 'love.<br': 7646, 'low-key': 7647, 'magic,': 7648, 'males': 7649, 'marc': 7650, 'mark.': 7651, 'masks': 7652, 'medieval': 7653, 'monkeys': 7654, 'musician': 7655, 'mysteriously': 7656, 'nails': 7657, 'ominous': 7658, 'operation': 7659, 'outstanding.': 7660, 'overacting': 7661, 'overlong': 7662, 'palance': 7663, 'pale': 7664, 'paranoia': 7665, 'parking': 7666, 'party.': 7667, 'passengers': 7668, 'peaceful': 7669, 'perfection.': 7670, 'personality.': 7671, 'pitiful': 7672, 'pounds': 7673, 'producer,': 7674, 'published': 7675, 'punches': 7676, 'quentin': 7677, 'raines': 7678, 'reviewing': 7679, 'scifi': 7680, 'scrooge': 7681, 'sells': 7682, 'settled': 7683, 'sick.': 7684, 'sinking': 7685, 'sister.': 7686, 'skits': 7687, 'small,': 7688, 'squad': 7689, 'stating': 7690, 'suggestion': 7691, 'survivor': 7692, 'tail': 7693, 'tara': 7694, 'toby': 7695, 'topics': 7696, 'underwater': 7697, 'unreal': 7698, 'watson': 7699, 'weird.': 7700, 'well-written': 7701, 'western,': 7702, \"where's\": 7703, 'wiped': 7704, 'wisely': 7705, '\"let\\'s': 7706, '(we': 7707, '/>here': 7708, \"1970's\": 7709, '2/10': 7710, '3,': 7711, '9/11': 7712, 'adore': 7713, 'anil': 7714, 'anywhere.': 7715, 'arranged': 7716, 'aussie': 7717, 'baby.': 7718, 'bachelor': 7719, 'beg': 7720, 'best.<br': 7721, 'boston': 7722, 'bounty': 7723, 'c': 7724, 'cat,': 7725, 'cave': 7726, 'cheaply': 7727, 'chicago': 7728, 'chills': 7729, 'chronicles': 7730, 'circumstances.': 7731, 'cliche': 7732, 'colors,': 7733, 'confident': 7734, 'content.': 7735, 'crew,': 7736, 'cries': 7737, 'cruelty': 7738, 'cuban': 7739, 'cute.': 7740, 'dancing,': 7741, 'darth': 7742, 'deliciously': 7743, 'delightfully': 7744, 'depth,': 7745, 'depth.': 7746, 'details,': 7747, 'did.<br': 7748, 'distribution': 7749, 'do.<br': 7750, \"doesn't.\": 7751, 'dominated': 7752, 'door.': 7753, 'dumbest': 7754, 'elsewhere.': 7755, 'embarrassingly': 7756, 'enthusiastic': 7757, 'evidently': 7758, 'experience.<br': 7759, 'eyre': 7760, 'favorites.': 7761, 'film...': 7762, 'fontaine': 7763, 'free.': 7764, 'garner': 7765, 'genie': 7766, 'gillian': 7767, 'glasses': 7768, 'gone,': 7769, 'guns,': 7770, 'harm': 7771, 'havoc': 7772, 'heartwarming': 7773, 'heck,': 7774, 'her?': 7775, 'hopeless': 7776, 'hot,': 7777, 'husbands': 7778, 'insist': 7779, 'jared': 7780, 'kidman': 7781, 'kidnapping': 7782, \"killer's\": 7783, 'kolchak': 7784, 'lately': 7785, 'lauren': 7786, 'london.': 7787, 'longing': 7788, 'luis': 7789, 'mars': 7790, 'mercy': 7791, 'messing': 7792, 'messy': 7793, 'miserably': 7794, 'musical.': 7795, 'natives': 7796, 'nolan': 7797, 'obsessive': 7798, 'painful.': 7799, 'passable': 7800, 'perception': 7801, 'pirate': 7802, 'pointing': 7803, 'portrayals': 7804, 'posey': 7805, 'posing': 7806, 'present,': 7807, 'public.': 7808, 'punishment': 7809, 'pursued': 7810, 'question.': 7811, 'quickly,': 7812, 'quiet,': 7813, 'ramones': 7814, 'rapist': 7815, 'rear': 7816, 'recommendation': 7817, 'regards': 7818, 'reign': 7819, 'relax': 7820, 'remembering': 7821, 'resembling': 7822, 'roots': 7823, 'sensible': 7824, 'separated': 7825, 'servant': 7826, 'set-up': 7827, 'shades': 7828, 'sixties': 7829, 'spit': 7830, \"stewart's\": 7831, 'story\"': 7832, 'suggesting': 7833, 'thankfully,': 7834, 'travesty': 7835, 'twist,': 7836, 'unique,': 7837, 'unoriginal': 7838, 'unsure': 7839, 'unusually': 7840, 'viewings': 7841, 'vince': 7842, 'virtual': 7843, 'voiced': 7844, 'warriors': 7845, 'wasted.': 7846, 'worse.<br': 7847, 'wrong!': 7848, '\"house': 7849, '\"movie\"': 7850, '\"they': 7851, '(more': 7852, ').': 7853, '/>only': 7854, '10/10.': 7855, 'affairs': 7856, 'africa,': 7857, 'album': 7858, 'altered': 7859, 'amrita': 7860, 'avid': 7861, 'background,': 7862, 'bacon': 7863, 'bar,': 7864, 'bogus': 7865, \"branagh's\": 7866, 'cal': 7867, 'choice,': 7868, 'christine': 7869, 'clan': 7870, 'comparison.': 7871, 'concerned.': 7872, 'conveniently': 7873, 'couch': 7874, 'crap.<br': 7875, 'crawford': 7876, 'credit.': 7877, 'dates': 7878, 'dazzling': 7879, 'delighted': 7880, 'depictions': 7881, 'depths': 7882, 'detail.': 7883, 'disappears': 7884, 'distracted': 7885, 'dumped': 7886, 'edgy': 7887, 'elevator': 7888, 'emotion,': 7889, 'england.': 7890, 'error': 7891, 'exciting.': 7892, 'excuses': 7893, 'exploding': 7894, 'explosions': 7895, 'fast-paced': 7896, 'fest': 7897, 'foxx': 7898, 'freaking': 7899, 'friendship,': 7900, 'genius,': 7901, 'georges': 7902, 'glimpses': 7903, 'gone.': 7904, 'greatness': 7905, 'hammy': 7906, 'heavy-handed': 7907, 'hinted': 7908, 'horny': 7909, 'hospital.': 7910, 'housewife': 7911, 'hungry': 7912, 'ignores': 7913, 'ii.': 7914, 'important.': 7915, 'inclusion': 7916, 'indiana': 7917, 'inexplicable': 7918, 'introducing': 7919, 'ira': 7920, 'it),': 7921, 'judd': 7922, 'judged': 7923, 'king.': 7924, 'kumar': 7925, 'lance': 7926, 'leaders': 7927, 'leon': 7928, 'lucille': 7929, 'macabre': 7930, 'maintains': 7931, 'make.': 7932, 'masterpieces': 7933, 'me?': 7934, 'muppets': 7935, 'myth': 7936, 'narrow': 7937, 'nina': 7938, 'novak': 7939, 'nut': 7940, 'nuts': 7941, 'over.<br': 7942, 'overblown': 7943, 'pit': 7944, 'poem': 7945, 'pointless,': 7946, 'possess': 7947, 'quarter': 7948, 'reader': 7949, 'realities': 7950, 'relating': 7951, 'releasing': 7952, 'rukh': 7953, 'run.': 7954, 'salvation': 7955, 'samantha': 7956, 'schools': 7957, 'script.<br': 7958, 'severed': 7959, 'shorter': 7960, 'sniper': 7961, 'soderbergh': 7962, 'sophie': 7963, 'standout': 7964, 'stunning.': 7965, 'sub-par': 7966, 'sucked.': 7967, 'sugar': 7968, 'talk,': 7969, 'technicolor': 7970, 'that)': 7971, 'theaters.': 7972, 'thought-provoking': 7973, 'tiresome': 7974, 'toni': 7975, 'tourist': 7976, 'translate': 7977, 'truman': 7978, 'unfold': 7979, 'upcoming': 7980, 'vanessa': 7981, 'w.': 7982, 'west.': 7983, 'whatsoever,': 7984, 'woo': 7985, 'worthwhile.': 7986, '!!': 7987, '(only': 7988, '/>8/10': 7989, '/>much': 7990, '/>see': 7991, '90s': 7992, 'acknowledge': 7993, 'admitted': 7994, 'after.': 7995, 'ah,': 7996, 'all:': 7997, 'amidst': 7998, 'anton': 7999, 'appeal.': 8000, 'apply': 8001, 'artsy': 8002, 'assure': 8003, 'asylum': 8004, 'attended': 8005, 'babies': 8006, 'blamed': 8007, 'boris': 8008, 'brainless': 8009, 'bronson': 8010, 'caricatures': 8011, 'cartoonish': 8012, 'casper': 8013, 'cbs': 8014, 'champion': 8015, 'charms': 8016, 'check.': 8017, 'cheesy.': 8018, 'chicken': 8019, 'claude': 8020, 'cleaning': 8021, 'clock': 8022, 'compelling,': 8023, 'coup': 8024, 'couple.': 8025, 'creepy.': 8026, 'damned': 8027, 'dandy': 8028, 'daniels': 8029, 'dated,': 8030, 'dirt': 8031, 'disguise': 8032, 'divorced': 8033, \"doctor's\": 8034, 'doom': 8035, 'dumb,': 8036, 'economic': 8037, 'erika': 8038, 'escaping': 8039, 'excellently': 8040, 'exclusively': 8041, 'explosive': 8042, 'feature,': 8043, 'feeble': 8044, 'fields': 8045, 'find.': 8046, 'firstly,': 8047, 'forgetting': 8048, 'fresh,': 8049, 'generate': 8050, 'goldie': 8051, 'grainy': 8052, 'grayson': 8053, 'group.': 8054, 'guards': 8055, 'gwyneth': 8056, 'heels': 8057, 'heights': 8058, 'humans,': 8059, 'immature': 8060, 'info': 8061, 'informed': 8062, 'inhabitants': 8063, 'intensely': 8064, 'j': 8065, 'juliette': 8066, 'kansas': 8067, 'leather': 8068, 'live-action': 8069, 'looking,': 8070, 'lurking': 8071, 'malone': 8072, 'masses': 8073, 'mathieu': 8074, 'meandering': 8075, 'merits': 8076, 'miniseries': 8077, 'mrs': 8078, 'ms': 8079, 'mystical': 8080, 'neurotic': 8081, 'old-fashioned': 8082, 'one)': 8083, 'orleans': 8084, 'package': 8085, 'pathetic,': 8086, \"person's\": 8087, 'poetry': 8088, 'popped': 8089, 'possesses': 8090, 'powerful,': 8091, 'preposterous': 8092, 'produces': 8093, 'psychology': 8094, 'quinn': 8095, 'racing': 8096, 'rape,': 8097, 'record,': 8098, 'reel': 8099, 'reflected': 8100, 'rehash': 8101, 'reid': 8102, 'remember.': 8103, 'ross': 8104, 'rounded': 8105, 'russia': 8106, 'scotland': 8107, 'senior': 8108, 'seymour': 8109, 'sf': 8110, 'slide': 8111, 'spacey': 8112, 'special,': 8113, 'spice': 8114, 'spies': 8115, 'steam': 8116, 'stinker': 8117, 'story?': 8118, 'tonight': 8119, 'trouble.': 8120, 'vile': 8121, 'vintage': 8122, 'wall.': 8123, 'warns': 8124, 'yokai': 8125, '\"new': 8126, '\"oh,': 8127, '(unless': 8128, '/>4.': 8129, '/>7/10': 8130, '/>because': 8131, 'actors.<br': 8132, 'admired': 8133, 'adrian': 8134, 'agent,': 8135, 'ally': 8136, 'ambition': 8137, 'ample': 8138, 'angles,': 8139, 'anxious': 8140, 'anyway.<br': 8141, 'applies': 8142, 'array': 8143, 'assured': 8144, 'babe': 8145, 'backed': 8146, 'barbra': 8147, 'basinger': 8148, 'biko': 8149, 'bother.': 8150, 'bow': 8151, 'boxer': 8152, 'bud': 8153, 'butcher': 8154, 'chavez': 8155, 'choice.': 8156, 'classy': 8157, 'co-star': 8158, 'color,': 8159, 'concepts': 8160, 'concerned,': 8161, 'confused,': 8162, 'contempt': 8163, 'controlling': 8164, 'critique': 8165, 'deemed': 8166, 'deep,': 8167, 'delicious': 8168, 'derivative': 8169, 'detectives': 8170, 'died,': 8171, 'dismiss': 8172, 'displaying': 8173, 'divine': 8174, 'du': 8175, 'dvds': 8176, 'edith': 8177, 'eli': 8178, 'endlessly': 8179, 'ends,': 8180, 'england,': 8181, 'escape.': 8182, 'evelyn': 8183, 'ever.<br': 8184, 'evolution': 8185, 'farmer': 8186, 'farrell': 8187, 'flaws.': 8188, 'fleshed': 8189, 'foolish': 8190, 'gal': 8191, 'grounds': 8192, 'group,': 8193, 'gunga': 8194, 'harrison': 8195, 'haunt': 8196, 'history.<br': 8197, 'hopkins': 8198, 'human.': 8199, 'hyde': 8200, 'images,': 8201, 'institution': 8202, 'into.': 8203, 'invested': 8204, 'iranian': 8205, 'israeli': 8206, 'item': 8207, 'jaded': 8208, 'jenna': 8209, 'kidnap': 8210, 'knight': 8211, 'lady.': 8212, 'laughing.': 8213, 'launch': 8214, 'legitimate': 8215, 'living.': 8216, 'marked': 8217, 'midst': 8218, 'millionaire': 8219, 'novelty': 8220, 'paints': 8221, 'passage': 8222, 'pattern': 8223, 'photographs': 8224, 'pleasing': 8225, 'polish': 8226, 'publicity': 8227, 'purpose,': 8228, 'ranch': 8229, 'realises': 8230, 'reeves': 8231, 'rejects': 8232, 'relying': 8233, 'renaissance': 8234, 'rescued': 8235, 'revolving': 8236, 'rips': 8237, 'ritchie': 8238, 'ruining': 8239, 'sang': 8240, 'scenery.': 8241, 'scored': 8242, 'sense.<br': 8243, 'senses': 8244, 'shifts': 8245, 'singers': 8246, 'skull': 8247, 'slow.': 8248, 'smiles': 8249, 'snakes': 8250, 'sometime': 8251, 'stargate': 8252, 'steer': 8253, 'story:': 8254, 'substance.': 8255, 'subway': 8256, 'teams': 8257, 'thereby': 8258, 'tiger': 8259, 'told.': 8260, 'tower': 8261, 'trace': 8262, 'trailer,': 8263, 'unexplained': 8264, 'unlikable': 8265, 'v.': 8266, 'vividly': 8267, 'votes': 8268, 'weather': 8269, 'whining': 8270, 'witnessing': 8271, '\"love': 8272, '\"not': 8273, '\"one': 8274, '(about': 8275, '(another': 8276, '*1/2': 8277, '/>10/10': 8278, 'a)': 8279, 'admittedly,': 8280, 'always.': 8281, 'applied': 8282, 'ariel': 8283, 'art-house': 8284, 'assassination': 8285, 'atlantis': 8286, 'authorities': 8287, 'average.': 8288, 'awesome,': 8289, 'b)': 8290, 'beatles': 8291, 'bed.': 8292, 'butch': 8293, 'cake': 8294, 'cannon': 8295, 'canyon': 8296, 'characteristics': 8297, 'clara': 8298, 'clive': 8299, 'commanding': 8300, 'conditions': 8301, 'content,': 8302, 'corey': 8303, 'crew.': 8304, 'criticized': 8305, 'disabled': 8306, 'eagerly': 8307, 'ear': 8308, 'earnest': 8309, 'ebert': 8310, 'effective,': 8311, 'effective.': 8312, 'famed': 8313, 'faults': 8314, 'finishing': 8315, 'forgettable.': 8316, 'foundation': 8317, 'frames': 8318, 'freaky': 8319, 'frontier': 8320, 'fundamental': 8321, 'gere': 8322, 'goes.': 8323, 'good-looking': 8324, 'great.<br': 8325, 'ground,': 8326, 'gun.': 8327, 'hawke': 8328, 'here?': 8329, 'holes,': 8330, 'hospital,': 8331, 'humour.': 8332, 'hurt,': 8333, 'hybrid': 8334, 'ignoring': 8335, 'inmates': 8336, 'insights': 8337, 'inspirational': 8338, 'interested.': 8339, 'irene': 8340, 'jacques': 8341, 'junk.': 8342, 'label': 8343, 'leigh': 8344, 'les': 8345, 'liners': 8346, 'lovely,': 8347, 'low.': 8348, 'm.': 8349, 'marriage,': 8350, 'melvyn': 8351, 'memory.': 8352, 'mentality': 8353, 'milo': 8354, 'mind.<br': 8355, 'missile': 8356, 'monty': 8357, 'motive': 8358, 'mouth.': 8359, \"must've\": 8360, 'natalie': 8361, 'noteworthy': 8362, 'nuances': 8363, 'olivia': 8364, 'opposite.': 8365, 'orange': 8366, 'outing': 8367, 'pad': 8368, 'partners': 8369, 'penn': 8370, 'penny': 8371, 'pickford': 8372, 'places.': 8373, 'playboy': 8374, 'police.': 8375, 'polly': 8376, 'pun': 8377, 'qualify': 8378, 'rebellious': 8379, 'repeats': 8380, 'reviewed': 8381, 'roughly': 8382, 'say?': 8383, 'scratch': 8384, 'screwball': 8385, 'seductive': 8386, 'seems,': 8387, 'seen!': 8388, 'sidewalk': 8389, 'somewhere.': 8390, 'stabbed': 8391, 'static': 8392, 'street\"': 8393, 'strings': 8394, 'sydney': 8395, 'them)': 8396, 'thing:': 8397, 'though.<br': 8398, 'tops': 8399, 'triangle': 8400, 'twice,': 8401, 'uncanny': 8402, 'underworld': 8403, 'upside': 8404, 'vader': 8405, 'varied': 8406, 'verbal': 8407, 'victims,': 8408, 'way)': 8409, 'week,': 8410, 'zombi': 8411, '\"black': 8412, '\"good\"': 8413, '\"hey,': 8414, '(e.g.': 8415, '(her': 8416, '/>where': 8417, '19': 8418, 'accompanying': 8419, 'admits': 8420, 'adults,': 8421, 'alcohol': 8422, 'annoy': 8423, 'appearance,': 8424, 'arrest': 8425, 'attractive,': 8426, 'before.<br': 8427, 'belly': 8428, 'between.': 8429, 'biased': 8430, 'bros.': 8431, 'casino': 8432, 'casting.': 8433, 'christianity': 8434, 'christina': 8435, 'christmas.': 8436, 'chuckle': 8437, 'close,': 8438, 'completed': 8439, 'confined': 8440, 'considers': 8441, 'copy.': 8442, 'courtroom': 8443, 'crisp': 8444, 'criticize': 8445, 'crown': 8446, 'days.<br': 8447, 'death.<br': 8448, 'din': 8449, 'doo': 8450, 'dread': 8451, 'dreamy': 8452, 'elite': 8453, 'encountered': 8454, 'evokes': 8455, 'exit': 8456, 'expense': 8457, 'experiencing': 8458, 'extensive': 8459, 'fight,': 8460, 'film),': 8461, 'film-making.': 8462, 'filthy': 8463, 'finishes': 8464, 'flashbacks,': 8465, 'flick.<br': 8466, 'forgets': 8467, 'frozen': 8468, 'gate': 8469, 'gathering': 8470, 'gigantic': 8471, 'guinea': 8472, 'gun,': 8473, 'gypo': 8474, 'habit': 8475, 'hand-held': 8476, 'harriet': 8477, \"hitchcock's\": 8478, 'hughes': 8479, 'impact.': 8480, 'implied': 8481, 'inaccurate': 8482, 'independence': 8483, 'israel': 8484, 'jill': 8485, 'jose': 8486, 'justice,': 8487, 'kathy': 8488, 'laurie': 8489, 'lethal': 8490, 'liam': 8491, 'lighter': 8492, 'limitations': 8493, 'linked': 8494, 'literal': 8495, 'love\"': 8496, 'magic.': 8497, 'marilyn': 8498, 'match,': 8499, \"men's\": 8500, 'mirrors': 8501, 'murky': 8502, 'needing': 8503, \"ol'\": 8504, 'oscar.': 8505, 'outline': 8506, 'pain.': 8507, 'perspective,': 8508, 'phenomenon': 8509, 'poses': 8510, 'present.': 8511, 'produced.': 8512, 'quintessential': 8513, 'rate,': 8514, 'rational': 8515, 'reiser': 8516, 'reunite': 8517, 'ricky': 8518, 'rightly': 8519, 'riot': 8520, 'rome': 8521, 'rope': 8522, 'salman': 8523, 'salt': 8524, 'saw.': 8525, 'screenwriters': 8526, 'seduce': 8527, 'semblance': 8528, 'shred': 8529, 'speeches': 8530, 'spirit.': 8531, 'stallone': 8532, 'stand-up': 8533, 'statue': 8534, 'stereotypes,': 8535, 'stores': 8536, 'strict': 8537, 'stumble': 8538, 'substantial': 8539, 'summed': 8540, 'tasteless': 8541, 'themes,': 8542, 'there?': 8543, 'tire': 8544, 'titular': 8545, 'trivia': 8546, 'try,': 8547, 'unwatchable': 8548, 'unwatchable.': 8549, 'verge': 8550, 'victims.': 8551, 'volume': 8552, 'well...': 8553, 'young.': 8554, 'zizek': 8555, '\"old': 8556, '(why': 8557, '/>every': 8558, \"/>let's\": 8559, \"1960's\": 8560, '1968': 8561, '22': 8562, '8.': 8563, 'about?': 8564, 'accessible': 8565, 'accident,': 8566, 'activity': 8567, 'affair.': 8568, 'american,': 8569, 'anticipation': 8570, 'antonioni': 8571, 'ants': 8572, 'anyways,': 8573, 'apart,': 8574, 'attenborough': 8575, 'awaiting': 8576, 'badly.': 8577, 'benefits': 8578, 'bowl': 8579, 'boys.': 8580, 'brown,': 8581, 'building,': 8582, 'buzz': 8583, \"carpenter's\": 8584, 'characteristic': 8585, \"charlie's\": 8586, 'cindy': 8587, 'cinemas': 8588, 'commitment': 8589, 'committing': 8590, 'community.': 8591, 'company,': 8592, 'day-lewis': 8593, 'deanna': 8594, 'detective,': 8595, 'drinks': 8596, 'drowned': 8597, 'earliest': 8598, 'earth\"': 8599, 'emotions,': 8600, 'entertaining.<br': 8601, 'excess': 8602, 'executives': 8603, 'explained.': 8604, 'feelings.': 8605, 'feminine': 8606, 'fido': 8607, 'filler': 8608, 'flavor': 8609, 'fortunate': 8610, 'france,': 8611, 'fried': 8612, 'fury': 8613, 'gable': 8614, 'gags,': 8615, 'gimmick': 8616, 'globe': 8617, 'hilarity': 8618, 'hit,': 8619, 'illness': 8620, 'inadvertently': 8621, 'incredible.': 8622, 'infinitely': 8623, 'insanity': 8624, 'ironically,': 8625, 'jaws': 8626, 'jury': 8627, 'justified': 8628, 'kill,': 8629, 'life?': 8630, 'lightning': 8631, 'living,': 8632, 'looks,': 8633, 'loyalty': 8634, 'lukas': 8635, \"lynch's\": 8636, 'mabel': 8637, 'mankind': 8638, 'members,': 8639, 'moe': 8640, 'mol': 8641, 'monster,': 8642, 'mood.': 8643, 'mothers': 8644, 'move.': 8645, 'mute': 8646, 'narrated': 8647, 'neglected': 8648, 'numbers.': 8649, 'obvious.': 8650, 'offbeat': 8651, 'otto': 8652, 'pacific': 8653, 'passion,': 8654, 'paula': 8655, 'pound': 8656, 'principle': 8657, 'produced,': 8658, 'profession': 8659, 'psychopath': 8660, 'realization': 8661, 'remake.': 8662, 'reminding': 8663, 'revolt': 8664, 'richardson': 8665, 'rock.': 8666, 'romantic,': 8667, 'roof': 8668, 'route': 8669, 'safely': 8670, 'saint': 8671, 'sammo': 8672, 'sarcastic': 8673, 'screens': 8674, 'second.': 8675, 'sergeant': 8676, 'servants': 8677, 'sherlock': 8678, 'shootout': 8679, 'sick,': 8680, 'skit': 8681, 'soldiers,': 8682, 'stalked': 8683, 'stylized': 8684, 'subject.': 8685, 'sublime': 8686, 'sucker': 8687, 'supreme': 8688, 'tears.': 8689, 'terrific.': 8690, 'third,': 8691, 'three,': 8692, 'through.<br': 8693, 'tool': 8694, 'treat.': 8695, 'unrealistic.': 8696, 'users': 8697, 'vanilla': 8698, 'vanity': 8699, 'vehicles': 8700, 'villainous': 8701, 'wonder,': 8702, 'writer.': 8703, '\"little': 8704, '\"mr.': 8705, '\"where': 8706, '\"you\\'re': 8707, '(despite': 8708, '....': 8709, '/>unlike': 8710, '1972': 8711, '1980': 8712, '28': 8713, 'ace': 8714, 'adapt': 8715, 'alexandre': 8716, 'alike.': 8717, 'anyway?': 8718, 'artwork': 8719, 'avenge': 8720, 'avoids': 8721, 'awakening': 8722, 'bachchan': 8723, 'bar.': 8724, 'battling': 8725, 'behavior.': 8726, 'biting': 8727, 'bored,': 8728, 'box,': 8729, 'boys,': 8730, 'cable.': 8731, 'carmen': 8732, 'cassavetes': 8733, 'cents': 8734, 'channel,': 8735, 'cher': 8736, 'comprehend': 8737, 'computers': 8738, 'concept.': 8739, 'conscience': 8740, 'control,': 8741, 'courtesy': 8742, 'daytime': 8743, 'deliberate': 8744, 'denis': 8745, 'despair': 8746, 'difference.': 8747, 'dukes': 8748, 'dustin': 8749, 'easy.': 8750, 'egyptian': 8751, 'enduring': 8752, 'english.': 8753, 'epitome': 8754, 'evoke': 8755, 'example:': 8756, 'expectation': 8757, 'exterior': 8758, 'favorite.': 8759, 'filth': 8760, 'for.<br': 8761, 'franklin': 8762, 'freaks': 8763, 'fritz': 8764, 'games.': 8765, 'gentleman': 8766, 'gloomy': 8767, 'ground.': 8768, 'herbert': 8769, 'hop': 8770, 'horrified': 8771, 'ideas.': 8772, 'identical': 8773, 'impending': 8774, 'improbable': 8775, 'incidents': 8776, 'inside.': 8777, 'intelligence,': 8778, 'intend': 8779, 'interesting.<br': 8780, 'interior': 8781, 'interrupted': 8782, 'jarring': 8783, 'jodie': 8784, 'kline': 8785, 'landmark': 8786, 'law,': 8787, 'laying': 8788, 'lean': 8789, 'legends': 8790, 'lifeless': 8791, 'loneliness': 8792, 'married,': 8793, 'melody': 8794, 'mesmerizing': 8795, 'minister': 8796, 'miranda': 8797, 'misleading': 8798, 'mitch': 8799, 'mitchum': 8800, 'mom,': 8801, 'mum': 8802, 'necessary.': 8803, 'nerve': 8804, 'newcomer': 8805, 'othello': 8806, 'out\"': 8807, 'outrageously': 8808, 'participants': 8809, 'peck': 8810, 'pg': 8811, 'philo': 8812, 'player,': 8813, 'portrayed.': 8814, 'pre-code': 8815, 'presidential': 8816, 'pretends': 8817, 'pretty,': 8818, 'programs': 8819, 'questioning': 8820, 'readers': 8821, 'regularly': 8822, 'religion.': 8823, 'remainder': 8824, 'rest,': 8825, 'restrained': 8826, 'rhythm': 8827, 'salvage': 8828, 'samuel': 8829, 'schlock': 8830, 'shell': 8831, 'shift': 8832, 'similarity': 8833, 'site,': 8834, 'skeptical': 8835, 'smash': 8836, 'somewhere,': 8837, 'spaghetti': 8838, 'span': 8839, 'spencer': 8840, 'started.': 8841, 'sterling': 8842, 'students.': 8843, 'studied': 8844, 'stuffed': 8845, 'sub-plot': 8846, 'subtext': 8847, 'surround': 8848, 'swinging': 8849, 'targeted': 8850, 'technology,': 8851, 'thompson': 8852, 'top-notch': 8853, 'touching,': 8854, 'tremendously': 8855, 'trier': 8856, 'tuned': 8857, 'unanswered': 8858, 'unfamiliar': 8859, 'unnecessarily': 8860, 'wardrobe': 8861, 'wars,': 8862, 'washed': 8863, \"welles'\": 8864, 'west,': 8865, \"who've\": 8866, 'whole.': 8867, 'widowed': 8868, 'yeti': 8869, '\"go': 8870, '/>final': 8871, \"/>what's\": 8872, '200': 8873, '2003': 8874, '4,': 8875, '8/10.': 8876, \"80's,\": 8877, 'actions.': 8878, 'alike': 8879, 'angie': 8880, 'appearance.': 8881, 'apt': 8882, 'arguing': 8883, 'arguments': 8884, 'assumes': 8885, 'audition': 8886, 'awful.<br': 8887, 'bearing': 8888, 'borders': 8889, 'borrow': 8890, 'bread': 8891, 'bug': 8892, 'bully': 8893, 'camcorder': 8894, 'camp.': 8895, 'cast.<br': 8896, 'castle,': 8897, 'charming.': 8898, 'clad': 8899, 'clear,': 8900, 'clueless': 8901, 'coat': 8902, 'colours': 8903, 'comparable': 8904, 'conan': 8905, 'convincing,': 8906, 'corman': 8907, 'could.': 8908, 'crushed': 8909, 'cut.': 8910, 'decent.': 8911, 'deepest': 8912, 'deer': 8913, 'demise': 8914, 'deputy': 8915, 'dismal': 8916, 'divided': 8917, \"don't,\": 8918, 'dramatically': 8919, 'dreck': 8920, 'e.': 8921, 'e.g.': 8922, 'emotions.': 8923, 'energetic': 8924, 'enigmatic': 8925, 'enjoy,': 8926, 'europe,': 8927, 'excruciating': 8928, 'explanation.': 8929, 'factors': 8930, 'fart': 8931, 'fighting,': 8932, 'finish,': 8933, 'flashing': 8934, 'fluid': 8935, 'follow-up': 8936, 'footage.': 8937, 'forgiven': 8938, 'free,': 8939, 'frontal': 8940, 'gates': 8941, 'genre.<br': 8942, 'germany,': 8943, 'ghostly': 8944, 'giants': 8945, 'girl\"': 8946, 'guinness': 8947, 'harrowing': 8948, 'hateful': 8949, 'hello': 8950, 'here;': 8951, 'homicidal': 8952, 'images.': 8953, 'immigrant': 8954, 'incidentally,': 8955, 'inclined': 8956, 'joining': 8957, 'kent': 8958, \"kubrick's\": 8959, 'leave.': 8960, 'left,': 8961, 'lester': 8962, 'like:': 8963, 'low,': 8964, 'luck.': 8965, 'mannerisms': 8966, 'martian': 8967, 'maureen': 8968, 'mayhem': 8969, 'mistake,': 8970, 'niece': 8971, 'no!': 8972, 'noticeable': 8973, 'odd,': 8974, 'officer,': 8975, 'openly': 8976, 'order.': 8977, 'otherwise.': 8978, 'outfits': 8979, 'own.<br': 8980, 'pacing,': 8981, 'pains': 8982, 'palm': 8983, 'parsons': 8984, 'penned': 8985, 'pin': 8986, 'pole': 8987, 'pose': 8988, 'prison.': 8989, 'psychedelic': 8990, 'pumbaa': 8991, 'puppets': 8992, 'qualifies': 8993, 'religion,': 8994, 'revenge,': 8995, 'rich,': 8996, 'road.': 8997, 'roller': 8998, 'searched': 8999, 'serbian': 9000, 'sergio': 9001, 'serum': 9002, 'she,': 9003, 'shooting,': 9004, 'silliness': 9005, 'skills.': 9006, 'sleaze': 9007, 'someday': 9008, 'soup': 9009, 'spoiling': 9010, 'steele': 9011, 'stroke': 9012, 'stuff.<br': 9013, 'subsequently': 9014, 'sufficient': 9015, 'surgery': 9016, 'suspicion': 9017, 'symbol': 9018, 'tarantino': 9019, 'theatre,': 9020, 'thunderbirds': 9021, 'time\"': 9022, 'toned': 9023, 'tongue-in-cheek': 9024, 'tough,': 9025, 'traits': 9026, 'tube': 9027, 'turkish': 9028, 'turmoil': 9029, 'unfunny,': 9030, 'uniform': 9031, 'veterans': 9032, 'voyage': 9033, 'waking': 9034, 'washington,': 9035, 'watching.<br': 9036, 'weekly': 9037, 'well-done': 9038, 'whiny': 9039, 'wilderness': 9040, 'williams,': 9041, 'window.': 9042, 'wooden,': 9043, 'you\"': 9044, '\"he': 9045, '\"when': 9046, '/>1)': 9047, '/>3/10': 9048, '/>best': 9049, '/>p.s.': 9050, '1990': 9051, \"30's\": 9052, 'accounts': 9053, 'additionally,': 9054, 'affleck': 9055, 'alas': 9056, 'alot': 9057, 'angelina': 9058, 'anita': 9059, 'announced': 9060, 'apartment.': 9061, 'atrocious.': 9062, 'awhile': 9063, 'back.<br': 9064, 'backwards': 9065, \"bakshi's\": 9066, 'bashing': 9067, 'behind.': 9068, 'bend': 9069, 'blames': 9070, 'bondage': 9071, 'bones': 9072, 'box.': 9073, 'budding': 9074, 'bust': 9075, 'camping': 9076, 'capacity': 9077, 'cape': 9078, 'captivated': 9079, 'carey': 9080, 'celebrate': 9081, 'clerk': 9082, 'climbing': 9083, 'clooney': 9084, 'club.': 9085, 'coincidence': 9086, 'compensate': 9087, 'complained': 9088, 'conveying': 9089, 'cookie': 9090, 'coolest': 9091, 'cover,': 9092, 'cycle': 9093, 'davis,': 9094, 'debra': 9095, 'debut,': 9096, 'denise': 9097, 'department.': 9098, 'desert,': 9099, 'developed.': 9100, 'disregard': 9101, 'dragging': 9102, 'dream,': 9103, 'dump': 9104, 'duration': 9105, 'ealing': 9106, 'el': 9107, 'election': 9108, 'exploited': 9109, 'faces,': 9110, 'faded': 9111, 'faith,': 9112, 'fake.': 9113, 'fantasy.': 9114, 'few.': 9115, 'follow,': 9116, 'forever,': 9117, 'fox,': 9118, 'frances': 9119, 'friendship.': 9120, 'gamera': 9121, 'garland': 9122, 'gets.': 9123, 'gielgud': 9124, 'gilbert': 9125, 'gloria': 9126, 'grief': 9127, 'gritty,': 9128, 'grudge': 9129, 'hackman': 9130, 'hadley': 9131, 'hardened': 9132, 'herman': 9133, 'himself.<br': 9134, 'homes': 9135, 'hulk': 9136, 'i.': 9137, 'if,': 9138, 'incestuous': 9139, 'indifferent': 9140, 'inserted': 9141, 'isolation': 9142, \"jack's\": 9143, 'job.<br': 9144, 'knows,': 9145, 'kurosawa': 9146, 'labeled': 9147, 'land,': 9148, 'land.': 9149, 'later.<br': 9150, 'lip': 9151, 'list,': 9152, 'listened': 9153, 'longer.': 9154, 'magically': 9155, 'managing': 9156, 'maximum': 9157, 'meaning.': 9158, 'miyazaki': 9159, 'mortal': 9160, 'movies!': 9161, 'nations': 9162, 'netflix': 9163, 'night\"': 9164, 'nominations': 9165, 'nudity.': 9166, 'optimistic': 9167, 'origins': 9168, 'outdated': 9169, 'pans': 9170, 'paradise': 9171, 'part.<br': 9172, 'pause': 9173, 'paxton': 9174, 'pc': 9175, 'peggy': 9176, 'penelope': 9177, 'perspective.': 9178, 'pfeiffer': 9179, 'phillips': 9180, 'pivotal': 9181, 'please.': 9182, 'plot?': 9183, 'plug': 9184, 'poker': 9185, 'politics,': 9186, 'powerful.': 9187, 'practical': 9188, 'proceed': 9189, 'quaid': 9190, 'r.': 9191, 'raging': 9192, 'ratso': 9193, 'reeve': 9194, 'relevance': 9195, 'relief.': 9196, 'rewarding': 9197, 'saloon': 9198, 'scott,': 9199, 'settings,': 9200, 'sgt.': 9201, 'shameless': 9202, 'shocks': 9203, 'shortcomings': 9204, 'should.': 9205, 'shoulder': 9206, 'sights': 9207, 'smell': 9208, 'sopranos': 9209, 'spain': 9210, 'sparks': 9211, 'sporting': 9212, 'stabbing': 9213, 'statements': 9214, 'station,': 9215, 'stella': 9216, 'stunning,': 9217, 'substitute': 9218, 'summary,': 9219, 'switching': 9220, 'takashi': 9221, 'talking,': 9222, 'tended': 9223, 'testing': 9224, 'thrust': 9225, 'transforms': 9226, 'troma': 9227, 'twice.': 9228, 'undead': 9229, 'unfolding': 9230, 'unsatisfying': 9231, 'up\"': 9232, 'usual.': 9233, 'wash': 9234, 'weaknesses': 9235, 'wendigo': 9236, 'wherever': 9237, 'wilder': 9238, 'windows': 9239, 'woefully': 9240, 'worked.': 9241, 'world\"': 9242, 'youth.': 9243, \"'a\": 9244, '(!)': 9245, '(?)': 9246, '/>aside': 9247, '/>both': 9248, '/>david': 9249, '/>meanwhile,': 9250, '1936': 9251, '1983': 9252, '1996': 9253, '3000': 9254, \"80's.\": 9255, 'accurate.': 9256, 'agenda': 9257, 'ajay': 9258, 'alert': 9259, 'ang': 9260, 'angry,': 9261, 'anticipated': 9262, 'army,': 9263, 'artistry': 9264, 'award.': 9265, 'begun': 9266, 'beowulf': 9267, 'bland,': 9268, 'bombs': 9269, 'boredom.': 9270, 'brazilian': 9271, 'breast': 9272, 'caricature': 9273, 'cena': 9274, 'centuries': 9275, 'cheering': 9276, 'chill': 9277, 'cigarette': 9278, 'clichés.': 9279, 'clothes,': 9280, 'cohesive': 9281, 'colored': 9282, 'comment.': 9283, 'communication': 9284, 'completely.': 9285, 'confines': 9286, 'confuse': 9287, 'convenient': 9288, 'cry.': 9289, 'd.': 9290, 'dancing.': 9291, \"david's\": 9292, 'decade.': 9293, 'defending': 9294, 'demille': 9295, 'despise': 9296, 'discussed': 9297, 'distinctive': 9298, 'diving': 9299, 'e': 9300, 'employee': 9301, 'encouraged': 9302, 'engaging,': 9303, 'escape,': 9304, 'europa': 9305, 'europeans': 9306, 'evening.': 9307, 'everywhere.': 9308, 'faces.': 9309, 'fascinating,': 9310, 'features.': 9311, 'feeling,': 9312, 'fiction.': 9313, 'figure,': 9314, 'filmed,': 9315, 'first-rate': 9316, 'flock': 9317, 'folks.': 9318, 'forget.': 9319, 'gap': 9320, 'gaps': 9321, 'grant,': 9322, 'growth': 9323, 'gus': 9324, 'ham': 9325, 'happen.<br': 9326, 'harlow': 9327, 'hers': 9328, 'him!': 9329, 'hines': 9330, 'hope.': 9331, 'hostile': 9332, 'hunted': 9333, 'hyped': 9334, 'informs': 9335, 'japan.': 9336, 'je': 9337, 'jewel': 9338, 'jude': 9339, 'july': 9340, 'kathleen': 9341, 'kazan': 9342, 'kidding': 9343, 'last.': 9344, 'lionel': 9345, 'logan': 9346, 'logic,': 9347, 'mean.': 9348, 'mediocre.': 9349, 'mock': 9350, 'money.<br': 9351, 'mormon': 9352, 'murders,': 9353, 'myrna': 9354, 'naschy': 9355, 'nbc': 9356, 'nearest': 9357, 'nemesis': 9358, 'ninety': 9359, 'noir,': 9360, 'note.': 9361, 'occupied': 9362, 'olsen': 9363, 'omar': 9364, 'one?': 9365, 'opera,': 9366, 'overbearing': 9367, 'phenomenal': 9368, 'pictures.': 9369, 'polar': 9370, 'possession': 9371, 'potter': 9372, 'powers.': 9373, 'predictably': 9374, 'preminger': 9375, 'presence,': 9376, 'presence.': 9377, 'put,': 9378, 'relationships.': 9379, 'rendering': 9380, 'reserved': 9381, 'resistance': 9382, 'ritual': 9383, 'river.': 9384, 'roles.<br': 9385, 'romeo': 9386, 'rosario': 9387, 'russ': 9388, 'sand': 9389, 'sanders': 9390, 'satire,': 9391, 'sebastian': 9392, 'shahid': 9393, 'shaped': 9394, 'siblings': 9395, 'sinks': 9396, 'skinny': 9397, 'slept': 9398, \"smith's\": 9399, 'snuff': 9400, 'sophia': 9401, 'speaking,': 9402, 'spirit,': 9403, 'stab': 9404, 'stinks': 9405, 'stream': 9406, 'sundance': 9407, 'survive.': 9408, 'survives': 9409, 'sustain': 9410, 'taylor,': 9411, 'tell.': 9412, 'ten.': 9413, 'thieves': 9414, 'thinking.': 9415, 'timberlake': 9416, 'tokyo': 9417, 'torture.': 9418, 'transport': 9419, 'trite,': 9420, 'uninteresting.': 9421, 'villains,': 9422, 'warrant': 9423, 'watchable,': 9424, 'worms': 9425, 'younger,': 9426, 'zodiac': 9427, '\"jane': 9428, '\"to': 9429, \"'70s\": 9430, '(albeit': 9431, '(george': 9432, '(william': 9433, '/>first,': 9434, '/>however': 9435, '/>richard': 9436, '/>who': 9437, \"1980's\": 9438, '1984': 9439, '30s': 9440, '5,': 9441, 'abandon': 9442, 'absorbing': 9443, 'absurd.': 9444, 'advised': 9445, 'aggressive': 9446, 'amid': 9447, 'anger,': 9448, 'angst': 9449, 'anthology': 9450, 'anymore,': 9451, 'apartment,': 9452, 'around.<br': 9453, 'artist,': 9454, 'back!': 9455, 'balanced': 9456, 'bars': 9457, 'battlestar': 9458, 'bogart': 9459, 'boyer': 9460, 'boyle': 9461, 'breakfast': 9462, 'breathing': 9463, 'cheech': 9464, 'chew': 9465, 'childhood.': 9466, 'chong': 9467, 'close-up': 9468, 'combining': 9469, 'confronts': 9470, 'contributes': 9471, 'controls': 9472, 'cops,': 9473, 'counter': 9474, 'created.': 9475, 'creek': 9476, 'crosses': 9477, 'cypher': 9478, 'dame': 9479, 'debbie': 9480, 'debt': 9481, 'denying': 9482, 'depend': 9483, 'desired': 9484, 'disgrace': 9485, 'dj': 9486, 'doing,': 9487, 'dominate': 9488, 'duel': 9489, 'educated': 9490, 'electronic': 9491, 'engaging.': 9492, 'enormously': 9493, 'ernie': 9494, 'execution.': 9495, 'explosions,': 9496, 'fades': 9497, 'fascinating.': 9498, 'feat': 9499, 'federal': 9500, 'fetish': 9501, 'figure.': 9502, 'finale.': 9503, 'floor,': 9504, 'flower': 9505, 'flowers': 9506, 'flows': 9507, 'foil': 9508, 'force.': 9509, 'frantic': 9510, 'further.': 9511, 'gilliam': 9512, 'god-awful': 9513, 'grass': 9514, 'gretchen': 9515, 'grip': 9516, 'grossly': 9517, 'hallmark': 9518, 'harsh,': 9519, 'hats': 9520, 'heroine,': 9521, 'humorous,': 9522, 'id': 9523, 'inform': 9524, 'instincts': 9525, 'intriguing.': 9526, 'intro': 9527, 'investigator': 9528, 'judgment': 9529, 'juliet': 9530, 'kidnaps': 9531, 'kris': 9532, 'late.': 9533, 'lays': 9534, 'life!': 9535, 'lifts': 9536, 'mad,': 9537, 'magician': 9538, 'maintaining': 9539, 'making,': 9540, 'man.<br': 9541, 'martin,': 9542, 'masked': 9543, 'mason': 9544, 'mcqueen': 9545, 'mice': 9546, 'mick': 9547, \"miike's\": 9548, 'mine.': 9549, 'misty': 9550, 'mixes': 9551, 'moments.<br': 9552, 'monster.': 9553, 'movement,': 9554, 'necessity': 9555, 'net': 9556, 'nightmarish': 9557, 'nolte': 9558, 'nonetheless,': 9559, 'ny': 9560, 'obstacles': 9561, 'option': 9562, 'outlandish': 9563, 'owners': 9564, 'papers': 9565, 'participate': 9566, 'paths': 9567, 'people?': 9568, 'permanent': 9569, 'photography.': 9570, 'pixar': 9571, 'plodding': 9572, 'possible.<br': 9573, 'producers,': 9574, 'psychologist': 9575, 'pursuing': 9576, 'realistically': 9577, 'rebels': 9578, 'redundant': 9579, 'resolved': 9580, 'reverse': 9581, 'revival': 9582, 'rewarded': 9583, 'rolls': 9584, 'rounds': 9585, 'rupert': 9586, 'sane': 9587, 'satanic': 9588, 'say:': 9589, 'scratching': 9590, 'screened': 9591, 'seasons,': 9592, 'sheets': 9593, 'shop,': 9594, 'showcases': 9595, 'sickening': 9596, 'singer,': 9597, 'socially': 9598, 'solid,': 9599, 'sondra': 9600, 'sonny': 9601, 'strung': 9602, 'studio,': 9603, 'switches': 9604, 't&a': 9605, 'talents.': 9606, 'tcm': 9607, 'tightly': 9608, 'torture,': 9609, 'transported': 9610, 'traumatic': 9611, 'tripe': 9612, 'turkey.': 9613, 'turns,': 9614, \"tv's\": 9615, 'vain': 9616, 'variation': 9617, 'wagner': 9618, 'wall,': 9619, 'wesley': 9620, \"who'd\": 9621, 'wire': 9622, 'would.': 9623, 'youth,': 9624, '\"i\\'ll': 9625, '\"is': 9626, '\"night': 9627, '\"real': 9628, '\"white': 9629, '(and,': 9630, '(something': 9631, '),': 9632, '/>before': 9633, '/>okay,': 9634, '/>those': 9635, '1971': 9636, '2002': 9637, '2007': 9638, '7/10.': 9639, '75': 9640, 'aaron': 9641, 'absorbed': 9642, 'actually.': 9643, 'addressed': 9644, 'affecting': 9645, \"altman's\": 9646, 'am,': 9647, 'animals.': 9648, 'answered': 9649, 'anytime': 9650, 'are:': 9651, 'arrow': 9652, 'article': 9653, 'auto': 9654, 'axe': 9655, 'beautifully.': 9656, 'belief.': 9657, 'belt': 9658, 'biker': 9659, 'bikini': 9660, 'bonnie': 9661, 'bothers': 9662, 'bsg': 9663, 'building.': 9664, 'burke': 9665, 'busby': 9666, 'candidate': 9667, 'cannes': 9668, 'cares?': 9669, 'carlos': 9670, 'cartoons,': 9671, 'circa': 9672, 'cliched': 9673, 'clunky': 9674, 'cohen': 9675, 'college.': 9676, 'coming.': 9677, 'commentary,': 9678, 'community,': 9679, 'condemned': 9680, 'connie': 9681, 'contestant': 9682, 'contestants': 9683, 'contrast,': 9684, 'county': 9685, 'creasy': 9686, 'crossed': 9687, 'cut,': 9688, 'defy': 9689, 'developed,': 9690, 'directed.': 9691, 'disgust': 9692, 'distinctly': 9693, 'district': 9694, 'dramatic,': 9695, 'earns': 9696, 'efforts.': 9697, 'elsewhere': 9698, 'energy.': 9699, 'entirety': 9700, 'entrance': 9701, 'entries': 9702, 'examine': 9703, 'expresses': 9704, 'factual': 9705, 'failed.': 9706, 'fake,': 9707, 'families.': 9708, 'fare.': 9709, 'file': 9710, 'flew': 9711, 'fools': 9712, 'formula.': 9713, 'ghetto': 9714, \"girls'\": 9715, 'grandma': 9716, 'han': 9717, \"hartley's\": 9718, 'hysterically': 9719, 'imaginary': 9720, 'immediately.': 9721, 'incredible,': 9722, 'instances': 9723, 'intentional': 9724, 'interviewed': 9725, 'irritated': 9726, 'it!!': 9727, 'jack,': 9728, 'jane,': 9729, 'jedi': 9730, 'joker': 9731, 'keys': 9732, \"kids'\": 9733, 'knocking': 9734, 'laughter,': 9735, 'laughter.': 9736, 'likable.': 9737, 'lingering': 9738, 'liu': 9739, 'lovers,': 9740, 'loy': 9741, 'ludicrous.': 9742, 'lunch': 9743, 'mae': 9744, 'manic': 9745, 'meteor': 9746, 'middle-class': 9747, 'misunderstood': 9748, 'momentum': 9749, 'mouths': 9750, 'muslims': 9751, 'mythical': 9752, 'not?': 9753, 'occult': 9754, 'offend': 9755, 'officially': 9756, 'one:': 9757, 'only,': 9758, 'orphan': 9759, 'others.<br': 9760, 'owner,': 9761, 'oz': 9762, 'painter': 9763, 'paintings': 9764, \"palma's\": 9765, 'park.': 9766, 'partner,': 9767, 'pedestrian': 9768, 'pegg': 9769, 'people\"': 9770, 'pieces.': 9771, 'pilots': 9772, 'plague.': 9773, 'plagued': 9774, 'pleasure.': 9775, 'pretentious,': 9776, 'priceless': 9777, 'principals': 9778, 'progresses': 9779, 'projected': 9780, 'protagonist,': 9781, 'protective': 9782, 'puppy': 9783, 'puzzle': 9784, 'queen,': 9785, 'questions,': 9786, 'race,': 9787, 'rambling': 9788, 'recently.': 9789, 'recover': 9790, 'redneck': 9791, 'reject': 9792, 'representing': 9793, 'respect,': 9794, 'riff': 9795, 'right.<br': 9796, 'ring,': 9797, 'robbed': 9798, 'robertson': 9799, 'rookie': 9800, 'ruled': 9801, 'scares,': 9802, 'scorsese': 9803, 'see.<br': 9804, 'sentimentality': 9805, 'sentinel': 9806, 'shore': 9807, 'shoved': 9808, 'show!': 9809, 'shown.': 9810, \"sister's\": 9811, 'slower': 9812, 'snowy': 9813, 'soul,': 9814, 'stabs': 9815, 'state.': 9816, 'sunk': 9817, 'surface,': 9818, 'swallow': 9819, 't.': 9820, 'tackle': 9821, 'talk.': 9822, 'theaters,': 9823, 'thelma': 9824, 'theories': 9825, 'todays': 9826, 'touch.': 9827, 'ultimatum': 9828, 'uncertain': 9829, 'used,': 9830, 'valid': 9831, 'varying': 9832, 'war.<br': 9833, 'werewolves': 9834, 'whatever.': 9835, 'wielding': 9836, 'wig': 9837, 'wong': 9838, 'woods.': 9839, '\"best': 9840, '\"dark': 9841, '\"dead': 9842, '(is': 9843, '(whose': 9844, '/>everything': 9845, '/>technically': 9846, '1995': 9847, '1997': 9848, '21': 9849, '300': 9850, 'accidental': 9851, 'adult,': 9852, 'aesthetic': 9853, 'africa.': 9854, 'agony': 9855, 'ali': 9856, 'alley': 9857, 'americans,': 9858, 'are.<br': 9859, 'armstrong': 9860, 'arquette': 9861, 'available.': 9862, 'berkeley': 9863, 'bitch': 9864, 'book.<br': 9865, 'borrows': 9866, 'brett': 9867, 'britney': 9868, 'brooke': 9869, 'budgets': 9870, 'burgess': 9871, 'burnt': 9872, 'cartoon,': 9873, 'cliches': 9874, 'colleagues': 9875, 'college,': 9876, 'come,': 9877, 'comprised': 9878, 'controversy': 9879, 'corn': 9880, 'count.': 9881, 'crashed': 9882, 'crowded': 9883, 'day\"': 9884, 'deal.': 9885, 'decline': 9886, 'degrees': 9887, 'devotion': 9888, 'disco': 9889, 'disney,': 9890, 'document': 9891, 'dominic': 9892, 'drab': 9893, 'duvall': 9894, 'dwight': 9895, 'dynamics': 9896, 'edge.': 9897, 'encourages': 9898, 'enough.<br': 9899, 'especially,': 9900, 'event.': 9901, 'fairbanks': 9902, 'fascist': 9903, 'fassbinder': 9904, 'fatale': 9905, 'favor,': 9906, 'feast': 9907, 'fiery': 9908, 'fishburne': 9909, 'flowing': 9910, 'fright': 9911, 'fuel': 9912, 'fulfill': 9913, 'galaxy': 9914, 'given.': 9915, 'gods': 9916, 'goldblum': 9917, 'govinda': 9918, 'half-way': 9919, 'happening,': 9920, 'highway': 9921, 'hip-hop': 9922, 'hippies': 9923, 'imaginable': 9924, 'increase': 9925, 'inexperienced': 9926, 'interplay': 9927, 'invention': 9928, 'irving': 9929, 'isabelle': 9930, 'it!<br': 9931, 'iv': 9932, 'janet': 9933, 'jar': 9934, 'jersey': 9935, 'journey,': 9936, 'jr': 9937, 'kelly,': 9938, 'killers.': 9939, 'kirsten': 9940, 'knightley': 9941, 'krueger': 9942, 'lars': 9943, 'lds': 9944, 'linear': 9945, 'locate': 9946, 'location,': 9947, 'locations.': 9948, 'longoria': 9949, 'manipulate': 9950, 'marisa': 9951, 'mark,': 9952, 'market.': 9953, 'mention,': 9954, 'mine,': 9955, 'modern-day': 9956, 'narrative,': 9957, 'needed.': 9958, 'nightclub': 9959, 'niven': 9960, 'norm': 9961, 'notices': 9962, \"o'hara\": 9963, 'observation': 9964, 'on?': 9965, 'original.<br': 9966, 'oscar-winning': 9967, 'outstanding,': 9968, 'overshadowed': 9969, 'owe': 9970, 'paired': 9971, 'parrot': 9972, 'phase': 9973, 'phones': 9974, 'plate': 9975, 'plotting': 9976, 'pocket': 9977, 'policy': 9978, 'politicians': 9979, 'portuguese': 9980, 'preachy': 9981, 'prefers': 9982, 'pressed': 9983, 'proceedings.': 9984, 'prolific': 9985, 'question:': 9986, 'questions.': 9987, 'rampant': 9988, 'replacement': 9989, 'replacing': 9990, 'repulsive': 9991, 'retrieve': 9992, 'reunited': 9993, 'rivers': 9994, 'sammy': 9995, 'sarandon': 9996, 'seconds.': 9997, 'secure': 9998, 'seeing,': 9999, 'self-indulgent': 10000, 'sequels,': 10001})\n"
          ],
          "name": "stdout"
        }
      ]
    },
    {
      "cell_type": "markdown",
      "metadata": {
        "id": "nQNgsb6Hyft1",
        "colab_type": "text"
      },
      "source": [
        "총 0번 단어부터 10,001 단어까지 총 10,002개의 단어가 존재합니다. 단, < unk >와 < pad >는 실제 단어가 아니라 특별 토큰이므로 실제 훈련 데이터의 단어는 10,000개만 존재합니다. 이 10,002개의 단어의 임베딩 벡터값들은 TEXT.vocab.vectors에 저장되어져 있습니다. TEXT.vocab.vectors의 크기를 봅시다."
      ]
    },
    {
      "cell_type": "code",
      "metadata": {
        "id": "BwaJS3rdyiwl",
        "colab_type": "code",
        "outputId": "b8a0c204-4423-4e29-e29f-fb09f3eb09f9",
        "colab": {
          "base_uri": "https://localhost:8080/",
          "height": 35
        }
      },
      "source": [
        "print('임베딩 벡터의 개수와 차원 : {} '.format(TEXT.vocab.vectors.shape))"
      ],
      "execution_count": 0,
      "outputs": [
        {
          "output_type": "stream",
          "text": [
            "임베딩 벡터의 개수와 차원 : torch.Size([10002, 100]) \n"
          ],
          "name": "stdout"
        }
      ]
    },
    {
      "cell_type": "markdown",
      "metadata": {
        "id": "PQgX89blykHH",
        "colab_type": "text"
      },
      "source": [
        "임베딩 벡터는 총 10,002개가 존재하며 각 벡터는 100차원을 가집니다. print(TEXT.vocab.stoi)로 확인한 결과에서 각 단어의 고유한 정수 인덱스를 기억한다면, TEXT.vocab.vectors[인덱스]를 통해서 각 단어의 임베딩 벡터값을 출력할 수 있습니다. '< unk >'와 '< pad >', 'this', 그리고 'self-indulgent'의 임베딩 벡터값을 확인해보겠습니다. 우선 < unk >의 임베딩 벡터값을 확인해봅시다."
      ]
    },
    {
      "cell_type": "code",
      "metadata": {
        "id": "Ovge_ylfyh0V",
        "colab_type": "code",
        "outputId": "27877672-8a10-49e2-aba9-f98d0719924e",
        "colab": {
          "base_uri": "https://localhost:8080/",
          "height": 107
        }
      },
      "source": [
        "print(TEXT.vocab.vectors[0]) # <unk>의 임베딩 벡터값"
      ],
      "execution_count": 0,
      "outputs": [
        {
          "output_type": "stream",
          "text": [
            "tensor([0., 0., 0., 0., 0., 0., 0., 0., 0., 0., 0., 0., 0., 0., 0., 0., 0., 0., 0., 0., 0., 0., 0., 0.,\n",
            "        0., 0., 0., 0., 0., 0., 0., 0., 0., 0., 0., 0., 0., 0., 0., 0., 0., 0., 0., 0., 0., 0., 0., 0.,\n",
            "        0., 0., 0., 0., 0., 0., 0., 0., 0., 0., 0., 0., 0., 0., 0., 0., 0., 0., 0., 0., 0., 0., 0., 0.,\n",
            "        0., 0., 0., 0., 0., 0., 0., 0., 0., 0., 0., 0., 0., 0., 0., 0., 0., 0., 0., 0., 0., 0., 0., 0.,\n",
            "        0., 0., 0., 0.])\n"
          ],
          "name": "stdout"
        }
      ]
    },
    {
      "cell_type": "markdown",
      "metadata": {
        "id": "k1OdAAHKyqRF",
        "colab_type": "text"
      },
      "source": [
        "< unk >의 임베딩 벡터값은 0으로 초기화 된 상태입니다. < pad >의 임베딩 벡터값은 어떨까요?"
      ]
    },
    {
      "cell_type": "code",
      "metadata": {
        "id": "UMsAJWTWypYm",
        "colab_type": "code",
        "outputId": "7cc2e0e3-b1a0-4bc4-ce8d-c6cfd3985520",
        "colab": {
          "base_uri": "https://localhost:8080/",
          "height": 107
        }
      },
      "source": [
        "print(TEXT.vocab.vectors[1]) # <pad>의 임베딩 벡터값"
      ],
      "execution_count": 0,
      "outputs": [
        {
          "output_type": "stream",
          "text": [
            "tensor([0., 0., 0., 0., 0., 0., 0., 0., 0., 0., 0., 0., 0., 0., 0., 0., 0., 0., 0., 0., 0., 0., 0., 0.,\n",
            "        0., 0., 0., 0., 0., 0., 0., 0., 0., 0., 0., 0., 0., 0., 0., 0., 0., 0., 0., 0., 0., 0., 0., 0.,\n",
            "        0., 0., 0., 0., 0., 0., 0., 0., 0., 0., 0., 0., 0., 0., 0., 0., 0., 0., 0., 0., 0., 0., 0., 0.,\n",
            "        0., 0., 0., 0., 0., 0., 0., 0., 0., 0., 0., 0., 0., 0., 0., 0., 0., 0., 0., 0., 0., 0., 0., 0.,\n",
            "        0., 0., 0., 0.])\n"
          ],
          "name": "stdout"
        }
      ]
    },
    {
      "cell_type": "markdown",
      "metadata": {
        "id": "DZuoGwHayvA1",
        "colab_type": "text"
      },
      "source": [
        "마찬가지로 < pad >의 임베딩 벡터값 또한 0으로 초기화 된 상태입니다. < unk >와 < pad >는 실제 단어가 아닌 특별 토큰이기 때문입니다. 단어 'this'의 임베딩 벡터값을 확인해봅시다."
      ]
    },
    {
      "cell_type": "code",
      "metadata": {
        "id": "SWwPWwuryuF0",
        "colab_type": "code",
        "outputId": "bffb2b10-9a53-4717-eca7-0a0a414a47d1",
        "colab": {
          "base_uri": "https://localhost:8080/",
          "height": 251
        }
      },
      "source": [
        "print(TEXT.vocab.vectors[10]) # this의 임베딩 벡터값"
      ],
      "execution_count": 0,
      "outputs": [
        {
          "output_type": "stream",
          "text": [
            "tensor([-0.0928, -1.0685, -0.9617, -1.2522,  0.0739,  0.1742,  1.7759, -1.5024,\n",
            "        -1.5533, -0.8295,  1.1891, -1.7400, -0.5730, -1.6362, -0.2580,  1.0466,\n",
            "        -0.9150, -1.5664, -0.2629,  0.7082,  0.3662, -0.7552, -0.7773,  0.9395,\n",
            "        -0.1525, -1.2124, -1.0631, -1.7203, -2.3558, -0.7104,  2.0703, -2.4914,\n",
            "        -0.7959, -1.7156, -0.4972,  0.2891,  0.2881,  0.5023,  1.8706, -0.8942,\n",
            "         1.7070, -2.1914, -0.0976,  0.2415, -1.6001, -0.8043, -0.1126, -0.8360,\n",
            "         0.3149,  0.9513,  0.2019,  0.7746,  1.6601, -0.2839, -1.6358, -0.6265,\n",
            "         0.2410, -0.5844, -0.5061,  0.4880,  1.7890, -0.3375,  1.6939,  0.3499,\n",
            "        -0.2926,  0.5392, -1.4072, -0.4644,  0.7922, -0.0503,  0.6569, -0.1317,\n",
            "         0.0309,  0.5080, -0.1587, -0.4681, -1.0447, -0.5068,  1.8631, -1.5756,\n",
            "        -0.6521,  1.5053,  1.6784, -0.2517, -0.6527,  2.1916,  0.4648, -1.0222,\n",
            "        -0.8564, -0.5663, -2.6214, -0.4995, -0.5221, -0.7988,  0.3222, -0.6812,\n",
            "        -0.1488,  1.2841, -0.8947,  0.9673])\n"
          ],
          "name": "stdout"
        }
      ]
    },
    {
      "cell_type": "markdown",
      "metadata": {
        "id": "jUxL9kVtyzWK",
        "colab_type": "text"
      },
      "source": [
        "위에 출력된 단어 'this'의 임베딩 벡터값은 앞서 eng_w2v에 저장되어져 있던 단어 'this'의 임베딩 벡터값과 동일함을 알 수 있습니다. eng_w2v에 존재하지 않았던 단어인 'self-indulgent'의 임베딩 벡터값은 어떨까요?"
      ]
    },
    {
      "cell_type": "code",
      "metadata": {
        "id": "xkAQKNYwyyeu",
        "colab_type": "code",
        "outputId": "d43abc66-764a-4c16-e859-ea6ba68bff3f",
        "colab": {
          "base_uri": "https://localhost:8080/",
          "height": 107
        }
      },
      "source": [
        "print(TEXT.vocab.vectors[10000]) # 단어 'self-indulgent'의 임베딩 벡터값"
      ],
      "execution_count": 0,
      "outputs": [
        {
          "output_type": "stream",
          "text": [
            "tensor([0., 0., 0., 0., 0., 0., 0., 0., 0., 0., 0., 0., 0., 0., 0., 0., 0., 0., 0., 0., 0., 0., 0., 0.,\n",
            "        0., 0., 0., 0., 0., 0., 0., 0., 0., 0., 0., 0., 0., 0., 0., 0., 0., 0., 0., 0., 0., 0., 0., 0.,\n",
            "        0., 0., 0., 0., 0., 0., 0., 0., 0., 0., 0., 0., 0., 0., 0., 0., 0., 0., 0., 0., 0., 0., 0., 0.,\n",
            "        0., 0., 0., 0., 0., 0., 0., 0., 0., 0., 0., 0., 0., 0., 0., 0., 0., 0., 0., 0., 0., 0., 0., 0.,\n",
            "        0., 0., 0., 0.])\n"
          ],
          "name": "stdout"
        }
      ]
    },
    {
      "cell_type": "markdown",
      "metadata": {
        "id": "PEGK1YmCy1oZ",
        "colab_type": "text"
      },
      "source": [
        "기존의 env_w2v에 단어 ''self-indulgent'의 임베딩 벡터값이 존재하지 않았기 때문에 'self-indulgent'의 임베딩 벡터값은 0으로 초기화 되었습니다. 이제 이 임베딩 벡터들을 nn.Embedding()의 초기화 입력으로 사용합니다."
      ]
    },
    {
      "cell_type": "code",
      "metadata": {
        "id": "tARYLXply0wl",
        "colab_type": "code",
        "colab": {}
      },
      "source": [
        "embedding_layer = nn.Embedding.from_pretrained(TEXT.vocab.vectors, freeze=False)"
      ],
      "execution_count": 0,
      "outputs": []
    },
    {
      "cell_type": "code",
      "metadata": {
        "id": "av3-kDa3y3EH",
        "colab_type": "code",
        "outputId": "0d2e5270-2727-42aa-e605-56d8c1eec9c0",
        "colab": {
          "base_uri": "https://localhost:8080/",
          "height": 251
        }
      },
      "source": [
        "print(embedding_layer(torch.LongTensor([10]))) # 단어 this의 임베딩 벡터값"
      ],
      "execution_count": 0,
      "outputs": [
        {
          "output_type": "stream",
          "text": [
            "tensor([[-0.0928, -1.0685, -0.9617, -1.2522,  0.0739,  0.1742,  1.7759, -1.5024,\n",
            "         -1.5533, -0.8295,  1.1891, -1.7400, -0.5730, -1.6362, -0.2580,  1.0466,\n",
            "         -0.9150, -1.5664, -0.2629,  0.7082,  0.3662, -0.7552, -0.7773,  0.9395,\n",
            "         -0.1525, -1.2124, -1.0631, -1.7203, -2.3558, -0.7104,  2.0703, -2.4914,\n",
            "         -0.7959, -1.7156, -0.4972,  0.2891,  0.2881,  0.5023,  1.8706, -0.8942,\n",
            "          1.7070, -2.1914, -0.0976,  0.2415, -1.6001, -0.8043, -0.1126, -0.8360,\n",
            "          0.3149,  0.9513,  0.2019,  0.7746,  1.6601, -0.2839, -1.6358, -0.6265,\n",
            "          0.2410, -0.5844, -0.5061,  0.4880,  1.7890, -0.3375,  1.6939,  0.3499,\n",
            "         -0.2926,  0.5392, -1.4072, -0.4644,  0.7922, -0.0503,  0.6569, -0.1317,\n",
            "          0.0309,  0.5080, -0.1587, -0.4681, -1.0447, -0.5068,  1.8631, -1.5756,\n",
            "         -0.6521,  1.5053,  1.6784, -0.2517, -0.6527,  2.1916,  0.4648, -1.0222,\n",
            "         -0.8564, -0.5663, -2.6214, -0.4995, -0.5221, -0.7988,  0.3222, -0.6812,\n",
            "         -0.1488,  1.2841, -0.8947,  0.9673]], grad_fn=<EmbeddingBackward>)\n"
          ],
          "name": "stdout"
        }
      ]
    },
    {
      "cell_type": "markdown",
      "metadata": {
        "id": "75BfbuKTy4o5",
        "colab_type": "text"
      },
      "source": [
        "### 8.8.3 토치텍스트에서 제공하는 사전 훈련된 워드 임베딩"
      ]
    },
    {
      "cell_type": "markdown",
      "metadata": {
        "id": "c2bS6Ilky8g3",
        "colab_type": "text"
      },
      "source": [
        "토치텍스트는 영어 단어들의 사전 훈련된 임베딩 벡터를 제공하고 있습니다. 다음은 제공되는 임베딩 벡터 리스트의 일부입니다.\n",
        "\n",
        "*  fasttext.en.300d\n",
        "*  fasttext.simple.300d\n",
        "*  glove.42B.300d\n",
        "*  glove.840B.300d\n",
        "*  glove.twitter.27B.25d\n",
        "*  glove.twitter.27B.50d\n",
        "*  .twitter.27B.100d\n",
        "*  glove.twitter.27B.200d\n",
        "*  glove.6B.50d\n",
        "*  glove.6B.100d\n",
        "*  glove.6B.200d\n",
        "*  glove.6B.300d <= 이걸 사용해볼 겁니다.\n",
        "\n",
        "IMDB 리뷰 데이터에 존재하는 단어들을 토치텍스트가 제공하는 사전 훈련된 임베딩 벡터들의 값으로 초기화해봅시다."
      ]
    },
    {
      "cell_type": "code",
      "metadata": {
        "id": "BsDisARgy37c",
        "colab_type": "code",
        "colab": {}
      },
      "source": [
        "from torchtext.vocab import GloVe"
      ],
      "execution_count": 0,
      "outputs": []
    },
    {
      "cell_type": "markdown",
      "metadata": {
        "id": "j4uV_VGnzIp4",
        "colab_type": "text"
      },
      "source": [
        "Field 객체의 build_vocab을 통해 토치텍스트가 제공하는 사전 훈련된 임베딩 벡터를 다운받을 수 있습니다."
      ]
    },
    {
      "cell_type": "code",
      "metadata": {
        "id": "V3fW61GxzHx9",
        "colab_type": "code",
        "outputId": "b23e8dfb-4de1-4bdc-de9d-e3e6daf7c9af",
        "colab": {
          "base_uri": "https://localhost:8080/",
          "height": 53
        }
      },
      "source": [
        "TEXT.build_vocab(trainset, vectors=GloVe(name='6B', dim=300), max_size=10000, min_freq=10)\n",
        "LABEL.build_vocab(trainset)"
      ],
      "execution_count": 0,
      "outputs": [
        {
          "output_type": "stream",
          "text": [
            ".vector_cache/glove.6B.zip: 862MB [06:28, 2.22MB/s]                           \n",
            "100%|█████████▉| 399914/400000 [00:43<00:00, 9236.93it/s]"
          ],
          "name": "stderr"
        }
      ]
    },
    {
      "cell_type": "markdown",
      "metadata": {
        "id": "lpKRTcbrzLUz",
        "colab_type": "text"
      },
      "source": [
        "위 코드는 GloVe의 300차원의 임베딩 벡터들을 다운로드 받아 임베딩 벡터 초기화에 사용합니다. 다른 인자들은 IMDB 리뷰 데이터에 있는 단어들을 몇 개만 남길 것인지를 정합니다. max_size는 단어 집합의 크기를 제한하고, min_freq=10은 등장 빈도수가 10번 이상인 단어만 허용합니다. 앞에서 한 것과 동일하게 TEXT.vocab.stoi를 통해서 현재 단어 집합의 단어와 맵핑된 고유한 정수를 출력해봅시다."
      ]
    },
    {
      "cell_type": "code",
      "metadata": {
        "id": "Onk_G9lVzJ7-",
        "colab_type": "code",
        "outputId": "957e8dfb-c9aa-40ca-8db3-ba53e899ec42",
        "colab": {
          "base_uri": "https://localhost:8080/",
          "height": 55
        }
      },
      "source": [
        "print(TEXT.vocab.stoi)"
      ],
      "execution_count": 0,
      "outputs": [
        {
          "output_type": "stream",
          "text": [
            "defaultdict(<function _default_unk_index at 0x7f305a986620>, {'<unk>': 0, '<pad>': 1, 'the': 2, 'a': 3, 'and': 4, 'of': 5, 'to': 6, 'is': 7, 'in': 8, 'i': 9, 'this': 10, 'that': 11, 'it': 12, '/><br': 13, 'was': 14, 'as': 15, 'for': 16, 'with': 17, 'but': 18, 'on': 19, 'movie': 20, 'his': 21, 'are': 22, 'not': 23, 'film': 24, 'you': 25, 'have': 26, 'he': 27, 'be': 28, 'at': 29, 'one': 30, 'by': 31, 'an': 32, 'they': 33, 'from': 34, 'all': 35, 'who': 36, 'like': 37, 'so': 38, 'just': 39, 'or': 40, 'has': 41, 'her': 42, 'about': 43, \"it's\": 44, 'some': 45, 'if': 46, 'out': 47, 'what': 48, 'very': 49, 'when': 50, 'more': 51, 'there': 52, 'she': 53, 'would': 54, 'even': 55, 'good': 56, 'my': 57, 'only': 58, 'their': 59, 'no': 60, 'really': 61, 'had': 62, 'which': 63, 'can': 64, 'up': 65, 'were': 66, 'see': 67, 'than': 68, 'we': 69, '-': 70, 'been': 71, 'into': 72, 'get': 73, 'will': 74, 'story': 75, 'much': 76, 'because': 77, 'most': 78, 'how': 79, 'other': 80, 'also': 81, 'first': 82, 'its': 83, 'time': 84, 'do': 85, \"don't\": 86, 'me': 87, 'great': 88, 'people': 89, 'could': 90, 'make': 91, 'any': 92, '/>the': 93, 'after': 94, 'made': 95, 'then': 96, 'bad': 97, 'think': 98, 'being': 99, 'many': 100, 'him': 101, 'never': 102, 'two': 103, 'too': 104, 'little': 105, 'where': 106, 'well': 107, '<br': 108, 'way': 109, 'watch': 110, 'your': 111, 'it.': 112, 'did': 113, 'does': 114, 'them': 115, 'best': 116, 'movie.': 117, 'know': 118, 'seen': 119, 'love': 120, 'characters': 121, 'character': 122, 'movies': 123, 'these': 124, 'ever': 125, 'still': 126, 'over': 127, 'should': 128, 'films': 129, 'such': 130, 'plot': 131, 'acting': 132, 'while': 133, 'show': 134, 'go': 135, 'those': 136, 'off': 137, 'better': 138, 'film.': 139, 'through': 140, \"doesn't\": 141, 'say': 142, 'something': 143, 'why': 144, \"i'm\": 145, 'makes': 146, \"didn't\": 147, 'watching': 148, 'back': 149, 'scene': 150, 'film,': 151, 'real': 152, 'find': 153, 'new': 154, 'movie,': 155, 'few': 156, 'actually': 157, 'every': 158, 'scenes': 159, 'man': 160, 'life': 161, 'going': 162, 'same': 163, 'nothing': 164, '/>i': 165, 'look': 166, 'another': 167, 'quite': 168, 'lot': 169, 'old': 170, 'want': 171, 'end': 172, 'pretty': 173, 'thing': 174, 'seems': 175, 'got': 176, '&': 177, \"can't\": 178, 'before': 179, 'take': 180, 'years': 181, 'part': 182, 'actors': 183, 'give': 184, 'young': 185, 'may': 186, 'between': 187, 'us': 188, \"that's\": 189, \"i've\": 190, 'without': 191, 'though': 192, 'both': 193, 'things': 194, 'gets': 195, 'big': 196, 'around': 197, 'here': 198, 'thought': 199, 'saw': 200, 'director': 201, 'almost': 202, 'it,': 203, 'now': 204, \"isn't\": 205, 'always': 206, 'must': 207, 'come': 208, 'own': 209, 'work': 210, 'whole': 211, 'cast': 212, 'horror': 213, 'down': 214, 'might': 215, \"there's\": 216, \"he's\": 217, 'bit': 218, 'least': 219, 'probably': 220, 'enough': 221, '\"the': 222, 'feel': 223, 'last': 224, 'original': 225, 'am': 226, 'since': 227, 'rather': 228, 'long': 229, 'far': 230, 'fact': 231, 'kind': 232, 'each': 233, 'world': 234, 'funny': 235, 'found': 236, 'anything': 237, 'worst': 238, 'comes': 239, 'having': 240, 'our': 241, 'making': 242, 'trying': 243, 'action': 244, 'right': 245, 'interesting': 246, 'done': 247, 'however,': 248, 'point': 249, 'believe': 250, 'looks': 251, 'guy': 252, 'put': 253, 'goes': 254, '/>this': 255, 'family': 256, 'played': 257, 'main': 258, 'anyone': 259, 'series': 260, 'hard': 261, \"wasn't\": 262, 'role': 263, 'especially': 264, 'music': 265, 'yet': 266, 'worth': 267, 'seem': 268, 'performance': 269, 'plays': 270, 'takes': 271, 'script': 272, 'watched': 273, 'sure': 274, 'looking': 275, 'during': 276, 'someone': 277, 'minutes': 278, 'different': 279, 'tv': 280, 'although': 281, 'woman': 282, 'set': 283, 'three': 284, 'away': 285, 'times': 286, 'shows': 287, 'maybe': 288, 'comedy': 289, 'girl': 290, 'left': 291, 'everything': 292, 'time.': 293, 'john': 294, 'once': 295, 'seeing': 296, 'simply': 297, \"you're\": 298, 'american': 299, 'fun': 300, 'special': 301, 'completely': 302, 'everyone': 303, 'play': 304, 'true': 305, 'again': 306, 'reason': 307, 'read': 308, 'used': 309, 'well,': 310, 'need': 311, 'given': 312, 'until': 313, 'nice': 314, 'beautiful': 315, 'use': 316, 'high': 317, 'sense': 318, 'truly': 319, 'place': 320, 'idea': 321, '--': 322, 'help': 323, 'version': 324, 'try': 325, 'less': 326, 'rest': 327, 'black': 328, 'money': 329, 'came': 330, 'job': 331, 'second': 332, 'dvd': 333, 'excellent': 334, 'recommend': 335, 'ending': 336, 'tell': 337, 'getting': 338, 'shot': 339, 'keep': 340, 'instead': 341, 'actor': 342, '(and': 343, 'gives': 344, 'full': 345, 'said': 346, 'let': 347, 'half': 348, 'enjoy': 349, 'poor': 350, 'couple': 351, 'day': 352, 'himself': 353, 'playing': 354, 'definitely': 355, 'supposed': 356, 'audience': 357, 'early': 358, 'become': 359, 'along': 360, 'felt': 361, 'effects': 362, 'understand': 363, 'all,': 364, 'remember': 365, 'small': 366, \"couldn't\": 367, 'book': 368, 'entire': 369, 'later': 370, 'absolutely': 371, 'liked': 372, 'together': 373, 'star': 374, 'against': 375, 'fan': 376, 'went': 377, 'wife': 378, 'next': 379, 'doing': 380, 'start': 381, 'perhaps': 382, 'year': 383, 'often': 384, 'hollywood': 385, 'certainly': 386, 'screen': 387, 'several': 388, '(the': 389, 'time,': 390, '2': 391, \"she's\": 392, 'sort': 393, 'night': 394, 'waste': 395, 'human': 396, 'is,': 397, 'becomes': 398, 'short': 399, 'wonderful': 400, '10': 401, 'seemed': 402, 'loved': 403, 'men': 404, 'kids': 405, '\\x96': 406, 'piece': 407, 'war': 408, 'classic': 409, 'father': 410, '.': 411, 'production': 412, 'house': 413, 'home': 414, 'camera': 415, 'else': 416, 'wanted': 417, 'hope': 418, 'women': 419, 'that,': 420, 'totally': 421, 'live': 422, 'course': 423, 'performances': 424, 'lost': 425, 'top': 426, 'based': 427, \"i'd\": 428, 'them.': 429, 'tries': 430, 'line': 431, 'mind': 432, 'video': 433, \"you'll\": 434, 'final': 435, 'able': 436, 'called': 437, 'wants': 438, 'perfect': 439, 'friends': 440, 'gave': 441, \"they're\": 442, 'under': 443, 'death': 444, 'already': 445, 'despite': 446, 'enjoyed': 447, 'story,': 448, 'finally': 449, 'person': 450, 'name': 451, 'either': 452, 'turn': 453, 'sex': 454, 'turns': 455, 'care': 456, 'one.': 457, 'starts': 458, 'written': 459, 'dead': 460, 'problem': 461, 'episode': 462, \"won't\": 463, 'this.': 464, 'low': 465, 'school': 466, 'stupid': 467, 'mean': 468, 'face': 469, 'behind': 470, 'this,': 471, 'me.': 472, 'him.': 473, 'moments': 474, 'lead': 475, 'favorite': 476, 'and,': 477, 'lines': 478, 'sound': 479, 'white': 480, 'head': 481, 'michael': 482, 'stars': 483, 'guess': 484, 'took': 485, 'cannot': 486, 'story.': 487, 'fine': 488, 'budget': 489, 'title': 490, 'good.': 491, 'well.': 492, 'me,': 493, 'kill': 494, 'terrible': 495, 'highly': 496, 'extremely': 497, 'others': 498, 'all.': 499, 'dialogue': 500, 'sometimes': 501, \"film's\": 502, 'evil': 503, 'beginning': 504, 'lack': 505, 'life.': 506, 'style': 507, 'throughout': 508, \"wouldn't\": 509, 'heard': 510, 'obviously': 511, 'boring': 512, 'dark': 513, 'feeling': 514, 'itself': 515, 'fans': 516, 'lives': 517, 'decent': 518, 'works': 519, 'expect': 520, 'soon': 521, 'killer': 522, 'boy': 523, 'good,': 524, 'looked': 525, 'mr.': 526, 'attempt': 527, 'late': 528, 'particularly': 529, 'case': 530, 'amazing': 531, 'course,': 532, 'directed': 533, 'friend': 534, 'fight': 535, 'leave': 536, '/>in': 537, 'wrong': 538, 'quality': 539, '/>it': 540, 'mother': 541, 'picture': 542, 'entertaining': 543, 'save': 544, 'complete': 545, 'thinking': 546, 'close': 547, 'viewer': 548, 'exactly': 549, 'guys': 550, 'taken': 551, 'awful': 552, 'writing': 553, 'finds': 554, 'run': 555, 'whose': 556, 'except': 557, '/>if': 558, 'wonder': 559, 'movies.': 560, 'somewhat': 561, 'living': 562, 'across': 563, 'number': 564, 'police': 565, 'strong': 566, 'told': 567, 'says': 568, 'james': 569, 'movies,': 570, 'opening': 571, 'worse': 572, 'obvious': 573, 'shown': 574, 'parts': 575, 'laugh': 576, 'coming': 577, 'running': 578, '3': 579, 'car': 580, 'films,': 581, 'past': 582, 'direction': 583, 'usually': 584, 'type': 585, 'wish': 586, 'group': 587, 'huge': 588, 'side': 589, 'acting,': 590, 'major': 591, 'taking': 592, 'children': 593, 'supporting': 594, 'girls': 595, 'stop': 596, 'act': 597, 'bad.': 598, 'hour': 599, 'turned': 600, 'tells': 601, 'known': 602, 'none': 603, 'started': 604, 'local': 605, 'knew': 606, 'that.': 607, 'myself': 608, 'killed': 609, 'due': 610, 'here,': 611, 'stories': 612, \"aren't\": 613, 'town': 614, 'single': 615, 'game': 616, 'happens': 617, ',': 618, 'female': 619, 'it.<br': 620, 'again,': 621, 'bring': 622, 'call': 623, 'including': 624, \"i'll\": 625, 'way,': 626, 'brilliant': 627, 'cinema': 628, 'here.': 629, 'son': 630, 'clearly': 631, 'british': 632, 'actress': 633, 'fact,': 634, '/>there': 635, 'mostly': 636, 'humor': 637, 'art': 638, 'david': 639, 'hit': 640, 'talking': 641, 'voice': 642, 'robert': 643, 'involved': 644, 'whether': 645, 'characters,': 646, 'giving': 647, 'child': 648, 'musical': 649, 'one,': 650, 'history': 651, 'order': 652, 'out.': 653, 'ends': 654, 'falls': 655, 'end,': 656, 'heart': 657, 'saying': 658, 'drama': 659, 'easily': 660, '!': 661, 'matter': 662, 'serious': 663, 'again.': 664, 'bad,': 665, 'eyes': 666, 'relationship': 667, 'horrible': 668, 'yes,': 669, 'nearly': 670, 'however': 671, 'modern': 672, 'chance': 673, 'feels': 674, 'beyond': 675, 'kid': 676, 'needs': 677, 'actual': 678, 'cut': 679, \"haven't\": 680, 'appears': 681, 'important': 682, 'similar': 683, 'themselves': 684, 'five': 685, 'example': 686, 'moment': 687, '/>but': 688, 'change': 689, 'comic': 690, 'upon': 691, 'end.': 692, 'simple': 693, 'strange': 694, 'using': 695, 'four': 696, 'knows': 697, 'happened': 698, 'is.': 699, 'named': 700, 'within': 701, 'released': 702, 'usual': 703, 'way.': 704, 'seen.': 705, 'english': 706, 'among': 707, 'movie.<br': 708, 'but,': 709, 'lots': 710, '/>': 711, 'basically': 712, 'mention': 713, 'slow': 714, 'romantic': 715, 'stuff': 716, 'bunch': 717, 'her.': 718, 'kept': 719, 'typical': 720, 'certain': 721, 'interest': 722, 'films.': 723, 'near': 724, 'city': 725, 'hours': 726, 'overall': 727, 'showing': 728, '(i': 729, 'blood': 730, 'plot,': 731, 'brought': 732, 'fall': 733, 'murder': 734, 'days': 735, 'body': 736, '/>and': 737, 'tried': 738, 'song': 739, 'apparently': 740, 'miss': 741, '/>a': 742, 'him,': 743, 'middle': 744, 'greatest': 745, 'jack': 746, 'life,': 747, 'george': 748, 'film.<br': 749, 'score': 750, 'events': 751, 'happy': 752, 'sad': 753, '/>as': 754, 'yourself': 755, 'working': 756, 'shots': 757, 'stay': 758, 'talk': 759, 'add': 760, 'cheap': 761, '(as': 762, 'begins': 763, 'decided': 764, 'age': 765, 'buy': 766, 'so,': 767, 'surprised': 768, 'hear': 769, 'french': 770, 'brother': 771, 'famous': 772, 'alone': 773, 'on.': 774, 'paul': 775, 'became': 776, \"what's\": 777, 'daughter': 778, 'hate': 779, 'annoying': 780, 'learn': 781, 'richard': 782, 'happen': 783, '(which': 784, 'please': 785, 'sit': 786, 'songs': 787, \"you've\": 788, 'de': 789, 'jokes': 790, 'easy': 791, \"/>it's\": 792, 'nor': 793, 'ten': 794, 'peter': 795, 'sets': 796, 'documentary': 797, 'view': 798, 'experience': 799, 'light': 800, 'too.': 801, 'above': 802, 'funny.': 803, 'cinematography': 804, 'funny,': 805, 'hell': 806, 'possibly': 807, \"who's\": 808, 'sequence': 809, 'sexual': 810, 'attention': 811, 'king': 812, 'straight': 813, '1': 814, 'stand': 815, 'hand': 816, 'meets': 817, 'power': 818, 'oh': 819, 'gore': 820, 'episodes': 821, 'word': 822, 'difficult': 823, 'clear': 824, 'elements': 825, 'husband': 826, 'also,': 827, 'red': 828, 'god': 829, 'violence': 830, 'characters.': 831, 'keeps': 832, 'leaves': 833, 'poorly': 834, 'realize': 835, 'means': 836, 'ones': 837, 'japanese': 838, 'television': 839, 'genre': 840, 'roles': 841, 'character,': 842, 'somehow': 843, 'flick': 844, '5': 845, 'cool': 846, 'out,': 847, 'figure': 848, 'reality': 849, 'possible': 850, 'silly': 851, 'them,': 852, 'eventually': 853, 'towards': 854, 'reading': 855, 'move': 856, 'rent': 857, 'brings': 858, 'doubt': 859, 'scary': 860, 'theme': 861, 'killing': 862, 'lady': 863, 'unfortunately': 864, 'filmed': 865, 'imagine': 866, 'moving': 867, 'previous': 868, 'emotional': 869, 'on,': 870, 'leads': 871, 'rock': 872, 'room': 873, '(or': 874, 'problems': 875, 'third': 876, 'tom': 877, 'deal': 878, 'say,': 879, 'oscar': 880, 'though,': 881, 'review': 882, 'talent': 883, 'novel': 884, 'comments': 885, 'forget': 886, 'hero': 887, 'leading': 888, 'message': 889, 'enjoyable': 890, 'incredibly': 891, 'level': 892, 'write': 893, 'career': 894, 'ridiculous': 895, 'check': 896, 'better.': 897, 'various': 898, 'plenty': 899, 'animation': 900, 'meant': 901, 'needed': 902, 'personal': 903, 'feature': 904, 'show.': 905, 'writer': 906, 'future': 907, 'herself': 908, 'avoid': 909, 'gone': 910, 'meet': 911, 'create': 912, 'work.': 913, 'hardly': 914, 'begin': 915, 'whom': 916, 'total': 917, 'country': 918, 'manages': 919, 'team': 920, 'theater': 921, 'watch.': 922, '4': 923, 'forced': 924, 'fairly': 925, 'form': 926, 'up.': 927, 'particular': 928, 'there.': 929, 'hilarious': 930, 'appear': 931, 'points': 932, 'you.': 933, 'now,': 934, 'viewers': 935, 'fantastic': 936, 'effort': 937, 'interested': 938, 'follow': 939, 'unless': 940, 'weak': 941, 'words': 942, 'fast': 943, 'dramatic': 944, 'expecting': 945, 'tale': 946, 'unfortunately,': 947, 'joe': 948, 'zombie': 949, 'male': 950, 'older': 951, 'average': 952, 'her,': 953, 'general': 954, 'political': 955, 'attempts': 956, 'reviews': 957, 'mystery': 958, 'scenes,': 959, 'features': 960, 'sounds': 961, 'subject': 962, '(a': 963, 'class': 964, 'whatever': 965, 'york': 966, 'pay': 967, 'crap': 968, 'lee': 969, 'up,': 970, 'scene,': 971, 'worked': 972, 'dance': 973, 'decides': 974, 'disney': 975, 'premise': 976, 'then,': 977, 'plain': 978, 'man,': 979, \"let's\": 980, 'minute': 981, 'badly': 982, 'ask': 983, 'dialog': 984, '20': 985, 'expected': 986, 'viewing': 987, 'forward': 988, 'open': 989, 'uses': 990, 'wait': 991, '(who': 992, 'deep': 993, 'social': 994, 'storyline': 995, 'front': 996, 'crime': 997, 'directors': 998, 'writers': 999, 'comment': 1000, 'there,': 1001, 'waiting': 1002, 'fails': 1003, 'hold': 1004, 'nature': 1005, \"'the\": 1006, 'slightly': 1007, 'admit': 1008, 'unique': 1009, 'deserves': 1010, 'sees': 1011, 'soundtrack': 1012, 'considering': 1013, 'stage': 1014, 'battle': 1015, 'pure': 1016, 'portrayed': 1017, 'parents': 1018, 'sequences': 1019, 'dull': 1020, 'footage': 1021, 'season': 1022, 'times,': 1023, 'compared': 1024, 'telling': 1025, 'sister': 1026, 'spent': 1027, 'atmosphere': 1028, 'dr.': 1029, 'realistic': 1030, 'biggest': 1031, 'caught': 1032, 'outside': 1033, 'rating': 1034, 'unlike': 1035, 'predictable': 1036, 'visual': 1037, 'william': 1038, 'earth': 1039, 'talented': 1040, 'agree': 1041, 'weird': 1042, 'years.': 1043, '...': 1044, 'it!': 1045, 'perfectly': 1046, 'recent': 1047, 'quickly': 1048, 'show,': 1049, 'spend': 1050, 'bill': 1051, 'inside': 1052, 'large': 1053, 'people,': 1054, 'eye': 1055, 'memorable': 1056, 'powerful': 1057, 'entirely': 1058, 'etc.': 1059, 'space': 1060, 'casting': 1061, 'fighting': 1062, '/>what': 1063, 'editing': 1064, 'people.': 1065, 'return': 1066, 'ways': 1067, 'kills': 1068, 'sequel': 1069, 'sorry': 1070, 'lame': 1071, 'rich': 1072, \"we're\": 1073, 'wrote': 1074, 'ben': 1075, 'plot.': 1076, 'result': 1077, 'amount': 1078, 'filled': 1079, 'made.': 1080, 'consider': 1081, 'free': 1082, 'question': 1083, 'disappointed': 1084, 'earlier': 1085, 'period': 1086, 'following': 1087, 'screenplay': 1088, 'former': 1089, 'sci-fi': 1090, 'secret': 1091, 'work,': 1092, 'actors,': 1093, 'gay': 1094, 'release': 1095, \"weren't\": 1096, 'filmmakers': 1097, 'neither': 1098, 'superb': 1099, 'cheesy': 1100, 'material': 1101, 'said,': 1102, 'seriously': 1103, 'showed': 1104, 'appreciate': 1105, 'popular': 1106, 'entertainment': 1107, 'odd': 1108, 'runs': 1109, 'comedy,': 1110, 'missing': 1111, 'copy': 1112, 'moves': 1113, 'creepy': 1114, 'hot': 1115, 'married': 1116, 'suddenly': 1117, 'positive': 1118, 'decide': 1119, '(in': 1120, 'basic': 1121, 'imdb': 1122, 'shame': 1123, 'present': 1124, 'scenes.': 1125, 'recently': 1126, 'animated': 1127, 'box': 1128, 'considered': 1129, 'portrayal': 1130, 'thriller': 1131, 'hands': 1132, 'mark': 1133, 'more.': 1134, 'plus': 1135, 'barely': 1136, 'break': 1137, 'common': 1138, 'credits': 1139, 'be.': 1140, 'beauty': 1141, 'crazy': 1142, 'ideas': 1143, 'too,': 1144, 'leaving': 1145, 'character.': 1146, 'further': 1147, 'wasted': 1148, 'fantasy': 1149, 'italian': 1150, 'missed': 1151, 'western': 1152, 'christmas': 1153, 'ended': 1154, 'believable': 1155, 'german': 1156, 'you,': 1157, 'follows': 1158, 'ago': 1159, 'created': 1160, 'great,': 1161, 'opinion': 1162, 'familiar': 1163, 'setting': 1164, 'utterly': 1165, 'background': 1166, 'in.': 1167, 'likes': 1168, 'bought': 1169, 'dream': 1170, 'fit': 1171, 'incredible': 1172, 'monster': 1173, 'jane': 1174, 'situation': 1175, 'involving': 1176, 'public': 1177, 'screen.': 1178, '\"i': 1179, 'otherwise': 1180, 'starring': 1181, 'dumb': 1182, 'focus': 1183, 'glad': 1184, 'members': 1185, 'remake': 1186, 'crew': 1187, 'role.': 1188, 'van': 1189, 'acting.': 1190, 'successful': 1191, 'won': 1192, 'younger': 1193, 'apart': 1194, 'science': 1195, 'solid': 1196, 'boys': 1197, 'rate': 1198, 'series,': 1199, 'sitting': 1200, 'surprise': 1201, 'dog': 1202, 'street': 1203, 'die': 1204, 'generally': 1205, 'truth': 1206, 'ultimately': 1207, 'great.': 1208, 'baby': 1209, 'walk': 1210, '/>my': 1211, 'romance': 1212, 'world.': 1213, 'potential': 1214, 'managed': 1215, \"movie's\": 1216, 'cop': 1217, 'laughing': 1218, 'slasher': 1219, 'thinks': 1220, 'twist': 1221, 'suspense': 1222, 'scott': 1223, 'was,': 1224, 'bored': 1225, 'times.': 1226, '/>all': 1227, 'directing': 1228, 'doctor': 1229, 'not.': 1230, 'today': 1231, 'effect': 1232, 'knowing': 1233, 'singing': 1234, 'chemistry': 1235, '30': 1236, 'adult': 1237, 'catch': 1238, 'cover': 1239, 'bizarre': 1240, 'impossible': 1241, 'mentioned': 1242, 'acted': 1243, 'added': 1244, 'air': 1245, 'intelligent': 1246, 'speak': 1247, 'book,': 1248, 'fully': 1249, 'explain': 1250, 'match': 1251, 'likely': 1252, 'remains': 1253, 'cast,': 1254, 'changed': 1255, 'cinematic': 1256, 'convincing': 1257, 'escape': 1258, 'business': 1259, 'stick': 1260, 'win': 1261, 'clever': 1262, 'equally': 1263, 'first,': 1264, 'indeed': 1265, 'trouble': 1266, 'much.': 1267, 'thrown': 1268, 'note': 1269, 'produced': 1270, 'years,': 1271, 'failed': 1272, 'rare': 1273, '/>one': 1274, 'cause': 1275, 'computer': 1276, 'credit': 1277, 'dancing': 1278, 'mary': 1279, 'producers': 1280, 'pick': 1281, 'violent': 1282, 'historical': 1283, 'series.': 1284, 'steve': 1285, 'thanks': 1286, '15': 1287, 'effective': 1288, 'tony': 1289, 'choice': 1290, 'contains': 1291, 'cute': 1292, 'development': 1293, 'music,': 1294, \"you'd\": 1295, 'band': 1296, 'off,': 1297, 'sent': 1298, 'comedy.': 1299, 'hoping': 1300, 'military': 1301, 'shooting': 1302, 'south': 1303, 'central': 1304, 'longer': 1305, 'scene.': 1306, 'success': 1307, 'aspect': 1308, 'cartoon': 1309, 'constantly': 1310, 'off.': 1311, 'ability': 1312, 'cold': 1313, 'ok': 1314, 'script,': 1315, 'excuse': 1316, '10.': 1317, 'concept': 1318, 'studio': 1319, '/>so': 1320, 'college': 1321, 'immediately': 1322, 'state': 1323, 'not,': 1324, 'cult': 1325, 'know,': 1326, 'nobody': 1327, 'puts': 1328, 'surprisingly': 1329, 'walking': 1330, 'later,': 1331, 'tension': 1332, 'do.': 1333, 'exciting': 1334, 'frank': 1335, 'silent': 1336, 'society': 1337, 'brothers': 1338, 'fire': 1339, 'list': 1340, 'tone': 1341, 'ghost': 1342, 'surely': 1343, 'mean,': 1344, 'fear': 1345, 'minor': 1346, 'sam': 1347, 'spirit': 1348, 'throw': 1349, 'literally': 1350, 'beautifully': 1351, 'force': 1352, 'reasons': 1353, 'trip': 1354, 'ever.': 1355, 'jim': 1356, 'was.': 1357, 'la': 1358, 'laughs': 1359, 'questions': 1360, '(': 1361, 'depth': 1362, 'tough': 1363, 'died': 1364, 'sweet': 1365, '\"a': 1366, 'flat': 1367, 'makers': 1368, 'enough,': 1369, 'stands': 1370, 'villain': 1371, 'gun': 1372, 'loves': 1373, 'man.': 1374, 'best.': 1375, \"hasn't\": 1376, 'indian': 1377, 'no,': 1378, 'nudity': 1379, 'pace': 1380, 'suggest': 1381, 'together.': 1382, 'amusing': 1383, 'girlfriend': 1384, 'respect': 1385, 'adaptation': 1386, 'anyway,': 1387, 'images': 1388, 'include': 1389, 'mad': 1390, 'falling': 1391, 'natural': 1392, 'thank': 1393, 'company': 1394, 'fake': 1395, 'lacks': 1396, 'presented': 1397, 'revenge': 1398, 'shoot': 1399, 'merely': 1400, 'touch': 1401, 'joke': 1402, 'party': 1403, 'terms': 1404, 'day.': 1405, 'master': 1406, 'office': 1407, 'brief': 1408, 'oh,': 1409, 'either.': 1410, 'impressive': 1411, 'mainly': 1412, 'pass': 1413, 'pointless': 1414, 'somewhere': 1415, 'america': 1416, 'example,': 1417, 'impression': 1418, 'day,': 1419, 'control': 1420, 'appeal': 1421, 'christopher': 1422, 'director,': 1423, 'drawn': 1424, 'proves': 1425, 'about.': 1426, 'innocent': 1427, 'putting': 1428, 'thing.': 1429, 'standard': 1430, 'appearance': 1431, 'chase': 1432, 'naked': 1433, 'prison': 1434, 'sick': 1435, 'wild': 1436, '\"': 1437, 'chris': 1438, 'rated': 1439, 'serial': 1440, 'world,': 1441, 'audiences': 1442, 'becoming': 1443, 'heavy': 1444, 'in,': 1445, 'provides': 1446, '8': 1447, 'fell': 1448, 'harry': 1449, 'love,': 1450, 'mysterious': 1451, 'subtle': 1452, 'lovely': 1453, 'mess': 1454, 'share': 1455, 'cat': 1456, 'fellow': 1457, 'acts': 1458, 'army': 1459, 'detective': 1460, 'normal': 1461, 'reminded': 1462, 'support': 1463, 'suppose': 1464, 'appeared': 1465, 'followed': 1466, 'sure,': 1467, 'touching': 1468, 'finding': 1469, 'fun.': 1470, 'giant': 1471, 'role,': 1472, '(not': 1473, 'actors.': 1474, 'complex': 1475, 'drug': 1476, 'helps': 1477, 'meaning': 1478, 'narrative': 1479, 'thoroughly': 1480, 'absolute': 1481, 'minutes.': 1482, 'terrific': 1483, 'did.': 1484, 'pull': 1485, 'action,': 1486, 'adds': 1487, 'aspects': 1488, 'charles': 1489, 'offers': 1490, 'rented': 1491, 'seemingly': 1492, 'still,': 1493, 'with.': 1494, 'store': 1495, 'disturbing': 1496, 'fair': 1497, 'magic': 1498, 'point,': 1499, 'turning': 1500, 'element': 1501, 'held': 1502, 'language': 1503, 'stuck': 1504, 'tired': 1505, 'value': 1506, 'charming': 1507, 'effects,': 1508, 'paid': 1509, 'thats': 1510, 'wondering': 1511, 'slowly': 1512, 'supposedly': 1513, 'attack': 1514, 'books': 1515, 'brain': 1516, 'funniest': 1517, 'mood': 1518, 'painful': 1519, 'picked': 1520, 'themes': 1521, 'thus': 1522, 'delivers': 1523, 'onto': 1524, \"shouldn't\": 1525, 'water': 1526, 'island': 1527, 'minutes,': 1528, 'moral': 1529, 'self': 1530, 'awful.': 1531, 'charlie': 1532, 'lived': 1533, 'million': 1534, 'sadly': 1535, 'billy': 1536, 'critics': 1537, \"man's\": 1538, 'soldiers': 1539, 'journey': 1540, 'plan': 1541, 'wrong.': 1542, 'henry': 1543, 'pictures': 1544, 'redeeming': 1545, 'available': 1546, 'bruce': 1547, 'hand,': 1548, 'movie!': 1549, 'negative': 1550, 'ok,': 1551, 'twists': 1552, 'opportunity': 1553, 'performance.': 1554, 'vampire': 1555, 'willing': 1556, 'carry': 1557, 'presence': 1558, 'to.': 1559, 'changes': 1560, 'damn': 1561, 'key': 1562, 'led': 1563, 'dad': 1564, 'random': 1565, 'script.': 1566, 'sexy': 1567, 'actor,': 1568, 'bottom': 1569, 'edge': 1570, 'zombies': 1571, 'allowed': 1572, 'drive': 1573, 'government': 1574, 'green': 1575, 'hidden': 1576, 'interesting.': 1577, 'teenage': 1578, '/>for': 1579, 'cast.': 1580, 'laughed': 1581, 'lose': 1582, 'martial': 1583, 'project': 1584, 'track': 1585, 'away.': 1586, 'bother': 1587, 'flying': 1588, 'image': 1589, 'includes': 1590, 'other.': 1591, 'values': 1592, 'award': 1593, 'boring.': 1594, 'gang': 1595, 'mix': 1596, 'really,': 1597, 'thing,': 1598, 'though.': 1599, 'adventure': 1600, 'christian': 1601, 'everybody': 1602, 'issues': 1603, 'pieces': 1604, 'super': 1605, '(with': 1606, 'boring,': 1607, 'filming': 1608, 'helped': 1609, 'instead,': 1610, 'seen,': 1611, 'six': 1612, 'time.<br': 1613, 'camp': 1614, 'describe': 1615, 'family.': 1616, 'favourite': 1617, 'personally': 1618, 'jerry': 1619, 'lets': 1620, '7': 1621, 'era': 1622, 'interesting,': 1623, 'ready': 1624, 'train': 1625, 'before.': 1626, 'motion': 1627, 'outstanding': 1628, 'stunning': 1629, \"character's\": 1630, 'asks': 1631, 'awesome': 1632, 'compare': 1633, 'creative': 1634, 'honestly': 1635, 'masterpiece': 1636, 'rarely': 1637, 'feelings': 1638, 'impressed': 1639, 'approach': 1640, 'channel': 1641, 'road': 1642, 'step': 1643, 'aside': 1644, 'humour': 1645, 'intended': 1646, 'reminds': 1647, 'allow': 1648, 'artistic': 1649, 'book.': 1650, 'fascinating': 1651, 'names': 1652, 'audience.': 1653, 'beat': 1654, 'else.': 1655, 'mental': 1656, 'moved': 1657, 'pathetic': 1658, 'provide': 1659, 'compelling': 1660, 'deeply': 1661, 'hair': 1662, 'technical': 1663, 'tragic': 1664, 'alan': 1665, 'notice': 1666, 'now.': 1667, 'yet,': 1668, 'b': 1669, 'brian': 1670, 'ending.': 1671, 'overall,': 1672, 'student': 1673, 'victim': 1674, 'wearing': 1675, 'century': 1676, 'comedies': 1677, 'physical': 1678, 'west': 1679, 'comedic': 1680, 'speaking': 1681, 'yes': 1682, 'chinese': 1683, 'done.': 1684, 'family,': 1685, 'performance,': 1686, 'wife,': 1687, 'wonderfully': 1688, 'afraid': 1689, 'inspired': 1690, 'opinion,': 1691, 'wanting': 1692, 'back.': 1693, 'blue': 1694, 'continue': 1695, 'law': 1696, 'money.': 1697, 'purpose': 1698, 'culture': 1699, 'holds': 1700, 'struggle': 1701, 'better,': 1702, 'case,': 1703, 'color': 1704, 'developed': 1705, 'direct': 1706, 'gorgeous': 1707, 'gotten': 1708, 'listen': 1709, 'sat': 1710, 'search': 1711, 'accept': 1712, 'build': 1713, 'difference': 1714, 'house,': 1715, 'planet': 1716, \"80's\": 1717, 'desperate': 1718, 'details': 1719, 'hotel': 1720, 'mr': 1721, 'place.': 1722, 'situations': 1723, 'toward': 1724, 'trash': 1725, '(if': 1726, 'honest': 1727, 'mediocre': 1728, 'stewart': 1729, 'disappointed.': 1730, 'do,': 1731, 'independent': 1732, 'member': 1733, 'nowhere': 1734, 'answer': 1735, 'born': 1736, 'deliver': 1737, 'kelly': 1738, 'london': 1739, 'made,': 1740, 'ms.': 1741, 'realized': 1742, 'sense.': 1743, 'taste': 1744, 'woman,': 1745, 'worthy': 1746, '/>when': 1747, 'offer': 1748, 'stephen': 1749, 'be,': 1750, 'before,': 1751, 'confused': 1752, 'constant': 1753, 'it?': 1754, 'places': 1755, 'intense': 1756, 'marriage': 1757, 'smart': 1758, 'smith': 1759, 'watch,': 1760, 'for.': 1761, 'fresh': 1762, 'himself.': 1763, 'job.': 1764, 'seven': 1765, 'don': 1766, 'emotions': 1767, 'religious': 1768, 'began': 1769, 'impact': 1770, 'latter': 1771, 'nasty': 1772, 'original,': 1773, 'professional': 1774, 'best,': 1775, 'building': 1776, 'costumes': 1777, 'dialogue,': 1778, 'double': 1779, 'hated': 1780, 'part,': 1781, 'batman': 1782, 'apparent': 1783, 'climax': 1784, 'love.': 1785, 'spot': 1786, 'alien': 1787, 'down.': 1788, 'extreme': 1789, 'hurt': 1790, 'shock': 1791, 'asked': 1792, 'creating': 1793, 'cry': 1794, 'genius': 1795, \"hadn't\": 1796, 'introduced': 1797, 'ride': 1798, \"today's\": 1799, 'trust': 1800, '(like': 1801, '9': 1802, 'capture': 1803, 'church': 1804, 'extra': 1805, 'limited': 1806, 'manage': 1807, 'skip': 1808, 'ahead': 1809, 'cinema.': 1810, 'noir': 1811, 'photography': 1812, 'animals': 1813, 'charm': 1814, 'growing': 1815, 'accent': 1816, 'blame': 1817, 'deserve': 1818, 'exception': 1819, 'information': 1820, 'much,': 1821, 'murders': 1822, 'producer': 1823, 'pulled': 1824, 'ray': 1825, 'starting': 1826, 'students': 1827, 'terrible.': 1828, 'besides': 1829, 'martin': 1830, 'numerous': 1831, 'other,': 1832, 'quick': 1833, 'trailer': 1834, 'whenever': 1835, 'whilst': 1836, 'zero': 1837, 'bloody': 1838, 'fiction': 1839, 'genre.': 1840, 'likable': 1841, 'girl,': 1842, 'kinda': 1843, 'treated': 1844, 'according': 1845, 'featuring': 1846, 'keeping': 1847, 'loud': 1848, 'porn': 1849, 'see.': 1850, 'superior': 1851, 'tim': 1852, 'attractive': 1853, 'captain': 1854, 'fred': 1855, 'grand': 1856, 'russian': 1857, 'so.': 1858, 'terribly': 1859, 'winning': 1860, '/>to': 1861, 'actresses': 1862, 'ago,': 1863, 'academy': 1864, 'animal': 1865, 'long,': 1866, 'right.': 1867, 'scenery': 1868, 'unusual': 1869, '90': 1870, 'al': 1871, 'count': 1872, 'disappointing': 1873, 'addition': 1874, 'boss': 1875, 'discover': 1876, 'dreams': 1877, 'jason': 1878, 'mixed': 1879, 'phone': 1880, 'somebody': 1881, 'week': 1882, 'dealing': 1883, 'door': 1884, 'dvd.': 1885, 'ed': 1886, 'mistake': 1887, 'okay': 1888, 'prove': 1889, 'returns': 1890, 'uncle': 1891, 'cgi': 1892, 'flick.': 1893, 'normally': 1894, 'soul': 1895, 'unbelievable': 1896, '6': 1897, 'emotion': 1898, 'loses': 1899, 'rape': 1900, 'together,': 1901, '/>while': 1902, 'anybody': 1903, 'finish': 1904, 'international': 1905, 'joan': 1906, 'justice': 1907, 'news': 1908, 'responsible': 1909, 'summer': 1910, \"they've\": 1911, 'thin': 1912, \"/>i'm\": 1913, 'point.': 1914, 'recommended': 1915, 'wooden': 1916, '?': 1917, 'angry': 1918, 'fun,': 1919, 'genuinely': 1920, 'lies': 1921, 'original.': 1922, 'pain': 1923, 'relationships': 1924, 'understanding': 1925, \"we've\": 1926, 'woods': 1927, 'americans': 1928, 'are,': 1929, 'arthur': 1930, 'arts': 1931, 'father,': 1932, 'originally': 1933, 'portray': 1934, 'bar': 1935, 'current': 1936, 'deals': 1937, 'dying': 1938, 'scientist': 1939, 'therefore': 1940, '100': 1941, '40': 1942, 'bond': 1943, 'danny': 1944, 'desire': 1945, 'european': 1946, 'night,': 1947, \"one's\": 1948, 'teen': 1949, 'affair': 1950, 'hopes': 1951, 'okay,': 1952, 'remarkable': 1953, 'adults': 1954, 'allows': 1955, 'childhood': 1956, 'criminal': 1957, 'jeff': 1958, 'mind.': 1959, 'psychological': 1960, 'saved': 1961, 'scared': 1962, 'sheer': 1963, 'soldier': 1964, 'with,': 1965, 'agent': 1966, 'andy': 1967, 'aware': 1968, 'grew': 1969, 'unable': 1970, 'content': 1971, 'expectations': 1972, 'finest': 1973, 'low-budget': 1974, 'proved': 1975, 'ultimate': 1976, 'allen': 1977, 'finished': 1978, 'location': 1979, 'private': 1980, 'race': 1981, 'surprising': 1982, 'them.<br': 1983, 'traditional': 1984, 'alive': 1985, 'bed': 1986, 'brutal': 1987, 'continues': 1988, 'forgotten': 1989, 'numbers': 1990, 'opera': 1991, 'pop': 1992, 'short,': 1993, 'suspect': 1994, 'wrong,': 1995, 'cliché': 1996, 'club': 1997, \"director's\": 1998, 'discovers': 1999, 'eat': 2000, 'eddie': 2001, 'gonna': 2002, 'hits': 2003, 'moments,': 2004, 'regular': 2005, 'today.': 2006, '(for': 2007, 'epic': 2008, 'kevin': 2009, 'learned': 2010, 'lighting': 2011, 'loving': 2012, 'opens': 2013, 'shocking': 2014, 'boyfriend': 2015, 'date': 2016, 'dressed': 2017, 'mom': 2018, 'music.': 2019, 'page': 2020, 'seconds': 2021, 'see,': 2022, 'breaks': 2023, 'confusing': 2024, 'fan,': 2025, 'guy,': 2026, 'happening': 2027, 'lord': 2028, 'noticed': 2029, 'bigger': 2030, 'calls': 2031, 'dangerous': 2032, 'dirty': 2033, 'faces': 2034, 'gene': 2035, 'met': 2036, 'plane': 2037, 'twice': 2038, 'victims': 2039, 'yeah,': 2040, 'cops': 2041, 'driving': 2042, 'johnny': 2043, 'performances,': 2044, 'through.': 2045, 'majority': 2046, 'right,': 2047, 'screen,': 2048, 'to,': 2049, '(played': 2050, 'hospital': 2051, 'jump': 2052, 'nick': 2053, 'saving': 2054, 'utter': 2055, \"70's\": 2056, 'bits': 2057, 'forces': 2058, 'grace': 2059, 'holes': 2060, 'jean': 2061, 'land': 2062, 'radio': 2063, 'ugly': 2064, 'event': 2065, 'friends,': 2066, 'painfully': 2067, 'practically': 2068, 'steal': 2069, 'awful,': 2070, 'caused': 2071, 'essentially': 2072, 'garbage': 2073, 'higher': 2074, 'manner': 2075, 'necessary': 2076, 'overly': 2077, 'soap': 2078, 'visit': 2079, 'adam': 2080, 'collection': 2081, 'creature': 2082, 'design': 2083, 'ending,': 2084, 'reach': 2085, 'treat': 2086, 'unknown': 2087, 'creates': 2088, 'dies': 2089, 'fail': 2090, 'media': 2091, 'sign': 2092, 'conclusion': 2093, 'genuine': 2094, 'golden': 2095, 'pleasure': 2096, 'received': 2097, 'apartment': 2098, 'festival': 2099, 'paris': 2100, 'stone': 2101, 'captured': 2102, 'commentary': 2103, 'delightful': 2104, 'direction,': 2105, 'drama,': 2106, 'filmmaker': 2107, 'judge': 2108, 'mike': 2109, 'movie?': 2110, 'nicely': 2111, 'personality': 2112, '(although': 2113, '(but': 2114, '(even': 2115, 'crappy': 2116, 'dick': 2117, 'discovered': 2118, 'entertaining.': 2119, 'more,': 2120, 'system': 2121, 'teacher': 2122, 'area': 2123, 'connection': 2124, 'douglas': 2125, 'enough.': 2126, 'heads': 2127, 'himself,': 2128, 'industry': 2129, 'intriguing': 2130, 'involves': 2131, 'like,': 2132, 'native': 2133, 'performances.': 2134, 'prince': 2135, 'relate': 2136, 'sean': 2137, 'who,': 2138, 'witch': 2139, '/': 2140, 'ancient': 2141, 'anthony': 2142, 'energy': 2143, 'reviewers': 2144, 'states': 2145, 'effects.': 2146, 'food': 2147, 'foreign': 2148, 'lacking': 2149, 'occasionally': 2150, 'tears': 2151, 'watching.': 2152, 'described': 2153, 'jimmy': 2154, 'largely': 2155, 'learns': 2156, 'national': 2157, 'night.': 2158, 'twenty': 2159, 'williams': 2160, 'capable': 2161, 'develop': 2162, 'done,': 2163, 'job,': 2164, 'pacing': 2165, 'ran': 2166, 'sight': 2167, 'spanish': 2168, 'unnecessary': 2169, '/>overall,': 2170, 'asking': 2171, 'bright': 2172, 'death.': 2173, 'detail': 2174, 'fill': 2175, 'fox': 2176, 'history.': 2177, 'laughable': 2178, 'loose': 2179, 'money,': 2180, 'picture.': 2181, 'queen': 2182, 'stock': 2183, 'actions': 2184, 'blonde': 2185, 'broken': 2186, 'deserved': 2187, \"here's\": 2188, 'house.': 2189, 'joy': 2190, 'action.': 2191, 'ago.': 2192, 'itself,': 2193, 'portraying': 2194, 'roles.': 2195, 'tend': 2196, ':': 2197, 'away,': 2198, 'believes': 2199, 'bob': 2200, 'captures': 2201, 'clothes': 2202, 'intelligence': 2203, 'passion': 2204, 'proper': 2205, 'quiet': 2206, 'ship': 2207, 'tragedy': 2208, 'wide': 2209, 'below': 2210, 'choose': 2211, 'davis': 2212, 'empty': 2213, 'fights': 2214, 'long.': 2215, 'months': 2216, 'pair': 2217, 'part.': 2218, 'portrays': 2219, 'standing': 2220, '/>you': 2221, 'around.': 2222, 'boy,': 2223, 'classic.': 2224, 'cross': 2225, 'engaging': 2226, 'fat': 2227, 'gary': 2228, 'ground': 2229, 'issue': 2230, 'lover': 2231, 'place,': 2232, 'remembered': 2233, 'ring': 2234, 'kate': 2235, 'others.': 2236, 'screaming': 2237, 'theatre': 2238, 'combination': 2239, 'director.': 2240, 'knowledge': 2241, 'losing': 2242, 'powers': 2243, 'record': 2244, 'strongly': 2245, 'absurd': 2246, 'ann': 2247, 'assume': 2248, 'bringing': 2249, 'folks': 2250, 'unexpected': 2251, 'vhs': 2252, 'virtually': 2253, 'walks': 2254, 'war,': 2255, 'curious': 2256, 'endless': 2257, 'gangster': 2258, 'graphic': 2259, 'hearing': 2260, 'jackson': 2261, 'over.': 2262, 'passed': 2263, 'roll': 2264, 'station': 2265, 'steals': 2266, 'violence,': 2267, 'actor.': 2268, 'blind': 2269, 'death,': 2270, 'explanation': 2271, 'flaws': 2272, 'flicks': 2273, 'gem': 2274, 'home,': 2275, 'itself.': 2276, 'jones': 2277, 'kick': 2278, 'ordinary': 2279, 'steven': 2280, 'study': 2281, 'sudden': 2282, 'wedding': 2283, 'why?': 2284, 'brilliantly': 2285, 'built': 2286, 'crap.': 2287, 'eating': 2288, 'gratuitous': 2289, 'grow': 2290, 'included': 2291, 'mouth': 2292, 'awkward': 2293, 'emotionally': 2294, 'humans': 2295, 'produce': 2296, 'reason,': 2297, 'send': 2298, 'vision': 2299, 'cameo': 2300, 'down,': 2301, 'him.<br': 2302, 'meeting': 2303, 'memories': 2304, 'ruined': 2305, 'sell': 2306, 'stopped': 2307, '/>not': 2308, 'anything.': 2309, 'destroy': 2310, 'grown': 2311, 'heroes': 2312, 'humor,': 2313, 'initial': 2314, 'memory': 2315, 'nightmare': 2316, 'pilot': 2317, 'price': 2318, 'relatively': 2319, 'reviewer': 2320, 'convinced': 2321, 'delivered': 2322, 'eric': 2323, 'magnificent': 2324, 'players': 2325, 'references': 2326, 'remain': 2327, 'smile': 2328, 'bank': 2329, 'beautiful,': 2330, 'bet': 2331, 'bland': 2332, 'ever,': 2333, 'fits': 2334, 'legend': 2335, 'park': 2336, 'santa': 2337, 'style,': 2338, 'theatrical': 2339, 'travel': 2340, 'visually': 2341, '****': 2342, 'faith': 2343, 'jennifer': 2344, 'morgan': 2345, 'rob': 2346, 'son,': 2347, 'suit': 2348, 'till': 2349, 'worse.': 2350, '\"what': 2351, '(though': 2352, '/>at': 2353, '/>even': 2354, 'castle': 2355, 'claim': 2356, 'days.': 2357, 'holding': 2358, 'lines,': 2359, 'marry': 2360, 'miles': 2361, 'obsessed': 2362, 'pretentious': 2363, 'serves': 2364, 'stupid,': 2365, 'today,': 2366, 'united': 2367, 'artist': 2368, 'asian': 2369, 'horribly': 2370, 'lives.': 2371, 'seriously,': 2372, 'sing': 2373, 'spoil': 2374, 'superman': 2375, 'taylor': 2376, 'wall': 2377, 'war.': 2378, '50': 2379, 'about,': 2380, 'hanging': 2381, 'least,': 2382, 'murdered': 2383, 'rise': 2384, 'stars.': 2385, 'suffers': 2386, 'around,': 2387, 'barbara': 2388, 'conflict': 2389, 'cuts': 2390, 'horse': 2391, 'insult': 2392, 'joseph': 2393, 'ladies': 2394, 'sense,': 2395, 'sleep': 2396, 'themselves.': 2397, 'chosen': 2398, 'drunk': 2399, 'games': 2400, 'latest': 2401, 'length': 2402, 'loss': 2403, 'pleasant': 2404, 'spoilers': 2405, 'terrible,': 2406, 'torture': 2407, 'which,': 2408, 'year.': 2409, '(especially': 2410, 'accurate': 2411, 'back,': 2412, 'reaction': 2413, 'talks': 2414, 'underrated': 2415, \"would've\": 2416, '/>however,': 2417, '/>now': 2418, '/>some': 2419, 'budget,': 2420, 'cage': 2421, 'canadian': 2422, 'drew': 2423, 'hide': 2424, 'machine': 2425, 'nominated': 2426, 'well.<br': 2427, 'worse,': 2428, '/>after': 2429, '/>on': 2430, 'anyway.': 2431, 'cant': 2432, 'chose': 2433, 'does.': 2434, 'finally,': 2435, 'indeed,': 2436, 'kong': 2437, 'ruin': 2438, 'strength': 2439, 'us.': 2440, 'viewed': 2441, 'woody': 2442, 'anywhere': 2443, 'cinema,': 2444, 'drugs': 2445, 'moments.': 2446, 'occasional': 2447, 'talents': 2448, 'u.s.': 2449, 'unfortunate': 2450, 'walked': 2451, 'contemporary': 2452, 'flick,': 2453, 'lesson': 2454, 'provided': 2455, 'range': 2456, 'realizes': 2457, 'rescue': 2458, 'suffering': 2459, 'tarzan': 2460, 'test': 2461, 'lower': 2462, 'lucky': 2463, 'post': 2464, 'presents': 2465, 'production.': 2466, 'remotely': 2467, 'scare': 2468, 'sky': 2469, 'versions': 2470, '12': 2471, 'disappointment': 2472, 'dvd,': 2473, 'heroine': 2474, 'morning': 2475, 'officer': 2476, 'player': 2477, 'reason.': 2478, 'suicide': 2479, 'version,': 2480, '/>of': 2481, 'cable': 2482, 'gags': 2483, 'humorous': 2484, 'imagination': 2485, 'individual': 2486, 'opposite': 2487, 'partner': 2488, 'sadly,': 2489, 'spends': 2490, 'types': 2491, 'very,': 2492, 'writing,': 2493, ')': 2494, 'are.': 2495, 'author': 2496, 'cinematography,': 2497, 'downright': 2498, 'excited': 2499, 'football': 2500, 'jackie': 2501, 'kinds': 2502, 'massive': 2503, 'multiple': 2504, 'old,': 2505, 'one.<br': 2506, 'tiny': 2507, 'us,': 2508, 'wars': 2509, '(he': 2510, 'australian': 2511, 'convince': 2512, 'depicted': 2513, 'drama.': 2514, 'edited': 2515, 'featured': 2516, 'inner': 2517, 'jesus': 2518, 'keaton': 2519, 'nothing.': 2520, 'of.': 2521, 'own.': 2522, 'pile': 2523, 'process': 2524, 'revealed': 2525, 'sex,': 2526, 'story.<br': 2527, 'struggling': 2528, 'unfunny': 2529, 'vehicle': 2530, '(it': 2531, 'closer': 2532, 'draw': 2533, 'experience.': 2534, 'ford': 2535, 'genre,': 2536, 'hong': 2537, 'ice': 2538, 'repeated': 2539, 'results': 2540, 'villains': 2541, 'claims': 2542, 'decision': 2543, 'line,': 2544, 'lovers': 2545, 'pulls': 2546, 'stupid.': 2547, 'wise': 2548, '/>then': 2549, 'all.<br': 2550, 'commercial': 2551, 'dan': 2552, 'debut': 2553, 'disaster': 2554, 'explained': 2555, 'field': 2556, 'program': 2557, 'roger': 2558, 'satire': 2559, 'simon': 2560, 'thomas': 2561, 'victor': 2562, 'werewolf': 2563, '/>that': 2564, 'albert': 2565, 'clichés': 2566, 'covered': 2567, 'freddy': 2568, 'know.': 2569, 'plots': 2570, 'recognize': 2571, 'saturday': 2572, 'things.': 2573, 'unlikely': 2574, 'accidentally': 2575, 'community': 2576, 'context': 2577, 'episode.': 2578, 'mission': 2579, 'parody': 2580, 'skills': 2581, 'soft': 2582, 'something.': 2583, 'speaks': 2584, 'survive': 2585, \"/>don't\": 2586, 'episode,': 2587, 'exact': 2588, 'explains': 2589, 'focuses': 2590, 'haunting': 2591, \"he'd\": 2592, 'matt': 2593, 'me.<br': 2594, 'paying': 2595, 'reveals': 2596, 'source': 2597, 'walter': 2598, 'whoever': 2599, '(at': 2600, '/>another': 2601, 'beginning,': 2602, 'dated': 2603, 'evidence': 2604, 'grade': 2605, 'haunted': 2606, 'humor.': 2607, 'leader': 2608, 'lousy': 2609, 'naive': 2610, 'owner': 2611, 'recall': 2612, 'ridiculous.': 2613, 'river': 2614, 'segment': 2615, 'shallow': 2616, 'sports': 2617, 'streets': 2618, 'village': 2619, 'directly': 2620, 'favor': 2621, 'friendship': 2622, 'identity': 2623, 'influence': 2624, 'mind,': 2625, 'offered': 2626, 'robin': 2627, 'shot,': 2628, 'stayed': 2629, 'stuff.': 2630, 'think,': 2631, 'vote': 2632, 'vs.': 2633, '/>we': 2634, 'audience,': 2635, 'baseball': 2636, 'children,': 2637, 'days,': 2638, 'deadly': 2639, 'fashion': 2640, 'forever': 2641, 'friends.': 2642, 'gory': 2643, 'irish': 2644, 'legendary': 2645, 'mere': 2646, 'plans': 2647, 'seriously.': 2648, 'spite': 2649, 'stays': 2650, 'advice': 2651, 'and/or': 2652, 'bear': 2653, 'cars': 2654, 'center': 2655, 'chief': 2656, 'clue': 2657, 'dark,': 2658, 'exploitation': 2659, 'fate': 2660, 'instead.': 2661, 'luke': 2662, 'model': 2663, 'of,': 2664, 'realism': 2665, 'veteran': 2666, 'board': 2667, 'broadway': 2668, 'dubbed': 2669, 'figured': 2670, 'first.': 2671, 'handled': 2672, 'handsome': 2673, 'hilarious.': 2674, 'howard': 2675, 'tv.': 2676, 'von': 2677, 'cost': 2678, 'daniel': 2679, 'drop': 2680, 'else,': 2681, 'facial': 2682, 'fu': 2683, 'guns': 2684, 'hired': 2685, 'louis': 2686, 'monsters': 2687, 'necessarily': 2688, 'research': 2689, 'trek': 2690, 'appropriate': 2691, 'ball': 2692, 'behavior': 2693, 'contrast': 2694, 'cutting': 2695, 'designed': 2696, 'excellent.': 2697, 'fly': 2698, 'heavily': 2699, 'president': 2700, 'sheriff': 2701, 'shop': 2702, 'touches': 2703, 'true,': 2704, 'witty': 2705, 'amateur': 2706, 'depressing': 2707, 'did,': 2708, 'dozen': 2709, 'excellent,': 2710, 'exist': 2711, 'focused': 2712, 'friend,': 2713, 'gold': 2714, 'home.': 2715, 'possible.': 2716, 'regret': 2717, 'reminiscent': 2718, 'reveal': 2719, 'shocked': 2720, 'sounded': 2721, 'sympathetic': 2722, 'this.<br': 2723, '/>with': 2724, 'attitude': 2725, 'desperately': 2726, 'donald': 2727, 'greater': 2728, 'hopefully': 2729, 'patrick': 2730, 'spectacular': 2731, 'alex': 2732, 'anime': 2733, 'anne': 2734, 'breaking': 2735, 'buying': 2736, 'combined': 2737, \"father's\": 2738, 'foot': 2739, 'lesbian': 2740, \"people's\": 2741, 'round': 2742, 'scream': 2743, 'significant': 2744, 'standards': 2745, 'treatment': 2746, 'young,': 2747, 'accident': 2748, 'african': 2749, 'bothered': 2750, 'career.': 2751, \"could've\": 2752, 'entertainment.': 2753, 'gore,': 2754, 'mother,': 2755, 'mrs.': 2756, 'north': 2757, 'notorious': 2758, 'others,': 2759, 'prior': 2760, 'things,': 2761, 'words,': 2762, 'youth': 2763, 'amazed': 2764, 'corny': 2765, 'daughter,': 2766, 'depiction': 2767, 'dreadful': 2768, 'enter': 2769, 'experienced': 2770, 'formula': 2771, 'guilty': 2772, 'mainstream': 2773, 'san': 2774, 'security': 2775, 'supernatural': 2776, 'this?': 2777, 'trapped': 2778, 'warning': 2779, 'actually,': 2780, 'appealing': 2781, 'drag': 2782, 'edward': 2783, 'embarrassing': 2784, 'express': 2785, 'girl.': 2786, 'guy.': 2787, 'horrible.': 2788, 'ii': 2789, 'logic': 2790, 'mess.': 2791, 'over,': 2792, 'passing': 2793, 'placed': 2794, 'roy': 2795, 'starred': 2796, 'training': 2797, 'washington': 2798, 'abandoned': 2799, 'awards': 2800, 'halfway': 2801, 'helping': 2802, 'hitler': 2803, 'join': 2804, 'picks': 2805, 'speed': 2806, 'buddy': 2807, 'costume': 2808, 'fictional': 2809, 'irritating': 2810, 'listening': 2811, 'nancy': 2812, 'over-the-top': 2813, 'previously': 2814, 'roles,': 2815, 'singer': 2816, 'universal': 2817, 'voices': 2818, 'wit': 2819, 'beloved': 2820, 'chick': 2821, 'dry': 2822, 'magical': 2823, 'moon': 2824, 'novel,': 2825, 'purely': 2826, 'seek': 2827, 'throws': 2828, 'urban': 2829, 'wear': 2830, 'wind': 2831, 'women,': 2832, 'actress,': 2833, 'carries': 2834, 'changing': 2835, 'committed': 2836, 'display': 2837, 'faithful': 2838, 'grant': 2839, 'insane': 2840, 'required': 2841, 'warm': 2842, 'witness': 2843, 'wood': 2844, 'blown': 2845, 'children.': 2846, 'decade': 2847, 'fairy': 2848, 'fault': 2849, 'horror,': 2850, 'kim': 2851, 'laugh.': 2852, 'paint': 2853, 'prefer': 2854, 'prime': 2855, 'real.': 2856, 'regarding': 2857, 'so-called': 2858, 'suffer': 2859, 'sympathy': 2860, 'throwing': 2861, '(including': 2862, 'carried': 2863, 'efforts': 2864, 'feet': 2865, 'laugh,': 2866, 'locations': 2867, 'mine': 2868, 'oliver': 2869, 'prepared': 2870, 'rose': 2871, 'serve': 2872, 'slow,': 2873, 'stolen': 2874, 'version.': 2875, 'watchable': 2876, 'brother,': 2877, 'cash': 2878, \"children's\": 2879, 'face.': 2880, 'false': 2881, 'ignore': 2882, 'kids,': 2883, 'nude': 2884, 'out.<br': 2885, 'refreshing': 2886, 'renting': 2887, 'reporter': 2888, 'via': 2889, 'adding': 2890, 'amongst': 2891, 'attempting': 2892, 'clean': 2893, 'driven': 2894, 'eight': 2895, 'enjoying': 2896, 'instance,': 2897, 'kung': 2898, 'lynch': 2899, 'matters': 2900, 'men,': 2901, 'mexican': 2902, 'pity': 2903, 'product': 2904, 'protagonist': 2905, 'technology': 2906, 'tv,': 2907, 'wayne': 2908, '/>so,': 2909, 'another.': 2910, 'carrying': 2911, 'convey': 2912, 'deeper': 2913, 'dull,': 2914, 'flashbacks': 2915, 'for,': 2916, 'humanity': 2917, 'marie': 2918, 'perspective': 2919, 'predictable,': 2920, 'stars,': 2921, 'surreal': 2922, 'tape': 2923, 'that.<br': 2924, 'way.<br': 2925, 'why.': 2926, 'closing': 2927, 'critical': 2928, 'cultural': 2929, 'finale': 2930, 'frame': 2931, 'indie': 2932, 'insight': 2933, 'kids.': 2934, 'learning': 2935, 'luck': 2936, 'movie:': 2937, 'remind': 2938, 'sake': 2939, 'satisfying': 2940, 'twisted': 2941, 'wears': 2942, '/>-': 2943, \"/>there's\": 2944, 'another,': 2945, 'blow': 2946, 'brave': 2947, 'crying': 2948, 'devil': 2949, 'experiences': 2950, 'film-making': 2951, 'floor': 2952, 'fourth': 2953, 'freedom': 2954, 'priest': 2955, 'production,': 2956, 'raised': 2957, 'say.': 2958, 'touched': 2959, 'variety': 2960, 'while,': 2961, 'wife.': 2962, 'woman.': 2963, 'anna': 2964, 'calling': 2965, 'comparison': 2966, 'facts': 2967, 'fallen': 2968, 'film!': 2969, 'film?': 2970, 'flesh': 2971, 'max': 2972, 'parker': 2973, 'past,': 2974, 'performed': 2975, 'promising': 2976, 'protect': 2977, '2.': 2978, '80s': 2979, 'boat': 2980, 'columbo': 2981, 'concerned': 2982, 'contain': 2983, 'here.<br': 2984, 'highlight': 2985, 'hunt': 2986, 'lake': 2987, 'relief': 2988, 'school,': 2989, 'sinatra': 2990, 'target': 2991, 'texas': 2992, 'visuals': 2993, 'anything,': 2994, 'england': 2995, 'entertaining,': 2996, 'families': 2997, 'happened.': 2998, 'japan': 2999, 'jumps': 3000, 'mildly': 3001, 'raise': 3002, 'ron': 3003, 'school.': 3004, 'throughout.': 3005, 'adventures': 3006, 'amazingly': 3007, 'anyway': 3008, 'causes': 3009, 'classics': 3010, 'contrived': 3011, 'desert': 3012, 'father.': 3013, 'figures': 3014, 'game.': 3015, 'harris': 3016, 'life.<br': 3017, 'lonely': 3018, 'make-up': 3019, 'picture,': 3020, 'professor': 3021, 'proud': 3022, 'replaced': 3023, 'revolves': 3024, 'true.': 3025, 'understood': 3026, 'warn': 3027, '\"you': 3028, '/>although': 3029, 'determined': 3030, 'disgusting': 3031, 'end.<br': 3032, 'god,': 3033, 'heart.': 3034, 'makeup': 3035, 'notable': 3036, 'rental': 3037, 'seasons': 3038, 'spoiler': 3039, '(one': 3040, 'account': 3041, 'dead,': 3042, 'dean': 3043, 'head.': 3044, 'heck': 3045, 'hey,': 3046, 'invisible': 3047, 'print': 3048, 'quest': 3049, 'safe': 3050, 'side,': 3051, 'spy': 3052, 'stereotypes': 3053, 'teenagers': 3054, 'uk': 3055, 'wasting': 3056, 'what?': 3057, '/>first': 3058, '11': 3059, \"ain't\": 3060, 'bourne': 3061, 'correct': 3062, 'creatures': 3063, 'daily': 3064, 'drives': 3065, 'effectively': 3066, 'fool': 3067, 'forgot': 3068, 'glimpse': 3069, 'halloween': 3070, 'harsh': 3071, 'julie': 3072, 'lawyer': 3073, 'no.': 3074, 'princess': 3075, 'sorts': 3076, 'victoria': 3077, 'weeks': 3078, 'welles': 3079, 'achieve': 3080, 'amateurish': 3081, 'believed': 3082, 'brad': 3083, 'city,': 3084, 'continuity': 3085, 'dollar': 3086, 'erotic': 3087, 'handle': 3088, 'heaven': 3089, 'later.': 3090, 'rip': 3091, 'russell': 3092, 'sold': 3093, 'southern': 3094, 'thoughts': 3095, '(this': 3096, 'crowd': 3097, 'executed': 3098, 'existence': 3099, 'fans.': 3100, 'history,': 3101, 'locked': 3102, 'mentally': 3103, 'moore': 3104, 'score,': 3105, 'sea': 3106, 'shakespeare': 3107, 'site': 3108, 'suffered': 3109, 'town.': 3110, 'warner': 3111, 'window': 3112, 'birth': 3113, 'bodies': 3114, 'lot.': 3115, 'mature': 3116, 'medical': 3117, 'skin': 3118, 'speech': 3119, 'stereotypical': 3120, 'succeeds': 3121, 'year,': 3122, 'again.<br': 3123, 'consists': 3124, 'dennis': 3125, 'direction.': 3126, 'embarrassed': 3127, 'encounter': 3128, 'excitement': 3129, 'generation': 3130, 'julia': 3131, 'metal': 3132, 'powell': 3133, 'rolling': 3134, 'sensitive': 3135, 'sharp': 3136, 'teenager': 3137, '/>anyway,': 3138, '25': 3139, 'complicated': 3140, 'conversation': 3141, 'go.': 3142, 'laughter': 3143, 'lesser': 3144, 'mask': 3145, 'rachel': 3146, 'served': 3147, 'sinister': 3148, 'sleeping': 3149, 'that?': 3150, 'asleep': 3151, 'everyday': 3152, 'inept': 3153, 'interview': 3154, 'myself,': 3155, 'offensive': 3156, 'refuses': 3157, 'related': 3158, 'section': 3159, 'seeking': 3160, 'underground': 3161, '70s': 3162, 'abuse': 3163, 'attacked': 3164, 'bbc': 3165, 'bollywood': 3166, 'bomb': 3167, 'camera.': 3168, 'destroyed': 3169, 'essential': 3170, 'evening': 3171, 'eyes,': 3172, 'fabulous': 3173, 'initially': 3174, 'jewish': 3175, 'jon': 3176, 'letting': 3177, 'naturally': 3178, 'perfect.': 3179, 'propaganda': 3180, 'reference': 3181, 'riding': 3182, 'rough': 3183, 'sum': 3184, 'tied': 3185, \"woman's\": 3186, '(that': 3187, 'cinderella': 3188, 'clips': 3189, 'extraordinary': 3190, 'horrible,': 3191, 'hundreds': 3192, 'infamous': 3193, 'intellectual': 3194, 'leslie': 3195, 'level.': 3196, 'mountain': 3197, 'separate': 3198, 'sir': 3199, 'views': 3200, 'annoying.': 3201, 'child.': 3202, 'crude': 3203, 'delivery': 3204, 'different.': 3205, 'dislike': 3206, 'examples': 3207, 'friday': 3208, 'hundred': 3209, 'introduction': 3210, 'mgm': 3211, 'mistakes': 3212, 'remote': 3213, 'saves': 3214, 'seat': 3215, 'sequels': 3216, 'service': 3217, 'struggles': 3218, 'sunday': 3219, 'thousands': 3220, 'vampires': 3221, 'works.': 3222, 'written,': 3223, 'alone.': 3224, 'degree': 3225, 'established': 3226, 'failure': 3227, 'garbage.': 3228, 'hall': 3229, 'hill': 3230, 'ill': 3231, 'nazi': 3232, 'ones.': 3233, 'past.': 3234, 'qualities': 3235, 'searching': 3236, 'sends': 3237, 'shot.': 3238, 'something,': 3239, 'tedious': 3240, '\"this': 3241, 'adapted': 3242, 'appreciated': 3243, 'core': 3244, 'dialogue.': 3245, 'fan.': 3246, 'fans,': 3247, 'forth': 3248, 'friendly': 3249, 'gas': 3250, 'gordon': 3251, 'greatly': 3252, 'larry': 3253, 'league': 3254, 'overcome': 3255, 'path': 3256, 'reputation': 3257, 'ryan': 3258, 'sucked': 3259, 'ways,': 3260, 'welcome': 3261, 'whereas': 3262, '14': 3263, 'amazing.': 3264, 'case.': 3265, 'checking': 3266, 'concerns': 3267, 'cruel': 3268, 'dogs': 3269, 'editing,': 3270, 'frequently': 3271, 'future.': 3272, 'hint': 3273, 'jessica': 3274, 'on.<br': 3275, 'recommended.': 3276, 'regard': 3277, 'stops': 3278, 'unrealistic': 3279, 'wealthy': 3280, 'act.': 3281, 'b-movie': 3282, 'believable.': 3283, 'burt': 3284, 'challenge': 3285, 'dealt': 3286, 'forest': 3287, 'gruesome': 3288, 'interest.': 3289, 'needless': 3290, 'nonsense': 3291, 'opened': 3292, 'otherwise,': 3293, 'play,': 3294, 'play.': 3295, 'predictable.': 3296, 'rubbish': 3297, 'sarah': 3298, 'sidney': 3299, 'statement': 3300, 'violence.': 3301, 'women.': 3302, 'wonderful.': 3303, 'angel': 3304, 'bette': 3305, 'campy': 3306, 'cares': 3307, 'child,': 3308, 'civil': 3309, 'description': 3310, 'drinking': 3311, 'happen.': 3312, 'is.<br': 3313, 'mass': 3314, 'perform': 3315, 'person,': 3316, 'position': 3317, 'robot': 3318, 'routine': 3319, 'style.': 3320, 'through,': 3321, 'torn': 3322, 'town,': 3323, '(of': 3324, 'broke': 3325, 'brown': 3326, 'candy': 3327, 'career,': 3328, 'device': 3329, 'dragged': 3330, 'foster': 3331, 'gritty': 3332, 'hunter': 3333, 'lights': 3334, 'murphy': 3335, 'pointed': 3336, 'poor,': 3337, 'quality.': 3338, 'raw': 3339, 'rules': 3340, 'stories,': 3341, 'susan': 3342, 'sword': 3343, 'ted': 3344, 'whatsoever.': 3345, 'angles': 3346, 'anymore.': 3347, 'arrives': 3348, 'blood,': 3349, 'bound': 3350, 'busy': 3351, 'criticism': 3352, 'deaths': 3353, 'expert': 3354, 'face,': 3355, 'frankly': 3356, 'interpretation': 3357, 'lisa': 3358, 'market': 3359, 'michelle': 3360, 'mindless': 3361, 'minds': 3362, 'ned': 3363, 'physically': 3364, 'portrait': 3365, 'psycho': 3366, 'rights': 3367, 'sisters': 3368, 'stood': 3369, 'suspenseful': 3370, 'teach': 3371, 'title,': 3372, 'u': 3373, 'anderson': 3374, 'ashamed': 3375, 'connected': 3376, 'countless': 3377, 'escapes': 3378, 'gain': 3379, 'horrific': 3380, 'husband,': 3381, 'killers': 3382, 'please,': 3383, 'promise': 3384, 'strangely': 3385, 'successfully': 3386, 'surrounding': 3387, '10/10': 3388, 'artists': 3389, 'associated': 3390, 'claire': 3391, 'clichéd': 3392, 'cynical': 3393, 'dialog,': 3394, 'entertain': 3395, 'execution': 3396, 'extras': 3397, 'factor': 3398, 'honest,': 3399, 'interviews': 3400, 'lines.': 3401, 'material.': 3402, 'mob': 3403, 'moment,': 3404, 'plastic': 3405, 'religion': 3406, 'ripped': 3407, 'sleazy': 3408, 'solve': 3409, 'spending': 3410, 'spoof': 3411, 'stanley': 3412, 'suspense,': 3413, 'then.': 3414, 'wishes': 3415, ':)': 3416, 'answers': 3417, 'ass': 3418, 'base': 3419, 'bo': 3420, 'dead.': 3421, 'develops': 3422, 'go,': 3423, 'j.': 3424, 'jr.': 3425, 'lazy': 3426, 'levels': 3427, 'marvelous': 3428, 'meanwhile,': 3429, 'old.': 3430, 'par': 3431, 'person.': 3432, 'politics': 3433, 'praise': 3434, 'really.': 3435, 'rings': 3436, 'sad,': 3437, 'sets,': 3438, 'shines': 3439, 'skill': 3440, 'spoken': 3441, 'theory': 3442, \"they'd\": 3443, 'thousand': 3444, 'tons': 3445, 'troubled': 3446, 'video.': 3447, '/>from': 3448, 'attempted': 3449, 'breath': 3450, 'bus': 3451, 'catholic': 3452, 'disappointment.': 3453, 'either,': 3454, 'ensemble': 3455, 'fbi': 3456, 'freeman': 3457, 'increasingly': 3458, 'inspector': 3459, 'ironic': 3460, 'kurt': 3461, 'lion': 3462, 'narration': 3463, 'once,': 3464, 'opinion.': 3465, 'own,': 3466, 'shoots': 3467, 'slapstick': 3468, 'structure': 3469, 'usual,': 3470, 'believing': 3471, 'bettie': 3472, 'classic,': 3473, 'elizabeth': 3474, 'flashback': 3475, 'game,': 3476, 'hang': 3477, 'hat': 3478, 'idea.': 3479, 'maria': 3480, 'millions': 3481, 'nudity,': 3482, 'obsession': 3483, 'or,': 3484, 'pregnant': 3485, 'real,': 3486, 'surrounded': 3487, 'teens': 3488, 'thriller,': 3489, 'toy': 3490, 'upset': 3491, 'vietnam': 3492, '\"i\\'m': 3493, 'advantage': 3494, 'aged': 3495, 'allowing': 3496, 'anger': 3497, 'belongs': 3498, 'bitter': 3499, 'c.': 3500, 'caring': 3501, 'cartoons': 3502, 'cowboy': 3503, 'danger': 3504, 'episodes,': 3505, 'hoped': 3506, 'lewis': 3507, 'reality,': 3508, 'right?': 3509, 'storyline,': 3510, 'themselves,': 3511, 'trick': 3512, 'unconvincing': 3513, 'winner': 3514, \"world's\": 3515, 'accents': 3516, 'age,': 3517, 'ages': 3518, 'beautiful.': 3519, 'chance.': 3520, 'covers': 3521, 'entertained': 3522, 'expression': 3523, 'fare': 3524, 'good.<br': 3525, 'grows': 3526, 'happily': 3527, 'horror.': 3528, 'killer,': 3529, 'like.': 3530, 'lying': 3531, 'oil': 3532, 'per': 3533, 'ralph': 3534, 'shows.': 3535, 'sings': 3536, 'strictly': 3537, 'stylish': 3538, 'talent.': 3539, 'term': 3540, 'viewer.': 3541, 'wanna': 3542, 'wins': 3543, '/>by': 3544, 'alice': 3545, 'annoyed': 3546, 'balance': 3547, 'because,': 3548, 'chasing': 3549, 'city.': 3550, 'enemy': 3551, 'etc': 3552, 'evil,': 3553, 'flight': 3554, 'goofy': 3555, 'hiding': 3556, 'killer.': 3557, 'movement': 3558, 'nuclear': 3559, 'pet': 3560, 'pleasantly': 3561, 'realise': 3562, 'rule': 3563, 'says,': 3564, 'status': 3565, 'studios': 3566, 'suggests': 3567, 'surprises': 3568, 'tight': 3569, '/>well,': 3570, '1st': 3571, 'aunt': 3572, 'budget.': 3573, 'bugs': 3574, 'dress': 3575, 'enters': 3576, 'everyone.': 3577, 'far,': 3578, 'frightening': 3579, 'have.': 3580, 'network': 3581, 'philip': 3582, 'represents': 3583, 'split': 3584, 'steps': 3585, 'strikes': 3586, 'there.<br': 3587, 'tradition': 3588, 'tribute': 3589, 'uninteresting': 3590, 'accepted': 3591, 'colors': 3592, 'dollars': 3593, 'equal': 3594, 'flow': 3595, 'grim': 3596, 'hardy': 3597, 'homeless': 3598, 'identify': 3599, 'masterpiece.': 3600, 'navy': 3601, 'opposed': 3602, 'prevent': 3603, 'quirky': 3604, 'shadow': 3605, 'sorry,': 3606, 'striking': 3607, 'tales': 3608, 'treasure': 3609, '(no': 3610, '1.': 3611, 'andrew': 3612, 'appearing': 3613, 'cabin': 3614, 'cell': 3615, 'code': 3616, 'directorial': 3617, 'driver': 3618, 'dude': 3619, 'essence': 3620, 'handful': 3621, 'imagery': 3622, 'inspiration': 3623, 'jay': 3624, 'kid,': 3625, 'neat': 3626, 'nine': 3627, 'paper': 3628, 'repeat': 3629, 'requires': 3630, 'risk': 3631, 'rival': 3632, 'sequel.': 3633, '(except': 3634, 'aforementioned': 3635, 'attention.': 3636, 'bore': 3637, 'burns': 3638, 'chan': 3639, 'court': 3640, 'crash': 3641, 'emma': 3642, 'entertainment,': 3643, 'fifteen': 3644, 'funnier': 3645, 'germany': 3646, 'gotta': 3647, 'guessing': 3648, 'matter.': 3649, 'moment.': 3650, 'r': 3651, 'sexually': 3652, 'shut': 3653, 'specific': 3654, 'substance': 3655, 'technically': 3656, 'teeth': 3657, 'thriller.': 3658, 'uncomfortable': 3659, 'wondered': 3660, \"/>i've\": 3661, '10,': 3662, 'blockbuster': 3663, 'caine': 3664, 'comical': 3665, 'contact': 3666, 'courage': 3667, 'does,': 3668, 'enjoyable.': 3669, 'entry': 3670, 'europe': 3671, 'eyes.': 3672, 'forgive': 3673, 'idea,': 3674, 'look,': 3675, 'nice,': 3676, 'paced': 3677, 'pacino': 3678, 'problems,': 3679, 'profound': 3680, 'pulling': 3681, 'quote': 3682, 'release.': 3683, 'shall': 3684, 'shots,': 3685, 'slight': 3686, 'task': 3687, 'thought,': 3688, 'two.': 3689, '\"it\\'s': 3690, 'chances': 3691, 'chilling': 3692, 'everything.': 3693, 'girls,': 3694, 'head,': 3695, 'holiday': 3696, 'kicks': 3697, 'men.': 3698, 'noble': 3699, 'once.': 3700, 'performing': 3701, 'pitt': 3702, 'plus,': 3703, 'problem.': 3704, 'pushed': 3705, 'real-life': 3706, 'release,': 3707, 'rid': 3708, 'scary,': 3709, 'screening': 3710, 'silly,': 3711, 'stranger': 3712, 'struck': 3713, 'subsequent': 3714, 'talked': 3715, 'theaters': 3716, 'weekend': 3717, 'why,': 3718, 'wilson': 3719, '\"my': 3720, '(john': 3721, '(to': 3722, 'age.': 3723, 'arms': 3724, 'attracted': 3725, 'basis': 3726, 'beating': 3727, 'blair': 3728, 'clark': 3729, 'daughters': 3730, 'ghosts': 3731, 'graphics': 3732, 'heart,': 3733, 'her.<br': 3734, 'hero,': 3735, 'hitting': 3736, 'hollywood.': 3737, 'intensity': 3738, 'line.': 3739, 'lot,': 3740, 'lugosi': 3741, 'movies.<br': 3742, 'pat': 3743, 'remaining': 3744, 'romance,': 3745, 'sitcom': 3746, 'sole': 3747, 'stan': 3748, 'star.': 3749, 'stealing': 3750, 'television.': 3751, 'unforgettable': 3752, 'angle': 3753, 'authentic': 3754, 'brilliant,': 3755, 'circumstances': 3756, 'commit': 3757, 'criminals': 3758, 'drags': 3759, 'draws': 3760, 'expensive': 3761, 'hills': 3762, 'host': 3763, 'mid': 3764, 'murder,': 3765, 'object': 3766, 'partly': 3767, 'period.': 3768, 'reasonably': 3769, \"show's\": 3770, 'shower': 3771, 'star,': 3772, \"they'll\": 3773, 'too.<br': 3774, 'topic': 3775, 'tremendous': 3776, 'truck': 3777, 'wake': 3778, '/>he': 3779, '20th': 3780, 'aimed': 3781, 'bad.<br': 3782, 'brilliant.': 3783, 'cardboard': 3784, 'charismatic': 3785, 'controversial': 3786, 'definite': 3787, 'enjoy.': 3788, 'faced': 3789, 'flawed': 3790, 'guest': 3791, 'hell,': 3792, 'korean': 3793, 'parts,': 3794, 'picking': 3795, 'punch': 3796, 'racist': 3797, 'reactions': 3798, 'reed': 3799, 'silver': 3800, 'stretch': 3801, 'trilogy': 3802, 'video,': 3803, 'wonders': 3804, 'yourself.': 3805, 'anyone.': 3806, 'apparently,': 3807, 'attached': 3808, 'beach': 3809, 'car,': 3810, 'corrupt': 3811, 'demon': 3812, 'dropped': 3813, 'film;': 3814, 'grey': 3815, 'guys,': 3816, 'idiot': 3817, 'jokes,': 3818, 'jumping': 3819, 'lacked': 3820, 'laid': 3821, 'larger': 3822, 'lifetime': 3823, 'murderer': 3824, 'obnoxious': 3825, 'perfect,': 3826, 'proof': 3827, 'providing': 3828, 'reduced': 3829, 'society.': 3830, 'text': 3831, 'theater.': 3832, 'thrilling': 3833, 'two,': 3834, 'watches': 3835, 'ways.': 3836, '/>despite': 3837, 'achieved': 3838, 'aliens': 3839, 'at.': 3840, 'catherine': 3841, 'concerning': 3842, 'encounters': 3843, 'experiment': 3844, 'fame': 3845, 'france': 3846, 'gothic': 3847, 'hitchcock': 3848, 'hours.': 3849, 'kiss': 3850, 'matter,': 3851, 'melodrama': 3852, 'nevertheless,': 3853, 'packed': 3854, 'revealing': 3855, 'seagal': 3856, 'sequence,': 3857, 'sin': 3858, 'thumbs': 3859, 'universe': 3860, 'writer/director': 3861, 'burning': 3862, 'choices': 3863, 'competent': 3864, 'dare': 3865, 'digital': 3866, 'dorothy': 3867, 'drink': 3868, 'fitting': 3869, 'forgettable': 3870, 'hole': 3871, 'honor': 3872, 'idiotic': 3873, 'laughable.': 3874, 'los': 3875, 'mansion': 3876, 'peace': 3877, 'reality.': 3878, 'relevant': 3879, 'returning': 3880, 'root': 3881, 'same.': 3882, 'scale': 3883, 'scary.': 3884, 'scenario': 3885, 'scientists': 3886, 'seeing.': 3887, 'sides': 3888, 'stories.': 3889, 'stronger': 3890, 'stunt': 3891, 'tense': 3892, 'threw': 3893, 'timothy': 3894, 'better.<br': 3895, 'brand': 3896, 'closely': 3897, 'complaint': 3898, 'continued': 3899, 'cool,': 3900, 'crafted': 3901, 'credible': 3902, 'displays': 3903, 'eerie': 3904, 'film)': 3905, 'film:': 3906, 'frustrated': 3907, 'hilarious,': 3908, 'imaginative': 3909, 'jeremy': 3910, 'jobs': 3911, 'laurel': 3912, 'musicals': 3913, 'precious': 3914, 'push': 3915, 'retarded': 3916, 'screenwriter': 3917, 'shape': 3918, 'sister,': 3919, 'stole': 3920, 'storm': 3921, 'sucks': 3922, 'talent,': 3923, 'typically': 3924, 'unbelievably': 3925, 'wave': 3926, 'weapons': 3927, '/>just': 3928, '13': 3929, 'accused': 3930, 'buried': 3931, 'charge': 3932, 'decades': 3933, 'dig': 3934, 'directing,': 3935, 'dragon': 3936, 'easier': 3937, 'elderly': 3938, 'enjoys': 3939, 'gripping': 3940, 'gross': 3941, 'happen,': 3942, 'helen': 3943, 'is:': 3944, 'letter': 3945, 'lie': 3946, 'listed': 3947, 'mother.': 3948, 'parts.': 3949, 'planning': 3950, 'ridiculously': 3951, 'settings': 3952, 'spike': 3953, 'terrifying': 3954, 'thirty': 3955, 'throughout,': 3956, 'tour': 3957, 'worthwhile': 3958, 'admire': 3959, 'belief': 3960, 'builds': 3961, 'costs.': 3962, 'denzel': 3963, 'development,': 3964, 'drunken': 3965, 'effort.': 3966, 'extended': 3967, 'guard': 3968, 'hire': 3969, 'level,': 3970, 'lovable': 3971, 'lucy': 3972, 'man\"': 3973, 'manager': 3974, 'meaningful': 3975, 'messages': 3976, 'mst3k': 3977, 'ought': 3978, 'pack': 3979, 'patient': 3980, 'poignant': 3981, 'pretend': 3982, 'resembles': 3983, 'scares': 3984, 'second,': 3985, 'shortly': 3986, 'stanwyck': 3987, 'stomach': 3988, 'stuff,': 3989, 'terror': 3990, 'think.': 3991, 'unintentionally': 3992, 'vincent': 3993, '\"in': 3994, '(such': 3995, 'america.': 3996, 'blend': 3997, 'brooks': 3998, 'colorful': 3999, 'cooper': 4000, 'distant': 4001, 'enjoyment': 4002, 'eva': 4003, 'explore': 4004, 'gradually': 4005, \"he'll\": 4006, 'help.': 4007, 'ian': 4008, 'instantly': 4009, 'it)': 4010, 'jungle': 4011, 'mel': 4012, 'name.': 4013, 'personalities': 4014, 'pleased': 4015, 'sandler': 4016, 'short.': 4017, 'simple,': 4018, 'spiritual': 4019, 'start.': 4020, 'string': 4021, 'tracy': 4022, 'york,': 4023, 'art.': 4024, 'atmosphere,': 4025, 'attacks': 4026, 'cameos': 4027, 'camera,': 4028, 'cared': 4029, 'carefully': 4030, 'comedian': 4031, 'devoted': 4032, 'dubbing': 4033, 'east': 4034, 'evident': 4035, 'exists': 4036, 'expressions': 4037, 'extent': 4038, 'glass': 4039, 'hollywood,': 4040, 'homage': 4041, 'importance': 4042, 'junk': 4043, 'mouse': 4044, 'non': 4045, 'productions': 4046, 'rain': 4047, 'ratings': 4048, 'rural': 4049, 'segments': 4050, 'shows,': 4051, 'sophisticated': 4052, 'trash.': 4053, 'tune': 4054, 'upper': 4055, 'wes': 4056, '/>they': 4057, 'actress.': 4058, 'afternoon': 4059, 'aired': 4060, 'albeit': 4061, 'arm': 4062, 'assistant': 4063, 'atmospheric': 4064, 'atrocious': 4065, 'bridge': 4066, 'buck': 4067, 'che': 4068, 'con': 4069, 'concert': 4070, 'conclusion,': 4071, 'daughter.': 4072, 'exercise': 4073, 'films.<br': 4074, 'have,': 4075, 'jamie': 4076, 'joke.': 4077, 'laughs,': 4078, \"mother's\": 4079, 'novel.': 4080, 'reached': 4081, 'relies': 4082, 'rush': 4083, 'sentimental': 4084, 'soviet': 4085, 'spell': 4086, 'superbly': 4087, 'this:': 4088, 'white,': 4089, 'wow,': 4090, '/>also': 4091, '2,': 4092, 'africa': 4093, 'always,': 4094, 'appearances': 4095, 'bears': 4096, 'breathtaking': 4097, 'cases': 4098, 'category': 4099, 'country.': 4100, 'exceptional': 4101, 'johnson': 4102, 'knock': 4103, 'laughs.': 4104, 'neil': 4105, 'receive': 4106, 'ridiculous,': 4107, 'son.': 4108, 'titles': 4109, 'act,': 4110, 'bit,': 4111, 'bit.': 4112, 'bobby': 4113, 'chuck': 4114, 'currently': 4115, 'darkness': 4116, 'demons': 4117, 'disbelief': 4118, 'evil.': 4119, 'fatal': 4120, 'focusing': 4121, 'frankly,': 4122, 'futuristic': 4123, \"girl's\": 4124, 'intention': 4125, 'intrigued': 4126, 'jake': 4127, 'matthau': 4128, 'mexico': 4129, 'mild': 4130, 'minimal': 4131, 'misses': 4132, 'name,': 4133, 'neighborhood': 4134, 'notably': 4135, 'reasons.': 4136, 'returned': 4137, 'sticks': 4138, 'storytelling': 4139, 'vague': 4140, 'viewing.': 4141, 'wicked': 4142, '*': 4143, '/>also,': 4144, '/>no': 4145, '1950s': 4146, 'ad': 4147, 'beast': 4148, 'catches': 4149, 'credibility': 4150, 'darker': 4151, 'dinner': 4152, 'elvis': 4153, 'executive': 4154, 'flash': 4155, 'grab': 4156, 'grave': 4157, 'hearts': 4158, 'honestly,': 4159, 'hunting': 4160, 'involved.': 4161, 'irony': 4162, 'it...': 4163, 'jail': 4164, 'ken': 4165, 'kidnapped': 4166, 'laura': 4167, 'ludicrous': 4168, 'murderous': 4169, 'pool': 4170, 'rating:': 4171, 'selling': 4172, 'splendid': 4173, 'summary': 4174, 'sun': 4175, 'surface': 4176, 'university': 4177, 'wing': 4178, 'alone,': 4179, 'annoying,': 4180, 'attraction': 4181, 'branagh': 4182, 'burn': 4183, 'causing': 4184, 'complain': 4185, 'deliberately': 4186, 'derek': 4187, 'devoid': 4188, 'dialogs': 4189, 'escaped': 4190, 'everyone,': 4191, 'experience,': 4192, 'fancy': 4193, 'financial': 4194, 'health': 4195, 'highest': 4196, 'innocence': 4197, 'internet': 4198, 'jesse': 4199, 'killed,': 4200, 'legs': 4201, 'noted': 4202, 'pays': 4203, 'primary': 4204, 'properly': 4205, 'protagonists': 4206, 'relative': 4207, 'roberts': 4208, 'room,': 4209, 'sequel,': 4210, 'special.': 4211, 'staying': 4212, 'technique': 4213, 'timing': 4214, 'title.': 4215, 'tricks': 4216, 'world.<br': 4217, 'affected': 4218, 'arrested': 4219, 'b.': 4220, 'beats': 4221, 'carpenter': 4222, 'colour': 4223, 'countries': 4224, 'country,': 4225, 'delight': 4226, 'disappointing.': 4227, 'explaining': 4228, 'fine.': 4229, 'fond': 4230, 'forever.': 4231, 'greek': 4232, \"hollywood's\": 4233, 'holmes': 4234, \"it'll\": 4235, 'lessons': 4236, 'midnight': 4237, 'movie)': 4238, 'nothing,': 4239, 'novels': 4240, 'oddly': 4241, 'ok.': 4242, 'originality': 4243, 'poor.': 4244, 'press': 4245, 'realistic.': 4246, 'scripts': 4247, 'songs,': 4248, 'streisand': 4249, 'surprise,': 4250, 'table': 4251, 'twin': 4252, \"we'll\": 4253, 'westerns': 4254, '2nd': 4255, 'along.': 4256, 'amazing,': 4257, 'animation,': 4258, 'basically,': 4259, 'beginning.': 4260, 'broad': 4261, 'burned': 4262, 'clues': 4263, 'connect': 4264, 'contract': 4265, 'demands': 4266, 'describes': 4267, 'dozens': 4268, 'elaborate': 4269, 'fine,': 4270, 'funny.<br': 4271, 'gag': 4272, 'guts': 4273, 'happens.': 4274, 'happiness': 4275, 'hoffman': 4276, 'jet': 4277, 'jokes.': 4278, 'lincoln': 4279, 'load': 4280, 'look.': 4281, 'matrix': 4282, 'menacing': 4283, 'psychotic': 4284, 'ranks': 4285, 'rating.': 4286, 'reaches': 4287, 'reasonable': 4288, 'resemblance': 4289, 'scientific': 4290, 'stated': 4291, 'stupidity': 4292, 'thankfully': 4293, 'trio': 4294, 'truth.': 4295, 'urge': 4296, 'vacation': 4297, 'vicious': 4298, 'workers': 4299, \"(i'm\": 4300, '(see': 4301, '/>overall': 4302, '100%': 4303, 'accomplished': 4304, 'ambitious': 4305, 'briefly': 4306, 'california': 4307, 'care.': 4308, 'characters.<br': 4309, 'confusion': 4310, 'creators': 4311, 'curse': 4312, 'department': 4313, 'dynamic': 4314, 'earth.': 4315, 'failing': 4316, 'fired': 4317, 'friend.': 4318, 'kenneth': 4319, 'lives,': 4320, 'loads': 4321, 'mirror': 4322, 'mixture': 4323, 'nation': 4324, 'occurs': 4325, 'particular,': 4326, 'pushing': 4327, 'sally': 4328, 'slightest': 4329, 'strike': 4330, 'strip': 4331, 'subplot': 4332, 'subtitles': 4333, 'trial': 4334, 'weapon': 4335, 'while.': 4336, 'work.<br': 4337, 'worried': 4338, 'worry': 4339, '/>director': 4340, 'acceptable': 4341, 'afford': 4342, 'all-time': 4343, 'angels': 4344, 'art,': 4345, 'barry': 4346, 'boxing': 4347, 'bush': 4348, 'clint': 4349, 'comfortable': 4350, 'discuss': 4351, 'drawing': 4352, 'earth,': 4353, 'enormous': 4354, 'guide': 4355, 'heroic': 4356, 'improved': 4357, 'incoherent': 4358, 'involve': 4359, 'liberal': 4360, 'lloyd': 4361, 'many,': 4362, 'marks': 4363, 'material,': 4364, 'pitch': 4365, 'primarily': 4366, 'producing': 4367, 'racism': 4368, 'remarkably': 4369, 'sequences,': 4370, 'settle': 4371, 'spoiled': 4372, 'succeed': 4373, 'videos': 4374, 'view,': 4375, 'view.': 4376, 'watching,': 4377, 'whole,': 4378, 'worst.': 4379, '\"how': 4380, '/>why': 4381, \"90's\": 4382, 'america,': 4383, 'battles': 4384, 'blah': 4385, 'boll': 4386, 'card': 4387, \"characters'\": 4388, 'consistently': 4389, 'convoluted': 4390, 'cup': 4391, 'dedicated': 4392, 'diamond': 4393, 'environment': 4394, 'flaw': 4395, 'format': 4396, 'grade:': 4397, 'horrendous': 4398, 'influenced': 4399, 'insulting': 4400, 'intentions': 4401, 'introduces': 4402, 'magazine': 4403, 'meat': 4404, 'newspaper': 4405, 'outer': 4406, 'presentation': 4407, 'recognized': 4408, 'repeatedly': 4409, 'smaller': 4410, 'solely': 4411, 'suited': 4412, 'suspense.': 4413, 'swedish': 4414, 'sweet,': 4415, 'titled': 4416, 'trade': 4417, 'travels': 4418, 'weight': 4419, '(an': 4420, '(i.e.': 4421, '/>*': 4422, '/>an': 4423, 'absence': 4424, 'andrews': 4425, 'aside,': 4426, 'bat': 4427, 'beaten': 4428, 'bite': 4429, 'blew': 4430, 'china': 4431, 'cousin': 4432, 'drops': 4433, 'era.': 4434, 'estate': 4435, 'hates': 4436, 'inevitable': 4437, 'lane': 4438, 'logical': 4439, 'lucas': 4440, 'nearby': 4441, 'parents,': 4442, 'portion': 4443, 'represent': 4444, 'revelation': 4445, 'screams': 4446, 'season.': 4447, 'situation.': 4448, 'situations.': 4449, 'soundtrack,': 4450, 'spooky': 4451, 'tad': 4452, 'thief': 4453, 'threat': 4454, 'tortured': 4455, 'uwe': 4456, 'wont': 4457, '(from': 4458, '/>yes,': 4459, '17': 4460, '60': 4461, '8/10': 4462, 'alas,': 4463, 'arnold': 4464, 'arrive': 4465, 'blatant': 4466, 'course.': 4467, 'curtis': 4468, 'developing': 4469, 'discussion': 4470, 'documentary.': 4471, 'endearing': 4472, 'era,': 4473, 'explicit': 4474, 'fay': 4475, 'hanks': 4476, 'hence': 4477, 'involvement': 4478, 'jeffrey': 4479, 'justify': 4480, 'kid.': 4481, 'kudos': 4482, 'morality': 4483, 'obscure': 4484, 'poster': 4485, 'rushed': 4486, 'severe': 4487, 'sex.': 4488, 'slap': 4489, \"someone's\": 4490, 'storyline.': 4491, 'suspects': 4492, 'threatening': 4493, 'tree': 4494, 'turkey': 4495, 'undoubtedly': 4496, 'vast': 4497, 'versus': 4498, 'writer,': 4499, \"60's\": 4500, 'argue': 4501, 'audio': 4502, 'big,': 4503, 'chased': 4504, 'chases': 4505, 'comparing': 4506, 'conventional': 4507, 'dave': 4508, 'dentist': 4509, 'fears': 4510, 'glorious': 4511, 'had.': 4512, 'hardcore': 4513, 'hell.': 4514, 'hints': 4515, 'hip': 4516, 'hooked': 4517, 'jealous': 4518, 'lame.': 4519, 'mafia': 4520, 'pace,': 4521, 'performers': 4522, 'photographed': 4523, 'possibility': 4524, 'rap': 4525, 'rip-off': 4526, 'rogers': 4527, 'ruth': 4528, 'shy': 4529, 'song,': 4530, 'spin': 4531, 'techniques': 4532, 'villain,': 4533, 'web': 4534, 'aging': 4535, 'beneath': 4536, 'chair': 4537, 'charisma': 4538, 'cheap,': 4539, 'combine': 4540, 'composed': 4541, 'conspiracy': 4542, 'contained': 4543, 'corner': 4544, 'crisis': 4545, 'defeat': 4546, 'different,': 4547, \"everyone's\": 4548, 'facing': 4549, 'fortune': 4550, 'gift': 4551, 'horrors': 4552, 'ideal': 4553, 'intent': 4554, 'involved,': 4555, 'kicked': 4556, 'killed.': 4557, 'lasted': 4558, 'lily': 4559, 'month': 4560, 'noise': 4561, 'norman': 4562, 'note,': 4563, 'ourselves': 4564, 'outrageous': 4565, 'pride': 4566, 'realizing': 4567, 'revolution': 4568, 'smooth': 4569, 'snow': 4570, 'titanic': 4571, 'useless': 4572, 'waited': 4573, 'weakest': 4574, 'winds': 4575, 'wore': 4576, 'writing.': 4577, '(you': 4578, '18': 4579, '2)': 4580, 'acted,': 4581, 'aka': 4582, 'anymore': 4583, 'benefit': 4584, 'brando': 4585, 'carl': 4586, 'cia': 4587, 'cruise': 4588, 'defend': 4589, 'emphasis': 4590, 'everything,': 4591, 'exposed': 4592, 'felix': 4593, 'gentle': 4594, 'harder': 4595, 'heston': 4596, 'karloff': 4597, 'notion': 4598, 'offering': 4599, 'orders': 4600, 'overlooked': 4601, 'personally,': 4602, 'rank': 4603, 'signs': 4604, 'sits': 4605, 'suits': 4606, 'superhero': 4607, 'thrillers': 4608, 'treats': 4609, 'warren': 4610, 'were,': 4611, '/>like': 4612, '/>most': 4613, '3.': 4614, '3rd': 4615, '45': 4616, 'bag': 4617, 'bare': 4618, 'blows': 4619, 'chance,': 4620, 'daring': 4621, 'documentary,': 4622, 'dull.': 4623, 'flynn': 4624, 'gem.': 4625, 'hugh': 4626, 'investigation': 4627, 'maintain': 4628, 'mickey': 4629, 'miscast': 4630, 'montage': 4631, 'nose': 4632, 'passes': 4633, 'presumably': 4634, 'quality,': 4635, 'released.': 4636, 'response': 4637, 'room.': 4638, 'sadistic': 4639, 'savage': 4640, 'screen.<br': 4641, 'soundtrack.': 4642, 'suitable': 4643, 'times.<br': 4644, '(by': 4645, '(they': 4646, '(yes,': 4647, 'border': 4648, 'bullets': 4649, 'can.': 4650, 'carrey': 4651, 'closest': 4652, 'come.': 4653, 'cook': 4654, 'delivering': 4655, 'exaggerated': 4656, 'girlfriend,': 4657, 'glenn': 4658, 'guys.': 4659, 'hey': 4660, 'highlights': 4661, 'i,': 4662, 'judging': 4663, 'link': 4664, 'margaret': 4665, 'modesty': 4666, 'movie...': 4667, 'nelson': 4668, 'painted': 4669, 'painting': 4670, 'problems.': 4671, 'psychiatrist': 4672, 'raped': 4673, 'spielberg': 4674, 'staring': 4675, 'suck': 4676, 'tear': 4677, 'this!': 4678, 'timeless': 4679, 'unbelievable.': 4680, 'usa': 4681, 'valuable': 4682, 'vivid': 4683, 'ward': 4684, 'watch.<br': 4685, 'winter': 4686, 'wished': 4687, '(she': 4688, 'affect': 4689, 'alexander': 4690, 'business.': 4691, 'considerable': 4692, 'corporate': 4693, \"don't.\": 4694, 'duke': 4695, 'dutch': 4696, 'et': 4697, 'events,': 4698, 'exotic': 4699, 'fish': 4700, 'headed': 4701, 'holy': 4702, 'ignored': 4703, 'individuals': 4704, 'interaction': 4705, 'investigate': 4706, 'it;': 4707, \"king's\": 4708, 'lab': 4709, 'masterpiece,': 4710, 'mentioned,': 4711, 'moving,': 4712, 'naturally,': 4713, 'reflect': 4714, 'resolution': 4715, 'samurai': 4716, 'society,': 4717, 'spare': 4718, 'spots': 4719, 'spring': 4720, 'sullivan': 4721, 'sure.': 4722, 'sutherland': 4723, 'switch': 4724, 'ticket': 4725, 'time!': 4726, 'viewers.': 4727, 'worthless': 4728, 'yet.': 4729, 'you.<br': 4730, '\"la': 4731, '..': 4732, '/>do': 4733, '/>now,': 4734, '24': 4735, 'alongside': 4736, 'also.': 4737, 'amounts': 4738, 'baker': 4739, 'bible': 4740, 'bleak': 4741, 'chain': 4742, 'cheese': 4743, 'cole': 4744, 'crimes': 4745, 'depicts': 4746, 'destroying': 4747, 'disagree': 4748, 'documentaries': 4749, 'engaged': 4750, 'episodes.': 4751, 'ginger': 4752, 'goal': 4753, 'gray': 4754, 'hal': 4755, 'horses': 4756, 'i.e.': 4757, 'inspiring': 4758, 'interest,': 4759, 'isolated': 4760, 'it:': 4761, 'joined': 4762, 'le': 4763, 'less.': 4764, 'one-liners': 4765, 'orson': 4766, 'oscars': 4767, 'points.': 4768, 'racial': 4769, 'reads': 4770, 'rebel': 4771, 'reunion': 4772, 'set.': 4773, 'sexuality': 4774, 'shorts': 4775, 'size': 4776, 'sons': 4777, 'superb.': 4778, 'union': 4779, 'walls': 4780, 'x': 4781, '/>maybe': 4782, '1/2': 4783, '80': 4784, 'abc': 4785, 'behave': 4786, 'birthday': 4787, 'blake': 4788, 'centers': 4789, 'cheating': 4790, 'compelled': 4791, 'conversations': 4792, 'costumes,': 4793, 'crush': 4794, 'dear': 4795, 'disc': 4796, \"disney's\": 4797, 'displayed': 4798, 'earned': 4799, 'edgar': 4800, 'engage': 4801, 'floating': 4802, 'forbidden': 4803, 'from.': 4804, 'handed': 4805, 'india': 4806, 'instant': 4807, 'italy': 4808, 'knife': 4809, 'lighting,': 4810, 'maggie': 4811, 'melodramatic': 4812, 'murder.': 4813, 'potentially': 4814, 'prom': 4815, 'react': 4816, 'scottish': 4817, 'screenplay,': 4818, 'shining': 4819, 'show.<br': 4820, 'stunts': 4821, 'taught': 4822, 'thick': 4823, 'tie': 4824, 'toilet': 4825, 'truth,': 4826, 'unintentional': 4827, 'widmark': 4828, '1/10': 4829, 'admit,': 4830, 'agrees': 4831, 'argument': 4832, 'beer': 4833, 'blood.': 4834, 'brilliance': 4835, 'brutally': 4836, 'burton': 4837, 'carol': 4838, 'competition': 4839, 'cool.': 4840, 'development.': 4841, 'diane': 4842, 'doc': 4843, 'effect.': 4844, 'everywhere': 4845, 'ex': 4846, 'exceptionally': 4847, \"family's\": 4848, 'far.': 4849, 'festival.': 4850, 'flies': 4851, 'granted,': 4852, 'hung': 4853, 'juvenile': 4854, 'loyal': 4855, 'mario': 4856, 'matthew': 4857, 'memorable.': 4858, 'next.': 4859, 'ones,': 4860, 'overwhelming': 4861, 'pie': 4862, 'politically': 4863, 'pretending': 4864, 'proceeds': 4865, 'projects': 4866, 'reaching': 4867, 'rochester': 4868, 'secretly': 4869, 'staff': 4870, 'strong,': 4871, 'tends': 4872, 'thru': 4873, 'traveling': 4874, 'trite': 4875, 'up.<br': 4876, 'virus': 4877, 'vs': 4878, 'word,': 4879, 'wrapped': 4880, '\"if': 4881, '(also': 4882, \"(it's\": 4883, '/>watch': 4884, 'addition,': 4885, 'advise': 4886, 'anyone,': 4887, 'armed': 4888, 'bin': 4889, 'breasts': 4890, 'brosnan': 4891, 'capturing': 4892, 'chorus': 4893, 'communist': 4894, 'cox': 4895, 'dawn': 4896, 'del': 4897, 'die,': 4898, 'doomed': 4899, 'emily': 4900, 'fantastic.': 4901, 'favorites': 4902, 'generic': 4903, 'guarantee': 4904, 'guessed': 4905, 'heat': 4906, 'ingredients': 4907, 'jumped': 4908, 'little.': 4909, 'lowest': 4910, 'movie;': 4911, 'nowadays': 4912, 'occur': 4913, 'perry': 4914, 'philosophical': 4915, 'result,': 4916, 'sad.': 4917, 'set,': 4918, 'side.': 4919, 'simplistic': 4920, 'situations,': 4921, 'spread': 4922, 'swear': 4923, 'topless': 4924, 'trap': 4925, 'weak,': 4926, 'wishing': 4927, 'wonderful,': 4928, 'worlds': 4929, 'wwii': 4930, '/>finally,': 4931, 'accent.': 4932, 'alternate': 4933, 'awfully': 4934, 'banned': 4935, 'blank': 4936, 'blond': 4937, 'broadcast': 4938, 'buddies': 4939, 'car.': 4940, 'cary': 4941, 'century.': 4942, 'cg': 4943, 'chaplin': 4944, 'childish': 4945, 'class.': 4946, 'classical': 4947, 'comments,': 4948, 'crap,': 4949, 'dancer': 4950, 'dire': 4951, 'discovery': 4952, 'distance': 4953, 'duo': 4954, 'global': 4955, 'guilt': 4956, 'hudson': 4957, 'instance': 4958, 'judy': 4959, 'lay': 4960, \"lee's\": 4961, 'made-for-tv': 4962, 'miller': 4963, 'nervous': 4964, 'official': 4965, 'pathetic.': 4966, 'persona': 4967, 'power,': 4968, 'relation': 4969, 'sacrifice': 4970, 'scenes.<br': 4971, 'shark': 4972, 'smoke': 4973, 'souls': 4974, 'stress': 4975, 'superficial': 4976, 'swimming': 4977, 'unpleasant': 4978, 'what,': 4979, 'whatsoever': 4980, 'works,': 4981, '(just': 4982, \"50's\": 4983, 'accompanied': 4984, 'aid': 4985, 'assigned': 4986, 'christ': 4987, 'claimed': 4988, 'cleverly': 4989, 'cried': 4990, 'crucial': 4991, 'detailed': 4992, 'eccentric': 4993, 'ellen': 4994, 'example.': 4995, 'exception.': 4996, 'factory': 4997, 'fascinated': 4998, 'flat.': 4999, 'folk': 5000, 'form.': 5001, 'glover': 5002, 'hilariously': 5003, 'humble': 5004, 'hype': 5005, 'impress': 5006, 'innovative': 5007, 'jazz': 5008, 'lame,': 5009, 'liking': 5010, 'linda': 5011, 'loser': 5012, 'matches': 5013, 'melting': 5014, 'messed': 5015, 'miserable': 5016, 'mystery,': 5017, 'nevertheless': 5018, 'odds': 5019, 'performs': 5020, 'points,': 5021, 'potential.': 5022, 'poverty': 5023, 'recorded': 5024, 'regardless': 5025, 'review.': 5026, 'rocks': 5027, 'seeks': 5028, 'showcase': 5029, 'song.': 5030, 'sub': 5031, 'sucks.': 5032, 'surviving': 5033, 'tale.': 5034, 'top.': 5035, 'triumph': 5036, 'uninspired': 5037, 'visits': 5038, 'widely': 5039, 'yeah': 5040, 'you!': 5041, '7/10': 5042, 'access': 5043, 'animation.': 5044, 'annie': 5045, 'astaire': 5046, 'basement': 5047, 'climactic': 5048, 'coherent': 5049, 'dating': 5050, 'differences': 5051, 'directs': 5052, 'doubt,': 5053, 'dramas': 5054, 'edie': 5055, 'finish.': 5056, 'garden': 5057, 'grandmother': 5058, 'hero.': 5059, 'herself.': 5060, 'incident': 5061, 'installment': 5062, 'introduce': 5063, 'journalist': 5064, 'karen': 5065, 'meaningless': 5066, 'medium': 5067, 'mini': 5068, 'movie\"': 5069, 'neck': 5070, 'nurse': 5071, 'offended': 5072, 'photos': 5073, 'piano': 5074, 'purchased': 5075, 'ruthless': 5076, 'seen.<br': 5077, 'setting,': 5078, 'silence': 5079, 'sloppy': 5080, 'start,': 5081, 'stiff': 5082, 'stiller': 5083, 'success.': 5084, 'such,': 5085, 't.v.': 5086, 'tale,': 5087, 'theme,': 5088, 'tommy': 5089, 'underlying': 5090, 'unhappy': 5091, 'value.': 5092, 'virgin': 5093, 'wannabe': 5094, '\"so': 5095, '16': 5096, 'achievement': 5097, 'advanced': 5098, 'beings': 5099, 'block': 5100, 'bride': 5101, 'brothers,': 5102, 'cagney': 5103, 'cameron': 5104, 'captivating': 5105, 'chess': 5106, 'chooses': 5107, 'cinematography.': 5108, 'corpse': 5109, 'davies': 5110, 'dr': 5111, 'editor': 5112, 'equivalent': 5113, 'farm': 5114, 'flat,': 5115, 'franchise': 5116, 'future,': 5117, 'fx': 5118, 'gore.': 5119, 'granted': 5120, 'hand.': 5121, 'hood': 5122, 'horrid': 5123, 'hours,': 5124, 'intelligent,': 5125, 'killings': 5126, 'least.': 5127, 'loosely': 5128, 'lou': 5129, 'luckily': 5130, 'much.<br': 5131, 'new,': 5132, 'photographer': 5133, 'photography,': 5134, 'pops': 5135, 'project.': 5136, 'promised': 5137, 'repetitive': 5138, 'represented': 5139, 'scene.<br': 5140, 'scheme': 5141, 'since.': 5142, 'staged': 5143, 'stellar': 5144, 'surprise.': 5145, 'suspend': 5146, 'terrorist': 5147, 'theater,': 5148, 'trashy': 5149, 'vaguely': 5150, 'warned': 5151, '–': 5152, '/>how': 5153, 'agreed': 5154, 'blob': 5155, 'bold': 5156, 'borrowed': 5157, 'camera-work': 5158, 'charming,': 5159, 'clumsy': 5160, 'command': 5161, 'craft': 5162, 'die.': 5163, 'distinct': 5164, 'disturbed': 5165, 'do?': 5166, 'etc.,': 5167, 'explored': 5168, 'foul': 5169, 'generous': 5170, \"god's\": 5171, 'groups': 5172, 'hideous': 5173, 'jonathan': 5174, 'kirk': 5175, 'lengthy': 5176, 'mentions': 5177, 'motivation': 5178, 'notes': 5179, 'power.': 5180, 'rather,': 5181, 'restaurant': 5182, 'roman': 5183, 'rotten': 5184, 'satisfy': 5185, 'shake': 5186, 'shirley': 5187, 'sound,': 5188, 'specifically': 5189, 'subjects': 5190, 'terry': 5191, 'thrill': 5192, 'thugs': 5193, 'tunes': 5194, 'wandering': 5195, 'week.': 5196, 'wet': 5197, 'would-be': 5198, \"year's\": 5199, \"1950's\": 5200, 'abusive': 5201, 'antics': 5202, 'atmosphere.': 5203, 'been.': 5204, 'body.': 5205, 'cheesy,': 5206, 'combat': 5207, 'commented': 5208, 'damage': 5209, 'depicting': 5210, 'diana': 5211, 'disliked': 5212, 'domestic': 5213, 'doors': 5214, 'elm': 5215, 'elvira': 5216, 'exploration': 5217, 'film).': 5218, 'grabs': 5219, 'grasp': 5220, 'happens,': 5221, 'hatred': 5222, 'him?': 5223, 'illegal': 5224, 'improve': 5225, 'intentionally': 5226, \"isn't.\": 5227, 'joey': 5228, 'laughably': 5229, 'more.<br': 5230, 'nostalgic': 5231, 'not.<br': 5232, 'people.<br': 5233, 'possessed': 5234, 'premise,': 5235, 'resemble': 5236, 'revolutionary': 5237, 'reynolds': 5238, 'same,': 5239, 'scores': 5240, 'scripted': 5241, 'secretary': 5242, 'shadows': 5243, 'signed': 5244, 'similarities': 5245, 'slave': 5246, 'sneak': 5247, 'soccer': 5248, 'spoke': 5249, 'styles': 5250, 'subjected': 5251, 'tender': 5252, 'ties': 5253, 'trained': 5254, 'twilight': 5255, 'understand.': 5256, 'was.<br': 5257, \"we'd\": 5258, 'wealth': 5259, 'whale': 5260, 'wholly': 5261, 'written.': 5262, '\"star': 5263, '/>unfortunately,': 5264, '3/10': 5265, '60s': 5266, 'amanda': 5267, 'appalling': 5268, 'appreciation': 5269, 'april': 5270, 'arguably': 5271, 'backdrop': 5272, 'belong': 5273, 'britain': 5274, 'can,': 5275, 'concern': 5276, 'copies': 5277, 'crack': 5278, 'creepy,': 5279, 'critic': 5280, 'cute,': 5281, 'earlier,': 5282, 'either.<br': 5283, 'excessive': 5284, 'fix': 5285, 'flawless': 5286, 'implausible': 5287, 'iron': 5288, 'kapoor': 5289, 'kitchen': 5290, 'legal': 5291, 'manner.': 5292, 'perhaps,': 5293, 'principal': 5294, 'purchase': 5295, 'receives': 5296, 'relations': 5297, 'resort': 5298, 'ritter': 5299, 'royal': 5300, 'scooby': 5301, 'season,': 5302, 'secrets': 5303, 'shame,': 5304, 'situation,': 5305, 'stretched': 5306, 'symbolism': 5307, 'team.': 5308, 'transition': 5309, 'user': 5310, '\"don\\'t': 5311, '/>perhaps': 5312, '4/10': 5313, 'background.': 5314, 'brains': 5315, 'bullet': 5316, 'colonel': 5317, 'condition': 5318, 'consequences': 5319, 'curiosity': 5320, 'dalton': 5321, 'dances': 5322, 'directed,': 5323, 'eager': 5324, 'francisco': 5325, 'frequent': 5326, 'harvey': 5327, 'hour,': 5328, 'imagination.': 5329, 'immensely': 5330, 'kind.': 5331, 'leonard': 5332, 'lone': 5333, 'message.': 5334, 'miike': 5335, 'mildred': 5336, 'moody': 5337, 'movements': 5338, 'nights': 5339, 'notch': 5340, 'obviously,': 5341, 'officers': 5342, 'overrated': 5343, 'parallel': 5344, 'perfectly.': 5345, 'popcorn': 5346, 'population': 5347, 'props': 5348, 'pulp': 5349, 'removed': 5350, 'rendition': 5351, 'resulting': 5352, 'rocket': 5353, 'series.<br': 5354, 'smoking': 5355, 'stumbled': 5356, 'succeeded': 5357, 'supported': 5358, 'tag': 5359, 'therefore,': 5360, 'transfer': 5361, 'transformation': 5362, 'turner': 5363, 'twelve': 5364, 'viewer,': 5365, 'well-known': 5366, 'wells': 5367, 'woods,': 5368, 'wrestling': 5369, '(what': 5370, '***': 5371, '/>\"the': 5372, '1970s': 5373, '4.': 5374, '=': 5375, 'along,': 5376, \"america's\": 5377, 'assumed': 5378, 'attend': 5379, 'capital': 5380, 'cats': 5381, 'citizen': 5382, 'cusack': 5383, 'dignity': 5384, 'dreams.': 5385, 'endure': 5386, 'etc.<br': 5387, 'ethan': 5388, 'eve': 5389, 'general,': 5390, 'gerard': 5391, 'get.': 5392, 'gifted': 5393, 'goes,': 5394, 'gundam': 5395, 'hank': 5396, 'hysterical': 5397, 'inability': 5398, 'joins': 5399, 'june': 5400, 'landscape': 5401, 'machines': 5402, 'maker': 5403, 'message,': 5404, 'middle-aged': 5405, 'myself.': 5406, 'one!': 5407, 'porno': 5408, 'problem,': 5409, 'progress': 5410, 'realistic,': 5411, 'row': 5412, 'selfish': 5413, 'trailers': 5414, 'viewers,': 5415, 'villain.': 5416, \"wife's\": 5417, '/>well': 5418, 'advance': 5419, 'arrogant': 5420, 'at,': 5421, 'authority': 5422, 'be.<br': 5423, 'blowing': 5424, 'books,': 5425, 'brady': 5426, 'cameras': 5427, 'close.': 5428, 'coffee': 5429, 'creation': 5430, 'definition': 5431, 'dinosaur': 5432, 'dose': 5433, 'editing.': 5434, 'faster': 5435, 'h.': 5436, 'hair,': 5437, 'hears': 5438, \"husband's\": 5439, 'ignorant': 5440, 'immediate': 5441, 'incompetent': 5442, 'indians': 5443, 'inferior': 5444, 'intimate': 5445, 'lead,': 5446, 'line:': 5447, 'little,': 5448, 'madness': 5449, 'manhattan': 5450, 'newly': 5451, 'occurred': 5452, 'opportunities': 5453, \"other's\": 5454, 'outcome': 5455, 'overlook': 5456, 'planned': 5457, 'plot.<br': 5458, 'possible,': 5459, 'pursuit': 5460, 'raises': 5461, 'randomly': 5462, 'rely': 5463, 'remember,': 5464, 'replace': 5465, 'resident': 5466, 'scope': 5467, 'seldom': 5468, 'shelf': 5469, 'silly.': 5470, 'spirits': 5471, 'st.': 5472, 'standards,': 5473, 'strange,': 5474, 'sums': 5475, 'survived': 5476, 'unaware': 5477, 'wakes': 5478, 'wallace': 5479, 'were.': 5480, 'witnesses': 5481, 'writes': 5482, '(michael': 5483, 'alfred': 5484, 'ape': 5485, 'aspiring': 5486, 'awesome.': 5487, 'bucks': 5488, 'carter': 5489, 'choreography': 5490, 'circle': 5491, 'comics': 5492, 'confidence': 5493, 'credits,': 5494, 'dinosaurs': 5495, 'eastern': 5496, 'eastwood': 5497, 'encourage': 5498, 'english,': 5499, 'errors': 5500, 'fantastic,': 5501, 'girls.': 5502, 'goldberg': 5503, 'great!': 5504, 'in.<br': 5505, 'inane': 5506, 'inappropriate': 5507, 'invites': 5508, 'jerk': 5509, 'joke,': 5510, 'kicking': 5511, 'loaded': 5512, 'masters': 5513, 'mighty': 5514, 'mile': 5515, 'motives': 5516, 'performer': 5517, 'raising': 5518, 'released,': 5519, 'require': 5520, 'review,': 5521, 'rick': 5522, 'screenplay.': 5523, 'sequences.': 5524, 'shelley': 5525, 'smith,': 5526, 'tall': 5527, 'teaches': 5528, 'temple': 5529, 'thought.': 5530, 'voice-over': 5531, 'warrior': 5532, 'watchable.': 5533, 'wound': 5534, 'yelling': 5535, '\"good': 5536, '\"it': 5537, '/>its': 5538, '3d': 5539, 'alive.': 5540, 'alright': 5541, 'bathroom': 5542, 'bela': 5543, 'black,': 5544, 'catching': 5545, 'charlotte': 5546, 'conflicts': 5547, 'conservative': 5548, 'decisions': 5549, 'destruction': 5550, 'discovering': 5551, 'donna': 5552, 'etc.)': 5553, 'expect.': 5554, 'expressed': 5555, 'fair,': 5556, 'falk': 5557, 'feed': 5558, 'fighter': 5559, 'fisher': 5560, 'good!': 5561, 'husband.': 5562, 'imagined': 5563, \"kid's\": 5564, 'language,': 5565, 'latin': 5566, 'light,': 5567, 'literary': 5568, 'march': 5569, 'molly': 5570, 'must-see': 5571, 'nature,': 5572, 'nicholson': 5573, 'pamela': 5574, 'period,': 5575, 'presenting': 5576, 'preview': 5577, 'rage': 5578, 'recording': 5579, 'redemption': 5580, 'respective': 5581, 'romance.': 5582, 'scenery,': 5583, 'senseless': 5584, 'shots.': 5585, \"should've\": 5586, 'solo': 5587, 'somehow,': 5588, 'sometimes,': 5589, 'standards.': 5590, 'teaching': 5591, 'todd': 5592, 'tracking': 5593, 'tracks': 5594, 'unsettling': 5595, 'virginia': 5596, 'water,': 5597, 'whats': 5598, \"women's\": 5599, 'york.': 5600, '\"all': 5601, '(there': 5602, '**': 5603, '/>1.': 5604, 'adequate': 5605, 'adorable': 5606, 'akshay': 5607, 'artificial': 5608, 'change.': 5609, 'chaos': 5610, 'characterization': 5611, 'choreographed': 5612, 'cure': 5613, 'deceased': 5614, 'defined': 5615, 'demand': 5616, 'depression': 5617, 'dialogues': 5618, 'dolph': 5619, 'elegant': 5620, 'exchange': 5621, 'filling': 5622, 'finger': 5623, 'gather': 5624, 'germans': 5625, 'hbo': 5626, 'hopelessly': 5627, 'horrifying': 5628, 'illogical': 5629, 'justin': 5630, 'king,': 5631, 'lena': 5632, 'library': 5633, 'lust': 5634, 'massacre': 5635, 'mechanical': 5636, 'monkey': 5637, 'mundane': 5638, 'no-one': 5639, 'petty': 5640, 'precisely': 5641, 'promises': 5642, 'punk': 5643, 'purple': 5644, 'refer': 5645, 'referred': 5646, 'refused': 5647, 'rises': 5648, 'rising': 5649, 'rubber': 5650, 'sadness': 5651, 'sandra': 5652, 'september': 5653, 'shared': 5654, 'shoes': 5655, 'similarly': 5656, 'tame': 5657, 'team,': 5658, 'thoughtful': 5659, 'useful': 5660, 'walken': 5661, 'wreck': 5662, 'yourself,': 5663, '\"american': 5664, '---': 5665, '/>having': 5666, \"/>that's\": 5667, 'air.': 5668, 'attention,': 5669, 'boss,': 5670, 'brother.': 5671, 'canada': 5672, 'cartoon.': 5673, 'character.<br': 5674, 'cinematographer': 5675, 'clever,': 5676, 'cold,': 5677, 'conclusion.': 5678, 'culture.': 5679, 'dancers': 5680, 'decent,': 5681, 'depressed': 5682, 'duty': 5683, 'ends.': 5684, 'events.': 5685, 'expectations.': 5686, 'explosion': 5687, 'fashioned': 5688, 'follow.': 5689, 'fortunately,': 5690, 'freak': 5691, 'gabriel': 5692, 'genius.': 5693, 'giallo': 5694, \"guy's\": 5695, 'ha': 5696, 'hard.': 5697, 'helicopter': 5698, 'hollow': 5699, 'im': 5700, 'invited': 5701, 'knocked': 5702, 'laurence': 5703, 'minutes.<br': 5704, 'mistaken': 5705, 'motivations': 5706, 'murdering': 5707, 'neighbor': 5708, 'nicholas': 5709, 'paulie': 5710, 'practice': 5711, 'prepare': 5712, 'question,': 5713, 'questionable': 5714, 'quietly': 5715, 'receiving': 5716, 'reflection': 5717, 'regarded': 5718, 'remained': 5719, 's.': 5720, 'shares': 5721, 'simple.': 5722, 'songs.': 5723, 'sounding': 5724, 'sue': 5725, 'survival': 5726, 'system.': 5727, 'thrills': 5728, 'throat': 5729, 'top,': 5730, 'trademark': 5731, 'whoopi': 5732, 'will.': 5733, 'wizard': 5734, '19th': 5735, 'alcoholic': 5736, 'amy': 5737, 'automatically': 5738, 'avoided': 5739, 'body,': 5740, 'brooklyn': 5741, 'bumbling': 5742, 'clothing': 5743, 'clown': 5744, 'construction': 5745, 'conveys': 5746, 'dead\"': 5747, 'dysfunctional': 5748, 'effort,': 5749, 'fooled': 5750, 'fought': 5751, 'going.': 5752, 'guess.': 5753, 'half,': 5754, 'happening.': 5755, 'homosexual': 5756, 'hook': 5757, 'industrial': 5758, 'inventive': 5759, 'island,': 5760, 'it).': 5761, 'khan': 5762, 'li': 5763, 'list.': 5764, 'masterful': 5765, 'method': 5766, 'muslim': 5767, 'nazis': 5768, 'ordered': 5769, 'other.<br': 5770, 'pearl': 5771, 'popularity': 5772, 'positively': 5773, 'prisoners': 5774, 'promote': 5775, 'randy': 5776, 'rates': 5777, 'raymond': 5778, 'respected': 5779, 'severely': 5780, 'shine': 5781, 'snl': 5782, 'splatter': 5783, 'suspicious': 5784, 'threatens': 5785, 'try.': 5786, 'violent,': 5787, 'visiting': 5788, 'voice.': 5789, 'wacky': 5790, 'wait,': 5791, '\"we': 5792, '(robert': 5793, '(some': 5794, '1)': 5795, '2006': 5796, 'additional': 5797, 'audience.<br': 5798, 'australia': 5799, 'bakshi': 5800, 'bottle': 5801, 'calm': 5802, 'careful': 5803, 'carrie': 5804, 'challenging': 5805, 'christy': 5806, 'class,': 5807, 'classes': 5808, 'close-ups': 5809, 'comfort': 5810, 'companion': 5811, 'confrontation': 5812, 'consistent': 5813, 'convincingly': 5814, 'craig': 5815, 'cube': 5816, \"daughter's\": 5817, 'dimensional': 5818, 'disappeared': 5819, 'disease': 5820, 'ego': 5821, 'electric': 5822, 'embarrassment': 5823, 'endings': 5824, 'film-makers': 5825, 'fire,': 5826, 'frustration': 5827, 'girlfriend.': 5828, 'had,': 5829, 'inevitably': 5830, 'ireland': 5831, 'items': 5832, 'jenny': 5833, 'kennedy': 5834, 'mayor': 5835, 'mistake.': 5836, 'nail': 5837, 'narrator': 5838, 'nature.': 5839, 'o': 5840, 'one-dimensional': 5841, 'parent': 5842, 'party,': 5843, 'potential,': 5844, 'rambo': 5845, 'redeem': 5846, 'reflects': 5847, 'responsibility': 5848, 'revenge.': 5849, 'rex': 5850, 'ruins': 5851, 'sci': 5852, 'stooges': 5853, 'suitably': 5854, 'synopsis': 5855, 'television,': 5856, 'that!': 5857, 'timon': 5858, 'ups': 5859, 'waters': 5860, 'website': 5861, 'widow': 5862, 'wrap': 5863, '(very': 5864, '2000': 5865, '9/10': 5866, 'abused': 5867, \"actor's\": 5868, 'advertising': 5869, 'angela': 5870, 'areas': 5871, 'assault': 5872, 'beauty,': 5873, 'besides,': 5874, 'bone': 5875, 'catchy': 5876, 'convincing.': 5877, 'costs': 5878, 'cuba': 5879, 'danes': 5880, 'designs': 5881, 'desperation': 5882, 'doll': 5883, 'drove': 5884, 'elephant': 5885, 'enemies': 5886, 'expected,': 5887, 'expected.': 5888, 'fascination': 5889, 'forcing': 5890, 'forms': 5891, 'grinch': 5892, 'hamlet': 5893, 'hammer': 5894, 'handling': 5895, 'here)': 5896, 'holly': 5897, 'idiots': 5898, 'kay': 5899, 'lyrics': 5900, 'marketing': 5901, 'matched': 5902, 'merit': 5903, 'mess,': 5904, 'miss.': 5905, 'morally': 5906, 'nostalgia': 5907, 'on-screen': 5908, 'peoples': 5909, 'rave': 5910, 'restored': 5911, 'retired': 5912, 'reviews,': 5913, 'riveting': 5914, 'robots': 5915, 'ruby': 5916, 'score.': 5917, 'sellers': 5918, 'sid': 5919, 'sidekick': 5920, 'species': 5921, 'spock': 5922, 'stage,': 5923, 'surfing': 5924, 'sympathize': 5925, 'together.<br': 5926, 'verhoeven': 5927, 'visited': 5928, 'voice,': 5929, 'weak.': 5930, 'winters': 5931, 'wolf': 5932, 'year-old': 5933, 'yellow': 5934, 'zone': 5935, '\"why': 5936, '(all': 5937, '1930s': 5938, 'abysmal': 5939, 'ages.': 5940, 'attract': 5941, 'ballet': 5942, 'bird': 5943, 'burst': 5944, 'contrary': 5945, 'd': 5946, 'date.': 5947, 'deserted': 5948, 'directing.': 5949, 'disaster.': 5950, 'doubts': 5951, 'drivel': 5952, 'earl': 5953, 'examination': 5954, 'explores': 5955, 'flaws,': 5956, 'fonda': 5957, 'formulaic': 5958, 'forty': 5959, \"friend's\": 5960, 'glory': 5961, 'glowing': 5962, 'god.': 5963, 'herself,': 5964, 'historically': 5965, 'homer': 5966, 'insists': 5967, 'josh': 5968, 'junior': 5969, 'leg': 5970, 'letters': 5971, 'light.': 5972, 'loud,': 5973, 'marries': 5974, 'maybe,': 5975, 'me\"': 5976, 'off.<br': 5977, 'ollie': 5978, 'only.': 5979, 'phil': 5980, 'piece,': 5981, 'pierce': 5982, 'pink': 5983, 'pointless.': 5984, 'quit': 5985, 'resist': 5986, 'rolled': 5987, 'said.': 5988, 'sending': 5989, \"shakespeare's\": 5990, 'sincere': 5991, 'stereotype': 5992, 'store.': 5993, 'strongest': 5994, 'success,': 5995, 'suffice': 5996, 'testament': 5997, 'unbearable': 5998, 'visible': 5999, 'wildly': 6000, 'will,': 6001, 'wow!': 6002, \"(don't\": 6003, '(when': 6004, '*****': 6005, '/>2.': 6006, '/>is': 6007, '/>other': 6008, 'about.<br': 6009, 'acting.<br': 6010, 'admittedly': 6011, 'arrival': 6012, 'arrived': 6013, 'attitudes': 6014, 'betty': 6015, 'bonus': 6016, 'both.': 6017, 'butt': 6018, 'chapter': 6019, 'checked': 6020, 'christians': 6021, 'complexity': 6022, 'constructed': 6023, 'couples': 6024, 'credits.': 6025, 'crime.': 6026, 'darn': 6027, 'demented': 6028, 'demonstrates': 6029, 'deranged': 6030, 'dies.': 6031, 'disappear': 6032, 'downhill': 6033, 'earlier.': 6034, 'eats': 6035, 'enjoyable,': 6036, 'enterprise': 6037, 'eye.': 6038, 'f.': 6039, 'feature.': 6040, 'francis': 6041, 'general.': 6042, 'goodness': 6043, 'greg': 6044, 'hit-man': 6045, 'hour.': 6046, 'hunters': 6047, 'impressive.': 6048, 'indication': 6049, 'interactions': 6050, 'invented': 6051, 'julian': 6052, 'kyle': 6053, 'lemmon': 6054, 'marty': 6055, 'me!': 6056, 'meryl': 6057, 'metaphor': 6058, 'movie).': 6059, 'moving.': 6060, 'nightmares': 6061, 'obligatory': 6062, 'online': 6063, 'poetic': 6064, 'prisoner': 6065, 'purpose.': 6066, 'recognition': 6067, 'relationship.': 6068, 'remove': 6069, 'shoddy': 6070, 'store,': 6071, 't': 6072, 'tempted': 6073, 'territory': 6074, 'them!': 6075, 'understandable': 6076, 'understated': 6077, 'voight': 6078, 'willie': 6079, 'word.': 6080, 'words.': 6081, 'wrong.<br': 6082, '\"oh': 6083, '(after': 6084, '(aka': 6085, '(both': 6086, '(so': 6087, '.<br': 6088, '/>title': 6089, 'adopted': 6090, 'alec': 6091, 'awe': 6092, 'basketball': 6093, 'believable,': 6094, 'believe,': 6095, 'beside': 6096, 'blatantly': 6097, 'boredom': 6098, 'brenda': 6099, \"brother's\": 6100, 'business,': 6101, 'businessman': 6102, 'celebration': 6103, 'century,': 6104, 'charged': 6105, 'cheated': 6106, 'cliff': 6107, 'dawson': 6108, 'dracula': 6109, 'ease': 6110, 'educational': 6111, 'enthusiasm': 6112, 'entitled': 6113, 'fact.': 6114, 'fed': 6115, 'femme': 6116, 'fever': 6117, 'form,': 6118, 'fulci': 6119, 'godzilla': 6120, 'hangs': 6121, 'happened,': 6122, 'hart': 6123, 'iconic': 6124, 'indeed.': 6125, 'intrigue': 6126, 'joel': 6127, 'jr.,': 6128, 'karl': 6129, 'keen': 6130, 'lackluster': 6131, 'last,': 6132, 'lit': 6133, 'lover,': 6134, 'mann': 6135, 'manner,': 6136, 'match.': 6137, 'mentioning': 6138, 'mysteries': 6139, 'mystery.': 6140, 'niro': 6141, 'oldest': 6142, 'opinions': 6143, 'paris,': 6144, 'persons': 6145, 'piece.': 6146, 'plant': 6147, 'plight': 6148, 'pokemon': 6149, 'polanski': 6150, 'sappy': 6151, 'sink': 6152, 'slaughter': 6153, 'slice': 6154, 'slick': 6155, 'sorely': 6156, 'soul.': 6157, 'spirited': 6158, 'sport': 6159, 'street,': 6160, 'stumbles': 6161, 'subtlety': 6162, 'taste.': 6163, 'tea': 6164, 'them?': 6165, 'transformed': 6166, 'unfolds': 6167, 'values,': 6168, 'values.': 6169, 'vulnerable': 6170, 'with.<br': 6171, 'witnessed': 6172, 'worst,': 6173, 'years.<br': 6174, 'you?': 6175, 'youngest': 6176, '~': 6177, '\"bad': 6178, \"'em\": 6179, '(\"the': 6180, '+': 6181, '/>avoid': 6182, \"/>i'll\": 6183, '/>many': 6184, '/>oh,': 6185, '/>though': 6186, '/>very': 6187, 'abilities': 6188, 'accepts': 6189, 'acclaimed': 6190, 'activities': 6191, 'awake': 6192, 'beatty': 6193, 'befriends': 6194, 'blunt': 6195, \"boy's\": 6196, 'challenges': 6197, 'claiming': 6198, 'collection.': 6199, 'continually': 6200, 'corruption': 6201, 'coupled': 6202, 'damon': 6203, 'danish': 6204, 'day.<br': 6205, \"didn't.\": 6206, 'die-hard': 6207, 'dog.': 6208, 'eternal': 6209, 'eugene': 6210, 'existed': 6211, 'experimental': 6212, 'fashion.': 6213, 'fear,': 6214, 'firmly': 6215, 'franco': 6216, 'fun.<br': 6217, 'furthermore,': 6218, 'handles': 6219, 'hapless': 6220, 'he,': 6221, 'hk': 6222, 'household': 6223, 'importantly,': 6224, 'kind,': 6225, 'lands': 6226, 'lawrence': 6227, 'lifted': 6228, 'lost.': 6229, 'louise': 6230, 'madonna': 6231, 'menace': 6232, 'nicole': 6233, 'often,': 6234, 'olivier': 6235, 'pace.': 6236, 'passionate': 6237, 'pictures,': 6238, 'possibilities': 6239, 'predict': 6240, 'provoking': 6241, 'rating,': 6242, 'reluctant': 6243, 'remarks': 6244, 'repeating': 6245, 'rooms': 6246, 'run,': 6247, 'shed': 6248, 'simpson': 6249, 'soon.': 6250, 'steady': 6251, 'subplots': 6252, 'tap': 6253, 'tongue': 6254, 'tooth': 6255, 'translation': 6256, 'uniformly': 6257, 'value,': 6258, \"viewer's\": 6259, 'wisdom': 6260, 'witty,': 6261, 'wives': 6262, 'worn': 6263, 'wretched': 6264, '(david': 6265, '(my': 6266, '(out': 6267, '/>3.': 6268, '/>two': 6269, '0': 6270, '1980s': 6271, '5.': 6272, 'above,': 6273, 'adaptations': 6274, 'admirable': 6275, 'again!': 6276, 'aids': 6277, 'although,': 6278, 'amitabh': 6279, 'amusing.': 6280, 'astonishing': 6281, 'austin': 6282, 'backgrounds': 6283, 'beauty.': 6284, 'billed': 6285, 'boasts': 6286, 'by.': 6287, 'charm.': 6288, 'commenting': 6289, 'control.': 6290, 'crazed': 6291, 'credited': 6292, 'depends': 6293, 'destroys': 6294, 'difficulty': 6295, 'dimension': 6296, 'discussing': 6297, 'disjointed': 6298, 'distracting': 6299, 'dont': 6300, 'dreams,': 6301, 'drugs,': 6302, 'dub': 6303, 'edition': 6304, 'empire': 6305, 'fashion,': 6306, 'feel.': 6307, 'fi': 6308, 'florida': 6309, 'footage,': 6310, 'framed': 6311, 'generated': 6312, 'greedy': 6313, 'harold': 6314, 'historic': 6315, 'hurts': 6316, 'ideas,': 6317, 'infected': 6318, 'keith': 6319, 'lifestyle': 6320, 'likable,': 6321, 'lively': 6322, 'meanwhile': 6323, 'models': 6324, 'mountains': 6325, 'muppet': 6326, 'namely': 6327, 'nod': 6328, 'nomination': 6329, 'nonetheless': 6330, 'northern': 6331, 'nowhere.': 6332, 'office,': 6333, 'okay.': 6334, 'overdone': 6335, 'phony': 6336, 'photo': 6337, 'polished': 6338, 'preferred': 6339, 'prize': 6340, 'recognizable': 6341, 'report': 6342, 'rooting': 6343, 'scarecrow': 6344, 'serving': 6345, 'showdown': 6346, 'smart,': 6347, 'snake': 6348, 'soon,': 6349, 'specially': 6350, 'studying': 6351, 'sung': 6352, 'suspension': 6353, 'taxi': 6354, 'thinking,': 6355, 'ton': 6356, 'troops': 6357, 'uncut': 6358, 'understands': 6359, 'vice': 6360, 'waitress': 6361, 'warmth': 6362, 'worker': 6363, '\"do': 6364, '\"real\"': 6365, '#1': 6366, '(brazil):': 6367, '(maybe': 6368, '(on': 6369, '(paul': 6370, '(richard': 6371, 'accent,': 6372, 'accident.': 6373, 'alison': 6374, 'already,': 6375, 'angeles': 6376, 'animals,': 6377, 'appropriately': 6378, 'beliefs': 6379, 'cannibal': 6380, 'casual': 6381, 'chainsaw': 6382, 'clip': 6383, 'coach': 6384, 'composer': 6385, 'containing': 6386, 'cope': 6387, 'dee': 6388, 'depending': 6389, 'describing': 6390, 'destined': 6391, 'died.': 6392, 'domino': 6393, 'dreary': 6394, 'earn': 6395, 'ears': 6396, 'fiction,': 6397, 'fifty': 6398, 'fire.': 6399, 'gandhi': 6400, 'hamilton': 6401, 'hands.': 6402, \"hitler's\": 6403, 'kissing': 6404, 'landing': 6405, 'made.<br': 6406, 'manipulative': 6407, 'marion': 6408, 'measure': 6409, 'methods': 6410, 'montana': 6411, 'morbid': 6412, 'museum': 6413, 'myers': 6414, 'nathan': 6415, 'nonsense.': 6416, 'paltrow': 6417, 'partially': 6418, 'primitive': 6419, 'prominent': 6420, 'psychic': 6421, 'quotes': 6422, 'rat': 6423, 'realised': 6424, 'refers': 6425, 'rita': 6426, 'rubbish.': 6427, 'safety': 6428, 'satan': 6429, 'sharon': 6430, 'shaw': 6431, 'simplicity': 6432, 'spark': 6433, 'square': 6434, 'stark': 6435, 'stevens': 6436, 'stuart': 6437, 'sunny': 6438, 'sunshine': 6439, 'time)': 6440, 'tragedy.': 6441, 'uneven': 6442, 'voted': 6443, 'watched.': 6444, 'wendy': 6445, 'wounded': 6446, '(where': 6447, '/>but,': 6448, '/>once': 6449, 'adolescent': 6450, 'aim': 6451, 'airport': 6452, 'alive,': 6453, 'antwone': 6454, 'apart.': 6455, 'attorney': 6456, 'bad!': 6457, 'bernard': 6458, 'careers': 6459, 'celebrity': 6460, 'centered': 6461, 'closed': 6462, 'closet': 6463, 'cringe': 6464, 'darren': 6465, 'deleted': 6466, 'deny': 6467, 'des': 6468, 'detract': 6469, 'directors,': 6470, 'doing.': 6471, 'dolls': 6472, 'down.<br': 6473, 'dressing': 6474, 'effect,': 6475, \"else's\": 6476, 'empathy': 6477, 'ethnic': 6478, 'exist.': 6479, 'expedition': 6480, 'f': 6481, 'farce': 6482, 'frustrating': 6483, 'gregory': 6484, 'grotesque': 6485, 'hard,': 6486, 'hides': 6487, 'hires': 6488, 'hugely': 6489, 'humour,': 6490, 'icon': 6491, 'it\"': 6492, 'justice.': 6493, 'kubrick': 6494, 'las': 6495, 'laws': 6496, 'leads,': 6497, 'leo': 6498, 'life\"': 6499, 'mall': 6500, 'musical,': 6501, 'mutual': 6502, 'newer': 6503, 'non-stop': 6504, 'nowhere,': 6505, 'outfit': 6506, 'philosophy': 6507, 'plague': 6508, 'preparing': 6509, 'realm': 6510, 'recycled': 6511, 'remade': 6512, 'representation': 6513, 'rest.': 6514, 'ripping': 6515, 'role.<br': 6516, 's': 6517, 'screwed': 6518, \"she'll\": 6519, 'steel': 6520, 'stopping': 6521, 'streep': 6522, 'subject,': 6523, 'suggested': 6524, 'superb,': 6525, 'surprisingly,': 6526, 'told,': 6527, 'translated': 6528, 'unpredictable': 6529, 'viewing,': 6530, \"wasn't.\": 6531, 'wwe': 6532, 'yesterday': 6533, 'zombies.': 6534, '\"just': 6535, '(well,': 6536, '2:': 6537, '70': 6538, 'active': 6539, 'akin': 6540, \"allen's\": 6541, 'alternative': 6542, 'ambiguous': 6543, \"anyone's\": 6544, 'apes': 6545, 'ashley': 6546, 'bargain': 6547, 'beverly': 6548, 'biography': 6549, 'blacks': 6550, 'blues': 6551, 'boy.': 6552, 'brutality': 6553, 'buffalo': 6554, 'cards': 6555, \"child's\": 6556, 'church,': 6557, 'communicate': 6558, 'complaints': 6559, 'confess': 6560, 'considerably': 6561, 'craven': 6562, 'crazy,': 6563, 'crime,': 6564, 'da': 6565, 'dance,': 6566, 'design,': 6567, 'difficulties': 6568, 'doctor,': 6569, 'eaten': 6570, 'emperor': 6571, 'exploring': 6572, 'favour': 6573, 'firing': 6574, 'frightened': 6575, 'function': 6576, 'gadget': 6577, 'gained': 6578, 'genres': 6579, 'griffith': 6580, 'hackneyed': 6581, 'half.': 6582, 'heading': 6583, 'heartfelt': 6584, 'insurance': 6585, 'investigating': 6586, 'morris': 6587, 'mtv': 6588, 'objects': 6589, 'obtain': 6590, 'ocean': 6591, 'office.': 6592, 'owen': 6593, 'owes': 6594, 'posted': 6595, 'pot': 6596, 'pressure': 6597, 'preston': 6598, 'region': 6599, 'secondary': 6600, 'seed': 6601, 'selection': 6602, 'serious,': 6603, 'sexy,': 6604, 'shame.': 6605, 'shirt': 6606, 'simultaneously': 6607, 'solution': 6608, 'stage.': 6609, 'straightforward': 6610, 'stunningly': 6611, 'surprised.': 6612, 'survivors': 6613, 'token': 6614, 'toys': 6615, 'trend': 6616, 'unexpectedly': 6617, 'unseen': 6618, 'vital': 6619, 'wanders': 6620, '\"film\"': 6621, '(his': 6622, '21st': 6623, '4th': 6624, 'a.': 6625, 'abraham': 6626, 'adams': 6627, 'adults.': 6628, 'agents': 6629, 'area.': 6630, 'barrymore': 6631, 'been,': 6632, 'bell': 6633, 'berlin': 6634, 'biblical': 6635, 'blade': 6636, 'bulk': 6637, 'celluloid': 6638, 'charlton': 6639, 'chest': 6640, 'choosing': 6641, 'comedies,': 6642, 'comparisons': 6643, 'confronted': 6644, 'creep': 6645, 'demonic': 6646, 'departure': 6647, 'dies,': 6648, 'disappointed.<br': 6649, 'disgusted': 6650, 'divorce': 6651, 'dresses': 6652, 'drive-in': 6653, 'dumb.': 6654, 'education': 6655, 'event,': 6656, 'eventually,': 6657, 'experiments': 6658, 'feeding': 6659, 'firm': 6660, 'folks,': 6661, 'fortunately': 6662, 'gangsters': 6663, 'garbo': 6664, 'godfather': 6665, 'guess,': 6666, 'hands,': 6667, 'has.': 6668, 'height': 6669, 'houses': 6670, 'industry.': 6671, 'internal': 6672, \"jackson's\": 6673, 'kung-fu': 6674, 'l.': 6675, 'lady,': 6676, 'lasting': 6677, 'layers': 6678, 'lend': 6679, 'levels.': 6680, 'light-hearted': 6681, 'limits': 6682, 'losers': 6683, 'lush': 6684, 'making.': 6685, 'means,': 6686, 'minded': 6687, 'misguided': 6688, 'mummy': 6689, 'next,': 6690, 'ninja': 6691, 'organized': 6692, 'pan': 6693, 'parents.': 6694, 'peak': 6695, 'pig': 6696, 'plausible': 6697, 'point.<br': 6698, 'prison,': 6699, 'proving': 6700, 'refuse': 6701, 'ride.': 6702, 'smiling': 6703, 'spinal': 6704, 'stilted': 6705, 'stunned': 6706, 'suburban': 6707, 'swept': 6708, 'thus,': 6709, 'triple': 6710, 'ultimately,': 6711, 'unrelated': 6712, 'ustinov': 6713, 'vastly': 6714, 'vocal': 6715, 'witches': 6716, '(how': 6717, '(most': 6718, \"(that's\": 6719, '/>john': 6720, '/>still,': 6721, 'after,': 6722, 'applaud': 6723, 'assuming': 6724, 'bath': 6725, 'bedroom': 6726, 'birds': 6727, 'boyfriend,': 6728, 'buildings': 6729, 'category.': 6730, 'claus': 6731, 'club,': 6732, 'commander': 6733, 'compassion': 6734, 'complaining': 6735, 'conceived': 6736, 'confront': 6737, 'convinces': 6738, 'creator': 6739, 'damme': 6740, 'dana': 6741, 'decidedly': 6742, 'defense': 6743, 'definitive': 6744, 'delicate': 6745, 'designer': 6746, 'dialog.': 6747, 'dropping': 6748, 'employed': 6749, 'entertained.': 6750, 'eventual': 6751, 'eye,': 6752, 'family.<br': 6753, 'fast,': 6754, 'flair': 6755, 'flicks,': 6756, 'further,': 6757, 'g.': 6758, 'graham': 6759, 'grandfather': 6760, 'hippie': 6761, 'incapable': 6762, 'inexplicably': 6763, 'ingenious': 6764, 'inherent': 6765, 'kingdom': 6766, 'language.': 6767, 'late,': 6768, 'lee,': 6769, 'likewise': 6770, 'lois': 6771, 'lumet': 6772, 'marlon': 6773, 'martha': 6774, 'missed.': 6775, 'mixing': 6776, 'muddled': 6777, 'nice.': 6778, 'nicolas': 6779, 'nyc': 6780, 'occasion': 6781, 'often.': 6782, 'parade': 6783, 'park,': 6784, 'patience': 6785, 'pete': 6786, 'pg-13': 6787, 'place.<br': 6788, 'places,': 6789, 'posters': 6790, 'prequel': 6791, 'promptly': 6792, 'puerto': 6793, 'puppet': 6794, 'quickly.': 6795, 'referring': 6796, 'relationships,': 6797, 'relatives': 6798, 'reviews.': 6799, 'rocky': 6800, 'saga': 6801, 'satirical': 6802, 'seventies': 6803, 'shaky': 6804, 'sharing': 6805, \"she'd\": 6806, 'sincerely': 6807, \"son's\": 6808, 'space,': 6809, 'stages': 6810, 'sticking': 6811, 'swing': 6812, 'tank': 6813, 'tension.': 6814, 'terrified': 6815, 'trail': 6816, 'troubles': 6817, 'twists,': 6818, 'undeniably': 6819, 'unsuspecting': 6820, 'widescreen': 6821, '\"no': 6822, '(perhaps': 6823, '/>she': 6824, '2\"': 6825, '`the': 6826, 'acid': 6827, 'address': 6828, 'affects': 6829, 'african-american': 6830, 'alicia': 6831, 'andre': 6832, 'audiences.': 6833, 'belushi': 6834, 'blast': 6835, 'buster': 6836, 'buys': 6837, 'caliber': 6838, 'camp,': 6839, 'casts': 6840, 'channels': 6841, 'cheer': 6842, 'clarke': 6843, 'combines': 6844, 'companies': 6845, 'concentrate': 6846, 'contribute': 6847, 'cop,': 6848, 'creativity': 6849, 'crocodile': 6850, 'crystal': 6851, 'demonstrate': 6852, 'deniro': 6853, 'deserving': 6854, 'dickens': 6855, 'dixon': 6856, 'elements,': 6857, 'elements.': 6858, 'emerges': 6859, 'ensure': 6860, 'entered': 6861, 'entering': 6862, 'existence.': 6863, 'exposure': 6864, 'fantasy,': 6865, 'fishing': 6866, 'forgotten.': 6867, \"freddy's\": 6868, 'glued': 6869, 'hindi': 6870, 'human,': 6871, 'imagination,': 6872, 'imdb,': 6873, 'improvement': 6874, 'issues,': 6875, 'it`s': 6876, 'lundgren': 6877, 'mate': 6878, 'meg': 6879, 'minimum': 6880, 'moronic': 6881, 'nonsensical': 6882, 'obvious,': 6883, 'palma': 6884, 'paramount': 6885, 'physics': 6886, 'planet.': 6887, 'poison': 6888, 'police,': 6889, 'premiere': 6890, 'pro': 6891, 'prostitute': 6892, 'rejected': 6893, 'robinson': 6894, 'rock,': 6895, 'rude': 6896, 'ships': 6897, 'shopping': 6898, 'shoulders': 6899, 'simmons': 6900, 'sketch': 6901, 'sleeps': 6902, 'suicide.': 6903, 'tension,': 6904, 'threatened': 6905, 'thrilled': 6906, 'tone,': 6907, 'tossed': 6908, 'tragedy,': 6909, 'underneath': 6910, 'venture': 6911, 'victory': 6912, 'visuals,': 6913, 'walker': 6914, 'walsh': 6915, 'wander': 6916, 'waves': 6917, 'weird,': 6918, 'wow': 6919, '\"b\"': 6920, '/>4/10': 6921, '1,': 6922, 'adventure,': 6923, 'altogether': 6924, 'alvin': 6925, 'amusing,': 6926, 'appeals': 6927, 'audrey': 6928, 'bands': 6929, 'bay': 6930, 'brooding': 6931, 'buffs': 6932, 'by,': 6933, 'cd': 6934, 'centre': 6935, 'coast': 6936, 'company.': 6937, 'compete': 6938, 'connery': 6939, 'cue': 6940, 'culture,': 6941, 'deaf': 6942, 'depict': 6943, 'despicable': 6944, 'detail,': 6945, \"devil's\": 6946, 'disastrous': 6947, 'disturbing.': 6948, 'dog,': 6949, 'done.<br': 6950, 'door,': 6951, 'downey': 6952, 'dubious': 6953, 'eighties': 6954, 'esther': 6955, 'excruciatingly': 6956, 'expertly': 6957, 'exploit': 6958, 'exposition': 6959, 'fade': 6960, 'fathers': 6961, 'feeling.': 6962, \"ford's\": 6963, 'funeral': 6964, 'furious': 6965, 'glamorous': 6966, 'iii': 6967, 'importantly': 6968, 'lasts': 6969, 'laughable,': 6970, 'lift': 6971, 'locations,': 6972, 'london,': 6973, 'macho': 6974, 'marriage.': 6975, 'melissa': 6976, 'milk': 6977, 'minute.': 6978, 'misfortune': 6979, 'missing.': 6980, 'owns': 6981, 'pain,': 6982, 'patients': 6983, 'perfection': 6984, 'phantom': 6985, 'project,': 6986, 'property': 6987, 'releases': 6988, 'respect.': 6989, 'romero': 6990, 'satisfied': 6991, 'saying,': 6992, 'sentiment': 6993, 'serious.': 6994, 'sissy': 6995, 'stale': 6996, 'subtly': 6997, 'taste,': 6998, 'too!': 6999, 'twist.': 7000, 'valley': 7001, 'visions': 7002, 'vulgar': 7003, 'weakness': 7004, 'wow.': 7005, '\"big': 7006, \"/>i'd\": 7007, '/>ok,': 7008, '/>these': 7009, '35': 7010, 'accomplish': 7011, 'addicted': 7012, 'adventure.': 7013, 'affection': 7014, 'airplane': 7015, 'alleged': 7016, 'amused': 7017, 'amusement': 7018, 'as,': 7019, 'away.<br': 7020, 'balls': 7021, 'being.': 7022, 'bitten': 7023, 'boring.<br': 7024, 'bridget': 7025, 'cassidy': 7026, 'charm,': 7027, 'childhood,': 7028, 'chopped': 7029, 'collect': 7030, 'contribution': 7031, 'curly': 7032, 'demanding': 7033, 'desires': 7034, 'dudley': 7035, 'edit': 7036, 'emotion.': 7037, 'ending.<br': 7038, 'expect,': 7039, 'expectations,': 7040, 'expects': 7041, 'exploits': 7042, 'expose': 7043, 'females': 7044, 'feminist': 7045, 'fist': 7046, 'flashy': 7047, 'from,': 7048, 'gender': 7049, 'generations': 7050, 'harmless': 7051, 'hartley': 7052, 'hopper': 7053, 'imitation': 7054, 'ingrid': 7055, 'inspire': 7056, 'invasion': 7057, 'iraq': 7058, 'irrelevant': 7059, 'itself.<br': 7060, 'kathryn': 7061, 'labor': 7062, 'landed': 7063, 'lex': 7064, 'literature': 7065, 'mclaglen': 7066, 'mill': 7067, 'minus': 7068, 'mistress': 7069, 'moreover,': 7070, 'nerd': 7071, 'none.': 7072, 'numbers,': 7073, 'older,': 7074, 'opera.': 7075, 'outright': 7076, 'owned': 7077, 'phillip': 7078, 'praised': 7079, 'pray': 7080, 'premise.': 7081, 'process.': 7082, 'rainy': 7083, 'rapidly': 7084, 'reasons,': 7085, 'rendered': 7086, 'residents': 7087, 'richards': 7088, 'rod': 7089, 'roommate': 7090, 'scariest': 7091, 'seedy': 7092, 'sentence': 7093, 'significance': 7094, 'slimy': 7095, 'sox': 7096, 'space.': 7097, 'springer': 7098, 'switched': 7099, 'symbolic': 7100, 'tacky': 7101, 'theme.': 7102, 'thread': 7103, 'tribe': 7104, 'tyler': 7105, 'wang': 7106, 'wax': 7107, 'ya': 7108, 'youthful': 7109, '\\x97': 7110, '(james': 7111, '1960s': 7112, '2005': 7113, '7.': 7114, 'absent': 7115, 'acted.': 7116, 'afterwards': 7117, 'all!': 7118, 'austen': 7119, 'baby,': 7120, 'bang': 7121, 'believe.': 7122, 'bent': 7123, 'books.': 7124, 'bunny': 7125, 'butler': 7126, 'campbell': 7127, 'carradine': 7128, 'cattle': 7129, 'cerebral': 7130, 'challenged': 7131, 'championship': 7132, 'change,': 7133, 'channel.': 7134, 'chicks': 7135, 'climax.': 7136, 'conrad': 7137, 'continuing': 7138, 'contributed': 7139, 'controlled': 7140, 'countryside': 7141, 'crashes': 7142, 'cream': 7143, 'daddy': 7144, 'date,': 7145, 'der': 7146, 'devices': 7147, 'disguised': 7148, 'else.<br': 7149, 'establish': 7150, 'exciting,': 7151, 'failure.': 7152, 'feel,': 7153, 'feel-good': 7154, 'fills': 7155, 'flashes': 7156, 'flicks.': 7157, 'flop': 7158, 'formed': 7159, 'frankie': 7160, 'gambling': 7161, 'greed': 7162, 'help,': 7163, 'ignorance': 7164, 'imdb.': 7165, 'iran': 7166, 'jaw': 7167, 'landscapes': 7168, 'lips': 7169, 'live,': 7170, 'located': 7171, 'longest': 7172, 'macarthur': 7173, 'map': 7174, 'memorable,': 7175, 'miracle': 7176, 'most,': 7177, 'murray': 7178, 'neatly': 7179, 'neighbors': 7180, 'nephew': 7181, 'now.<br': 7182, 'objective': 7183, 'paced,': 7184, 'pal': 7185, 'panic': 7186, 'policeman': 7187, 'provocative': 7188, 'pursue': 7189, 'quantum': 7190, 'rangers': 7191, 'read,': 7192, 'recently,': 7193, 'resources': 7194, 'rides': 7195, 'rifle': 7196, 'ronald': 7197, 'seeming': 7198, 'selected': 7199, 'sequence.': 7200, 'shouting': 7201, 'soylent': 7202, 'stalking': 7203, 'such.': 7204, 'supply': 7205, 'thing.<br': 7206, 'tip': 7207, 'tormented': 7208, 'trees': 7209, 'trials': 7210, 'ugly,': 7211, 'unit': 7212, 'vegas': 7213, 'water.': 7214, 'zombies,': 7215, '/>rating:': 7216, '/>since': 7217, 'abrupt': 7218, 'aided': 7219, 'aiming': 7220, 'air,': 7221, 'already.': 7222, 'arab': 7223, 'assassin': 7224, 'average,': 7225, 'avoiding': 7226, 'begging': 7227, 'being,': 7228, 'bergman': 7229, 'blood\"': 7230, 'break.': 7231, 'buff': 7232, 'casting,': 7233, 'cities': 7234, 'citizens': 7235, 'collective': 7236, 'comedy.<br': 7237, 'commercials': 7238, 'commits': 7239, 'concept,': 7240, 'conclude': 7241, 'contest': 7242, 'conveyed': 7243, 'couple,': 7244, 'cracking': 7245, 'credit,': 7246, 'crossing': 7247, 'defies': 7248, 'directions': 7249, 'disappoint': 7250, 'disappointed,': 7251, 'distract': 7252, 'drake': 7253, 'dream.': 7254, 'dust': 7255, 'emerge': 7256, 'estranged': 7257, 'etc,': 7258, 'exquisite': 7259, 'floor.': 7260, 'glaring': 7261, 'guitar': 7262, 'happy.': 7263, 'heist': 7264, 'helpless': 7265, 'here:': 7266, 'high,': 7267, 'humanity.': 7268, 'injured': 7269, 'island.': 7270, 'jones,': 7271, 'kane': 7272, 'knocks': 7273, 'ladder': 7274, 'locals': 7275, 'macy': 7276, 'masterfully': 7277, 'me)': 7278, 'mini-series': 7279, 'minority': 7280, 'miserably.': 7281, 'mitchell': 7282, 'monk': 7283, 'non-existent': 7284, 'on!': 7285, 'out!': 7286, 'packs': 7287, 'pages': 7288, 'palace': 7289, 'performance.<br': 7290, 'phrase': 7291, 'popping': 7292, 'populated': 7293, 'prey': 7294, 'randolph': 7295, 'records': 7296, 'relationship,': 7297, 'reliable': 7298, 'remakes': 7299, 'reminder': 7300, 'respectable': 7301, 'reward': 7302, 'robbery': 7303, 'robbins': 7304, 'sassy': 7305, 'setting.': 7306, 'so.<br': 7307, 'something.<br': 7308, 'sooner': 7309, 'sought': 7310, 'stack': 7311, \"story's\": 7312, 'stranded': 7313, 'swim': 7314, 'taped': 7315, 'tax': 7316, 'tendency': 7317, \"tony's\": 7318, 'toronto': 7319, 'ultra': 7320, 'unfair': 7321, 'up!': 7322, 'vein': 7323, 'walt': 7324, 'when,': 7325, 'willis': 7326, 'yes.': 7327, \"'cause\": 7328, '(because': 7329, '(probably': 7330, '/>his': 7331, '/>please': 7332, '13th': 7333, '2001': 7334, '50s': 7335, 'absurdity': 7336, 'accuracy': 7337, 'achieves': 7338, 'altman': 7339, 'approaches': 7340, 'approaching': 7341, \"audience's\": 7342, 'backs': 7343, 'baldwin': 7344, 'banal': 7345, 'bed,': 7346, 'behaviour': 7347, 'breed': 7348, 'bruno': 7349, 'carell': 7350, 'cars,': 7351, 'choppy': 7352, 'circus': 7353, 'civilization': 7354, 'clichés,': 7355, 'co-stars': 7356, 'comedies.': 7357, 'comments.': 7358, 'consist': 7359, 'copied': 7360, 'covering': 7361, 'deciding': 7362, 'demonstrated': 7363, 'deserves.': 7364, 'devastating': 7365, 'disturbing,': 7366, 'eleven': 7367, 'embrace': 7368, 'enhance': 7369, 'errol': 7370, 'establishing': 7371, 'executed.': 7372, 'fifth': 7373, 'filmed.': 7374, 'fragile': 7375, 'funny!': 7376, 'gina': 7377, 'going,': 7378, 'grateful': 7379, 'guaranteed': 7380, 'h': 7381, 'hair.': 7382, 'has,': 7383, 'healthy': 7384, 'hearted': 7385, 'hokey': 7386, 'insults': 7387, 'intelligence.': 7388, 'karate': 7389, \"kelly's\": 7390, 'l.a.': 7391, 'left.': 7392, 'lends': 7393, 'less,': 7394, 'lindsay': 7395, 'live.': 7396, 'lock': 7397, 'maid': 7398, 'mccoy': 7399, 'mutant': 7400, 'n': 7401, 'new.': 7402, 'offer.': 7403, 'parties': 7404, 'patricia': 7405, 'peters': 7406, 'planet,': 7407, 'proceedings': 7408, 'promoted': 7409, 'pushes': 7410, 'rabbit': 7411, 'radical': 7412, 'raj': 7413, 'relentless': 7414, 'reports': 7415, 'resulted': 7416, 'results.': 7417, 'rooney': 7418, 'sabrina': 7419, 'screw': 7420, 'secondly,': 7421, 'shaking': 7422, 'simply,': 7423, 'sirk': 7424, 'skilled': 7425, 'startling': 7426, 'states.': 7427, 'stewart,': 7428, 'strangers': 7429, 'street.': 7430, 'studies': 7431, 'teachers': 7432, 'to.<br': 7433, 'tomatoes': 7434, 'turn,': 7435, 'twins': 7436, 'type,': 7437, 'uma': 7438, 'updated': 7439, 'uplifting': 7440, 'vance': 7441, 'vengeance': 7442, 'victorian': 7443, 'warming': 7444, 'wider': 7445, '\"who': 7446, '(particularly': 7447, '/>bottom': 7448, '/>good': 7449, 'acquired': 7450, \"actors'\": 7451, 'advertised': 7452, 'attacking': 7453, 'audiences,': 7454, 'avoid.': 7455, 'bacall': 7456, 'begs': 7457, 'bizarre,': 7458, 'boom': 7459, 'bored.': 7460, 'brendan': 7461, 'button': 7462, 'carla': 7463, 'cecil': 7464, 'celebrated': 7465, 'claustrophobic': 7466, 'clear.': 7467, 'climax,': 7468, 'climb': 7469, 'colin': 7470, 'comedians': 7471, 'complex,': 7472, 'confusing.': 7473, 'connections': 7474, 'convicted': 7475, 'conviction': 7476, 'corny,': 7477, 'crazy.': 7478, 'define': 7479, 'descent': 7480, 'destiny': 7481, 'details.': 7482, 'doctors': 7483, \"dvd's\": 7484, 'dylan': 7485, 'engrossing': 7486, 'enhanced': 7487, 'fast.': 7488, 'fiancé': 7489, 'fingers': 7490, 'flimsy': 7491, 'fuller': 7492, 'good\"': 7493, 'helpful': 7494, \"hero's\": 7495, 'high.': 7496, 'honesty': 7497, 'however.': 7498, 'impressive,': 7499, 'incomprehensible': 7500, 'insipid': 7501, 'interact': 7502, 'interests': 7503, 'intricate': 7504, 'invite': 7505, 'japan,': 7506, 'jess': 7507, 'jews': 7508, 'jules': 7509, 'lavish': 7510, 'lead.': 7511, 'leap': 7512, 'legacy': 7513, \"life's\": 7514, 'limit': 7515, 'lost,': 7516, 'maniac': 7517, 'marshall': 7518, 'marvel': 7519, 'misery': 7520, 'mobile': 7521, 'modest': 7522, 'musicians': 7523, 'naughty': 7524, 'noises': 7525, 'note:': 7526, 'omen': 7527, 'pants': 7528, 'parallels': 7529, 'peculiar': 7530, 'previews': 7531, 'rats': 7532, 'readily': 7533, 'relentlessly': 7534, 'remake,': 7535, 'remembers': 7536, 'repressed': 7537, 'romp': 7538, 'roth': 7539, \"scott's\": 7540, 'seasoned': 7541, 'setup': 7542, 'shallow,': 7543, 'shockingly': 7544, 'sixth': 7545, 'slapped': 7546, 'sleep.': 7547, 'slip': 7548, 'slowly,': 7549, 'soft-core': 7550, 'some,': 7551, 'someone,': 7552, 'sound.': 7553, 'stare': 7554, 'state,': 7555, 'subtle,': 7556, 'suddenly,': 7557, 'suspected': 7558, 'terrorists': 7559, 'unbelievable,': 7560, 'understand,': 7561, 'unlikeable': 7562, 'vibrant': 7563, 'wastes': 7564, 'weaker': 7565, 'well-made': 7566, 'white.': 7567, 'winchester': 7568, \"writer's\": 7569, 'writers,': 7570, 'yard': 7571, '\"get': 7572, '\"that': 7573, \"'i\": 7574, '/>***': 7575, '/>great': 7576, '/>oh': 7577, \"1930's\": 7578, '2004': 7579, '3)': 7580, '90%': 7581, 'abruptly': 7582, 'acceptance': 7583, 'accepting': 7584, 'accurately': 7585, 'agency': 7586, 'alright,': 7587, 'analysis': 7588, 'antonio': 7589, 'approached': 7590, 'arriving': 7591, 'assembled': 7592, 'attending': 7593, 'banter': 7594, 'bike': 7595, \"bug's\": 7596, 'bull': 7597, 'campaign': 7598, \"che's\": 7599, 'cinema.<br': 7600, 'clash': 7601, 'confusing,': 7602, 'conventions': 7603, 'corpses': 7604, 'crashing': 7605, 'crippled': 7606, 'dad,': 7607, 'damaged': 7608, 'dark.': 7609, 'dashing': 7610, 'debate': 7611, 'defeated': 7612, 'diverse': 7613, 'en': 7614, 'equipment': 7615, 'ever!': 7616, 'fantasies': 7617, 'festival,': 7618, 'fog': 7619, 'fun!': 7620, 'games,': 7621, 'gems': 7622, 'grabbed': 7623, 'guests': 7624, 'hack': 7625, 'happy,': 7626, 'heartbreaking': 7627, 'hit.': 7628, 'hope,': 7629, 'huh?': 7630, 'immense': 7631, 'immortal': 7632, 'important,': 7633, 'inconsistent': 7634, 'indicate': 7635, 'insightful': 7636, 'instinct': 7637, 'integrity': 7638, 'ironically': 7639, \"jane's\": 7640, \"keaton's\": 7641, 'kitty': 7642, 'know.<br': 7643, 'leads.': 7644, 'loretta': 7645, 'love.<br': 7646, 'low-key': 7647, 'magic,': 7648, 'males': 7649, 'marc': 7650, 'mark.': 7651, 'masks': 7652, 'medieval': 7653, 'monkeys': 7654, 'musician': 7655, 'mysteriously': 7656, 'nails': 7657, 'ominous': 7658, 'operation': 7659, 'outstanding.': 7660, 'overacting': 7661, 'overlong': 7662, 'palance': 7663, 'pale': 7664, 'paranoia': 7665, 'parking': 7666, 'party.': 7667, 'passengers': 7668, 'peaceful': 7669, 'perfection.': 7670, 'personality.': 7671, 'pitiful': 7672, 'pounds': 7673, 'producer,': 7674, 'published': 7675, 'punches': 7676, 'quentin': 7677, 'raines': 7678, 'reviewing': 7679, 'scifi': 7680, 'scrooge': 7681, 'sells': 7682, 'settled': 7683, 'sick.': 7684, 'sinking': 7685, 'sister.': 7686, 'skits': 7687, 'small,': 7688, 'squad': 7689, 'stating': 7690, 'suggestion': 7691, 'survivor': 7692, 'tail': 7693, 'tara': 7694, 'toby': 7695, 'topics': 7696, 'underwater': 7697, 'unreal': 7698, 'watson': 7699, 'weird.': 7700, 'well-written': 7701, 'western,': 7702, \"where's\": 7703, 'wiped': 7704, 'wisely': 7705, '\"let\\'s': 7706, '(we': 7707, '/>here': 7708, \"1970's\": 7709, '2/10': 7710, '3,': 7711, '9/11': 7712, 'adore': 7713, 'anil': 7714, 'anywhere.': 7715, 'arranged': 7716, 'aussie': 7717, 'baby.': 7718, 'bachelor': 7719, 'beg': 7720, 'best.<br': 7721, 'boston': 7722, 'bounty': 7723, 'c': 7724, 'cat,': 7725, 'cave': 7726, 'cheaply': 7727, 'chicago': 7728, 'chills': 7729, 'chronicles': 7730, 'circumstances.': 7731, 'cliche': 7732, 'colors,': 7733, 'confident': 7734, 'content.': 7735, 'crew,': 7736, 'cries': 7737, 'cruelty': 7738, 'cuban': 7739, 'cute.': 7740, 'dancing,': 7741, 'darth': 7742, 'deliciously': 7743, 'delightfully': 7744, 'depth,': 7745, 'depth.': 7746, 'details,': 7747, 'did.<br': 7748, 'distribution': 7749, 'do.<br': 7750, \"doesn't.\": 7751, 'dominated': 7752, 'door.': 7753, 'dumbest': 7754, 'elsewhere.': 7755, 'embarrassingly': 7756, 'enthusiastic': 7757, 'evidently': 7758, 'experience.<br': 7759, 'eyre': 7760, 'favorites.': 7761, 'film...': 7762, 'fontaine': 7763, 'free.': 7764, 'garner': 7765, 'genie': 7766, 'gillian': 7767, 'glasses': 7768, 'gone,': 7769, 'guns,': 7770, 'harm': 7771, 'havoc': 7772, 'heartwarming': 7773, 'heck,': 7774, 'her?': 7775, 'hopeless': 7776, 'hot,': 7777, 'husbands': 7778, 'insist': 7779, 'jared': 7780, 'kidman': 7781, 'kidnapping': 7782, \"killer's\": 7783, 'kolchak': 7784, 'lately': 7785, 'lauren': 7786, 'london.': 7787, 'longing': 7788, 'luis': 7789, 'mars': 7790, 'mercy': 7791, 'messing': 7792, 'messy': 7793, 'miserably': 7794, 'musical.': 7795, 'natives': 7796, 'nolan': 7797, 'obsessive': 7798, 'painful.': 7799, 'passable': 7800, 'perception': 7801, 'pirate': 7802, 'pointing': 7803, 'portrayals': 7804, 'posey': 7805, 'posing': 7806, 'present,': 7807, 'public.': 7808, 'punishment': 7809, 'pursued': 7810, 'question.': 7811, 'quickly,': 7812, 'quiet,': 7813, 'ramones': 7814, 'rapist': 7815, 'rear': 7816, 'recommendation': 7817, 'regards': 7818, 'reign': 7819, 'relax': 7820, 'remembering': 7821, 'resembling': 7822, 'roots': 7823, 'sensible': 7824, 'separated': 7825, 'servant': 7826, 'set-up': 7827, 'shades': 7828, 'sixties': 7829, 'spit': 7830, \"stewart's\": 7831, 'story\"': 7832, 'suggesting': 7833, 'thankfully,': 7834, 'travesty': 7835, 'twist,': 7836, 'unique,': 7837, 'unoriginal': 7838, 'unsure': 7839, 'unusually': 7840, 'viewings': 7841, 'vince': 7842, 'virtual': 7843, 'voiced': 7844, 'warriors': 7845, 'wasted.': 7846, 'worse.<br': 7847, 'wrong!': 7848, '\"house': 7849, '\"movie\"': 7850, '\"they': 7851, '(more': 7852, ').': 7853, '/>only': 7854, '10/10.': 7855, 'affairs': 7856, 'africa,': 7857, 'album': 7858, 'altered': 7859, 'amrita': 7860, 'avid': 7861, 'background,': 7862, 'bacon': 7863, 'bar,': 7864, 'bogus': 7865, \"branagh's\": 7866, 'cal': 7867, 'choice,': 7868, 'christine': 7869, 'clan': 7870, 'comparison.': 7871, 'concerned.': 7872, 'conveniently': 7873, 'couch': 7874, 'crap.<br': 7875, 'crawford': 7876, 'credit.': 7877, 'dates': 7878, 'dazzling': 7879, 'delighted': 7880, 'depictions': 7881, 'depths': 7882, 'detail.': 7883, 'disappears': 7884, 'distracted': 7885, 'dumped': 7886, 'edgy': 7887, 'elevator': 7888, 'emotion,': 7889, 'england.': 7890, 'error': 7891, 'exciting.': 7892, 'excuses': 7893, 'exploding': 7894, 'explosions': 7895, 'fast-paced': 7896, 'fest': 7897, 'foxx': 7898, 'freaking': 7899, 'friendship,': 7900, 'genius,': 7901, 'georges': 7902, 'glimpses': 7903, 'gone.': 7904, 'greatness': 7905, 'hammy': 7906, 'heavy-handed': 7907, 'hinted': 7908, 'horny': 7909, 'hospital.': 7910, 'housewife': 7911, 'hungry': 7912, 'ignores': 7913, 'ii.': 7914, 'important.': 7915, 'inclusion': 7916, 'indiana': 7917, 'inexplicable': 7918, 'introducing': 7919, 'ira': 7920, 'it),': 7921, 'judd': 7922, 'judged': 7923, 'king.': 7924, 'kumar': 7925, 'lance': 7926, 'leaders': 7927, 'leon': 7928, 'lucille': 7929, 'macabre': 7930, 'maintains': 7931, 'make.': 7932, 'masterpieces': 7933, 'me?': 7934, 'muppets': 7935, 'myth': 7936, 'narrow': 7937, 'nina': 7938, 'novak': 7939, 'nut': 7940, 'nuts': 7941, 'over.<br': 7942, 'overblown': 7943, 'pit': 7944, 'poem': 7945, 'pointless,': 7946, 'possess': 7947, 'quarter': 7948, 'reader': 7949, 'realities': 7950, 'relating': 7951, 'releasing': 7952, 'rukh': 7953, 'run.': 7954, 'salvation': 7955, 'samantha': 7956, 'schools': 7957, 'script.<br': 7958, 'severed': 7959, 'shorter': 7960, 'sniper': 7961, 'soderbergh': 7962, 'sophie': 7963, 'standout': 7964, 'stunning.': 7965, 'sub-par': 7966, 'sucked.': 7967, 'sugar': 7968, 'talk,': 7969, 'technicolor': 7970, 'that)': 7971, 'theaters.': 7972, 'thought-provoking': 7973, 'tiresome': 7974, 'toni': 7975, 'tourist': 7976, 'translate': 7977, 'truman': 7978, 'unfold': 7979, 'upcoming': 7980, 'vanessa': 7981, 'w.': 7982, 'west.': 7983, 'whatsoever,': 7984, 'woo': 7985, 'worthwhile.': 7986, '!!': 7987, '(only': 7988, '/>8/10': 7989, '/>much': 7990, '/>see': 7991, '90s': 7992, 'acknowledge': 7993, 'admitted': 7994, 'after.': 7995, 'ah,': 7996, 'all:': 7997, 'amidst': 7998, 'anton': 7999, 'appeal.': 8000, 'apply': 8001, 'artsy': 8002, 'assure': 8003, 'asylum': 8004, 'attended': 8005, 'babies': 8006, 'blamed': 8007, 'boris': 8008, 'brainless': 8009, 'bronson': 8010, 'caricatures': 8011, 'cartoonish': 8012, 'casper': 8013, 'cbs': 8014, 'champion': 8015, 'charms': 8016, 'check.': 8017, 'cheesy.': 8018, 'chicken': 8019, 'claude': 8020, 'cleaning': 8021, 'clock': 8022, 'compelling,': 8023, 'coup': 8024, 'couple.': 8025, 'creepy.': 8026, 'damned': 8027, 'dandy': 8028, 'daniels': 8029, 'dated,': 8030, 'dirt': 8031, 'disguise': 8032, 'divorced': 8033, \"doctor's\": 8034, 'doom': 8035, 'dumb,': 8036, 'economic': 8037, 'erika': 8038, 'escaping': 8039, 'excellently': 8040, 'exclusively': 8041, 'explosive': 8042, 'feature,': 8043, 'feeble': 8044, 'fields': 8045, 'find.': 8046, 'firstly,': 8047, 'forgetting': 8048, 'fresh,': 8049, 'generate': 8050, 'goldie': 8051, 'grainy': 8052, 'grayson': 8053, 'group.': 8054, 'guards': 8055, 'gwyneth': 8056, 'heels': 8057, 'heights': 8058, 'humans,': 8059, 'immature': 8060, 'info': 8061, 'informed': 8062, 'inhabitants': 8063, 'intensely': 8064, 'j': 8065, 'juliette': 8066, 'kansas': 8067, 'leather': 8068, 'live-action': 8069, 'looking,': 8070, 'lurking': 8071, 'malone': 8072, 'masses': 8073, 'mathieu': 8074, 'meandering': 8075, 'merits': 8076, 'miniseries': 8077, 'mrs': 8078, 'ms': 8079, 'mystical': 8080, 'neurotic': 8081, 'old-fashioned': 8082, 'one)': 8083, 'orleans': 8084, 'package': 8085, 'pathetic,': 8086, \"person's\": 8087, 'poetry': 8088, 'popped': 8089, 'possesses': 8090, 'powerful,': 8091, 'preposterous': 8092, 'produces': 8093, 'psychology': 8094, 'quinn': 8095, 'racing': 8096, 'rape,': 8097, 'record,': 8098, 'reel': 8099, 'reflected': 8100, 'rehash': 8101, 'reid': 8102, 'remember.': 8103, 'ross': 8104, 'rounded': 8105, 'russia': 8106, 'scotland': 8107, 'senior': 8108, 'seymour': 8109, 'sf': 8110, 'slide': 8111, 'spacey': 8112, 'special,': 8113, 'spice': 8114, 'spies': 8115, 'steam': 8116, 'stinker': 8117, 'story?': 8118, 'tonight': 8119, 'trouble.': 8120, 'vile': 8121, 'vintage': 8122, 'wall.': 8123, 'warns': 8124, 'yokai': 8125, '\"new': 8126, '\"oh,': 8127, '(unless': 8128, '/>4.': 8129, '/>7/10': 8130, '/>because': 8131, 'actors.<br': 8132, 'admired': 8133, 'adrian': 8134, 'agent,': 8135, 'ally': 8136, 'ambition': 8137, 'ample': 8138, 'angles,': 8139, 'anxious': 8140, 'anyway.<br': 8141, 'applies': 8142, 'array': 8143, 'assured': 8144, 'babe': 8145, 'backed': 8146, 'barbra': 8147, 'basinger': 8148, 'biko': 8149, 'bother.': 8150, 'bow': 8151, 'boxer': 8152, 'bud': 8153, 'butcher': 8154, 'chavez': 8155, 'choice.': 8156, 'classy': 8157, 'co-star': 8158, 'color,': 8159, 'concepts': 8160, 'concerned,': 8161, 'confused,': 8162, 'contempt': 8163, 'controlling': 8164, 'critique': 8165, 'deemed': 8166, 'deep,': 8167, 'delicious': 8168, 'derivative': 8169, 'detectives': 8170, 'died,': 8171, 'dismiss': 8172, 'displaying': 8173, 'divine': 8174, 'du': 8175, 'dvds': 8176, 'edith': 8177, 'eli': 8178, 'endlessly': 8179, 'ends,': 8180, 'england,': 8181, 'escape.': 8182, 'evelyn': 8183, 'ever.<br': 8184, 'evolution': 8185, 'farmer': 8186, 'farrell': 8187, 'flaws.': 8188, 'fleshed': 8189, 'foolish': 8190, 'gal': 8191, 'grounds': 8192, 'group,': 8193, 'gunga': 8194, 'harrison': 8195, 'haunt': 8196, 'history.<br': 8197, 'hopkins': 8198, 'human.': 8199, 'hyde': 8200, 'images,': 8201, 'institution': 8202, 'into.': 8203, 'invested': 8204, 'iranian': 8205, 'israeli': 8206, 'item': 8207, 'jaded': 8208, 'jenna': 8209, 'kidnap': 8210, 'knight': 8211, 'lady.': 8212, 'laughing.': 8213, 'launch': 8214, 'legitimate': 8215, 'living.': 8216, 'marked': 8217, 'midst': 8218, 'millionaire': 8219, 'novelty': 8220, 'paints': 8221, 'passage': 8222, 'pattern': 8223, 'photographs': 8224, 'pleasing': 8225, 'polish': 8226, 'publicity': 8227, 'purpose,': 8228, 'ranch': 8229, 'realises': 8230, 'reeves': 8231, 'rejects': 8232, 'relying': 8233, 'renaissance': 8234, 'rescued': 8235, 'revolving': 8236, 'rips': 8237, 'ritchie': 8238, 'ruining': 8239, 'sang': 8240, 'scenery.': 8241, 'scored': 8242, 'sense.<br': 8243, 'senses': 8244, 'shifts': 8245, 'singers': 8246, 'skull': 8247, 'slow.': 8248, 'smiles': 8249, 'snakes': 8250, 'sometime': 8251, 'stargate': 8252, 'steer': 8253, 'story:': 8254, 'substance.': 8255, 'subway': 8256, 'teams': 8257, 'thereby': 8258, 'tiger': 8259, 'told.': 8260, 'tower': 8261, 'trace': 8262, 'trailer,': 8263, 'unexplained': 8264, 'unlikable': 8265, 'v.': 8266, 'vividly': 8267, 'votes': 8268, 'weather': 8269, 'whining': 8270, 'witnessing': 8271, '\"love': 8272, '\"not': 8273, '\"one': 8274, '(about': 8275, '(another': 8276, '*1/2': 8277, '/>10/10': 8278, 'a)': 8279, 'admittedly,': 8280, 'always.': 8281, 'applied': 8282, 'ariel': 8283, 'art-house': 8284, 'assassination': 8285, 'atlantis': 8286, 'authorities': 8287, 'average.': 8288, 'awesome,': 8289, 'b)': 8290, 'beatles': 8291, 'bed.': 8292, 'butch': 8293, 'cake': 8294, 'cannon': 8295, 'canyon': 8296, 'characteristics': 8297, 'clara': 8298, 'clive': 8299, 'commanding': 8300, 'conditions': 8301, 'content,': 8302, 'corey': 8303, 'crew.': 8304, 'criticized': 8305, 'disabled': 8306, 'eagerly': 8307, 'ear': 8308, 'earnest': 8309, 'ebert': 8310, 'effective,': 8311, 'effective.': 8312, 'famed': 8313, 'faults': 8314, 'finishing': 8315, 'forgettable.': 8316, 'foundation': 8317, 'frames': 8318, 'freaky': 8319, 'frontier': 8320, 'fundamental': 8321, 'gere': 8322, 'goes.': 8323, 'good-looking': 8324, 'great.<br': 8325, 'ground,': 8326, 'gun.': 8327, 'hawke': 8328, 'here?': 8329, 'holes,': 8330, 'hospital,': 8331, 'humour.': 8332, 'hurt,': 8333, 'hybrid': 8334, 'ignoring': 8335, 'inmates': 8336, 'insights': 8337, 'inspirational': 8338, 'interested.': 8339, 'irene': 8340, 'jacques': 8341, 'junk.': 8342, 'label': 8343, 'leigh': 8344, 'les': 8345, 'liners': 8346, 'lovely,': 8347, 'low.': 8348, 'm.': 8349, 'marriage,': 8350, 'melvyn': 8351, 'memory.': 8352, 'mentality': 8353, 'milo': 8354, 'mind.<br': 8355, 'missile': 8356, 'monty': 8357, 'motive': 8358, 'mouth.': 8359, \"must've\": 8360, 'natalie': 8361, 'noteworthy': 8362, 'nuances': 8363, 'olivia': 8364, 'opposite.': 8365, 'orange': 8366, 'outing': 8367, 'pad': 8368, 'partners': 8369, 'penn': 8370, 'penny': 8371, 'pickford': 8372, 'places.': 8373, 'playboy': 8374, 'police.': 8375, 'polly': 8376, 'pun': 8377, 'qualify': 8378, 'rebellious': 8379, 'repeats': 8380, 'reviewed': 8381, 'roughly': 8382, 'say?': 8383, 'scratch': 8384, 'screwball': 8385, 'seductive': 8386, 'seems,': 8387, 'seen!': 8388, 'sidewalk': 8389, 'somewhere.': 8390, 'stabbed': 8391, 'static': 8392, 'street\"': 8393, 'strings': 8394, 'sydney': 8395, 'them)': 8396, 'thing:': 8397, 'though.<br': 8398, 'tops': 8399, 'triangle': 8400, 'twice,': 8401, 'uncanny': 8402, 'underworld': 8403, 'upside': 8404, 'vader': 8405, 'varied': 8406, 'verbal': 8407, 'victims,': 8408, 'way)': 8409, 'week,': 8410, 'zombi': 8411, '\"black': 8412, '\"good\"': 8413, '\"hey,': 8414, '(e.g.': 8415, '(her': 8416, '/>where': 8417, '19': 8418, 'accompanying': 8419, 'admits': 8420, 'adults,': 8421, 'alcohol': 8422, 'annoy': 8423, 'appearance,': 8424, 'arrest': 8425, 'attractive,': 8426, 'before.<br': 8427, 'belly': 8428, 'between.': 8429, 'biased': 8430, 'bros.': 8431, 'casino': 8432, 'casting.': 8433, 'christianity': 8434, 'christina': 8435, 'christmas.': 8436, 'chuckle': 8437, 'close,': 8438, 'completed': 8439, 'confined': 8440, 'considers': 8441, 'copy.': 8442, 'courtroom': 8443, 'crisp': 8444, 'criticize': 8445, 'crown': 8446, 'days.<br': 8447, 'death.<br': 8448, 'din': 8449, 'doo': 8450, 'dread': 8451, 'dreamy': 8452, 'elite': 8453, 'encountered': 8454, 'evokes': 8455, 'exit': 8456, 'expense': 8457, 'experiencing': 8458, 'extensive': 8459, 'fight,': 8460, 'film),': 8461, 'film-making.': 8462, 'filthy': 8463, 'finishes': 8464, 'flashbacks,': 8465, 'flick.<br': 8466, 'forgets': 8467, 'frozen': 8468, 'gate': 8469, 'gathering': 8470, 'gigantic': 8471, 'guinea': 8472, 'gun,': 8473, 'gypo': 8474, 'habit': 8475, 'hand-held': 8476, 'harriet': 8477, \"hitchcock's\": 8478, 'hughes': 8479, 'impact.': 8480, 'implied': 8481, 'inaccurate': 8482, 'independence': 8483, 'israel': 8484, 'jill': 8485, 'jose': 8486, 'justice,': 8487, 'kathy': 8488, 'laurie': 8489, 'lethal': 8490, 'liam': 8491, 'lighter': 8492, 'limitations': 8493, 'linked': 8494, 'literal': 8495, 'love\"': 8496, 'magic.': 8497, 'marilyn': 8498, 'match,': 8499, \"men's\": 8500, 'mirrors': 8501, 'murky': 8502, 'needing': 8503, \"ol'\": 8504, 'oscar.': 8505, 'outline': 8506, 'pain.': 8507, 'perspective,': 8508, 'phenomenon': 8509, 'poses': 8510, 'present.': 8511, 'produced.': 8512, 'quintessential': 8513, 'rate,': 8514, 'rational': 8515, 'reiser': 8516, 'reunite': 8517, 'ricky': 8518, 'rightly': 8519, 'riot': 8520, 'rome': 8521, 'rope': 8522, 'salman': 8523, 'salt': 8524, 'saw.': 8525, 'screenwriters': 8526, 'seduce': 8527, 'semblance': 8528, 'shred': 8529, 'speeches': 8530, 'spirit.': 8531, 'stallone': 8532, 'stand-up': 8533, 'statue': 8534, 'stereotypes,': 8535, 'stores': 8536, 'strict': 8537, 'stumble': 8538, 'substantial': 8539, 'summed': 8540, 'tasteless': 8541, 'themes,': 8542, 'there?': 8543, 'tire': 8544, 'titular': 8545, 'trivia': 8546, 'try,': 8547, 'unwatchable': 8548, 'unwatchable.': 8549, 'verge': 8550, 'victims.': 8551, 'volume': 8552, 'well...': 8553, 'young.': 8554, 'zizek': 8555, '\"old': 8556, '(why': 8557, '/>every': 8558, \"/>let's\": 8559, \"1960's\": 8560, '1968': 8561, '22': 8562, '8.': 8563, 'about?': 8564, 'accessible': 8565, 'accident,': 8566, 'activity': 8567, 'affair.': 8568, 'american,': 8569, 'anticipation': 8570, 'antonioni': 8571, 'ants': 8572, 'anyways,': 8573, 'apart,': 8574, 'attenborough': 8575, 'awaiting': 8576, 'badly.': 8577, 'benefits': 8578, 'bowl': 8579, 'boys.': 8580, 'brown,': 8581, 'building,': 8582, 'buzz': 8583, \"carpenter's\": 8584, 'characteristic': 8585, \"charlie's\": 8586, 'cindy': 8587, 'cinemas': 8588, 'commitment': 8589, 'committing': 8590, 'community.': 8591, 'company,': 8592, 'day-lewis': 8593, 'deanna': 8594, 'detective,': 8595, 'drinks': 8596, 'drowned': 8597, 'earliest': 8598, 'earth\"': 8599, 'emotions,': 8600, 'entertaining.<br': 8601, 'excess': 8602, 'executives': 8603, 'explained.': 8604, 'feelings.': 8605, 'feminine': 8606, 'fido': 8607, 'filler': 8608, 'flavor': 8609, 'fortunate': 8610, 'france,': 8611, 'fried': 8612, 'fury': 8613, 'gable': 8614, 'gags,': 8615, 'gimmick': 8616, 'globe': 8617, 'hilarity': 8618, 'hit,': 8619, 'illness': 8620, 'inadvertently': 8621, 'incredible.': 8622, 'infinitely': 8623, 'insanity': 8624, 'ironically,': 8625, 'jaws': 8626, 'jury': 8627, 'justified': 8628, 'kill,': 8629, 'life?': 8630, 'lightning': 8631, 'living,': 8632, 'looks,': 8633, 'loyalty': 8634, 'lukas': 8635, \"lynch's\": 8636, 'mabel': 8637, 'mankind': 8638, 'members,': 8639, 'moe': 8640, 'mol': 8641, 'monster,': 8642, 'mood.': 8643, 'mothers': 8644, 'move.': 8645, 'mute': 8646, 'narrated': 8647, 'neglected': 8648, 'numbers.': 8649, 'obvious.': 8650, 'offbeat': 8651, 'otto': 8652, 'pacific': 8653, 'passion,': 8654, 'paula': 8655, 'pound': 8656, 'principle': 8657, 'produced,': 8658, 'profession': 8659, 'psychopath': 8660, 'realization': 8661, 'remake.': 8662, 'reminding': 8663, 'revolt': 8664, 'richardson': 8665, 'rock.': 8666, 'romantic,': 8667, 'roof': 8668, 'route': 8669, 'safely': 8670, 'saint': 8671, 'sammo': 8672, 'sarcastic': 8673, 'screens': 8674, 'second.': 8675, 'sergeant': 8676, 'servants': 8677, 'sherlock': 8678, 'shootout': 8679, 'sick,': 8680, 'skit': 8681, 'soldiers,': 8682, 'stalked': 8683, 'stylized': 8684, 'subject.': 8685, 'sublime': 8686, 'sucker': 8687, 'supreme': 8688, 'tears.': 8689, 'terrific.': 8690, 'third,': 8691, 'three,': 8692, 'through.<br': 8693, 'tool': 8694, 'treat.': 8695, 'unrealistic.': 8696, 'users': 8697, 'vanilla': 8698, 'vanity': 8699, 'vehicles': 8700, 'villainous': 8701, 'wonder,': 8702, 'writer.': 8703, '\"little': 8704, '\"mr.': 8705, '\"where': 8706, '\"you\\'re': 8707, '(despite': 8708, '....': 8709, '/>unlike': 8710, '1972': 8711, '1980': 8712, '28': 8713, 'ace': 8714, 'adapt': 8715, 'alexandre': 8716, 'alike.': 8717, 'anyway?': 8718, 'artwork': 8719, 'avenge': 8720, 'avoids': 8721, 'awakening': 8722, 'bachchan': 8723, 'bar.': 8724, 'battling': 8725, 'behavior.': 8726, 'biting': 8727, 'bored,': 8728, 'box,': 8729, 'boys,': 8730, 'cable.': 8731, 'carmen': 8732, 'cassavetes': 8733, 'cents': 8734, 'channel,': 8735, 'cher': 8736, 'comprehend': 8737, 'computers': 8738, 'concept.': 8739, 'conscience': 8740, 'control,': 8741, 'courtesy': 8742, 'daytime': 8743, 'deliberate': 8744, 'denis': 8745, 'despair': 8746, 'difference.': 8747, 'dukes': 8748, 'dustin': 8749, 'easy.': 8750, 'egyptian': 8751, 'enduring': 8752, 'english.': 8753, 'epitome': 8754, 'evoke': 8755, 'example:': 8756, 'expectation': 8757, 'exterior': 8758, 'favorite.': 8759, 'filth': 8760, 'for.<br': 8761, 'franklin': 8762, 'freaks': 8763, 'fritz': 8764, 'games.': 8765, 'gentleman': 8766, 'gloomy': 8767, 'ground.': 8768, 'herbert': 8769, 'hop': 8770, 'horrified': 8771, 'ideas.': 8772, 'identical': 8773, 'impending': 8774, 'improbable': 8775, 'incidents': 8776, 'inside.': 8777, 'intelligence,': 8778, 'intend': 8779, 'interesting.<br': 8780, 'interior': 8781, 'interrupted': 8782, 'jarring': 8783, 'jodie': 8784, 'kline': 8785, 'landmark': 8786, 'law,': 8787, 'laying': 8788, 'lean': 8789, 'legends': 8790, 'lifeless': 8791, 'loneliness': 8792, 'married,': 8793, 'melody': 8794, 'mesmerizing': 8795, 'minister': 8796, 'miranda': 8797, 'misleading': 8798, 'mitch': 8799, 'mitchum': 8800, 'mom,': 8801, 'mum': 8802, 'necessary.': 8803, 'nerve': 8804, 'newcomer': 8805, 'othello': 8806, 'out\"': 8807, 'outrageously': 8808, 'participants': 8809, 'peck': 8810, 'pg': 8811, 'philo': 8812, 'player,': 8813, 'portrayed.': 8814, 'pre-code': 8815, 'presidential': 8816, 'pretends': 8817, 'pretty,': 8818, 'programs': 8819, 'questioning': 8820, 'readers': 8821, 'regularly': 8822, 'religion.': 8823, 'remainder': 8824, 'rest,': 8825, 'restrained': 8826, 'rhythm': 8827, 'salvage': 8828, 'samuel': 8829, 'schlock': 8830, 'shell': 8831, 'shift': 8832, 'similarity': 8833, 'site,': 8834, 'skeptical': 8835, 'smash': 8836, 'somewhere,': 8837, 'spaghetti': 8838, 'span': 8839, 'spencer': 8840, 'started.': 8841, 'sterling': 8842, 'students.': 8843, 'studied': 8844, 'stuffed': 8845, 'sub-plot': 8846, 'subtext': 8847, 'surround': 8848, 'swinging': 8849, 'targeted': 8850, 'technology,': 8851, 'thompson': 8852, 'top-notch': 8853, 'touching,': 8854, 'tremendously': 8855, 'trier': 8856, 'tuned': 8857, 'unanswered': 8858, 'unfamiliar': 8859, 'unnecessarily': 8860, 'wardrobe': 8861, 'wars,': 8862, 'washed': 8863, \"welles'\": 8864, 'west,': 8865, \"who've\": 8866, 'whole.': 8867, 'widowed': 8868, 'yeti': 8869, '\"go': 8870, '/>final': 8871, \"/>what's\": 8872, '200': 8873, '2003': 8874, '4,': 8875, '8/10.': 8876, \"80's,\": 8877, 'actions.': 8878, 'alike': 8879, 'angie': 8880, 'appearance.': 8881, 'apt': 8882, 'arguing': 8883, 'arguments': 8884, 'assumes': 8885, 'audition': 8886, 'awful.<br': 8887, 'bearing': 8888, 'borders': 8889, 'borrow': 8890, 'bread': 8891, 'bug': 8892, 'bully': 8893, 'camcorder': 8894, 'camp.': 8895, 'cast.<br': 8896, 'castle,': 8897, 'charming.': 8898, 'clad': 8899, 'clear,': 8900, 'clueless': 8901, 'coat': 8902, 'colours': 8903, 'comparable': 8904, 'conan': 8905, 'convincing,': 8906, 'corman': 8907, 'could.': 8908, 'crushed': 8909, 'cut.': 8910, 'decent.': 8911, 'deepest': 8912, 'deer': 8913, 'demise': 8914, 'deputy': 8915, 'dismal': 8916, 'divided': 8917, \"don't,\": 8918, 'dramatically': 8919, 'dreck': 8920, 'e.': 8921, 'e.g.': 8922, 'emotions.': 8923, 'energetic': 8924, 'enigmatic': 8925, 'enjoy,': 8926, 'europe,': 8927, 'excruciating': 8928, 'explanation.': 8929, 'factors': 8930, 'fart': 8931, 'fighting,': 8932, 'finish,': 8933, 'flashing': 8934, 'fluid': 8935, 'follow-up': 8936, 'footage.': 8937, 'forgiven': 8938, 'free,': 8939, 'frontal': 8940, 'gates': 8941, 'genre.<br': 8942, 'germany,': 8943, 'ghostly': 8944, 'giants': 8945, 'girl\"': 8946, 'guinness': 8947, 'harrowing': 8948, 'hateful': 8949, 'hello': 8950, 'here;': 8951, 'homicidal': 8952, 'images.': 8953, 'immigrant': 8954, 'incidentally,': 8955, 'inclined': 8956, 'joining': 8957, 'kent': 8958, \"kubrick's\": 8959, 'leave.': 8960, 'left,': 8961, 'lester': 8962, 'like:': 8963, 'low,': 8964, 'luck.': 8965, 'mannerisms': 8966, 'martian': 8967, 'maureen': 8968, 'mayhem': 8969, 'mistake,': 8970, 'niece': 8971, 'no!': 8972, 'noticeable': 8973, 'odd,': 8974, 'officer,': 8975, 'openly': 8976, 'order.': 8977, 'otherwise.': 8978, 'outfits': 8979, 'own.<br': 8980, 'pacing,': 8981, 'pains': 8982, 'palm': 8983, 'parsons': 8984, 'penned': 8985, 'pin': 8986, 'pole': 8987, 'pose': 8988, 'prison.': 8989, 'psychedelic': 8990, 'pumbaa': 8991, 'puppets': 8992, 'qualifies': 8993, 'religion,': 8994, 'revenge,': 8995, 'rich,': 8996, 'road.': 8997, 'roller': 8998, 'searched': 8999, 'serbian': 9000, 'sergio': 9001, 'serum': 9002, 'she,': 9003, 'shooting,': 9004, 'silliness': 9005, 'skills.': 9006, 'sleaze': 9007, 'someday': 9008, 'soup': 9009, 'spoiling': 9010, 'steele': 9011, 'stroke': 9012, 'stuff.<br': 9013, 'subsequently': 9014, 'sufficient': 9015, 'surgery': 9016, 'suspicion': 9017, 'symbol': 9018, 'tarantino': 9019, 'theatre,': 9020, 'thunderbirds': 9021, 'time\"': 9022, 'toned': 9023, 'tongue-in-cheek': 9024, 'tough,': 9025, 'traits': 9026, 'tube': 9027, 'turkish': 9028, 'turmoil': 9029, 'unfunny,': 9030, 'uniform': 9031, 'veterans': 9032, 'voyage': 9033, 'waking': 9034, 'washington,': 9035, 'watching.<br': 9036, 'weekly': 9037, 'well-done': 9038, 'whiny': 9039, 'wilderness': 9040, 'williams,': 9041, 'window.': 9042, 'wooden,': 9043, 'you\"': 9044, '\"he': 9045, '\"when': 9046, '/>1)': 9047, '/>3/10': 9048, '/>best': 9049, '/>p.s.': 9050, '1990': 9051, \"30's\": 9052, 'accounts': 9053, 'additionally,': 9054, 'affleck': 9055, 'alas': 9056, 'alot': 9057, 'angelina': 9058, 'anita': 9059, 'announced': 9060, 'apartment.': 9061, 'atrocious.': 9062, 'awhile': 9063, 'back.<br': 9064, 'backwards': 9065, \"bakshi's\": 9066, 'bashing': 9067, 'behind.': 9068, 'bend': 9069, 'blames': 9070, 'bondage': 9071, 'bones': 9072, 'box.': 9073, 'budding': 9074, 'bust': 9075, 'camping': 9076, 'capacity': 9077, 'cape': 9078, 'captivated': 9079, 'carey': 9080, 'celebrate': 9081, 'clerk': 9082, 'climbing': 9083, 'clooney': 9084, 'club.': 9085, 'coincidence': 9086, 'compensate': 9087, 'complained': 9088, 'conveying': 9089, 'cookie': 9090, 'coolest': 9091, 'cover,': 9092, 'cycle': 9093, 'davis,': 9094, 'debra': 9095, 'debut,': 9096, 'denise': 9097, 'department.': 9098, 'desert,': 9099, 'developed.': 9100, 'disregard': 9101, 'dragging': 9102, 'dream,': 9103, 'dump': 9104, 'duration': 9105, 'ealing': 9106, 'el': 9107, 'election': 9108, 'exploited': 9109, 'faces,': 9110, 'faded': 9111, 'faith,': 9112, 'fake.': 9113, 'fantasy.': 9114, 'few.': 9115, 'follow,': 9116, 'forever,': 9117, 'fox,': 9118, 'frances': 9119, 'friendship.': 9120, 'gamera': 9121, 'garland': 9122, 'gets.': 9123, 'gielgud': 9124, 'gilbert': 9125, 'gloria': 9126, 'grief': 9127, 'gritty,': 9128, 'grudge': 9129, 'hackman': 9130, 'hadley': 9131, 'hardened': 9132, 'herman': 9133, 'himself.<br': 9134, 'homes': 9135, 'hulk': 9136, 'i.': 9137, 'if,': 9138, 'incestuous': 9139, 'indifferent': 9140, 'inserted': 9141, 'isolation': 9142, \"jack's\": 9143, 'job.<br': 9144, 'knows,': 9145, 'kurosawa': 9146, 'labeled': 9147, 'land,': 9148, 'land.': 9149, 'later.<br': 9150, 'lip': 9151, 'list,': 9152, 'listened': 9153, 'longer.': 9154, 'magically': 9155, 'managing': 9156, 'maximum': 9157, 'meaning.': 9158, 'miyazaki': 9159, 'mortal': 9160, 'movies!': 9161, 'nations': 9162, 'netflix': 9163, 'night\"': 9164, 'nominations': 9165, 'nudity.': 9166, 'optimistic': 9167, 'origins': 9168, 'outdated': 9169, 'pans': 9170, 'paradise': 9171, 'part.<br': 9172, 'pause': 9173, 'paxton': 9174, 'pc': 9175, 'peggy': 9176, 'penelope': 9177, 'perspective.': 9178, 'pfeiffer': 9179, 'phillips': 9180, 'pivotal': 9181, 'please.': 9182, 'plot?': 9183, 'plug': 9184, 'poker': 9185, 'politics,': 9186, 'powerful.': 9187, 'practical': 9188, 'proceed': 9189, 'quaid': 9190, 'r.': 9191, 'raging': 9192, 'ratso': 9193, 'reeve': 9194, 'relevance': 9195, 'relief.': 9196, 'rewarding': 9197, 'saloon': 9198, 'scott,': 9199, 'settings,': 9200, 'sgt.': 9201, 'shameless': 9202, 'shocks': 9203, 'shortcomings': 9204, 'should.': 9205, 'shoulder': 9206, 'sights': 9207, 'smell': 9208, 'sopranos': 9209, 'spain': 9210, 'sparks': 9211, 'sporting': 9212, 'stabbing': 9213, 'statements': 9214, 'station,': 9215, 'stella': 9216, 'stunning,': 9217, 'substitute': 9218, 'summary,': 9219, 'switching': 9220, 'takashi': 9221, 'talking,': 9222, 'tended': 9223, 'testing': 9224, 'thrust': 9225, 'transforms': 9226, 'troma': 9227, 'twice.': 9228, 'undead': 9229, 'unfolding': 9230, 'unsatisfying': 9231, 'up\"': 9232, 'usual.': 9233, 'wash': 9234, 'weaknesses': 9235, 'wendigo': 9236, 'wherever': 9237, 'wilder': 9238, 'windows': 9239, 'woefully': 9240, 'worked.': 9241, 'world\"': 9242, 'youth.': 9243, \"'a\": 9244, '(!)': 9245, '(?)': 9246, '/>aside': 9247, '/>both': 9248, '/>david': 9249, '/>meanwhile,': 9250, '1936': 9251, '1983': 9252, '1996': 9253, '3000': 9254, \"80's.\": 9255, 'accurate.': 9256, 'agenda': 9257, 'ajay': 9258, 'alert': 9259, 'ang': 9260, 'angry,': 9261, 'anticipated': 9262, 'army,': 9263, 'artistry': 9264, 'award.': 9265, 'begun': 9266, 'beowulf': 9267, 'bland,': 9268, 'bombs': 9269, 'boredom.': 9270, 'brazilian': 9271, 'breast': 9272, 'caricature': 9273, 'cena': 9274, 'centuries': 9275, 'cheering': 9276, 'chill': 9277, 'cigarette': 9278, 'clichés.': 9279, 'clothes,': 9280, 'cohesive': 9281, 'colored': 9282, 'comment.': 9283, 'communication': 9284, 'completely.': 9285, 'confines': 9286, 'confuse': 9287, 'convenient': 9288, 'cry.': 9289, 'd.': 9290, 'dancing.': 9291, \"david's\": 9292, 'decade.': 9293, 'defending': 9294, 'demille': 9295, 'despise': 9296, 'discussed': 9297, 'distinctive': 9298, 'diving': 9299, 'e': 9300, 'employee': 9301, 'encouraged': 9302, 'engaging,': 9303, 'escape,': 9304, 'europa': 9305, 'europeans': 9306, 'evening.': 9307, 'everywhere.': 9308, 'faces.': 9309, 'fascinating,': 9310, 'features.': 9311, 'feeling,': 9312, 'fiction.': 9313, 'figure,': 9314, 'filmed,': 9315, 'first-rate': 9316, 'flock': 9317, 'folks.': 9318, 'forget.': 9319, 'gap': 9320, 'gaps': 9321, 'grant,': 9322, 'growth': 9323, 'gus': 9324, 'ham': 9325, 'happen.<br': 9326, 'harlow': 9327, 'hers': 9328, 'him!': 9329, 'hines': 9330, 'hope.': 9331, 'hostile': 9332, 'hunted': 9333, 'hyped': 9334, 'informs': 9335, 'japan.': 9336, 'je': 9337, 'jewel': 9338, 'jude': 9339, 'july': 9340, 'kathleen': 9341, 'kazan': 9342, 'kidding': 9343, 'last.': 9344, 'lionel': 9345, 'logan': 9346, 'logic,': 9347, 'mean.': 9348, 'mediocre.': 9349, 'mock': 9350, 'money.<br': 9351, 'mormon': 9352, 'murders,': 9353, 'myrna': 9354, 'naschy': 9355, 'nbc': 9356, 'nearest': 9357, 'nemesis': 9358, 'ninety': 9359, 'noir,': 9360, 'note.': 9361, 'occupied': 9362, 'olsen': 9363, 'omar': 9364, 'one?': 9365, 'opera,': 9366, 'overbearing': 9367, 'phenomenal': 9368, 'pictures.': 9369, 'polar': 9370, 'possession': 9371, 'potter': 9372, 'powers.': 9373, 'predictably': 9374, 'preminger': 9375, 'presence,': 9376, 'presence.': 9377, 'put,': 9378, 'relationships.': 9379, 'rendering': 9380, 'reserved': 9381, 'resistance': 9382, 'ritual': 9383, 'river.': 9384, 'roles.<br': 9385, 'romeo': 9386, 'rosario': 9387, 'russ': 9388, 'sand': 9389, 'sanders': 9390, 'satire,': 9391, 'sebastian': 9392, 'shahid': 9393, 'shaped': 9394, 'siblings': 9395, 'sinks': 9396, 'skinny': 9397, 'slept': 9398, \"smith's\": 9399, 'snuff': 9400, 'sophia': 9401, 'speaking,': 9402, 'spirit,': 9403, 'stab': 9404, 'stinks': 9405, 'stream': 9406, 'sundance': 9407, 'survive.': 9408, 'survives': 9409, 'sustain': 9410, 'taylor,': 9411, 'tell.': 9412, 'ten.': 9413, 'thieves': 9414, 'thinking.': 9415, 'timberlake': 9416, 'tokyo': 9417, 'torture.': 9418, 'transport': 9419, 'trite,': 9420, 'uninteresting.': 9421, 'villains,': 9422, 'warrant': 9423, 'watchable,': 9424, 'worms': 9425, 'younger,': 9426, 'zodiac': 9427, '\"jane': 9428, '\"to': 9429, \"'70s\": 9430, '(albeit': 9431, '(george': 9432, '(william': 9433, '/>first,': 9434, '/>however': 9435, '/>richard': 9436, '/>who': 9437, \"1980's\": 9438, '1984': 9439, '30s': 9440, '5,': 9441, 'abandon': 9442, 'absorbing': 9443, 'absurd.': 9444, 'advised': 9445, 'aggressive': 9446, 'amid': 9447, 'anger,': 9448, 'angst': 9449, 'anthology': 9450, 'anymore,': 9451, 'apartment,': 9452, 'around.<br': 9453, 'artist,': 9454, 'back!': 9455, 'balanced': 9456, 'bars': 9457, 'battlestar': 9458, 'bogart': 9459, 'boyer': 9460, 'boyle': 9461, 'breakfast': 9462, 'breathing': 9463, 'cheech': 9464, 'chew': 9465, 'childhood.': 9466, 'chong': 9467, 'close-up': 9468, 'combining': 9469, 'confronts': 9470, 'contributes': 9471, 'controls': 9472, 'cops,': 9473, 'counter': 9474, 'created.': 9475, 'creek': 9476, 'crosses': 9477, 'cypher': 9478, 'dame': 9479, 'debbie': 9480, 'debt': 9481, 'denying': 9482, 'depend': 9483, 'desired': 9484, 'disgrace': 9485, 'dj': 9486, 'doing,': 9487, 'dominate': 9488, 'duel': 9489, 'educated': 9490, 'electronic': 9491, 'engaging.': 9492, 'enormously': 9493, 'ernie': 9494, 'execution.': 9495, 'explosions,': 9496, 'fades': 9497, 'fascinating.': 9498, 'feat': 9499, 'federal': 9500, 'fetish': 9501, 'figure.': 9502, 'finale.': 9503, 'floor,': 9504, 'flower': 9505, 'flowers': 9506, 'flows': 9507, 'foil': 9508, 'force.': 9509, 'frantic': 9510, 'further.': 9511, 'gilliam': 9512, 'god-awful': 9513, 'grass': 9514, 'gretchen': 9515, 'grip': 9516, 'grossly': 9517, 'hallmark': 9518, 'harsh,': 9519, 'hats': 9520, 'heroine,': 9521, 'humorous,': 9522, 'id': 9523, 'inform': 9524, 'instincts': 9525, 'intriguing.': 9526, 'intro': 9527, 'investigator': 9528, 'judgment': 9529, 'juliet': 9530, 'kidnaps': 9531, 'kris': 9532, 'late.': 9533, 'lays': 9534, 'life!': 9535, 'lifts': 9536, 'mad,': 9537, 'magician': 9538, 'maintaining': 9539, 'making,': 9540, 'man.<br': 9541, 'martin,': 9542, 'masked': 9543, 'mason': 9544, 'mcqueen': 9545, 'mice': 9546, 'mick': 9547, \"miike's\": 9548, 'mine.': 9549, 'misty': 9550, 'mixes': 9551, 'moments.<br': 9552, 'monster.': 9553, 'movement,': 9554, 'necessity': 9555, 'net': 9556, 'nightmarish': 9557, 'nolte': 9558, 'nonetheless,': 9559, 'ny': 9560, 'obstacles': 9561, 'option': 9562, 'outlandish': 9563, 'owners': 9564, 'papers': 9565, 'participate': 9566, 'paths': 9567, 'people?': 9568, 'permanent': 9569, 'photography.': 9570, 'pixar': 9571, 'plodding': 9572, 'possible.<br': 9573, 'producers,': 9574, 'psychologist': 9575, 'pursuing': 9576, 'realistically': 9577, 'rebels': 9578, 'redundant': 9579, 'resolved': 9580, 'reverse': 9581, 'revival': 9582, 'rewarded': 9583, 'rolls': 9584, 'rounds': 9585, 'rupert': 9586, 'sane': 9587, 'satanic': 9588, 'say:': 9589, 'scratching': 9590, 'screened': 9591, 'seasons,': 9592, 'sheets': 9593, 'shop,': 9594, 'showcases': 9595, 'sickening': 9596, 'singer,': 9597, 'socially': 9598, 'solid,': 9599, 'sondra': 9600, 'sonny': 9601, 'strung': 9602, 'studio,': 9603, 'switches': 9604, 't&a': 9605, 'talents.': 9606, 'tcm': 9607, 'tightly': 9608, 'torture,': 9609, 'transported': 9610, 'traumatic': 9611, 'tripe': 9612, 'turkey.': 9613, 'turns,': 9614, \"tv's\": 9615, 'vain': 9616, 'variation': 9617, 'wagner': 9618, 'wall,': 9619, 'wesley': 9620, \"who'd\": 9621, 'wire': 9622, 'would.': 9623, 'youth,': 9624, '\"i\\'ll': 9625, '\"is': 9626, '\"night': 9627, '\"real': 9628, '\"white': 9629, '(and,': 9630, '(something': 9631, '),': 9632, '/>before': 9633, '/>okay,': 9634, '/>those': 9635, '1971': 9636, '2002': 9637, '2007': 9638, '7/10.': 9639, '75': 9640, 'aaron': 9641, 'absorbed': 9642, 'actually.': 9643, 'addressed': 9644, 'affecting': 9645, \"altman's\": 9646, 'am,': 9647, 'animals.': 9648, 'answered': 9649, 'anytime': 9650, 'are:': 9651, 'arrow': 9652, 'article': 9653, 'auto': 9654, 'axe': 9655, 'beautifully.': 9656, 'belief.': 9657, 'belt': 9658, 'biker': 9659, 'bikini': 9660, 'bonnie': 9661, 'bothers': 9662, 'bsg': 9663, 'building.': 9664, 'burke': 9665, 'busby': 9666, 'candidate': 9667, 'cannes': 9668, 'cares?': 9669, 'carlos': 9670, 'cartoons,': 9671, 'circa': 9672, 'cliched': 9673, 'clunky': 9674, 'cohen': 9675, 'college.': 9676, 'coming.': 9677, 'commentary,': 9678, 'community,': 9679, 'condemned': 9680, 'connie': 9681, 'contestant': 9682, 'contestants': 9683, 'contrast,': 9684, 'county': 9685, 'creasy': 9686, 'crossed': 9687, 'cut,': 9688, 'defy': 9689, 'developed,': 9690, 'directed.': 9691, 'disgust': 9692, 'distinctly': 9693, 'district': 9694, 'dramatic,': 9695, 'earns': 9696, 'efforts.': 9697, 'elsewhere': 9698, 'energy.': 9699, 'entirety': 9700, 'entrance': 9701, 'entries': 9702, 'examine': 9703, 'expresses': 9704, 'factual': 9705, 'failed.': 9706, 'fake,': 9707, 'families.': 9708, 'fare.': 9709, 'file': 9710, 'flew': 9711, 'fools': 9712, 'formula.': 9713, 'ghetto': 9714, \"girls'\": 9715, 'grandma': 9716, 'han': 9717, \"hartley's\": 9718, 'hysterically': 9719, 'imaginary': 9720, 'immediately.': 9721, 'incredible,': 9722, 'instances': 9723, 'intentional': 9724, 'interviewed': 9725, 'irritated': 9726, 'it!!': 9727, 'jack,': 9728, 'jane,': 9729, 'jedi': 9730, 'joker': 9731, 'keys': 9732, \"kids'\": 9733, 'knocking': 9734, 'laughter,': 9735, 'laughter.': 9736, 'likable.': 9737, 'lingering': 9738, 'liu': 9739, 'lovers,': 9740, 'loy': 9741, 'ludicrous.': 9742, 'lunch': 9743, 'mae': 9744, 'manic': 9745, 'meteor': 9746, 'middle-class': 9747, 'misunderstood': 9748, 'momentum': 9749, 'mouths': 9750, 'muslims': 9751, 'mythical': 9752, 'not?': 9753, 'occult': 9754, 'offend': 9755, 'officially': 9756, 'one:': 9757, 'only,': 9758, 'orphan': 9759, 'others.<br': 9760, 'owner,': 9761, 'oz': 9762, 'painter': 9763, 'paintings': 9764, \"palma's\": 9765, 'park.': 9766, 'partner,': 9767, 'pedestrian': 9768, 'pegg': 9769, 'people\"': 9770, 'pieces.': 9771, 'pilots': 9772, 'plague.': 9773, 'plagued': 9774, 'pleasure.': 9775, 'pretentious,': 9776, 'priceless': 9777, 'principals': 9778, 'progresses': 9779, 'projected': 9780, 'protagonist,': 9781, 'protective': 9782, 'puppy': 9783, 'puzzle': 9784, 'queen,': 9785, 'questions,': 9786, 'race,': 9787, 'rambling': 9788, 'recently.': 9789, 'recover': 9790, 'redneck': 9791, 'reject': 9792, 'representing': 9793, 'respect,': 9794, 'riff': 9795, 'right.<br': 9796, 'ring,': 9797, 'robbed': 9798, 'robertson': 9799, 'rookie': 9800, 'ruled': 9801, 'scares,': 9802, 'scorsese': 9803, 'see.<br': 9804, 'sentimentality': 9805, 'sentinel': 9806, 'shore': 9807, 'shoved': 9808, 'show!': 9809, 'shown.': 9810, \"sister's\": 9811, 'slower': 9812, 'snowy': 9813, 'soul,': 9814, 'stabs': 9815, 'state.': 9816, 'sunk': 9817, 'surface,': 9818, 'swallow': 9819, 't.': 9820, 'tackle': 9821, 'talk.': 9822, 'theaters,': 9823, 'thelma': 9824, 'theories': 9825, 'todays': 9826, 'touch.': 9827, 'ultimatum': 9828, 'uncertain': 9829, 'used,': 9830, 'valid': 9831, 'varying': 9832, 'war.<br': 9833, 'werewolves': 9834, 'whatever.': 9835, 'wielding': 9836, 'wig': 9837, 'wong': 9838, 'woods.': 9839, '\"best': 9840, '\"dark': 9841, '\"dead': 9842, '(is': 9843, '(whose': 9844, '/>everything': 9845, '/>technically': 9846, '1995': 9847, '1997': 9848, '21': 9849, '300': 9850, 'accidental': 9851, 'adult,': 9852, 'aesthetic': 9853, 'africa.': 9854, 'agony': 9855, 'ali': 9856, 'alley': 9857, 'americans,': 9858, 'are.<br': 9859, 'armstrong': 9860, 'arquette': 9861, 'available.': 9862, 'berkeley': 9863, 'bitch': 9864, 'book.<br': 9865, 'borrows': 9866, 'brett': 9867, 'britney': 9868, 'brooke': 9869, 'budgets': 9870, 'burgess': 9871, 'burnt': 9872, 'cartoon,': 9873, 'cliches': 9874, 'colleagues': 9875, 'college,': 9876, 'come,': 9877, 'comprised': 9878, 'controversy': 9879, 'corn': 9880, 'count.': 9881, 'crashed': 9882, 'crowded': 9883, 'day\"': 9884, 'deal.': 9885, 'decline': 9886, 'degrees': 9887, 'devotion': 9888, 'disco': 9889, 'disney,': 9890, 'document': 9891, 'dominic': 9892, 'drab': 9893, 'duvall': 9894, 'dwight': 9895, 'dynamics': 9896, 'edge.': 9897, 'encourages': 9898, 'enough.<br': 9899, 'especially,': 9900, 'event.': 9901, 'fairbanks': 9902, 'fascist': 9903, 'fassbinder': 9904, 'fatale': 9905, 'favor,': 9906, 'feast': 9907, 'fiery': 9908, 'fishburne': 9909, 'flowing': 9910, 'fright': 9911, 'fuel': 9912, 'fulfill': 9913, 'galaxy': 9914, 'given.': 9915, 'gods': 9916, 'goldblum': 9917, 'govinda': 9918, 'half-way': 9919, 'happening,': 9920, 'highway': 9921, 'hip-hop': 9922, 'hippies': 9923, 'imaginable': 9924, 'increase': 9925, 'inexperienced': 9926, 'interplay': 9927, 'invention': 9928, 'irving': 9929, 'isabelle': 9930, 'it!<br': 9931, 'iv': 9932, 'janet': 9933, 'jar': 9934, 'jersey': 9935, 'journey,': 9936, 'jr': 9937, 'kelly,': 9938, 'killers.': 9939, 'kirsten': 9940, 'knightley': 9941, 'krueger': 9942, 'lars': 9943, 'lds': 9944, 'linear': 9945, 'locate': 9946, 'location,': 9947, 'locations.': 9948, 'longoria': 9949, 'manipulate': 9950, 'marisa': 9951, 'mark,': 9952, 'market.': 9953, 'mention,': 9954, 'mine,': 9955, 'modern-day': 9956, 'narrative,': 9957, 'needed.': 9958, 'nightclub': 9959, 'niven': 9960, 'norm': 9961, 'notices': 9962, \"o'hara\": 9963, 'observation': 9964, 'on?': 9965, 'original.<br': 9966, 'oscar-winning': 9967, 'outstanding,': 9968, 'overshadowed': 9969, 'owe': 9970, 'paired': 9971, 'parrot': 9972, 'phase': 9973, 'phones': 9974, 'plate': 9975, 'plotting': 9976, 'pocket': 9977, 'policy': 9978, 'politicians': 9979, 'portuguese': 9980, 'preachy': 9981, 'prefers': 9982, 'pressed': 9983, 'proceedings.': 9984, 'prolific': 9985, 'question:': 9986, 'questions.': 9987, 'rampant': 9988, 'replacement': 9989, 'replacing': 9990, 'repulsive': 9991, 'retrieve': 9992, 'reunited': 9993, 'rivers': 9994, 'sammy': 9995, 'sarandon': 9996, 'seconds.': 9997, 'secure': 9998, 'seeing,': 9999, 'self-indulgent': 10000, 'sequels,': 10001})\n"
          ],
          "name": "stdout"
        }
      ]
    },
    {
      "cell_type": "markdown",
      "metadata": {
        "id": "gpE36aHzzOA2",
        "colab_type": "text"
      },
      "source": [
        "TEXT.vocab.vectors의 크기를 확인하여 임베딩 벡터의 개수와 각 벡터의 차원을 확인해봅시다."
      ]
    },
    {
      "cell_type": "code",
      "metadata": {
        "id": "sPyf4n0VzMlm",
        "colab_type": "code",
        "outputId": "b37fb004-f3d6-453e-d073-73063a85c9cc",
        "colab": {
          "base_uri": "https://localhost:8080/",
          "height": 35
        }
      },
      "source": [
        "print('임베딩 벡터의 개수와 차원 : {} '.format(TEXT.vocab.vectors.shape))"
      ],
      "execution_count": 0,
      "outputs": [
        {
          "output_type": "stream",
          "text": [
            "임베딩 벡터의 개수와 차원 : torch.Size([10002, 300]) \n"
          ],
          "name": "stdout"
        }
      ]
    },
    {
      "cell_type": "markdown",
      "metadata": {
        "id": "1xnYSriZzQlG",
        "colab_type": "text"
      },
      "source": [
        "현재 임베딩 벡터는 총 10,002개가 존재하며 각 단어는 300차원을 가집니다. 앞선 예와 동일하게 TEXT.vocab.vectors[인덱스]를 통해서 각 단어의 임베딩 벡터값을 출력해봅시다. '< unk >', '< pad >', 'this', 그리고 'self-indulgent'의 임베딩 벡터를 확인해보겠습니다. 우선 < unk >의 임베딩 벡터값을 확인해봅시다."
      ]
    },
    {
      "cell_type": "code",
      "metadata": {
        "id": "Lzzaa4GczPYc",
        "colab_type": "code",
        "outputId": "186e6964-ead6-4a08-e69b-62351b588ee7",
        "colab": {
          "base_uri": "https://localhost:8080/",
          "height": 251
        }
      },
      "source": [
        "print(TEXT.vocab.vectors[0]) # <unk>의 임베딩 벡터값"
      ],
      "execution_count": 0,
      "outputs": [
        {
          "output_type": "stream",
          "text": [
            "tensor([0., 0., 0., 0., 0., 0., 0., 0., 0., 0., 0., 0., 0., 0., 0., 0., 0., 0., 0., 0., 0., 0., 0., 0.,\n",
            "        0., 0., 0., 0., 0., 0., 0., 0., 0., 0., 0., 0., 0., 0., 0., 0., 0., 0., 0., 0., 0., 0., 0., 0.,\n",
            "        0., 0., 0., 0., 0., 0., 0., 0., 0., 0., 0., 0., 0., 0., 0., 0., 0., 0., 0., 0., 0., 0., 0., 0.,\n",
            "        0., 0., 0., 0., 0., 0., 0., 0., 0., 0., 0., 0., 0., 0., 0., 0., 0., 0., 0., 0., 0., 0., 0., 0.,\n",
            "        0., 0., 0., 0., 0., 0., 0., 0., 0., 0., 0., 0., 0., 0., 0., 0., 0., 0., 0., 0., 0., 0., 0., 0.,\n",
            "        0., 0., 0., 0., 0., 0., 0., 0., 0., 0., 0., 0., 0., 0., 0., 0., 0., 0., 0., 0., 0., 0., 0., 0.,\n",
            "        0., 0., 0., 0., 0., 0., 0., 0., 0., 0., 0., 0., 0., 0., 0., 0., 0., 0., 0., 0., 0., 0., 0., 0.,\n",
            "        0., 0., 0., 0., 0., 0., 0., 0., 0., 0., 0., 0., 0., 0., 0., 0., 0., 0., 0., 0., 0., 0., 0., 0.,\n",
            "        0., 0., 0., 0., 0., 0., 0., 0., 0., 0., 0., 0., 0., 0., 0., 0., 0., 0., 0., 0., 0., 0., 0., 0.,\n",
            "        0., 0., 0., 0., 0., 0., 0., 0., 0., 0., 0., 0., 0., 0., 0., 0., 0., 0., 0., 0., 0., 0., 0., 0.,\n",
            "        0., 0., 0., 0., 0., 0., 0., 0., 0., 0., 0., 0., 0., 0., 0., 0., 0., 0., 0., 0., 0., 0., 0., 0.,\n",
            "        0., 0., 0., 0., 0., 0., 0., 0., 0., 0., 0., 0., 0., 0., 0., 0., 0., 0., 0., 0., 0., 0., 0., 0.,\n",
            "        0., 0., 0., 0., 0., 0., 0., 0., 0., 0., 0., 0.])\n"
          ],
          "name": "stdout"
        }
      ]
    },
    {
      "cell_type": "markdown",
      "metadata": {
        "id": "vyTZZu4PzUx1",
        "colab_type": "text"
      },
      "source": [
        "< unk >의 임베딩 벡터값은 0으로 초기화 된 상태입니다."
      ]
    },
    {
      "cell_type": "code",
      "metadata": {
        "id": "VloTYBf1zUU0",
        "colab_type": "code",
        "outputId": "07f4a071-0ed5-4d9f-d9f4-0b0ce490ce15",
        "colab": {
          "base_uri": "https://localhost:8080/",
          "height": 251
        }
      },
      "source": [
        "print(TEXT.vocab.vectors[1]) # <pad>의 임베딩 벡터값"
      ],
      "execution_count": 0,
      "outputs": [
        {
          "output_type": "stream",
          "text": [
            "tensor([0., 0., 0., 0., 0., 0., 0., 0., 0., 0., 0., 0., 0., 0., 0., 0., 0., 0., 0., 0., 0., 0., 0., 0.,\n",
            "        0., 0., 0., 0., 0., 0., 0., 0., 0., 0., 0., 0., 0., 0., 0., 0., 0., 0., 0., 0., 0., 0., 0., 0.,\n",
            "        0., 0., 0., 0., 0., 0., 0., 0., 0., 0., 0., 0., 0., 0., 0., 0., 0., 0., 0., 0., 0., 0., 0., 0.,\n",
            "        0., 0., 0., 0., 0., 0., 0., 0., 0., 0., 0., 0., 0., 0., 0., 0., 0., 0., 0., 0., 0., 0., 0., 0.,\n",
            "        0., 0., 0., 0., 0., 0., 0., 0., 0., 0., 0., 0., 0., 0., 0., 0., 0., 0., 0., 0., 0., 0., 0., 0.,\n",
            "        0., 0., 0., 0., 0., 0., 0., 0., 0., 0., 0., 0., 0., 0., 0., 0., 0., 0., 0., 0., 0., 0., 0., 0.,\n",
            "        0., 0., 0., 0., 0., 0., 0., 0., 0., 0., 0., 0., 0., 0., 0., 0., 0., 0., 0., 0., 0., 0., 0., 0.,\n",
            "        0., 0., 0., 0., 0., 0., 0., 0., 0., 0., 0., 0., 0., 0., 0., 0., 0., 0., 0., 0., 0., 0., 0., 0.,\n",
            "        0., 0., 0., 0., 0., 0., 0., 0., 0., 0., 0., 0., 0., 0., 0., 0., 0., 0., 0., 0., 0., 0., 0., 0.,\n",
            "        0., 0., 0., 0., 0., 0., 0., 0., 0., 0., 0., 0., 0., 0., 0., 0., 0., 0., 0., 0., 0., 0., 0., 0.,\n",
            "        0., 0., 0., 0., 0., 0., 0., 0., 0., 0., 0., 0., 0., 0., 0., 0., 0., 0., 0., 0., 0., 0., 0., 0.,\n",
            "        0., 0., 0., 0., 0., 0., 0., 0., 0., 0., 0., 0., 0., 0., 0., 0., 0., 0., 0., 0., 0., 0., 0., 0.,\n",
            "        0., 0., 0., 0., 0., 0., 0., 0., 0., 0., 0., 0.])\n"
          ],
          "name": "stdout"
        }
      ]
    },
    {
      "cell_type": "markdown",
      "metadata": {
        "id": "-Mpga8zPzZSo",
        "colab_type": "text"
      },
      "source": [
        "마찬가지로 < pad >의 임베딩 벡터값 또한 0으로 초기화 된 상태입니다. < unk >와 < pad >는 실제 단어가 아닌 특별 토큰이기 때문입니다. 단어 'this'의 임베딩 벡터값을 확인해봅시다."
      ]
    },
    {
      "cell_type": "code",
      "metadata": {
        "id": "I4AiYiSazYRp",
        "colab_type": "code",
        "outputId": "a242b826-44b4-4822-ad3c-ca27d1b1dda6",
        "colab": {
          "base_uri": "https://localhost:8080/",
          "height": 1000
        }
      },
      "source": [
        "print(TEXT.vocab.vectors[10]) # this의 임베딩 벡터값"
      ],
      "execution_count": 0,
      "outputs": [
        {
          "output_type": "stream",
          "text": [
            "tensor([-2.0437e-01,  1.6431e-01,  4.1794e-02, -1.3708e-01, -2.9779e-01,\n",
            "         3.3440e-01, -6.9955e-02, -6.8036e-02,  1.0604e-01, -2.0337e+00,\n",
            "         1.7977e-01, -7.7403e-02, -1.9518e-01,  1.8324e-01,  3.0017e-02,\n",
            "        -5.4762e-02, -4.5725e-01, -2.4509e-02,  5.7387e-02, -3.4878e-01,\n",
            "         3.9696e-02,  4.4826e-01, -5.8462e-02,  4.1181e-01, -3.5411e-02,\n",
            "        -1.4722e-01,  1.0740e-01, -2.5896e-01, -1.1658e-01,  1.9822e-01,\n",
            "         3.2850e-01,  2.4177e-01, -5.7177e-01, -5.6442e-02, -9.6437e-01,\n",
            "         3.4482e-01,  5.4639e-02,  2.3828e-01, -1.9139e-01,  3.0899e-01,\n",
            "         2.8044e-01, -3.3814e-02, -2.5436e-01,  1.5373e-02,  1.6341e-01,\n",
            "         2.6352e-01,  1.5812e-01,  3.2044e-01, -2.3082e-01,  2.6050e-01,\n",
            "         2.0606e-01, -8.9769e-02, -1.0055e-01,  7.0378e-02, -2.7452e-02,\n",
            "         2.7959e-01, -9.5862e-02,  2.0574e-01,  2.9522e-01, -1.2285e-02,\n",
            "         1.1164e-01, -5.1373e-02,  4.6106e-01,  2.3014e-02, -3.7141e-01,\n",
            "        -2.4166e-01,  3.3773e-02,  3.6827e-02,  1.6918e-01, -1.0802e-01,\n",
            "        -1.0691e-01,  1.0219e-01,  1.0065e-01,  5.5907e-02, -2.7402e-01,\n",
            "        -1.3689e-01,  4.2095e-01, -2.4060e-02, -3.2099e-01,  3.2065e-01,\n",
            "        -1.6776e-01,  1.0170e-01,  7.4999e-02, -1.0486e-01,  3.7114e-01,\n",
            "         3.2972e-01, -3.3043e-01,  3.8343e-01,  2.4555e-01,  2.0386e-01,\n",
            "        -4.1919e-01,  1.1570e-01, -7.8632e-02, -4.3171e-01, -2.3550e-02,\n",
            "        -1.1618e-01, -2.5605e-01,  3.4693e-01,  2.0398e-01, -1.7857e-01,\n",
            "         1.7301e-01,  4.6408e-02, -1.0486e-01,  9.8706e-02, -3.2077e-02,\n",
            "        -3.0462e-01,  1.2826e-01,  6.7985e-02, -2.5993e-01,  3.8041e-01,\n",
            "         4.5252e-02, -9.1834e-02, -4.5206e-01, -1.2498e-01,  1.7515e-01,\n",
            "        -1.3551e-01, -2.0556e-03, -9.3906e-02, -2.8006e-02, -4.6975e-01,\n",
            "         8.4430e-03, -2.4092e-01,  1.6000e-01,  2.2063e-01,  3.6277e-01,\n",
            "        -6.7643e-02,  2.8755e-01,  1.2643e-01,  1.2202e-01,  1.0548e-01,\n",
            "         4.0249e-01,  2.9781e-01,  4.9507e-01, -1.1096e-01, -2.4472e-01,\n",
            "         1.8720e-01,  1.1156e-01,  1.5680e-02,  7.6296e-03,  1.4304e-01,\n",
            "        -2.9299e-01,  1.7912e-01,  1.1604e-02, -5.6776e-02, -5.0224e-01,\n",
            "        -4.7262e-01,  1.5790e-01,  3.1573e-01, -7.7839e-02,  3.5172e-01,\n",
            "         1.6097e-01, -2.2595e-01,  2.4629e-01, -3.8200e-02,  6.4918e-01,\n",
            "         5.9545e-02, -5.0641e-02,  1.9511e-01, -6.8791e-02, -1.5146e-01,\n",
            "         1.2101e-02, -4.5943e-01,  1.4300e-02, -8.7461e-02, -3.2711e-02,\n",
            "         2.4036e-01,  1.7293e-02,  1.1340e-01, -3.4248e-02,  5.0351e-02,\n",
            "         9.3530e-02, -6.4975e-02, -8.5025e-01, -1.3809e-01, -3.4919e-01,\n",
            "        -2.0540e-02, -3.7268e-01,  4.7773e-02,  4.7216e-02,  2.3236e-01,\n",
            "         1.3777e-01,  2.4962e-01,  1.3133e-01,  4.7732e-02,  4.4829e-02,\n",
            "        -1.3243e-01, -1.6702e-01,  2.1045e-01, -4.0940e-02,  3.1555e-01,\n",
            "        -5.1593e-01,  1.0297e-01,  2.9704e-01,  1.6769e-02, -2.1701e-02,\n",
            "         5.7481e-03,  6.0955e-02, -2.2314e-02,  1.6080e-01, -2.1614e-01,\n",
            "         1.0959e+00, -4.0587e-01, -1.4514e-01, -1.3610e-01,  1.1280e-01,\n",
            "         1.7697e-01, -6.5900e-02, -1.3467e-01, -5.1049e-02, -2.8790e-01,\n",
            "        -3.9537e-01,  7.9347e-02,  5.7817e-01, -1.2027e-02, -1.2462e-01,\n",
            "         4.0711e-02,  1.3596e-02,  2.0398e-01,  9.5604e-02,  6.8153e-03,\n",
            "         2.5994e-01, -1.0152e-01, -3.8128e-01,  4.2629e-01,  1.8734e-01,\n",
            "         7.3060e-03,  6.0062e-01,  2.1663e-01,  2.3836e-02,  1.2912e-02,\n",
            "        -3.0333e-01,  3.1381e-01, -2.6096e-02, -3.8907e-01,  5.5081e-02,\n",
            "        -5.0901e-02,  2.5939e-01, -2.6417e-01,  2.0716e-01,  2.2498e-01,\n",
            "         1.9117e-01,  1.2614e-01,  1.4713e-01,  1.0489e-01, -1.1291e+00,\n",
            "        -8.1722e-02,  1.2693e-01,  1.5365e-01, -8.2781e-02, -3.5168e-01,\n",
            "         1.7873e-01, -9.7911e-02, -2.5831e-01,  9.0010e-03,  3.9271e-01,\n",
            "         9.9305e-02,  2.0227e-02,  9.2149e-03,  3.3352e-01, -7.1636e-02,\n",
            "        -5.9093e-02,  9.9506e-02,  3.1135e-01,  3.1324e-01, -1.0208e-01,\n",
            "        -6.0717e-02, -4.3183e-02, -8.3102e-02,  5.3218e-01, -1.6997e-01,\n",
            "         1.1647e-01, -1.0793e-01, -3.3692e-02,  1.6272e-01,  2.0517e-01,\n",
            "         1.1426e-01, -2.0803e+00, -4.4386e-03,  8.7898e-01,  4.7096e-01,\n",
            "        -2.7657e-01, -1.9387e-01, -9.8869e-02, -1.1244e-01, -1.4206e-01,\n",
            "         9.0613e-02, -1.8396e-01,  3.6844e-02, -1.9090e-01,  8.6006e-02,\n",
            "         9.2397e-04, -4.1547e-01, -7.7672e-02,  5.0569e-01,  2.4725e-01,\n",
            "         2.4119e-01, -1.3455e-01, -3.4007e-01, -7.7146e-02, -8.4089e-02])\n"
          ],
          "name": "stdout"
        }
      ]
    },
    {
      "cell_type": "markdown",
      "metadata": {
        "id": "LF7Zda9xzdeS",
        "colab_type": "text"
      },
      "source": [
        "단어 'this'의 임베딩 벡터의 300개의 차원에는 모두 어떤 실수값이 들어가있습니다. 이는 이번에 다운로드 받은 단어 'this'의 사전 훈련된 임베딩 벡터값입니다. 'self-indulgent'의 임베딩 벡터값을 확인해보겠습니다."
      ]
    },
    {
      "cell_type": "code",
      "metadata": {
        "id": "Q1A6OUEyzccp",
        "colab_type": "code",
        "outputId": "83761263-39ab-469e-a6da-19cb84cf3fd7",
        "colab": {
          "base_uri": "https://localhost:8080/",
          "height": 251
        }
      },
      "source": [
        "print(TEXT.vocab.vectors[9999]) # seeing의 임베딩 벡터값"
      ],
      "execution_count": 0,
      "outputs": [
        {
          "output_type": "stream",
          "text": [
            "tensor([0., 0., 0., 0., 0., 0., 0., 0., 0., 0., 0., 0., 0., 0., 0., 0., 0., 0., 0., 0., 0., 0., 0., 0.,\n",
            "        0., 0., 0., 0., 0., 0., 0., 0., 0., 0., 0., 0., 0., 0., 0., 0., 0., 0., 0., 0., 0., 0., 0., 0.,\n",
            "        0., 0., 0., 0., 0., 0., 0., 0., 0., 0., 0., 0., 0., 0., 0., 0., 0., 0., 0., 0., 0., 0., 0., 0.,\n",
            "        0., 0., 0., 0., 0., 0., 0., 0., 0., 0., 0., 0., 0., 0., 0., 0., 0., 0., 0., 0., 0., 0., 0., 0.,\n",
            "        0., 0., 0., 0., 0., 0., 0., 0., 0., 0., 0., 0., 0., 0., 0., 0., 0., 0., 0., 0., 0., 0., 0., 0.,\n",
            "        0., 0., 0., 0., 0., 0., 0., 0., 0., 0., 0., 0., 0., 0., 0., 0., 0., 0., 0., 0., 0., 0., 0., 0.,\n",
            "        0., 0., 0., 0., 0., 0., 0., 0., 0., 0., 0., 0., 0., 0., 0., 0., 0., 0., 0., 0., 0., 0., 0., 0.,\n",
            "        0., 0., 0., 0., 0., 0., 0., 0., 0., 0., 0., 0., 0., 0., 0., 0., 0., 0., 0., 0., 0., 0., 0., 0.,\n",
            "        0., 0., 0., 0., 0., 0., 0., 0., 0., 0., 0., 0., 0., 0., 0., 0., 0., 0., 0., 0., 0., 0., 0., 0.,\n",
            "        0., 0., 0., 0., 0., 0., 0., 0., 0., 0., 0., 0., 0., 0., 0., 0., 0., 0., 0., 0., 0., 0., 0., 0.,\n",
            "        0., 0., 0., 0., 0., 0., 0., 0., 0., 0., 0., 0., 0., 0., 0., 0., 0., 0., 0., 0., 0., 0., 0., 0.,\n",
            "        0., 0., 0., 0., 0., 0., 0., 0., 0., 0., 0., 0., 0., 0., 0., 0., 0., 0., 0., 0., 0., 0., 0., 0.,\n",
            "        0., 0., 0., 0., 0., 0., 0., 0., 0., 0., 0., 0.])\n"
          ],
          "name": "stdout"
        }
      ]
    },
    {
      "cell_type": "markdown",
      "metadata": {
        "id": "1Kb_wmgzzf5h",
        "colab_type": "text"
      },
      "source": [
        "'self-indulgent'의 임베딩 벡터값은 0으로 초기화 된 상태입니다. 이는 이번에 다운로드받은 사전 훈련된 임베딩 벡터의 단어장에 단어 'self-indulgent'이 존재하지 않았기 때문입니다. 이제 이 임베딩 벡터들이 저장되어져 있는 TEXT.vocab.vectors를 nn.Embedding()의 초기화 입력으로 사용합니다."
      ]
    },
    {
      "cell_type": "code",
      "metadata": {
        "id": "S6TGdpaKzeyH",
        "colab_type": "code",
        "colab": {}
      },
      "source": [
        "embedding_layer = nn.Embedding.from_pretrained(TEXT.vocab.vectors, freeze=False)"
      ],
      "execution_count": 0,
      "outputs": []
    },
    {
      "cell_type": "code",
      "metadata": {
        "id": "8RRCjSO9zhkY",
        "colab_type": "code",
        "outputId": "58daa803-ad66-457d-c975-69e46981bec9",
        "colab": {
          "base_uri": "https://localhost:8080/",
          "height": 1000
        }
      },
      "source": [
        "embedding_layer(torch.LongTensor([10])) # 단어 this의 임베딩 벡터값"
      ],
      "execution_count": 0,
      "outputs": [
        {
          "output_type": "execute_result",
          "data": {
            "text/plain": [
              "tensor([[-2.0437e-01,  1.6431e-01,  4.1794e-02, -1.3708e-01, -2.9779e-01,\n",
              "          3.3440e-01, -6.9955e-02, -6.8036e-02,  1.0604e-01, -2.0337e+00,\n",
              "          1.7977e-01, -7.7403e-02, -1.9518e-01,  1.8324e-01,  3.0017e-02,\n",
              "         -5.4762e-02, -4.5725e-01, -2.4509e-02,  5.7387e-02, -3.4878e-01,\n",
              "          3.9696e-02,  4.4826e-01, -5.8462e-02,  4.1181e-01, -3.5411e-02,\n",
              "         -1.4722e-01,  1.0740e-01, -2.5896e-01, -1.1658e-01,  1.9822e-01,\n",
              "          3.2850e-01,  2.4177e-01, -5.7177e-01, -5.6442e-02, -9.6437e-01,\n",
              "          3.4482e-01,  5.4639e-02,  2.3828e-01, -1.9139e-01,  3.0899e-01,\n",
              "          2.8044e-01, -3.3814e-02, -2.5436e-01,  1.5373e-02,  1.6341e-01,\n",
              "          2.6352e-01,  1.5812e-01,  3.2044e-01, -2.3082e-01,  2.6050e-01,\n",
              "          2.0606e-01, -8.9769e-02, -1.0055e-01,  7.0378e-02, -2.7452e-02,\n",
              "          2.7959e-01, -9.5862e-02,  2.0574e-01,  2.9522e-01, -1.2285e-02,\n",
              "          1.1164e-01, -5.1373e-02,  4.6106e-01,  2.3014e-02, -3.7141e-01,\n",
              "         -2.4166e-01,  3.3773e-02,  3.6827e-02,  1.6918e-01, -1.0802e-01,\n",
              "         -1.0691e-01,  1.0219e-01,  1.0065e-01,  5.5907e-02, -2.7402e-01,\n",
              "         -1.3689e-01,  4.2095e-01, -2.4060e-02, -3.2099e-01,  3.2065e-01,\n",
              "         -1.6776e-01,  1.0170e-01,  7.4999e-02, -1.0486e-01,  3.7114e-01,\n",
              "          3.2972e-01, -3.3043e-01,  3.8343e-01,  2.4555e-01,  2.0386e-01,\n",
              "         -4.1919e-01,  1.1570e-01, -7.8632e-02, -4.3171e-01, -2.3550e-02,\n",
              "         -1.1618e-01, -2.5605e-01,  3.4693e-01,  2.0398e-01, -1.7857e-01,\n",
              "          1.7301e-01,  4.6408e-02, -1.0486e-01,  9.8706e-02, -3.2077e-02,\n",
              "         -3.0462e-01,  1.2826e-01,  6.7985e-02, -2.5993e-01,  3.8041e-01,\n",
              "          4.5252e-02, -9.1834e-02, -4.5206e-01, -1.2498e-01,  1.7515e-01,\n",
              "         -1.3551e-01, -2.0556e-03, -9.3906e-02, -2.8006e-02, -4.6975e-01,\n",
              "          8.4430e-03, -2.4092e-01,  1.6000e-01,  2.2063e-01,  3.6277e-01,\n",
              "         -6.7643e-02,  2.8755e-01,  1.2643e-01,  1.2202e-01,  1.0548e-01,\n",
              "          4.0249e-01,  2.9781e-01,  4.9507e-01, -1.1096e-01, -2.4472e-01,\n",
              "          1.8720e-01,  1.1156e-01,  1.5680e-02,  7.6296e-03,  1.4304e-01,\n",
              "         -2.9299e-01,  1.7912e-01,  1.1604e-02, -5.6776e-02, -5.0224e-01,\n",
              "         -4.7262e-01,  1.5790e-01,  3.1573e-01, -7.7839e-02,  3.5172e-01,\n",
              "          1.6097e-01, -2.2595e-01,  2.4629e-01, -3.8200e-02,  6.4918e-01,\n",
              "          5.9545e-02, -5.0641e-02,  1.9511e-01, -6.8791e-02, -1.5146e-01,\n",
              "          1.2101e-02, -4.5943e-01,  1.4300e-02, -8.7461e-02, -3.2711e-02,\n",
              "          2.4036e-01,  1.7293e-02,  1.1340e-01, -3.4248e-02,  5.0351e-02,\n",
              "          9.3530e-02, -6.4975e-02, -8.5025e-01, -1.3809e-01, -3.4919e-01,\n",
              "         -2.0540e-02, -3.7268e-01,  4.7773e-02,  4.7216e-02,  2.3236e-01,\n",
              "          1.3777e-01,  2.4962e-01,  1.3133e-01,  4.7732e-02,  4.4829e-02,\n",
              "         -1.3243e-01, -1.6702e-01,  2.1045e-01, -4.0940e-02,  3.1555e-01,\n",
              "         -5.1593e-01,  1.0297e-01,  2.9704e-01,  1.6769e-02, -2.1701e-02,\n",
              "          5.7481e-03,  6.0955e-02, -2.2314e-02,  1.6080e-01, -2.1614e-01,\n",
              "          1.0959e+00, -4.0587e-01, -1.4514e-01, -1.3610e-01,  1.1280e-01,\n",
              "          1.7697e-01, -6.5900e-02, -1.3467e-01, -5.1049e-02, -2.8790e-01,\n",
              "         -3.9537e-01,  7.9347e-02,  5.7817e-01, -1.2027e-02, -1.2462e-01,\n",
              "          4.0711e-02,  1.3596e-02,  2.0398e-01,  9.5604e-02,  6.8153e-03,\n",
              "          2.5994e-01, -1.0152e-01, -3.8128e-01,  4.2629e-01,  1.8734e-01,\n",
              "          7.3060e-03,  6.0062e-01,  2.1663e-01,  2.3836e-02,  1.2912e-02,\n",
              "         -3.0333e-01,  3.1381e-01, -2.6096e-02, -3.8907e-01,  5.5081e-02,\n",
              "         -5.0901e-02,  2.5939e-01, -2.6417e-01,  2.0716e-01,  2.2498e-01,\n",
              "          1.9117e-01,  1.2614e-01,  1.4713e-01,  1.0489e-01, -1.1291e+00,\n",
              "         -8.1722e-02,  1.2693e-01,  1.5365e-01, -8.2781e-02, -3.5168e-01,\n",
              "          1.7873e-01, -9.7911e-02, -2.5831e-01,  9.0010e-03,  3.9271e-01,\n",
              "          9.9305e-02,  2.0227e-02,  9.2149e-03,  3.3352e-01, -7.1636e-02,\n",
              "         -5.9093e-02,  9.9506e-02,  3.1135e-01,  3.1324e-01, -1.0208e-01,\n",
              "         -6.0717e-02, -4.3183e-02, -8.3102e-02,  5.3218e-01, -1.6997e-01,\n",
              "          1.1647e-01, -1.0793e-01, -3.3692e-02,  1.6272e-01,  2.0517e-01,\n",
              "          1.1426e-01, -2.0803e+00, -4.4386e-03,  8.7898e-01,  4.7096e-01,\n",
              "         -2.7657e-01, -1.9387e-01, -9.8869e-02, -1.1244e-01, -1.4206e-01,\n",
              "          9.0613e-02, -1.8396e-01,  3.6844e-02, -1.9090e-01,  8.6006e-02,\n",
              "          9.2397e-04, -4.1547e-01, -7.7672e-02,  5.0569e-01,  2.4725e-01,\n",
              "          2.4119e-01, -1.3455e-01, -3.4007e-01, -7.7146e-02, -8.4089e-02]],\n",
              "       grad_fn=<EmbeddingBackward>)"
            ]
          },
          "metadata": {
            "tags": []
          },
          "execution_count": 65
        }
      ]
    },
    {
      "cell_type": "code",
      "metadata": {
        "id": "vMYsUFcazidB",
        "colab_type": "code",
        "colab": {}
      },
      "source": [
        ""
      ],
      "execution_count": 0,
      "outputs": []
    }
  ]
}