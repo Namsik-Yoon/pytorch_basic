{
  "nbformat": 4,
  "nbformat_minor": 0,
  "metadata": {
    "colab": {
      "name": "2-1. 선형회귀 with My data.ipynb",
      "provenance": [],
      "private_outputs": true,
      "authorship_tag": "ABX9TyNJIzALXLVleUgbXVnSJmRd",
      "include_colab_link": true
    },
    "kernelspec": {
      "name": "python3",
      "display_name": "Python 3"
    }
  },
  "cells": [
    {
      "cell_type": "markdown",
      "metadata": {
        "id": "view-in-github",
        "colab_type": "text"
      },
      "source": [
        "<a href=\"https://colab.research.google.com/github/Namsik-Yoon/pytorch_basic/blob/master/2_1_%EC%84%A0%ED%98%95%ED%9A%8C%EA%B7%80_with_My_data.ipynb\" target=\"_parent\"><img src=\"https://colab.research.google.com/assets/colab-badge.svg\" alt=\"Open In Colab\"/></a>"
      ]
    },
    {
      "cell_type": "markdown",
      "metadata": {
        "id": "IWZf_fuG4Im6",
        "colab_type": "text"
      },
      "source": [
        "pytorch 기초에서 사용한 boston 데이터셋을 바탕으로 선형회귀 모델 학습"
      ]
    },
    {
      "cell_type": "markdown",
      "metadata": {
        "id": "0uCNgNsL4c-R",
        "colab_type": "text"
      },
      "source": [
        "# Data Load"
      ]
    },
    {
      "cell_type": "code",
      "metadata": {
        "id": "Mg4iL4my4Z0x",
        "colab_type": "code",
        "colab": {}
      },
      "source": [
        "import pandas as pd\n",
        "from sklearn.datasets import load_boston\n",
        "\n",
        "boston = load_boston()"
      ],
      "execution_count": 0,
      "outputs": []
    },
    {
      "cell_type": "code",
      "metadata": {
        "id": "bexL3vne4hKB",
        "colab_type": "code",
        "colab": {}
      },
      "source": [
        "boston_df = pd.DataFrame(data=boston['data'],columns=boston['feature_names'])\n",
        "boston_df"
      ],
      "execution_count": 0,
      "outputs": []
    },
    {
      "cell_type": "markdown",
      "metadata": {
        "id": "hQO7aS0x7A6o",
        "colab_type": "text"
      },
      "source": [
        "scikit-learn이 제공하는 회귀 분석용 예제 데이터에 대해 소개한다. 먼저, 보스턴 주택 가격 데이터는 다음과 같이 구성되어 있다.\n",
        "\n",
        "\n",
        "\n",
        "*   타겟 데이터\n",
        "    * 1978 보스턴 주택 가격\n",
        "    * 506개 타운의 주택 가격 중앙값 (단위 1,000 달러)\n",
        "*   특징 데이터\n",
        "    * CRIM: 범죄율\n",
        "    * ZN: 25,000 평방피트를 초과 거주지역 비율\n",
        "    * INDUS: 비소매상업지역 면적 비율\n",
        "    * CHAS: 찰스강의 경계에 위치한 경우는 1, 아니면 0\n",
        "    * NOX: 일산화질소 농도\n",
        "    * RM: 주택당 방 수\n",
        "    * AGE: 1940년 이전에 건축된 주택의 비율\n",
        "    * DIS: 직업센터의 거리\n",
        "    * RAD: 방사형 고속도로까지의 거리\n",
        "    * TAX: 재산세율\n",
        "    * B: 인구 중 흑인 비율\n",
        "    * PTRATIO: 학생/교사 비율\n",
        "    * LSTAT: 인구 중 하위 계층 비율\n",
        "\n"
      ]
    },
    {
      "cell_type": "code",
      "metadata": {
        "id": "o1EKa4_YGNjM",
        "colab_type": "code",
        "colab": {}
      },
      "source": [
        "data = boston_df\n",
        "data = data.apply(\n",
        "    lambda x: (x - x.mean()) / x.std()\n",
        ")\n",
        "data['Price'] = boston['target']\n",
        "data"
      ],
      "execution_count": 0,
      "outputs": []
    },
    {
      "cell_type": "code",
      "metadata": {
        "id": "OtiYAHiiG8RL",
        "colab_type": "code",
        "colab": {}
      },
      "source": [
        "X,y = data.values[:,:-1],data.values[:,-1:]\n",
        "print(X.shape,y.shape)"
      ],
      "execution_count": 0,
      "outputs": []
    },
    {
      "cell_type": "markdown",
      "metadata": {
        "id": "M8a7CNcn8Mnr",
        "colab_type": "text"
      },
      "source": [
        "# Set Custom Dataset"
      ]
    },
    {
      "cell_type": "code",
      "metadata": {
        "id": "TmnUZdjj7auK",
        "colab_type": "code",
        "colab": {}
      },
      "source": [
        "import torch\n",
        "import torch.nn as nn\n",
        "import torch.nn.functional as F\n",
        "import torch.optim as optim\n",
        "\n",
        "from torch.utils.data import Dataset\n",
        "from torch.utils.data import DataLoader"
      ],
      "execution_count": 0,
      "outputs": []
    },
    {
      "cell_type": "code",
      "metadata": {
        "id": "kgBikoFJ8Qdm",
        "colab_type": "code",
        "colab": {}
      },
      "source": [
        "class MyDataset(Dataset):\n",
        "    def __init__(self):\n",
        "        self.x_data = torch.tensor(X,dtype=torch.float)\n",
        "        self.y_data = torch.tensor(y,dtype=torch.float)\n",
        "    def __len__(self):\n",
        "        return len(self.x_data)\n",
        "\n",
        "    def __getitem__(self,idx):\n",
        "        x = self.x_data[idx]\n",
        "        y = self.y_data[idx]\n",
        "        return x,y"
      ],
      "execution_count": 0,
      "outputs": []
    },
    {
      "cell_type": "code",
      "metadata": {
        "id": "3WIhn_gd9PLs",
        "colab_type": "code",
        "colab": {}
      },
      "source": [
        "dataset = MyDataset()\n",
        "dataloader = DataLoader(dataset, batch_size=len(dataset), shuffle=True)"
      ],
      "execution_count": 0,
      "outputs": []
    },
    {
      "cell_type": "code",
      "metadata": {
        "id": "9Zu2nE929RQp",
        "colab_type": "code",
        "colab": {}
      },
      "source": [
        "model = nn.Linear(13,1)\n",
        "optimizer = optim.SGD(model.parameters(), lr=0.05)"
      ],
      "execution_count": 0,
      "outputs": []
    },
    {
      "cell_type": "code",
      "metadata": {
        "id": "pocJgvu39cEv",
        "colab_type": "code",
        "colab": {}
      },
      "source": [
        "nb_epochs = 50\n",
        "for epoch in range(nb_epochs + 1):\n",
        "    for samples in dataloader:\n",
        "        # print(batch_idx)\n",
        "        # print(samples)\n",
        "        x_train, y_train = samples\n",
        "        # H(x) 계산\n",
        "        prediction = model(x_train)\n",
        "\n",
        "        # cost 계산\n",
        "        cost = F.mse_loss(prediction, y_train)\n",
        "\n",
        "        # cost로 H(x) 계산\n",
        "        optimizer.zero_grad()\n",
        "        cost.backward()\n",
        "        optimizer.step()\n",
        "\n",
        "    print('Epoch {:4d}/{} Cost: {:.6f}'.format(\n",
        "            epoch, nb_epochs,cost.item()))"
      ],
      "execution_count": 0,
      "outputs": []
    },
    {
      "cell_type": "code",
      "metadata": {
        "id": "PvQvjq2S9hWy",
        "colab_type": "code",
        "colab": {}
      },
      "source": [
        "from sklearn.linear_model import LinearRegression\n",
        "from sklearn.metrics import mean_squared_error"
      ],
      "execution_count": 0,
      "outputs": []
    },
    {
      "cell_type": "code",
      "metadata": {
        "id": "jJUpb8oIC6-5",
        "colab_type": "code",
        "colab": {}
      },
      "source": [
        "reg_model = LinearRegression()\n",
        "reg_model.fit(boston['data'],boston['target'])\n",
        "pred_y = reg_model.predict(boston['data'])"
      ],
      "execution_count": 0,
      "outputs": []
    },
    {
      "cell_type": "code",
      "metadata": {
        "id": "mu30W1_4DK3v",
        "colab_type": "code",
        "colab": {}
      },
      "source": [
        "mean_squared_error(boston['target'],pred_y )"
      ],
      "execution_count": 0,
      "outputs": []
    },
    {
      "cell_type": "code",
      "metadata": {
        "id": "MNLWz0JaDgGY",
        "colab_type": "code",
        "colab": {}
      },
      "source": [
        ""
      ],
      "execution_count": 0,
      "outputs": []
    }
  ]
}
