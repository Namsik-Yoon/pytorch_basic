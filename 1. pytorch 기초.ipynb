{
  "nbformat": 4,
  "nbformat_minor": 0,
  "metadata": {
    "kernelspec": {
      "display_name": "Python 3",
      "language": "python",
      "name": "python3"
    },
    "language_info": {
      "codemirror_mode": {
        "name": "ipython",
        "version": 3
      },
      "file_extension": ".py",
      "mimetype": "text/x-python",
      "name": "python",
      "nbconvert_exporter": "python",
      "pygments_lexer": "ipython3",
      "version": "3.7.4"
    },
    "colab": {
      "name": "Untitled.ipynb",
      "provenance": [],
      "toc_visible": true
    }
  },
  "cells": [
    {
      "cell_type": "markdown",
      "metadata": {
        "id": "n00dTEf6NwRO",
        "colab_type": "text"
      },
      "source": [
        "출처 : https://wikidocs.net/57168 에서 추가사항이 있을경우 따로 추가"
      ]
    },
    {
      "cell_type": "markdown",
      "metadata": {
        "id": "S9703ACDNwRP",
        "colab_type": "text"
      },
      "source": [
        "# 1. pytorch 기초\n",
        "기본적으로 pytorch(gpu) 및 기초 라이브러리가 깔려있고 기본적인 딥러닝 지식이 있다는 가정하에 진행합니다."
      ]
    },
    {
      "cell_type": "markdown",
      "metadata": {
        "id": "p0BkIty2NwRP",
        "colab_type": "text"
      },
      "source": [
        "## 1.1 pytorch 패키지의 기본 구성"
      ]
    },
    {
      "cell_type": "code",
      "metadata": {
        "id": "4s7v8lQzNwRQ",
        "colab_type": "code",
        "colab": {}
      },
      "source": [
        "\"\"\"\n",
        "1. pytorch\n",
        "메인 네임스페이스입니다. \n",
        "텐서 등의 다양한 수학 함수가 포함되어져 있으며 Numpy와 유사한 구조(함수명들이 거의 똑같음)를 가집니다.\n",
        "\"\"\"\n",
        "import torch"
      ],
      "execution_count": 0,
      "outputs": []
    },
    {
      "cell_type": "code",
      "metadata": {
        "id": "YT-hCElMNwRT",
        "colab_type": "code",
        "colab": {}
      },
      "source": [
        "\"\"\"\n",
        "2. torch.autograd\n",
        "자동 미분을 위한 함수들이 포함되어져 있습니다. \n",
        "자동 미분의 on/off를 제어하는 콘텍스트 매니저(enable_grad/no_grad)나 \n",
        "자체 미분 가능 함수를 정의할 때 사용하는 기반 클래스인 'Function' 등이 포함되어져 있습니다.\n",
        "\"\"\"\n",
        "import torch.autograd"
      ],
      "execution_count": 0,
      "outputs": []
    },
    {
      "cell_type": "code",
      "metadata": {
        "id": "s_QklwM6NwRV",
        "colab_type": "code",
        "colab": {}
      },
      "source": [
        "\"\"\"\n",
        "3. torch.nn\n",
        "신경망을 구축하기 위한 다양한 데이터 구조나 레이어 등이 정의되어져 있습니다. \n",
        "예를 들어 CNN, RNN, LSTM과 같은 레이어, ReLU와 같은 활성화 함수, MSELoss와 같은 손실 함수들이 있습니다.\n",
        "\"\"\"\n",
        "import torch.nn"
      ],
      "execution_count": 0,
      "outputs": []
    },
    {
      "cell_type": "code",
      "metadata": {
        "id": "mYMZogg2NwRX",
        "colab_type": "code",
        "colab": {}
      },
      "source": [
        "\"\"\"\n",
        "4. torch.optim\n",
        "확률적 경사 하강법(Stochastic Gradient Descent, SGD)를 중심으로 한 \n",
        "파라미터 최적화 알고리즘이 구현되어져 있습니다.\n",
        "\"\"\"\n",
        "import torch.optim"
      ],
      "execution_count": 0,
      "outputs": []
    },
    {
      "cell_type": "code",
      "metadata": {
        "id": "Q05VN802NwRZ",
        "colab_type": "code",
        "colab": {}
      },
      "source": [
        "\"\"\"\n",
        "5. torch.utils.data\n",
        "SGD의 반복 연산을 실행할 때 사용하는 미니 배치용 유틸리티 함수가 포함되어져 있습니다.\n",
        "\"\"\"\n",
        "import torch.utils.data"
      ],
      "execution_count": 0,
      "outputs": []
    },
    {
      "cell_type": "code",
      "metadata": {
        "id": "mQ16XpJxNwRb",
        "colab_type": "code",
        "colab": {}
      },
      "source": [
        "\"\"\"\n",
        "5. torch.onnx\n",
        "ONNX(Open Neural Network Exchange)의 포맷으로 모델을 익스포트(export)할 때 사용합니다. \n",
        "ONNX는 서로 다른 딥 러닝 프레임워크 간에 모델을 공유할 때 사용하는 포맷입니다.(사용해본적은 없습니다)\n",
        "\"\"\"\n",
        "import torch.onnx"
      ],
      "execution_count": 0,
      "outputs": []
    },
    {
      "cell_type": "markdown",
      "metadata": {
        "id": "OKeSd8XhNwRe",
        "colab_type": "text"
      },
      "source": [
        "이외에도 많은 내장 기능들이 있지만 모델을 만들면서 하나씩 알가가보겠습니다"
      ]
    },
    {
      "cell_type": "markdown",
      "metadata": {
        "id": "cTTERTNkNwRe",
        "colab_type": "text"
      },
      "source": [
        "## 1.2 텐서 조작하기(Tensor Manipulation) 1 \n",
        "\n",
        "이번 챕터에서 배울 내용에 대해서 프리뷰 해보겠습니다.\n",
        "\n",
        "벡터, 행렬, 텐서의 개념에 대해서 이해하고, Numpy와 파이토치로 벡터,행렬,텐서를 다루는 방법에 대해서 이해합니다.\n",
        "*   **벡터, 행렬 그리고 텐서(Vector, Matrix and Tensor)**\n",
        "> 딥러닝을 위한 가장 기본적인 수학적 지식인 벡터, 행렬, 텐서에 대해서 알아봅니다.\n",
        "\n",
        "\n",
        "*   **넘파이 훑어보기(Numpy Review)**\n",
        "> 파이토치는 파이썬 패키지 넘파이(Numpy)와 유사합니다. 따라서 넘파이에 대해서 간단히 살펴보겠습니다.\n",
        "\n",
        "\n",
        "*   **파이토치 텐서 선언하기(PyTorch Tensor Allocation)**\n",
        "> 넘파이로 실습을 해봤습니다. 이제 파이토치 텐서 선언 방법에 대해서 알아봅니다.\n",
        "\n",
        "\n",
        "*   **행렬 곱셈(Matrix Multiplication)**\n",
        "> 행렬 연산에 대해서 이해합니다.\n",
        "\n",
        "\n",
        "*   **다른 오퍼레이션들(Other Basic Ops)**\n",
        "> 다른 기본적인 오퍼레이션들에 대해서 이해해봅니다.\n",
        "\n",
        "\n",
        "\n",
        "\n",
        "\n"
      ]
    },
    {
      "cell_type": "markdown",
      "metadata": {
        "id": "toyJVNBnP7YA",
        "colab_type": "text"
      },
      "source": [
        "### 1.2.1 벡터, 행렬 그리고 텐서(Vector, Matrix and Tensor)\n",
        "\n",
        "**1) 벡터, 행렬, 텐서 그림으로 이해하기**\n",
        "\n",
        "\n",
        "![대체 텍스트](https://wikidocs.net/images/page/52460/tensor1.PNG)\n",
        "\n",
        "딥 러닝을 하게 되면 다루게 되는 가장 기본적인 단위는 벡터, 행렬, 텐서입니다. 차원이 없는 값을 스칼라(위의 그림에는 없음), 1차원으로 구성된 값을 우리는 벡터라고 합니다.\n",
        "\n",
        "2차원으로 구성된 값을 행렬(Matrix)라고 합니다. 그리고 3차원이 되면 우리는 텐서(Tensor)라고 부릅니다. 사실 우리는 3차원의 세상에 살고 있으므로, 4차원 이상부터는 머리로 생각하기는 어렵습니다. 4차원은 3차원의 텐서를 위로 쌓아 올린 모습으로 상상해보겠습니다.\n",
        "\n",
        "5차원은 그 4차원을 다시 옆으로 확장한 모습으로 생각해봅시다. 6차원은 5차원을 뒤로 확장한 모습으로 볼 수 있습니다.\n",
        "\n",
        "---------------------\n",
        "**2) PyTorch Tensor Shape Convention**\n",
        "\n",
        "사실 딥 러닝을 할때 다루고 있는 행렬 또는 텐서의 크기를 고려하는 것은 항상 중요합니다. 여기서는 앞으로 행렬과 텐서의 크기를 표현할 때 다음과 같은 방법으로 표기합니다. 앞으로 다루게 될 텐서 중 가장 전형적인 2차원 텐서를 예로 들어볼까요?\n",
        "\n",
        "* 2D Tensor(Typical Simple Setting)\n",
        "\n",
        "> |t| = (Batch size, dim)\n",
        "\n",
        "![대체 텍스트](https://wikidocs.net/images/page/52460/tensor2.PNG)\n",
        "\n",
        "> 위의 경우는 2차원 텐서의 크기 |t|를 (batch size × dimension)으로 표현하였을 경우입니다. 조금 쉽게 말하면, 아래의 그림과 같이 행렬에서 행의 크기가 batch size(row), 열의 크기가 dim(column)이라는 의미입니다.\n",
        "\n",
        "![대체 텍스트](https://wikidocs.net/images/page/52460/tensor3.PNG)\n",
        "\n",
        "\n"
      ]
    },
    {
      "cell_type": "code",
      "metadata": {
        "id": "I0JyGXLYSpGU",
        "colab_type": "code",
        "colab": {
          "base_uri": "https://localhost:8080/",
          "height": 210
        },
        "outputId": "3a831bdc-bafa-48f3-b2fa-ae55e7b79c5a"
      },
      "source": [
        "\"\"\"\n",
        "2D Tensor 예시\n",
        "iris dataset\n",
        "\"\"\"\n",
        "from sklearn.datasets import load_iris \n",
        "## 기본적 머신러닝 라이브러리 사이킷런에서 iris data를 가져옵니다\n",
        "\n",
        "iris = load_iris()\n",
        "print(iris.data.shape) ## row = 150, col = 5\n",
        "iris['data'][:10]"
      ],
      "execution_count": 34,
      "outputs": [
        {
          "output_type": "stream",
          "text": [
            "(150, 4)\n"
          ],
          "name": "stdout"
        },
        {
          "output_type": "execute_result",
          "data": {
            "text/plain": [
              "array([[5.1, 3.5, 1.4, 0.2],\n",
              "       [4.9, 3. , 1.4, 0.2],\n",
              "       [4.7, 3.2, 1.3, 0.2],\n",
              "       [4.6, 3.1, 1.5, 0.2],\n",
              "       [5. , 3.6, 1.4, 0.2],\n",
              "       [5.4, 3.9, 1.7, 0.4],\n",
              "       [4.6, 3.4, 1.4, 0.3],\n",
              "       [5. , 3.4, 1.5, 0.2],\n",
              "       [4.4, 2.9, 1.4, 0.2],\n",
              "       [4.9, 3.1, 1.5, 0.1]])"
            ]
          },
          "metadata": {
            "tags": []
          },
          "execution_count": 34
        }
      ]
    },
    {
      "cell_type": "markdown",
      "metadata": {
        "id": "AMeVSgBLUE6g",
        "colab_type": "text"
      },
      "source": [
        "* 3D Tensor(Typical Computer Vision)\n",
        "> |t| = (batch size, width, height)\n",
        "\n",
        "![대체 텍스트](https://wikidocs.net/images/page/52460/tensor4.PNG)\n",
        "\n",
        "> 일반적으로 자연어 처리보다 비전 분야(이미지, 영상 처리)를 하시게 된다면 좀 더 복잡한 텐서를 다루게 됩니다. 이미지라는 것은 가로, 세로라는 것이 존재합니다. 그리고 여러 장의 이미지, 그러니까 batch size로 구성하게 되면 아래와 같이 3차원의 텐서가 됩니다.\n",
        "\n",
        "![대체 텍스트](https://wikidocs.net/images/page/52460/tensor5.PNG)\n",
        "\n",
        "> 위의 그림은 세로는 batch size, 가로는 너비(width), 그리고 안쪽으로는 높이(height)가 되는 것을 보여줍니다.\n",
        "\n"
      ]
    },
    {
      "cell_type": "code",
      "metadata": {
        "id": "lImpnARQTJy-",
        "colab_type": "code",
        "colab": {
          "base_uri": "https://localhost:8080/",
          "height": 282
        },
        "outputId": "ec61e4fc-9097-4065-b60b-23d4938071e5"
      },
      "source": [
        "\"\"\"\n",
        "3D Tensor 예시(Computer vision)\n",
        "digits(mnist와 비슷) dataset\n",
        "\"\"\"\n",
        "from sklearn.datasets import load_digits\n",
        "import matplotlib.pyplot as plt\n",
        "\n",
        "\n",
        "mnist = load_digits()\n",
        "print(mnist['images'].shape)\n",
        "plt.imshow(mnist['images'][0])\n",
        "plt.show()"
      ],
      "execution_count": 31,
      "outputs": [
        {
          "output_type": "stream",
          "text": [
            "(1797, 8, 8)\n"
          ],
          "name": "stdout"
        },
        {
          "output_type": "display_data",
          "data": {
            "image/png": "[encoded data removed]",
            "text/plain": [
              "<Figure size 432x288 with 1 Axes>"
            ]
          },
          "metadata": {
            "tags": []
          }
        }
      ]
    },
    {
      "cell_type": "code",
      "metadata": {
        "id": "dCoVWisuV1Om",
        "colab_type": "code",
        "colab": {
          "base_uri": "https://localhost:8080/",
          "height": 72
        },
        "outputId": "a92aa869-ee30-4fcf-d414-002bcd9ef847"
      },
      "source": [
        "\"\"\"\n",
        "3D Tensor 예시(Typical Natural Language Processing)\n",
        "\"\"\"\n",
        "sentences = ['나는 사과를 좋아해','나는 바나나를 좋아해','나는 사과를 싫어해','나는 바나나를 싫어해']\n",
        "word_sentences = [x.split(' ') for x in sentences]\n",
        "print(word_sentences)\n",
        "\n",
        "my_bow = {'나는':[0.1, 0.2, 0.9],'사과를':[0.3, 0.5, 0.1],'좋아해':[0.3, 0.5, 0.2],'바나나를':[0.7, 0.6, 0.5],'싫어해':[0.5, 0.6, 0.7]}\n",
        "word2vec = [[my_bow[word] for word in sentence] for sentence in word_sentences]\n",
        "print(word2vec) ## 4x3x3짜리 텐서"
      ],
      "execution_count": 42,
      "outputs": [
        {
          "output_type": "stream",
          "text": [
            "[['나는', '사과를', '좋아해'], ['나는', '바나나를', '좋아해'], ['나는', '사과를', '싫어해'], ['나는', '바나나를', '싫어해']]\n",
            "[[[0.1, 0.2, 0.9], [0.3, 0.5, 0.1], [0.3, 0.5, 0.2]], [[0.1, 0.2, 0.9], [0.7, 0.6, 0.5], [0.3, 0.5, 0.2]], [[0.1, 0.2, 0.9], [0.3, 0.5, 0.1], [0.5, 0.6, 0.7]], [[0.1, 0.2, 0.9], [0.7, 0.6, 0.5], [0.5, 0.6, 0.7]]]\n"
          ],
          "name": "stdout"
        }
      ]
    },
    {
      "cell_type": "markdown",
      "metadata": {
        "id": "O81HtuAvaLZY",
        "colab_type": "text"
      },
      "source": [
        "### 1.2.2 넘파이로 텐서 만들기(벡터와 행렬 만들기)\n",
        "\n",
        "Pytorch로 텐서를 만들어보기 전에 우선 Numpy로 텐서를 만들어 보겠습니다. 우선 numpy를 불러옵니다"
      ]
    },
    {
      "cell_type": "code",
      "metadata": {
        "id": "FFWugQPyXSzb",
        "colab_type": "code",
        "colab": {}
      },
      "source": [
        "import numpy as np"
      ],
      "execution_count": 0,
      "outputs": []
    },
    {
      "cell_type": "markdown",
      "metadata": {
        "id": "KPuubSDJajxM",
        "colab_type": "text"
      },
      "source": [
        "1) 1D with Numpy\n",
        "\n",
        "Numpy로 1차원 벡터를 만들어보겠습니다."
      ]
    },
    {
      "cell_type": "code",
      "metadata": {
        "id": "0M8TNJi2aaLT",
        "colab_type": "code",
        "colab": {
          "base_uri": "https://localhost:8080/",
          "height": 34
        },
        "outputId": "254080ca-6b72-4ed3-9dff-27c82859c826"
      },
      "source": [
        "t = np.array([0., 1., 2., 3., 4., 5., 6.])\n",
        "# 파이썬으로 설명하면 list를 생성해서 np.array로 1차원 array로 변환함\n",
        "print(t)"
      ],
      "execution_count": 49,
      "outputs": [
        {
          "output_type": "stream",
          "text": [
            "[0. 1. 2. 3. 4. 5. 6.]\n"
          ],
          "name": "stdout"
        }
      ]
    },
    {
      "cell_type": "markdown",
      "metadata": {
        "id": "OcQsa-Hja5Ot",
        "colab_type": "text"
      },
      "source": [
        "이제 1차원 벡터의 차원과 크기를 출력해보겠습니다."
      ]
    },
    {
      "cell_type": "code",
      "metadata": {
        "id": "q-X1RET-a9IA",
        "colab_type": "code",
        "colab": {
          "base_uri": "https://localhost:8080/",
          "height": 52
        },
        "outputId": "dd35f51b-f73c-4566-fcbf-a978f8c2ae59"
      },
      "source": [
        "print('Rank of t: ', t.ndim) #1차원 벡터\n",
        "print('Shape of t: ', t.shape)"
      ],
      "execution_count": 50,
      "outputs": [
        {
          "output_type": "stream",
          "text": [
            "Rank of t:  1\n",
            "Shape of t:  (7,)\n"
          ],
          "name": "stdout"
        }
      ]
    },
    {
      "cell_type": "markdown",
      "metadata": {
        "id": "xtYcuZPfbSji",
        "colab_type": "text"
      },
      "source": [
        ".ndim은 몇 차원인지를 출력합니다. 1차원은 벡터, 2차원은 행렬, 3차원은 3차원 텐서였습니다. 현재는 벡터이므로 1차원이 출력됩니다. .shape는 크기를 출력합니다. (7, )는 (1, 7)을 의미합니다. 다시 말해 (1 × 7)의 크기를 가지는 벡터입니다."
      ]
    },
    {
      "cell_type": "markdown",
      "metadata": {
        "id": "CREcTuNPbXBq",
        "colab_type": "text"
      },
      "source": [
        "1-1) Numpy 기초 이해하기\n",
        "\n",
        "이제 Numpy에서 각 벡터의 원소에 접근하는 방법을 알아보겠습니다. Numpy에서 인덱스는 0부터 시작합니다."
      ]
    },
    {
      "cell_type": "code",
      "metadata": {
        "id": "FU5O_mtSbAEV",
        "colab_type": "code",
        "colab": {
          "base_uri": "https://localhost:8080/",
          "height": 34
        },
        "outputId": "0c8b1cec-07f0-482c-b82e-b7219edd78ce"
      },
      "source": [
        "print(f't[0] = {t[0]}, t[1] = {t[1]}, t[-1] = {t[-1]}') # 인덱스를 통한 원소 접근"
      ],
      "execution_count": 51,
      "outputs": [
        {
          "output_type": "stream",
          "text": [
            "t[0] = 0.0, t[1] = 1.0, t[-1] = 6.0\n"
          ],
          "name": "stdout"
        }
      ]
    },
    {
      "cell_type": "markdown",
      "metadata": {
        "id": "4_0rya6qbqKZ",
        "colab_type": "text"
      },
      "source": [
        "위의 결과는 0번 인덱스를 가진 원소인 0.0, 1번 인덱스를 가진 원소인 1.0, -1번 인덱스를 가진 원소인 6.0이 출력되는 것을 보여줍니다. -1번 인덱스는 맨 뒤에서부터 시작하는 인덱스입니다.\n",
        "\n",
        "범위 지정으로 원소를 불러올 수도 있습니다. 이를 슬라이싱(Slicing)이라고 합니다. 사용 방법은 [시작 번호 : 끝 번호]를 통해 사용합니다. 주의할 점은 슬라이싱은 [시작 번호 : 끝 번호]라고 했을 때, 끝 번호에 해당하는 것은 포함하지 않습니다."
      ]
    },
    {
      "cell_type": "code",
      "metadata": {
        "id": "J-O2DNk7bqsy",
        "colab_type": "code",
        "colab": {
          "base_uri": "https://localhost:8080/",
          "height": 34
        },
        "outputId": "1b8148b2-acb2-4254-8567-6b81337e1380"
      },
      "source": [
        "print(f't[2:5] = {t[2:5]}, t[4:-1]  = {t[4:-1]}') # [시작 번호 : 끝 번호]로 범위 지정을 통해 가져온다."
      ],
      "execution_count": 52,
      "outputs": [
        {
          "output_type": "stream",
          "text": [
            "t[2:5] = [2. 3. 4.], t[4:-1]  = [4. 5.]\n"
          ],
          "name": "stdout"
        }
      ]
    },
    {
      "cell_type": "markdown",
      "metadata": {
        "id": "S-AQVU6EcDJf",
        "colab_type": "text"
      },
      "source": [
        "1-2) 2D with Numpy\n",
        "\n",
        "Numpy로 2차원 행렬을 만들어보겠습니다."
      ]
    },
    {
      "cell_type": "code",
      "metadata": {
        "id": "fMNKESN7b9qY",
        "colab_type": "code",
        "colab": {
          "base_uri": "https://localhost:8080/",
          "height": 87
        },
        "outputId": "75208889-6a8a-4197-fc8a-ebdb858ef7f9"
      },
      "source": [
        "t = np.array([[1., 2., 3.], [4., 5., 6.], [7., 8., 9.], [10., 11., 12.]])\n",
        "print(t)"
      ],
      "execution_count": 53,
      "outputs": [
        {
          "output_type": "stream",
          "text": [
            "[[ 1.  2.  3.]\n",
            " [ 4.  5.  6.]\n",
            " [ 7.  8.  9.]\n",
            " [10. 11. 12.]]\n"
          ],
          "name": "stdout"
        }
      ]
    },
    {
      "cell_type": "code",
      "metadata": {
        "id": "u2WLmR1ocJjP",
        "colab_type": "code",
        "colab": {
          "base_uri": "https://localhost:8080/",
          "height": 52
        },
        "outputId": "2960c327-8f68-46bd-c2f9-29a9f835c6a0"
      },
      "source": [
        "print('Rank  of t: ', t.ndim)\n",
        "print('Shape of t: ', t.shape)"
      ],
      "execution_count": 54,
      "outputs": [
        {
          "output_type": "stream",
          "text": [
            "Rank  of t:  2\n",
            "Shape of t:  (4, 3)\n"
          ],
          "name": "stdout"
        }
      ]
    },
    {
      "cell_type": "markdown",
      "metadata": {
        "id": "uSzOu7r1cP4W",
        "colab_type": "text"
      },
      "source": [
        ".ndim은 몇 차원인지를 출력합니다. 1차원은 벡터, 2차원은 행렬, 3차원은 3차원 텐서였습니다. 현재는 행렬이므로 2차원이 출력됩니다. .shape는 크기를 출력합니다. (4, 3)입니다. 다른 표현으로는 (4 × 3)입니다. 이는 행렬이 4행 3열임을 의미합니다.\n",
        "\n",
        "Numpy로도 3차원 텐서도 만들 수는 있지만 이 시점에서 Numpy와 PyTorch를 비교하기 위해 PyTorch로 실습을 넘어갑니다."
      ]
    },
    {
      "cell_type": "markdown",
      "metadata": {
        "id": "GHdvpWXDcSrW",
        "colab_type": "text"
      },
      "source": [
        "### 1.2.3 파이토치 텐서 선언하기(PyTorch Tensor Allocation)\n",
        "\n",
        "파이토치는 Numpy와 매우 유사합니다. 하지만 더 낫습니다(better). 우선 torch를 임포트합니다."
      ]
    },
    {
      "cell_type": "code",
      "metadata": {
        "id": "7r9pfrCRcLM5",
        "colab_type": "code",
        "colab": {}
      },
      "source": [
        "import torch"
      ],
      "execution_count": 0,
      "outputs": []
    },
    {
      "cell_type": "markdown",
      "metadata": {
        "id": "8twPawWychfv",
        "colab_type": "text"
      },
      "source": [
        "Numpy를 사용하여 진행했던 실습을 파이토치로 똑같이 해봅시다."
      ]
    },
    {
      "cell_type": "markdown",
      "metadata": {
        "id": "ETN9wWU-ckFg",
        "colab_type": "text"
      },
      "source": [
        "1) 1D with Pytorch\n",
        "\n",
        "파이토치로 1차원 벡터를 만들어봅시다."
      ]
    },
    {
      "cell_type": "code",
      "metadata": {
        "id": "ygKKTjdycc84",
        "colab_type": "code",
        "colab": {
          "base_uri": "https://localhost:8080/",
          "height": 34
        },
        "outputId": "08013a13-2aa5-4a46-83e0-fd99946eabf1"
      },
      "source": [
        "t = torch.tensor([0., 1., 2., 3., 4., 5., 6.])\n",
        "print(t)"
      ],
      "execution_count": 57,
      "outputs": [
        {
          "output_type": "stream",
          "text": [
            "tensor([0., 1., 2., 3., 4., 5., 6.])\n"
          ],
          "name": "stdout"
        }
      ]
    },
    {
      "cell_type": "markdown",
      "metadata": {
        "id": "KP5SGNkjcwFY",
        "colab_type": "text"
      },
      "source": [
        "dim()을 사용하면 현재 텐서의 차원을 보여줍니다. shape나 size()를 사용하면 크기를 확인할 수 있습니다."
      ]
    },
    {
      "cell_type": "code",
      "metadata": {
        "id": "QLajEoDYcpWh",
        "colab_type": "code",
        "colab": {
          "base_uri": "https://localhost:8080/",
          "height": 70
        },
        "outputId": "41dbb5d6-e612-4da0-cc55-6de5249c2644"
      },
      "source": [
        "print(t.dim())  # rank. 즉, 차원\n",
        "print(t.shape)  # shape\n",
        "print(t.size()) # shape"
      ],
      "execution_count": 58,
      "outputs": [
        {
          "output_type": "stream",
          "text": [
            "1\n",
            "torch.Size([7])\n",
            "torch.Size([7])\n"
          ],
          "name": "stdout"
        }
      ]
    },
    {
      "cell_type": "markdown",
      "metadata": {
        "id": "poSuf_FIczPN",
        "colab_type": "text"
      },
      "source": [
        "현재 1차원 텐서이며, 원소는 7개입니다. 인덱스로 접근하는 것과 슬라이싱을 해봅시다. 방법은 Numpy 실습과 같습니다."
      ]
    },
    {
      "cell_type": "code",
      "metadata": {
        "id": "OALyADNuctIa",
        "colab_type": "code",
        "colab": {
          "base_uri": "https://localhost:8080/",
          "height": 70
        },
        "outputId": "6031e311-5e59-4c81-be96-dffea2bcd598"
      },
      "source": [
        "print(t[0], t[1], t[-1])  # 인덱스로 접근\n",
        "print(t[2:5], t[4:-1])    # 슬라이싱\n",
        "print(t[:2], t[3:])       # 슬라이싱"
      ],
      "execution_count": 59,
      "outputs": [
        {
          "output_type": "stream",
          "text": [
            "tensor(0.) tensor(1.) tensor(6.)\n",
            "tensor([2., 3., 4.]) tensor([4., 5.])\n",
            "tensor([0., 1.]) tensor([3., 4., 5., 6.])\n"
          ],
          "name": "stdout"
        }
      ]
    },
    {
      "cell_type": "markdown",
      "metadata": {
        "id": "rizJ2gk5c2bE",
        "colab_type": "text"
      },
      "source": [
        "2) 2D wuth Pytorch\n",
        "\n",
        "파이토치로 2차원 행렬을 만들어봅시다."
      ]
    },
    {
      "cell_type": "code",
      "metadata": {
        "id": "JDVbG-9Ic0sg",
        "colab_type": "code",
        "colab": {
          "base_uri": "https://localhost:8080/",
          "height": 87
        },
        "outputId": "76fcf187-ec70-4887-ca43-22a9b7d0e2a0"
      },
      "source": [
        "t = torch.tensor([[1., 2., 3.],\n",
        "                       [4., 5., 6.],\n",
        "                       [7., 8., 9.],\n",
        "                       [10., 11., 12.]\n",
        "                      ])\n",
        "print(t)"
      ],
      "execution_count": 60,
      "outputs": [
        {
          "output_type": "stream",
          "text": [
            "tensor([[ 1.,  2.,  3.],\n",
            "        [ 4.,  5.,  6.],\n",
            "        [ 7.,  8.,  9.],\n",
            "        [10., 11., 12.]])\n"
          ],
          "name": "stdout"
        }
      ]
    },
    {
      "cell_type": "code",
      "metadata": {
        "id": "pa8JzS8Fc7_N",
        "colab_type": "code",
        "colab": {
          "base_uri": "https://localhost:8080/",
          "height": 52
        },
        "outputId": "51132045-1d2b-4cfc-eb04-6af60d2e3531"
      },
      "source": [
        "print(t.dim())  # rank. 즉, 차원\n",
        "print(t.size()) # shape"
      ],
      "execution_count": 61,
      "outputs": [
        {
          "output_type": "stream",
          "text": [
            "2\n",
            "torch.Size([4, 3])\n"
          ],
          "name": "stdout"
        }
      ]
    },
    {
      "cell_type": "code",
      "metadata": {
        "id": "FBA2YCLMc-tN",
        "colab_type": "code",
        "colab": {
          "base_uri": "https://localhost:8080/",
          "height": 52
        },
        "outputId": "8daa6985-a2c8-409d-ffc2-ec5b42d59569"
      },
      "source": [
        "print(t[:, 1]) # 첫번째 차원을 전체 선택한 상황에서 두번째 차원의 첫번째 것만 가져온다.\n",
        "print(t[:, 1].size()) # ↑ 위의 경우의 크기"
      ],
      "execution_count": 62,
      "outputs": [
        {
          "output_type": "stream",
          "text": [
            "tensor([ 2.,  5.,  8., 11.])\n",
            "torch.Size([4])\n"
          ],
          "name": "stdout"
        }
      ]
    },
    {
      "cell_type": "code",
      "metadata": {
        "id": "ws6sH7hkdAGv",
        "colab_type": "code",
        "colab": {
          "base_uri": "https://localhost:8080/",
          "height": 87
        },
        "outputId": "c2d40900-443b-45aa-bf7e-f285a9abe0d0"
      },
      "source": [
        "print(t[:, :-1]) # 첫번째 차원을 전체 선택한 상황에서 두번째 차원에서는 맨 마지막에서 첫번째를 제외하고 다 가져온다."
      ],
      "execution_count": 63,
      "outputs": [
        {
          "output_type": "stream",
          "text": [
            "tensor([[ 1.,  2.],\n",
            "        [ 4.,  5.],\n",
            "        [ 7.,  8.],\n",
            "        [10., 11.]])\n"
          ],
          "name": "stdout"
        }
      ]
    },
    {
      "cell_type": "markdown",
      "metadata": {
        "id": "sDTCoj8kdIDF",
        "colab_type": "text"
      },
      "source": [
        "3) 브로드캐스팅(Broadcasting)\n",
        "\n",
        "두 행렬 A, B가 있다고 해봅시다. 행렬의 덧셈과 뺄셈에 대해 알고계신다면, 이 덧셈과 뺄셈을 할 때에는 두 행렬 A, B의 크기가 같아야한다는 것을 알고계실겁니다. 그리고 두 행렬이 곱셈을 할 때에는 A의 마지막 차원과 B의 첫번째 차원이 일치해야합니다.\n",
        "\n",
        "물론, 이런 규칙들이 있지만 딥 러닝을 하게되면 불가피하게 크기가 다른 행렬 또는 텐서에 대해서 사칙 연산을 수행할 필요가 있는 경우가 생깁니다. 이를 위해 파이토치에서는 자동으로 크기를 맞춰서 연산을 수행하게 만드는 브로드캐스팅이라는 기능을 제공합니다.\n",
        "\n",
        "우선 같은 크기일 때 연산을 하는 경우를 보겠습니다."
      ]
    },
    {
      "cell_type": "code",
      "metadata": {
        "id": "gFAptPctdGqv",
        "colab_type": "code",
        "colab": {
          "base_uri": "https://localhost:8080/",
          "height": 34
        },
        "outputId": "5321a372-5dd3-4abc-d085-aa256e7b7e07"
      },
      "source": [
        "m1 = torch.tensor([[3., 3.]])\n",
        "m2 = torch.tensor([[2., 2.]])\n",
        "print(m1 + m2)"
      ],
      "execution_count": 67,
      "outputs": [
        {
          "output_type": "stream",
          "text": [
            "tensor([[5., 5.]])\n"
          ],
          "name": "stdout"
        }
      ]
    },
    {
      "cell_type": "markdown",
      "metadata": {
        "id": "FJrRXGbMdhfp",
        "colab_type": "text"
      },
      "source": [
        "여기서 m1,과 m2의 크기는 둘 다 (1, 2)입니다. 그래서 문제없이 덧셈 연산이 가능합니다. 이번에는 크기가 다른 텐서들 간의 연산을 보겠습니다. 아래는 벡터와 스칼라가 덧셈 연산을 수행하는 것을 보여줍니다. 물론, 수학적으로는 원래 연산이 안 되는게 맞지만 파이토치에서는 브로드캐스팅을 통해 이를 연산합니다."
      ]
    },
    {
      "cell_type": "code",
      "metadata": {
        "id": "Hcg6WP4zdVCG",
        "colab_type": "code",
        "colab": {
          "base_uri": "https://localhost:8080/",
          "height": 34
        },
        "outputId": "5311d48a-5fa7-423d-9a1f-378ecf5ad952"
      },
      "source": [
        "# Vector + scalar\n",
        "m1 = torch.tensor([[1., 2]])\n",
        "m2 = torch.tensor([3]) # [3] -> [3, 3]\n",
        "print(m1 + m2)"
      ],
      "execution_count": 70,
      "outputs": [
        {
          "output_type": "stream",
          "text": [
            "tensor([[4., 5.]])\n"
          ],
          "name": "stdout"
        }
      ]
    },
    {
      "cell_type": "markdown",
      "metadata": {
        "id": "WEkSKKd_dvVI",
        "colab_type": "text"
      },
      "source": [
        "원래 m1의 크기는 (1, 2)이며 m2의 크기는 (1,)입니다. 그런데 파이토치는 m2의 크기를 (1, 2)로 변경하여 연산을 수행합니다. 이번에는 벡터 간 연산에서 브로드캐스팅이 적용되는 경우를 보겠습니다."
      ]
    },
    {
      "cell_type": "code",
      "metadata": {
        "id": "hrwjSdcFdj8P",
        "colab_type": "code",
        "colab": {
          "base_uri": "https://localhost:8080/",
          "height": 52
        },
        "outputId": "7ec44468-5da2-402c-c6b4-45f3fa883053"
      },
      "source": [
        "# 2 x 1 Vector + 1 x 2 Vector\n",
        "m1 = torch.FloatTensor([[1, 2]])\n",
        "m2 = torch.FloatTensor([[3], [4]])\n",
        "print(m1 + m2)"
      ],
      "execution_count": 71,
      "outputs": [
        {
          "output_type": "stream",
          "text": [
            "tensor([[4., 5.],\n",
            "        [5., 6.]])\n"
          ],
          "name": "stdout"
        }
      ]
    },
    {
      "cell_type": "markdown",
      "metadata": {
        "id": "xvdkCdeQd64R",
        "colab_type": "text"
      },
      "source": [
        "m1의 크기는 (1, 2) m2의 크기는 (2, 1)였습니다. 이 두 벡터는 원래 수학적으로는 덧셈을 수행할 수 없습니다. 그러나 파이토치는 두 벡터의 크기를 (2, 2)로 변경하여 덧셈을 수행합니다."
      ]
    },
    {
      "cell_type": "code",
      "metadata": {
        "id": "cQ1nrrqCdx3w",
        "colab_type": "code",
        "colab": {
          "base_uri": "https://localhost:8080/",
          "height": 52
        },
        "outputId": "4a352035-4949-48ea-e68a-3660306e46aa"
      },
      "source": [
        "# 브로드캐스팅 과정에서 실제로 두 텐서가 어떻게 변경되는지 보겠습니다.\n",
        "\"\"\"\n",
        "[1, 2]\n",
        "==> [[1, 2],\n",
        "     [1, 2]]\n",
        "[3]\n",
        "[4]\n",
        "==> [[3, 3],\n",
        "     [4, 4]]\n",
        "\"\"\"\n",
        "print(m1 + m2)"
      ],
      "execution_count": 73,
      "outputs": [
        {
          "output_type": "stream",
          "text": [
            "tensor([[4., 5.],\n",
            "        [5., 6.]])\n"
          ],
          "name": "stdout"
        }
      ]
    },
    {
      "cell_type": "markdown",
      "metadata": {
        "id": "sLruK0sheRlQ",
        "colab_type": "text"
      },
      "source": [
        "브로드캐스팅은 편리하지만, 자동으로 실행되는 기능이므로 사용자 입장에서 굉장히 주의해서 사용해야 합니다. 예를 들어 A 텐서와 B 텐서가 있을 때, 사용자는 이 두 텐서의 크기가 같다고 착각하고 덧셈 연산을 수행했다고 가정해보겠습니다. 하지만 실제로 이 두 텐서의 크기는 달랐고 브로드캐스팅이 수행되어 덧셈 연산이 수행되었습니다. 만약, 두 텐서의 크기가 다르다고 에러를 발생시킨다면 사용자는 이 연산이 잘못되었음을 바로 알 수 있지만 브로드캐스팅은 자동으로 수행되므로 사용자는 나중에 원하는 결과가 나오지 않았더라도 어디서 문제가 발생했는지 찾기가 굉장히 어려울 수 있습니다."
      ]
    },
    {
      "cell_type": "markdown",
      "metadata": {
        "id": "iw_9ryBUeW7y",
        "colab_type": "text"
      },
      "source": [
        "4) 자주 사용되는 기능들\n",
        "\n",
        "4-1) 행렬 곱셈과 곱셈의 차이(Matrix Multiplication Vs. Multiplication)\n",
        "\n",
        "행렬로 곱셈을 하는 방법은 크게 두 가지가 있습니다. 바로 행렬 곱셈(.matmul)과 원소 별 곱셈(.mul)입니다.\n",
        "파이토치 텐서의 행렬 곱셈을 보겠습니다. 이는 matmul()을 통해 수행합니다."
      ]
    },
    {
      "cell_type": "code",
      "metadata": {
        "id": "QyOFNf5-d8dI",
        "colab_type": "code",
        "colab": {
          "base_uri": "https://localhost:8080/",
          "height": 87
        },
        "outputId": "bbbfbf27-286d-458e-d085-77225e8656ec"
      },
      "source": [
        "m1 = torch.FloatTensor([[1, 2], [3, 4]])\n",
        "m2 = torch.FloatTensor([[1], [2]])\n",
        "print('Shape of Matrix 1: ', m1.shape) # 2 x 2\n",
        "print('Shape of Matrix 2: ', m2.shape) # 2 x 1\n",
        "print(m1.matmul(m2)) # 2 x 1"
      ],
      "execution_count": 74,
      "outputs": [
        {
          "output_type": "stream",
          "text": [
            "Shape of Matrix 1:  torch.Size([2, 2])\n",
            "Shape of Matrix 2:  torch.Size([2, 1])\n",
            "tensor([[ 5.],\n",
            "        [11.]])\n"
          ],
          "name": "stdout"
        }
      ]
    },
    {
      "cell_type": "markdown",
      "metadata": {
        "id": "sRq-TamWemYG",
        "colab_type": "text"
      },
      "source": [
        "위의 결과는 2 x 2 행렬과 2 x 1 행렬(벡터)의 행렬 곱셈의 결과를 보여줍니다.\n",
        "\n",
        "행렬 곱셈이 아니라 element-wise 곱셈이라는 것이 존재합니다. 이는 동일한 크기의 행렬이 동일한 위치에 있는 원소끼리 곱하는 것을 말합니다. 아래는 서로 다른 크기의 행렬이 브로드캐스팅이 된 후에 element-wise 곱셈이 수행되는 것을 보여줍니다. 이는 * 또는 mul()을 통해 수행합니다."
      ]
    },
    {
      "cell_type": "code",
      "metadata": {
        "id": "5jJZGb_KeiFn",
        "colab_type": "code",
        "colab": {
          "base_uri": "https://localhost:8080/",
          "height": 122
        },
        "outputId": "f9a8963f-6a8e-4105-8252-733b60000f92"
      },
      "source": [
        "m1 = torch.FloatTensor([[1, 2], [3, 4]])\n",
        "m2 = torch.FloatTensor([[1], [2]])\n",
        "print('Shape of Matrix 1: ', m1.shape) # 2 x 2\n",
        "print('Shape of Matrix 2: ', m2.shape) # 2 x 1\n",
        "print(m1 * m2) # 2 x 2\n",
        "print(m1.mul(m2))"
      ],
      "execution_count": 75,
      "outputs": [
        {
          "output_type": "stream",
          "text": [
            "Shape of Matrix 1:  torch.Size([2, 2])\n",
            "Shape of Matrix 2:  torch.Size([2, 1])\n",
            "tensor([[1., 2.],\n",
            "        [6., 8.]])\n",
            "tensor([[1., 2.],\n",
            "        [6., 8.]])\n"
          ],
          "name": "stdout"
        }
      ]
    },
    {
      "cell_type": "markdown",
      "metadata": {
        "id": "KWGYzovWepak",
        "colab_type": "text"
      },
      "source": [
        "m1 행렬의 크기는 (2, 2)이었습니다. m2 행렬의 크기는 (2, 1)였습니다. 이때 element-wise 곱셈을 수행하면, 두 행렬의 크기는 브로드캐스팅이 된 후에 곱셈이 수행됩니다. 더 정확히는 여기서 m2의 크기가 변환됩니다."
      ]
    },
    {
      "cell_type": "markdown",
      "metadata": {
        "id": "fpEETK06e1za",
        "colab_type": "text"
      },
      "source": [
        "4-2) 평균(Mean)\n",
        "\n",
        "평균을 구하는 방법도 제공하고 있습니다. 이는 Numpy에서의 사용법과 매우 유사합니다.\n",
        "우선 1차원인 벡터를 선언하여 .mean()을 사용하여 원소의 평균을 구합니다."
      ]
    },
    {
      "cell_type": "code",
      "metadata": {
        "id": "_0n7lmSje5VH",
        "colab_type": "code",
        "colab": {
          "base_uri": "https://localhost:8080/",
          "height": 34
        },
        "outputId": "3d89cf78-7247-40e1-a7c0-d088bf4f0584"
      },
      "source": [
        "t = torch.FloatTensor([1, 2])\n",
        "print(t.mean())"
      ],
      "execution_count": 76,
      "outputs": [
        {
          "output_type": "stream",
          "text": [
            "tensor(1.5000)\n"
          ],
          "name": "stdout"
        }
      ]
    },
    {
      "cell_type": "markdown",
      "metadata": {
        "id": "70wx2P2Rgs5d",
        "colab_type": "text"
      },
      "source": [
        "1과 2의 평균인 1.5가 나옵니다. 이번에는 2차원인 행렬을 선언하여 .mean()을 사용해봅시다. 우선 2차원 행렬을 선언합니다."
      ]
    },
    {
      "cell_type": "code",
      "metadata": {
        "id": "enCFk0xqe6Z-",
        "colab_type": "code",
        "colab": {
          "base_uri": "https://localhost:8080/",
          "height": 52
        },
        "outputId": "fdcb1829-35be-4429-8999-a8baf59840d0"
      },
      "source": [
        "t = torch.FloatTensor([[1, 2], [3, 4]])\n",
        "print(t)"
      ],
      "execution_count": 77,
      "outputs": [
        {
          "output_type": "stream",
          "text": [
            "tensor([[1., 2.],\n",
            "        [3., 4.]])\n"
          ],
          "name": "stdout"
        }
      ]
    },
    {
      "cell_type": "markdown",
      "metadata": {
        "id": "olFz7ANigvzf",
        "colab_type": "text"
      },
      "source": [
        "2차원 행렬이 선언되었습니다. 이제 .mean()을 사용합니다."
      ]
    },
    {
      "cell_type": "code",
      "metadata": {
        "id": "Oty3liRdguPA",
        "colab_type": "code",
        "colab": {
          "base_uri": "https://localhost:8080/",
          "height": 34
        },
        "outputId": "8dd9e014-1955-4a1e-f365-0e1431387709"
      },
      "source": [
        "print(t.mean())"
      ],
      "execution_count": 78,
      "outputs": [
        {
          "output_type": "stream",
          "text": [
            "tensor(2.5000)\n"
          ],
          "name": "stdout"
        }
      ]
    },
    {
      "cell_type": "markdown",
      "metadata": {
        "id": "Qk3tZnUXgyB_",
        "colab_type": "text"
      },
      "source": [
        "4개의 원소의 평균인 2.5가 나왔습니다. 이번에는 dim. 즉, 차원(dimension)을 인자로 주는 경우를 보겠습니다."
      ]
    },
    {
      "cell_type": "code",
      "metadata": {
        "id": "TWNSc2p8gxNs",
        "colab_type": "code",
        "colab": {
          "base_uri": "https://localhost:8080/",
          "height": 34
        },
        "outputId": "47ccf76e-fd38-4f4e-a2d1-c23c77ad397d"
      },
      "source": [
        "print(t.mean(dim=0))"
      ],
      "execution_count": 79,
      "outputs": [
        {
          "output_type": "stream",
          "text": [
            "tensor([2., 3.])\n"
          ],
          "name": "stdout"
        }
      ]
    },
    {
      "cell_type": "markdown",
      "metadata": {
        "id": "Kt7M1RaHg_I9",
        "colab_type": "text"
      },
      "source": [
        "dim=0이라는 것은 첫번째 차원을 의미합니다. 행렬에서 첫번째 차원은 '행'을 의미합니다. 그리고 인자로 dim을 준다면 해당 차원을 제거한다는 의미가 됩니다. 다시 말해 행렬에서 '열'만을 남기겠다는 의미가 됩니다. 기존 행렬의 크기는 (2, 2)였지만 이를 수행하면 열의 차원만 보존되면서 (1, 2)가 됩니다. 이는 (2,)와 같으며 벡터를 입니다. 열의 차원을 보존하면서 평균을 구하면 아래와 같이 연산합니다"
      ]
    },
    {
      "cell_type": "markdown",
      "metadata": {
        "id": "YfTCxho4hHcz",
        "colab_type": "text"
      },
      "source": [
        "이번에는 인자로 dim=1을 주겠습니다. 이번에는 두번째 차원을 제거합니다. 즉, 열이 제거된 텐서가 되어야 합니다."
      ]
    },
    {
      "cell_type": "code",
      "metadata": {
        "id": "a7NW6QM1g1XO",
        "colab_type": "code",
        "colab": {
          "base_uri": "https://localhost:8080/",
          "height": 34
        },
        "outputId": "0deab6bf-00f4-45bc-99aa-1a214b564316"
      },
      "source": [
        "print(t.mean(dim=1))"
      ],
      "execution_count": 80,
      "outputs": [
        {
          "output_type": "stream",
          "text": [
            "tensor([1.5000, 3.5000])\n"
          ],
          "name": "stdout"
        }
      ]
    },
    {
      "cell_type": "markdown",
      "metadata": {
        "id": "8t7e2-n7hNb2",
        "colab_type": "text"
      },
      "source": [
        "열의 차원이 제거되어야 하므로 (2, 2)의 크기에서 (2, 1)의 크기가 됩니다. 이번에는 1과 3의 평균을 구하고 3과 4의 평균을 구하게 됩니다. 그렇다면 결과는 아래와 같습니다."
      ]
    },
    {
      "cell_type": "code",
      "metadata": {
        "id": "LyOPs5PmhIqK",
        "colab_type": "code",
        "colab": {
          "base_uri": "https://localhost:8080/",
          "height": 34
        },
        "outputId": "f34870a2-b8b9-404a-f173-b9f40a3cbf0b"
      },
      "source": [
        "# 실제 연산 결과는 (2 × 1)\n",
        "\"\"\"\n",
        "[[1. 5]\n",
        " [3. 5]]\n",
        "\"\"\""
      ],
      "execution_count": 81,
      "outputs": [
        {
          "output_type": "execute_result",
          "data": {
            "text/plain": [
              "'\\n[[1. 5]\\n [3. 5]]\\n'"
            ]
          },
          "metadata": {
            "tags": []
          },
          "execution_count": 81
        }
      ]
    },
    {
      "cell_type": "markdown",
      "metadata": {
        "id": "-XjpmGQ5hiVV",
        "colab_type": "text"
      },
      "source": [
        "하지만 (2 × 1)은 결국 1차원이므로 (1 × 2)와 같이 표현되면서 위와 같이 [1.5, 3.5]로 출력됩니다. 이번에는 dim=-1를 주는 경우를 보겠습니다. 이는 마지막 차원을 제거한다는 의미이고, 결국 열의 차원을 제거한다는 의미와 같습니다. 그러므로 위와 출력 결과가 같습니다."
      ]
    },
    {
      "cell_type": "code",
      "metadata": {
        "id": "Myo9IpkMhdlC",
        "colab_type": "code",
        "colab": {
          "base_uri": "https://localhost:8080/",
          "height": 34
        },
        "outputId": "4f04bd7f-4d64-4bf8-e67b-702a95d5744e"
      },
      "source": [
        "print(t.mean(dim=-1))"
      ],
      "execution_count": 82,
      "outputs": [
        {
          "output_type": "stream",
          "text": [
            "tensor([1.5000, 3.5000])\n"
          ],
          "name": "stdout"
        }
      ]
    },
    {
      "cell_type": "markdown",
      "metadata": {
        "id": "41NZhN5jhmMK",
        "colab_type": "text"
      },
      "source": [
        "4-3) 덧셈(Sum)\n",
        "\n",
        "덧셈(Sum)은 평균(Mean)과 연산 방법이나 인자가 의미하는 바는 정확히 동일합니다. 다만, 평균이 아니라 덧셈을 할 뿐입니다"
      ]
    },
    {
      "cell_type": "code",
      "metadata": {
        "id": "kPRfVhxYhkVT",
        "colab_type": "code",
        "colab": {
          "base_uri": "https://localhost:8080/",
          "height": 52
        },
        "outputId": "b7dcb9cf-ccab-4ddd-b561-78d0d637b7bf"
      },
      "source": [
        "t = torch.FloatTensor([[1, 2], [3, 4]])\n",
        "print(t)"
      ],
      "execution_count": 83,
      "outputs": [
        {
          "output_type": "stream",
          "text": [
            "tensor([[1., 2.],\n",
            "        [3., 4.]])\n"
          ],
          "name": "stdout"
        }
      ]
    },
    {
      "cell_type": "code",
      "metadata": {
        "id": "_5uJYCgZht5c",
        "colab_type": "code",
        "colab": {
          "base_uri": "https://localhost:8080/",
          "height": 87
        },
        "outputId": "aacaab15-8c34-4ce2-ef1e-40837539e1b4"
      },
      "source": [
        "print(t.sum()) # 단순히 원소 전체의 덧셈을 수행\n",
        "print(t.sum(dim=0)) # 행을 제거\n",
        "print(t.sum(dim=1)) # 열을 제거\n",
        "print(t.sum(dim=-1)) # 열을 제거"
      ],
      "execution_count": 84,
      "outputs": [
        {
          "output_type": "stream",
          "text": [
            "tensor(10.)\n",
            "tensor([4., 6.])\n",
            "tensor([3., 7.])\n",
            "tensor([3., 7.])\n"
          ],
          "name": "stdout"
        }
      ]
    },
    {
      "cell_type": "markdown",
      "metadata": {
        "id": "oFpJwrp1hz35",
        "colab_type": "text"
      },
      "source": [
        "4-4) 최대(Max)와 아그맥스(ArgMax)\n",
        "\n",
        "최대(Max)는 원소의 최대값을 리턴하고, 아그맥스(ArgMax)는 최대값을 가진 인덱스를 리턴합니다.\n",
        "(2, 2) 크기의 행렬을 선언하고 Max를 사용해봅시다."
      ]
    },
    {
      "cell_type": "code",
      "metadata": {
        "id": "sio5gKI5huyn",
        "colab_type": "code",
        "colab": {
          "base_uri": "https://localhost:8080/",
          "height": 52
        },
        "outputId": "5d682cc7-5843-4656-db2c-7dd6cf4e8bb8"
      },
      "source": [
        "t = torch.FloatTensor([[1, 2], [3, 4]])\n",
        "print(t)"
      ],
      "execution_count": 85,
      "outputs": [
        {
          "output_type": "stream",
          "text": [
            "tensor([[1., 2.],\n",
            "        [3., 4.]])\n"
          ],
          "name": "stdout"
        }
      ]
    },
    {
      "cell_type": "markdown",
      "metadata": {
        "id": "Hnmh4qL_h4o6",
        "colab_type": "text"
      },
      "source": [
        "우선 (2, 2) 행렬을 선언하였습니다. 이제 .max()를 사용합니다"
      ]
    },
    {
      "cell_type": "code",
      "metadata": {
        "id": "jCoZdpzqh3U-",
        "colab_type": "code",
        "colab": {
          "base_uri": "https://localhost:8080/",
          "height": 34
        },
        "outputId": "a212cd51-100a-40fe-adda-e3f323713e9d"
      },
      "source": [
        "print(t.max()) # Returns one value: max"
      ],
      "execution_count": 86,
      "outputs": [
        {
          "output_type": "stream",
          "text": [
            "tensor(4.)\n"
          ],
          "name": "stdout"
        }
      ]
    },
    {
      "cell_type": "markdown",
      "metadata": {
        "id": "CCi7XA3Ah7sU",
        "colab_type": "text"
      },
      "source": [
        "원소 중 최대값인 4를 리턴합니다.\n",
        "이번에는 인자로 dim=0을 주겠습니다. 첫번째 차원을 제거한다는 의미입니다."
      ]
    },
    {
      "cell_type": "code",
      "metadata": {
        "id": "_43NLrwPh6Ab",
        "colab_type": "code",
        "colab": {
          "base_uri": "https://localhost:8080/",
          "height": 70
        },
        "outputId": "b50ab2cb-a7a7-467b-b9b5-05e961256ab7"
      },
      "source": [
        "print(t.max(dim=0)) # Returns two values: max and argmax"
      ],
      "execution_count": 87,
      "outputs": [
        {
          "output_type": "stream",
          "text": [
            "torch.return_types.max(\n",
            "values=tensor([3., 4.]),\n",
            "indices=tensor([1, 1]))\n"
          ],
          "name": "stdout"
        }
      ]
    },
    {
      "cell_type": "markdown",
      "metadata": {
        "id": "wejZh2HkiNLq",
        "colab_type": "text"
      },
      "source": [
        "행의 차원을 제거한다는 의미이므로 (1, 2) 텐서를 만듭니다. 결과는 [3, 4]입니다.\n",
        "\n",
        "그런데 [1, 1]이라는 값도 함께 리턴되었습니다. max에 dim 인자를 주면 argmax도 함께 리턴하는 특징 때문입니다. 첫번째 열에서 3의 인덱스는 1이었습니다. 두번째 열에서 4의 인덱스는 1이었습니다. 그러므로 [1, 1]이 리턴됩니다. 어떤 의미인지는 아래 설명해봤습니다."
      ]
    },
    {
      "cell_type": "code",
      "metadata": {
        "id": "NwmGbFYEiHPe",
        "colab_type": "code",
        "colab": {
          "base_uri": "https://localhost:8080/",
          "height": 70
        },
        "outputId": "b554e837-1410-451c-9d2c-df2e18d17642"
      },
      "source": [
        "# [1, 1]가 무슨 의미인지 봅시다. 기존 행렬을 다시 상기해봅시다.\n",
        "\"\"\"\n",
        "[[1, 2],\n",
        " [3, 4]]\n",
        "첫번째 열에서 0번 인덱스는 1, 1번 인덱스는 3입니다.\n",
        "두번째 열에서 0번 인덱스는 2, 1번 인덱스는 4입니다.\n",
        "다시 말해 3과 4의 인덱스는 [1, 1]입니다.\n",
        "\"\"\"\n",
        "\n",
        "print(t.max(dim=0))"
      ],
      "execution_count": 88,
      "outputs": [
        {
          "output_type": "stream",
          "text": [
            "torch.return_types.max(\n",
            "values=tensor([3., 4.]),\n",
            "indices=tensor([1, 1]))\n"
          ],
          "name": "stdout"
        }
      ]
    },
    {
      "cell_type": "markdown",
      "metadata": {
        "id": "IFLLq_pziYtH",
        "colab_type": "text"
      },
      "source": [
        "만약 두 개를 함께 리턴받는 것이 아니라 max 또는 argmax만 리턴받고 싶다면 다음과 같이 리턴값에도 인덱스를 부여하면 됩니다. 0번 인덱스를 사용하면 max 값만 받아올 수 있고, 1번 인덱스를 사용하면 argmax 값만 받아올 수 있습니다."
      ]
    },
    {
      "cell_type": "code",
      "metadata": {
        "id": "e96UdR5JiZDK",
        "colab_type": "code",
        "colab": {
          "base_uri": "https://localhost:8080/",
          "height": 52
        },
        "outputId": "6694fe0b-2d2a-4c02-f872-bfd8d7b2a55d"
      },
      "source": [
        "print('Max: ', t.max(dim=0)[0])\n",
        "print('Argmax: ', t.max(dim=0)[1])"
      ],
      "execution_count": 89,
      "outputs": [
        {
          "output_type": "stream",
          "text": [
            "Max:  tensor([3., 4.])\n",
            "Argmax:  tensor([1, 1])\n"
          ],
          "name": "stdout"
        }
      ]
    },
    {
      "cell_type": "markdown",
      "metadata": {
        "id": "6qmftEERifQD",
        "colab_type": "text"
      },
      "source": [
        "이번에는 dim=1로 인자를 주었을 때와 dim=-1로 인자를 주었을 때를 보겠습니다."
      ]
    },
    {
      "cell_type": "code",
      "metadata": {
        "id": "WWvY6OHqiaBB",
        "colab_type": "code",
        "colab": {
          "base_uri": "https://localhost:8080/",
          "height": 140
        },
        "outputId": "6bb96229-7b39-4691-b28b-35b7b342dbb4"
      },
      "source": [
        "print(t.max(dim=1))\n",
        "print('-'*25)\n",
        "print(t.max(dim=-1))"
      ],
      "execution_count": 95,
      "outputs": [
        {
          "output_type": "stream",
          "text": [
            "torch.return_types.max(\n",
            "values=tensor([2., 4.]),\n",
            "indices=tensor([1, 1]))\n",
            "-------------------------\n",
            "torch.return_types.max(\n",
            "values=tensor([2., 4.]),\n",
            "indices=tensor([1, 1]))\n"
          ],
          "name": "stdout"
        }
      ]
    },
    {
      "cell_type": "markdown",
      "metadata": {
        "id": "HHC_HYo8ix0J",
        "colab_type": "text"
      },
      "source": [
        "## 1.3 텐서 조작하기(Tensor Manipulation) 2\n",
        "\n",
        "이어서 텐서를 조작하는 방법을 알아보겠습니다."
      ]
    },
    {
      "cell_type": "markdown",
      "metadata": {
        "id": "QqGc6kU9i-IY",
        "colab_type": "text"
      },
      "source": [
        "### 1.3.1 뷰(View) - 원소의 수를 유지하면서 텐서의 크기 변경. 매우 중요함!!\n",
        "\n",
        "파이토치 텐서의 뷰(View)는 넘파이에서의 리쉐이프(Reshape)와 같은 역할을 합니다. Reshape라는 이름에서 알 수 있듯이, 텐서의 크기(Shape)를 변경해주는 역할을 합니다. 실습을 위해 우선 임의로 다음과 같이 3차원 텐서를 만듭니다."
      ]
    },
    {
      "cell_type": "code",
      "metadata": {
        "id": "Lnw36-zgigin",
        "colab_type": "code",
        "colab": {}
      },
      "source": [
        "t = np.array([[[0, 1, 2],\n",
        "               [3, 4, 5]],\n",
        "              [[6, 7, 8],\n",
        "               [9, 10, 11]]])\n",
        "ft = torch.FloatTensor(t)"
      ],
      "execution_count": 0,
      "outputs": []
    },
    {
      "cell_type": "markdown",
      "metadata": {
        "id": "DUyBIRaNjQEe",
        "colab_type": "text"
      },
      "source": [
        "ft라는 이름의 3차원 텐서를 만들었습니다. 크기(shape)를 확인해보겠습니다."
      ]
    },
    {
      "cell_type": "code",
      "metadata": {
        "id": "cTEfA0lLjMM6",
        "colab_type": "code",
        "colab": {
          "base_uri": "https://localhost:8080/",
          "height": 34
        },
        "outputId": "e53d22e2-1d7b-42e5-8172-90f94f6a501e"
      },
      "source": [
        "print(ft.shape)"
      ],
      "execution_count": 97,
      "outputs": [
        {
          "output_type": "stream",
          "text": [
            "torch.Size([2, 2, 3])\n"
          ],
          "name": "stdout"
        }
      ]
    },
    {
      "cell_type": "markdown",
      "metadata": {
        "id": "MV0S8QyijTci",
        "colab_type": "text"
      },
      "source": [
        "현재 위 텐서의 크기는 (2, 2, 3)입니다.\n",
        "\n",
        "![대체 텍스트](https://wikidocs.net/images/page/52846/tensor1.PNG)\n",
        "\n",
        "이 ft라는 텐서의 크기를 기억해주세요. 이 텐서를 가지고 두 번의 실습을 할 겁니다."
      ]
    },
    {
      "cell_type": "markdown",
      "metadata": {
        "id": "cVfVru0Ijj5c",
        "colab_type": "text"
      },
      "source": [
        "1-1) 3차원 텐서에서 2차원 텐서로 변경\n",
        "\n",
        "이제 ft 텐서를 view를 사용하여 크기(shape)를 2차원 텐서로 변경해봅시다."
      ]
    },
    {
      "cell_type": "code",
      "metadata": {
        "id": "SC0rx0FAjSTK",
        "colab_type": "code",
        "colab": {
          "base_uri": "https://localhost:8080/",
          "height": 105
        },
        "outputId": "77982dd1-4244-4b03-b0b8-113e5393cd62"
      },
      "source": [
        "print(ft.view([-1, 3])) # ft라는 텐서를 (?, 3)의 크기로 변경\n",
        "print(ft.view([-1, 3]).shape)"
      ],
      "execution_count": 98,
      "outputs": [
        {
          "output_type": "stream",
          "text": [
            "tensor([[ 0.,  1.,  2.],\n",
            "        [ 3.,  4.,  5.],\n",
            "        [ 6.,  7.,  8.],\n",
            "        [ 9., 10., 11.]])\n",
            "torch.Size([4, 3])\n"
          ],
          "name": "stdout"
        }
      ]
    },
    {
      "cell_type": "markdown",
      "metadata": {
        "id": "DurC15dojuNS",
        "colab_type": "text"
      },
      "source": [
        "view([-1, 3])이 가지는 의미는 이와 같습니다. -1은 첫번째 차원은 사용자가 잘 모르겠으니 파이토치에 맡기겠다는 의미이고, 3은 두번째 차원의 길이는 3을 가지도록 하라는 의미입니다. 다시 말해 현재 3차원 텐서를 2차원 텐서로 변경하되 (?, 3)의 크기로 변경하라는 의미입니다. 결과적으로 (4, 3)의 크기를 가지는 텐서를 얻었습니다.\n",
        "\n",
        "![대체 텍스트](https://wikidocs.net/images/page/52846/tensor2.PNG)\n",
        "\n",
        "내부적으로 크기 변환은 다음과 같이 이루어졌습니다. (2, 2, 3) -> (2 × 2, 3) -> (4, 3)\n",
        "\n",
        "규칙을 정리해봅시다.\n",
        "\n",
        "\n",
        "*   view는 기본적으로 변경 전과 변경 후의 텐서 안의 원소의 개수가 유지되어야 합니다.\n",
        "*   파이토치의 view는 사이즈가 -1로 설정되면 다른 차원으로부터 해당 값을 유추합니다.\n",
        "\n",
        "변경 전 텐서의 원소의 수는 (2 × 2 × 3) = 12개였습니다. 그리고 변경 후 텐서의 원소의 개수 또한 (4 × 3) = 12개였습니다.\n",
        "\n"
      ]
    },
    {
      "cell_type": "markdown",
      "metadata": {
        "id": "N8bx4_7kkCQo",
        "colab_type": "text"
      },
      "source": [
        "1-2) 3차원 텐서의 크기 변경\n",
        "\n",
        "이번에는 3차원 텐서에서 3차원 텐서로 차원은 유지하되, 크기(shape)를 바꾸는 작업을 해보겠습니다. view로 텐서의 크기를 변경하더라도 원소의 수는 유지되어야 한다고 언급한 바 있습니다. 그렇다면 (2 × 2 × 3) 텐서를 (? × 1 × 3) 텐서로 변경하라고 하면 ?는 몇 차원인가요?\n",
        "\n",
        "(2 × 2 × 3) = (? × 1 × 3) = 12를 만족해야 하므로 ?는 4가 됩니다. 이를 실습으로 확인해봅시다."
      ]
    },
    {
      "cell_type": "code",
      "metadata": {
        "id": "62YBief7jr0W",
        "colab_type": "code",
        "colab": {
          "base_uri": "https://localhost:8080/",
          "height": 158
        },
        "outputId": "3263d703-c97e-418b-e1ac-33518ba7210a"
      },
      "source": [
        "print(ft.view([-1, 1, 3]))\n",
        "print(ft.view([-1, 1, 3]).shape)"
      ],
      "execution_count": 99,
      "outputs": [
        {
          "output_type": "stream",
          "text": [
            "tensor([[[ 0.,  1.,  2.]],\n",
            "\n",
            "        [[ 3.,  4.,  5.]],\n",
            "\n",
            "        [[ 6.,  7.,  8.]],\n",
            "\n",
            "        [[ 9., 10., 11.]]])\n",
            "torch.Size([4, 1, 3])\n"
          ],
          "name": "stdout"
        }
      ]
    },
    {
      "cell_type": "markdown",
      "metadata": {
        "id": "RdW1HeuOkKwU",
        "colab_type": "text"
      },
      "source": [
        "### 1.3.2 스퀴즈(Squeeze) - 1인 차원을 제거한다.\n",
        "\n",
        "스퀴즈는 차원이 1인 경우에는 해당 차원을 제거합니다.\n",
        "실습을 위해 임의로 (3 × 1)의 크기를 가지는 2차원 텐서를 만들겠습니다."
      ]
    },
    {
      "cell_type": "code",
      "metadata": {
        "id": "bbzxxK5IkH_g",
        "colab_type": "code",
        "colab": {
          "base_uri": "https://localhost:8080/",
          "height": 87
        },
        "outputId": "81b64bc3-e00a-45a0-ca8b-81695ad23f9f"
      },
      "source": [
        "ft = torch.FloatTensor([[0], [1], [2]])\n",
        "print(ft)\n",
        "print(ft.shape)"
      ],
      "execution_count": 100,
      "outputs": [
        {
          "output_type": "stream",
          "text": [
            "tensor([[0.],\n",
            "        [1.],\n",
            "        [2.]])\n",
            "torch.Size([3, 1])\n"
          ],
          "name": "stdout"
        }
      ]
    },
    {
      "cell_type": "markdown",
      "metadata": {
        "id": "EKQpI4b6kPzW",
        "colab_type": "text"
      },
      "source": [
        "해당 텐서는 (3 × 1)의 크기를 가집니다. 두번째 차원이 1이므로 squeeze를 사용하면 (3,)의 크기를 가지는 텐서로 변경됩니다."
      ]
    },
    {
      "cell_type": "code",
      "metadata": {
        "id": "q-BWjmmKkPCe",
        "colab_type": "code",
        "colab": {
          "base_uri": "https://localhost:8080/",
          "height": 52
        },
        "outputId": "9c6434f2-f086-424b-f8b2-e58771656057"
      },
      "source": [
        "print(ft.squeeze())\n",
        "print(ft.squeeze().shape)"
      ],
      "execution_count": 101,
      "outputs": [
        {
          "output_type": "stream",
          "text": [
            "tensor([0., 1., 2.])\n",
            "torch.Size([3])\n"
          ],
          "name": "stdout"
        }
      ]
    },
    {
      "cell_type": "markdown",
      "metadata": {
        "id": "rCaSEALSkTSj",
        "colab_type": "text"
      },
      "source": [
        "위의 결과는 1이었던 두번째 차원이 제거되면서 (3,)의 크기를 가지는 텐서로 변경되어 1차원 벡터가 된 것을 보여줍니다."
      ]
    },
    {
      "cell_type": "markdown",
      "metadata": {
        "id": "ZCPdUwnkkWRw",
        "colab_type": "text"
      },
      "source": [
        "### 1.3.3 언스퀴즈(Unsqueeze) - 특정 위치에 1인 차원을 추가한다.\n",
        "\n",
        "언스퀴즈는 스퀴즈와 정반대입니다. 특정 위치에 1인 차원을 추가할 수 있습니다.\n",
        "실습을 위해 임의로 (3,)의 크기를 가지는 1인 차원 텐서를 만들겠습니다."
      ]
    },
    {
      "cell_type": "code",
      "metadata": {
        "id": "NVigahHAkRaT",
        "colab_type": "code",
        "colab": {
          "base_uri": "https://localhost:8080/",
          "height": 34
        },
        "outputId": "8802389a-1f16-4065-a4cb-21f415c2a9dd"
      },
      "source": [
        "ft = torch.Tensor([0, 1, 2])\n",
        "print(ft.shape)"
      ],
      "execution_count": 102,
      "outputs": [
        {
          "output_type": "stream",
          "text": [
            "torch.Size([3])\n"
          ],
          "name": "stdout"
        }
      ]
    },
    {
      "cell_type": "markdown",
      "metadata": {
        "id": "tnaMTCczkcJd",
        "colab_type": "text"
      },
      "source": [
        "현재는 차원이 1개인 1차원 벡터입니다. 여기에 첫번째 차원에 1인 차원을 추가해보겠습니다. 첫번째 차원의 인덱스를 의미하는 숫자 0을 인자로 넣으면 첫번째 차원에 1인 차원이 추가됩니다."
      ]
    },
    {
      "cell_type": "code",
      "metadata": {
        "id": "FdUmHCHjka2-",
        "colab_type": "code",
        "colab": {
          "base_uri": "https://localhost:8080/",
          "height": 52
        },
        "outputId": "4381d587-849c-4f2a-f69a-acd2d4f41acb"
      },
      "source": [
        "print(ft.unsqueeze(0)) # 인덱스가 0부터 시작하므로 0은 첫번째 차원을 의미한다.\n",
        "print(ft.unsqueeze(0).shape)"
      ],
      "execution_count": 103,
      "outputs": [
        {
          "output_type": "stream",
          "text": [
            "tensor([[0., 1., 2.]])\n",
            "torch.Size([1, 3])\n"
          ],
          "name": "stdout"
        }
      ]
    },
    {
      "cell_type": "markdown",
      "metadata": {
        "id": "rRHpvZH4khyp",
        "colab_type": "text"
      },
      "source": [
        "위 결과는 (3,)의 크기를 가졌던 1차원 벡터가 (1, 3)의 2차원 텐서로 변경된 것을 보여줍니다. 방금 한 연산을 앞서 배운 view로도 구현 가능합니다. 2차원으로 바꾸고 싶으면서 첫번째 차원은 1이기를 원한다면 view에서 (1, -1)을 인자로 사용하면됩니다."
      ]
    },
    {
      "cell_type": "code",
      "metadata": {
        "id": "BIjRwwqOkeEb",
        "colab_type": "code",
        "colab": {
          "base_uri": "https://localhost:8080/",
          "height": 52
        },
        "outputId": "22be2591-c588-4973-d23d-9d3c1917a3ae"
      },
      "source": [
        "print(ft.view(1, -1))\n",
        "print(ft.view(1, -1).shape)"
      ],
      "execution_count": 104,
      "outputs": [
        {
          "output_type": "stream",
          "text": [
            "tensor([[0., 1., 2.]])\n",
            "torch.Size([1, 3])\n"
          ],
          "name": "stdout"
        }
      ]
    },
    {
      "cell_type": "markdown",
      "metadata": {
        "id": "4euROHzakkUe",
        "colab_type": "text"
      },
      "source": [
        "위의 결과는 unsqueeze와 view가 동일한 결과를 만든 것을 보여줍니다. 이번에는 unsqueeze의 인자로 1을 넣어보겠습니다. 인덱스는 0부터 시작하므로 이는 두번째 차원에 1을 추가하겠다는 것을 의미합니다. 현재 크기는 (3,)이었으므로 두번째 차원에 1인 차원을 추가하면 (3, 1)의 크기를 가지게 됩니다. 실습을 진행해보겠습니다."
      ]
    },
    {
      "cell_type": "code",
      "metadata": {
        "id": "eEFTujrjki86",
        "colab_type": "code",
        "colab": {
          "base_uri": "https://localhost:8080/",
          "height": 87
        },
        "outputId": "be9c5841-dc93-435a-f6e8-69585b206699"
      },
      "source": [
        "print(ft.unsqueeze(1))\n",
        "print(ft.unsqueeze(1).shape)"
      ],
      "execution_count": 105,
      "outputs": [
        {
          "output_type": "stream",
          "text": [
            "tensor([[0.],\n",
            "        [1.],\n",
            "        [2.]])\n",
            "torch.Size([3, 1])\n"
          ],
          "name": "stdout"
        }
      ]
    },
    {
      "cell_type": "markdown",
      "metadata": {
        "id": "rfnkJzVPknbQ",
        "colab_type": "text"
      },
      "source": [
        "이번에는 unsqueeze의 인자로 -1을 넣어보겠습니다. -1은 인덱스 상으로 마지막 차원을 의미합니다. 현재 크기는 (3,)이었으므로 마지막 차원에 1인 차원을 추가하면 (3, 1)의 크기를 가지게 됩니다. 다시 말해 현재 텐서의 경우에는 1을 넣은 경우와 -1을 넣은 경우가 결과가 동일합니다. 실습을 진행해보겠습니다."
      ]
    },
    {
      "cell_type": "code",
      "metadata": {
        "id": "VOl9eQr7kl8L",
        "colab_type": "code",
        "colab": {
          "base_uri": "https://localhost:8080/",
          "height": 87
        },
        "outputId": "d5e587de-9993-41f7-e9c9-88880740f781"
      },
      "source": [
        "print(ft.unsqueeze(-1))\n",
        "print(ft.unsqueeze(-1).shape)"
      ],
      "execution_count": 106,
      "outputs": [
        {
          "output_type": "stream",
          "text": [
            "tensor([[0.],\n",
            "        [1.],\n",
            "        [2.]])\n",
            "torch.Size([3, 1])\n"
          ],
          "name": "stdout"
        }
      ]
    },
    {
      "cell_type": "markdown",
      "metadata": {
        "id": "_rv3R53Ckv6W",
        "colab_type": "text"
      },
      "source": [
        "맨 뒤에 1인 차원이 추가되면서 1차원 벡터가 (3, 1)의 크기를 가지는 2차원 텐서로 변경되었습니다.\n",
        "\n",
        "*   view(), squeeze(), unsqueeze()는 텐서의 원소 수를 그대로 유지하면서 모양과 차원을 조절합니다.\n",
        "\n"
      ]
    },
    {
      "cell_type": "markdown",
      "metadata": {
        "id": "xYhOUoyQk1gP",
        "colab_type": "text"
      },
      "source": [
        "### 1.3.4 타입 캐스팅(Type Casting) 아까보다 더중요!!\n",
        "\n",
        "![대체 텍스트](https://wikidocs.net/images/page/52846/newimage.png)\n",
        "\n",
        "텐서에는 자료형이라는 것이 있습니다. 각 데이터형별로 정의되어져 있는데, 예를 들어 32비트의 유동 소수점은 torch.FloatTensor를, 64비트의 부호 있는 정수는 torch.LongTensor를 사용합니다. GPU 연산을 위한 자료형도 있습니다. 예를 들어 torch.cuda.FloatTensor가 그 예입니다.\n",
        "\n",
        "그리고 이 자료형을 변환하는 것을 타입 캐스팅이라고 합니다.\n",
        "\n",
        "우선 실습을 위해 long 타입의 lt라는 텐서를 선언합니다."
      ]
    },
    {
      "cell_type": "code",
      "metadata": {
        "id": "1I-OYfVskpEd",
        "colab_type": "code",
        "colab": {
          "base_uri": "https://localhost:8080/",
          "height": 34
        },
        "outputId": "288f7f8d-bfd5-44af-a66d-e21a382c0502"
      },
      "source": [
        "lt = torch.LongTensor([1, 2, 3, 4])\n",
        "print(lt)"
      ],
      "execution_count": 107,
      "outputs": [
        {
          "output_type": "stream",
          "text": [
            "tensor([1, 2, 3, 4])\n"
          ],
          "name": "stdout"
        }
      ]
    },
    {
      "cell_type": "markdown",
      "metadata": {
        "id": "SEmgCi5ylEre",
        "colab_type": "text"
      },
      "source": [
        "텐서에다가 .float()를 붙이면 바로 float형으로 타입이 변경됩니다."
      ]
    },
    {
      "cell_type": "code",
      "metadata": {
        "id": "szSSYTYllDTZ",
        "colab_type": "code",
        "colab": {
          "base_uri": "https://localhost:8080/",
          "height": 34
        },
        "outputId": "51649796-e87d-4970-ea2c-dbff57370184"
      },
      "source": [
        "print(lt.float())"
      ],
      "execution_count": 108,
      "outputs": [
        {
          "output_type": "stream",
          "text": [
            "tensor([1., 2., 3., 4.])\n"
          ],
          "name": "stdout"
        }
      ]
    },
    {
      "cell_type": "markdown",
      "metadata": {
        "id": "sf1gS6F0lHva",
        "colab_type": "text"
      },
      "source": [
        "이번에는 Byte 타입의 bt라는 텐서를 만들어보겠습니다."
      ]
    },
    {
      "cell_type": "code",
      "metadata": {
        "id": "v48DZEhrlF9v",
        "colab_type": "code",
        "colab": {
          "base_uri": "https://localhost:8080/",
          "height": 34
        },
        "outputId": "a9a77e85-5259-4667-810f-68d13d971f72"
      },
      "source": [
        "bt = torch.ByteTensor([True, False, False, True])\n",
        "print(bt)"
      ],
      "execution_count": 109,
      "outputs": [
        {
          "output_type": "stream",
          "text": [
            "tensor([1, 0, 0, 1], dtype=torch.uint8)\n"
          ],
          "name": "stdout"
        }
      ]
    },
    {
      "cell_type": "markdown",
      "metadata": {
        "id": "mhPpgD2olKZX",
        "colab_type": "text"
      },
      "source": [
        "여기에 .long()이라고하면 long 타입의 텐서로 변경되고 .float()이라고 하면 float 타입의 텐서로 변경됩니다."
      ]
    },
    {
      "cell_type": "code",
      "metadata": {
        "id": "e6D1Z1zNlJDY",
        "colab_type": "code",
        "colab": {
          "base_uri": "https://localhost:8080/",
          "height": 52
        },
        "outputId": "7dd47bd0-5f8c-49a2-c7e8-ef84928b175b"
      },
      "source": [
        "print(bt.long())\n",
        "print(bt.float())"
      ],
      "execution_count": 110,
      "outputs": [
        {
          "output_type": "stream",
          "text": [
            "tensor([1, 0, 0, 1])\n",
            "tensor([1., 0., 0., 1.])\n"
          ],
          "name": "stdout"
        }
      ]
    },
    {
      "cell_type": "markdown",
      "metadata": {
        "id": "99LoG-ehl3gh",
        "colab_type": "text"
      },
      "source": [
        "### 1.3.5 연결하기(concatenate)\n",
        "\n",
        "이번에는 두 텐서를 연결하는 방법에 대해서 알아보겠습니다.\n",
        "우선 (2 × 2) 크기의 텐서를 두 개 만듭니다"
      ]
    },
    {
      "cell_type": "code",
      "metadata": {
        "id": "ydDwea02lLo4",
        "colab_type": "code",
        "colab": {}
      },
      "source": [
        "x = torch.FloatTensor([[1, 2], [3, 4]])\n",
        "y = torch.FloatTensor([[5, 6], [7, 8]])"
      ],
      "execution_count": 0,
      "outputs": []
    },
    {
      "cell_type": "markdown",
      "metadata": {
        "id": "voNomgW5l8r5",
        "colab_type": "text"
      },
      "source": [
        "이제 두 텐서를 torch.cat([ ])를 통해 연결해보겠습니다. 그런데 연결 방법은 한 가지만 있는 것이 아닙니다. torch.cat은 어느 차원을 늘릴 것인지를 인자로 줄 수 있습니다. 예를 들어 dim=0은 첫번째 차원을 늘리라는 의미를 담고있습니다."
      ]
    },
    {
      "cell_type": "code",
      "metadata": {
        "id": "6fUyQTEul7rd",
        "colab_type": "code",
        "colab": {
          "base_uri": "https://localhost:8080/",
          "height": 87
        },
        "outputId": "a37476f7-3269-47be-aa2d-656fbc794346"
      },
      "source": [
        "print(torch.cat([x, y], dim=0))"
      ],
      "execution_count": 112,
      "outputs": [
        {
          "output_type": "stream",
          "text": [
            "tensor([[1., 2.],\n",
            "        [3., 4.],\n",
            "        [5., 6.],\n",
            "        [7., 8.]])\n"
          ],
          "name": "stdout"
        }
      ]
    },
    {
      "cell_type": "markdown",
      "metadata": {
        "id": "FuauoRa0l_Wy",
        "colab_type": "text"
      },
      "source": [
        "dim=0을 인자로 했더니 두 개의 (2 × 2) 텐서가 (4 × 2) 텐서가 된 것을 볼 수 있습니다. 이번에는 dim=1을 인자로 주겠습니다."
      ]
    },
    {
      "cell_type": "code",
      "metadata": {
        "id": "2NYIHgGul-CE",
        "colab_type": "code",
        "colab": {
          "base_uri": "https://localhost:8080/",
          "height": 52
        },
        "outputId": "85f8978a-1d33-4d31-d4d3-7dffe36916d9"
      },
      "source": [
        "print(torch.cat([x, y], dim=1))"
      ],
      "execution_count": 113,
      "outputs": [
        {
          "output_type": "stream",
          "text": [
            "tensor([[1., 2., 5., 6.],\n",
            "        [3., 4., 7., 8.]])\n"
          ],
          "name": "stdout"
        }
      ]
    },
    {
      "cell_type": "markdown",
      "metadata": {
        "id": "hpzawLFgmDkq",
        "colab_type": "text"
      },
      "source": [
        "dim=1을 인자로 했더니 두 개의 (2 × 2) 텐서가 (2 × 4) 텐서가 된 것을 볼 수 있습니다.\n",
        "\n",
        "* 딥 러닝에서는 주로 모델의 입력 또는 중간 연산에서 두 개의 텐서를 연결하는 경우가 많습니다. 두 텐서를 연결해서 입력으로 사용하는 것은 두 가지의 정보를 모두 사용한다는 의미를 가지고 있습니다."
      ]
    },
    {
      "cell_type": "markdown",
      "metadata": {
        "id": "F000rpJWmPzv",
        "colab_type": "text"
      },
      "source": [
        "### 1.3.6 스택킹(Stacking)\n",
        "\n",
        "연결(concatenate)을 하는 또 다른 방법으로 스택킹(Stacking)이 있습니다. 스택킹은 영어로 쌓는다는 의미입니다. 때로는 연결을 하는 것보다 스택킹이 더 편리할 때가 있는데, 이는 스택킹이 많은 연산을 포함하고 있기 때문입니다.\n",
        "\n",
        "실습을 위해 크기가 (2,)로 모두 동일한 3개의 벡터를 만듭니다."
      ]
    },
    {
      "cell_type": "code",
      "metadata": {
        "id": "3FUTJRivmBTL",
        "colab_type": "code",
        "colab": {}
      },
      "source": [
        "x = torch.FloatTensor([1, 4])\n",
        "y = torch.FloatTensor([2, 5])\n",
        "z = torch.FloatTensor([3, 6])"
      ],
      "execution_count": 0,
      "outputs": []
    },
    {
      "cell_type": "markdown",
      "metadata": {
        "id": "ctHUvf4PmW8Y",
        "colab_type": "text"
      },
      "source": [
        "이제 torch.stack을 통해서 3개의 벡터를 모두 스택킹해보겠습니다."
      ]
    },
    {
      "cell_type": "code",
      "metadata": {
        "id": "LH8-YNxImVns",
        "colab_type": "code",
        "colab": {
          "base_uri": "https://localhost:8080/",
          "height": 70
        },
        "outputId": "d310976a-673c-4de8-e5c8-deaf55a59ea9"
      },
      "source": [
        "print(torch.stack([x, y, z]))"
      ],
      "execution_count": 115,
      "outputs": [
        {
          "output_type": "stream",
          "text": [
            "tensor([[1., 4.],\n",
            "        [2., 5.],\n",
            "        [3., 6.]])\n"
          ],
          "name": "stdout"
        }
      ]
    },
    {
      "cell_type": "markdown",
      "metadata": {
        "id": "cn4cUkEhmjmG",
        "colab_type": "text"
      },
      "source": [
        "위 결과는 3개의 벡터가 순차적으로 쌓여 (3 × 2) 텐서가 된 것을 보여줍니다.\n",
        "\n",
        "![대체 텍스트](https://wikidocs.net/images/page/52846/tensor1_0xdY8pX.PNG)\n",
        "\n",
        "스택킹은 사실 많은 연산을 한 번에 축약하고 있습니다. 예를 들어 위 작업은 아래의 코드와 동일한 작업입니다."
      ]
    },
    {
      "cell_type": "code",
      "metadata": {
        "id": "btuFSdvQmiTj",
        "colab_type": "code",
        "colab": {
          "base_uri": "https://localhost:8080/",
          "height": 70
        },
        "outputId": "3fc1196b-8bc2-4a83-8753-3fb1ec786892"
      },
      "source": [
        "print(torch.cat([x.unsqueeze(0), y.unsqueeze(0), z.unsqueeze(0)], dim=0))"
      ],
      "execution_count": 116,
      "outputs": [
        {
          "output_type": "stream",
          "text": [
            "tensor([[1., 4.],\n",
            "        [2., 5.],\n",
            "        [3., 6.]])\n"
          ],
          "name": "stdout"
        }
      ]
    },
    {
      "cell_type": "markdown",
      "metadata": {
        "id": "49a49oiXmo6f",
        "colab_type": "text"
      },
      "source": [
        "x, y, z는 기존에는 전부 (2,)의 크기를 가졌습니다. 그런데 .unsqueeze(0)을 하므로서 3개의 벡터는 전부 (1, 2)의 크기의 2차원 텐서로 변경됩니다. 여기에 연결(concatenate)를 의미하는 cat을 사용하면 (3 x 2) 텐서가 됩니다."
      ]
    },
    {
      "cell_type": "code",
      "metadata": {
        "id": "Ozh4IbBdmoNC",
        "colab_type": "code",
        "colab": {
          "base_uri": "https://localhost:8080/",
          "height": 70
        },
        "outputId": "1c47353b-3cb6-4e8a-8e14-a335108d84ef"
      },
      "source": [
        "\"\"\"\n",
        "tensor([[1., 4.],\n",
        "        [2., 5.],\n",
        "        [3., 6.]])\n",
        "\"\"\"\n",
        "print(torch.stack([x, y, z]))"
      ],
      "execution_count": 118,
      "outputs": [
        {
          "output_type": "stream",
          "text": [
            "tensor([[1., 4.],\n",
            "        [2., 5.],\n",
            "        [3., 6.]])\n"
          ],
          "name": "stdout"
        }
      ]
    },
    {
      "cell_type": "markdown",
      "metadata": {
        "id": "nmsHLRhhmyS9",
        "colab_type": "text"
      },
      "source": [
        "위에서는 torch.stack([x, y, z])라는 한 번의 커맨드로 수행했지만, 연결(concatenate)로 이를 구현하려고 했더니 꽤 복잡해졌습니다.\n",
        "\n",
        "스택킹에 추가적으로 dim을 인자로 줄 수도 있습니다. 이번에는 dim=1 인자를 주겠습니다.\n",
        "이는 두번째 차원이 증가하도록 쌓으라는 의미로 해석할 수 있습니다."
      ]
    },
    {
      "cell_type": "code",
      "metadata": {
        "id": "dCN-yjsumr38",
        "colab_type": "code",
        "colab": {
          "base_uri": "https://localhost:8080/",
          "height": 52
        },
        "outputId": "10f1e974-a703-4f35-97cb-7966974ca270"
      },
      "source": [
        "print(torch.stack([x, y, z], dim=1))"
      ],
      "execution_count": 119,
      "outputs": [
        {
          "output_type": "stream",
          "text": [
            "tensor([[1., 2., 3.],\n",
            "        [4., 5., 6.]])\n"
          ],
          "name": "stdout"
        }
      ]
    },
    {
      "cell_type": "markdown",
      "metadata": {
        "id": "yDo4tZulm3LT",
        "colab_type": "text"
      },
      "source": [
        "위의 결과는 두번째 차원이 증가하도록 스택킹이 된 결과를 보여줍니다.\n",
        "결과적으로 (2 × 3) 텐서가 됩니다.\n",
        "\n",
        "![대체 텍스트](https://wikidocs.net/images/page/52846/tensor2_POePbuM.PNG)"
      ]
    },
    {
      "cell_type": "markdown",
      "metadata": {
        "id": "RClKHwPpm8K5",
        "colab_type": "text"
      },
      "source": [
        "### 1.3.7 ones_like와 zeros_like - 0으로 채워진 텐서와 1로 채워진 텐서\n",
        "\n",
        "실습을 위해 (2 × 3) 텐서를 만듭니다."
      ]
    },
    {
      "cell_type": "code",
      "metadata": {
        "id": "KM0V7LMum2HX",
        "colab_type": "code",
        "colab": {
          "base_uri": "https://localhost:8080/",
          "height": 52
        },
        "outputId": "be464325-3f3a-45d1-afb5-23e1a0434fca"
      },
      "source": [
        "x = torch.FloatTensor([[0, 1, 2], [2, 1, 0]])\n",
        "print(x)"
      ],
      "execution_count": 120,
      "outputs": [
        {
          "output_type": "stream",
          "text": [
            "tensor([[0., 1., 2.],\n",
            "        [2., 1., 0.]])\n"
          ],
          "name": "stdout"
        }
      ]
    },
    {
      "cell_type": "markdown",
      "metadata": {
        "id": "bqVgS479nDha",
        "colab_type": "text"
      },
      "source": [
        "위 텐서에 ones_like를 하면 동일한 크기(shape)지만 1으로만 값이 채워진 텐서를 생성합니다."
      ]
    },
    {
      "cell_type": "code",
      "metadata": {
        "id": "-WRoWQ4wnCjU",
        "colab_type": "code",
        "colab": {
          "base_uri": "https://localhost:8080/",
          "height": 52
        },
        "outputId": "d6652fb3-01f6-49a7-b621-4f2aeb29191e"
      },
      "source": [
        "print(torch.ones_like(x)) # 입력 텐서와 크기를 동일하게 하면서 값을 1로 채우기"
      ],
      "execution_count": 121,
      "outputs": [
        {
          "output_type": "stream",
          "text": [
            "tensor([[1., 1., 1.],\n",
            "        [1., 1., 1.]])\n"
          ],
          "name": "stdout"
        }
      ]
    },
    {
      "cell_type": "markdown",
      "metadata": {
        "id": "PO1mVo8RnOBP",
        "colab_type": "text"
      },
      "source": [
        "위 텐서에 zeros_like를 하면 동일한 크기(shape)지만 0으로만 값이 채워진 텐서를 생성합니다."
      ]
    },
    {
      "cell_type": "code",
      "metadata": {
        "id": "GaGJpho6nO0c",
        "colab_type": "code",
        "colab": {
          "base_uri": "https://localhost:8080/",
          "height": 52
        },
        "outputId": "b1c328a6-4514-4a4b-bde9-7e1f210ad500"
      },
      "source": [
        "print(torch.zeros_like(x)) # 입력 텐서와 크기를 동일하게 하면서 값을 0으로 채우기"
      ],
      "execution_count": 122,
      "outputs": [
        {
          "output_type": "stream",
          "text": [
            "tensor([[0., 0., 0.],\n",
            "        [0., 0., 0.]])\n"
          ],
          "name": "stdout"
        }
      ]
    },
    {
      "cell_type": "markdown",
      "metadata": {
        "id": "eowaUPHgnSDJ",
        "colab_type": "text"
      },
      "source": [
        "### 1.3.8 In-place Operation (덮어쓰기 연산)\n",
        "\n",
        "실습을 위해 (2 × 2) 텐서를 만들고 x에 저장합니다."
      ]
    },
    {
      "cell_type": "code",
      "metadata": {
        "id": "CT0Dm8XAnP6J",
        "colab_type": "code",
        "colab": {}
      },
      "source": [
        "x = torch.FloatTensor([[1, 2], [3, 4]])"
      ],
      "execution_count": 0,
      "outputs": []
    },
    {
      "cell_type": "markdown",
      "metadata": {
        "id": "UQVfceLRnX8V",
        "colab_type": "text"
      },
      "source": [
        "곱하기 연산을 한 값과 기존의 값을 출력해보겠습니다."
      ]
    },
    {
      "cell_type": "code",
      "metadata": {
        "id": "4h-1yQFInW9k",
        "colab_type": "code",
        "colab": {
          "base_uri": "https://localhost:8080/",
          "height": 87
        },
        "outputId": "7859c5d7-248c-46aa-d7b9-d28643f75a5a"
      },
      "source": [
        "print(x.mul(2.)) # 곱하기 2를 수행한 결과를 출력\n",
        "print(x) # 기존의 값 출력"
      ],
      "execution_count": 127,
      "outputs": [
        {
          "output_type": "stream",
          "text": [
            "tensor([[2., 4.],\n",
            "        [6., 8.]])\n",
            "tensor([[1., 2.],\n",
            "        [3., 4.]])\n"
          ],
          "name": "stdout"
        }
      ]
    },
    {
      "cell_type": "markdown",
      "metadata": {
        "id": "uURS0IzzncWc",
        "colab_type": "text"
      },
      "source": [
        "첫번째 출력은 곱하기 2가 수행된 결과를 보여주고, 두번째 출력은 기존의 값이 그대로 출력된 것을 확인할 수 있습니다. 곱하기 2를 수행했지만 이를 x에다가 다시 저장하지 않았으니, 곱하기 연산을 하더라도 기존의 값 x는 변하지 않는 것이 당연합니다.\n",
        "\n",
        "그런데 연산 뒤에 _를 붙이면 기존의 값을 덮어쓰기 합니다."
      ]
    },
    {
      "cell_type": "code",
      "metadata": {
        "id": "7OZv8zCynZ-V",
        "colab_type": "code",
        "colab": {
          "base_uri": "https://localhost:8080/",
          "height": 87
        },
        "outputId": "dc7ffd3c-95af-4874-c01d-4d8efa03b0b1"
      },
      "source": [
        "print(x.mul_(2.))  # 곱하기 2를 수행한 결과를 변수 x에 값을 저장하면서 결과를 출력\n",
        "print(x)  # 변경된 값 출력"
      ],
      "execution_count": 128,
      "outputs": [
        {
          "output_type": "stream",
          "text": [
            "tensor([[2., 4.],\n",
            "        [6., 8.]])\n",
            "tensor([[2., 4.],\n",
            "        [6., 8.]])\n"
          ],
          "name": "stdout"
        }
      ]
    },
    {
      "cell_type": "markdown",
      "metadata": {
        "id": "N3rXJOU2nj7m",
        "colab_type": "text"
      },
      "source": [
        "이번에는 x의 값이 덮어쓰기 되어 2 곱하기 연산이 된 결과가 출력됩니다."
      ]
    },
    {
      "cell_type": "markdown",
      "metadata": {
        "id": "9e2rgVHhn51S",
        "colab_type": "text"
      },
      "source": [
        "## 1.4 파이썬 클래스(class)\n",
        "\n",
        "대부분의 파이토치의 구현체들을 보면 기본적으로 클래스(Class)라는 개념을 애용하고 있습니다. 이번 챕터에서는 점프투파이썬의 클래스 챕터를 인용하였습니다.\n",
        "\n",
        "링크 : https://wikidocs.net/28"
      ]
    },
    {
      "cell_type": "markdown",
      "metadata": {
        "id": "IWC581AHoC8e",
        "colab_type": "text"
      },
      "source": [
        "### 1.4.1 함수(function)과 클래스(Class)의 차이\n",
        "\n",
        "우선 함수와 클래스의 차이를 이해하기위해서 덧셈을 지속적으로 수행할 수 있는 도구를 함수와 클래스로 각각 만들어보겠습니다."
      ]
    },
    {
      "cell_type": "markdown",
      "metadata": {
        "id": "VZsj3ValoHBZ",
        "colab_type": "text"
      },
      "source": [
        "1) 함수(function)로 덧셈기 구현하기\n",
        "\n",
        "우선 add 함수를 파이썬으로 구현해보겠습니다.\n",
        "result라는 전역 변수를 선언합니다."
      ]
    },
    {
      "cell_type": "code",
      "metadata": {
        "id": "-SZqHFw2ngdq",
        "colab_type": "code",
        "colab": {}
      },
      "source": [
        "result = 0"
      ],
      "execution_count": 0,
      "outputs": []
    },
    {
      "cell_type": "markdown",
      "metadata": {
        "id": "D64oer7qoMnh",
        "colab_type": "text"
      },
      "source": [
        "그리고 add라는 함수를 구현합니다. add라는 함수에서는 기존의 result에 함수의 인자로 온 숫자를 더하고 리턴합니다."
      ]
    },
    {
      "cell_type": "code",
      "metadata": {
        "id": "nz4CnD_QoLi3",
        "colab_type": "code",
        "colab": {}
      },
      "source": [
        "def add(num):\n",
        "    global result\n",
        "    result += num\n",
        "    return result"
      ],
      "execution_count": 0,
      "outputs": []
    },
    {
      "cell_type": "markdown",
      "metadata": {
        "id": "Veu_4gHgoPoH",
        "colab_type": "text"
      },
      "source": [
        "함수를 두 번 실행시키는데 처음에는 3을 넣고, 두번째에는 4를 넣습니다."
      ]
    },
    {
      "cell_type": "code",
      "metadata": {
        "id": "NTjjDin4oOML",
        "colab_type": "code",
        "colab": {
          "base_uri": "https://localhost:8080/",
          "height": 52
        },
        "outputId": "0b0b656b-e8d1-455b-e105-5c3939c87a8d"
      },
      "source": [
        "print(add(3))\n",
        "print(add(4))"
      ],
      "execution_count": 131,
      "outputs": [
        {
          "output_type": "stream",
          "text": [
            "3\n",
            "7\n"
          ],
          "name": "stdout"
        }
      ]
    },
    {
      "cell_type": "markdown",
      "metadata": {
        "id": "hnW-GsshoSTO",
        "colab_type": "text"
      },
      "source": [
        "처음에는 result가 0이었다가 3이 더해지면서 3이 출력되고, 추가로 4를 입력하면 result의 값이 이미 앞서 3으로 갱신되었기 때문에 3+4의 결과로 7이 리턴됩니다."
      ]
    },
    {
      "cell_type": "markdown",
      "metadata": {
        "id": "wN3sQWl7oTg7",
        "colab_type": "text"
      },
      "source": [
        "2) 함수(function)로 두 개의 덧셈기 구현하기\n",
        "\n",
        "이번에는 독립적인 두 개의 덧셈기를 만들어보고 싶습니다. 비유하면, 책상에 두 개의 계산기를 두고 서로 다른 연산을 하고 싶습니다. 첫번째 계산기로는 3+7을 하고 있고, 두번째 계산기로는 3+10을 하고 싶은 것입니다. 이 두 계산기는 서로 다른 계산기이므로 독립적이어야 합니다. 이를 함수로 구현하려면, 하나의 함수는 1개의 덧셈기만을 의미하므로 이 경우에는 두 개의 함수를 독립적으로 만들어야 합니다."
      ]
    },
    {
      "cell_type": "code",
      "metadata": {
        "id": "VvRi1MpKoRFD",
        "colab_type": "code",
        "colab": {
          "base_uri": "https://localhost:8080/",
          "height": 87
        },
        "outputId": "b68a2ba6-cfb7-43cc-ef26-a8b1a2e55107"
      },
      "source": [
        "result1 = 0\n",
        "result2 = 0\n",
        "\n",
        "def add1(num):\n",
        "    global result1\n",
        "    result1 += num\n",
        "    return result1\n",
        "\n",
        "def add2(num):\n",
        "    global result2\n",
        "    result2 += num\n",
        "    return result2\n",
        "\n",
        "print(add1(3))\n",
        "print(add1(4))\n",
        "print(add2(3))\n",
        "print(add2(7))"
      ],
      "execution_count": 132,
      "outputs": [
        {
          "output_type": "stream",
          "text": [
            "3\n",
            "7\n",
            "3\n",
            "10\n"
          ],
          "name": "stdout"
        }
      ]
    },
    {
      "cell_type": "markdown",
      "metadata": {
        "id": "ZAGcHcMYoZxX",
        "colab_type": "text"
      },
      "source": [
        "서로의 값에 영향을 주지않고 서로 다른 연산을 하고 있음을 볼 수 있습니다. 그렇다면 이런 두 개의 덧셈기를 클래스로 만들면 어떻게 될까요?"
      ]
    },
    {
      "cell_type": "markdown",
      "metadata": {
        "id": "p6Mg1JQHoc5-",
        "colab_type": "text"
      },
      "source": [
        "3) 클래스(class)로 덧셈기 구현하기\n",
        "\n",
        "이번에는 클래스로 구현해보겠습니다."
      ]
    },
    {
      "cell_type": "code",
      "metadata": {
        "id": "9btwKjc6oX_N",
        "colab_type": "code",
        "colab": {}
      },
      "source": [
        "class Calculator:\n",
        "    def __init__(self): # 객체 생성 시 호출될 때 실행되는 초기화 함수. 이를 생성자라고 한다.\n",
        "        self.result = 0\n",
        "\n",
        "    def add(self, num): # 객체 생성 후 사용할 수 있는 함수.\n",
        "        self.result += num\n",
        "        return self.result"
      ],
      "execution_count": 0,
      "outputs": []
    },
    {
      "cell_type": "markdown",
      "metadata": {
        "id": "CaQ8W87joiTm",
        "colab_type": "text"
      },
      "source": [
        "클래스는 마치 붕어빵 틀과 같아서 클래스를 생성한 후에는 이걸로 객체라는 것을 만들 수 있습니다. cal1이라는 객체를 만들겠습니다. 이는 붕어빵 틀로 하나의 붕어빵을 만드는 것에 비유됩니다."
      ]
    },
    {
      "cell_type": "code",
      "metadata": {
        "id": "Hf6V6e9kog45",
        "colab_type": "code",
        "colab": {}
      },
      "source": [
        "cal1 = Calculator()"
      ],
      "execution_count": 0,
      "outputs": []
    },
    {
      "cell_type": "markdown",
      "metadata": {
        "id": "P3k8rgTVolAr",
        "colab_type": "text"
      },
      "source": [
        "객체의 생성 방법은 객체의 이름을 정한뒤에 '=클래스이름()'으로 객체를 생성합니다. 클래스가 붕어빵 틀과 같다는 이유는 하나의 클래스를 만든 후에는 여러 개의 객체를 만드는 것이 가능하기 때문입니다. 또 하나의 객체 cal2도 생성해보겠습니다."
      ]
    },
    {
      "cell_type": "code",
      "metadata": {
        "id": "xThMxFooojji",
        "colab_type": "code",
        "colab": {}
      },
      "source": [
        "cal2 = Calculator()"
      ],
      "execution_count": 0,
      "outputs": []
    },
    {
      "cell_type": "markdown",
      "metadata": {
        "id": "lCyC3g0Tons2",
        "colab_type": "text"
      },
      "source": [
        "두 개의 객체를 생성하였습니다. 이제 두 개의 객체에 대해서 동시에 독립적인 덧셈 연산을 해보겠습니다."
      ]
    },
    {
      "cell_type": "code",
      "metadata": {
        "id": "EtIS3Epjompt",
        "colab_type": "code",
        "colab": {
          "base_uri": "https://localhost:8080/",
          "height": 87
        },
        "outputId": "c8008e18-4528-4d3f-8ed3-57230f01506f"
      },
      "source": [
        "print(cal1.add(3))\n",
        "print(cal1.add(4))\n",
        "print(cal2.add(3))\n",
        "print(cal2.add(7))"
      ],
      "execution_count": 136,
      "outputs": [
        {
          "output_type": "stream",
          "text": [
            "3\n",
            "7\n",
            "3\n",
            "10\n"
          ],
          "name": "stdout"
        }
      ]
    },
    {
      "cell_type": "markdown",
      "metadata": {
        "id": "TrOMX2g5oyRZ",
        "colab_type": "text"
      },
      "source": [
        "두 개의 객체는 독립적으로 연산되고 있음을 알 수 있습니다. 앞에서는 이렇게 독립적인 두 개의 덧셈기를 함수로 구현하려고 했다면 함수를 두 개 만들어야 했지만, 클래스라는 것을 하나 선언하고, 이 클래스를 통해 별도의 객체를 생성하자 코드가 훨씬 간결해졌습니다."
      ]
    }
  ]
}