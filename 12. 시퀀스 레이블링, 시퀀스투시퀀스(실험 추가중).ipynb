{
  "nbformat": 4,
  "nbformat_minor": 0,
  "metadata": {
    "colab": {
      "name": "Untitled15.ipynb",
      "provenance": [],
      "authorship_tag": "ABX9TyNW8vvSqO+hHf18NPUYwDuj",
      "include_colab_link": true
    },
    "kernelspec": {
      "name": "python3",
      "display_name": "Python 3"
    },
    "accelerator": "GPU"
  },
  "cells": [
    {
      "cell_type": "markdown",
      "metadata": {
        "id": "view-in-github",
        "colab_type": "text"
      },
      "source": [
        "<a href=\"https://colab.research.google.com/github/Namsik-Yoon/pytorch_basic/blob/master/12.%20%EC%8B%9C%ED%80%80%EC%8A%A4%20%EB%A0%88%EC%9D%B4%EB%B8%94%EB%A7%81%2C%20%EC%8B%9C%ED%80%80%EC%8A%A4%ED%88%AC%EC%8B%9C%ED%80%80%EC%8A%A4(%EC%8B%A4%ED%97%98%20%EC%B6%94%EA%B0%80%EC%A4%91).ipynb\" target=\"_parent\"><img src=\"https://colab.research.google.com/assets/colab-badge.svg\" alt=\"Open In Colab\"/></a>"
      ]
    },
    {
      "cell_type": "markdown",
      "metadata": {
        "id": "jtfVIpu8Gya7"
      },
      "source": [
        "# 12. 시퀀스 레이블링, 시퀀스2시퀀스(SeqLabeling and Seq2Seq)"
      ]
    },
    {
      "cell_type": "markdown",
      "metadata": {
        "id": "Fa8YdsE5HHgl"
      },
      "source": [
        "## 12.1 시퀀스 레이블링(Sequence Labeling)\r\n",
        "\r\n",
        "이번 챕터에서는 파이토치(PyTorch)로 인공 신경망을 이용하여 태깅 작업을 하는 모델을 만듭니다. 개체명 인식기와 품사 태거를 만드는데, 이러한 두 작업의 공통점은 RNN의 다-대-다(Many-to-Many) 작업이면서 또한 앞, 뒤 시점의 입력을 모두 참고하는 양방향 RNN(Bidirectional RNN)을 사용한다는 점입니다.\r\n",
        "\r\n",
        "두 개의 실습 챕터를 진행하기 전에 전체적으로 실습이 어떻게 진행되는지 정리해보도록 하겠습니다. 텍스트 분류 개요 챕터와 겹치는 부분에 대해서는 요약하여 설명하므로, 이해가 되지 않는 부분이 있다면 해당 챕터를 참고바랍니다."
      ]
    },
    {
      "cell_type": "markdown",
      "metadata": {
        "id": "70PimEjsH_Zz"
      },
      "source": [
        "### 12.1.1 훈련 데이터에 대한 이해\r\n",
        "\r\n",
        "\r\n",
        "\r\n",
        "태깅 작업은 앞서 배운 텍스트 분류 작업과 동일하게 지도 학습(Supervised Learning)에 속합니다. 이 챕터에서는 태깅을 해야하는 단어 데이터를 X, 레이블에 해당되는 태깅 정보 데이터는 y라고 이름을 붙였습니다. X에 대한 훈련 데이터는 X_train, 테스트 데이터는 X_test라고 명명하고 y에 대한 훈련 데이터는 y_train, 테스트 데이터는 y_test라고 명명합니다.\r\n",
        "\r\n",
        "이번 챕터에서 X와 y데이터의 쌍(pair)은 병렬 구조를 가진다는 특징을 가집니다. X와 y의 각 샘플의 길이는 같습니다. 예를 들어 품사 태깅 작업을 한다고 가정해보겠습니다. 그리고 X_train와 y_train의 데이터 중 4개의 샘플만 확인해본다고 가정해보겠습니다. 이 때 데이터는 다음과 같은 구조를 가집니다.\r\n",
        "\r\n",
        "|-|X_train|y_train|길이|\r\n",
        "|---|---|---|---|\r\n",
        "|0|['EU', 'rejects', 'German', 'call', 'to', 'boycott', 'British', 'lamb']|['B-ORG', 'O', 'B-MISC', 'O', 'O', 'O', 'B-MISC', 'O']|8|\r\n",
        "|1|['peter', 'blackburn']|['B-PER', 'I-PER']|2|\r\n",
        "|2|['brussels', '1996-08-22' ]|['B-LOC', 'O']|2|\r\n",
        "|3|['The', 'European', 'Commission']|\t['O', 'B-ORG', 'I-ORG']|3|\r\n",
        "\r\n",
        "가령, X_train[3]의 'The'와 y_train[3]의 'O'는 하나의 쌍(pair)입니다. 또한, X_train[3]의 'European'과 y_train[3]의 'B-ORG'는 쌍의 관계를 가지며, X_train[3]의 'Commision'과 y_train[3]의 'I-ORG'는 쌍의 관계를 가집니다.\r\n",
        "\r\n",
        "이렇게 병렬 관계를 가지는 각 데이터는 정수 인코딩 과정을 거친 후, 모든 데이터의 길이를 동일하게 맞춰주기위한 패딩(Padding) 작업을 거칩니다."
      ]
    },
    {
      "cell_type": "markdown",
      "metadata": {
        "id": "9DLMT4xFHH16"
      },
      "source": [
        "## 12.1.2 시퀀스 레이블링(Sequence Labeling)\r\n",
        "\r\n",
        "위와 같이 입력 시퀀스 $X = [x_1, x_2, x_3, ..., x_n]$에 대하여 레이블 시퀀스 $y = [y_1, y_2, y_3, ..., y_n]$를 각각 부여하는 작업을 시퀀스 레이블링 작업(Sequence Labeling Task)이라고 합니다. 태깅 작업은 대표적인 시퀀스 레이블링 작업입니다."
      ]
    },
    {
      "cell_type": "markdown",
      "metadata": {
        "id": "lITRKRsvHH3-"
      },
      "source": [
        "### 12.1.3 양방향 RNN(Bidirectional RNN)\r\n",
        "\r\n",
        "```\r\n",
        "nn.RNN(input_size = input_size, hidden_size = hidden_size, num_layers = 1, batch_first=True, bidirectional = True)\r\n",
        "```\r\n",
        "\r\n",
        "이번 챕터에서도 바닐라 RNN이 아니라 성능이 개선된 RNN인 LSTM이나 GRU 등을 사용합니다. 텍스트 분류 챕터에서는 단방향 RNN을 사용하였지만, 이번 챕터에서는 양방향 RNN을 사용합니다. 이전 시점의 단어 정보 뿐만 아니라, 다음 시점의 단어 정보도 참고하기 위함입니다. 양방향은 기존의 단방향 nn.RNN()에서 bidirectional 인자의 값으로 True를 넣으면 됩니다."
      ]
    },
    {
      "cell_type": "markdown",
      "metadata": {
        "id": "txOFRKg5HH6B"
      },
      "source": [
        "### 12.1.4 RNN의 다-대-다(Many-to-Many) 문제\r\n",
        "\r\n",
        "이제 RNN이 어떻게 설계되는지 확인해보도록 하겠습니다. 예를 들어 위에서 설명한 데이터 중 첫번째 데이터에 해당되는 X_train[0]를 가지고 4번의 시점(time steps)까지 RNN을 진행하였을 때의 그림은 다음과 같습니다.\r\n",
        "\r\n",
        "![image.png](data:image/png;base64,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)\r\n"
      ]
    },
    {
      "cell_type": "markdown",
      "metadata": {
        "id": "ygofiWBZIYps"
      },
      "source": [
        "하지만 이번 실습에서는 양방향 RNN을 사용할 것이므로 아래의 그림과 같습니다.\r\n",
        "\r\n",
        "![image.png](data:image/png;base64,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)"
      ]
    },
    {
      "cell_type": "markdown",
      "metadata": {
        "id": "gEFb1-1CIejb"
      },
      "source": [
        "## 12.2 양방향 RNN을 이용한 품사 태깅\r\n",
        "\r\n",
        "이번 챕터에서는 파이토치(PyTorch)를 사용하여 시퀀스 레이블링의 대표적인 태스크인 품사 태깅(PoS tagging) 작업을 구현해보겠습니다."
      ]
    },
    {
      "cell_type": "markdown",
      "metadata": {
        "id": "tyrT7plrIkUC"
      },
      "source": [
        "### 12.2.1 셋팅하기\r\n",
        "\r\n",
        "우선 필요한 도구들을 임포트합니다."
      ]
    },
    {
      "cell_type": "code",
      "metadata": {
        "id": "W2U5QSTCG-z2"
      },
      "source": [
        "import torch\r\n",
        "import torch.nn as nn\r\n",
        "import torch.nn.functional as F\r\n",
        "import torch.optim as optim\r\n",
        "from torchtext import data\r\n",
        "from torchtext import datasets\r\n",
        "import time\r\n",
        "import random\r\n",
        "\r\n",
        "SEED = 1234\r\n",
        "random.seed(SEED)\r\n",
        "torch.manual_seed(SEED)\r\n",
        "\r\n",
        "device = torch.device('cuda' if torch.cuda.is_available() else 'cpu')"
      ],
      "execution_count": 19,
      "outputs": []
    },
    {
      "cell_type": "markdown",
      "metadata": {
        "id": "d7tz4CvCIsjo"
      },
      "source": [
        "### 12.2.2 훈련 데이터에 대한 이해\r\n",
        "\r\n",
        "이번 챕터에서도 토치 텍스트를 사용합니다."
      ]
    },
    {
      "cell_type": "markdown",
      "metadata": {
        "id": "oS2xhvjTIwEq"
      },
      "source": [
        "1) 필드 정의하기\r\n",
        "\r\n",
        "이번에 사용할 데이터응 총 3개의 열, 즉, 다시 말해 3개의 필드를 가지고 있습니다. 레이블이 총 2개이기 때문인데 이 중 1개만 사용할 것이지만 원활하게 데이터를 불러오기 위해서 일단은 3개 모두 필드를 정의해줍니다."
      ]
    },
    {
      "cell_type": "code",
      "metadata": {
        "id": "qbaC6a1ZIzy8"
      },
      "source": [
        "# 3개의 필드 정의\r\n",
        "TEXT = data.Field(lower = True)\r\n",
        "UD_TAGS = data.Field(unk_token = None)\r\n",
        "PTB_TAGS = data.Field(unk_token = None)\r\n",
        "\r\n",
        "fields = ((\"text\", TEXT), (\"udtags\", UD_TAGS), (\"ptbtags\", PTB_TAGS))"
      ],
      "execution_count": null,
      "outputs": []
    },
    {
      "cell_type": "markdown",
      "metadata": {
        "id": "koEOuzluIwGu"
      },
      "source": [
        "2) 데이터셋 만들기\r\n",
        "\r\n",
        "이제 토치텍스트에서 제공하는 훈련 데이터를 불러오는 동시에 데이터셋을 만들어보겠습니다. 훈련 데이터, 검증 데이터, 테스트 데이터를 각각 나눠서 저장해줍니다."
      ]
    },
    {
      "cell_type": "code",
      "metadata": {
        "id": "-LiioS6SI3s8"
      },
      "source": [
        "train_data, valid_data, test_data = datasets.UDPOS.splits(fields)"
      ],
      "execution_count": null,
      "outputs": []
    },
    {
      "cell_type": "markdown",
      "metadata": {
        "id": "ZtmUw7vNIwIx"
      },
      "source": [
        "훈련 데이터, 검증 데이터, 테스트 데이터의 크기를 확인해봅시다."
      ]
    },
    {
      "cell_type": "code",
      "metadata": {
        "colab": {
          "base_uri": "https://localhost:8080/"
        },
        "id": "6N-j1m5hI8Fn",
        "outputId": "6e53d947-85ed-4a69-8ef3-63f814e8a3de"
      },
      "source": [
        "print(f\"훈련 샘플의 개수 : {len(train_data)}\")\r\n",
        "print(f\"검증 샘플의 개수 : {len(valid_data)}\")\r\n",
        "print(f\"테스트 샘플의 개수 : {len(test_data)}\")"
      ],
      "execution_count": null,
      "outputs": [
        {
          "output_type": "stream",
          "text": [
            "훈련 샘플의 개수 : 12543\n",
            "검증 샘플의 개수 : 2002\n",
            "테스트 샘플의 개수 : 2077\n"
          ],
          "name": "stdout"
        }
      ]
    },
    {
      "cell_type": "markdown",
      "metadata": {
        "id": "jP71A5xdIwK1"
      },
      "source": [
        "데이터셋을 생성하였으니 훈련 데이터의 필드들을 출력해봅시다."
      ]
    },
    {
      "cell_type": "code",
      "metadata": {
        "colab": {
          "base_uri": "https://localhost:8080/"
        },
        "id": "MJ0f93jHIrn3",
        "outputId": "2c76d72c-6540-42c4-dd4a-72a52a0b2cbe"
      },
      "source": [
        "# 훈련 데이터의 3개의 필드 확인\r\n",
        "print(train_data.fields)"
      ],
      "execution_count": null,
      "outputs": [
        {
          "output_type": "stream",
          "text": [
            "{'text': <torchtext.data.field.Field object at 0x7f401211ea58>, 'udtags': <torchtext.data.field.Field object at 0x7f401211e9e8>, 'ptbtags': <torchtext.data.field.Field object at 0x7f401211ea90>}\n"
          ],
          "name": "stdout"
        }
      ]
    },
    {
      "cell_type": "markdown",
      "metadata": {
        "id": "SUZ0m2grJAMK"
      },
      "source": [
        "훈련 데이터의 첫번째 샘플에서 text와 두 개의 레이블을 모두 출력해보겠습니다."
      ]
    },
    {
      "cell_type": "code",
      "metadata": {
        "colab": {
          "base_uri": "https://localhost:8080/"
        },
        "id": "Od1rxXQ6JDPj",
        "outputId": "13a0912a-cf19-4780-e012-d2728d07a1d3"
      },
      "source": [
        "# 첫번째 훈련 샘플의 text 필드\r\n",
        "print(vars(train_data.examples[0])['text'])"
      ],
      "execution_count": null,
      "outputs": [
        {
          "output_type": "stream",
          "text": [
            "['al', '-', 'zaman', ':', 'american', 'forces', 'killed', 'shaikh', 'abdullah', 'al', '-', 'ani', ',', 'the', 'preacher', 'at', 'the', 'mosque', 'in', 'the', 'town', 'of', 'qaim', ',', 'near', 'the', 'syrian', 'border', '.']\n"
          ],
          "name": "stdout"
        }
      ]
    },
    {
      "cell_type": "markdown",
      "metadata": {
        "id": "sjD_4FNvJAOR"
      },
      "source": [
        "첫번째 레이블은 udtags입니다. 우리가 사용할 레이블입니다."
      ]
    },
    {
      "cell_type": "code",
      "metadata": {
        "colab": {
          "base_uri": "https://localhost:8080/"
        },
        "id": "-cD0e4LyJho1",
        "outputId": "49158618-d8f4-4836-c4ea-546721a3da45"
      },
      "source": [
        "# 첫번째 훈련 샘플의 udtags 필드\r\n",
        "print(vars(train_data.examples[0])['udtags'])"
      ],
      "execution_count": null,
      "outputs": [
        {
          "output_type": "stream",
          "text": [
            "['PROPN', 'PUNCT', 'PROPN', 'PUNCT', 'ADJ', 'NOUN', 'VERB', 'PROPN', 'PROPN', 'PROPN', 'PUNCT', 'PROPN', 'PUNCT', 'DET', 'NOUN', 'ADP', 'DET', 'NOUN', 'ADP', 'DET', 'NOUN', 'ADP', 'PROPN', 'PUNCT', 'ADP', 'DET', 'ADJ', 'NOUN', 'PUNCT']\n"
          ],
          "name": "stdout"
        }
      ]
    },
    {
      "cell_type": "markdown",
      "metadata": {
        "id": "sU0y7UMCJAQC"
      },
      "source": [
        "두번째 레이블은 ptbdtags입니다. 여기서는 사용하지 않을 레이블입니다."
      ]
    },
    {
      "cell_type": "code",
      "metadata": {
        "colab": {
          "base_uri": "https://localhost:8080/"
        },
        "id": "cuCiBDRIJkg8",
        "outputId": "c83ac8dd-abb3-45b3-c9ee-65501f61758b"
      },
      "source": [
        "# 첫번째 훈련 샘플의 ptbdtags 필드\r\n",
        "print(vars(train_data.examples[0])['ptbtags'])"
      ],
      "execution_count": null,
      "outputs": [
        {
          "output_type": "stream",
          "text": [
            "['NNP', 'HYPH', 'NNP', ':', 'JJ', 'NNS', 'VBD', 'NNP', 'NNP', 'NNP', 'HYPH', 'NNP', ',', 'DT', 'NN', 'IN', 'DT', 'NN', 'IN', 'DT', 'NN', 'IN', 'NNP', ',', 'IN', 'DT', 'JJ', 'NN', '.']\n"
          ],
          "name": "stdout"
        }
      ]
    },
    {
      "cell_type": "markdown",
      "metadata": {
        "id": "p-vEndKIJASM"
      },
      "source": [
        "3) 단어 집합(Vocabulary) 만들기\r\n",
        "\r\n",
        "이제 단어 집합을 생성해보겠습니다. 그리고 단어 집합을 생성 시에 사전 훈련된 워드 임베딩인 GloVe를 사용합니다."
      ]
    },
    {
      "cell_type": "code",
      "metadata": {
        "id": "EZeaDgC_JrCv"
      },
      "source": [
        "# 최소 허용 빈도\r\n",
        "MIN_FREQ = 5\r\n",
        "\r\n",
        "# 사전 훈련된 워드 임베딩 GloVe 다운로드\r\n",
        "TEXT.build_vocab(train_data, min_freq = MIN_FREQ, vectors = \"glove.6B.100d\")\r\n",
        "UD_TAGS.build_vocab(train_data)\r\n",
        "PTB_TAGS.build_vocab(train_data)"
      ],
      "execution_count": null,
      "outputs": []
    },
    {
      "cell_type": "markdown",
      "metadata": {
        "id": "U1_OVcjpJAUO"
      },
      "source": [
        "상위 빈도수 20개의 단어만 출력해봅시다. .vocab.freqs.most_common(20)를 통해 출력 가능합니다."
      ]
    },
    {
      "cell_type": "code",
      "metadata": {
        "colab": {
          "base_uri": "https://localhost:8080/"
        },
        "id": "Y-8CZoH2JunS",
        "outputId": "d6cd9882-4d0d-4429-bdeb-c272cc295914"
      },
      "source": [
        "# 상위 빈도수 20개 단어\r\n",
        "print(TEXT.vocab.freqs.most_common(20))"
      ],
      "execution_count": null,
      "outputs": [
        {
          "output_type": "stream",
          "text": [
            "[('the', 9076), ('.', 8640), (',', 7021), ('to', 5137), ('and', 5002), ('a', 3782), ('of', 3622), ('i', 3379), ('in', 3112), ('is', 2239), ('you', 2156), ('that', 2036), ('it', 1850), ('for', 1842), ('-', 1426), ('have', 1359), ('\"', 1296), ('on', 1273), ('was', 1244), ('with', 1216)]\n"
          ],
          "name": "stdout"
        }
      ]
    },
    {
      "cell_type": "markdown",
      "metadata": {
        "id": "jaIN8f8dJAWG"
      },
      "source": [
        "영어에서는 (다른 여러 훈련 데이터에서도) 보통 the가 빈도수가 가장 많습니다. 토치텍스트는 기본적으로 빈도수가 가장 높은 단어부터 작은 숫자를 부여합니다. 물론, <unk>는 0번, <pad>는 1번으로 자동으로 부여되므로 제외입니다.\r\n",
        "\r\n",
        "상위 정수 인덱스를 가진 10개의 단어를 출력합니다. 다시 말해 0번부터 9번까지의 단어를 출력해보겠습니다."
      ]
    },
    {
      "cell_type": "code",
      "metadata": {
        "colab": {
          "base_uri": "https://localhost:8080/"
        },
        "id": "w08xxIEnJyDC",
        "outputId": "2aa6ba9d-c4ad-4dfe-9d9c-979a184db5ea"
      },
      "source": [
        "# 상위 정수 인덱스 단어 10개 출력\r\n",
        "print(TEXT.vocab.itos[:10])"
      ],
      "execution_count": null,
      "outputs": [
        {
          "output_type": "stream",
          "text": [
            "['<unk>', '<pad>', 'the', '.', ',', 'to', 'and', 'a', 'of', 'i']\n"
          ],
          "name": "stdout"
        }
      ]
    },
    {
      "cell_type": "markdown",
      "metadata": {
        "id": "1hOBrbi6JAYJ"
      },
      "source": [
        "이제 레이블의 단어 집합에 대해서 빈도수가 가장 높은 단어들과 그 빈도수를 출력해보겠습니다."
      ]
    },
    {
      "cell_type": "code",
      "metadata": {
        "colab": {
          "base_uri": "https://localhost:8080/"
        },
        "id": "lguEPjApJ1pz",
        "outputId": "0d471426-a9fe-4047-d55a-b9d9736eb338"
      },
      "source": [
        "# 상위 빈도순으로 udtags 출력\r\n",
        "print(UD_TAGS.vocab.freqs.most_common())"
      ],
      "execution_count": null,
      "outputs": [
        {
          "output_type": "stream",
          "text": [
            "[('NOUN', 34781), ('PUNCT', 23679), ('VERB', 23081), ('PRON', 18577), ('ADP', 17638), ('DET', 16285), ('PROPN', 12946), ('ADJ', 12477), ('AUX', 12343), ('ADV', 10548), ('CCONJ', 6707), ('PART', 5567), ('NUM', 3999), ('SCONJ', 3843), ('X', 847), ('INTJ', 688), ('SYM', 599)]\n"
          ],
          "name": "stdout"
        }
      ]
    },
    {
      "cell_type": "markdown",
      "metadata": {
        "id": "JZj8sqifJAaa"
      },
      "source": [
        "상위 정수 인덱스를 가진 10개의 단어를 출력합니다. 다시 말해 0번부터 9번까지의 단어를 출력해보겠습니다."
      ]
    },
    {
      "cell_type": "code",
      "metadata": {
        "colab": {
          "base_uri": "https://localhost:8080/"
        },
        "id": "749KgJ9oJ4ZU",
        "outputId": "6a97ac01-80e6-47d5-8d9d-cc1d720e2b92"
      },
      "source": [
        "# 상위 정수 인덱스 순으로 출력\r\n",
        "print(UD_TAGS.vocab.itos)"
      ],
      "execution_count": null,
      "outputs": [
        {
          "output_type": "stream",
          "text": [
            "['<pad>', 'NOUN', 'PUNCT', 'VERB', 'PRON', 'ADP', 'DET', 'PROPN', 'ADJ', 'AUX', 'ADV', 'CCONJ', 'PART', 'NUM', 'SCONJ', 'X', 'INTJ', 'SYM']\n"
          ],
          "name": "stdout"
        }
      ]
    },
    {
      "cell_type": "markdown",
      "metadata": {
        "id": "COJv7YKKKAYI"
      },
      "source": [
        "레이블에 속한 단어들의 분포를 출력해보겠습니다."
      ]
    },
    {
      "cell_type": "code",
      "metadata": {
        "colab": {
          "base_uri": "https://localhost:8080/"
        },
        "id": "buQDCuHjJ7TB",
        "outputId": "a1bef293-4b33-4f7a-c701-41a87f8b4968"
      },
      "source": [
        "def tag_percentage(tag_counts): # 태그 레이블의 분포를 확인하는 함수\r\n",
        "    total_count = sum([count for tag, count in tag_counts])\r\n",
        "    tag_counts_percentages = [(tag, count, count/total_count) for tag, count in tag_counts]\r\n",
        "    return tag_counts_percentages\r\n",
        "\r\n",
        "\r\n",
        "print(\"Tag  Occurences Percentage\\n\")\r\n",
        "for tag, count, percent in tag_percentage(UD_TAGS.vocab.freqs.most_common()):\r\n",
        "    print(f\"{tag}\\t{count}\\t{percent*100:4.1f}%\")"
      ],
      "execution_count": null,
      "outputs": [
        {
          "output_type": "stream",
          "text": [
            "Tag  Occurences Percentage\n",
            "\n",
            "NOUN\t34781\t17.0%\n",
            "PUNCT\t23679\t11.6%\n",
            "VERB\t23081\t11.3%\n",
            "PRON\t18577\t 9.1%\n",
            "ADP\t17638\t 8.6%\n",
            "DET\t16285\t 8.0%\n",
            "PROPN\t12946\t 6.3%\n",
            "ADJ\t12477\t 6.1%\n",
            "AUX\t12343\t 6.0%\n",
            "ADV\t10548\t 5.2%\n",
            "CCONJ\t6707\t 3.3%\n",
            "PART\t5567\t 2.7%\n",
            "NUM\t3999\t 2.0%\n",
            "SCONJ\t3843\t 1.9%\n",
            "X\t847\t 0.4%\n",
            "INTJ\t688\t 0.3%\n",
            "SYM\t599\t 0.3%\n"
          ],
          "name": "stdout"
        }
      ]
    },
    {
      "cell_type": "markdown",
      "metadata": {
        "id": "qygko_zsJAcV"
      },
      "source": [
        "4) 데이터로더 만들기\r\n",
        "\r\n",
        "이제 데이터로더를 만듭니다. 배치 크기는 64로 합니다."
      ]
    },
    {
      "cell_type": "code",
      "metadata": {
        "id": "KciLZ7fIKF_5"
      },
      "source": [
        "BATCH_SIZE = 64\r\n",
        "\r\n",
        "train_iterator, valid_iterator, test_iterator = data.BucketIterator.splits(\r\n",
        "    (train_data, valid_data, test_data), \r\n",
        "    batch_size = BATCH_SIZE,\r\n",
        "    device = device)"
      ],
      "execution_count": null,
      "outputs": []
    },
    {
      "cell_type": "markdown",
      "metadata": {
        "id": "NiWYdNmJJAen"
      },
      "source": [
        "첫번째 미니 배치만 꺼내서 미니 배치의 구성, 크기, text를 출력해봅시다."
      ]
    },
    {
      "cell_type": "code",
      "metadata": {
        "id": "X9R91-diKIjK",
        "colab": {
          "base_uri": "https://localhost:8080/"
        },
        "outputId": "2c19c9e4-d714-49a0-cd66-2b0ed323a709"
      },
      "source": [
        "batch = next(iter(train_iterator))\r\n",
        "batch"
      ],
      "execution_count": null,
      "outputs": [
        {
          "output_type": "execute_result",
          "data": {
            "text/plain": [
              "\n",
              "[torchtext.data.batch.Batch of size 64 from UDPOS]\n",
              "\t[.text]:[torch.cuda.LongTensor of size 46x64 (GPU 0)]\n",
              "\t[.udtags]:[torch.cuda.LongTensor of size 46x64 (GPU 0)]\n",
              "\t[.ptbtags]:[torch.cuda.LongTensor of size 46x64 (GPU 0)]"
            ]
          },
          "metadata": {
            "tags": []
          },
          "execution_count": 16
        }
      ]
    },
    {
      "cell_type": "markdown",
      "metadata": {
        "id": "q76IHanQKNgg"
      },
      "source": [
        "첫번째 미니 배치의 text의 크기를 출력해봅시다."
      ]
    },
    {
      "cell_type": "code",
      "metadata": {
        "colab": {
          "base_uri": "https://localhost:8080/"
        },
        "id": "NxLpPDKOKO5u",
        "outputId": "8eeb7c48-1fdf-42e0-ef9e-38f0b68e88e9"
      },
      "source": [
        "batch.text.shape"
      ],
      "execution_count": null,
      "outputs": [
        {
          "output_type": "execute_result",
          "data": {
            "text/plain": [
              "torch.Size([46, 64])"
            ]
          },
          "metadata": {
            "tags": []
          },
          "execution_count": 17
        }
      ]
    },
    {
      "cell_type": "markdown",
      "metadata": {
        "id": "g8J92dwBKNiy"
      },
      "source": [
        "첫번째 미니 배치의 크기는 (시퀀스 길이 × 배치 크기)입니다. batch_first=True를 하지 않았으므로 배치 크기가 두번째 차원이 됩니다."
      ]
    },
    {
      "cell_type": "code",
      "metadata": {
        "colab": {
          "base_uri": "https://localhost:8080/"
        },
        "id": "MABuHAHCKRg5",
        "outputId": "38d06183-69ba-4057-f4d3-f88e2b254784"
      },
      "source": [
        "batch.text"
      ],
      "execution_count": null,
      "outputs": [
        {
          "output_type": "execute_result",
          "data": {
            "text/plain": [
              "tensor([[ 732,  167,    2,  ...,    2,   59,  668],\n",
              "        [  16,  196,  133,  ..., 2991,   46,    1],\n",
              "        [   1,   29,   48,  ..., 1582,   12,    1],\n",
              "        ...,\n",
              "        [   1,    1,    1,  ...,    1,    1,    1],\n",
              "        [   1,    1,    1,  ...,    1,    1,    1],\n",
              "        [   1,    1,    1,  ...,    1,    1,    1]], device='cuda:0')"
            ]
          },
          "metadata": {
            "tags": []
          },
          "execution_count": 18
        }
      ]
    },
    {
      "cell_type": "markdown",
      "metadata": {
        "id": "YyBSL3-uKNkr"
      },
      "source": [
        "### 12.2.3 모델 구현하기\r\n",
        "\r\n",
        "이제 모델을 구현해봅시다. 기본적으로 다대다 RNN을 사용할텐데, 일단 양방향 여부와 층의 개수는 변수로 두겠습니다."
      ]
    },
    {
      "cell_type": "code",
      "metadata": {
        "id": "QIE83zVzKjB1"
      },
      "source": [
        "# 이번 모델에서는 batch_first=True를 사용하지 않으므로 배치 차원이 맨 앞이 아님.\r\n",
        "class RNNPOSTagger(nn.Module):\r\n",
        "    def __init__(self, vocab_size, embedding_dim, hidden_dim, output_dim, n_layers, bidirectional, dropout): \r\n",
        "        super().__init__()\r\n",
        "\r\n",
        "        self.embedding = nn.Embedding(vocab_size, embedding_dim)\r\n",
        "        self.rnn = nn.LSTM(embedding_dim, hidden_dim, num_layers = n_layers, bidirectional = bidirectional)\r\n",
        "        self.fc = nn.Linear(hidden_dim * 2 if bidirectional else hidden_dim, output_dim)        \r\n",
        "        self.dropout = nn.Dropout(dropout)\r\n",
        "\r\n",
        "    def forward(self, text):\r\n",
        "        # text = [sent len, batch size]\r\n",
        "        embedded = self.dropout(self.embedding(text))\r\n",
        "\r\n",
        "        # embedded = [sent len, batch size, emb dim]\r\n",
        "        outputs, (hidden, cell) = self.rnn(embedded)\r\n",
        "\r\n",
        "        # output = [sent len, batch size, hid dim * n directions]\r\n",
        "        # hidden/cell = [n layers * n directions, batch size, hid dim]\r\n",
        "        predictions = self.fc(self.dropout(outputs))\r\n",
        "\r\n",
        "        # predictions = [sent len, batch size, output dim]\r\n",
        "        return predictions"
      ],
      "execution_count": null,
      "outputs": []
    },
    {
      "cell_type": "markdown",
      "metadata": {
        "id": "6uHfl5ZUKNmZ"
      },
      "source": [
        "실제 클래스로부터 모델 객체로 생성 시에 양방향 여부를 True로 주고, 층의 개수를 2로 합니다."
      ]
    },
    {
      "cell_type": "code",
      "metadata": {
        "id": "ifH31-iTKmAA"
      },
      "source": [
        "INPUT_DIM = len(TEXT.vocab)\r\n",
        "EMBEDDING_DIM = 100\r\n",
        "HIDDEN_DIM = 128\r\n",
        "OUTPUT_DIM = len(UD_TAGS.vocab)\r\n",
        "N_LAYERS = 2\r\n",
        "BIDIRECTIONAL = True\r\n",
        "DROPOUT = 0.25\r\n",
        "\r\n",
        "model = RNNPOSTagger(INPUT_DIM, \r\n",
        "                     EMBEDDING_DIM, \r\n",
        "                     HIDDEN_DIM, \r\n",
        "                     OUTPUT_DIM, \r\n",
        "                     N_LAYERS, \r\n",
        "                     BIDIRECTIONAL, \r\n",
        "                     DROPOUT)"
      ],
      "execution_count": null,
      "outputs": []
    },
    {
      "cell_type": "markdown",
      "metadata": {
        "id": "h0UI7RY6KNoq"
      },
      "source": [
        "파라미터 개수를 출력해보겠습니다."
      ]
    },
    {
      "cell_type": "code",
      "metadata": {
        "colab": {
          "base_uri": "https://localhost:8080/"
        },
        "id": "WpPVMeSjKo2f",
        "outputId": "45485351-56c4-46dc-c819-15f3767be7ba"
      },
      "source": [
        "# 파라미터 개수 출력\r\n",
        "def count_parameters(model):\r\n",
        "    return sum(p.numel() for p in model.parameters() if p.requires_grad)\r\n",
        "\r\n",
        "print(f'The model has {count_parameters(model):,} trainable parameters')"
      ],
      "execution_count": null,
      "outputs": [
        {
          "output_type": "stream",
          "text": [
            "The model has 1,027,510 trainable parameters\n"
          ],
          "name": "stdout"
        }
      ]
    },
    {
      "cell_type": "markdown",
      "metadata": {
        "id": "aCUmck_aKNqd"
      },
      "source": [
        "총 102만 7천 5백 10개의 파라미터가 있습니다."
      ]
    },
    {
      "cell_type": "markdown",
      "metadata": {
        "id": "i4gAmRUfKNsr"
      },
      "source": [
        "### 12.2.4 사전 훈련된 워드 임베딩 사용하기\r\n",
        "\r\n",
        "앞서 언급하였던대로, 이번 챕터에서는 사전 훈련된 워드 임베딩인 GloVe를 사용합니다. 이를 위해서는 토치텍스트의 단어 집합 생성 시에 저장해두었던 GloVe 임베딩을 nn.Embedding()에 연결해줄 필요가 있습니다. 우선 단어 집합의 단어들에 맵핑된 사전 훈련된 워드 임베딩을 출력합니다."
      ]
    },
    {
      "cell_type": "code",
      "metadata": {
        "colab": {
          "base_uri": "https://localhost:8080/"
        },
        "id": "gMWnMNQRKv2p",
        "outputId": "9e6c94a8-2b29-43bb-cc02-a719d34897a1"
      },
      "source": [
        "pretrained_embeddings = TEXT.vocab.vectors\r\n",
        "print(pretrained_embeddings.shape)"
      ],
      "execution_count": null,
      "outputs": [
        {
          "output_type": "stream",
          "text": [
            "torch.Size([3921, 100])\n"
          ],
          "name": "stdout"
        }
      ]
    },
    {
      "cell_type": "markdown",
      "metadata": {
        "id": "Cuvo9hdhKNuq"
      },
      "source": [
        "단어 집합에 존재하는 총 3,921개의 단어에 대해서 100차원의 벡터가 맵핑되어져 있습니다. 이제 nn.Embedding()에 이를 연결시켜줍니다."
      ]
    },
    {
      "cell_type": "code",
      "metadata": {
        "colab": {
          "base_uri": "https://localhost:8080/"
        },
        "id": "mXLB99o3I_E2",
        "outputId": "56d1d895-bb3a-474f-c3ff-bd877abe62f2"
      },
      "source": [
        "model.embedding.weight.data.copy_(pretrained_embeddings) # 임베딩 벡터값 copy"
      ],
      "execution_count": null,
      "outputs": [
        {
          "output_type": "execute_result",
          "data": {
            "text/plain": [
              "tensor([[ 0.0000,  0.0000,  0.0000,  ...,  0.0000,  0.0000,  0.0000],\n",
              "        [ 0.0000,  0.0000,  0.0000,  ...,  0.0000,  0.0000,  0.0000],\n",
              "        [-0.0382, -0.2449,  0.7281,  ..., -0.1459,  0.8278,  0.2706],\n",
              "        ...,\n",
              "        [-0.1020,  0.7700,  0.1169,  ..., -0.1416, -0.1932, -0.4225],\n",
              "        [-0.0263,  0.0179, -0.5016,  ..., -0.8688,  0.9409, -0.2882],\n",
              "        [ 0.1519,  0.4712,  0.0895,  ..., -0.4702, -0.3127,  0.1078]])"
            ]
          },
          "metadata": {
            "tags": []
          },
          "execution_count": 23
        }
      ]
    },
    {
      "cell_type": "markdown",
      "metadata": {
        "id": "P9I-0l5bK6m7"
      },
      "source": [
        "우선 $<unk>$ 토큰의 인덱스와 $<pad>$ 토큰의 인덱스를 저장해둡니다. (물론, 각각 0과 1임을 이미 우리는 알고 있습니다.)"
      ]
    },
    {
      "cell_type": "code",
      "metadata": {
        "colab": {
          "base_uri": "https://localhost:8080/"
        },
        "id": "r8iUJyhPK5Gy",
        "outputId": "29eb9746-7e6d-48a7-ab7b-43e67af500ed"
      },
      "source": [
        "UNK_IDX = TEXT.vocab.stoi[TEXT.unk_token]\r\n",
        "PAD_IDX = TEXT.vocab.stoi[TEXT.pad_token]\r\n",
        "print(UNK_IDX)\r\n",
        "print(PAD_IDX)"
      ],
      "execution_count": null,
      "outputs": [
        {
          "output_type": "stream",
          "text": [
            "0\n",
            "1\n"
          ],
          "name": "stdout"
        }
      ]
    },
    {
      "cell_type": "markdown",
      "metadata": {
        "id": "CJL7NietK_Di"
      },
      "source": [
        "그리고 임의로 0번과 1번 단어에는 0벡터를 만들어줍니다."
      ]
    },
    {
      "cell_type": "code",
      "metadata": {
        "colab": {
          "base_uri": "https://localhost:8080/"
        },
        "id": "ON0RdXixK97G",
        "outputId": "2d180e3f-604e-496c-9c35-c9d24352084f"
      },
      "source": [
        "model.embedding.weight.data[UNK_IDX] = torch.zeros(EMBEDDING_DIM) # 0번 임베딩 벡터에는 0값을 채운다.\r\n",
        "model.embedding.weight.data[PAD_IDX] = torch.zeros(EMBEDDING_DIM) # 1번 임베딩 벡터에는 1값을 채운다.\r\n",
        "print(model.embedding.weight.data)"
      ],
      "execution_count": null,
      "outputs": [
        {
          "output_type": "stream",
          "text": [
            "tensor([[ 0.0000,  0.0000,  0.0000,  ...,  0.0000,  0.0000,  0.0000],\n",
            "        [ 0.0000,  0.0000,  0.0000,  ...,  0.0000,  0.0000,  0.0000],\n",
            "        [-0.0382, -0.2449,  0.7281,  ..., -0.1459,  0.8278,  0.2706],\n",
            "        ...,\n",
            "        [-0.1020,  0.7700,  0.1169,  ..., -0.1416, -0.1932, -0.4225],\n",
            "        [-0.0263,  0.0179, -0.5016,  ..., -0.8688,  0.9409, -0.2882],\n",
            "        [ 0.1519,  0.4712,  0.0895,  ..., -0.4702, -0.3127,  0.1078]])\n"
          ],
          "name": "stdout"
        }
      ]
    },
    {
      "cell_type": "markdown",
      "metadata": {
        "id": "n7dDWyXaLDa0"
      },
      "source": [
        "PAD 토큰과 UNK 토큰의 임베딩 벡터값이 0인것을 볼 수 있습니다. 사전 훈련된 워드 임베딩을 사용할 준비가 되었습니다."
      ]
    },
    {
      "cell_type": "markdown",
      "metadata": {
        "id": "jQezHcVALuPj"
      },
      "source": [
        "### 12.2.5 옵티마이저와 비용 함수 구현하기\r\n",
        "\r\n",
        "옵티마이저 설계 전에 레이블 데이터의 패딩 토큰의 인덱스도 확인해봅시다."
      ]
    },
    {
      "cell_type": "code",
      "metadata": {
        "colab": {
          "base_uri": "https://localhost:8080/"
        },
        "id": "dkPFKsUgLAbi",
        "outputId": "5b18fb1a-8b7f-402c-f7b1-d99aafefb436"
      },
      "source": [
        "TAG_PAD_IDX = UD_TAGS.vocab.stoi[UD_TAGS.pad_token]\r\n",
        "print(TAG_PAD_IDX)"
      ],
      "execution_count": null,
      "outputs": [
        {
          "output_type": "stream",
          "text": [
            "0\n"
          ],
          "name": "stdout"
        }
      ]
    },
    {
      "cell_type": "markdown",
      "metadata": {
        "id": "MJiEwmd4LzFW"
      },
      "source": [
        "0인 것을 확인할 수 있습니다. 이를 하는 이유는 아래 비용 함수를 선택할 때 인자로 주기 위함입니다. 이제 옵티마이저를 설정합니다. 여기서는 Adam을 택했습니다."
      ]
    },
    {
      "cell_type": "code",
      "metadata": {
        "id": "foOWkZI0Lx9O"
      },
      "source": [
        "optimizer = optim.Adam(model.parameters())"
      ],
      "execution_count": null,
      "outputs": []
    },
    {
      "cell_type": "markdown",
      "metadata": {
        "id": "PwG7_VFQL0aO"
      },
      "source": [
        "비용 함수로 크로스엔트로피 함수를 선택합니다. 이때 레이블 데이터의 패딩 토큰은 비용 함수의 연산에 포함시키지도 않도록 레이블 데이터의 패딩 토큰을 무시하라고 기재해줍니다."
      ]
    },
    {
      "cell_type": "code",
      "metadata": {
        "id": "XK-fnDxCL0hM"
      },
      "source": [
        "criterion = nn.CrossEntropyLoss(ignore_index = TAG_PAD_IDX)"
      ],
      "execution_count": null,
      "outputs": []
    },
    {
      "cell_type": "markdown",
      "metadata": {
        "id": "Xxzk5sD5L0oR"
      },
      "source": [
        "현재 GPU를 사용 중일때 GPU 연산을 할 수 있도록 지정해줍니다."
      ]
    },
    {
      "cell_type": "code",
      "metadata": {
        "id": "CpBKGDtaL0uf"
      },
      "source": [
        "model = model.to(device)\r\n",
        "criterion = criterion.to(device)"
      ],
      "execution_count": null,
      "outputs": []
    },
    {
      "cell_type": "markdown",
      "metadata": {
        "id": "LBr-JrxmL00a"
      },
      "source": [
        "아직 모델은 훈련되지 않은 상태이지만 모델에 입력값을 넣어 출력(예측값)의 크기를 확인해볼까요? 여기서 넣는 입력값은 앞에서 꺼내두었던 첫번째 배치입니다."
      ]
    },
    {
      "cell_type": "code",
      "metadata": {
        "id": "UW8i_H7NL058"
      },
      "source": [
        "prediction = model(batch.text)"
      ],
      "execution_count": null,
      "outputs": []
    },
    {
      "cell_type": "markdown",
      "metadata": {
        "id": "nVlUdh8aL0_s"
      },
      "source": [
        "예측값의 크기는 다음과 같습니다."
      ]
    },
    {
      "cell_type": "code",
      "metadata": {
        "colab": {
          "base_uri": "https://localhost:8080/"
        },
        "id": "B4pMwAELL1FC",
        "outputId": "fea18848-1afb-4e39-c02b-f3d34c949e67"
      },
      "source": [
        "prediction.shape"
      ],
      "execution_count": null,
      "outputs": [
        {
          "output_type": "execute_result",
          "data": {
            "text/plain": [
              "torch.Size([46, 64, 18])"
            ]
          },
          "metadata": {
            "tags": []
          },
          "execution_count": 31
        }
      ]
    },
    {
      "cell_type": "markdown",
      "metadata": {
        "id": "hDp2hUNAL1KZ"
      },
      "source": [
        "46 × 64 × 18은 각각 (첫번째 배치의 시퀀스 길이 × 배치 크기 × 레이블 단어장의 크기)에 해당됩니다. 주의할 점은 현재는 batch_first를 해주지 않아 배치 크기가 맨 앞 차원이 아니라는 점입니다. 또한 46은 첫번째 배치의 시퀀스 길이일뿐, 다른 배치들은 시퀀스 길이가 다를 수 있습니다.\r\n",
        "\r\n",
        "이제 예측값에 대해서 시퀀스 길이와 배치 길이를 모두 펼쳐주는 작업을 해보겠습니다."
      ]
    },
    {
      "cell_type": "code",
      "metadata": {
        "colab": {
          "base_uri": "https://localhost:8080/"
        },
        "id": "gz0qRjvcL1Py",
        "outputId": "08397be5-39d5-4ef3-bbe2-ad5059c4b777"
      },
      "source": [
        "prediction = prediction.view(-1, prediction.shape[-1])\r\n",
        "prediction.shape"
      ],
      "execution_count": null,
      "outputs": [
        {
          "output_type": "execute_result",
          "data": {
            "text/plain": [
              "torch.Size([2944, 18])"
            ]
          },
          "metadata": {
            "tags": []
          },
          "execution_count": 32
        }
      ]
    },
    {
      "cell_type": "markdown",
      "metadata": {
        "id": "leegkbM1L1Vm"
      },
      "source": [
        "크기가 (2,944 × 18)이 됩니다. 이번에는 첫번째 배치의 레이블 데이터의 크기를 보겠습니다."
      ]
    },
    {
      "cell_type": "code",
      "metadata": {
        "colab": {
          "base_uri": "https://localhost:8080/"
        },
        "id": "NH26ebO9L1a2",
        "outputId": "793147cf-df0e-47ff-a572-70287a502822"
      },
      "source": [
        "batch.udtags.shape"
      ],
      "execution_count": null,
      "outputs": [
        {
          "output_type": "execute_result",
          "data": {
            "text/plain": [
              "torch.Size([46, 64])"
            ]
          },
          "metadata": {
            "tags": []
          },
          "execution_count": 33
        }
      ]
    },
    {
      "cell_type": "markdown",
      "metadata": {
        "id": "-eKEUlHIL1gB"
      },
      "source": [
        "46 × 64는 (첫번째 배치의 시퀀스 길이 × 배치 크기)에 해당됩니다. 이를 펼쳐보겠습니다."
      ]
    },
    {
      "cell_type": "code",
      "metadata": {
        "colab": {
          "base_uri": "https://localhost:8080/"
        },
        "id": "imvsdQlyL1lw",
        "outputId": "3aec20db-4e55-4fd7-cddf-1a94e8890dab"
      },
      "source": [
        "batch.udtags.view(-1).shape"
      ],
      "execution_count": null,
      "outputs": [
        {
          "output_type": "execute_result",
          "data": {
            "text/plain": [
              "torch.Size([2944])"
            ]
          },
          "metadata": {
            "tags": []
          },
          "execution_count": 34
        }
      ]
    },
    {
      "cell_type": "markdown",
      "metadata": {
        "id": "3o0ClcSxL1ql"
      },
      "source": [
        "2,944의 크기를 가지게 됩니다."
      ]
    },
    {
      "cell_type": "markdown",
      "metadata": {
        "id": "e22vFAzJMsH0"
      },
      "source": [
        "## 12.3 시퀀스투시퀀스(Sequence-to-Sequence, seq2seq)\r\n",
        "\r\n",
        "시퀀스-투-시퀀스(Sequence-to-Sequence)는 입력된 시퀀스로부터 다른 도메인의 시퀀스를 출력하는 다양한 분야에서 사용되는 모델입니다. 예를 들어 챗봇(Chatbot)과 기계 번역(Machine Translation)이 그러한 대표적인 예인데, 입력 시퀀스와 출력 시퀀스를 각각 질문과 대답으로 구성하면 챗봇으로 만들 수 있고, 입력 시퀀스와 출력 시퀀스를 각각 입력 문장과 번역 문장으로 만들면 번역기로 만들 수 있습니다. 그 외에도 내용 요약(Text Summarization), STT(Speech to Text) 등에서 쓰일 수 있습니다.\r\n",
        "\r\n",
        "이번 챕터에서는 기계 번역을 예제로 시퀀스-투-시퀀스를 설명합니다. 앞으로는 줄여서 seq2seq이라는 이름으로 설명하겠습니다. seq2seq에 대한 구조를 이해하고, 파이토치(PyTorch)를 통해 직접 구현해봅시다."
      ]
    },
    {
      "cell_type": "markdown",
      "metadata": {
        "id": "-EPY5nWbM01u"
      },
      "source": [
        "### 12.3.1 모델의 개요(Overview)\r\n",
        "\r\n",
        "seq2seq는 번역기에서 대표적으로 사용되는 모델입니다. 앞으로의 설명 방식은 내부가 보이지 않는 커다란 블랙 박스에서 점차적으로 확대해가는 방식으로 설명합니다. 참고로 여기서 설명하는 내용의 대부분은 RNN 챕터에서 언급한 내용들입니다. 단지 이것을 가지고 어떻게 조립했느냐에 따라서 seq2seq라는 구조가 만들어집니다.\r\n",
        "\r\n",
        "![image.png](data:image/png;base64,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)"
      ]
    },
    {
      "cell_type": "markdown",
      "metadata": {
        "id": "oGoAsig9M7_f"
      },
      "source": [
        "위의 그림은 seq2seq 모델로 만들어진 번역기가 'I am a student'라는 영어 문장을 입력받아서, 'je suis étudiant'라는 프랑스 문장을 출력하는 모습을 보여줍니다. 그렇다면, seq2seq 모델 내부의 모습은 어떻게 구성되었을까요?\r\n",
        "\r\n",
        "![image.png](data:image/png;base64,iVBORw0KGgoAAAANSUhEUgAAAXAAAADeCAYAAAAkeFsVAAAgAElEQVR4Ae2dfbBkRXnGbxmLQsQPKmUVlX+iRayK/wVrk5IPjcZSUqlELUoLQUsJSUw2+YeAC0rULRcEwQ8+VLiwEhM/shFNCcEtEqMCeyF8GNb9ABaEBYPIRti9d0FgF3aXTj13ee6+8273mXNmzpnpnnlO1Wz36dP99ttP9/zOe3vOzM4EHVJACkgBKVCkAjNFei2npYAUkAJSIAjgWgRSQApIgUIVEMALnTi5LQWkgBQQwLUGpIAUkAKFKiCAFzpxclsKSAEpIIBrDUgBKSAFClVAAC904uS2FJACUkAA1xqQAlJAChSqgABe6MTJbSkgBaSAAK41IAWkgBQoVAEBvNCJk9tSQApIAQFca0AKSAEpUKgCAnihEye3pYAUkAICuNaAFJACUqCBAjMzM+HCCy9s0KK7qgJ4d9rKshToVIHZ2dlwxBFHhK1bt3baz6DG165dGwC7DRs2DGqist2yZcvC8uXLK+t0cdED/Jxzzlmchy766mdTAO+nkK5LgUwVmGaAA5oAeOyYm5tLXovVb1o2LoDjZoU5t4cAbtVQXgpIgewVAKCPOuqosH379qiv2N4AZLs6PMC76sfbjfXb3Sh97zqXAlJACoxAAQF8BCKrCykgBYZTIAUq7ImfdNJJi1EoorYTTjih0T409q6xPYG22GO3H9il+sRI0A9ePGJ1ETVjKwB2B/ENWwiIvmO+oV+U+xf9Rznz9BEpInpcQ2oP7N3HdPR2/LhhA3Ngx4nxYtvH/tVg+12zZs3SuDA+u1VCHf240I8icDtjykuBghTgG9u6DOgQjvYNj7I6H3byg0fbFnnCLdYn+/cgi9XljcHat9CnrVgKINp2zAOMPFhmU/iBA2XMsz5SC1KWV+no7fhxwwbKrA/MW1/Zb2pcmAsc1JE2mOKaAL4okf6RAuUpwDe29RzgAKwR0fEAKFAGUPQ70B4RIJ8cAfTRTxsAJ7Bgj5EoIGWhlvKPbRER80bEaB5AYxnax3RBOerhmj9om2PEdQIYkTB9hSa8AVk7qIuXPaA15oBt4R90xTzwYL/0i3XRJ8owVnuwXk+ZPVFeCkiBchTwoAIk8Ca38OZoUNfCg+U+BXgAGsLEX/d92useZL4u/bPbA7Z9VZ5+xepgzNam75dtYgDENYKUAKefsOMP6OLt+HH7Njz3frHf2I0VNwp/U/D9wq4icKqrVAoUpkAKCHijp179hgh4AR6M2Ak1tvN9shypB1msLqNL9IF86kZh7dJ2akwebLF+YcPXYx8EKcfqz1mPqbfjx816uJHirwtcZ+SOtjzYD7dKWI40NgbfL+odsGZbKy8FpED2Cvg3OYGAN3rqVXdQgA8/wAOACFoCOGbHR43eP7bBTQJg45ZC7C8G1mUKH1Jj8mBL9YubEq75g/v+bQEcWllge7/ZP+eL/bIcaWwMfpyoJ4Bb1ZSXAgUp4N/k2KPFmzwW0Q06LG4ncIuC0PF9sB5Ay8P7x3KbYvugztYObiaAYp0j1S8jYW8DPkA3gpRj5JhtfY4TffCAXT9ujAk3JthCGxyog354sB/2y3KksTEI4FYh5aVA4QrE3uSIagE6C1gABHVjQPISIDK2bQkZAos3CfRBMNkP9zzIPLBgh+0QqTLK9374c8CQAGN71IGvtk+Usa4dB8rZF3VA/8jDLl4WpAAwIUxfYA/60g+Wo3/rA8aIetAFB/rhjQpteVBb2y+vwYati3LYRD+wx+OANZYolQJSoAgFYm9yQAZv/NgL9fsdAESsrYVMbHsAsEO5B5mFEIHl7ds2Vf7F+qUt2443GV7juFPacMx2jLwJ0AZT+kCb6Bft7RhibaEPbo6ww4N62H55LTa3vAHRF9Q9YI0tlUoBKVCEArE3ORwHEOybHZEb6trILTVAwI9AAyhgxwMGdqx91Gc7C7KYfygDzGC7iV/wF/2iPdoRYjH/UBewZD9owwNwZXtcx7UUSAF8Aht1EUXDB/RtbWLMdtzoy/oJG9AHZWjLI9Uv29u6KIMN+sNrB6zRqlIpIAWKUIB/lhfhrJzsRAEBvBNZZVQKdKsAozdAXMf0KiCAT+/ca+QFKoA/ne0Lf1brmF4FBPDpnXuNvEAFCG/shWKPVsd0KyCAT/f8a/RSQAoUrIAAXvDkyXUpIAWmWwEBfLrnX6OXAlKgYAUE8IInT65LASkwmAJ79r0wWMPMWgngmU2I3JECUqBbBa6/e3t4zSduDWvW/6rbjkZgXQAfgcjqQgpIgfErgKj7jO89GA4/ey7MnH5TOGzFuvBX374/lByNC+DjX1fyQApIgY4V2PbUc+HYS9aHV37slkV4A+B4vfysufCGC+4Mv1jY3bEH3ZgXwLvRVValgBTIRIG5rTvDb/7DreGQM2/ugTch/tIzbgqvPHsu3LBlRyYe13dDAK+vlWpKASlQmAIX/uiRpS0TAjuVYmvl49dvLWpLRQAvbEHKXSkgBfor8Ovde8MJs5vCK17c705B25cD4m/50obwxNPP9+8kgxoCeAaTIBekgBRoT4GfPvrr8FsrbwsvW7H/w0oP6X7nh3x03eKWy08eeao9pzqyJIB3JKzMSgEpMHoFrr59Wzj8rLnwG2fE97v7wdtef9mKdeHSmx8d/SAa9CiANxArt6qb7380zLz21PDbx50ZbD43P+WPFOhagV179oUPfnNL7f1uC+qqPLZU3rV6c8CWTI5HY4DPfuvGRWgAHHwBHjxi12P1UJ/Q4XWkb33/Z2mqJ43V/cTn/62nDk7W/njjkl+0izIeseuxeqzPa0wBy6ZHlSa0i9T6yT4+dMbqg8bDutREAKdaSqdRgYd37Aqv/8wd4eUN97urwG2vHbZiLrx21e1h82NPZydvI4CnYAKg8KiClQV9lS3Ys3VhG2Wxl4U48rE61l5dgFfZgr0YbKmBT6kJxhw7qEXMZtU1ATympsqmSQE8+vcq92y3hW+bedwgvrPh8azkrQ1wwgLwstDEaGxUSljZMj9i1onZQhlftp23R7DZcrbzoERUzxuCBbi1b/O2jreF/tgPbdq2sTzH622xLsdSF+Dsnyl84vxYPWhfqRSYRgVW3vBw9LnvflBHu1KOgQAeAw0HTFhVgYQQjAGNIAKcYCt1ELK2HwKtTjvUTR0APq6ntnPYj7+RpexRk9h40aYpwNkPtYIGNs/rSqXANCsggLvZJ7iQpiBOWFmwWjMEb5WNfgCFPW5xWMjyxgDbKYjb/q1fzBOEVTYI3NQYaYspNRHAqYhSKdC9AgK409jCD4CLQY6w4nWmBK297swvnRKQbLN04cUM4Q3b9kZi4ct+fZQcGwPqEsb2OuzFDvbPNrE6toxjHgbgHA9T2OJ44YfN276VlwLTqoAAnph5ApYwsaAlrHiNKevY6wnzS1sKbGProYw2YSt2ELCsZ0FrAc3rSFnHXm8b4La/WB5965ACUqAdBQTwPjpakBOmBDSB6E3UASQh7SNW2CT4UnC1/VmQMxK3/du6zDOSRT8poHLcsRsM7VSl9Is+VdW11+z4qYNPU7pbO8pLgWlQQACvMcuECmHUD+AwSeh4QOOaBShvCignNJsCyt8M+gEcfXFMKUDTf44ZbZocgwK8qg/q1lSfKpu6JgVKVkAAN7NHQJiixQiVMCNs6wCcAENbD0HasyBi37iGfOrw12079lMH4BwD7PmbDOGOa4MeHD99qmvH9o3+Yy+rW127qicFJlEBAdzMqoVhDBysauHn6xHyqMvI2NfhOe0hrbJpgcW2sZTgtwD39SxQGfH7OjynPeunzxPUbFM3tX5YmwR4nb5tO+WlwDQqIIC7WY9B3G8zVMHWAhymq2AK2BFUVTYtwGHTQ9Jfr+rTgzM2XmsftkZ5COCjVFt9la6AAD6GGfTQ9AAeg0sHdWkhjvyoDgLc9+/PR31jGdX41Y8UkAK9CtT+JmZvM51JASkgBaTAuBUQwMc9A+pfCkgBKTCgAgL4gMKpmRSQAlJg3AoI4OOeAfUvBaSAFBhQAQF8QOHUTApIASkwbgUE8HHPgPqXAlJACgyowIx/BE3n8W84ShfpojWgNZDLGiDvBfDEV9JzmSj5IWhoDWgN+DVwEMBZoFQKSAEpIAXyVIAgp3dLETgLlEoBKSAFpECeCgjgec6LvJICUkAK9FVAAO8rkSpIASkgBfJUQADPc17klRSQAlKgrwKdAHzvjkfCszetDk+uPjXsvPQ9Yf6Ct4Udn3pj2PHJo/XqQoNPvXFRY2j95FUfXtQec1DqMXPtzlDiq1S9d+5+LNz5f9eE7zzwsfCN+/4urL77Q+FLG08Ml214j14daABtoTG0vuaBsxe1xxwMcrQK8Ofu/XHYeem7w/x5x4f5c48VrLuAdR2bn35TWDjv+LDwxT8Lu9dfN8i6GGubEuENn0s7tu68PXz9vr8Ns5tPDldser9g3QGs69wEL994UpjdfEr45y1/E+7d8aNGy6gVgO95ZFNYuPjdYeH8twjadQA7wjq4mS5c/K7w/IO3N1oY46wsgHer/rZn7g9f37I8zG7+gKA9JminwH7F5pMX5+aRpzbUWgRDA/y5DWsVbY8QyINuQ82fe1zYfcc1tRbFuCsJ4N3NwH3zNynazgzaMZjjL6JN22/ouxCGAviz674WFs49TlF3AQAH+AHxp2/4Qt9FMe4KAng3M7D+8evC7KaTFXUXAHBAHXO17pf/WLkYBgb4c+uvV+RdCLh7ovZVx2YfiQvgle/ZgS4i8ha8y/tQdnbTKZWR+EAAx573/KpjFHmXCHBE4quOCc//7NaBQDCKRgJ4uypjz1sfUpYHb26tYO5+/tT66KIYCOD4UKwnqisUZNM8hoWL3hHCvr3RRTHuQgG83RnAB5aEgdIyQX71PaeFfS8c/H5tDHA8KognG6YZfpMwdjzmufuua9slRUvWBPCWhAwh4FFBPW1SJrTtzfaKTSeHe3b88KCF0RjgeM57EgCmMRwdFi5650ELIocCAby9WcBz3hYEypcL86vv/vODFkYjgOPbfXiSQfCbjG+Uzp/35rB3230HLYpxF7QO8EtuCTMX/MeBV0ff9By3br5/fLsPX9IRtMuFtp27Kzd/IDz+7EM909wI4M/eeFWYX/UmAXxC9vznVy4Lz/znJT0LIoeT1gAOaB/5ujAzM9P7Qtknr2n96/o5aGd9wNfj9eHlZMAbIP/yxveG/37sG3aKQyOAPzn7QcF7QuDNv6J2XnZiz4LI4aQVgCPqtuAGtI9+e2/ZmVe3CvEctLM+4LdNbASnfPkwX3P/6XaKmwF84fN/IoBPGMDxQ2O5Ha0A/HeO3g9rpIA5t02+8VCY+eO/OADyKzccuMY6A6a56fhP935EAC/kSzt1b674ESx7NIrAtf89GXvfjL6Z2gWRQ34JtgOCdAZQZvSdAjSj8Q9/emIBru2T8iNuD/avbHxfz1u0EcD5hlc6WSDvWREZnAwNcOx9A+CIvlM3AeyBow5AnqrTsDwD6Xpc8G9+nU8G0O0kC+ATtiUyyM3VLogc8kMDlQCvgnOdOgK4tmAy3IKx71EBXAC36yGL/NAAB3gPf/X+F/a8YyDG1gki8AneQlHEPRkRt59H+yYVwAVwux6yyEeBG4NwVRmeMAGg8YGlr4cPNQF4bLGkAO/b1DjPQjzjhH/j63wygG6muNlTKIP8ea42+e+X2wWRQ/4g4NaAZ602LcI61l8O2lkfBOzJALafRzvHisAVgdv1kEU+BseBygDs9565P9pGNM7X8Sfu/1ZmWzeGF+1kIZ5xwr/xdT4ZQDdTrAhcfyEcbddDFvmBYO1hDHjzWXCC26cT/kUeAXsygO3n0b5JFYErArfrIYt8KwDnl3Ww1w1Q83lwPH2CCJwwZ7m/AQxwnoV4xgn/xtf5ZADdTLEicEXgExiBI/omoO23MC2UCXE9haJHBTN8VLDqZiuAK+ru+UkEuyByyA8dgfMZb32RR3AuDM5V4OY1+x7VFopgbtdDFvnWAK4v8gjgAviB97S2G/J/JHCQOToww3nkhga43UJB3m6dMI+nU7DNEntOnHUapnmod8ALRmxKJ2Pvm/N4YIbD5O+BP7P2osXx4j9iHgRubbTZdfu/Lvrw3JabxuZD1TjsgsghHwVuQ5gu/eIgtlHsPjiAvvziA3vk2G5pajtRPwftrA98w5eU3vzo6sUh4D9iHpffDz15x6IPG59YOzYfqsZu57j4LRSA2R57t/9vDySrAP7kV0+zTSvzgLCHoO/bGnjhmZ1L9QVwq0z/fCtABaj7PUaIKDwB40HK+49stDWqIDDqawRzSgHCkvViAP/uA+ekmh9UTnt2nAu7HzuoHgtwjXUF8BHtKwOSOABpwNUCmbCtAjjrVKWEdBXA2X/KjgDOt0m9dBB4RtsA4tgiwaOEfCoF6ZT8jzwEUg5pFZitf3Xr2TY2D/DjqAI4bgS2jc8L4CMAOKHot0awTYGD2xUCeP99+0XBMvonCuNhI2Vso2C7JLUnPqz9a/cHExnJWAkpD62uz+uCuW69lL8C+GtPXdwYjy3EVIQ5jnKC2kfGHuwC+BQCHJAGrOu87P74kBCPvWfGWZaC3DjK64K5br3UGATwQgDuQc2bCMFeJwLHfnndw98o0B+3V/wWCn3ztukTfc0l9X6O+3zoCBzgtlsmVfmqRw0bAn3cuvn+U5AbR3ldMFfVq9rD9mNvsoXCLZM6Nsahne/T+ln0h5ij3AP3kK4CuAczgS6A26WXzncKcHywCWgT6gL4SLZaqsBsAVW3nm1j84zAYceWI88bgPbAR7DH7SGYOmcUTBw0eQrF2/TRO64zShfAqXD36dAAr4qcEZ3z6ZSWP8zsXplmPXiAjfO8Lpjr1sNYGDkj5dgIaQE8slY88Eo4b7IHHgM4o3w84eLHy5tHDO62riLwyGKqKOoE4NgX55d3EH0j3/IHmhVDGsslQi2HtC6Y69ZLAXzXnqcWtY5F2YR77JrViDeG2DaMrTeuvF1MRW+hAJJ8dNA+d23hOSzArS2fF8DtUmov3zrA8R8Y81FCRN+Iwqui9AGvtadAO5bGBZhYv3XBXLce+iBobQQe65tlAnhGWyeEaQ4AT73dAHj4qQg8pVC8vDW44qdi+auDiLpb/OXBmI/x0YyvlODKISWYq9RAZMx62Mvu5/egAE/5wBsB7SoCHwHw+wGcoPcp97ZTk5kq77dd4vsRwFNKpstjcGxchq/LM+rGB5Ut/u53ypf0iMZzpR8Ac7yeAjij56ZKwl7TcQrgIwA3QTkowNl+FKki8GZvuxQga5f7xwgB8NSrxa/TNxtl97WbgiuH+imAj9I3AXwMAK/zdhgFrGN9COB1ZudAndqgTu1Ve4DzkcFYqscIG0eoXcJUAO//y4kH3ilT8GuEMaCOukwAt0tuf37Lli1h165dB18IYfgPGKfom5hVOnYJ2q5sC+AC+EGP+40a2KX1F6Vox4UrV64MRx55ZLj44osPAvnQEXgqMrfl2BPHh5ot/sfGHUsWNV+lY1eQld3+kO1SI7sQin+MsDRY5uivXRCjygM8/DakB/lIAM5tlsK3UKp07BIisj0+iNv3qAA+wv36HOENnwjScacEeakAH7d+7J86CrLjg2yX2gvggnbPNhPf+ONODz300HD66acPvwfO7RFskaRe+J1wfKjZYgQ+bv3YP3XsEiKyPb6bgwAugPcA3C6IUeXtn/4EzrZt2xa7HzoC5/ZI7KkTX9YiwEelne2nSkdBdnyQ7VJ7O//aQmkB5vy6furr/LlundAvuyBGlQd4PLjZ99AAx298A8xVL/6g1QQAPKVjlxCZBNtcb/1+GyW3sdJvpNkBnM7hCzp8/I5lNsV1AmjcaZsA5++rjPKnZ62uo8rfdtttgRG373NogNunTVJ5RumFA7xKxy7Bg6+Z48A3JNFP1TclcwUk192w/nktutQdtu2RFcAJL35dfRoBjpuR16HrG5RdEDnkBfB2ZqFLkMBD/PIf+6gCOOoS9KyfQ0qVhwU4xkKI8/dUuhwf/UaaDcAZxfIHoAAtAjz3rQn63qafmJw27VXdBOyCyCE/EoBzm0VfpV+CcF3oxP7TBALcA4w/74p15a/V7a+relzrbQAcPlKDtuylxk2/kWYD8FjUOc0Apx7QoAq+bVyzCyKH/EgAntpaGaI8B+2sDykADFuOPmz0beEVgzQh7tsM68ew7alVW8BlFF7nlxSH8Z1+I80G4HTKAqkOwBGl4kBdQg/n/n/mgV3aY19+n9lfp13rE/L8jx9oh/36iJk/tMV6SLk9BDtsh5R5+IBrjOpR7vtv+9z6l0N+aIBzf9s/cRI7L3wPvGq+hoFEqm0KUow+YwBnG/hqYcmvzdsx2OvwAef28FsxMRsxH3w9/hXhfUKf/oD/1INjwc2IeQtstO36RmX9ywLghJWHbgyocN7WI8CZ2sFZQBOQ9jry/DA0dR116thBPQtwjsn3h3NCnH1a3wlwQNrbbBvctBfzcZxlAng76hM6baYEn4Ua7FcB3MKTgCb8YiPtV4d9A9Spw0K1qi+0Z3/+ZmFts0/a4l8VqGP7og602ab2tGX9ygLgBLWPNlluHUY+BnBbhrytZ2HqYQyA20jZAtRG2oBdqh77swAnlAlrtCewOU6ew1feSAhVpLRhy7rIL4qV0T+tAZz/+w4icvw+OCJwlvFcEfhSdElAVKUEFKBs67G8X/RLsHG58Ry2vA3WQTn7AkAJU163fRKwuEbbhK0FrYU/67F/2kefrEcfrH1bj/7xBuf14fU2Uo4baREAt2D0ACPkYuAl1AlinnsbvFHE+qFYAHGqHm8QbG9Bz/Y2pR8EOIHu/eLYfHnb59a3HPKtAdzCmdsqLPPnQ+x9098ctLM+tAELb4OQ84BiuYUp21roocxG5NZf5gFBW4d2bFp1ncBGv4AzD4Kadnw5z2Mpt0U4Fp7TFlMB3HyxJgVMCzBCLleAxyJr+i+Ax94qLfycbAzOvsyfC+BLUS5hFEsJ6iYAJ1AZxVbBl332q1N1nf0NCnA/NvqEVAA3gCbIGMEyMmV5WwCnfeDCgh4ABWBtxGyvM3JHO/iUssObCCNw1GWZH5Ot0w/g6NfWpy5tp3GMjq+UEe3AaQzO/rHBWJ0hIT4+xeI9W/C0lWeECZBZmwS7j8CtZzYCZjnsWTs2so3VQb/sm9dtnwQsrrE/1rN9cRy2HsdgfYBvKKct2vd1OAbaYH2Wt5lyPEiz2EIBkHhYOBHgvGZTgpag5DnaE7wWnsjHDkbIhGmsjrUds8MyC1v6ELPHMbJPpCxjypuFHQOvtZ3GfBxn2cDgJoD5HzoA2iwbQTpOzWJ9twkN2iLALAxxjeCK+YEyH9VagNo2Fozcf7bXkSfAU9dRx0I9Vs/6S9hybL4/nPs61k9qg5SHLWs7zz6QZgNwwgzgIqDaBDhseqhaMON6rD/rD/0isCEg/CZsLcBRl+VWcNpAyjHHAE5fvY+2fVt5618O+aGhi+ga/xs9QF4Fbv5qYVWdBtdy0M760DY4aA99eIBZIFofPOhpA6kHpreJOnarBHa9PX8ddQh425eFOPuhn4Qz6iPvD3udPtOG7YO+eB9tnTby1r9sAE7YjSLibAt8XdrhXxZd9kHbdkHkkK+Ebh2gcnsE/yt97H/cAdjxM7N4KoUfatax26dODtpZH9qARcwGo+cYKGP1p6WMuvi/Ntoev53jbAAOmDAiHUXUSXjlmPIvAUTho/DPLogc8kMDHJE1f22QkEYZAPzJa8LMka878J9YIFLvA+a613PQzvrQNjisPfZjy6Y5z8gdf4l0rQO1R5oVwAErbk9MK8QJ71H+JWIXRA75usDsWw/PeiMKB8SRWqgD4rHofAiY56Cd9aFLkBBY6K/LfkqwPWot7BxnB/BRRJzq4+ieyN4uiBzyfcHcBLLYLsEPVgHieAHc2D7ptz/epI8X6+agnfWhBPjJx+b/6YSdYwE88ljjtAHeLogc8q0C3EbhhDj+OzUBfOoj51JvHvY9KoAL4HY9ZJFvBeD4INPudePDSmyZ2C0VROIDRNqpNlmIZ5woFVDyuzoqN1Oc3x74tEW/OYzXLogc8ilA1i7nUyjc+8YHlwS131LRh5iKxDdUAzO3G4p9jyoCVwRu10MW+SXYErpNUwIce9+prRLUwYeaeoxQABfAez8UyyGqlA/15yQLahsnhgY4HhkEoKvAD7Cjzkc+V12vyoa7ZoaQRTa3yFH+tBPp28WlCFwRuF0PWeQrweugOXBdRumKwBWBKwKvH+0pMs5PqyyobZwYGMpN4C6AC9yFgZt/wZi3ij7E1A3lwA+J2YUxzvzQAOf2CCCdeuk/dBDABfD8okkBufmcjBPWsb6HBjijaz73XZVqC0UgLwzk9j2jPXDtgdv1kEVeAG9nGvgnt9J2PjzMRUe7OhoBfP7Tb+r5Crai3ebRbo6a2QWRQ35ogNfZC2eUPsER+OWbTlJ0XVh03e8m8ZWN7+t5izYC+MJFJwjgExaxz3/mD3sWRA4nAng7s/C1e/5SAJ8wgK+++0M9i6MRwJ+8/GQBfMIAvvOSd/csiBxOBPB2ZuHbP1shgE8YwNfcf3rP4mgE8Gd+cFnYsfL3BfFJgfjKZeGZ71/QsyByOBkJwOtsszSsk4N21ofbtn0rXL5R2yj9tiVKuf7lje8NNz16lZ3iZo8R7t12X5g/9zgBfEIAPn/+W8Ken/+0Z0HkcCKAtzMLjz/7UJjdfIqi8AmJwq/a/MHwy6fv7VkcjSJwtFy46J0C+MQA/K09iyGXEwG8vZm4+u7TBPAJArhfGY0Bvnv9dWH+vOMF8cIhjr+kdt36Tb8esjgXwNubhnt3/EhR+AQAfHbTyWH949cdtDAaAzzs2xsWvvCnAnjhAF/47NsD5jLHQwBvb1b2vbA3fH3LckXhhUP8q/ecFjCX/mgO8BDC8w/eHuZXHSOIFwpxzN3z963zayGbcwG83al45GtJ1rIAAAktSURBVKkN4YpN7xfEC4U45u7hJ38SXRQDARyWdt22JsyvOlYQLw3iq44Ju268MroYcikUwNufiU3bbwj4M7yUJy7k5/5vj165+ZTwk199N7kgBgY4LD797+cL4iUBfNUx4elrVyUXQy4XBPBuZmLdL68Os5v0VEopNwfA2z826FfGUACHsWdv/aa2UwqAOLZNco+8uTgFcCrRfrrhie9rO6WArRRsm1RF3lwZQwMchrCfunDRO8KCnk7JbksJT5vgA8uc97y5GJkK4FSimxT7qVffc5qeTskQ5NjmwgeWqT1vvyJaAfii0X17w+67rg3zF/xRmD/vzWF+5bLsYJbjD0l14tPKZQFf0pk//637HxXM9GkTvxh5LoBTie5SPNFwz44fhtV3fzhcufkDAd/yK2VrYdL8hPb4kg5eeFQw9rRJaiW0B3DTA77dh69o77zsxDB/wdsE8hFtseCHqfDbJtA+x29YmiVSmRXAK+Vp/SK+3Xfzo6sDfmcDP5aEX7ybNEjmNh5oDK2hOfa5/Tcs605yJwCv27nqSQEpIAWkwOAKCOCDa6eWUkAKSIGxKiCAj1V+dS4FpIAUGFyBJMB5QempSz/ZKC2khdaA1kCOa4C3gJkcnZNPetNoDWgNaA2k18ASwJlRKgWkgBSQAmUpMFOWu/JWCkgBKSAFqIAATiWUSgEpIAUKU0AAL2zC5K4UkAJSgAoI4FRCqRSQAlKgMAUE8MImTO5KASkgBaiAAE4llEoBKSAFClNAAC9swuSuFJACUoAKCOBUQqkUkAJSoDAFBPDCJkzuSgEpIAWogABOJZRKASkgBQpTQAAvbMLkrhSQAlKACkwlwBee3RPeccXG8AdfvCtse+o5aqFUCkgBKVCUAlMH8LmtO8NrPnFrOOTMdeElf39TePXHbwn/df98UZMmZ6WAFJACUGCqAH7uD34eDlsxF2ZOv6nnddhZc+Gj120Ne/a9oFUhBaSAFChGgakA+BNPPx+Ov/Sn4RVn39IDbgvyl61YF37vc/8TfrGwu5jJk6NSQApMtwITD3Bsjxxxzi3hkDNvTsKbIMeWyivOngs3bNkx3atCo5cCUqAIBSYW4NgO+fj1W8PhZx+8ZUJgp1Jsqfz1NT/TlkoRS1hOSoHpVWAiAY5tkGVfuCu8/Kzm8CbUX7ZiLvzu+XeGh3fsmt7VoZFLASmQtQITB3Bsf7zy7Lnw0jN6P6gkmJukLzl9/5bKdzY8nvUkyjkpIAWmU4GJATi2TM743oNDRd0puB+2Yl049V/uC7v27JvOVaJRSwEpkKUCEwFwbHO84YI7A/auUxAethy2X/+ZO8IDTzyb5UTKKSkgBaZPgeIB/r1NT4RXfSz9eOChK9Y1hnpVG+yrr1n/q+lbKRqxFJAC2SlQPMCrFL3xgYXFb1o2jb7x7Uy01SEFpIAUyFkBAdx9KxOwF8BzXrLyTQpIASoggAvgXAtKpYAUKEwBAVwAL2zJyl0pIAWogAAugHMtKJUCUqAwBQRwAbywJSt3pYAUoAICuADOtaBUCkiBwhQQwAXwwpas3JUCUoAKCOACONeCUikgBQpTYOIB3vRLPKyvL/IUtpLlrhSYQgUmGuBTOJ8ashSQAlOkgAA+RZOtoUoBKTBZCgjgkzWfGo0UkAJTpIAAPkWTraFKASkwWQoI4JM1nxqNFJACU6SAAJ7BZM/NzYWZmZmAVIcUkAJSoK4CUYCfcMIJAS8do1FAAB+NzupFCkyaAgJ4zRmdnZ0Ny5cvr1m7WbVRARz9LFu2rJlzqi0FpEC2CgjgNaemy79KRgXwCy+8cHGrpuaQVU0KSIHMFRDAa06QAF5TKFWTAlJgZAq0AvA1a9Ys/mmOD+Lwwp/piCrtQQBu2LAhnHTSSYv1jjjiiICoEAfKUYc2sF2xfft2ayKZRz3YOeqoo5bao4+tW7cm2/gLa9euXRqD9YvRMf1iyvHhnGOwNtmO9XjN9oO2GCfKkPd14T+1wnXoA53sQV2hga3rx4/2/hXz29pWXgpIgbwVGBrgBJWHAyBoAQrQAOwo93UBklj5OeecU0s9tPc2cV53v5cA9TYwttT4CFu0iYGQ7VgPA8GNzveBc47d1gWoWW7boCymK8Zq6yFvx++v4Tzmdy3BVUkKSIEsFGgF4IgibWRIoOKDPx6MrgEVAsgCDWAiwJDiHK86B/pBn7Rro1HrV8oWfEP0zrqwA3v0B+0Y6XobKRCiLa7RBnzimHDD4IE8ym1d9odyaMSDutgPU62u7Av+E+gcE2xwXmhPqRSQAmUrMDTAU8P3YCNoCFm2A4w8vHAN0TfKBz08QKvswAcAHJBNHcMCnDcrQtb2w78AeA0aYewW3qwPCNsbW0pXbxPtBXCqqFQKTIYCUUKmYJUaMiNW7LuiLSNKAIMHyu2f9CxPQSVVznY+BfzQhr4DgLEbg2+Hc0as8BswJ0htXdq1ZcijDztOXocN23/VeHxdnnMMsZT9pHSN+VblA+0plQJSoBwFhgY4I8sYZCzYUgBMQSVVHpOWUXzMhxiMYzZQhrHwg0D4ayPylP+Avh0nbfsIuGo8BDZ95XlsPCxjPym/cB11rW9VPtCeUikgBcpRYGiAAxKAHqDjAWThkQJNCiqpci8tYYf6yHPPl+3pk29Xdc4tDL+HjzH4A2Wxvyx4U2H/9If+WTu8CbIu6kBX3AT6HSld0U4A76eerkuBshVoBeCAE6NVQIiP86GcRwo0BBvrMU2V8zpT9OdhB/ByG4dQZP1Yiv12C0vatP4DyLAJuNuDETthDx2Qh094sX9CGbBnGevGfIWGqGv94lYV+4IfKV1xzQOcNwpr045FeSkgBcpSYGiAE9YEFqHBlHKkQJMCdaqc9pgyWrb9s2+khCXrx1L45tv7thbK9hpgGGtLm7Z/RuW+PkBtbcLHlF3UszeWlK6w4evyJsL+rZ2YLiqTAlIgbwWGBjigwCgUkSSf3fbwSIEmBepUeUxOwI4QxA0FkSbACR8sQGNtUYYxELhowy0hWx/RMsfp7aI/3sigAXxP9Y9rrIu0qi5s2D5Zn3/twL+Urrjm5wBlmB9G/OhbhxSQAuUqEAV4ucOR51JACkiB6VFAAJ+eudZIpYAUmDAFBPAJm1ANRwpIgelR4P8B+923jpqjHSsAAAAASUVORK5CYII=)\r\n"
      ]
    },
    {
      "cell_type": "markdown",
      "metadata": {
        "id": "-Q8DTtvbNAV5"
      },
      "source": [
        "seq2seq는 크게 두 개로 구성된 아키텍처로 구성되는데, 바로 인코더와 디코더입니다. 인코더는 입력 문장의 모든 단어들을 순차적으로 입력받은 뒤에 마지막에 이 모든 단어 정보들을 압축해서 하나의 벡터로 만드는데, 이를 컨텍스트 벡터(context vector)라고 합니다. 컨텍스트란 한국어로는 '문맥'입니다. 입력 문장의 정보가 하나의 컨텍스트 벡터로 모두 압축되면 인코더는 컨텍스트 벡터를 디코더로 전송합니다. 디코더는 컨텍스트 벡터를 받아서 번역된 단어를 한 개씩 순차적으로 출력합니다.\r\n",
        "\r\n",
        "![image.png](data:image/png;base64,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)\r\n",
        "\r\n",
        "위의 그림에서는 컨텍스트 벡터를 4의 사이즈로 표현하였지만, 실제 현업에서 사용되는 seq2seq 모델에서는 보통 수백 이상의 차원을 갖고있습니다. 이제 인코더와 디코더의 내부를 좀 더 확대해보겠습니다."
      ]
    },
    {
      "cell_type": "markdown",
      "metadata": {
        "id": "aCCK_TlWNPjV"
      },
      "source": [
        "### 12.3.2 seq2seq의 동작 과정\r\n",
        "\r\n",
        "![image.png](data:image/png;base64,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)\r\n",
        "\r\n",
        "인코더 아키텍처와 디코더 아키텍처의 내부는 사실 두 개의 RNN 아키텍처 입니다. 입력 문장을 받는 RNN 셀을 인코더라고 하고, 출력 문장을 출력하는 RNN 셀을 디코더라고 합니다. 이번 챕터에서는 인코더의 RNN 셀을 주황색으로, 디코더의 RNN 셀을 초록색으로 표현합니다. 물론, 성능 문제로 인해 실제로는 바닐라 RNN이 아니라 LSTM 셀 또는 GRU 셀들로 구성됩니다. 우선 인코더를 자세히보면, 입력 문장은 단어 토큰화를 통해서 단어 단위로 쪼개지고 단어 토큰 각각은 RNN 셀의 각 시점의 입력이 됩니다. 인코더 RNN 셀은 모든 단어를 입력받은 뒤에 인코더 RNN 셀의 마지막 시점의 은닉 상태를 디코더 RNN 셀로 넘겨주는데 이를 컨텍스트 벡터라고 합니다. 컨텍스트 벡터는 디코더 RNN 셀의 첫번째 은닉 상태로 사용됩니다."
      ]
    },
    {
      "cell_type": "markdown",
      "metadata": {
        "id": "-UQpT_USNXkf"
      },
      "source": [
        "1) 테스트 단계\r\n",
        "\r\n",
        "디코더는 초기 입력으로 문장의 시작을 의미하는 심볼 $<sos>$가 들어갑니다. 디코더는 $<sos>$가 입력되면, 다음에 등장할 확률이 높은 단어를 예측합니다. 첫번째 시점(time step)의 디코더 RNN 셀은 다음에 등장할 단어로 je를 예측하였습니다. 첫번째 시점의 디코더 RNN 셀은 예측된 단어 je를 다음 시점의 RNN 셀의 입력으로 입력합니다. 그리고 두번째 시점의 디코더 RNN 셀은 입력된 단어 je로부터 다시 다음에 올 단어인 suis를 예측하고, 또 다시 이것을 다음 시점의 RNN 셀의 입력으로 보냅니다. 디코더는 이런 식으로 기본적으로 다음에 올 단어를 예측하고, 그 예측한 단어를 다음 시점의 RNN 셀의 입력으로 넣는 행위를 반복합니다. 이 행위는 문장의 끝을 의미하는 심볼인 $<eos>$가 다음 단어로 예측될 때까지 반복됩니다. 지금 설명하는 것은 테스트 과정 동안의 이야기입니다."
      ]
    },
    {
      "cell_type": "markdown",
      "metadata": {
        "id": "Z1UaNZTGNheB"
      },
      "source": [
        "2) 훈련 단계와 교사 강요\r\n",
        "\r\n",
        "seq2seq는 훈련 과정과 테스트 과정(또는 실제 번역기를 사람이 쓸 때)의 작동 방식이 조금 다릅니다. 훈련 과정에서는 디코더에게 인코더가 보낸 컨텍스트 벡터와 실제 정답인 상황인 <sos> je suis étudiant를 입력 받았을 때, je suis étudiant <eos>가 나와야 된다고 정답을 알려주면서 훈련합니다. 이를 교사 강요(teacher forcing)라고 합니다. 반면 테스트 과정에서는 앞서 설명한 과정과 같이 디코더는 오직 컨텍스트 벡터와 <go>만을 입력으로 받은 후에 다음에 올 단어를 예측하고, 그 단어를 다음 시점의 RNN 셀의 입력으로 넣는 행위를 반복합니다."
      ]
    },
    {
      "cell_type": "markdown",
      "metadata": {
        "id": "4wS7AiEfNlEH"
      },
      "source": [
        "3) 임베딩 층(Embedding layer) - 이미 배운 내용\r\n",
        "\r\n",
        "![image.png](data:image/png;base64,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)\r\n",
        "\r\n",
        "기계는 텍스트보다 숫자를 잘 처리합니다. 그리고 자연어 처리에서 텍스트를 벡터로 바꾸는 방법으로 워드 임베딩(9챕터 참고)이 사용된다고 설명한 바 있습니다. 즉, seq2seq에서 사용되는 모든 단어들은 워드 임베딩을 통해 임베딩 벡터로서 표현된 임베딩 벡터입니다. 위 그림은 모든 단어에 대해서 임베딩 과정을 거치게 하는 단계인 임베딩 층(embedding layer)의 모습을 보여줍니다.\r\n",
        "\r\n",
        "![image.png](data:image/png;base64,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)\r\n",
        "\r\n",
        "예를 들어 I, am, a, student라는 단어들에 대한 임베딩 벡터는 위와 같은 모습을 가집니다. 여기서는 그림으로 표현하고자 사이즈를 4로 하였지만, 보통 실제 임베딩 벡터는 수백 개의 차원을 가질 수 있습니다. 이제 RNN 셀에 대해서 확대해보겠습니다."
      ]
    },
    {
      "cell_type": "markdown",
      "metadata": {
        "id": "B1PbF9xEN3Jq"
      },
      "source": [
        "4) RNN 셀 - 이미 배운 내용\r\n",
        "\r\n",
        "이미 RNN에 대해서 배운 적이 있지만, 다시 복습을 해보겠습니다. 하나의 RNN 셀은 각 시점(time step)마다 두 개의 입력을 받습니다.\r\n",
        "\r\n",
        "![image.png](data:image/png;base64,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)\r\n",
        "\r\n",
        "현재 시점(time step)을 t라고 할 때, RNN 셀은 t-1에서의 은닉 상태와 t에서의 입력 벡터를 입력으로 받고, t에서의 은닉 상태를 만듭니다. 이때 t에서의 은닉 상태는 바로 위에 또 다른 은닉층이나 출력층이 존재할 경우에는 위의 층으로 보내거나, 필요없으면 값을 무시할 수 있습니다. 그리고 RNN 셀은 다음 시점에 해당하는 t+1의 RNN 셀의 입력으로 현재 t에서의 은닉 상태를 입력으로 보냅니다.\r\n",
        "\r\n",
        "RNN 챕터에서도 언급했지만, 이런 구조에서 현재 시점 t에서의 은닉 상태는 과거 시점의 동일한 RNN 셀에서의 모든 은닉 상태의 값들의 영향을 누적해서 받아온 값이라고 할 수 있습니다. 그렇기 때문에 앞서 우리가 언급했던 컨텍스트 벡터는 사실 인코더에서의 마지막 RNN 셀의 은닉 상태값을 말하는 것이며, 이는 입력 문장의 모든 단어 토큰들의 정보를 요약해서 담고있다고 할 수 있습니다."
      ]
    },
    {
      "cell_type": "markdown",
      "metadata": {
        "id": "ccgn_GY6N9Lc"
      },
      "source": [
        "5) 디코더\r\n",
        "\r\n",
        "디코더는 인코더의 마지막 RNN 셀의 은닉 상태인 컨텍스트 벡터를 첫번째 은닉 상태의 값으로 사용합니다. 디코더의 첫번째 RNN 셀은 이 첫번째 은닉 상태의 값과, 현재 t에서의 입력값인 $<sos>$로부터, 다음에 등장할 단어를 예측합니다. 그리고 이 예측된 단어는 다음 시점인 t+1 RNN에서의 입력값이 되고, 이 t+1에서의 RNN 또한 이 입력값과 t에서의 은닉 상태로부터 t+1에서의 출력 벡터. 즉, 또 다시 다음에 등장할 단어를 예측하게 될 것입니다. 이제 디코더가 다음에 등장할 단어를 예측하는 부분을 확대해보도록 하겠습니다.\r\n",
        "\r\n",
        "![image.png](data:image/png;base64,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)\r\n",
        "\r\n",
        "출력 단어로 나올 수 있는 단어들은 다양한 단어들이 있습니다. seq2seq 모델은 선택될 수 있는 모든 단어들로부터 하나의 단어를 골라서 예측해야 합니다. 이를 예측하기 위해서 쓸 수 있는 함수로는 뭐가 있을까요? 바로 소프트맥스 함수입니다. 디코더에서 각 시점(time step)의 RNN 셀에서 출력 벡터가 나오면, 해당 벡터는 소프트맥스 함수를 통해 출력 시퀀스의 각 단어별 확률값을 반환하고, 디코더는 출력 단어를 결정합니다."
      ]
    },
    {
      "cell_type": "markdown",
      "metadata": {
        "id": "hIKoAoYaOEgc"
      },
      "source": [
        "### 12.3.3 다양한 변형들\r\n",
        "\r\n",
        "가장 기본적인 seq2seq에 대해서 배워보았습니다. 사실 seq2seq는 어떻게 구현하느냐에 따라서 충분히 더 복잡해질 수 있습니다. 컨텍스트 벡터를 디코더의 초기 은닉 상태로만 사용할 수도 있고, 거기서 더 나아가 컨텍스트 벡터를 디코더가 단어를 예측하는 매 시점마다 하나의 입력으로 사용할 수도 있으며 거기서 더 나아가면 어텐션 메커니즘이라는 방법을 통해 지금 알고있는 컨텍스트 벡터보다 더욱 문맥을 반영할 수 있는 컨텍스트 벡터를 구하여 매 시점마다 하나의 입력으로 사용할 수도 있습니다. 어텐션 메커니즘에 대해서는 다음 챕터에서 배웁니다."
      ]
    },
    {
      "cell_type": "markdown",
      "metadata": {
        "id": "oSNHLriSQcLn"
      },
      "source": [
        "## 12.4 seq2seq 구현하기(간단한 챗봇 만들기)\r\n"
      ]
    },
    {
      "cell_type": "markdown",
      "metadata": {
        "id": "RtGmDaWQob61"
      },
      "source": [
        "seq2seq에서의 임베딩이 이전 예제와 다른 점은 패딩, 시작, 끝 등 태그를 사용한다는것입니다. 임베딩의 0~3번째에 각각 $<pad>$, $<sos>$,$<eos>$,$<unk>$ 태그를 넣습니다. 사실 그냥 똑같은 단어라고 보시면 됩니다. 다만 이단어들이 seq2seq의 동작을 제어합니다.\r\n",
        "\r\n",
        "예를들어, 디코더의 입력에 $<sos>$가 들어가면 디코딩의 시작을 의미합니다. 반대로 디코더 출력에 $<eos>$가 나오면 디코딩을 종료합니다.\r\n",
        "\r\n",
        "먼저 챗봇모델의 학습을 위한 데이터를 불러옵니다. \r\n",
        "챗봇의 훈련을 위해서 송영숙님이 공개한 한글 데이터셋을 로드합니다. 질문과 대답, 감정 등 총 3개의 항목으로 구성되어 있습니다. 감정 분류는 Seq2Seq에 필요가 없기 때문에 사용하지 않습니다."
      ]
    },
    {
      "cell_type": "markdown",
      "metadata": {
        "id": "Urd6kIdyqssb"
      },
      "source": [
        "### 12.4.1 데이터 로드"
      ]
    },
    {
      "cell_type": "code",
      "metadata": {
        "id": "Pz9fhvfXp4Ep",
        "colab": {
          "base_uri": "https://localhost:8080/"
        },
        "outputId": "191e0059-a229-4dd4-fcbb-cee8acd1ca95"
      },
      "source": [
        "!apt-get update \r\n",
        "!apt-get install g++ openjdk-8-jdk python-dev python3-dev \r\n",
        "!pip3 install JPype1-py3 \r\n",
        "!pip3 install konlpy \r\n",
        "!JAVA_HOME=\"C:\\Program Files\\Java\\jdk-13.0.2\""
      ],
      "execution_count": 1,
      "outputs": [
        {
          "output_type": "stream",
          "text": [
            "Get:1 https://cloud.r-project.org/bin/linux/ubuntu bionic-cran40/ InRelease [3,626 B]\n",
            "Ign:2 https://developer.download.nvidia.com/compute/cuda/repos/ubuntu1804/x86_64  InRelease\n",
            "Get:3 http://security.ubuntu.com/ubuntu bionic-security InRelease [88.7 kB]\n",
            "Get:4 http://ppa.launchpad.net/c2d4u.team/c2d4u4.0+/ubuntu bionic InRelease [15.9 kB]\n",
            "Ign:5 https://developer.download.nvidia.com/compute/machine-learning/repos/ubuntu1804/x86_64  InRelease\n",
            "Hit:6 https://developer.download.nvidia.com/compute/cuda/repos/ubuntu1804/x86_64  Release\n",
            "Hit:7 https://developer.download.nvidia.com/compute/machine-learning/repos/ubuntu1804/x86_64  Release\n",
            "Hit:8 http://archive.ubuntu.com/ubuntu bionic InRelease\n",
            "Get:9 https://cloud.r-project.org/bin/linux/ubuntu bionic-cran40/ Packages [41.5 kB]\n",
            "Get:10 http://archive.ubuntu.com/ubuntu bionic-updates InRelease [88.7 kB]\n",
            "Hit:12 http://ppa.launchpad.net/cran/libgit2/ubuntu bionic InRelease\n",
            "Hit:14 http://ppa.launchpad.net/graphics-drivers/ppa/ubuntu bionic InRelease\n",
            "Get:15 http://archive.ubuntu.com/ubuntu bionic-backports InRelease [74.6 kB]\n",
            "Get:16 http://ppa.launchpad.net/c2d4u.team/c2d4u4.0+/ubuntu bionic/main Sources [1,700 kB]\n",
            "Get:17 http://ppa.launchpad.net/c2d4u.team/c2d4u4.0+/ubuntu bionic/main amd64 Packages [870 kB]\n",
            "Fetched 2,884 kB in 2s (1,317 kB/s)\n",
            "Reading package lists... Done\n",
            "Reading package lists... Done\n",
            "Building dependency tree       \n",
            "Reading state information... Done\n",
            "python-dev is already the newest version (2.7.15~rc1-1).\n",
            "g++ is already the newest version (4:7.4.0-1ubuntu2.3).\n",
            "g++ set to manually installed.\n",
            "python3-dev is already the newest version (3.6.7-1~18.04).\n",
            "The following additional packages will be installed:\n",
            "  fonts-dejavu-core fonts-dejavu-extra libatk-wrapper-java\n",
            "  libatk-wrapper-java-jni libgail-common libgail18 libgtk2.0-0 libgtk2.0-bin\n",
            "  libgtk2.0-common libxxf86dga1 openjdk-8-jdk-headless openjdk-8-jre\n",
            "  openjdk-8-jre-headless x11-utils\n",
            "Suggested packages:\n",
            "  gvfs openjdk-8-demo openjdk-8-source visualvm icedtea-8-plugin libnss-mdns\n",
            "  fonts-ipafont-gothic fonts-ipafont-mincho fonts-wqy-microhei\n",
            "  fonts-wqy-zenhei fonts-indic mesa-utils\n",
            "The following NEW packages will be installed:\n",
            "  fonts-dejavu-core fonts-dejavu-extra libatk-wrapper-java\n",
            "  libatk-wrapper-java-jni libgail-common libgail18 libgtk2.0-0 libgtk2.0-bin\n",
            "  libgtk2.0-common libxxf86dga1 openjdk-8-jdk openjdk-8-jdk-headless\n",
            "  openjdk-8-jre openjdk-8-jre-headless x11-utils\n",
            "0 upgraded, 15 newly installed, 0 to remove and 17 not upgraded.\n",
            "Need to get 43.4 MB of archives.\n",
            "After this operation, 163 MB of additional disk space will be used.\n",
            "Get:1 http://archive.ubuntu.com/ubuntu bionic/main amd64 libxxf86dga1 amd64 2:1.1.4-1 [13.7 kB]\n",
            "Get:2 http://archive.ubuntu.com/ubuntu bionic/main amd64 fonts-dejavu-core all 2.37-1 [1,041 kB]\n",
            "Get:3 http://archive.ubuntu.com/ubuntu bionic/main amd64 fonts-dejavu-extra all 2.37-1 [1,953 kB]\n",
            "Get:4 http://archive.ubuntu.com/ubuntu bionic/main amd64 x11-utils amd64 7.7+3build1 [196 kB]\n",
            "Get:5 http://archive.ubuntu.com/ubuntu bionic/main amd64 libatk-wrapper-java all 0.33.3-20ubuntu0.1 [34.7 kB]\n",
            "Get:6 http://archive.ubuntu.com/ubuntu bionic/main amd64 libatk-wrapper-java-jni amd64 0.33.3-20ubuntu0.1 [28.3 kB]\n",
            "Get:7 http://archive.ubuntu.com/ubuntu bionic/main amd64 libgtk2.0-common all 2.24.32-1ubuntu1 [125 kB]\n",
            "Get:8 http://archive.ubuntu.com/ubuntu bionic/main amd64 libgtk2.0-0 amd64 2.24.32-1ubuntu1 [1,769 kB]\n",
            "Get:9 http://archive.ubuntu.com/ubuntu bionic/main amd64 libgail18 amd64 2.24.32-1ubuntu1 [14.2 kB]\n",
            "Get:10 http://archive.ubuntu.com/ubuntu bionic/main amd64 libgail-common amd64 2.24.32-1ubuntu1 [112 kB]\n",
            "Get:11 http://archive.ubuntu.com/ubuntu bionic/main amd64 libgtk2.0-bin amd64 2.24.32-1ubuntu1 [7,536 B]\n",
            "Get:12 http://archive.ubuntu.com/ubuntu bionic-updates/universe amd64 openjdk-8-jre-headless amd64 8u275-b01-0ubuntu1~18.04 [28.2 MB]\n",
            "Get:13 http://archive.ubuntu.com/ubuntu bionic-updates/universe amd64 openjdk-8-jre amd64 8u275-b01-0ubuntu1~18.04 [69.7 kB]\n",
            "Get:14 http://archive.ubuntu.com/ubuntu bionic-updates/universe amd64 openjdk-8-jdk-headless amd64 8u275-b01-0ubuntu1~18.04 [8,269 kB]\n",
            "Get:15 http://archive.ubuntu.com/ubuntu bionic-updates/universe amd64 openjdk-8-jdk amd64 8u275-b01-0ubuntu1~18.04 [1,600 kB]\n",
            "Fetched 43.4 MB in 2s (22.7 MB/s)\n",
            "Selecting previously unselected package libxxf86dga1:amd64.\n",
            "(Reading database ... 145480 files and directories currently installed.)\n",
            "Preparing to unpack .../00-libxxf86dga1_2%3a1.1.4-1_amd64.deb ...\n",
            "Unpacking libxxf86dga1:amd64 (2:1.1.4-1) ...\n",
            "Selecting previously unselected package fonts-dejavu-core.\n",
            "Preparing to unpack .../01-fonts-dejavu-core_2.37-1_all.deb ...\n",
            "Unpacking fonts-dejavu-core (2.37-1) ...\n",
            "Selecting previously unselected package fonts-dejavu-extra.\n",
            "Preparing to unpack .../02-fonts-dejavu-extra_2.37-1_all.deb ...\n",
            "Unpacking fonts-dejavu-extra (2.37-1) ...\n",
            "Selecting previously unselected package x11-utils.\n",
            "Preparing to unpack .../03-x11-utils_7.7+3build1_amd64.deb ...\n",
            "Unpacking x11-utils (7.7+3build1) ...\n",
            "Selecting previously unselected package libatk-wrapper-java.\n",
            "Preparing to unpack .../04-libatk-wrapper-java_0.33.3-20ubuntu0.1_all.deb ...\n",
            "Unpacking libatk-wrapper-java (0.33.3-20ubuntu0.1) ...\n",
            "Selecting previously unselected package libatk-wrapper-java-jni:amd64.\n",
            "Preparing to unpack .../05-libatk-wrapper-java-jni_0.33.3-20ubuntu0.1_amd64.deb ...\n",
            "Unpacking libatk-wrapper-java-jni:amd64 (0.33.3-20ubuntu0.1) ...\n",
            "Selecting previously unselected package libgtk2.0-common.\n",
            "Preparing to unpack .../06-libgtk2.0-common_2.24.32-1ubuntu1_all.deb ...\n",
            "Unpacking libgtk2.0-common (2.24.32-1ubuntu1) ...\n",
            "Selecting previously unselected package libgtk2.0-0:amd64.\n",
            "Preparing to unpack .../07-libgtk2.0-0_2.24.32-1ubuntu1_amd64.deb ...\n",
            "Unpacking libgtk2.0-0:amd64 (2.24.32-1ubuntu1) ...\n",
            "Selecting previously unselected package libgail18:amd64.\n",
            "Preparing to unpack .../08-libgail18_2.24.32-1ubuntu1_amd64.deb ...\n",
            "Unpacking libgail18:amd64 (2.24.32-1ubuntu1) ...\n",
            "Selecting previously unselected package libgail-common:amd64.\n",
            "Preparing to unpack .../09-libgail-common_2.24.32-1ubuntu1_amd64.deb ...\n",
            "Unpacking libgail-common:amd64 (2.24.32-1ubuntu1) ...\n",
            "Selecting previously unselected package libgtk2.0-bin.\n",
            "Preparing to unpack .../10-libgtk2.0-bin_2.24.32-1ubuntu1_amd64.deb ...\n",
            "Unpacking libgtk2.0-bin (2.24.32-1ubuntu1) ...\n",
            "Selecting previously unselected package openjdk-8-jre-headless:amd64.\n",
            "Preparing to unpack .../11-openjdk-8-jre-headless_8u275-b01-0ubuntu1~18.04_amd64.deb ...\n",
            "Unpacking openjdk-8-jre-headless:amd64 (8u275-b01-0ubuntu1~18.04) ...\n",
            "Selecting previously unselected package openjdk-8-jre:amd64.\n",
            "Preparing to unpack .../12-openjdk-8-jre_8u275-b01-0ubuntu1~18.04_amd64.deb ...\n",
            "Unpacking openjdk-8-jre:amd64 (8u275-b01-0ubuntu1~18.04) ...\n",
            "Selecting previously unselected package openjdk-8-jdk-headless:amd64.\n",
            "Preparing to unpack .../13-openjdk-8-jdk-headless_8u275-b01-0ubuntu1~18.04_amd64.deb ...\n",
            "Unpacking openjdk-8-jdk-headless:amd64 (8u275-b01-0ubuntu1~18.04) ...\n",
            "Selecting previously unselected package openjdk-8-jdk:amd64.\n",
            "Preparing to unpack .../14-openjdk-8-jdk_8u275-b01-0ubuntu1~18.04_amd64.deb ...\n",
            "Unpacking openjdk-8-jdk:amd64 (8u275-b01-0ubuntu1~18.04) ...\n",
            "Setting up libgtk2.0-common (2.24.32-1ubuntu1) ...\n",
            "Setting up fonts-dejavu-core (2.37-1) ...\n",
            "Setting up libxxf86dga1:amd64 (2:1.1.4-1) ...\n",
            "Setting up fonts-dejavu-extra (2.37-1) ...\n",
            "Setting up openjdk-8-jre-headless:amd64 (8u275-b01-0ubuntu1~18.04) ...\n",
            "update-alternatives: using /usr/lib/jvm/java-8-openjdk-amd64/jre/bin/orbd to provide /usr/bin/orbd (orbd) in auto mode\n",
            "update-alternatives: using /usr/lib/jvm/java-8-openjdk-amd64/jre/bin/servertool to provide /usr/bin/servertool (servertool) in auto mode\n",
            "update-alternatives: using /usr/lib/jvm/java-8-openjdk-amd64/jre/bin/tnameserv to provide /usr/bin/tnameserv (tnameserv) in auto mode\n",
            "Setting up libgtk2.0-0:amd64 (2.24.32-1ubuntu1) ...\n",
            "Setting up libgail18:amd64 (2.24.32-1ubuntu1) ...\n",
            "Setting up openjdk-8-jdk-headless:amd64 (8u275-b01-0ubuntu1~18.04) ...\n",
            "update-alternatives: using /usr/lib/jvm/java-8-openjdk-amd64/bin/idlj to provide /usr/bin/idlj (idlj) in auto mode\n",
            "update-alternatives: using /usr/lib/jvm/java-8-openjdk-amd64/bin/wsimport to provide /usr/bin/wsimport (wsimport) in auto mode\n",
            "update-alternatives: using /usr/lib/jvm/java-8-openjdk-amd64/bin/jsadebugd to provide /usr/bin/jsadebugd (jsadebugd) in auto mode\n",
            "update-alternatives: using /usr/lib/jvm/java-8-openjdk-amd64/bin/native2ascii to provide /usr/bin/native2ascii (native2ascii) in auto mode\n",
            "update-alternatives: using /usr/lib/jvm/java-8-openjdk-amd64/bin/javah to provide /usr/bin/javah (javah) in auto mode\n",
            "update-alternatives: using /usr/lib/jvm/java-8-openjdk-amd64/bin/clhsdb to provide /usr/bin/clhsdb (clhsdb) in auto mode\n",
            "update-alternatives: using /usr/lib/jvm/java-8-openjdk-amd64/bin/xjc to provide /usr/bin/xjc (xjc) in auto mode\n",
            "update-alternatives: using /usr/lib/jvm/java-8-openjdk-amd64/bin/hsdb to provide /usr/bin/hsdb (hsdb) in auto mode\n",
            "update-alternatives: using /usr/lib/jvm/java-8-openjdk-amd64/bin/schemagen to provide /usr/bin/schemagen (schemagen) in auto mode\n",
            "update-alternatives: using /usr/lib/jvm/java-8-openjdk-amd64/bin/extcheck to provide /usr/bin/extcheck (extcheck) in auto mode\n",
            "update-alternatives: using /usr/lib/jvm/java-8-openjdk-amd64/bin/jhat to provide /usr/bin/jhat (jhat) in auto mode\n",
            "update-alternatives: using /usr/lib/jvm/java-8-openjdk-amd64/bin/wsgen to provide /usr/bin/wsgen (wsgen) in auto mode\n",
            "Setting up x11-utils (7.7+3build1) ...\n",
            "Setting up libgail-common:amd64 (2.24.32-1ubuntu1) ...\n",
            "Setting up libatk-wrapper-java (0.33.3-20ubuntu0.1) ...\n",
            "Setting up libgtk2.0-bin (2.24.32-1ubuntu1) ...\n",
            "Setting up libatk-wrapper-java-jni:amd64 (0.33.3-20ubuntu0.1) ...\n",
            "Setting up openjdk-8-jre:amd64 (8u275-b01-0ubuntu1~18.04) ...\n",
            "update-alternatives: using /usr/lib/jvm/java-8-openjdk-amd64/jre/bin/policytool to provide /usr/bin/policytool (policytool) in auto mode\n",
            "Setting up openjdk-8-jdk:amd64 (8u275-b01-0ubuntu1~18.04) ...\n",
            "update-alternatives: using /usr/lib/jvm/java-8-openjdk-amd64/bin/appletviewer to provide /usr/bin/appletviewer (appletviewer) in auto mode\n",
            "update-alternatives: using /usr/lib/jvm/java-8-openjdk-amd64/bin/jconsole to provide /usr/bin/jconsole (jconsole) in auto mode\n",
            "Processing triggers for man-db (2.8.3-2ubuntu0.1) ...\n",
            "Processing triggers for hicolor-icon-theme (0.17-2) ...\n",
            "Processing triggers for fontconfig (2.12.6-0ubuntu2) ...\n",
            "Processing triggers for mime-support (3.60ubuntu1) ...\n",
            "Processing triggers for libc-bin (2.27-3ubuntu1.2) ...\n",
            "/sbin/ldconfig.real: /usr/local/lib/python3.6/dist-packages/ideep4py/lib/libmkldnn.so.0 is not a symbolic link\n",
            "\n",
            "Collecting JPype1-py3\n",
            "\u001b[?25l  Downloading https://files.pythonhosted.org/packages/9b/81/63f5e4202c598f362ee4684b41890f993d6e58309c5d90703f570ab85f62/JPype1-py3-0.5.5.4.tar.gz (88kB)\n",
            "\u001b[K     |████████████████████████████████| 92kB 7.2MB/s \n",
            "\u001b[?25hBuilding wheels for collected packages: JPype1-py3\n",
            "  Building wheel for JPype1-py3 (setup.py) ... \u001b[?25l\u001b[?25hdone\n",
            "  Created wheel for JPype1-py3: filename=JPype1_py3-0.5.5.4-cp36-cp36m-linux_x86_64.whl size=2677109 sha256=5764230c948c53f87d1f2157256773a0707a5708c4f20d7b46b0211f1adbfc91\n",
            "  Stored in directory: /root/.cache/pip/wheels/52/37/1f/1015d908d12a0e9b239543d031fda0cded9823aa1306939541\n",
            "Successfully built JPype1-py3\n",
            "Installing collected packages: JPype1-py3\n",
            "Successfully installed JPype1-py3-0.5.5.4\n",
            "Collecting konlpy\n",
            "\u001b[?25l  Downloading https://files.pythonhosted.org/packages/85/0e/f385566fec837c0b83f216b2da65db9997b35dd675e107752005b7d392b1/konlpy-0.5.2-py2.py3-none-any.whl (19.4MB)\n",
            "\u001b[K     |████████████████████████████████| 19.4MB 1.3MB/s \n",
            "\u001b[?25hCollecting JPype1>=0.7.0\n",
            "\u001b[?25l  Downloading https://files.pythonhosted.org/packages/b7/21/9e2c0dbf9df856e6392a1aec1d18006c60b175aa4e31d351e8278a8a63c0/JPype1-1.2.0-cp36-cp36m-manylinux2010_x86_64.whl (453kB)\n",
            "\u001b[K     |████████████████████████████████| 460kB 43.9MB/s \n",
            "\u001b[?25hRequirement already satisfied: lxml>=4.1.0 in /usr/local/lib/python3.6/dist-packages (from konlpy) (4.2.6)\n",
            "Collecting colorama\n",
            "  Downloading https://files.pythonhosted.org/packages/44/98/5b86278fbbf250d239ae0ecb724f8572af1c91f4a11edf4d36a206189440/colorama-0.4.4-py2.py3-none-any.whl\n",
            "Collecting beautifulsoup4==4.6.0\n",
            "\u001b[?25l  Downloading https://files.pythonhosted.org/packages/9e/d4/10f46e5cfac773e22707237bfcd51bbffeaf0a576b0a847ec7ab15bd7ace/beautifulsoup4-4.6.0-py3-none-any.whl (86kB)\n",
            "\u001b[K     |████████████████████████████████| 92kB 14.8MB/s \n",
            "\u001b[?25hCollecting tweepy>=3.7.0\n",
            "  Downloading https://files.pythonhosted.org/packages/bb/7c/99d51f80f3b77b107ebae2634108717362c059a41384a1810d13e2429a81/tweepy-3.9.0-py2.py3-none-any.whl\n",
            "Requirement already satisfied: numpy>=1.6 in /usr/local/lib/python3.6/dist-packages (from konlpy) (1.19.4)\n",
            "Requirement already satisfied: typing-extensions; python_version < \"3.8\" in /usr/local/lib/python3.6/dist-packages (from JPype1>=0.7.0->konlpy) (3.7.4.3)\n",
            "Requirement already satisfied: requests-oauthlib>=0.7.0 in /usr/local/lib/python3.6/dist-packages (from tweepy>=3.7.0->konlpy) (1.3.0)\n",
            "Requirement already satisfied: six>=1.10.0 in /usr/local/lib/python3.6/dist-packages (from tweepy>=3.7.0->konlpy) (1.15.0)\n",
            "Requirement already satisfied: requests[socks]>=2.11.1 in /usr/local/lib/python3.6/dist-packages (from tweepy>=3.7.0->konlpy) (2.23.0)\n",
            "Requirement already satisfied: oauthlib>=3.0.0 in /usr/local/lib/python3.6/dist-packages (from requests-oauthlib>=0.7.0->tweepy>=3.7.0->konlpy) (3.1.0)\n",
            "Requirement already satisfied: chardet<4,>=3.0.2 in /usr/local/lib/python3.6/dist-packages (from requests[socks]>=2.11.1->tweepy>=3.7.0->konlpy) (3.0.4)\n",
            "Requirement already satisfied: urllib3!=1.25.0,!=1.25.1,<1.26,>=1.21.1 in /usr/local/lib/python3.6/dist-packages (from requests[socks]>=2.11.1->tweepy>=3.7.0->konlpy) (1.24.3)\n",
            "Requirement already satisfied: certifi>=2017.4.17 in /usr/local/lib/python3.6/dist-packages (from requests[socks]>=2.11.1->tweepy>=3.7.0->konlpy) (2020.12.5)\n",
            "Requirement already satisfied: idna<3,>=2.5 in /usr/local/lib/python3.6/dist-packages (from requests[socks]>=2.11.1->tweepy>=3.7.0->konlpy) (2.10)\n",
            "Requirement already satisfied: PySocks!=1.5.7,>=1.5.6; extra == \"socks\" in /usr/local/lib/python3.6/dist-packages (from requests[socks]>=2.11.1->tweepy>=3.7.0->konlpy) (1.7.1)\n",
            "Installing collected packages: JPype1, colorama, beautifulsoup4, tweepy, konlpy\n",
            "  Found existing installation: beautifulsoup4 4.6.3\n",
            "    Uninstalling beautifulsoup4-4.6.3:\n",
            "      Successfully uninstalled beautifulsoup4-4.6.3\n",
            "  Found existing installation: tweepy 3.6.0\n",
            "    Uninstalling tweepy-3.6.0:\n",
            "      Successfully uninstalled tweepy-3.6.0\n",
            "Successfully installed JPype1-1.2.0 beautifulsoup4-4.6.0 colorama-0.4.4 konlpy-0.5.2 tweepy-3.9.0\n"
          ],
          "name": "stdout"
        }
      ]
    },
    {
      "cell_type": "code",
      "metadata": {
        "id": "CCe3sdl3MsPJ",
        "colab": {
          "base_uri": "https://localhost:8080/"
        },
        "outputId": "afb1483e-c3a7-4493-8c4c-1dc17b28b4b8"
      },
      "source": [
        "import numpy as np\r\n",
        "import pandas as pd\r\n",
        "import matplotlib.pyplot as plt\r\n",
        "import os\r\n",
        "import re\r\n",
        "\r\n",
        "from konlpy.tag import Okt\r\n",
        "\r\n",
        "!wget https://www.dropbox.com/s/k7jzllp6v8nv6wn/ChatbotData.csv"
      ],
      "execution_count": 3,
      "outputs": [
        {
          "output_type": "stream",
          "text": [
            "--2020-12-24 09:48:52--  https://www.dropbox.com/s/k7jzllp6v8nv6wn/ChatbotData.csv\n",
            "Resolving www.dropbox.com (www.dropbox.com)... 162.125.6.18, 2620:100:601c:18::a27d:612\n",
            "Connecting to www.dropbox.com (www.dropbox.com)|162.125.6.18|:443... connected.\n",
            "HTTP request sent, awaiting response... 301 Moved Permanently\n",
            "Location: /s/raw/k7jzllp6v8nv6wn/ChatbotData.csv [following]\n",
            "--2020-12-24 09:48:52--  https://www.dropbox.com/s/raw/k7jzllp6v8nv6wn/ChatbotData.csv\n",
            "Reusing existing connection to www.dropbox.com:443.\n",
            "HTTP request sent, awaiting response... 302 Found\n",
            "Location: https://uc490823da0ccf1cc50437f795fa.dl.dropboxusercontent.com/cd/0/inline/BFoVwxg6xf0RXtUHhageP5vptGGEo8Yv2VS8Ni-5AnAdJxGvPlFOt4zpR2L-7ZniTAY0YBGYJVgCAOjuldTLJwt036LnK4an38DoTtkId3Nx5NuauGOlsv9P97H_b9Ywg7w/file# [following]\n",
            "--2020-12-24 09:48:53--  https://uc490823da0ccf1cc50437f795fa.dl.dropboxusercontent.com/cd/0/inline/BFoVwxg6xf0RXtUHhageP5vptGGEo8Yv2VS8Ni-5AnAdJxGvPlFOt4zpR2L-7ZniTAY0YBGYJVgCAOjuldTLJwt036LnK4an38DoTtkId3Nx5NuauGOlsv9P97H_b9Ywg7w/file\n",
            "Resolving uc490823da0ccf1cc50437f795fa.dl.dropboxusercontent.com (uc490823da0ccf1cc50437f795fa.dl.dropboxusercontent.com)... 162.125.6.15, 2620:100:6019:15::a27d:40f\n",
            "Connecting to uc490823da0ccf1cc50437f795fa.dl.dropboxusercontent.com (uc490823da0ccf1cc50437f795fa.dl.dropboxusercontent.com)|162.125.6.15|:443... connected.\n",
            "HTTP request sent, awaiting response... 200 OK\n",
            "Length: 889842 (869K) [text/plain]\n",
            "Saving to: ‘ChatbotData.csv’\n",
            "\n",
            "ChatbotData.csv     100%[===================>] 868.99K  --.-KB/s    in 0.006s  \n",
            "\n",
            "2020-12-24 09:48:53 (139 MB/s) - ‘ChatbotData.csv’ saved [889842/889842]\n",
            "\n"
          ],
          "name": "stdout"
        }
      ]
    },
    {
      "cell_type": "markdown",
      "metadata": {
        "id": "iz_7C_3tMsXx"
      },
      "source": [
        ""
      ]
    },
    {
      "cell_type": "code",
      "metadata": {
        "id": "OCAa5tZkMsde"
      },
      "source": [
        "# 태그 단어\r\n",
        "PAD = \"<pad>\"   # 패딩\r\n",
        "STA = \"<sos>\"     # 시작\r\n",
        "END = \"<eos>\"       # 끝\r\n",
        "UNK = \"<unk>\"       # 없는 단어(unknown)\r\n",
        "\r\n",
        "# 태그 인덱스\r\n",
        "PAD_INDEX = 0\r\n",
        "STA_INDEX = 1\r\n",
        "END_INDEX = 2\r\n",
        "UNK_INDEX = 3\r\n",
        "\r\n",
        "# 데이터 타입\r\n",
        "ENCODER_INPUT  = 0\r\n",
        "DECODER_INPUT  = 1\r\n",
        "DECODER_TARGET = 2\r\n",
        "\r\n",
        "# 한 문장에서 단어 시퀀스의 최대 개수\r\n",
        "max_sequences = 30\r\n",
        "\r\n",
        "# 임베딩 벡터 차원\r\n",
        "embedding_dim = 100\r\n",
        "\r\n",
        "# LSTM 히든레이어 차원\r\n",
        "lstm_hidden_dim = 128\r\n",
        "\r\n",
        "# 정규 표현식 필터\r\n",
        "RE_FILTER = re.compile(\"[.,!?\\\"':;~()]\")\r\n",
        "\r\n",
        "# 챗봇 데이터 로드\r\n",
        "chatbot_data = pd.read_csv('/content/ChatbotData.csv', encoding='utf-8')\r\n",
        "question, answer = list(chatbot_data['Q']), list(chatbot_data['A'])"
      ],
      "execution_count": 4,
      "outputs": []
    },
    {
      "cell_type": "code",
      "metadata": {
        "id": "qFQnWdcvMrFN",
        "colab": {
          "base_uri": "https://localhost:8080/"
        },
        "outputId": "185c40a0-3588-4d9d-e066-75871b1da1fe"
      },
      "source": [
        "# 데이터 개수\r\n",
        "len(question)"
      ],
      "execution_count": 5,
      "outputs": [
        {
          "output_type": "execute_result",
          "data": {
            "text/plain": [
              "11823"
            ]
          },
          "metadata": {
            "tags": []
          },
          "execution_count": 5
        }
      ]
    },
    {
      "cell_type": "code",
      "metadata": {
        "id": "7LfItPfHpgae",
        "colab": {
          "base_uri": "https://localhost:8080/"
        },
        "outputId": "b2aab2d1-112f-4cf4-e78a-5c796a68f311"
      },
      "source": [
        "# 챗봇 데이터 출력\r\n",
        "for i in range(10):\r\n",
        "    print('Q : ' + question[i])\r\n",
        "    print('A : ' + answer[i])\r\n",
        "    print()"
      ],
      "execution_count": 6,
      "outputs": [
        {
          "output_type": "stream",
          "text": [
            "Q : 12시 땡!\n",
            "A : 하루가 또 가네요.\n",
            "\n",
            "Q : 1지망 학교 떨어졌어\n",
            "A : 위로해 드립니다.\n",
            "\n",
            "Q : 3박4일 놀러가고 싶다\n",
            "A : 여행은 언제나 좋죠.\n",
            "\n",
            "Q : 3박4일 정도 놀러가고 싶다\n",
            "A : 여행은 언제나 좋죠.\n",
            "\n",
            "Q : PPL 심하네\n",
            "A : 눈살이 찌푸려지죠.\n",
            "\n",
            "Q : SD카드 망가졌어\n",
            "A : 다시 새로 사는 게 마음 편해요.\n",
            "\n",
            "Q : SD카드 안돼\n",
            "A : 다시 새로 사는 게 마음 편해요.\n",
            "\n",
            "Q : SNS 맞팔 왜 안하지ㅠㅠ\n",
            "A : 잘 모르고 있을 수도 있어요.\n",
            "\n",
            "Q : SNS 시간낭비인 거 아는데 매일 하는 중\n",
            "A : 시간을 정하고 해보세요.\n",
            "\n",
            "Q : SNS 시간낭비인데 자꾸 보게됨\n",
            "A : 시간을 정하고 해보세요.\n",
            "\n"
          ],
          "name": "stdout"
        }
      ]
    },
    {
      "cell_type": "markdown",
      "metadata": {
        "id": "A0J05aVJqpiZ"
      },
      "source": [
        "### 12.4.2 단어 사전 생성\r\n",
        "\r\n",
        "문장을 먼저 최소 단위인 토큰으로 나누어야 합니다. 한글 문장이라면 보통 KoNLPy를 통해 형태소분석을 적용합니다. Hannanum, Kkma, Komoran, Mecab, Okt(Twitter) 등 여러가지 라이브러리를 동일한 인터페이스로 실행이 가능합니다.\r\n",
        "\r\n",
        "KoNLPy는 자바로 구현이 되어 있습니다. 맥OS와 달리 윈도우 아나콘다는 아래와 같은 작업을 거쳐야 합니다.\r\n",
        "\r\n",
        "< 1. 자바 설치 >\r\n",
        "커맨드창에서 'java -version' 명령어를 실행하여 버전이 1.7 이상이어야 합니다.\r\n",
        "\r\n",
        "< 2. JPype1 설치 >\r\n",
        "파이썬에서 자바를 호출할 수 있는 라이브러리입니다.\r\n",
        "\r\n",
        "< 3. KoNLPy 설치 >\r\n",
        "위의 두 가지가 미리 완료되어 있어야만 가능합니다.\r\n",
        "\r\n",
        "아래 링크에서 좀 더 자세한 방법을 확인하시기 바랍니다.\r\n",
        "-> https://ericnjennifer.github.io/python_visualization/2018/01/21/PythonVisualization_Chapt1.html"
      ]
    },
    {
      "cell_type": "code",
      "metadata": {
        "id": "jvwHVMBKphwd"
      },
      "source": [
        "# 형태소분석 함수\r\n",
        "def pos_tag(sentences):\r\n",
        "    \r\n",
        "    # KoNLPy 형태소분석기 설정\r\n",
        "    tagger = Okt()\r\n",
        "    \r\n",
        "    # 문장 품사 변수 초기화\r\n",
        "    sentences_pos = []\r\n",
        "    \r\n",
        "    # 모든 문장 반복\r\n",
        "    for sentence in sentences:\r\n",
        "        # 특수기호 제거\r\n",
        "        sentence = re.sub(RE_FILTER, \"\", sentence)\r\n",
        "        \r\n",
        "        # 배열인 형태소분석의 출력을 띄어쓰기로 구분하여 붙임\r\n",
        "        sentence = \" \".join(tagger.morphs(sentence))\r\n",
        "        sentences_pos.append(sentence)\r\n",
        "        \r\n",
        "    return sentences_pos"
      ],
      "execution_count": 7,
      "outputs": []
    },
    {
      "cell_type": "code",
      "metadata": {
        "id": "isMf4nCCpmld",
        "colab": {
          "base_uri": "https://localhost:8080/"
        },
        "outputId": "4b65a571-fb0e-4007-805a-1ea6f5b165bc"
      },
      "source": [
        "# 형태소분석 수행\r\n",
        "question = pos_tag(question)\r\n",
        "answer = pos_tag(answer)\r\n",
        "\r\n",
        "# 형태소분석으로 변환된 챗봇 데이터 출력\r\n",
        "for i in range(10):\r\n",
        "    print('Q : ' + question[i])\r\n",
        "    print('A : ' + answer[i])\r\n",
        "    print()"
      ],
      "execution_count": 8,
      "outputs": [
        {
          "output_type": "stream",
          "text": [
            "Q : 12시 땡\n",
            "A : 하루 가 또 가네요\n",
            "\n",
            "Q : 1 지망 학교 떨어졌어\n",
            "A : 위로 해 드립니다\n",
            "\n",
            "Q : 3 박 4일 놀러 가고 싶다\n",
            "A : 여행 은 언제나 좋죠\n",
            "\n",
            "Q : 3 박 4일 정도 놀러 가고 싶다\n",
            "A : 여행 은 언제나 좋죠\n",
            "\n",
            "Q : PPL 심하네\n",
            "A : 눈살 이 찌푸려지죠\n",
            "\n",
            "Q : SD 카드 망가졌어\n",
            "A : 다시 새로 사는 게 마음 편해요\n",
            "\n",
            "Q : SD 카드 안 돼\n",
            "A : 다시 새로 사는 게 마음 편해요\n",
            "\n",
            "Q : SNS 맞팔 왜 안 하지 ㅠㅠ\n",
            "A : 잘 모르고 있을 수도 있어요\n",
            "\n",
            "Q : SNS 시간 낭비 인 거 아는데 매일 하는 중\n",
            "A : 시간 을 정 하고 해보세요\n",
            "\n",
            "Q : SNS 시간 낭비 인데 자꾸 보게 됨\n",
            "A : 시간 을 정 하고 해보세요\n",
            "\n"
          ],
          "name": "stdout"
        }
      ]
    },
    {
      "cell_type": "markdown",
      "metadata": {
        "id": "nMZLieR6rHdx"
      },
      "source": [
        "이제 질문과 대답 문장들을 합쳐서 전체 단어 사전을 만듭니다. 자연어처리에서는 항상 이렇게 단어를 인덱스에 따라 정리를 해야합니다. 그래야지 문장을 인덱스 배열로 바꿔서 임베딩 레이어에 넣을 수 있습니다. 또한 모델의 출력에서 나온 인덱스를 다시 단어로 변환하는데도 필요합니다."
      ]
    },
    {
      "cell_type": "code",
      "metadata": {
        "id": "tx61QK4_rAd8"
      },
      "source": [
        "# 질문과 대답 문장들을 하나로 합침\r\n",
        "sentences = []\r\n",
        "sentences.extend(question)\r\n",
        "sentences.extend(answer)\r\n",
        "\r\n",
        "words = []\r\n",
        "\r\n",
        "# 단어들의 배열 생성\r\n",
        "for sentence in sentences:\r\n",
        "    for word in sentence.split():\r\n",
        "        words.append(word)\r\n",
        "\r\n",
        "# 길이가 0인 단어는 삭제\r\n",
        "words = [word for word in words if len(word) > 0]\r\n",
        "\r\n",
        "# 중복된 단어 삭제\r\n",
        "words = list(set(words))\r\n",
        "\r\n",
        "# 제일 앞에 태그 단어 삽입\r\n",
        "words[:0] = [PAD, STA, END, UNK]"
      ],
      "execution_count": 9,
      "outputs": []
    },
    {
      "cell_type": "code",
      "metadata": {
        "id": "IsGNxPb2rSDL",
        "colab": {
          "base_uri": "https://localhost:8080/"
        },
        "outputId": "2b2830f2-dc70-4b7c-d1bd-0a552fd7d877"
      },
      "source": [
        "# 단어 개수\r\n",
        "len(words)"
      ],
      "execution_count": 10,
      "outputs": [
        {
          "output_type": "execute_result",
          "data": {
            "text/plain": [
              "12656"
            ]
          },
          "metadata": {
            "tags": []
          },
          "execution_count": 10
        }
      ]
    },
    {
      "cell_type": "code",
      "metadata": {
        "id": "ssaAo7sGramj",
        "colab": {
          "base_uri": "https://localhost:8080/"
        },
        "outputId": "8cae59ad-868d-4e90-9c7a-cff7dab9c2e9"
      },
      "source": [
        "# 단어 출력\r\n",
        "words[:20]"
      ],
      "execution_count": 11,
      "outputs": [
        {
          "output_type": "execute_result",
          "data": {
            "text/plain": [
              "['<pad>',\n",
              " '<sos>',\n",
              " '<eos>',\n",
              " '<unk>',\n",
              " '헤어짐이',\n",
              " '드릴게요',\n",
              " '봐야겠다',\n",
              " '죽진',\n",
              " '놓고',\n",
              " '운명',\n",
              " '가르쳐',\n",
              " '없게',\n",
              " '길다',\n",
              " '100일',\n",
              " '똑똑해',\n",
              " '원망하게',\n",
              " '솔직했을',\n",
              " '학교폭력',\n",
              " '아저씨',\n",
              " '헤아리지']"
            ]
          },
          "metadata": {
            "tags": []
          },
          "execution_count": 11
        }
      ]
    },
    {
      "cell_type": "code",
      "metadata": {
        "id": "t1Xqw9-0rb-o"
      },
      "source": [
        "# 단어와 인덱스의 딕셔너리 생성\r\n",
        "vocab_size = 10000\r\n",
        "word_to_index = {word: index for index, word in enumerate(words) if index <= vocab_size}\r\n",
        "index_to_word = {index: word for index, word in enumerate(words) if index <= vocab_size}"
      ],
      "execution_count": 116,
      "outputs": []
    },
    {
      "cell_type": "code",
      "metadata": {
        "id": "3b5L3GlgrhSS",
        "colab": {
          "base_uri": "https://localhost:8080/"
        },
        "outputId": "a32f3419-2412-430c-fda2-a4fd933740c3"
      },
      "source": [
        "# 단어 -> 인덱스\r\n",
        "# 문장을 인덱스로 변환하여 모델 입력으로 사용\r\n",
        "dict(list(word_to_index.items())[:20])"
      ],
      "execution_count": 117,
      "outputs": [
        {
          "output_type": "execute_result",
          "data": {
            "text/plain": [
              "{'100일': 13,\n",
              " '<eos>': 2,\n",
              " '<pad>': 0,\n",
              " '<sos>': 1,\n",
              " '<unk>': 3,\n",
              " '가르쳐': 10,\n",
              " '길다': 12,\n",
              " '놓고': 8,\n",
              " '드릴게요': 5,\n",
              " '똑똑해': 14,\n",
              " '봐야겠다': 6,\n",
              " '솔직했을': 16,\n",
              " '아저씨': 18,\n",
              " '없게': 11,\n",
              " '운명': 9,\n",
              " '원망하게': 15,\n",
              " '죽진': 7,\n",
              " '학교폭력': 17,\n",
              " '헤아리지': 19,\n",
              " '헤어짐이': 4}"
            ]
          },
          "metadata": {
            "tags": []
          },
          "execution_count": 117
        }
      ]
    },
    {
      "cell_type": "code",
      "metadata": {
        "id": "NGhB0Gg7riio",
        "colab": {
          "base_uri": "https://localhost:8080/"
        },
        "outputId": "385417ef-117f-4035-8fdf-83ed51712fc8"
      },
      "source": [
        "# 인덱스 -> 단어\r\n",
        "# 모델의 예측 결과인 인덱스를 문장으로 변환시 사용\r\n",
        "dict(list(index_to_word.items())[:20])"
      ],
      "execution_count": 118,
      "outputs": [
        {
          "output_type": "execute_result",
          "data": {
            "text/plain": [
              "{0: '<pad>',\n",
              " 1: '<sos>',\n",
              " 2: '<eos>',\n",
              " 3: '<unk>',\n",
              " 4: '헤어짐이',\n",
              " 5: '드릴게요',\n",
              " 6: '봐야겠다',\n",
              " 7: '죽진',\n",
              " 8: '놓고',\n",
              " 9: '운명',\n",
              " 10: '가르쳐',\n",
              " 11: '없게',\n",
              " 12: '길다',\n",
              " 13: '100일',\n",
              " 14: '똑똑해',\n",
              " 15: '원망하게',\n",
              " 16: '솔직했을',\n",
              " 17: '학교폭력',\n",
              " 18: '아저씨',\n",
              " 19: '헤아리지'}"
            ]
          },
          "metadata": {
            "tags": []
          },
          "execution_count": 118
        }
      ]
    },
    {
      "cell_type": "markdown",
      "metadata": {
        "id": "YjN1j77_rpj-"
      },
      "source": [
        "### 12.4.3 전처리\r\n",
        "\r\n",
        "Seq2Seq에서는 학습시 다음과 같이 총 3개의 데이터가 필요합니다.\r\n",
        "\r\n",
        "인코더 입력 : 12시 땡\r\n",
        "디코더 입력 : sos 하루 가 또 가네요\r\n",
        "디코더 출력 : 하루 가 또 가네요 eos\r\n",
        "\r\n",
        "원래 Seq2Seq는 디코더의 현재 출력이 디코더의 다음 입력으로 들어갑니다. 다만 학습에서는 굳이 이렇게 하지 않고 디코더 입력과 디코더 출력의 데이터를 각각 만듭니다.\r\n",
        "\r\n",
        "그러나 예측시에는 이런 방식이 불가능합니다. 출력값을 미리 알지 못하기 때문에, 디코더 입력을 사전에 생성할 수가 없습니다. 이런 문제를 해결하기 위해 훈련 모델과 예측 모델을 따로 구성해야 합니다. 모델 생성 부분에서 다시 자세히 설명을 드리겠습니다."
      ]
    },
    {
      "cell_type": "code",
      "metadata": {
        "id": "srK7sDt8rmnt"
      },
      "source": [
        "# 문장을 인덱스로 변환\r\n",
        "def convert_text_to_index(sentences, vocabulary): \r\n",
        "    sentences_index = []\r\n",
        "    # 모든 문장에 대해서 반복\r\n",
        "    for sentence in sentences:\r\n",
        "        sentence_index = []\r\n",
        "        sentence_index.extend([vocabulary[STA]])\r\n",
        "        for word in sentence.split():\r\n",
        "            if vocabulary.get(word) is not None:\r\n",
        "                # 사전에 있는 단어면 해당 인덱스를 추가\r\n",
        "                sentence_index.extend([vocabulary[word]])\r\n",
        "            else:\r\n",
        "                # 사전에 없는 단어면 OOV 인덱스를 추가\r\n",
        "                sentence_index.extend([vocabulary[UNK]])\r\n",
        "        if len(sentence_index) >= max_sequences:\r\n",
        "            sentence_index = sentence_index[:max_sequences-1] + [vocabulary[END]]\r\n",
        "        else:\r\n",
        "            sentence_index += [vocabulary[END]]\r\n",
        "        # 문장의 인덱스 배열을 추가\r\n",
        "        sentences_index.append(sentence_index)\r\n",
        "\r\n",
        "    return sentences_index"
      ],
      "execution_count": 119,
      "outputs": []
    },
    {
      "cell_type": "code",
      "metadata": {
        "id": "NEPdykogrw63",
        "colab": {
          "base_uri": "https://localhost:8080/"
        },
        "outputId": "c00e394d-fd65-45f6-b9d3-a3b2a51bf204"
      },
      "source": [
        "# 인코더 입력 인덱스 변환\r\n",
        "enc_list = convert_text_to_index(question, word_to_index)\r\n",
        "\r\n",
        "# 첫 번째 인코더 입력 출력 (12시 땡)\r\n",
        "print(enc_list[0])\r\n",
        "for idx in enc_list[0]:\r\n",
        "    print(index_to_word[idx],end=' ')"
      ],
      "execution_count": 120,
      "outputs": [
        {
          "output_type": "stream",
          "text": [
            "[1, 8990, 3433, 2]\n",
            "<sos> 12시 땡 <eos> "
          ],
          "name": "stdout"
        }
      ]
    },
    {
      "cell_type": "code",
      "metadata": {
        "id": "MJfbfKFSry_i",
        "colab": {
          "base_uri": "https://localhost:8080/"
        },
        "outputId": "266e35bb-d1c6-4618-ea1c-189097829458"
      },
      "source": [
        "# 디코더 입력 인덱스 변환\r\n",
        "dec_list = convert_text_to_index(answer, word_to_index)\r\n",
        "\r\n",
        "# 첫 번째 디코더 입력 출력 (START 하루 가 또 가네요)\r\n",
        "print(dec_list[0])\r\n",
        "for idx in dec_list[0]:\r\n",
        "    print(index_to_word[idx],end=' ')"
      ],
      "execution_count": 121,
      "outputs": [
        {
          "output_type": "stream",
          "text": [
            "[1, 7724, 3, 2002, 5245, 2]\n",
            "<sos> 하루 <unk> 또 가네요 <eos> "
          ],
          "name": "stdout"
        }
      ]
    },
    {
      "cell_type": "code",
      "metadata": {
        "id": "Af-9zWV1s-Lu"
      },
      "source": [
        "MAX_LENGTH=30\r\n",
        "class TextDataset(torch.utils.data.Dataset):\r\n",
        "    def __init__(self, enc_list, dec_list, max_length=MAX_LENGTH):\r\n",
        "        self.enc_list = enc_list\r\n",
        "        self.dec_list = dec_list\r\n",
        "    def __len__(self):\r\n",
        "        assert len(self.enc_list) == len(self.dec_list)\r\n",
        "        return len(self.enc_list)\r\n",
        "    def __getitem__(self, idx):\r\n",
        "        return self.enc_list[idx][1:MAX_LENGTH], self.dec_list[idx][1:MAX_LENGTH]"
      ],
      "execution_count": 144,
      "outputs": []
    },
    {
      "cell_type": "code",
      "metadata": {
        "id": "-6-tVsfXs-OA",
        "colab": {
          "base_uri": "https://localhost:8080/"
        },
        "outputId": "dd5f4e47-0704-47a5-f301-90c0ea2f41a4"
      },
      "source": [
        "DataSet = TextDataset(enc_list, dec_list)\r\n",
        "DataSet[0]"
      ],
      "execution_count": 145,
      "outputs": [
        {
          "output_type": "execute_result",
          "data": {
            "text/plain": [
              "([8990, 3433, 2], [7724, 3, 2002, 5245, 2])"
            ]
          },
          "metadata": {
            "tags": []
          },
          "execution_count": 145
        }
      ]
    },
    {
      "cell_type": "code",
      "metadata": {
        "id": "7wmjvtKFFQR6"
      },
      "source": [
        "def collate_fn(inputs):\r\n",
        "    enc_input = [torch.tensor(x[0][1:]) for x in inputs]\r\n",
        "    dec_input = [torch.tensor(x[1]) for x in inputs]\r\n",
        "    enc_input = torch.nn.utils.rnn.pad_sequence(enc_input, padding_value=0)\r\n",
        "    dec_input = torch.nn.utils.rnn.pad_sequence(dec_input, padding_value=0)\r\n",
        "\r\n",
        "\r\n",
        "    lengths = torch.tensor([sum(x!=0) for x in torch.transpose(enc_input,1,0)])\r\n",
        "    mask = dec_input!=0\r\n",
        "    max_target_length = dec_input.size(0)\r\n",
        "    batch = [enc_input, dec_input, lengths, mask, max_target_length]\r\n",
        "    return batch"
      ],
      "execution_count": 146,
      "outputs": []
    },
    {
      "cell_type": "code",
      "metadata": {
        "id": "UFs9q1h1Lwe6"
      },
      "source": [
        ""
      ],
      "execution_count": 146,
      "outputs": []
    },
    {
      "cell_type": "code",
      "metadata": {
        "id": "zHDgtciDs-QE"
      },
      "source": [
        "train_ratio = 0.7\r\n",
        "train_len = int(len(DataSet)*train_ratio)\r\n",
        "val_len = len(DataSet)-train_len\r\n",
        "\r\n",
        "batch_size=4\r\n",
        "\r\n",
        "train_set,val_set = torch.utils.data.random_split(DataSet,[train_len, val_len])\r\n",
        "train_loader = torch.utils.data.DataLoader(train_set, batch_size=batch_size,collate_fn=collate_fn)\r\n",
        "val_loader = torch.utils.data.DataLoader(val_set, batch_size=batch_size,collate_fn=collate_fn)"
      ],
      "execution_count": 147,
      "outputs": []
    },
    {
      "cell_type": "code",
      "metadata": {
        "colab": {
          "base_uri": "https://localhost:8080/"
        },
        "id": "ZfsshIpVFvre",
        "outputId": "8c13e201-604f-4370-c72b-79f43dd52ec1"
      },
      "source": [
        "next(iter(train_loader))"
      ],
      "execution_count": 148,
      "outputs": [
        {
          "output_type": "execute_result",
          "data": {
            "text/plain": [
              "[tensor([[   3,    3, 8993,  915],\n",
              "         [   3,    3, 9009,    3],\n",
              "         [   3,  836,    2, 6371],\n",
              "         [1738, 3579,    0,    2],\n",
              "         [   2,    3,    0,    0],\n",
              "         [   0, 5661,    0,    0],\n",
              "         [   0,    2,    0,    0]]), tensor([[   3, 8772, 7902, 7058],\n",
              "         [1981,    3,    3, 3566],\n",
              "         [ 398,    3,    2, 8325],\n",
              "         [3579,  836,    0, 3579],\n",
              "         [8224, 3579,    0, 2318],\n",
              "         [2318,    3,    0, 8959],\n",
              "         [   3,    2,    0,    2],\n",
              "         [   2,    0,    0,    0]]), tensor([5, 7, 3, 4]), tensor([[ True,  True,  True,  True],\n",
              "         [ True,  True,  True,  True],\n",
              "         [ True,  True,  True,  True],\n",
              "         [ True,  True, False,  True],\n",
              "         [ True,  True, False,  True],\n",
              "         [ True,  True, False,  True],\n",
              "         [ True,  True, False,  True],\n",
              "         [ True, False, False, False]]), 8]"
            ]
          },
          "metadata": {
            "tags": []
          },
          "execution_count": 148
        }
      ]
    },
    {
      "cell_type": "code",
      "metadata": {
        "id": "IJ9_7FBRs-WY"
      },
      "source": [
        "class EncoderRNN(nn.Module):\r\n",
        "    def __init__(self, hidden_size, embedding, n_layers=1, dropout=0):\r\n",
        "        super(EncoderRNN, self).__init__()\r\n",
        "        self.n_layers = n_layers\r\n",
        "        self.hidden_size = hidden_size\r\n",
        "        self.embedding = embedding\r\n",
        "\r\n",
        "        # Initialize GRU; the input_size and hidden_size params are both set to 'hidden_size'\r\n",
        "        #   because our input size is a word embedding with number of features == hidden_size\r\n",
        "        self.gru = nn.GRU(hidden_size, hidden_size, n_layers,\r\n",
        "                          dropout=(0 if n_layers == 1 else dropout), bidirectional=True)\r\n",
        "\r\n",
        "    def forward(self, input_seq, input_lengths, hidden=None):\r\n",
        "        # Convert word indexes to embeddings\r\n",
        "        embedded = self.embedding(input_seq)\r\n",
        "        # Pack padded batch of sequences for RNN module\r\n",
        "        packed = nn.utils.rnn.pack_padded_sequence(embedded, input_lengths)\r\n",
        "        # Forward pass through GRU\r\n",
        "        outputs, hidden = self.gru(packed, hidden)\r\n",
        "        # Unpack padding\r\n",
        "        outputs, _ = nn.utils.rnn.pad_packed_sequence(outputs)\r\n",
        "        # Sum bidirectional GRU outputs\r\n",
        "        outputs = outputs[:, :, :self.hidden_size] + outputs[:, : ,self.hidden_size:]\r\n",
        "        # Return output and final hidden state\r\n",
        "        return outputs, hidden"
      ],
      "execution_count": 149,
      "outputs": []
    },
    {
      "cell_type": "code",
      "metadata": {
        "id": "-e3GZAEiN5FM"
      },
      "source": [
        "# Luong attention layer\r\n",
        "class Attn(nn.Module):\r\n",
        "    def __init__(self, method, hidden_size):\r\n",
        "        super(Attn, self).__init__()\r\n",
        "        self.method = method\r\n",
        "        if self.method not in ['dot', 'general', 'concat']:\r\n",
        "            raise ValueError(self.method, \"is not an appropriate attention method.\")\r\n",
        "        self.hidden_size = hidden_size\r\n",
        "        if self.method == 'general':\r\n",
        "            self.attn = nn.Linear(self.hidden_size, hidden_size)\r\n",
        "        elif self.method == 'concat':\r\n",
        "            self.attn = nn.Linear(self.hidden_size * 2, hidden_size)\r\n",
        "            self.v = nn.Parameter(torch.FloatTensor(hidden_size))\r\n",
        "\r\n",
        "    def dot_score(self, hidden, encoder_output):\r\n",
        "        return torch.sum(hidden * encoder_output, dim=2)\r\n",
        "\r\n",
        "    def general_score(self, hidden, encoder_output):\r\n",
        "        energy = self.attn(encoder_output)\r\n",
        "        return torch.sum(hidden * energy, dim=2)\r\n",
        "\r\n",
        "    def concat_score(self, hidden, encoder_output):\r\n",
        "        energy = self.attn(torch.cat((hidden.expand(encoder_output.size(0), -1, -1), encoder_output), 2)).tanh()\r\n",
        "        return torch.sum(self.v * energy, dim=2)\r\n",
        "\r\n",
        "    def forward(self, hidden, encoder_outputs):\r\n",
        "        # Calculate the attention weights (energies) based on the given method\r\n",
        "        if self.method == 'general':\r\n",
        "            attn_energies = self.general_score(hidden, encoder_outputs)\r\n",
        "        elif self.method == 'concat':\r\n",
        "            attn_energies = self.concat_score(hidden, encoder_outputs)\r\n",
        "        elif self.method == 'dot':\r\n",
        "            attn_energies = self.dot_score(hidden, encoder_outputs)\r\n",
        "\r\n",
        "        # Transpose max_length and batch_size dimensions\r\n",
        "        attn_energies = attn_energies.t()\r\n",
        "\r\n",
        "        # Return the softmax normalized probability scores (with added dimension)\r\n",
        "        return F.softmax(attn_energies, dim=1).unsqueeze(1)"
      ],
      "execution_count": 150,
      "outputs": []
    },
    {
      "cell_type": "code",
      "metadata": {
        "id": "vZCG4tdrs-Ye"
      },
      "source": [
        "class LuongAttnDecoderRNN(nn.Module):\r\n",
        "    def __init__(self, attn_model, embedding, hidden_size, output_size, n_layers=1, dropout=0.1):\r\n",
        "        super(LuongAttnDecoderRNN, self).__init__()\r\n",
        "\r\n",
        "        # Keep for reference\r\n",
        "        self.attn_model = attn_model\r\n",
        "        self.hidden_size = hidden_size\r\n",
        "        self.output_size = output_size\r\n",
        "        self.n_layers = n_layers\r\n",
        "        self.dropout = dropout\r\n",
        "\r\n",
        "        # Define layers\r\n",
        "        self.embedding = embedding\r\n",
        "        self.embedding_dropout = nn.Dropout(dropout)\r\n",
        "        self.gru = nn.GRU(hidden_size, hidden_size, n_layers, dropout=(0 if n_layers == 1 else dropout))\r\n",
        "        self.concat = nn.Linear(hidden_size * 2, hidden_size)\r\n",
        "        self.out = nn.Linear(hidden_size, output_size)\r\n",
        "\r\n",
        "        self.attn = Attn(attn_model, hidden_size)\r\n",
        "\r\n",
        "    def forward(self, input_step, last_hidden, encoder_outputs):\r\n",
        "        # Note: we run this one step (word) at a time\r\n",
        "        # Get embedding of current input word\r\n",
        "        embedded = self.embedding(input_step)\r\n",
        "        embedded = self.embedding_dropout(embedded)\r\n",
        "        # Forward through unidirectional GRU\r\n",
        "        rnn_output, hidden = self.gru(embedded, last_hidden)\r\n",
        "        # Calculate attention weights from the current GRU output\r\n",
        "        attn_weights = self.attn(rnn_output, encoder_outputs)\r\n",
        "        # Multiply attention weights to encoder outputs to get new \"weighted sum\" context vector\r\n",
        "        context = attn_weights.bmm(encoder_outputs.transpose(0, 1))\r\n",
        "        # Concatenate weighted context vector and GRU output using Luong eq. 5\r\n",
        "        rnn_output = rnn_output.squeeze(0)\r\n",
        "        context = context.squeeze(1)\r\n",
        "        concat_input = torch.cat((rnn_output, context), 1)\r\n",
        "        concat_output = torch.tanh(self.concat(concat_input))\r\n",
        "        # Predict next word using Luong eq. 6\r\n",
        "        output = self.out(concat_output)\r\n",
        "        output = F.softmax(output, dim=1)\r\n",
        "        # Return output and final hidden state\r\n",
        "        return output, hidden"
      ],
      "execution_count": 151,
      "outputs": []
    },
    {
      "cell_type": "code",
      "metadata": {
        "id": "3RZpY0HRODKX"
      },
      "source": [
        "def maskNLLLoss(inp, target, mask):\r\n",
        "    nTotal = mask.sum()\r\n",
        "    crossEntropy = -torch.log(torch.gather(inp, 1, target.view(-1, 1)).squeeze(1))\r\n",
        "    loss = crossEntropy.masked_select(mask).mean()\r\n",
        "    loss = loss.to(device)\r\n",
        "    return loss, nTotal.item()"
      ],
      "execution_count": 152,
      "outputs": []
    },
    {
      "cell_type": "code",
      "metadata": {
        "id": "Sm_hW6GPvsJM"
      },
      "source": [
        ""
      ],
      "execution_count": null,
      "outputs": []
    }
  ]
}